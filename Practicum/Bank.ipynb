{
 "cells": [
  {
   "cell_type": "markdown",
   "metadata": {
    "toc": true
   },
   "source": [
    "<h1>Содержание<span class=\"tocSkip\"></span></h1>\n",
    "<div class=\"toc\"><ul class=\"toc-item\"><li><span><a href=\"#Изучение-данных\" data-toc-modified-id=\"Изучение-данных-1\"><span class=\"toc-item-num\">1&nbsp;&nbsp;</span>Изучение данных</a></span></li><li><span><a href=\"#Предобработка-данных,-анализ-взаимосвязей\" data-toc-modified-id=\"Предобработка-данных,-анализ-взаимосвязей-2\"><span class=\"toc-item-num\">2&nbsp;&nbsp;</span>Предобработка данных, анализ взаимосвязей</a></span><ul class=\"toc-item\"><li><span><a href=\"#Стиль-колонок,-дубликаты\" data-toc-modified-id=\"Стиль-колонок,-дубликаты-2.1\"><span class=\"toc-item-num\">2.1&nbsp;&nbsp;</span>Стиль колонок, дубликаты</a></span></li><li><span><a href=\"#Определение-пропусков\" data-toc-modified-id=\"Определение-пропусков-2.2\"><span class=\"toc-item-num\">2.2&nbsp;&nbsp;</span>Определение пропусков</a></span></li><li><span><a href=\"#OHE\" data-toc-modified-id=\"OHE-2.3\"><span class=\"toc-item-num\">2.3&nbsp;&nbsp;</span>OHE</a></span></li><li><span><a href=\"#Разделение-на-выборки\" data-toc-modified-id=\"Разделение-на-выборки-2.4\"><span class=\"toc-item-num\">2.4&nbsp;&nbsp;</span>Разделение на выборки</a></span></li><li><span><a href=\"#Определение-взаимосвязей-и-важных-признаков\" data-toc-modified-id=\"Определение-взаимосвязей-и-важных-признаков-2.5\"><span class=\"toc-item-num\">2.5&nbsp;&nbsp;</span>Определение взаимосвязей и важных признаков</a></span></li><li><span><a href=\"#Баланс-данных\" data-toc-modified-id=\"Баланс-данных-2.6\"><span class=\"toc-item-num\">2.6&nbsp;&nbsp;</span>Баланс данных</a></span></li><li><span><a href=\"#Стандартизация-данных\" data-toc-modified-id=\"Стандартизация-данных-2.7\"><span class=\"toc-item-num\">2.7&nbsp;&nbsp;</span>Стандартизация данных</a></span></li></ul></li><li><span><a href=\"#Исследование-моделей-с-учетом-дисбаланса-и-без\" data-toc-modified-id=\"Исследование-моделей-с-учетом-дисбаланса-и-без-3\"><span class=\"toc-item-num\">3&nbsp;&nbsp;</span>Исследование моделей с учетом дисбаланса и без</a></span><ul class=\"toc-item\"><li><span><a href=\"#Бейзлайн\" data-toc-modified-id=\"Бейзлайн-3.1\"><span class=\"toc-item-num\">3.1&nbsp;&nbsp;</span>Бейзлайн</a></span><ul class=\"toc-item\"><li><span><a href=\"#Логическая-регрессия\" data-toc-modified-id=\"Логическая-регрессия-3.1.1\"><span class=\"toc-item-num\">3.1.1&nbsp;&nbsp;</span>Логическая регрессия</a></span><ul class=\"toc-item\"><li><span><a href=\"#F1-мера\" data-toc-modified-id=\"F1-мера-3.1.1.1\"><span class=\"toc-item-num\">3.1.1.1&nbsp;&nbsp;</span>F1-мера</a></span></li><li><span><a href=\"#ROC-curve,-AUC\" data-toc-modified-id=\"ROC-curve,-AUC-3.1.1.2\"><span class=\"toc-item-num\">3.1.1.2&nbsp;&nbsp;</span>ROC-curve, AUC</a></span></li></ul></li><li><span><a href=\"#Случайный-лес\" data-toc-modified-id=\"Случайный-лес-3.1.2\"><span class=\"toc-item-num\">3.1.2&nbsp;&nbsp;</span>Случайный лес</a></span><ul class=\"toc-item\"><li><span><a href=\"#F1-мера\" data-toc-modified-id=\"F1-мера-3.1.2.1\"><span class=\"toc-item-num\">3.1.2.1&nbsp;&nbsp;</span>F1-мера</a></span></li><li><span><a href=\"#ROC-curve,-AUC\" data-toc-modified-id=\"ROC-curve,-AUC-3.1.2.2\"><span class=\"toc-item-num\">3.1.2.2&nbsp;&nbsp;</span>ROC-curve, AUC</a></span></li></ul></li></ul></li><li><span><a href=\"#Учет-дисбаланса\" data-toc-modified-id=\"Учет-дисбаланса-3.2\"><span class=\"toc-item-num\">3.2&nbsp;&nbsp;</span>Учет дисбаланса</a></span><ul class=\"toc-item\"><li><span><a href=\"#Логическая-регрессия\" data-toc-modified-id=\"Логическая-регрессия-3.2.1\"><span class=\"toc-item-num\">3.2.1&nbsp;&nbsp;</span>Логическая регрессия</a></span><ul class=\"toc-item\"><li><span><a href=\"#F1-мера\" data-toc-modified-id=\"F1-мера-3.2.1.1\"><span class=\"toc-item-num\">3.2.1.1&nbsp;&nbsp;</span>F1-мера</a></span></li><li><span><a href=\"#ROC-curve,-AUC\" data-toc-modified-id=\"ROC-curve,-AUC-3.2.1.2\"><span class=\"toc-item-num\">3.2.1.2&nbsp;&nbsp;</span>ROC-curve, AUC</a></span></li></ul></li><li><span><a href=\"#Случайный-лес\" data-toc-modified-id=\"Случайный-лес-3.2.2\"><span class=\"toc-item-num\">3.2.2&nbsp;&nbsp;</span>Случайный лес</a></span><ul class=\"toc-item\"><li><span><a href=\"#F1-мера\" data-toc-modified-id=\"F1-мера-3.2.2.1\"><span class=\"toc-item-num\">3.2.2.1&nbsp;&nbsp;</span>F1-мера</a></span></li><li><span><a href=\"#ROC-curve,-AUC\" data-toc-modified-id=\"ROC-curve,-AUC-3.2.2.2\"><span class=\"toc-item-num\">3.2.2.2&nbsp;&nbsp;</span>ROC-curve, AUC</a></span></li></ul></li></ul></li><li><span><a href=\"#Финальная-таблица\" data-toc-modified-id=\"Финальная-таблица-3.3\"><span class=\"toc-item-num\">3.3&nbsp;&nbsp;</span>Финальная таблица</a></span></li></ul></li><li><span><a href=\"#Тестирование-модели\" data-toc-modified-id=\"Тестирование-модели-4\"><span class=\"toc-item-num\">4&nbsp;&nbsp;</span>Тестирование модели</a></span></li><li><span><a href=\"#Вывод\" data-toc-modified-id=\"Вывод-5\"><span class=\"toc-item-num\">5&nbsp;&nbsp;</span>Вывод</a></span></li><li><span><a href=\"#Чек-лист-готовности-проекта\" data-toc-modified-id=\"Чек-лист-готовности-проекта-6\"><span class=\"toc-item-num\">6&nbsp;&nbsp;</span>Чек-лист готовности проекта</a></span></li></ul></div>"
   ]
  },
  {
   "cell_type": "markdown",
   "metadata": {},
   "source": [
    "# Исследование оттока клиентов"
   ]
  },
  {
   "cell_type": "markdown",
   "metadata": {},
   "source": [
    "Из «Бета-Банка» стали уходить клиенты. Каждый месяц. Немного, но заметно. Банковские маркетологи посчитали: сохранять текущих клиентов дешевле, чем привлекать новых. Вам предоставлены исторические данные о поведении клиентов и расторжении договоров с банком.\n",
    "\n",
    "**Цель исследования** — нужно спрогнозировать, уйдёт клиент из банка в ближайшее время или нет, также построить модель с предельно большим значением *F1*-меры.\n",
    "\n",
    "**Ход исследования**\n",
    "\n",
    "О качестве данных известно, что, как минимум, не требуется предобработка, однако, все равно проверим повторно.\n",
    "\n",
    "Таким образом, исследование пройдёт в три этапа:\n",
    "\n",
    "1. Обзор данных.\n",
    "2. Предобработка данных.\n",
    "3. Анализ."
   ]
  },
  {
   "cell_type": "markdown",
   "metadata": {},
   "source": [
    "## Изучение данных"
   ]
  },
  {
   "cell_type": "code",
   "execution_count": 1,
   "metadata": {},
   "outputs": [
    {
     "name": "stdout",
     "output_type": "stream",
     "text": [
      "Requirement already satisfied: imbalanced-learn in /opt/conda/lib/python3.9/site-packages (0.9.1)\n",
      "Requirement already satisfied: joblib>=1.0.0 in /opt/conda/lib/python3.9/site-packages (from imbalanced-learn) (1.1.0)\n",
      "Requirement already satisfied: threadpoolctl>=2.0.0 in /opt/conda/lib/python3.9/site-packages (from imbalanced-learn) (3.1.0)\n",
      "Requirement already satisfied: scikit-learn>=1.1.0 in /opt/conda/lib/python3.9/site-packages (from imbalanced-learn) (1.1.2)\n",
      "Requirement already satisfied: scipy>=1.3.2 in /opt/conda/lib/python3.9/site-packages (from imbalanced-learn) (1.9.1)\n",
      "Requirement already satisfied: numpy>=1.17.3 in /opt/conda/lib/python3.9/site-packages (from imbalanced-learn) (1.21.1)\n",
      "Note: you may need to restart the kernel to use updated packages.\n"
     ]
    }
   ],
   "source": [
    "pip install -U imbalanced-learn"
   ]
  },
  {
   "cell_type": "code",
   "execution_count": 2,
   "metadata": {},
   "outputs": [],
   "source": [
    "import pandas as pd\n",
    "import matplotlib.pyplot as plt\n",
    "import numpy as np\n",
    "import seaborn as sns\n",
    "\n",
    "\n",
    "from sklearn.ensemble import RandomForestClassifier\n",
    "from sklearn.linear_model import LogisticRegression\n",
    "from sklearn.dummy import DummyClassifier\n",
    "\n",
    "\n",
    "from sklearn.utils import shuffle\n",
    "from sklearn.model_selection import train_test_split, cross_val_score, GridSearchCV, KFold\n",
    "from sklearn.metrics import roc_curve, auc, f1_score, roc_auc_score\n",
    "from sklearn.preprocessing import MinMaxScaler\n",
    "\n",
    "from collections import Counter\n",
    "from imblearn.pipeline import Pipeline, make_pipeline\n",
    "from imblearn.over_sampling import RandomOverSampler\n",
    "from imblearn.under_sampling import RandomUnderSampler"
   ]
  },
  {
   "cell_type": "markdown",
   "metadata": {},
   "source": [
    "<img src=\"https://emojigraph.org/media/apple/check-mark-button_2705.png\" align=left width=33, heigth=33>\n",
    "<div class=\"alert alert-success\">\n",
    "Отлично, все нужные библиотеки импортированы в начале ноутбука.Это хорошая практика.</div>"
   ]
  },
  {
   "cell_type": "code",
   "execution_count": 3,
   "metadata": {},
   "outputs": [],
   "source": [
    "df = pd.read_csv('/datasets/Churn.csv')"
   ]
  },
  {
   "cell_type": "markdown",
   "metadata": {},
   "source": [
    "Откроем файл и изучим документацию:"
   ]
  },
  {
   "cell_type": "code",
   "execution_count": 4,
   "metadata": {},
   "outputs": [
    {
     "data": {
      "text/html": [
       "<div>\n",
       "<style scoped>\n",
       "    .dataframe tbody tr th:only-of-type {\n",
       "        vertical-align: middle;\n",
       "    }\n",
       "\n",
       "    .dataframe tbody tr th {\n",
       "        vertical-align: top;\n",
       "    }\n",
       "\n",
       "    .dataframe thead th {\n",
       "        text-align: right;\n",
       "    }\n",
       "</style>\n",
       "<table border=\"1\" class=\"dataframe\">\n",
       "  <thead>\n",
       "    <tr style=\"text-align: right;\">\n",
       "      <th></th>\n",
       "      <th>RowNumber</th>\n",
       "      <th>CustomerId</th>\n",
       "      <th>Surname</th>\n",
       "      <th>CreditScore</th>\n",
       "      <th>Geography</th>\n",
       "      <th>Gender</th>\n",
       "      <th>Age</th>\n",
       "      <th>Tenure</th>\n",
       "      <th>Balance</th>\n",
       "      <th>NumOfProducts</th>\n",
       "      <th>HasCrCard</th>\n",
       "      <th>IsActiveMember</th>\n",
       "      <th>EstimatedSalary</th>\n",
       "      <th>Exited</th>\n",
       "    </tr>\n",
       "  </thead>\n",
       "  <tbody>\n",
       "    <tr>\n",
       "      <th>0</th>\n",
       "      <td>1</td>\n",
       "      <td>15634602</td>\n",
       "      <td>Hargrave</td>\n",
       "      <td>619</td>\n",
       "      <td>France</td>\n",
       "      <td>Female</td>\n",
       "      <td>42</td>\n",
       "      <td>2.0</td>\n",
       "      <td>0.00</td>\n",
       "      <td>1</td>\n",
       "      <td>1</td>\n",
       "      <td>1</td>\n",
       "      <td>101348.88</td>\n",
       "      <td>1</td>\n",
       "    </tr>\n",
       "    <tr>\n",
       "      <th>1</th>\n",
       "      <td>2</td>\n",
       "      <td>15647311</td>\n",
       "      <td>Hill</td>\n",
       "      <td>608</td>\n",
       "      <td>Spain</td>\n",
       "      <td>Female</td>\n",
       "      <td>41</td>\n",
       "      <td>1.0</td>\n",
       "      <td>83807.86</td>\n",
       "      <td>1</td>\n",
       "      <td>0</td>\n",
       "      <td>1</td>\n",
       "      <td>112542.58</td>\n",
       "      <td>0</td>\n",
       "    </tr>\n",
       "    <tr>\n",
       "      <th>2</th>\n",
       "      <td>3</td>\n",
       "      <td>15619304</td>\n",
       "      <td>Onio</td>\n",
       "      <td>502</td>\n",
       "      <td>France</td>\n",
       "      <td>Female</td>\n",
       "      <td>42</td>\n",
       "      <td>8.0</td>\n",
       "      <td>159660.80</td>\n",
       "      <td>3</td>\n",
       "      <td>1</td>\n",
       "      <td>0</td>\n",
       "      <td>113931.57</td>\n",
       "      <td>1</td>\n",
       "    </tr>\n",
       "    <tr>\n",
       "      <th>3</th>\n",
       "      <td>4</td>\n",
       "      <td>15701354</td>\n",
       "      <td>Boni</td>\n",
       "      <td>699</td>\n",
       "      <td>France</td>\n",
       "      <td>Female</td>\n",
       "      <td>39</td>\n",
       "      <td>1.0</td>\n",
       "      <td>0.00</td>\n",
       "      <td>2</td>\n",
       "      <td>0</td>\n",
       "      <td>0</td>\n",
       "      <td>93826.63</td>\n",
       "      <td>0</td>\n",
       "    </tr>\n",
       "    <tr>\n",
       "      <th>4</th>\n",
       "      <td>5</td>\n",
       "      <td>15737888</td>\n",
       "      <td>Mitchell</td>\n",
       "      <td>850</td>\n",
       "      <td>Spain</td>\n",
       "      <td>Female</td>\n",
       "      <td>43</td>\n",
       "      <td>2.0</td>\n",
       "      <td>125510.82</td>\n",
       "      <td>1</td>\n",
       "      <td>1</td>\n",
       "      <td>1</td>\n",
       "      <td>79084.10</td>\n",
       "      <td>0</td>\n",
       "    </tr>\n",
       "  </tbody>\n",
       "</table>\n",
       "</div>"
      ],
      "text/plain": [
       "   RowNumber  CustomerId   Surname  CreditScore Geography  Gender  Age  \\\n",
       "0          1    15634602  Hargrave          619    France  Female   42   \n",
       "1          2    15647311      Hill          608     Spain  Female   41   \n",
       "2          3    15619304      Onio          502    France  Female   42   \n",
       "3          4    15701354      Boni          699    France  Female   39   \n",
       "4          5    15737888  Mitchell          850     Spain  Female   43   \n",
       "\n",
       "   Tenure    Balance  NumOfProducts  HasCrCard  IsActiveMember  \\\n",
       "0     2.0       0.00              1          1               1   \n",
       "1     1.0   83807.86              1          0               1   \n",
       "2     8.0  159660.80              3          1               0   \n",
       "3     1.0       0.00              2          0               0   \n",
       "4     2.0  125510.82              1          1               1   \n",
       "\n",
       "   EstimatedSalary  Exited  \n",
       "0        101348.88       1  \n",
       "1        112542.58       0  \n",
       "2        113931.57       1  \n",
       "3         93826.63       0  \n",
       "4         79084.10       0  "
      ]
     },
     "execution_count": 4,
     "metadata": {},
     "output_type": "execute_result"
    }
   ],
   "source": [
    "df.head(5)"
   ]
  },
  {
   "cell_type": "markdown",
   "metadata": {},
   "source": [
    "Одной командой получим общую информацию о данных таблицы:"
   ]
  },
  {
   "cell_type": "code",
   "execution_count": 5,
   "metadata": {},
   "outputs": [
    {
     "name": "stdout",
     "output_type": "stream",
     "text": [
      "<class 'pandas.core.frame.DataFrame'>\n",
      "RangeIndex: 10000 entries, 0 to 9999\n",
      "Data columns (total 14 columns):\n",
      " #   Column           Non-Null Count  Dtype  \n",
      "---  ------           --------------  -----  \n",
      " 0   RowNumber        10000 non-null  int64  \n",
      " 1   CustomerId       10000 non-null  int64  \n",
      " 2   Surname          10000 non-null  object \n",
      " 3   CreditScore      10000 non-null  int64  \n",
      " 4   Geography        10000 non-null  object \n",
      " 5   Gender           10000 non-null  object \n",
      " 6   Age              10000 non-null  int64  \n",
      " 7   Tenure           9091 non-null   float64\n",
      " 8   Balance          10000 non-null  float64\n",
      " 9   NumOfProducts    10000 non-null  int64  \n",
      " 10  HasCrCard        10000 non-null  int64  \n",
      " 11  IsActiveMember   10000 non-null  int64  \n",
      " 12  EstimatedSalary  10000 non-null  float64\n",
      " 13  Exited           10000 non-null  int64  \n",
      "dtypes: float64(3), int64(8), object(3)\n",
      "memory usage: 1.1+ MB\n"
     ]
    }
   ],
   "source": [
    "df.info()"
   ]
  },
  {
   "cell_type": "markdown",
   "metadata": {},
   "source": [
    "Итак, в таблице 14 столбцв. Тип данных в столбцах — object, int64, float64.\n",
    "\n",
    "Согласно документации к данным:\n",
    "\n",
    "*Признаки*\n",
    "* `RowNumber` — индекс строки в данных\n",
    "* `CustomerId` — уникальный идентификатор клиента\n",
    "* `Surname` — фамилия\n",
    "* `CreditScore` — кредитный рейтинг\n",
    "* `Geography` — страна проживания\n",
    "* `Gender` — пол\n",
    "* `Age` — возраст\n",
    "* `Tenure` — сколько лет человек является клиентом банка\n",
    "* `Balance` — баланс на счёте\n",
    "* `NumOfProducts` — количество продуктов банка, используемых клиентом\n",
    "* `HasCrCard` — наличие кредитной карты\n",
    "* `IsActiveMember` — активность клиента\n",
    "* `EstimatedSalary` — предполагаемая зарплата\n",
    "\n",
    "*Целевой признак*\n",
    "* `Exited` — факт ухода клиента"
   ]
  },
  {
   "cell_type": "markdown",
   "metadata": {},
   "source": [
    "Количество значений в столбцах отличаются от общего размера таблицы. Значит, в данных есть пропущенные значения, причину которых нужно выяснить.\n",
    "\n",
    "**Выводы**\n",
    "\n",
    "Данные представляют собой полную сводку информации о клиентах банка. \n",
    "\n",
    "Предварительно можно утверждать, что данных достаточно для исследования, но встречаются пропуски.\n",
    "\n",
    "Чтобы двигаться дальше, нужно устранить проблемы в данных."
   ]
  },
  {
   "cell_type": "markdown",
   "metadata": {},
   "source": [
    "## Предобработка данных, анализ взаимосвязей"
   ]
  },
  {
   "cell_type": "markdown",
   "metadata": {},
   "source": [
    "### Стиль колонок, дубликаты"
   ]
  },
  {
   "cell_type": "markdown",
   "metadata": {},
   "source": [
    "Хороший стиль обязывает перевести названия столбцов в нижний регистр.\n",
    "\n",
    "Тогда сделаем следующее:"
   ]
  },
  {
   "cell_type": "code",
   "execution_count": 6,
   "metadata": {},
   "outputs": [],
   "source": [
    "df.columns = df.columns.str.lower()"
   ]
  },
  {
   "cell_type": "code",
   "execution_count": 7,
   "metadata": {},
   "outputs": [
    {
     "data": {
      "text/plain": [
       "Index(['rownumber', 'customerid', 'surname', 'creditscore', 'geography',\n",
       "       'gender', 'age', 'tenure', 'balance', 'numofproducts', 'hascrcard',\n",
       "       'isactivemember', 'estimatedsalary', 'exited'],\n",
       "      dtype='object')"
      ]
     },
     "execution_count": 7,
     "metadata": {},
     "output_type": "execute_result"
    }
   ],
   "source": [
    "df.columns"
   ]
  },
  {
   "cell_type": "code",
   "execution_count": 8,
   "metadata": {},
   "outputs": [],
   "source": [
    "df = df.rename(columns={'rownumber': 'row_number', \n",
    "                        'customerid' : 'customer_id',\n",
    "                        'creditscore' : 'credit_score', \n",
    "                        'numofproducts' : 'num_of_products', \n",
    "                        'hascrcard' : 'has_cr_card',\n",
    "                        'isactivemember' : 'is_active_member', \n",
    "                       'estimatedsalary' : 'estimated_salary'})"
   ]
  },
  {
   "cell_type": "markdown",
   "metadata": {},
   "source": [
    "Убедимся в отсутствии дубликатов:"
   ]
  },
  {
   "cell_type": "code",
   "execution_count": 9,
   "metadata": {},
   "outputs": [
    {
     "data": {
      "text/plain": [
       "True"
      ]
     },
     "execution_count": 9,
     "metadata": {},
     "output_type": "execute_result"
    }
   ],
   "source": [
    "df.duplicated().sum() == 0"
   ]
  },
  {
   "cell_type": "markdown",
   "metadata": {},
   "source": [
    "### Определение пропусков"
   ]
  },
  {
   "cell_type": "markdown",
   "metadata": {},
   "source": [
    "Проверим дествительно ли есть пропуски и в каких столбцах конкретно:"
   ]
  },
  {
   "cell_type": "code",
   "execution_count": 10,
   "metadata": {},
   "outputs": [
    {
     "data": {
      "text/plain": [
       "row_number          0.00\n",
       "customer_id         0.00\n",
       "surname             0.00\n",
       "credit_score        0.00\n",
       "geography           0.00\n",
       "gender              0.00\n",
       "age                 0.00\n",
       "tenure              9.09\n",
       "balance             0.00\n",
       "num_of_products     0.00\n",
       "has_cr_card         0.00\n",
       "is_active_member    0.00\n",
       "estimated_salary    0.00\n",
       "exited              0.00\n",
       "dtype: float64"
      ]
     },
     "execution_count": 10,
     "metadata": {},
     "output_type": "execute_result"
    }
   ],
   "source": [
    "df.isna().mean()*100"
   ]
  },
  {
   "cell_type": "markdown",
   "metadata": {},
   "source": [
    "Около 9% данных отсутствуют в датасете. Более того, пропуски преимущественно находятся в столбце `Tenure`. Предполагаемой причиной может являться банальная ошибка системы. \n",
    "\n",
    "Чтобы не \"усиливать\" связь между признаками, заполним пропуски медианой по столбцу. "
   ]
  },
  {
   "cell_type": "code",
   "execution_count": 11,
   "metadata": {},
   "outputs": [],
   "source": [
    "df['tenure'] = df['tenure'].fillna(int(df['tenure'].median()))"
   ]
  },
  {
   "cell_type": "markdown",
   "metadata": {},
   "source": [
    "### OHE"
   ]
  },
  {
   "cell_type": "code",
   "execution_count": 12,
   "metadata": {},
   "outputs": [
    {
     "data": {
      "text/plain": [
       "row_number            int64\n",
       "customer_id           int64\n",
       "surname              object\n",
       "credit_score          int64\n",
       "geography            object\n",
       "gender               object\n",
       "age                   int64\n",
       "tenure              float64\n",
       "balance             float64\n",
       "num_of_products       int64\n",
       "has_cr_card           int64\n",
       "is_active_member      int64\n",
       "estimated_salary    float64\n",
       "exited                int64\n",
       "dtype: object"
      ]
     },
     "execution_count": 12,
     "metadata": {},
     "output_type": "execute_result"
    }
   ],
   "source": [
    "df.dtypes"
   ]
  },
  {
   "cell_type": "markdown",
   "metadata": {},
   "source": [
    "Можно заметить категориальные переменные. Они могут помешать обучать модель, поэтому, используя прямое кодирование, избавимся от данных типа `object`."
   ]
  },
  {
   "cell_type": "markdown",
   "metadata": {},
   "source": [
    "Также! Обратим внимание на признаки - `surname`, `customerid`, `rownumber`. Такие признаки вряд ли будут полезны для прогнозирования, более того, при кодировании лишь создадут лишние столбцы, поэтому предварительно удалим их. "
   ]
  },
  {
   "cell_type": "code",
   "execution_count": 13,
   "metadata": {},
   "outputs": [],
   "source": [
    "data_ohe = df.drop(['surname', 'customer_id', 'row_number'], axis=1)"
   ]
  },
  {
   "cell_type": "code",
   "execution_count": 14,
   "metadata": {},
   "outputs": [],
   "source": [
    "data_ohe = pd.get_dummies(data_ohe, drop_first=True)"
   ]
  },
  {
   "cell_type": "markdown",
   "metadata": {},
   "source": [
    "### Разделение на выборки"
   ]
  },
  {
   "cell_type": "markdown",
   "metadata": {},
   "source": [
    "Спрятанной тестовой выборки нет. Значит, данные нужно разбить на три части: обучающую, валидационную и тестовую. \n",
    "\n",
    "`y` - за нее возьмем столбец exited\n",
    "\n",
    "`X` - все кроме столбца exited"
   ]
  },
  {
   "cell_type": "code",
   "execution_count": 15,
   "metadata": {},
   "outputs": [],
   "source": [
    "X, y = data_ohe.drop(['exited'], axis=1), data_ohe['exited']"
   ]
  },
  {
   "cell_type": "markdown",
   "metadata": {},
   "source": [
    "Выборки с дисбалансом:"
   ]
  },
  {
   "cell_type": "code",
   "execution_count": 16,
   "metadata": {},
   "outputs": [],
   "source": [
    "X_train, X_test, y_train, y_test = train_test_split(\n",
    "    X, y, \n",
    "    test_size=0.4, \n",
    "    random_state=42, \n",
    "    stratify=y\n",
    ")"
   ]
  },
  {
   "cell_type": "code",
   "execution_count": 17,
   "metadata": {},
   "outputs": [],
   "source": [
    "X_valid, X_test, y_valid, y_test = train_test_split(\n",
    "    X_test, y_test, \n",
    "    test_size=0.5, \n",
    "    random_state=42, \n",
    "    stratify=y_test\n",
    ")"
   ]
  },
  {
   "cell_type": "markdown",
   "metadata": {},
   "source": [
    "### Определение взаимосвязей и важных признаков"
   ]
  },
  {
   "cell_type": "code",
   "execution_count": 18,
   "metadata": {},
   "outputs": [],
   "source": [
    "numeric_data = list(X.select_dtypes([np.number]).columns)"
   ]
  },
  {
   "cell_type": "code",
   "execution_count": 19,
   "metadata": {},
   "outputs": [
    {
     "data": {
      "image/png": "[encoded data removed]",
      "text/plain": [
       "<Figure size 1080x720 with 1 Axes>"
      ]
     },
     "metadata": {
      "needs_background": "light"
     },
     "output_type": "display_data"
    }
   ],
   "source": [
    "correlations = X_train[numeric_data].corrwith(y_train).sort_values(ascending=False)\n",
    "plot = sns.barplot(y=correlations.index, x=correlations)\n",
    "plot.figure.set_size_inches(15, 10)"
   ]
  },
  {
   "cell_type": "markdown",
   "metadata": {},
   "source": [
    "Посмотрим на признаки из начала списка. Для этого нарисуем график зависимостей целевой переменной от каждого из признаков."
   ]
  },
  {
   "cell_type": "code",
   "execution_count": 20,
   "metadata": {},
   "outputs": [],
   "source": [
    "df_train = X_train.join(y_train)"
   ]
  },
  {
   "cell_type": "code",
   "execution_count": 21,
   "metadata": {},
   "outputs": [
    {
     "data": {
      "image/png": "[encoded data removed]",
      "text/plain": [
       "<Figure size 720x288 with 1 Axes>"
      ]
     },
     "metadata": {
      "needs_background": "light"
     },
     "output_type": "display_data"
    }
   ],
   "source": [
    "(\n",
    "    df_train\n",
    "    .pivot_table(index='age', values='exited').sort_values(by='exited', ascending=False).head(10)\n",
    "    .plot(kind='barh', figsize=(10,4))\n",
    ");"
   ]
  },
  {
   "cell_type": "markdown",
   "metadata": {},
   "source": [
    "Заметим, что в столбце `age` больше всего уходят клиенты в пожилом возрасте! Около 70% людей с возрастом 52-56 ушли из банка.  "
   ]
  },
  {
   "cell_type": "code",
   "execution_count": 22,
   "metadata": {},
   "outputs": [
    {
     "data": {
      "text/html": [
       "<div>\n",
       "<style scoped>\n",
       "    .dataframe tbody tr th:only-of-type {\n",
       "        vertical-align: middle;\n",
       "    }\n",
       "\n",
       "    .dataframe tbody tr th {\n",
       "        vertical-align: top;\n",
       "    }\n",
       "\n",
       "    .dataframe thead th {\n",
       "        text-align: right;\n",
       "    }\n",
       "</style>\n",
       "<table border=\"1\" class=\"dataframe\">\n",
       "  <thead>\n",
       "    <tr style=\"text-align: right;\">\n",
       "      <th></th>\n",
       "      <th>exited</th>\n",
       "    </tr>\n",
       "    <tr>\n",
       "      <th>geography_Germany</th>\n",
       "      <th></th>\n",
       "    </tr>\n",
       "  </thead>\n",
       "  <tbody>\n",
       "    <tr>\n",
       "      <th>0</th>\n",
       "      <td>0.163974</td>\n",
       "    </tr>\n",
       "    <tr>\n",
       "      <th>1</th>\n",
       "      <td>0.324781</td>\n",
       "    </tr>\n",
       "  </tbody>\n",
       "</table>\n",
       "</div>"
      ],
      "text/plain": [
       "                     exited\n",
       "geography_Germany          \n",
       "0                  0.163974\n",
       "1                  0.324781"
      ]
     },
     "execution_count": 22,
     "metadata": {},
     "output_type": "execute_result"
    }
   ],
   "source": [
    "df_train.groupby('geography_Germany').agg({\n",
    "    'exited' : 'mean'\n",
    "})"
   ]
  },
  {
   "cell_type": "markdown",
   "metadata": {},
   "source": [
    "В Германии около 33% жителей отказались от услуг банка. Посмотри сколько из этих людей являлись активными пользователями банка и проанализируем их доход. "
   ]
  },
  {
   "cell_type": "code",
   "execution_count": 23,
   "metadata": {},
   "outputs": [],
   "source": [
    "gone = df_train[df_train['exited'] == 1].groupby('geography_Germany').agg({\n",
    "    'is_active_member' : 'mean',\n",
    "    'num_of_products' : 'mean',\n",
    "    'balance' : 'median',\n",
    "}).tail(1)\n",
    "stayed = df_train[df_train['exited'] == 0].groupby('geography_Germany').agg({\n",
    "    'is_active_member' : 'mean',\n",
    "    'num_of_products' : 'mean',\n",
    "    'balance' : 'median',\n",
    "}).tail(1)"
   ]
  },
  {
   "cell_type": "code",
   "execution_count": 24,
   "metadata": {},
   "outputs": [
    {
     "data": {
      "text/html": [
       "<div>\n",
       "<style scoped>\n",
       "    .dataframe tbody tr th:only-of-type {\n",
       "        vertical-align: middle;\n",
       "    }\n",
       "\n",
       "    .dataframe tbody tr th {\n",
       "        vertical-align: top;\n",
       "    }\n",
       "\n",
       "    .dataframe thead th {\n",
       "        text-align: right;\n",
       "    }\n",
       "</style>\n",
       "<table border=\"1\" class=\"dataframe\">\n",
       "  <thead>\n",
       "    <tr style=\"text-align: right;\">\n",
       "      <th></th>\n",
       "      <th>is_active_member</th>\n",
       "      <th>num_of_products</th>\n",
       "      <th>balance</th>\n",
       "    </tr>\n",
       "    <tr>\n",
       "      <th>geography_Germany</th>\n",
       "      <th></th>\n",
       "      <th></th>\n",
       "      <th></th>\n",
       "    </tr>\n",
       "  </thead>\n",
       "  <tbody>\n",
       "    <tr>\n",
       "      <th>1</th>\n",
       "      <td>0.384615</td>\n",
       "      <td>1.480249</td>\n",
       "      <td>119276.31</td>\n",
       "    </tr>\n",
       "  </tbody>\n",
       "</table>\n",
       "</div>"
      ],
      "text/plain": [
       "                   is_active_member  num_of_products    balance\n",
       "geography_Germany                                              \n",
       "1                          0.384615         1.480249  119276.31"
      ]
     },
     "execution_count": 24,
     "metadata": {},
     "output_type": "execute_result"
    }
   ],
   "source": [
    "gone"
   ]
  },
  {
   "cell_type": "code",
   "execution_count": 25,
   "metadata": {},
   "outputs": [
    {
     "data": {
      "text/html": [
       "<div>\n",
       "<style scoped>\n",
       "    .dataframe tbody tr th:only-of-type {\n",
       "        vertical-align: middle;\n",
       "    }\n",
       "\n",
       "    .dataframe tbody tr th {\n",
       "        vertical-align: top;\n",
       "    }\n",
       "\n",
       "    .dataframe thead th {\n",
       "        text-align: right;\n",
       "    }\n",
       "</style>\n",
       "<table border=\"1\" class=\"dataframe\">\n",
       "  <thead>\n",
       "    <tr style=\"text-align: right;\">\n",
       "      <th></th>\n",
       "      <th>is_active_member</th>\n",
       "      <th>num_of_products</th>\n",
       "      <th>balance</th>\n",
       "    </tr>\n",
       "    <tr>\n",
       "      <th>geography_Germany</th>\n",
       "      <th></th>\n",
       "      <th></th>\n",
       "      <th></th>\n",
       "    </tr>\n",
       "  </thead>\n",
       "  <tbody>\n",
       "    <tr>\n",
       "      <th>1</th>\n",
       "      <td>0.557</td>\n",
       "      <td>1.556</td>\n",
       "      <td>120622.55</td>\n",
       "    </tr>\n",
       "  </tbody>\n",
       "</table>\n",
       "</div>"
      ],
      "text/plain": [
       "                   is_active_member  num_of_products    balance\n",
       "geography_Germany                                              \n",
       "1                             0.557            1.556  120622.55"
      ]
     },
     "execution_count": 25,
     "metadata": {},
     "output_type": "execute_result"
    }
   ],
   "source": [
    "stayed"
   ]
  },
  {
   "cell_type": "markdown",
   "metadata": {},
   "source": [
    "Получается, что около 37% активных пользователей Германии отказались от услуг, при этом они в среднем меньше пользовались продуктами компании и имели меньшую сумму на балансе, чем те, кто еще пользуется услугами. "
   ]
  },
  {
   "cell_type": "markdown",
   "metadata": {},
   "source": [
    "### Баланс данных"
   ]
  },
  {
   "cell_type": "markdown",
   "metadata": {},
   "source": [
    "Проверим данные на сбалансированность классов (ибо мы решаем задачу классификации):"
   ]
  },
  {
   "cell_type": "code",
   "execution_count": 26,
   "metadata": {},
   "outputs": [
    {
     "name": "stdout",
     "output_type": "stream",
     "text": [
      "Class balance: 0.2037\n",
      "Данные несбалансированы\n"
     ]
    }
   ],
   "source": [
    "print('Class balance:', y.mean())\n",
    "if y.mean() <= 0.5:\n",
    "    print('Данные несбалансированы')\n",
    "else:\n",
    "    print('Данные сбалансированы')"
   ]
  },
  {
   "cell_type": "markdown",
   "metadata": {},
   "source": [
    "Ближе рассмотрим дисбаланс данных:"
   ]
  },
  {
   "cell_type": "code",
   "execution_count": 27,
   "metadata": {},
   "outputs": [
    {
     "name": "stdout",
     "output_type": "stream",
     "text": [
      "Original dataset shape Counter({0: 7963, 1: 2037})\n"
     ]
    }
   ],
   "source": [
    "print('Original dataset shape %s' % Counter(y))"
   ]
  },
  {
   "cell_type": "markdown",
   "metadata": {},
   "source": [
    "Т.к. очень важно не выполнять балансировку классов в валидационной и тестовых выборках. Делать это можно только в обучающей выборке. Иначе оценка модели будет не соответствовать распределению данных, которые она будет видеть в процессе эксплуатации, поэтому выборку без дисбаланса составим следующим образом:"
   ]
  },
  {
   "cell_type": "code",
   "execution_count": 28,
   "metadata": {},
   "outputs": [
    {
     "data": {
      "image/png": "[encoded data removed]",
      "text/plain": [
       "<Figure size 648x360 with 3 Axes>"
      ]
     },
     "metadata": {},
     "output_type": "display_data"
    }
   ],
   "source": [
    "fig, axs = plt.subplots(ncols=3, figsize=(9, 5))\n",
    "autopct = \"%.2f\"\n",
    "y.value_counts().plot.pie(autopct=autopct, ax=axs[0])\n",
    "axs[0].set_title(\"Original\")\n",
    "\n",
    "oversample = RandomOverSampler(sampling_strategy='minority')\n",
    "X_res, y_res = oversample.fit_resample(X_train, y_train)\n",
    "y_res.value_counts().plot.pie(autopct=autopct, ax=axs[1])\n",
    "axs[1].set_title(\"Upsample\")\n",
    "fig.tight_layout()\n",
    "\n",
    "undersample = RandomUnderSampler(sampling_strategy='majority')\n",
    "X_res_down, y_res_down = undersample.fit_resample(X_train, y_train)\n",
    "y_res_down.value_counts().plot.pie(autopct=autopct, ax=axs[2])\n",
    "axs[2].set_title(\"Downsample\")\n",
    "fig.tight_layout()"
   ]
  },
  {
   "cell_type": "markdown",
   "metadata": {},
   "source": [
    "### Стандартизация данных"
   ]
  },
  {
   "cell_type": "markdown",
   "metadata": {},
   "source": [
    "В данных есть столбцы: *Age* и *Balance*. Допустим, возможен возраст от 0 до 100 лет, а баланс на счете клиента — от 100 долларов до 1000. Значения и их разбросы в столбце *Balance* больше, поэтому алгоритм автоматически решит, что этот признак важнее возраста. А это не так: все признаки значимы.\n",
    "\n",
    "Чтобы избежать этой ловушки, признаки масштабируют — приводят к одному масштабу.\n",
    "\n",
    "Один из методов масштабирования — **стандартизация данных**."
   ]
  },
  {
   "cell_type": "code",
   "execution_count": 29,
   "metadata": {},
   "outputs": [],
   "source": [
    "pd.options.mode.chained_assignment = None\n",
    "scaler = MinMaxScaler()\n",
    "scaler.fit(X_train[numeric_data])\n",
    "X_train[numeric_data] = scaler.transform(X_train[numeric_data])\n",
    "X_test[numeric_data] = scaler.transform(X_test[numeric_data])\n",
    "X_valid[numeric_data] = scaler.transform(X_valid[numeric_data])\n",
    "\n",
    "\n",
    "scaler = MinMaxScaler()\n",
    "scaler.fit(X_res[numeric_data])\n",
    "X_res[numeric_data] = scaler.transform(X_res[numeric_data])\n",
    "\n",
    "scaler = MinMaxScaler()\n",
    "scaler.fit(X_res_down[numeric_data])\n",
    "X_res_down[numeric_data] = scaler.transform(X_res_down[numeric_data])"
   ]
  },
  {
   "cell_type": "code",
   "execution_count": 30,
   "metadata": {},
   "outputs": [
    {
     "data": {
      "text/html": [
       "<div>\n",
       "<style scoped>\n",
       "    .dataframe tbody tr th:only-of-type {\n",
       "        vertical-align: middle;\n",
       "    }\n",
       "\n",
       "    .dataframe tbody tr th {\n",
       "        vertical-align: top;\n",
       "    }\n",
       "\n",
       "    .dataframe thead th {\n",
       "        text-align: right;\n",
       "    }\n",
       "</style>\n",
       "<table border=\"1\" class=\"dataframe\">\n",
       "  <thead>\n",
       "    <tr style=\"text-align: right;\">\n",
       "      <th></th>\n",
       "      <th>credit_score</th>\n",
       "      <th>age</th>\n",
       "      <th>tenure</th>\n",
       "      <th>balance</th>\n",
       "      <th>num_of_products</th>\n",
       "      <th>has_cr_card</th>\n",
       "      <th>is_active_member</th>\n",
       "      <th>estimated_salary</th>\n",
       "      <th>geography_Germany</th>\n",
       "      <th>geography_Spain</th>\n",
       "      <th>gender_Male</th>\n",
       "    </tr>\n",
       "  </thead>\n",
       "  <tbody>\n",
       "    <tr>\n",
       "      <th>6851</th>\n",
       "      <td>0.354</td>\n",
       "      <td>0.283784</td>\n",
       "      <td>0.9</td>\n",
       "      <td>0.436725</td>\n",
       "      <td>0.333333</td>\n",
       "      <td>1.0</td>\n",
       "      <td>0.0</td>\n",
       "      <td>0.473596</td>\n",
       "      <td>1.0</td>\n",
       "      <td>0.0</td>\n",
       "      <td>0.0</td>\n",
       "    </tr>\n",
       "    <tr>\n",
       "      <th>7026</th>\n",
       "      <td>0.654</td>\n",
       "      <td>0.121622</td>\n",
       "      <td>0.5</td>\n",
       "      <td>0.000000</td>\n",
       "      <td>0.333333</td>\n",
       "      <td>0.0</td>\n",
       "      <td>1.0</td>\n",
       "      <td>0.573489</td>\n",
       "      <td>0.0</td>\n",
       "      <td>0.0</td>\n",
       "      <td>0.0</td>\n",
       "    </tr>\n",
       "    <tr>\n",
       "      <th>5705</th>\n",
       "      <td>0.556</td>\n",
       "      <td>0.297297</td>\n",
       "      <td>0.5</td>\n",
       "      <td>0.820503</td>\n",
       "      <td>0.333333</td>\n",
       "      <td>1.0</td>\n",
       "      <td>1.0</td>\n",
       "      <td>0.645614</td>\n",
       "      <td>1.0</td>\n",
       "      <td>0.0</td>\n",
       "      <td>1.0</td>\n",
       "    </tr>\n",
       "    <tr>\n",
       "      <th>9058</th>\n",
       "      <td>0.240</td>\n",
       "      <td>0.405405</td>\n",
       "      <td>0.5</td>\n",
       "      <td>0.634561</td>\n",
       "      <td>0.000000</td>\n",
       "      <td>1.0</td>\n",
       "      <td>1.0</td>\n",
       "      <td>0.584917</td>\n",
       "      <td>0.0</td>\n",
       "      <td>1.0</td>\n",
       "      <td>0.0</td>\n",
       "    </tr>\n",
       "    <tr>\n",
       "      <th>9415</th>\n",
       "      <td>0.836</td>\n",
       "      <td>0.337838</td>\n",
       "      <td>0.2</td>\n",
       "      <td>0.583498</td>\n",
       "      <td>0.333333</td>\n",
       "      <td>0.0</td>\n",
       "      <td>0.0</td>\n",
       "      <td>0.095712</td>\n",
       "      <td>1.0</td>\n",
       "      <td>0.0</td>\n",
       "      <td>0.0</td>\n",
       "    </tr>\n",
       "  </tbody>\n",
       "</table>\n",
       "</div>"
      ],
      "text/plain": [
       "      credit_score       age  tenure   balance  num_of_products  has_cr_card  \\\n",
       "6851         0.354  0.283784     0.9  0.436725         0.333333          1.0   \n",
       "7026         0.654  0.121622     0.5  0.000000         0.333333          0.0   \n",
       "5705         0.556  0.297297     0.5  0.820503         0.333333          1.0   \n",
       "9058         0.240  0.405405     0.5  0.634561         0.000000          1.0   \n",
       "9415         0.836  0.337838     0.2  0.583498         0.333333          0.0   \n",
       "\n",
       "      is_active_member  estimated_salary  geography_Germany  geography_Spain  \\\n",
       "6851               0.0          0.473596                1.0              0.0   \n",
       "7026               1.0          0.573489                0.0              0.0   \n",
       "5705               1.0          0.645614                1.0              0.0   \n",
       "9058               1.0          0.584917                0.0              1.0   \n",
       "9415               0.0          0.095712                1.0              0.0   \n",
       "\n",
       "      gender_Male  \n",
       "6851          0.0  \n",
       "7026          0.0  \n",
       "5705          1.0  \n",
       "9058          0.0  \n",
       "9415          0.0  "
      ]
     },
     "execution_count": 30,
     "metadata": {},
     "output_type": "execute_result"
    }
   ],
   "source": [
    "X_train.head()"
   ]
  },
  {
   "cell_type": "markdown",
   "metadata": {},
   "source": [
    "## Исследование моделей с учетом дисбаланса и без"
   ]
  },
  {
   "cell_type": "markdown",
   "metadata": {},
   "source": [
    "### Бейзлайн"
   ]
  },
  {
   "cell_type": "code",
   "execution_count": 31,
   "metadata": {},
   "outputs": [],
   "source": [
    "kf = KFold(n_splits=5, shuffle=True)"
   ]
  },
  {
   "cell_type": "markdown",
   "metadata": {},
   "source": [
    "#### Логическая регрессия "
   ]
  },
  {
   "cell_type": "markdown",
   "metadata": {},
   "source": [
    "##### F1-мера"
   ]
  },
  {
   "cell_type": "code",
   "execution_count": 32,
   "metadata": {},
   "outputs": [
    {
     "name": "stdout",
     "output_type": "stream",
     "text": [
      "Cross validation scores:\n",
      "\t 0.2804\n",
      "\t0.2635\n",
      "\t0.2603\n",
      "\t0.3268\n",
      "\t0.2684\n",
      "Mean CV F1 = 0.2799\n"
     ]
    }
   ],
   "source": [
    "cv_scores = cross_val_score(LogisticRegression(random_state = 42), X_train, y_train, cv=kf, scoring=\"f1\")\n",
    "print(\"Cross validation scores:\\n\\t\", \"\\n\\t\".join(\"%.4f\" % x for x in cv_scores))\n",
    "print(\"Mean CV F1 = %.4f\" % np.mean(cv_scores))"
   ]
  },
  {
   "cell_type": "markdown",
   "metadata": {},
   "source": [
    "Найдем максимальную F1-меру:"
   ]
  },
  {
   "cell_type": "code",
   "execution_count": 33,
   "metadata": {},
   "outputs": [
    {
     "name": "stderr",
     "output_type": "stream",
     "text": [
      "/opt/conda/lib/python3.9/site-packages/sklearn/model_selection/_validation.py:378: FitFailedWarning: \n",
      "10 fits failed out of a total of 75.\n",
      "The score on these train-test partitions for these parameters will be set to nan.\n",
      "If these failures are not expected, you can try to debug them by setting error_score='raise'.\n",
      "\n",
      "Below are more details about the failures:\n",
      "--------------------------------------------------------------------------------\n",
      "5 fits failed with the following error:\n",
      "Traceback (most recent call last):\n",
      "  File \"/opt/conda/lib/python3.9/site-packages/sklearn/model_selection/_validation.py\", line 686, in _fit_and_score\n",
      "    estimator.fit(X_train, y_train, **fit_params)\n",
      "  File \"/opt/conda/lib/python3.9/site-packages/sklearn/linear_model/_logistic.py\", line 1091, in fit\n",
      "    solver = _check_solver(self.solver, self.penalty, self.dual)\n",
      "  File \"/opt/conda/lib/python3.9/site-packages/sklearn/linear_model/_logistic.py\", line 61, in _check_solver\n",
      "    raise ValueError(\n",
      "ValueError: Solver lbfgs supports only 'l2' or 'none' penalties, got elasticnet penalty.\n",
      "\n",
      "--------------------------------------------------------------------------------\n",
      "5 fits failed with the following error:\n",
      "Traceback (most recent call last):\n",
      "  File \"/opt/conda/lib/python3.9/site-packages/sklearn/model_selection/_validation.py\", line 686, in _fit_and_score\n",
      "    estimator.fit(X_train, y_train, **fit_params)\n",
      "  File \"/opt/conda/lib/python3.9/site-packages/sklearn/linear_model/_logistic.py\", line 1091, in fit\n",
      "    solver = _check_solver(self.solver, self.penalty, self.dual)\n",
      "  File \"/opt/conda/lib/python3.9/site-packages/sklearn/linear_model/_logistic.py\", line 61, in _check_solver\n",
      "    raise ValueError(\n",
      "ValueError: Solver lbfgs supports only 'l2' or 'none' penalties, got l1 penalty.\n",
      "\n",
      "  warnings.warn(some_fits_failed_message, FitFailedWarning)\n",
      "/opt/conda/lib/python3.9/site-packages/sklearn/model_selection/_search.py:953: UserWarning: One or more of the test scores are non-finite: [0.28535251 0.28535251 0.28448481 0.28535251 0.28427997 0.29797374\n",
      "        nan        nan 0.28535251 0.         0.         0.16713468\n",
      " 0.28535251 0.2962298  0.29813379]\n",
      "  warnings.warn(\n"
     ]
    },
    {
     "name": "stdout",
     "output_type": "stream",
     "text": [
      "CPU times: user 17.1 s, sys: 26.2 s, total: 43.3 s\n",
      "Wall time: 43.4 s\n"
     ]
    },
    {
     "data": {
      "text/plain": [
       "{'C': 100}"
      ]
     },
     "execution_count": 33,
     "metadata": {},
     "output_type": "execute_result"
    }
   ],
   "source": [
    "%%time\n",
    "parametrs = [{'solver': ['newton-cg', 'lbfgs', 'liblinear', 'sag', 'saga']},\n",
    "              {'penalty':['none', 'elasticnet', 'l1', 'l2']},\n",
    "              {'C':[0.001, 0.01, 0.1, 1, 10, 100]}]\n",
    "\n",
    "\n",
    "grid = GridSearchCV(LogisticRegression(random_state=42), parametrs, cv=kf, scoring='f1')\n",
    "grid.fit(X_train, y_train)\n",
    "grid.best_params_"
   ]
  },
  {
   "cell_type": "code",
   "execution_count": 34,
   "metadata": {},
   "outputs": [
    {
     "name": "stdout",
     "output_type": "stream",
     "text": [
      "F1-мера наилучшей модели на выборке not balanced: 0.29813378616879904\n"
     ]
    }
   ],
   "source": [
    "best_lr = grid.best_score_\n",
    "print(\"F1-мера наилучшей модели на выборке not balanced:\", best_lr)"
   ]
  },
  {
   "cell_type": "markdown",
   "metadata": {},
   "source": [
    "##### ROC-curve, AUC"
   ]
  },
  {
   "cell_type": "markdown",
   "metadata": {},
   "source": [
    "Помимо вышеупомянутых метрик, посчитаем `Auc` и построим кривую `Roc`:"
   ]
  },
  {
   "cell_type": "code",
   "execution_count": 35,
   "metadata": {},
   "outputs": [],
   "source": [
    "def roc_curve_(model, y_test, probabilities_one_test, color, label): \n",
    "    print(f'{model} : ROC AUC=%.4f' % (roc_auc_score(y_test, probabilities_one_test)))\n",
    "    fpr, tpr, treshold = roc_curve(y_test, probabilities_one_test)\n",
    "    roc_auc = auc(fpr, tpr)\n",
    "    plt.plot(fpr, tpr, color=color,\n",
    "         label=label)\n",
    "    plt.plot([0, 1], [0, 1], color='navy', linestyle='--')\n",
    "    plt.xlim([0.0, 1.0])\n",
    "    plt.ylim([0.0, 1.05])\n",
    "    plt.xlabel('False Positive Rate')\n",
    "    plt.ylabel('True Positive Rate')\n",
    "    plt.title('Пример ROC-кривой')\n",
    "    plt.legend(loc=\"lower right\")\n",
    "\n",
    "def roc_auc_(y_test, probabilities_one_test):\n",
    "    fpr, tpr, treshold = roc_curve(y_test, probabilities_one_test)\n",
    "    roc_auc = round(auc(fpr, tpr), 4)\n",
    "    return roc_auc"
   ]
  },
  {
   "cell_type": "code",
   "execution_count": 36,
   "metadata": {
    "scrolled": true
   },
   "outputs": [
    {
     "name": "stdout",
     "output_type": "stream",
     "text": [
      "Logistic_Regeression not balanced : ROC AUC=0.7908\n"
     ]
    },
    {
     "data": {
      "image/png": "[encoded data removed]",
      "text/plain": [
       "<Figure size 432x288 with 1 Axes>"
      ]
     },
     "metadata": {
      "needs_background": "light"
     },
     "output_type": "display_data"
    }
   ],
   "source": [
    "probabilities_one_test = grid.best_estimator_.predict_proba(X_valid)[:, 1]\n",
    "roc_curve_('Logistic_Regeression not balanced', y_valid, probabilities_one_test, 'green', 'ROC LR not balanced' )"
   ]
  },
  {
   "cell_type": "code",
   "execution_count": 37,
   "metadata": {},
   "outputs": [],
   "source": [
    "roc_auc_lr = roc_auc_(y_test, probabilities_one_test)"
   ]
  },
  {
   "cell_type": "markdown",
   "metadata": {},
   "source": [
    "#### Случайный лес"
   ]
  },
  {
   "cell_type": "code",
   "execution_count": 38,
   "metadata": {},
   "outputs": [
    {
     "name": "stdout",
     "output_type": "stream",
     "text": [
      "Cross validation scores:\n",
      "\t 0.5435\n",
      "\t0.5749\n",
      "\t0.5609\n",
      "\t0.5856\n",
      "\t0.5642\n",
      "Mean CV F1 = 0.5658\n"
     ]
    }
   ],
   "source": [
    "cv_scores = cross_val_score(RandomForestClassifier(random_state = 42), X_train, y_train, cv=kf, scoring=\"f1\")\n",
    "print(\"Cross validation scores:\\n\\t\", \"\\n\\t\".join(\"%.4f\" % x for x in cv_scores))\n",
    "print(\"Mean CV F1 = %.4f\" % np.mean(cv_scores))"
   ]
  },
  {
   "cell_type": "markdown",
   "metadata": {},
   "source": [
    "##### F1-мера"
   ]
  },
  {
   "cell_type": "code",
   "execution_count": 39,
   "metadata": {
    "scrolled": true
   },
   "outputs": [
    {
     "name": "stdout",
     "output_type": "stream",
     "text": [
      "CPU times: user 2min 2s, sys: 441 ms, total: 2min 2s\n",
      "Wall time: 2min 7s\n"
     ]
    },
    {
     "data": {
      "text/plain": [
       "{'criterion': 'gini',\n",
       " 'max_depth': 14,\n",
       " 'max_features': 'log2',\n",
       " 'min_samples_leaf': 3,\n",
       " 'n_estimators': 18}"
      ]
     },
     "execution_count": 39,
     "metadata": {},
     "output_type": "execute_result"
    }
   ],
   "source": [
    "%%time\n",
    "#через GridSearchCV() найдем лучшие гиперпараметры для модели\n",
    "parametrs = {'n_estimators': range(8,30,10),\n",
    "             'min_samples_leaf': range(2,5),\n",
    "             'max_depth': range(1, 15),\n",
    "            'max_features' : ['log2'],\n",
    "            'criterion' : ['gini', 'entropy']}\n",
    "\n",
    "grid = GridSearchCV(RandomForestClassifier(random_state=42), parametrs, cv=kf, scoring='f1')\n",
    "grid.fit(X_train, y_train)\n",
    "grid.best_params_"
   ]
  },
  {
   "cell_type": "code",
   "execution_count": 40,
   "metadata": {},
   "outputs": [
    {
     "name": "stdout",
     "output_type": "stream",
     "text": [
      "F1-мера наилучшей модели на выборке not balanced: 0.5688790845173839\n"
     ]
    }
   ],
   "source": [
    "best_rf = grid.best_score_\n",
    "print(\"F1-мера наилучшей модели на выборке not balanced:\", best_rf)"
   ]
  },
  {
   "cell_type": "markdown",
   "metadata": {},
   "source": [
    "##### ROC-curve, AUC"
   ]
  },
  {
   "cell_type": "markdown",
   "metadata": {},
   "source": [
    "Помимо вышеупомянутых метрик, посчитаем `Auc` и построим кривую `Roc`:"
   ]
  },
  {
   "cell_type": "code",
   "execution_count": 41,
   "metadata": {},
   "outputs": [
    {
     "name": "stdout",
     "output_type": "stream",
     "text": [
      "Random_Forest not balanced : ROC AUC=0.8590\n"
     ]
    },
    {
     "data": {
      "image/png": "[encoded data removed]",
      "text/plain": [
       "<Figure size 432x288 with 1 Axes>"
      ]
     },
     "metadata": {
      "needs_background": "light"
     },
     "output_type": "display_data"
    }
   ],
   "source": [
    "probabilities_one_test = grid.best_estimator_.predict_proba(X_valid)[:, 1]\n",
    "roc_curve_('Random_Forest not balanced', y_valid, probabilities_one_test , 'blue', 'ROC RF not balanced' )"
   ]
  },
  {
   "cell_type": "code",
   "execution_count": 42,
   "metadata": {},
   "outputs": [],
   "source": [
    "roc_auc_rf = roc_auc_(y_valid, probabilities_one_test)"
   ]
  },
  {
   "cell_type": "markdown",
   "metadata": {},
   "source": [
    "**Наблюдение**:\n",
    "\n",
    "И f1-мера, и auc выше у случайного леса!"
   ]
  },
  {
   "cell_type": "markdown",
   "metadata": {},
   "source": [
    "### Учет дисбаланса "
   ]
  },
  {
   "cell_type": "markdown",
   "metadata": {},
   "source": [
    "#### Логическая регрессия "
   ]
  },
  {
   "cell_type": "markdown",
   "metadata": {},
   "source": [
    "##### F1-мера"
   ]
  },
  {
   "cell_type": "markdown",
   "metadata": {},
   "source": [
    "Uppersampling:"
   ]
  },
  {
   "cell_type": "code",
   "execution_count": 43,
   "metadata": {},
   "outputs": [
    {
     "name": "stdout",
     "output_type": "stream",
     "text": [
      "CPU times: user 1.14 s, sys: 880 ms, total: 2.02 s\n",
      "Wall time: 2.01 s\n"
     ]
    },
    {
     "data": {
      "text/plain": [
       "{'logisticregression__class_weight': 'balanced',\n",
       " 'logisticregression__penalty': 'l1',\n",
       " 'logisticregression__solver': 'liblinear'}"
      ]
     },
     "execution_count": 43,
     "metadata": {},
     "output_type": "execute_result"
    }
   ],
   "source": [
    "%%time\n",
    "#через GridSearchCV() найдем лучшие гиперпараметры для модели\n",
    "parametrs = {'class_weight': ['balanced'],\n",
    "             'penalty': [\"l1\",\"l2\"],\n",
    "            'solver' : ['liblinear']}\n",
    "new_params = {'logisticregression__' + key: parametrs[key] for key in parametrs}\n",
    "imba_pipeline = make_pipeline(RandomOverSampler(random_state=42), \n",
    "                              LogisticRegression(random_state=13))\n",
    "grid_imba_up = GridSearchCV(imba_pipeline, param_grid=new_params, cv=kf, scoring='f1',\n",
    "                        return_train_score=True)\n",
    "grid_imba_up.fit(X_train, y_train)\n",
    "grid_imba_up.best_params_"
   ]
  },
  {
   "cell_type": "code",
   "execution_count": 44,
   "metadata": {},
   "outputs": [
    {
     "name": "stdout",
     "output_type": "stream",
     "text": [
      "Cross validation scores:\n",
      "\t 0.4917\n",
      "\t0.4939\n",
      "\t0.4776\n",
      "\t0.4501\n",
      "\t0.5061\n",
      "Mean CV F1 = 0.4839\n"
     ]
    }
   ],
   "source": [
    "cv_scores = cross_val_score(imba_pipeline, X_train, y_train, scoring='f1', cv=kf)\n",
    "print(\"Cross validation scores:\\n\\t\", \"\\n\\t\".join(\"%.4f\" % x for x in cv_scores))\n",
    "print(\"Mean CV F1 = %.4f\" % np.mean(cv_scores))"
   ]
  },
  {
   "cell_type": "code",
   "execution_count": 45,
   "metadata": {},
   "outputs": [
    {
     "name": "stdout",
     "output_type": "stream",
     "text": [
      "F1-мера наилучшей модели на выборке up balanced: 0.4857276773609046\n"
     ]
    }
   ],
   "source": [
    "best_f1_lr_up = grid_imba_up.best_score_\n",
    "print(\"F1-мера наилучшей модели на выборке up balanced:\", best_f1_lr_up)"
   ]
  },
  {
   "cell_type": "markdown",
   "metadata": {},
   "source": [
    "Downsampling:"
   ]
  },
  {
   "cell_type": "code",
   "execution_count": 46,
   "metadata": {},
   "outputs": [
    {
     "name": "stdout",
     "output_type": "stream",
     "text": [
      "CPU times: user 945 ms, sys: 872 ms, total: 1.82 s\n",
      "Wall time: 1.84 s\n"
     ]
    },
    {
     "data": {
      "text/plain": [
       "{'logisticregression__class_weight': 'balanced',\n",
       " 'logisticregression__penalty': 'l1',\n",
       " 'logisticregression__solver': 'liblinear'}"
      ]
     },
     "execution_count": 46,
     "metadata": {},
     "output_type": "execute_result"
    }
   ],
   "source": [
    "%%time\n",
    "#через GridSearchCV() найдем лучшие гиперпараметры для модели\n",
    "new_params = {'logisticregression__' + key: parametrs[key] for key in parametrs}\n",
    "imba_pipeline = make_pipeline(RandomUnderSampler(random_state=42), \n",
    "                              LogisticRegression(random_state=13))\n",
    "grid_imba_down = GridSearchCV(imba_pipeline, param_grid=new_params, cv=kf, scoring='f1',\n",
    "                        return_train_score=True)\n",
    "grid_imba_down.fit(X_train, y_train)\n",
    "grid_imba_down.best_params_"
   ]
  },
  {
   "cell_type": "code",
   "execution_count": 47,
   "metadata": {},
   "outputs": [
    {
     "name": "stdout",
     "output_type": "stream",
     "text": [
      "Cross validation scores:\n",
      "\t 0.4952\n",
      "\t0.4902\n",
      "\t0.4682\n",
      "\t0.4866\n",
      "\t0.4574\n",
      "Mean CV F1 = 0.4795\n"
     ]
    }
   ],
   "source": [
    "cv_scores = cross_val_score(imba_pipeline, X_train, y_train, scoring='f1', cv=kf)\n",
    "print(\"Cross validation scores:\\n\\t\", \"\\n\\t\".join(\"%.4f\" % x for x in cv_scores))\n",
    "print(\"Mean CV F1 = %.4f\" % np.mean(cv_scores))"
   ]
  },
  {
   "cell_type": "code",
   "execution_count": 48,
   "metadata": {},
   "outputs": [
    {
     "name": "stdout",
     "output_type": "stream",
     "text": [
      "F1-мера наилучшей модели на выборке down balanced: 0.4885385243804041\n"
     ]
    }
   ],
   "source": [
    "best_f1_lr_down = grid_imba_down.best_score_\n",
    "print(\"F1-мера наилучшей модели на выборке down balanced:\", best_f1_lr_down)"
   ]
  },
  {
   "cell_type": "markdown",
   "metadata": {},
   "source": [
    "##### ROC-curve, AUC"
   ]
  },
  {
   "cell_type": "markdown",
   "metadata": {},
   "source": [
    "Uppersampling:"
   ]
  },
  {
   "cell_type": "code",
   "execution_count": 49,
   "metadata": {},
   "outputs": [
    {
     "name": "stdout",
     "output_type": "stream",
     "text": [
      "Logistic_Regeression upp balanced : ROC AUC=0.7933\n"
     ]
    },
    {
     "data": {
      "image/png": "[encoded data removed]",
      "text/plain": [
       "<Figure size 432x288 with 1 Axes>"
      ]
     },
     "metadata": {
      "needs_background": "light"
     },
     "output_type": "display_data"
    }
   ],
   "source": [
    "probabilities_one_test = grid_imba_up.best_estimator_.predict_proba(X_valid)[:, 1]\n",
    "roc_curve_('Logistic_Regeression upp balanced', y_valid, probabilities_one_test, 'green', 'ROC LR upp balanced' )"
   ]
  },
  {
   "cell_type": "code",
   "execution_count": 50,
   "metadata": {},
   "outputs": [],
   "source": [
    "roc_auc_lr_up = roc_auc_(y_valid, probabilities_one_test)"
   ]
  },
  {
   "cell_type": "markdown",
   "metadata": {},
   "source": [
    "Downsampling:"
   ]
  },
  {
   "cell_type": "code",
   "execution_count": 51,
   "metadata": {},
   "outputs": [
    {
     "name": "stdout",
     "output_type": "stream",
     "text": [
      "Logistic_Regeression down balanced : ROC AUC=0.7930\n"
     ]
    },
    {
     "data": {
      "image/png": "[encoded data removed]",
      "text/plain": [
       "<Figure size 432x288 with 1 Axes>"
      ]
     },
     "metadata": {
      "needs_background": "light"
     },
     "output_type": "display_data"
    }
   ],
   "source": [
    "probabilities_one_test = grid_imba_down.best_estimator_.predict_proba(X_valid)[:, 1]\n",
    "roc_curve_('Logistic_Regeression down balanced', y_valid, probabilities_one_test, 'green', 'ROC LR down balanced' )"
   ]
  },
  {
   "cell_type": "code",
   "execution_count": 52,
   "metadata": {},
   "outputs": [],
   "source": [
    "roc_auc_lr_down = roc_auc_(y_valid, probabilities_one_test)"
   ]
  },
  {
   "cell_type": "markdown",
   "metadata": {},
   "source": [
    "#### Случайный лес"
   ]
  },
  {
   "cell_type": "markdown",
   "metadata": {},
   "source": [
    "##### F1-мера"
   ]
  },
  {
   "cell_type": "markdown",
   "metadata": {},
   "source": [
    "Uppersampling:"
   ]
  },
  {
   "cell_type": "code",
   "execution_count": 53,
   "metadata": {},
   "outputs": [
    {
     "name": "stdout",
     "output_type": "stream",
     "text": [
      "CPU times: user 1min 27s, sys: 400 ms, total: 1min 27s\n",
      "Wall time: 1min 27s\n"
     ]
    },
    {
     "data": {
      "text/plain": [
       "{'randomforestclassifier__max_depth': 14,\n",
       " 'randomforestclassifier__max_features': 'log2',\n",
       " 'randomforestclassifier__min_samples_leaf': 4,\n",
       " 'randomforestclassifier__n_estimators': 28}"
      ]
     },
     "execution_count": 53,
     "metadata": {},
     "output_type": "execute_result"
    }
   ],
   "source": [
    "%%time\n",
    "#через GridSearchCV() найдем лучшие гиперпараметры для модели\n",
    "parametrs = {'n_estimators': range(8,30,10),\n",
    "             'min_samples_leaf': range(2,5),\n",
    "             'max_depth': range(1, 15),\n",
    "            'max_features' : ['log2']}\n",
    "new_params = {'randomforestclassifier__' + key: parametrs[key] for key in parametrs}\n",
    "imba_pipeline = make_pipeline(RandomOverSampler(random_state=42), \n",
    "                              RandomForestClassifier(random_state=13))\n",
    "grid_imba_up = GridSearchCV(imba_pipeline, param_grid=new_params, cv=kf, scoring='f1',\n",
    "                        return_train_score=True)\n",
    "grid_imba_up.fit(X_train, y_train)\n",
    "grid_imba_up.best_params_"
   ]
  },
  {
   "cell_type": "code",
   "execution_count": 54,
   "metadata": {},
   "outputs": [
    {
     "name": "stdout",
     "output_type": "stream",
     "text": [
      "Cross validation scores:\n",
      "\t 0.5832\n",
      "\t0.6069\n",
      "\t0.5956\n",
      "\t0.5946\n",
      "\t0.5780\n",
      "Mean CV F1 = 0.5916\n"
     ]
    }
   ],
   "source": [
    "cv_scores = cross_val_score(imba_pipeline, X_train, y_train, scoring='f1', cv=kf)\n",
    "print(\"Cross validation scores:\\n\\t\", \"\\n\\t\".join(\"%.4f\" % x for x in cv_scores))\n",
    "print(\"Mean CV F1 = %.4f\" % np.mean(cv_scores))"
   ]
  },
  {
   "cell_type": "code",
   "execution_count": 55,
   "metadata": {},
   "outputs": [
    {
     "name": "stdout",
     "output_type": "stream",
     "text": [
      "F1-мера наилучшей модели на выборке up balanced: 0.6180581036490487\n"
     ]
    }
   ],
   "source": [
    "best_f1_rf_up = grid_imba_up.best_score_\n",
    "print(\"F1-мера наилучшей модели на выборке up balanced:\", best_f1_rf_up)"
   ]
  },
  {
   "cell_type": "markdown",
   "metadata": {},
   "source": [
    "Downsampling:"
   ]
  },
  {
   "cell_type": "code",
   "execution_count": 56,
   "metadata": {},
   "outputs": [
    {
     "name": "stdout",
     "output_type": "stream",
     "text": [
      "CPU times: user 49.1 s, sys: 340 ms, total: 49.4 s\n",
      "Wall time: 52 s\n"
     ]
    },
    {
     "data": {
      "text/plain": [
       "{'randomforestclassifier__max_depth': 10,\n",
       " 'randomforestclassifier__max_features': 'log2',\n",
       " 'randomforestclassifier__min_samples_leaf': 3,\n",
       " 'randomforestclassifier__n_estimators': 28}"
      ]
     },
     "execution_count": 56,
     "metadata": {},
     "output_type": "execute_result"
    }
   ],
   "source": [
    "%%time\n",
    "#через GridSearchCV() найдем лучшие гиперпараметры для модели\n",
    "new_params = {'randomforestclassifier__' + key: parametrs[key] for key in parametrs}\n",
    "imba_pipeline = make_pipeline(RandomUnderSampler(random_state=42), \n",
    "                              RandomForestClassifier(random_state=13))\n",
    "grid_imba_down = GridSearchCV(imba_pipeline, param_grid=new_params, cv=kf, scoring='f1',\n",
    "                        return_train_score=True)\n",
    "grid_imba_down.fit(X_train, y_train)\n",
    "grid_imba_down.best_params_"
   ]
  },
  {
   "cell_type": "code",
   "execution_count": 57,
   "metadata": {},
   "outputs": [
    {
     "name": "stdout",
     "output_type": "stream",
     "text": [
      "Cross validation scores:\n",
      "\t 0.5929\n",
      "\t0.5942\n",
      "\t0.5907\n",
      "\t0.5913\n",
      "\t0.5747\n",
      "Mean CV F1 = 0.5888\n"
     ]
    }
   ],
   "source": [
    "cv_scores = cross_val_score(imba_pipeline, X_train, y_train, scoring='f1', cv=kf)\n",
    "print(\"Cross validation scores:\\n\\t\", \"\\n\\t\".join(\"%.4f\" % x for x in cv_scores))\n",
    "print(\"Mean CV F1 = %.4f\" % np.mean(cv_scores))"
   ]
  },
  {
   "cell_type": "code",
   "execution_count": 58,
   "metadata": {},
   "outputs": [
    {
     "name": "stdout",
     "output_type": "stream",
     "text": [
      "F1-мера наилучшей модели на выборке down balanced: 0.5911963937009256\n"
     ]
    }
   ],
   "source": [
    "best_f1_rf_down = grid_imba_down.best_score_\n",
    "print(\"F1-мера наилучшей модели на выборке down balanced:\", best_f1_rf_down)"
   ]
  },
  {
   "cell_type": "markdown",
   "metadata": {},
   "source": [
    "##### ROC-curve, AUC"
   ]
  },
  {
   "cell_type": "markdown",
   "metadata": {},
   "source": [
    "Uppersampling:"
   ]
  },
  {
   "cell_type": "code",
   "execution_count": 59,
   "metadata": {},
   "outputs": [
    {
     "name": "stdout",
     "output_type": "stream",
     "text": [
      "Random_Forest upp balanced : ROC AUC=0.8655\n"
     ]
    },
    {
     "data": {
      "image/png": "[encoded data removed]",
      "text/plain": [
       "<Figure size 432x288 with 1 Axes>"
      ]
     },
     "metadata": {
      "needs_background": "light"
     },
     "output_type": "display_data"
    }
   ],
   "source": [
    "probabilities_one_test = grid_imba_up.best_estimator_.predict_proba(X_valid)[:, 1]\n",
    "roc_curve_('Random_Forest upp balanced', y_valid, probabilities_one_test, 'green', 'ROC RF upp balanced' )"
   ]
  },
  {
   "cell_type": "code",
   "execution_count": 60,
   "metadata": {},
   "outputs": [],
   "source": [
    "roc_auc_rf_up = roc_auc_(y_valid, probabilities_one_test)"
   ]
  },
  {
   "cell_type": "markdown",
   "metadata": {},
   "source": [
    "Downsampling:"
   ]
  },
  {
   "cell_type": "code",
   "execution_count": 61,
   "metadata": {},
   "outputs": [
    {
     "name": "stdout",
     "output_type": "stream",
     "text": [
      "Random_Forest down balanced : ROC AUC=0.8658\n"
     ]
    },
    {
     "data": {
      "image/png": "[encoded data removed]",
      "text/plain": [
       "<Figure size 432x288 with 1 Axes>"
      ]
     },
     "metadata": {
      "needs_background": "light"
     },
     "output_type": "display_data"
    }
   ],
   "source": [
    "probabilities_one_test = grid_imba_down.best_estimator_.predict_proba(X_valid)[:, 1]\n",
    "roc_curve_('Random_Forest down balanced', y_valid, probabilities_one_test, 'green', 'ROC RF down balanced' )"
   ]
  },
  {
   "cell_type": "code",
   "execution_count": 62,
   "metadata": {},
   "outputs": [],
   "source": [
    "roc_auc_rf_down = roc_auc_(y_valid, probabilities_one_test)"
   ]
  },
  {
   "cell_type": "markdown",
   "metadata": {},
   "source": [
    "### Финальная таблица"
   ]
  },
  {
   "cell_type": "markdown",
   "metadata": {},
   "source": [
    "Соберем все значения метрик в одну таблицу и выберем наилучшую модель:"
   ]
  },
  {
   "cell_type": "code",
   "execution_count": 63,
   "metadata": {},
   "outputs": [
    {
     "data": {
      "text/html": [
       "<div>\n",
       "<style scoped>\n",
       "    .dataframe tbody tr th:only-of-type {\n",
       "        vertical-align: middle;\n",
       "    }\n",
       "\n",
       "    .dataframe tbody tr th {\n",
       "        vertical-align: top;\n",
       "    }\n",
       "\n",
       "    .dataframe thead th {\n",
       "        text-align: right;\n",
       "    }\n",
       "</style>\n",
       "<table border=\"1\" class=\"dataframe\">\n",
       "  <thead>\n",
       "    <tr style=\"text-align: right;\">\n",
       "      <th></th>\n",
       "      <th>model_type</th>\n",
       "      <th>f1_downsampling</th>\n",
       "      <th>f1_upsampling</th>\n",
       "      <th>is_not_balanced_f1_less_down</th>\n",
       "      <th>is_not_balanced_f1_less_up</th>\n",
       "      <th>roc_auc_downsampling</th>\n",
       "      <th>roc_auc_upsampling</th>\n",
       "      <th>is_not_balanced_auc_less_down</th>\n",
       "      <th>is_not_balanced_auc_less_up</th>\n",
       "    </tr>\n",
       "  </thead>\n",
       "  <tbody>\n",
       "    <tr>\n",
       "      <th>0</th>\n",
       "      <td>Random Forest</td>\n",
       "      <td>0.591</td>\n",
       "      <td>0.618</td>\n",
       "      <td>True</td>\n",
       "      <td>True</td>\n",
       "      <td>0.8658</td>\n",
       "      <td>0.8655</td>\n",
       "      <td>True</td>\n",
       "      <td>True</td>\n",
       "    </tr>\n",
       "    <tr>\n",
       "      <th>1</th>\n",
       "      <td>Logistic Regression</td>\n",
       "      <td>0.489</td>\n",
       "      <td>0.486</td>\n",
       "      <td>True</td>\n",
       "      <td>True</td>\n",
       "      <td>0.7930</td>\n",
       "      <td>0.7933</td>\n",
       "      <td>True</td>\n",
       "      <td>True</td>\n",
       "    </tr>\n",
       "  </tbody>\n",
       "</table>\n",
       "</div>"
      ],
      "text/plain": [
       "            model_type  f1_downsampling  f1_upsampling  \\\n",
       "0        Random Forest            0.591          0.618   \n",
       "1  Logistic Regression            0.489          0.486   \n",
       "\n",
       "   is_not_balanced_f1_less_down  is_not_balanced_f1_less_up  \\\n",
       "0                          True                        True   \n",
       "1                          True                        True   \n",
       "\n",
       "   roc_auc_downsampling  roc_auc_upsampling  is_not_balanced_auc_less_down  \\\n",
       "0                0.8658              0.8655                           True   \n",
       "1                0.7930              0.7933                           True   \n",
       "\n",
       "   is_not_balanced_auc_less_up  \n",
       "0                         True  \n",
       "1                         True  "
      ]
     },
     "execution_count": 63,
     "metadata": {},
     "output_type": "execute_result"
    }
   ],
   "source": [
    "all_in_one = {\n",
    "    'model_type' : ['Random Forest', 'Logistic Regression'],\n",
    "    'f1_downsampling' : [round(best_f1_rf_down, 3), round(best_f1_lr_down, 3)],\n",
    "    'f1_upsampling' : [round(best_f1_rf_up, 3), round(best_f1_lr_up, 3)],\n",
    "    'is_not_balanced_f1_less_down' : [best_f1_rf_down >= best_rf , best_f1_lr_down >= best_lr],\n",
    "    'is_not_balanced_f1_less_up' : [best_f1_rf_up >= best_rf , best_f1_lr_up >= best_lr],\n",
    "    'roc_auc_downsampling' : [round(roc_auc_rf_down, 4), round(roc_auc_lr_down, 4)],\n",
    "    'roc_auc_upsampling' : [round(roc_auc_rf_up, 4), round(roc_auc_lr_up, 4)],\n",
    "    'is_not_balanced_auc_less_down' : [roc_auc_rf_down >= roc_auc_rf , roc_auc_lr_down >= roc_auc_lr],\n",
    "    'is_not_balanced_auc_less_up' : [roc_auc_rf_up >= roc_auc_rf , roc_auc_lr_up >= roc_auc_lr]\n",
    "}\n",
    "all_in_one = pd.DataFrame(all_in_one)\n",
    "all_in_one"
   ]
  },
  {
   "cell_type": "markdown",
   "metadata": {},
   "source": [
    "Судя по таблице, лучшей моделью будет является RandomForest со стратегией перебалансировки \"uppersampling\"!"
   ]
  },
  {
   "cell_type": "markdown",
   "metadata": {},
   "source": [
    "## Тестирование модели"
   ]
  },
  {
   "cell_type": "markdown",
   "metadata": {},
   "source": [
    "Протестируем модель на отдельной выборке:"
   ]
  },
  {
   "cell_type": "code",
   "execution_count": 69,
   "metadata": {},
   "outputs": [
    {
     "name": "stdout",
     "output_type": "stream",
     "text": [
      "F1: 0.5969084423305588\n"
     ]
    }
   ],
   "source": [
    "predictions = grid_imba_up.best_estimator_.predict(X_test)\n",
    "print(\"F1:\", f1_score(predictions, y_test))"
   ]
  },
  {
   "cell_type": "markdown",
   "metadata": {},
   "source": [
    "## Вывод"
   ]
  },
  {
   "cell_type": "markdown",
   "metadata": {},
   "source": [
    "**Обзор данных**\n",
    "\n",
    "- Данные о клиентах получили из файла `/datasets/Churn.csv`.\n",
    "- Предварительно качество данных было относительно хорошим: были лишь малые пропуски.\n",
    "- Сами данные представляли из себя сводку информации о клиентах банка (баланс на счете, личная инф. и тд.).\n",
    "\n",
    "**Предобработка**\n",
    "\n",
    "- Заполнили пропуски\n",
    "- Проверили данные на сбалансированность и дубликаты - дубликатов не обнаружилось, а баланс был 4 к 1 (нулевой класс к первому).\n",
    "- Сделали стандартизацию данных через масштабирование min-max. \n",
    "- Перевели все категориальные значения в качественные с помощью прямого кодирования, обойдя дамми-ловушки. \n",
    "- Разделели выборку с учетом дисбаланса и без (downsampling, upsampling)\n",
    "\n",
    "**Исследование моделей**\n",
    " \n",
    "Логическая регрессия:\n",
    "- Без дисбаланса: получили F1-меру - 0,298 \n",
    "- Уменьшение выборки: с такой стратегией F1-меру увеличилась до 0,488\n",
    "- Увеличение выборки: с такой стратегией F1-меру уменьшилась еще сильнее до 0,485\n",
    "- ROC-AUC  примерно 0,8\n",
    "\n",
    "Случайный лес:\n",
    "- Без дисбаланса: получили F1-меру 0,56\n",
    "- Уменьшение выборки: с такой стратегией F1-меру увеличилась до 0,59\n",
    "- Увеличение выборки: с такой стратегией F1-меру увеличилась до 0,61\n",
    "- ROC-AUC наибольший у стратегии с уменьшением выборки - целых 0,85\n",
    "\n",
    "Лучшая модель:\n",
    " \n",
    "Отличные показатели мы можем заметить у модели \"Случайный лес\" с uppersampling, где и F1-мера высока (0,61), и ROC-AUC (0,85), такие значения определяют модель наилучшей из представленных!\n"
   ]
  }
 ],
 "metadata": {
  "ExecuteTimeLog": [
   {
    "duration": 1868,
    "start_time": "2022-08-23T13:46:22.628Z"
   },
   {
    "duration": 189,
    "start_time": "2022-08-23T13:47:00.294Z"
   },
   {
    "duration": 19,
    "start_time": "2022-08-23T13:47:23.209Z"
   },
   {
    "duration": 14,
    "start_time": "2022-08-23T13:47:41.167Z"
   },
   {
    "duration": 8,
    "start_time": "2022-08-23T13:54:07.874Z"
   },
   {
    "duration": 10,
    "start_time": "2022-08-23T13:54:34.365Z"
   },
   {
    "duration": 22,
    "start_time": "2022-08-23T14:06:46.795Z"
   },
   {
    "duration": 1372,
    "start_time": "2022-08-23T14:07:42.486Z"
   },
   {
    "duration": 7,
    "start_time": "2022-08-23T14:08:03.444Z"
   },
   {
    "duration": 3,
    "start_time": "2022-08-23T14:09:38.984Z"
   },
   {
    "duration": 12,
    "start_time": "2022-08-23T14:12:13.588Z"
   },
   {
    "duration": 8655,
    "start_time": "2022-08-23T14:12:27.571Z"
   },
   {
    "duration": 33,
    "start_time": "2022-08-23T14:12:36.229Z"
   },
   {
    "duration": 1675,
    "start_time": "2022-08-23T14:13:11.557Z"
   },
   {
    "duration": 2551,
    "start_time": "2022-08-23T14:14:18.794Z"
   },
   {
    "duration": 1307,
    "start_time": "2022-08-23T14:14:21.348Z"
   },
   {
    "duration": 43,
    "start_time": "2022-08-23T14:14:22.657Z"
   },
   {
    "duration": 20,
    "start_time": "2022-08-23T14:14:22.702Z"
   },
   {
    "duration": 21,
    "start_time": "2022-08-23T14:14:22.725Z"
   },
   {
    "duration": 4,
    "start_time": "2022-08-23T14:14:22.749Z"
   },
   {
    "duration": 46,
    "start_time": "2022-08-23T14:14:22.756Z"
   },
   {
    "duration": 19,
    "start_time": "2022-08-23T14:14:22.805Z"
   },
   {
    "duration": 20,
    "start_time": "2022-08-23T14:14:22.826Z"
   },
   {
    "duration": 6,
    "start_time": "2022-08-23T14:14:34.345Z"
   },
   {
    "duration": 203,
    "start_time": "2022-08-23T14:15:17.750Z"
   },
   {
    "duration": 226,
    "start_time": "2022-08-23T14:15:24.471Z"
   },
   {
    "duration": 181,
    "start_time": "2022-08-23T14:15:33.732Z"
   },
   {
    "duration": 136,
    "start_time": "2022-08-23T14:15:54.922Z"
   },
   {
    "duration": 21,
    "start_time": "2022-08-23T14:16:01.898Z"
   },
   {
    "duration": 17,
    "start_time": "2022-08-23T14:16:07.979Z"
   },
   {
    "duration": 75,
    "start_time": "2022-08-23T14:16:40.075Z"
   },
   {
    "duration": 14,
    "start_time": "2022-08-23T14:17:25.038Z"
   },
   {
    "duration": 81,
    "start_time": "2022-08-23T14:18:34.776Z"
   },
   {
    "duration": 300,
    "start_time": "2022-08-23T14:19:04.396Z"
   },
   {
    "duration": 89,
    "start_time": "2022-08-23T14:19:07.728Z"
   },
   {
    "duration": 372,
    "start_time": "2022-08-23T14:20:10.771Z"
   },
   {
    "duration": 16,
    "start_time": "2022-08-23T14:20:33.194Z"
   },
   {
    "duration": 73,
    "start_time": "2022-08-23T14:20:39.684Z"
   },
   {
    "duration": 129,
    "start_time": "2022-08-23T14:23:19.921Z"
   },
   {
    "duration": 111,
    "start_time": "2022-08-23T14:23:29.166Z"
   },
   {
    "duration": 91,
    "start_time": "2022-08-23T14:23:45.683Z"
   },
   {
    "duration": 103,
    "start_time": "2022-08-23T14:24:01.871Z"
   },
   {
    "duration": 142,
    "start_time": "2022-08-23T14:24:03.902Z"
   },
   {
    "duration": 136,
    "start_time": "2022-08-23T14:24:08.127Z"
   },
   {
    "duration": 94,
    "start_time": "2022-08-23T14:24:13.056Z"
   },
   {
    "duration": 91,
    "start_time": "2022-08-23T14:24:27.188Z"
   },
   {
    "duration": 5,
    "start_time": "2022-08-23T14:28:23.051Z"
   },
   {
    "duration": 5,
    "start_time": "2022-08-23T14:29:13.556Z"
   },
   {
    "duration": 5,
    "start_time": "2022-08-23T14:29:18.821Z"
   },
   {
    "duration": 19,
    "start_time": "2022-08-23T14:30:04.716Z"
   },
   {
    "duration": 4,
    "start_time": "2022-08-23T14:30:08.668Z"
   },
   {
    "duration": 16,
    "start_time": "2022-08-23T14:30:21.608Z"
   },
   {
    "duration": 12,
    "start_time": "2022-08-23T14:31:25.064Z"
   },
   {
    "duration": 12,
    "start_time": "2022-08-23T14:31:50.462Z"
   },
   {
    "duration": 7,
    "start_time": "2022-08-23T14:32:08.416Z"
   },
   {
    "duration": 13,
    "start_time": "2022-08-23T14:32:21.029Z"
   },
   {
    "duration": 6,
    "start_time": "2022-08-23T14:32:27.318Z"
   },
   {
    "duration": 2547,
    "start_time": "2022-08-23T14:32:37.387Z"
   },
   {
    "duration": 1273,
    "start_time": "2022-08-23T14:32:39.938Z"
   },
   {
    "duration": 44,
    "start_time": "2022-08-23T14:32:41.213Z"
   },
   {
    "duration": 18,
    "start_time": "2022-08-23T14:32:41.258Z"
   },
   {
    "duration": 17,
    "start_time": "2022-08-23T14:32:41.278Z"
   },
   {
    "duration": 6,
    "start_time": "2022-08-23T14:32:41.301Z"
   },
   {
    "duration": 18,
    "start_time": "2022-08-23T14:32:41.309Z"
   },
   {
    "duration": 10,
    "start_time": "2022-08-23T14:32:41.329Z"
   },
   {
    "duration": 10,
    "start_time": "2022-08-23T14:32:41.341Z"
   },
   {
    "duration": 130,
    "start_time": "2022-08-23T14:32:59.594Z"
   },
   {
    "duration": 12,
    "start_time": "2022-08-23T14:33:03.150Z"
   },
   {
    "duration": 7,
    "start_time": "2022-08-23T14:33:14.612Z"
   },
   {
    "duration": 6,
    "start_time": "2022-08-23T14:33:20.430Z"
   },
   {
    "duration": 9,
    "start_time": "2022-08-23T14:33:26.615Z"
   },
   {
    "duration": 10,
    "start_time": "2022-08-23T14:33:39.805Z"
   },
   {
    "duration": 2651,
    "start_time": "2022-08-23T14:34:14.834Z"
   },
   {
    "duration": 1398,
    "start_time": "2022-08-23T14:34:17.487Z"
   },
   {
    "duration": 48,
    "start_time": "2022-08-23T14:34:18.887Z"
   },
   {
    "duration": 18,
    "start_time": "2022-08-23T14:34:18.937Z"
   },
   {
    "duration": 17,
    "start_time": "2022-08-23T14:34:18.956Z"
   },
   {
    "duration": 5,
    "start_time": "2022-08-23T14:34:18.974Z"
   },
   {
    "duration": 21,
    "start_time": "2022-08-23T14:34:18.981Z"
   },
   {
    "duration": 10,
    "start_time": "2022-08-23T14:34:19.004Z"
   },
   {
    "duration": 7,
    "start_time": "2022-08-23T14:34:19.016Z"
   },
   {
    "duration": 119,
    "start_time": "2022-08-23T14:34:19.025Z"
   },
   {
    "duration": 9,
    "start_time": "2022-08-23T14:34:19.145Z"
   },
   {
    "duration": 13,
    "start_time": "2022-08-23T14:34:21.460Z"
   },
   {
    "duration": 36,
    "start_time": "2022-08-23T14:35:03.681Z"
   },
   {
    "duration": 14,
    "start_time": "2022-08-23T14:35:22.209Z"
   },
   {
    "duration": 15,
    "start_time": "2022-08-23T14:35:35.728Z"
   },
   {
    "duration": 214,
    "start_time": "2022-08-23T14:38:37.087Z"
   },
   {
    "duration": 120,
    "start_time": "2022-08-23T14:40:17.631Z"
   },
   {
    "duration": 13,
    "start_time": "2022-08-23T14:40:23.470Z"
   },
   {
    "duration": 11,
    "start_time": "2022-08-23T14:40:35.256Z"
   },
   {
    "duration": 7,
    "start_time": "2022-08-23T14:40:43.753Z"
   },
   {
    "duration": 2702,
    "start_time": "2022-08-23T14:40:49.427Z"
   },
   {
    "duration": 1257,
    "start_time": "2022-08-23T14:40:52.132Z"
   },
   {
    "duration": 53,
    "start_time": "2022-08-23T14:40:53.391Z"
   },
   {
    "duration": 16,
    "start_time": "2022-08-23T14:40:53.446Z"
   },
   {
    "duration": 14,
    "start_time": "2022-08-23T14:40:53.464Z"
   },
   {
    "duration": 4,
    "start_time": "2022-08-23T14:40:53.479Z"
   },
   {
    "duration": 20,
    "start_time": "2022-08-23T14:40:53.485Z"
   },
   {
    "duration": 13,
    "start_time": "2022-08-23T14:40:53.507Z"
   },
   {
    "duration": 7,
    "start_time": "2022-08-23T14:40:53.521Z"
   },
   {
    "duration": 133,
    "start_time": "2022-08-23T14:40:53.530Z"
   },
   {
    "duration": 228,
    "start_time": "2022-08-23T14:40:53.664Z"
   },
   {
    "duration": 10,
    "start_time": "2022-08-23T14:40:54.499Z"
   },
   {
    "duration": 124,
    "start_time": "2022-08-23T14:41:19.001Z"
   },
   {
    "duration": 35,
    "start_time": "2022-08-23T14:41:25.875Z"
   },
   {
    "duration": 5,
    "start_time": "2022-08-23T14:41:28.513Z"
   },
   {
    "duration": 16,
    "start_time": "2022-08-23T14:41:30.905Z"
   },
   {
    "duration": 2630,
    "start_time": "2022-08-23T14:41:59.918Z"
   },
   {
    "duration": 1254,
    "start_time": "2022-08-23T14:42:02.550Z"
   },
   {
    "duration": 43,
    "start_time": "2022-08-23T14:42:03.806Z"
   },
   {
    "duration": 17,
    "start_time": "2022-08-23T14:42:03.851Z"
   },
   {
    "duration": 12,
    "start_time": "2022-08-23T14:42:03.870Z"
   },
   {
    "duration": 11,
    "start_time": "2022-08-23T14:42:03.885Z"
   },
   {
    "duration": 14,
    "start_time": "2022-08-23T14:42:03.903Z"
   },
   {
    "duration": 10,
    "start_time": "2022-08-23T14:42:03.919Z"
   },
   {
    "duration": 225,
    "start_time": "2022-08-23T14:42:03.930Z"
   },
   {
    "duration": 8,
    "start_time": "2022-08-23T14:42:04.157Z"
   },
   {
    "duration": 124,
    "start_time": "2022-08-23T14:42:04.166Z"
   },
   {
    "duration": 5,
    "start_time": "2022-08-23T14:42:10.156Z"
   },
   {
    "duration": 33,
    "start_time": "2022-08-23T14:42:10.681Z"
   },
   {
    "duration": 20,
    "start_time": "2022-08-23T14:42:11.288Z"
   },
   {
    "duration": 2712,
    "start_time": "2022-08-23T14:42:56.674Z"
   },
   {
    "duration": 1281,
    "start_time": "2022-08-23T14:42:59.388Z"
   },
   {
    "duration": 48,
    "start_time": "2022-08-23T14:43:00.671Z"
   },
   {
    "duration": 17,
    "start_time": "2022-08-23T14:43:00.721Z"
   },
   {
    "duration": 13,
    "start_time": "2022-08-23T14:43:00.741Z"
   },
   {
    "duration": 10,
    "start_time": "2022-08-23T14:43:00.756Z"
   },
   {
    "duration": 39,
    "start_time": "2022-08-23T14:43:00.767Z"
   },
   {
    "duration": 12,
    "start_time": "2022-08-23T14:43:00.808Z"
   },
   {
    "duration": 219,
    "start_time": "2022-08-23T14:43:00.822Z"
   },
   {
    "duration": 108,
    "start_time": "2022-08-23T14:43:01.043Z"
   },
   {
    "duration": 151,
    "start_time": "2022-08-23T14:43:01.153Z"
   },
   {
    "duration": 37,
    "start_time": "2022-08-23T14:43:01.306Z"
   },
   {
    "duration": 14900,
    "start_time": "2022-08-23T14:43:03.912Z"
   },
   {
    "duration": 38,
    "start_time": "2022-08-23T14:43:21.103Z"
   },
   {
    "duration": 13,
    "start_time": "2022-08-23T14:43:47.238Z"
   },
   {
    "duration": 5,
    "start_time": "2022-08-23T14:45:08.011Z"
   },
   {
    "duration": 122,
    "start_time": "2022-08-23T14:49:02.223Z"
   },
   {
    "duration": 2593,
    "start_time": "2022-08-23T14:49:14.732Z"
   },
   {
    "duration": 1252,
    "start_time": "2022-08-23T14:49:17.327Z"
   },
   {
    "duration": 48,
    "start_time": "2022-08-23T14:49:18.581Z"
   },
   {
    "duration": 17,
    "start_time": "2022-08-23T14:49:18.631Z"
   },
   {
    "duration": 12,
    "start_time": "2022-08-23T14:49:18.650Z"
   },
   {
    "duration": 3,
    "start_time": "2022-08-23T14:49:18.663Z"
   },
   {
    "duration": 16,
    "start_time": "2022-08-23T14:49:18.668Z"
   },
   {
    "duration": 23,
    "start_time": "2022-08-23T14:49:18.686Z"
   },
   {
    "duration": 9,
    "start_time": "2022-08-23T14:49:18.711Z"
   },
   {
    "duration": 7,
    "start_time": "2022-08-23T14:49:18.721Z"
   },
   {
    "duration": 204,
    "start_time": "2022-08-23T14:49:27.407Z"
   },
   {
    "duration": 100,
    "start_time": "2022-08-23T14:49:31.042Z"
   },
   {
    "duration": 122,
    "start_time": "2022-08-23T14:49:36.142Z"
   },
   {
    "duration": 36,
    "start_time": "2022-08-23T14:49:40.605Z"
   },
   {
    "duration": 15077,
    "start_time": "2022-08-23T14:49:50.367Z"
   },
   {
    "duration": 53,
    "start_time": "2022-08-23T14:50:05.446Z"
   },
   {
    "duration": 128,
    "start_time": "2022-08-23T14:50:36.528Z"
   },
   {
    "duration": 4,
    "start_time": "2022-08-23T14:50:41.030Z"
   },
   {
    "duration": 2740,
    "start_time": "2022-08-23T14:50:52.132Z"
   },
   {
    "duration": 1309,
    "start_time": "2022-08-23T14:50:54.874Z"
   },
   {
    "duration": 46,
    "start_time": "2022-08-23T14:50:56.185Z"
   },
   {
    "duration": 18,
    "start_time": "2022-08-23T14:50:56.233Z"
   },
   {
    "duration": 14,
    "start_time": "2022-08-23T14:50:56.253Z"
   },
   {
    "duration": 3,
    "start_time": "2022-08-23T14:50:56.269Z"
   },
   {
    "duration": 28,
    "start_time": "2022-08-23T14:50:56.273Z"
   },
   {
    "duration": 11,
    "start_time": "2022-08-23T14:50:56.302Z"
   },
   {
    "duration": 5,
    "start_time": "2022-08-23T14:50:56.315Z"
   },
   {
    "duration": 5,
    "start_time": "2022-08-23T14:50:57.344Z"
   },
   {
    "duration": 123,
    "start_time": "2022-08-23T14:51:07.305Z"
   },
   {
    "duration": 11,
    "start_time": "2022-08-23T14:51:10.641Z"
   },
   {
    "duration": 6,
    "start_time": "2022-08-23T14:51:14.243Z"
   },
   {
    "duration": 227,
    "start_time": "2022-08-23T14:51:24.253Z"
   },
   {
    "duration": 7,
    "start_time": "2022-08-23T14:51:35.177Z"
   },
   {
    "duration": 3027,
    "start_time": "2022-08-23T14:51:55.343Z"
   },
   {
    "duration": 1359,
    "start_time": "2022-08-23T14:51:58.373Z"
   },
   {
    "duration": 45,
    "start_time": "2022-08-23T14:51:59.735Z"
   },
   {
    "duration": 26,
    "start_time": "2022-08-23T14:51:59.782Z"
   },
   {
    "duration": 28,
    "start_time": "2022-08-23T14:51:59.810Z"
   },
   {
    "duration": 4,
    "start_time": "2022-08-23T14:51:59.840Z"
   },
   {
    "duration": 37,
    "start_time": "2022-08-23T14:51:59.846Z"
   },
   {
    "duration": 40,
    "start_time": "2022-08-23T14:51:59.885Z"
   },
   {
    "duration": 5,
    "start_time": "2022-08-23T14:51:59.927Z"
   },
   {
    "duration": 6,
    "start_time": "2022-08-23T14:51:59.935Z"
   },
   {
    "duration": 14,
    "start_time": "2022-08-23T14:51:59.943Z"
   },
   {
    "duration": 8,
    "start_time": "2022-08-23T14:51:59.959Z"
   },
   {
    "duration": 150,
    "start_time": "2022-08-23T14:51:59.969Z"
   },
   {
    "duration": 6,
    "start_time": "2022-08-23T14:52:00.121Z"
   },
   {
    "duration": 46,
    "start_time": "2022-08-23T14:52:00.129Z"
   },
   {
    "duration": 35,
    "start_time": "2022-08-23T14:52:00.176Z"
   },
   {
    "duration": 4,
    "start_time": "2022-08-23T14:58:14.013Z"
   },
   {
    "duration": 55,
    "start_time": "2022-08-23T15:01:14.503Z"
   },
   {
    "duration": 2650,
    "start_time": "2022-08-23T15:01:35.334Z"
   },
   {
    "duration": 1265,
    "start_time": "2022-08-23T15:01:37.987Z"
   },
   {
    "duration": 44,
    "start_time": "2022-08-23T15:01:39.254Z"
   },
   {
    "duration": 18,
    "start_time": "2022-08-23T15:01:39.301Z"
   },
   {
    "duration": 13,
    "start_time": "2022-08-23T15:01:39.320Z"
   },
   {
    "duration": 3,
    "start_time": "2022-08-23T15:01:39.335Z"
   },
   {
    "duration": 15,
    "start_time": "2022-08-23T15:01:39.340Z"
   },
   {
    "duration": 42,
    "start_time": "2022-08-23T15:01:39.357Z"
   },
   {
    "duration": 7,
    "start_time": "2022-08-23T15:01:39.402Z"
   },
   {
    "duration": 5,
    "start_time": "2022-08-23T15:01:39.411Z"
   },
   {
    "duration": 11,
    "start_time": "2022-08-23T15:01:39.418Z"
   },
   {
    "duration": 6,
    "start_time": "2022-08-23T15:01:39.431Z"
   },
   {
    "duration": 137,
    "start_time": "2022-08-23T15:01:42.883Z"
   },
   {
    "duration": 4,
    "start_time": "2022-08-23T15:04:20.922Z"
   },
   {
    "duration": 2674,
    "start_time": "2022-08-23T15:04:27.465Z"
   },
   {
    "duration": 1259,
    "start_time": "2022-08-23T15:04:30.142Z"
   },
   {
    "duration": 46,
    "start_time": "2022-08-23T15:04:31.404Z"
   },
   {
    "duration": 18,
    "start_time": "2022-08-23T15:04:31.452Z"
   },
   {
    "duration": 13,
    "start_time": "2022-08-23T15:04:31.471Z"
   },
   {
    "duration": 4,
    "start_time": "2022-08-23T15:04:31.486Z"
   },
   {
    "duration": 27,
    "start_time": "2022-08-23T15:04:31.492Z"
   },
   {
    "duration": 9,
    "start_time": "2022-08-23T15:04:31.521Z"
   },
   {
    "duration": 4,
    "start_time": "2022-08-23T15:04:31.532Z"
   },
   {
    "duration": 6,
    "start_time": "2022-08-23T15:04:31.538Z"
   },
   {
    "duration": 5,
    "start_time": "2022-08-23T15:04:31.545Z"
   },
   {
    "duration": 11,
    "start_time": "2022-08-23T15:04:31.552Z"
   },
   {
    "duration": 36,
    "start_time": "2022-08-23T15:04:31.565Z"
   },
   {
    "duration": 369,
    "start_time": "2022-08-23T15:04:31.603Z"
   },
   {
    "duration": 119,
    "start_time": "2022-08-23T15:10:38.525Z"
   },
   {
    "duration": 7,
    "start_time": "2022-08-23T15:10:40.082Z"
   },
   {
    "duration": 83,
    "start_time": "2022-08-23T15:10:40.733Z"
   },
   {
    "duration": 21,
    "start_time": "2022-08-23T15:10:42.905Z"
   },
   {
    "duration": 94,
    "start_time": "2022-08-23T15:12:09.527Z"
   },
   {
    "duration": 11,
    "start_time": "2022-08-23T15:14:52.318Z"
   },
   {
    "duration": 14,
    "start_time": "2022-08-23T15:14:57.047Z"
   },
   {
    "duration": 21,
    "start_time": "2022-08-23T15:18:18.537Z"
   },
   {
    "duration": 64,
    "start_time": "2022-08-23T15:18:31.093Z"
   },
   {
    "duration": 248,
    "start_time": "2022-08-23T15:18:34.523Z"
   },
   {
    "duration": 216,
    "start_time": "2022-08-23T15:18:48.340Z"
   },
   {
    "duration": 192,
    "start_time": "2022-08-23T15:18:50.768Z"
   },
   {
    "duration": 268,
    "start_time": "2022-08-23T15:19:32.271Z"
   },
   {
    "duration": 2684,
    "start_time": "2022-08-23T16:27:01.805Z"
   },
   {
    "duration": 1368,
    "start_time": "2022-08-23T16:27:04.493Z"
   },
   {
    "duration": 48,
    "start_time": "2022-08-23T16:27:05.862Z"
   },
   {
    "duration": 17,
    "start_time": "2022-08-23T16:27:05.912Z"
   },
   {
    "duration": 13,
    "start_time": "2022-08-23T16:27:05.931Z"
   },
   {
    "duration": 6,
    "start_time": "2022-08-23T16:27:05.946Z"
   },
   {
    "duration": 15,
    "start_time": "2022-08-23T16:27:05.953Z"
   },
   {
    "duration": 37,
    "start_time": "2022-08-23T16:27:05.970Z"
   },
   {
    "duration": 7,
    "start_time": "2022-08-23T16:27:06.009Z"
   },
   {
    "duration": 7,
    "start_time": "2022-08-23T16:27:06.017Z"
   },
   {
    "duration": 5,
    "start_time": "2022-08-23T16:27:06.026Z"
   },
   {
    "duration": 13,
    "start_time": "2022-08-23T16:27:06.033Z"
   },
   {
    "duration": 5,
    "start_time": "2022-08-23T16:27:06.048Z"
   },
   {
    "duration": 51,
    "start_time": "2022-08-23T16:27:06.055Z"
   },
   {
    "duration": 9,
    "start_time": "2022-08-23T16:27:06.109Z"
   },
   {
    "duration": 351,
    "start_time": "2022-08-23T16:27:06.120Z"
   },
   {
    "duration": 6,
    "start_time": "2022-08-23T16:27:11.574Z"
   },
   {
    "duration": 373,
    "start_time": "2022-08-23T16:27:13.887Z"
   },
   {
    "duration": 10,
    "start_time": "2022-08-23T16:27:20.762Z"
   },
   {
    "duration": 2628,
    "start_time": "2022-08-23T16:28:07.015Z"
   },
   {
    "duration": 2069,
    "start_time": "2022-08-23T16:28:09.646Z"
   },
   {
    "duration": 96,
    "start_time": "2022-08-23T16:28:11.716Z"
   },
   {
    "duration": 21,
    "start_time": "2022-08-23T16:28:11.814Z"
   },
   {
    "duration": 68,
    "start_time": "2022-08-23T16:28:11.837Z"
   },
   {
    "duration": 7,
    "start_time": "2022-08-23T16:28:11.907Z"
   },
   {
    "duration": 15,
    "start_time": "2022-08-23T16:28:11.916Z"
   },
   {
    "duration": 10,
    "start_time": "2022-08-23T16:28:11.932Z"
   },
   {
    "duration": 53,
    "start_time": "2022-08-23T16:28:11.943Z"
   },
   {
    "duration": 20,
    "start_time": "2022-08-23T16:28:11.998Z"
   },
   {
    "duration": 6,
    "start_time": "2022-08-23T16:28:12.019Z"
   },
   {
    "duration": 12,
    "start_time": "2022-08-23T16:28:12.027Z"
   },
   {
    "duration": 5,
    "start_time": "2022-08-23T16:28:12.041Z"
   },
   {
    "duration": 23,
    "start_time": "2022-08-23T16:28:12.093Z"
   },
   {
    "duration": 6,
    "start_time": "2022-08-23T16:28:12.118Z"
   },
   {
    "duration": 557,
    "start_time": "2022-08-23T16:28:12.126Z"
   },
   {
    "duration": 3,
    "start_time": "2022-08-23T16:28:15.049Z"
   },
   {
    "duration": 6,
    "start_time": "2022-08-23T16:31:15.909Z"
   },
   {
    "duration": 78,
    "start_time": "2022-08-23T16:31:16.432Z"
   },
   {
    "duration": 16,
    "start_time": "2022-08-23T16:31:18.390Z"
   },
   {
    "duration": 2695,
    "start_time": "2022-08-23T16:31:32.785Z"
   },
   {
    "duration": 1330,
    "start_time": "2022-08-23T16:31:35.482Z"
   },
   {
    "duration": 43,
    "start_time": "2022-08-23T16:31:36.813Z"
   },
   {
    "duration": 17,
    "start_time": "2022-08-23T16:31:36.858Z"
   },
   {
    "duration": 14,
    "start_time": "2022-08-23T16:31:36.877Z"
   },
   {
    "duration": 11,
    "start_time": "2022-08-23T16:31:36.896Z"
   },
   {
    "duration": 16,
    "start_time": "2022-08-23T16:31:36.909Z"
   },
   {
    "duration": 9,
    "start_time": "2022-08-23T16:31:36.927Z"
   },
   {
    "duration": 7,
    "start_time": "2022-08-23T16:31:36.938Z"
   },
   {
    "duration": 7,
    "start_time": "2022-08-23T16:31:36.947Z"
   },
   {
    "duration": 6,
    "start_time": "2022-08-23T16:31:36.956Z"
   },
   {
    "duration": 40,
    "start_time": "2022-08-23T16:31:36.963Z"
   },
   {
    "duration": 5,
    "start_time": "2022-08-23T16:31:37.005Z"
   },
   {
    "duration": 8,
    "start_time": "2022-08-23T16:31:37.013Z"
   },
   {
    "duration": 7,
    "start_time": "2022-08-23T16:31:37.023Z"
   },
   {
    "duration": 429,
    "start_time": "2022-08-23T16:31:37.031Z"
   },
   {
    "duration": 3,
    "start_time": "2022-08-23T16:31:37.462Z"
   },
   {
    "duration": 8,
    "start_time": "2022-08-23T16:31:37.466Z"
   },
   {
    "duration": 91,
    "start_time": "2022-08-23T16:31:37.475Z"
   },
   {
    "duration": 11,
    "start_time": "2022-08-23T16:31:37.568Z"
   },
   {
    "duration": 2615,
    "start_time": "2022-08-23T16:32:58.735Z"
   },
   {
    "duration": 1351,
    "start_time": "2022-08-23T16:33:01.353Z"
   },
   {
    "duration": 44,
    "start_time": "2022-08-23T16:33:02.705Z"
   },
   {
    "duration": 17,
    "start_time": "2022-08-23T16:33:02.751Z"
   },
   {
    "duration": 20,
    "start_time": "2022-08-23T16:33:02.770Z"
   },
   {
    "duration": 11,
    "start_time": "2022-08-23T16:33:02.794Z"
   },
   {
    "duration": 20,
    "start_time": "2022-08-23T16:33:02.807Z"
   },
   {
    "duration": 11,
    "start_time": "2022-08-23T16:33:02.830Z"
   },
   {
    "duration": 6,
    "start_time": "2022-08-23T16:33:02.843Z"
   },
   {
    "duration": 7,
    "start_time": "2022-08-23T16:33:02.852Z"
   },
   {
    "duration": 40,
    "start_time": "2022-08-23T16:33:02.861Z"
   },
   {
    "duration": 20,
    "start_time": "2022-08-23T16:33:02.903Z"
   },
   {
    "duration": 4,
    "start_time": "2022-08-23T16:33:02.925Z"
   },
   {
    "duration": 19,
    "start_time": "2022-08-23T16:33:12.034Z"
   },
   {
    "duration": 20,
    "start_time": "2022-08-23T16:33:31.939Z"
   },
   {
    "duration": 2706,
    "start_time": "2022-08-23T16:34:06.745Z"
   },
   {
    "duration": 1294,
    "start_time": "2022-08-23T16:34:09.454Z"
   },
   {
    "duration": 55,
    "start_time": "2022-08-23T16:34:10.750Z"
   },
   {
    "duration": 17,
    "start_time": "2022-08-23T16:34:10.809Z"
   },
   {
    "duration": 13,
    "start_time": "2022-08-23T16:34:10.828Z"
   },
   {
    "duration": 4,
    "start_time": "2022-08-23T16:34:10.842Z"
   },
   {
    "duration": 14,
    "start_time": "2022-08-23T16:34:10.847Z"
   },
   {
    "duration": 43,
    "start_time": "2022-08-23T16:34:10.863Z"
   },
   {
    "duration": 5,
    "start_time": "2022-08-23T16:34:10.908Z"
   },
   {
    "duration": 6,
    "start_time": "2022-08-23T16:34:10.915Z"
   },
   {
    "duration": 5,
    "start_time": "2022-08-23T16:34:10.923Z"
   },
   {
    "duration": 14,
    "start_time": "2022-08-23T16:34:19.787Z"
   },
   {
    "duration": 22,
    "start_time": "2022-08-23T16:34:25.982Z"
   },
   {
    "duration": 3219,
    "start_time": "2022-08-23T16:35:16.833Z"
   },
   {
    "duration": 1326,
    "start_time": "2022-08-23T16:35:20.055Z"
   },
   {
    "duration": 54,
    "start_time": "2022-08-23T16:35:21.383Z"
   },
   {
    "duration": 19,
    "start_time": "2022-08-23T16:35:21.441Z"
   },
   {
    "duration": 13,
    "start_time": "2022-08-23T16:35:21.462Z"
   },
   {
    "duration": 3,
    "start_time": "2022-08-23T16:35:21.477Z"
   },
   {
    "duration": 35,
    "start_time": "2022-08-23T16:35:21.482Z"
   },
   {
    "duration": 11,
    "start_time": "2022-08-23T16:35:21.518Z"
   },
   {
    "duration": 5,
    "start_time": "2022-08-23T16:35:21.531Z"
   },
   {
    "duration": 8,
    "start_time": "2022-08-23T16:35:21.538Z"
   },
   {
    "duration": 6,
    "start_time": "2022-08-23T16:35:21.548Z"
   },
   {
    "duration": 41,
    "start_time": "2022-08-23T16:35:21.555Z"
   },
   {
    "duration": 17,
    "start_time": "2022-08-23T16:35:21.599Z"
   },
   {
    "duration": 12,
    "start_time": "2022-08-23T16:35:21.618Z"
   },
   {
    "duration": 8,
    "start_time": "2022-08-23T16:35:21.632Z"
   },
   {
    "duration": 432,
    "start_time": "2022-08-23T16:35:21.642Z"
   },
   {
    "duration": 3,
    "start_time": "2022-08-23T16:35:22.076Z"
   },
   {
    "duration": 10,
    "start_time": "2022-08-23T16:35:22.093Z"
   },
   {
    "duration": 102,
    "start_time": "2022-08-23T16:35:22.109Z"
   },
   {
    "duration": 16,
    "start_time": "2022-08-23T16:35:22.212Z"
   },
   {
    "duration": 5,
    "start_time": "2022-08-23T16:46:33.265Z"
   },
   {
    "duration": 268,
    "start_time": "2022-08-23T16:50:49.640Z"
   },
   {
    "duration": 189,
    "start_time": "2022-08-23T16:51:03.109Z"
   },
   {
    "duration": 192,
    "start_time": "2022-08-23T16:51:30.750Z"
   },
   {
    "duration": 69,
    "start_time": "2022-08-23T16:51:37.429Z"
   },
   {
    "duration": 10545,
    "start_time": "2022-08-23T16:51:41.059Z"
   },
   {
    "duration": 4410,
    "start_time": "2022-08-23T16:52:11.100Z"
   },
   {
    "duration": 11,
    "start_time": "2022-08-23T16:53:33.816Z"
   },
   {
    "duration": 5,
    "start_time": "2022-08-23T16:53:56.942Z"
   },
   {
    "duration": 121,
    "start_time": "2022-08-23T16:54:00.061Z"
   },
   {
    "duration": 324,
    "start_time": "2022-08-23T17:00:25.273Z"
   },
   {
    "duration": 266,
    "start_time": "2022-08-23T17:01:29.335Z"
   },
   {
    "duration": 292,
    "start_time": "2022-08-23T17:01:58.822Z"
   },
   {
    "duration": 373,
    "start_time": "2022-08-23T17:02:14.227Z"
   },
   {
    "duration": 11,
    "start_time": "2022-08-23T17:34:24.226Z"
   },
   {
    "duration": 11,
    "start_time": "2022-08-23T17:34:40.151Z"
   },
   {
    "duration": 11,
    "start_time": "2022-08-23T17:37:36.802Z"
   },
   {
    "duration": 30058,
    "start_time": "2022-08-23T17:37:55.535Z"
   },
   {
    "duration": 2482,
    "start_time": "2022-08-23T19:08:21.322Z"
   },
   {
    "duration": 1322,
    "start_time": "2022-08-23T19:08:23.808Z"
   },
   {
    "duration": 43,
    "start_time": "2022-08-23T19:08:25.133Z"
   },
   {
    "duration": 18,
    "start_time": "2022-08-23T19:08:25.178Z"
   },
   {
    "duration": 34,
    "start_time": "2022-08-23T19:08:25.198Z"
   },
   {
    "duration": 6,
    "start_time": "2022-08-23T19:08:25.234Z"
   },
   {
    "duration": 29,
    "start_time": "2022-08-23T19:08:25.242Z"
   },
   {
    "duration": 28,
    "start_time": "2022-08-23T19:08:25.274Z"
   },
   {
    "duration": 15,
    "start_time": "2022-08-23T19:08:25.304Z"
   },
   {
    "duration": 35,
    "start_time": "2022-08-23T19:08:25.321Z"
   },
   {
    "duration": 12,
    "start_time": "2022-08-23T19:08:25.360Z"
   },
   {
    "duration": 18,
    "start_time": "2022-08-23T19:08:25.375Z"
   },
   {
    "duration": 6,
    "start_time": "2022-08-23T19:08:25.395Z"
   },
   {
    "duration": 10,
    "start_time": "2022-08-23T19:08:25.405Z"
   },
   {
    "duration": 8,
    "start_time": "2022-08-23T19:08:25.417Z"
   },
   {
    "duration": 437,
    "start_time": "2022-08-23T19:08:25.426Z"
   },
   {
    "duration": 3,
    "start_time": "2022-08-23T19:08:25.865Z"
   },
   {
    "duration": 8,
    "start_time": "2022-08-23T19:08:25.870Z"
   },
   {
    "duration": 79,
    "start_time": "2022-08-23T19:08:25.880Z"
   },
   {
    "duration": 16,
    "start_time": "2022-08-23T19:08:25.960Z"
   },
   {
    "duration": 332,
    "start_time": "2022-08-23T19:08:25.977Z"
   },
   {
    "duration": 0,
    "start_time": "2022-08-23T19:08:26.311Z"
   },
   {
    "duration": 0,
    "start_time": "2022-08-23T19:08:26.316Z"
   },
   {
    "duration": 0,
    "start_time": "2022-08-23T19:08:26.319Z"
   },
   {
    "duration": 0,
    "start_time": "2022-08-23T19:08:26.320Z"
   },
   {
    "duration": 33,
    "start_time": "2022-08-23T19:09:02.262Z"
   },
   {
    "duration": 4278,
    "start_time": "2022-08-23T19:09:09.270Z"
   },
   {
    "duration": 142,
    "start_time": "2022-08-23T19:09:13.550Z"
   },
   {
    "duration": 144,
    "start_time": "2022-08-23T19:09:13.694Z"
   },
   {
    "duration": 32066,
    "start_time": "2022-08-23T19:09:13.840Z"
   },
   {
    "duration": 11,
    "start_time": "2022-08-23T19:09:45.908Z"
   },
   {
    "duration": 0,
    "start_time": "2022-08-23T19:09:45.921Z"
   },
   {
    "duration": 12,
    "start_time": "2022-08-23T19:10:35.978Z"
   },
   {
    "duration": 15,
    "start_time": "2022-08-23T19:12:42.054Z"
   },
   {
    "duration": 7,
    "start_time": "2022-08-23T19:13:01.756Z"
   },
   {
    "duration": 119,
    "start_time": "2022-08-23T19:13:18.326Z"
   },
   {
    "duration": 271,
    "start_time": "2022-08-23T19:14:28.089Z"
   },
   {
    "duration": 2,
    "start_time": "2022-08-23T19:16:43.485Z"
   },
   {
    "duration": 5543,
    "start_time": "2022-08-23T19:18:05.106Z"
   },
   {
    "duration": 12,
    "start_time": "2022-08-23T19:18:10.651Z"
   },
   {
    "duration": 2843,
    "start_time": "2022-08-23T19:18:31.465Z"
   },
   {
    "duration": 1350,
    "start_time": "2022-08-23T19:18:34.311Z"
   },
   {
    "duration": 49,
    "start_time": "2022-08-23T19:18:35.663Z"
   },
   {
    "duration": 18,
    "start_time": "2022-08-23T19:18:35.714Z"
   },
   {
    "duration": 14,
    "start_time": "2022-08-23T19:18:35.734Z"
   },
   {
    "duration": 3,
    "start_time": "2022-08-23T19:18:35.750Z"
   },
   {
    "duration": 49,
    "start_time": "2022-08-23T19:18:35.754Z"
   },
   {
    "duration": 10,
    "start_time": "2022-08-23T19:18:35.808Z"
   },
   {
    "duration": 5,
    "start_time": "2022-08-23T19:18:35.820Z"
   },
   {
    "duration": 10,
    "start_time": "2022-08-23T19:18:35.826Z"
   },
   {
    "duration": 8,
    "start_time": "2022-08-23T19:18:35.837Z"
   },
   {
    "duration": 14,
    "start_time": "2022-08-23T19:18:35.846Z"
   },
   {
    "duration": 40,
    "start_time": "2022-08-23T19:18:35.866Z"
   },
   {
    "duration": 9,
    "start_time": "2022-08-23T19:18:35.909Z"
   },
   {
    "duration": 7,
    "start_time": "2022-08-23T19:18:35.920Z"
   },
   {
    "duration": 409,
    "start_time": "2022-08-23T19:18:35.928Z"
   },
   {
    "duration": 2,
    "start_time": "2022-08-23T19:18:36.339Z"
   },
   {
    "duration": 7,
    "start_time": "2022-08-23T19:18:36.343Z"
   },
   {
    "duration": 107,
    "start_time": "2022-08-23T19:18:36.352Z"
   },
   {
    "duration": 14,
    "start_time": "2022-08-23T19:18:36.461Z"
   },
   {
    "duration": 4499,
    "start_time": "2022-08-23T19:18:36.477Z"
   },
   {
    "duration": 146,
    "start_time": "2022-08-23T19:18:40.978Z"
   },
   {
    "duration": 153,
    "start_time": "2022-08-23T19:18:41.126Z"
   },
   {
    "duration": 32453,
    "start_time": "2022-08-23T19:18:41.281Z"
   },
   {
    "duration": 7,
    "start_time": "2022-08-23T19:19:13.736Z"
   },
   {
    "duration": 143,
    "start_time": "2022-08-23T19:19:13.745Z"
   },
   {
    "duration": 237,
    "start_time": "2022-08-23T19:19:13.893Z"
   },
   {
    "duration": 5833,
    "start_time": "2022-08-23T19:19:17.230Z"
   },
   {
    "duration": 5575,
    "start_time": "2022-08-23T19:19:49.139Z"
   },
   {
    "duration": 9646,
    "start_time": "2022-08-24T11:43:13.943Z"
   },
   {
    "duration": 1587,
    "start_time": "2022-08-24T11:43:23.591Z"
   },
   {
    "duration": 172,
    "start_time": "2022-08-24T11:43:25.181Z"
   },
   {
    "duration": 30,
    "start_time": "2022-08-24T11:43:25.355Z"
   },
   {
    "duration": 14,
    "start_time": "2022-08-24T11:43:25.387Z"
   },
   {
    "duration": 3,
    "start_time": "2022-08-24T11:43:25.403Z"
   },
   {
    "duration": 15,
    "start_time": "2022-08-24T11:43:25.407Z"
   },
   {
    "duration": 8,
    "start_time": "2022-08-24T11:43:25.424Z"
   },
   {
    "duration": 4,
    "start_time": "2022-08-24T11:43:25.434Z"
   },
   {
    "duration": 8,
    "start_time": "2022-08-24T11:43:25.440Z"
   },
   {
    "duration": 7,
    "start_time": "2022-08-24T11:43:25.468Z"
   },
   {
    "duration": 16,
    "start_time": "2022-08-24T11:43:25.478Z"
   },
   {
    "duration": 6,
    "start_time": "2022-08-24T11:43:25.496Z"
   },
   {
    "duration": 19,
    "start_time": "2022-08-24T11:43:25.505Z"
   },
   {
    "duration": 8,
    "start_time": "2022-08-24T11:43:25.526Z"
   },
   {
    "duration": 416,
    "start_time": "2022-08-24T11:43:25.536Z"
   },
   {
    "duration": 17,
    "start_time": "2022-08-24T11:43:25.954Z"
   },
   {
    "duration": 6,
    "start_time": "2022-08-24T11:43:25.980Z"
   },
   {
    "duration": 89,
    "start_time": "2022-08-24T11:43:25.988Z"
   },
   {
    "duration": 21,
    "start_time": "2022-08-24T11:43:26.079Z"
   },
   {
    "duration": 4273,
    "start_time": "2022-08-24T11:43:26.102Z"
   },
   {
    "duration": 142,
    "start_time": "2022-08-24T11:43:30.377Z"
   },
   {
    "duration": 150,
    "start_time": "2022-08-24T11:43:30.521Z"
   },
   {
    "duration": 30626,
    "start_time": "2022-08-24T11:43:30.673Z"
   },
   {
    "duration": 8,
    "start_time": "2022-08-24T11:44:01.300Z"
   },
   {
    "duration": 141,
    "start_time": "2022-08-24T11:44:01.310Z"
   },
   {
    "duration": 254,
    "start_time": "2022-08-24T11:44:01.453Z"
   },
   {
    "duration": 149285,
    "start_time": "2022-08-24T11:44:01.710Z"
   },
   {
    "duration": 35,
    "start_time": "2022-08-24T11:46:30.998Z"
   },
   {
    "duration": 215512,
    "start_time": "2022-08-24T11:47:17.333Z"
   },
   {
    "duration": 58,
    "start_time": "2022-08-24T11:50:52.847Z"
   },
   {
    "duration": 217574,
    "start_time": "2022-08-24T12:01:49.237Z"
   },
   {
    "duration": 78,
    "start_time": "2022-08-24T12:05:26.814Z"
   },
   {
    "duration": 158650,
    "start_time": "2022-08-24T12:06:05.200Z"
   },
   {
    "duration": 39,
    "start_time": "2022-08-24T12:08:43.852Z"
   },
   {
    "duration": 6,
    "start_time": "2022-08-24T13:41:01.524Z"
   },
   {
    "duration": 2879,
    "start_time": "2022-08-24T13:41:26.535Z"
   },
   {
    "duration": 5,
    "start_time": "2022-08-24T13:41:29.417Z"
   },
   {
    "duration": 56,
    "start_time": "2022-08-24T13:41:29.423Z"
   },
   {
    "duration": 19,
    "start_time": "2022-08-24T13:41:29.481Z"
   },
   {
    "duration": 33,
    "start_time": "2022-08-24T13:41:29.503Z"
   },
   {
    "duration": 6,
    "start_time": "2022-08-24T13:41:29.539Z"
   },
   {
    "duration": 21,
    "start_time": "2022-08-24T13:41:29.547Z"
   },
   {
    "duration": 11,
    "start_time": "2022-08-24T13:41:29.570Z"
   },
   {
    "duration": 5,
    "start_time": "2022-08-24T13:41:29.583Z"
   },
   {
    "duration": 10,
    "start_time": "2022-08-24T13:41:29.590Z"
   },
   {
    "duration": 7,
    "start_time": "2022-08-24T13:41:29.603Z"
   },
   {
    "duration": 20,
    "start_time": "2022-08-24T13:41:29.612Z"
   },
   {
    "duration": 5,
    "start_time": "2022-08-24T13:41:29.635Z"
   },
   {
    "duration": 13,
    "start_time": "2022-08-24T13:41:29.667Z"
   },
   {
    "duration": 8,
    "start_time": "2022-08-24T13:41:29.683Z"
   },
   {
    "duration": 173,
    "start_time": "2022-08-24T13:41:29.693Z"
   },
   {
    "duration": 335,
    "start_time": "2022-08-24T13:41:49.518Z"
   },
   {
    "duration": 329,
    "start_time": "2022-08-24T13:42:07.807Z"
   },
   {
    "duration": 3,
    "start_time": "2022-08-24T13:42:08.139Z"
   },
   {
    "duration": 8,
    "start_time": "2022-08-24T13:42:08.144Z"
   },
   {
    "duration": 68,
    "start_time": "2022-08-24T13:42:08.169Z"
   },
   {
    "duration": 16,
    "start_time": "2022-08-24T13:42:08.239Z"
   },
   {
    "duration": 5356,
    "start_time": "2022-08-24T13:42:08.256Z"
   },
   {
    "duration": 209,
    "start_time": "2022-08-24T13:42:13.614Z"
   },
   {
    "duration": 154,
    "start_time": "2022-08-24T13:42:13.825Z"
   },
   {
    "duration": 33551,
    "start_time": "2022-08-24T13:42:13.981Z"
   },
   {
    "duration": 7,
    "start_time": "2022-08-24T13:42:47.534Z"
   },
   {
    "duration": 136,
    "start_time": "2022-08-24T13:42:47.542Z"
   },
   {
    "duration": 131,
    "start_time": "2022-08-24T13:42:47.680Z"
   },
   {
    "duration": 55726,
    "start_time": "2022-08-24T13:42:47.813Z"
   },
   {
    "duration": 45,
    "start_time": "2022-08-24T13:43:43.541Z"
   },
   {
    "duration": 104757,
    "start_time": "2022-08-24T13:46:38.290Z"
   },
   {
    "duration": 34,
    "start_time": "2022-08-24T13:48:23.049Z"
   },
   {
    "duration": 5,
    "start_time": "2022-08-24T13:48:39.317Z"
   },
   {
    "duration": 2338,
    "start_time": "2022-08-24T13:52:34.988Z"
   },
   {
    "duration": 5,
    "start_time": "2022-08-24T13:52:37.328Z"
   },
   {
    "duration": 60,
    "start_time": "2022-08-24T13:52:37.335Z"
   },
   {
    "duration": 14,
    "start_time": "2022-08-24T13:52:37.398Z"
   },
   {
    "duration": 15,
    "start_time": "2022-08-24T13:52:37.415Z"
   },
   {
    "duration": 4,
    "start_time": "2022-08-24T13:52:37.433Z"
   },
   {
    "duration": 33,
    "start_time": "2022-08-24T13:52:37.439Z"
   },
   {
    "duration": 8,
    "start_time": "2022-08-24T13:52:37.474Z"
   },
   {
    "duration": 9,
    "start_time": "2022-08-24T13:52:37.484Z"
   },
   {
    "duration": 23,
    "start_time": "2022-08-24T13:52:37.496Z"
   },
   {
    "duration": 12,
    "start_time": "2022-08-24T13:52:37.521Z"
   },
   {
    "duration": 24,
    "start_time": "2022-08-24T13:52:37.535Z"
   },
   {
    "duration": 5,
    "start_time": "2022-08-24T13:52:37.561Z"
   },
   {
    "duration": 19,
    "start_time": "2022-08-24T13:52:37.568Z"
   },
   {
    "duration": 8,
    "start_time": "2022-08-24T13:52:37.589Z"
   },
   {
    "duration": 444,
    "start_time": "2022-08-24T13:52:40.325Z"
   },
   {
    "duration": 418,
    "start_time": "2022-08-24T13:53:39.950Z"
   },
   {
    "duration": 395,
    "start_time": "2022-08-24T13:53:53.390Z"
   },
   {
    "duration": 58005,
    "start_time": "2022-08-24T13:54:16.288Z"
   },
   {
    "duration": 25,
    "start_time": "2022-08-24T13:55:14.294Z"
   },
   {
    "duration": 6,
    "start_time": "2022-08-24T14:00:30.570Z"
   },
   {
    "duration": 2692,
    "start_time": "2022-08-24T14:00:37.466Z"
   },
   {
    "duration": 5,
    "start_time": "2022-08-24T14:00:40.161Z"
   },
   {
    "duration": 49,
    "start_time": "2022-08-24T14:00:40.168Z"
   },
   {
    "duration": 15,
    "start_time": "2022-08-24T14:00:40.219Z"
   },
   {
    "duration": 18,
    "start_time": "2022-08-24T14:00:40.237Z"
   },
   {
    "duration": 5,
    "start_time": "2022-08-24T14:00:40.257Z"
   },
   {
    "duration": 15,
    "start_time": "2022-08-24T14:00:40.268Z"
   },
   {
    "duration": 13,
    "start_time": "2022-08-24T14:00:40.285Z"
   },
   {
    "duration": 6,
    "start_time": "2022-08-24T14:00:40.300Z"
   },
   {
    "duration": 11,
    "start_time": "2022-08-24T14:00:40.308Z"
   },
   {
    "duration": 7,
    "start_time": "2022-08-24T14:00:40.321Z"
   },
   {
    "duration": 54,
    "start_time": "2022-08-24T14:00:40.330Z"
   },
   {
    "duration": 10,
    "start_time": "2022-08-24T14:00:40.386Z"
   },
   {
    "duration": 14,
    "start_time": "2022-08-24T14:00:40.400Z"
   },
   {
    "duration": 408,
    "start_time": "2022-08-24T14:00:45.350Z"
   },
   {
    "duration": 129387,
    "start_time": "2022-08-24T14:01:46.207Z"
   },
   {
    "duration": 23,
    "start_time": "2022-08-24T14:03:55.597Z"
   },
   {
    "duration": 126000,
    "start_time": "2022-08-24T14:04:13.875Z"
   },
   {
    "duration": 16,
    "start_time": "2022-08-24T14:06:19.878Z"
   },
   {
    "duration": 2482,
    "start_time": "2022-08-24T14:07:15.037Z"
   },
   {
    "duration": 7,
    "start_time": "2022-08-24T14:07:17.522Z"
   },
   {
    "duration": 57,
    "start_time": "2022-08-24T14:07:17.531Z"
   },
   {
    "duration": 14,
    "start_time": "2022-08-24T14:07:17.590Z"
   },
   {
    "duration": 16,
    "start_time": "2022-08-24T14:07:17.606Z"
   },
   {
    "duration": 4,
    "start_time": "2022-08-24T14:07:17.625Z"
   },
   {
    "duration": 38,
    "start_time": "2022-08-24T14:07:17.631Z"
   },
   {
    "duration": 56,
    "start_time": "2022-08-24T14:07:17.671Z"
   },
   {
    "duration": 47,
    "start_time": "2022-08-24T14:07:17.730Z"
   },
   {
    "duration": 9,
    "start_time": "2022-08-24T14:07:17.779Z"
   },
   {
    "duration": 2485,
    "start_time": "2022-08-24T14:07:20.113Z"
   },
   {
    "duration": 1348,
    "start_time": "2022-08-24T14:07:22.600Z"
   },
   {
    "duration": 47,
    "start_time": "2022-08-24T14:07:23.950Z"
   },
   {
    "duration": 18,
    "start_time": "2022-08-24T14:07:23.999Z"
   },
   {
    "duration": 15,
    "start_time": "2022-08-24T14:07:24.019Z"
   },
   {
    "duration": 3,
    "start_time": "2022-08-24T14:07:24.036Z"
   },
   {
    "duration": 15,
    "start_time": "2022-08-24T14:07:24.041Z"
   },
   {
    "duration": 24,
    "start_time": "2022-08-24T14:07:24.057Z"
   },
   {
    "duration": 8,
    "start_time": "2022-08-24T14:07:24.083Z"
   },
   {
    "duration": 9,
    "start_time": "2022-08-24T14:07:24.093Z"
   },
   {
    "duration": 6,
    "start_time": "2022-08-24T14:07:24.104Z"
   },
   {
    "duration": 13,
    "start_time": "2022-08-24T14:07:24.111Z"
   },
   {
    "duration": 8,
    "start_time": "2022-08-24T14:07:24.126Z"
   },
   {
    "duration": 8,
    "start_time": "2022-08-24T14:07:24.137Z"
   },
   {
    "duration": 14,
    "start_time": "2022-08-24T14:07:24.167Z"
   },
   {
    "duration": 131,
    "start_time": "2022-08-24T14:07:24.382Z"
   },
   {
    "duration": 360,
    "start_time": "2022-08-24T14:07:39.898Z"
   },
   {
    "duration": 131,
    "start_time": "2022-08-24T14:07:49.944Z"
   },
   {
    "duration": 3,
    "start_time": "2022-08-24T14:08:01.320Z"
   },
   {
    "duration": 5,
    "start_time": "2022-08-24T14:08:03.919Z"
   },
   {
    "duration": 87,
    "start_time": "2022-08-24T14:08:04.417Z"
   },
   {
    "duration": 17,
    "start_time": "2022-08-24T14:08:04.801Z"
   },
   {
    "duration": 445631,
    "start_time": "2022-08-24T14:08:12.154Z"
   },
   {
    "duration": 35,
    "start_time": "2022-08-24T14:15:37.787Z"
   },
   {
    "duration": 108,
    "start_time": "2022-08-24T14:28:56.479Z"
   },
   {
    "duration": 106574,
    "start_time": "2022-08-24T14:30:38.255Z"
   },
   {
    "duration": 23,
    "start_time": "2022-08-24T14:32:24.831Z"
   },
   {
    "duration": 2322,
    "start_time": "2022-08-24T14:39:39.219Z"
   },
   {
    "duration": 1360,
    "start_time": "2022-08-24T14:39:41.544Z"
   },
   {
    "duration": 44,
    "start_time": "2022-08-24T14:39:42.905Z"
   },
   {
    "duration": 18,
    "start_time": "2022-08-24T14:39:42.951Z"
   },
   {
    "duration": 13,
    "start_time": "2022-08-24T14:39:42.972Z"
   },
   {
    "duration": 5,
    "start_time": "2022-08-24T14:39:42.987Z"
   },
   {
    "duration": 17,
    "start_time": "2022-08-24T14:39:42.993Z"
   },
   {
    "duration": 10,
    "start_time": "2022-08-24T14:39:43.011Z"
   },
   {
    "duration": 5,
    "start_time": "2022-08-24T14:39:43.023Z"
   },
   {
    "duration": 39,
    "start_time": "2022-08-24T14:39:43.030Z"
   },
   {
    "duration": 6,
    "start_time": "2022-08-24T14:39:43.070Z"
   },
   {
    "duration": 16,
    "start_time": "2022-08-24T14:39:43.078Z"
   },
   {
    "duration": 6,
    "start_time": "2022-08-24T14:39:43.095Z"
   },
   {
    "duration": 9,
    "start_time": "2022-08-24T14:39:43.103Z"
   },
   {
    "duration": 6,
    "start_time": "2022-08-24T14:39:43.113Z"
   },
   {
    "duration": 116,
    "start_time": "2022-08-24T14:39:44.079Z"
   },
   {
    "duration": 13,
    "start_time": "2022-08-24T14:40:02.905Z"
   },
   {
    "duration": 28,
    "start_time": "2022-08-24T14:40:11.549Z"
   },
   {
    "duration": 5,
    "start_time": "2022-08-24T14:40:36.684Z"
   },
   {
    "duration": 26,
    "start_time": "2022-08-24T14:40:42.861Z"
   },
   {
    "duration": 327,
    "start_time": "2022-08-24T15:05:03.319Z"
   },
   {
    "duration": 102026,
    "start_time": "2022-08-24T15:05:18.912Z"
   },
   {
    "duration": 32,
    "start_time": "2022-08-24T15:07:00.940Z"
   },
   {
    "duration": 5,
    "start_time": "2022-08-24T15:08:22.383Z"
   },
   {
    "duration": 23,
    "start_time": "2022-08-24T15:08:24.436Z"
   },
   {
    "duration": 299,
    "start_time": "2022-08-24T15:08:29.326Z"
   },
   {
    "duration": 3862,
    "start_time": "2022-08-24T15:09:47.420Z"
   },
   {
    "duration": 2422,
    "start_time": "2022-08-24T15:10:47.494Z"
   },
   {
    "duration": 1380,
    "start_time": "2022-08-24T15:10:49.919Z"
   },
   {
    "duration": 45,
    "start_time": "2022-08-24T15:10:51.302Z"
   },
   {
    "duration": 20,
    "start_time": "2022-08-24T15:10:51.349Z"
   },
   {
    "duration": 15,
    "start_time": "2022-08-24T15:10:51.373Z"
   },
   {
    "duration": 3,
    "start_time": "2022-08-24T15:10:51.390Z"
   },
   {
    "duration": 16,
    "start_time": "2022-08-24T15:10:51.395Z"
   },
   {
    "duration": 10,
    "start_time": "2022-08-24T15:10:51.413Z"
   },
   {
    "duration": 6,
    "start_time": "2022-08-24T15:10:51.424Z"
   },
   {
    "duration": 45,
    "start_time": "2022-08-24T15:10:51.432Z"
   },
   {
    "duration": 6,
    "start_time": "2022-08-24T15:10:51.479Z"
   },
   {
    "duration": 19,
    "start_time": "2022-08-24T15:10:51.487Z"
   },
   {
    "duration": 6,
    "start_time": "2022-08-24T15:10:51.508Z"
   },
   {
    "duration": 12,
    "start_time": "2022-08-24T15:10:51.517Z"
   },
   {
    "duration": 10,
    "start_time": "2022-08-24T15:10:51.531Z"
   },
   {
    "duration": 5,
    "start_time": "2022-08-24T15:10:51.568Z"
   },
   {
    "duration": 20,
    "start_time": "2022-08-24T15:10:51.575Z"
   },
   {
    "duration": 335,
    "start_time": "2022-08-24T15:10:51.598Z"
   },
   {
    "duration": 5,
    "start_time": "2022-08-24T15:10:51.935Z"
   },
   {
    "duration": 135,
    "start_time": "2022-08-24T15:10:51.941Z"
   },
   {
    "duration": 0,
    "start_time": "2022-08-24T15:10:52.078Z"
   },
   {
    "duration": 4,
    "start_time": "2022-08-24T15:11:51.136Z"
   },
   {
    "duration": 1324,
    "start_time": "2022-08-24T15:12:04.561Z"
   },
   {
    "duration": 41,
    "start_time": "2022-08-24T15:12:05.888Z"
   },
   {
    "duration": 18,
    "start_time": "2022-08-24T15:12:05.930Z"
   },
   {
    "duration": 14,
    "start_time": "2022-08-24T15:12:05.949Z"
   },
   {
    "duration": 3,
    "start_time": "2022-08-24T15:12:05.965Z"
   },
   {
    "duration": 14,
    "start_time": "2022-08-24T15:12:05.969Z"
   },
   {
    "duration": 8,
    "start_time": "2022-08-24T15:12:05.984Z"
   },
   {
    "duration": 7,
    "start_time": "2022-08-24T15:12:05.994Z"
   },
   {
    "duration": 7,
    "start_time": "2022-08-24T15:12:06.003Z"
   },
   {
    "duration": 9,
    "start_time": "2022-08-24T15:12:06.012Z"
   },
   {
    "duration": 15,
    "start_time": "2022-08-24T15:12:06.023Z"
   },
   {
    "duration": 5,
    "start_time": "2022-08-24T15:12:06.040Z"
   },
   {
    "duration": 26,
    "start_time": "2022-08-24T15:12:06.047Z"
   },
   {
    "duration": 6,
    "start_time": "2022-08-24T15:12:06.075Z"
   },
   {
    "duration": 7,
    "start_time": "2022-08-24T15:12:06.082Z"
   },
   {
    "duration": 18,
    "start_time": "2022-08-24T15:12:06.090Z"
   },
   {
    "duration": 330,
    "start_time": "2022-08-24T15:12:06.109Z"
   },
   {
    "duration": 6,
    "start_time": "2022-08-24T15:12:06.441Z"
   },
   {
    "duration": 154,
    "start_time": "2022-08-24T15:12:07.576Z"
   },
   {
    "duration": 23,
    "start_time": "2022-08-24T15:12:17.318Z"
   },
   {
    "duration": 49,
    "start_time": "2022-08-24T15:12:23.886Z"
   },
   {
    "duration": 20,
    "start_time": "2022-08-24T15:12:25.540Z"
   },
   {
    "duration": 4096,
    "start_time": "2022-08-24T15:12:45.722Z"
   },
   {
    "duration": 7961,
    "start_time": "2022-08-24T15:15:50.582Z"
   },
   {
    "duration": 16025,
    "start_time": "2022-08-24T15:18:33.783Z"
   },
   {
    "duration": 98209,
    "start_time": "2022-08-24T15:22:28.464Z"
   },
   {
    "duration": 28,
    "start_time": "2022-08-24T15:24:06.677Z"
   },
   {
    "duration": 326252,
    "start_time": "2022-08-24T15:25:19.945Z"
   },
   {
    "duration": 24,
    "start_time": "2022-08-24T15:30:46.199Z"
   },
   {
    "duration": 1269,
    "start_time": "2022-08-24T15:32:05.304Z"
   },
   {
    "duration": 59,
    "start_time": "2022-08-24T15:32:06.578Z"
   },
   {
    "duration": 20,
    "start_time": "2022-08-24T15:32:06.639Z"
   },
   {
    "duration": 20,
    "start_time": "2022-08-24T15:32:06.661Z"
   },
   {
    "duration": 13,
    "start_time": "2022-08-24T15:32:06.684Z"
   },
   {
    "duration": 29,
    "start_time": "2022-08-24T15:32:06.699Z"
   },
   {
    "duration": 13,
    "start_time": "2022-08-24T15:32:06.730Z"
   },
   {
    "duration": 9,
    "start_time": "2022-08-24T15:32:06.745Z"
   },
   {
    "duration": 12,
    "start_time": "2022-08-24T15:32:06.767Z"
   },
   {
    "duration": 135,
    "start_time": "2022-08-24T15:32:06.782Z"
   },
   {
    "duration": 0,
    "start_time": "2022-08-24T15:32:06.918Z"
   },
   {
    "duration": 0,
    "start_time": "2022-08-24T15:32:06.920Z"
   },
   {
    "duration": 0,
    "start_time": "2022-08-24T15:32:06.921Z"
   },
   {
    "duration": 0,
    "start_time": "2022-08-24T15:32:06.921Z"
   },
   {
    "duration": 0,
    "start_time": "2022-08-24T15:32:06.922Z"
   },
   {
    "duration": 0,
    "start_time": "2022-08-24T15:32:06.924Z"
   },
   {
    "duration": 0,
    "start_time": "2022-08-24T15:32:06.924Z"
   },
   {
    "duration": 0,
    "start_time": "2022-08-24T15:32:06.925Z"
   },
   {
    "duration": 0,
    "start_time": "2022-08-24T15:32:06.926Z"
   },
   {
    "duration": 0,
    "start_time": "2022-08-24T15:32:06.927Z"
   },
   {
    "duration": 0,
    "start_time": "2022-08-24T15:32:06.928Z"
   },
   {
    "duration": 0,
    "start_time": "2022-08-24T15:32:06.929Z"
   },
   {
    "duration": 0,
    "start_time": "2022-08-24T15:32:06.931Z"
   },
   {
    "duration": 14,
    "start_time": "2022-08-24T15:32:29.069Z"
   },
   {
    "duration": 5,
    "start_time": "2022-08-24T15:32:42.376Z"
   },
   {
    "duration": 11,
    "start_time": "2022-08-24T15:32:46.728Z"
   },
   {
    "duration": 7,
    "start_time": "2022-08-24T15:32:46.741Z"
   },
   {
    "duration": 17,
    "start_time": "2022-08-24T15:32:46.750Z"
   },
   {
    "duration": 17,
    "start_time": "2022-08-24T15:32:46.770Z"
   },
   {
    "duration": 12,
    "start_time": "2022-08-24T15:32:46.790Z"
   },
   {
    "duration": 19,
    "start_time": "2022-08-24T15:32:46.803Z"
   },
   {
    "duration": 310,
    "start_time": "2022-08-24T15:32:46.824Z"
   },
   {
    "duration": 6,
    "start_time": "2022-08-24T15:32:47.136Z"
   },
   {
    "duration": 73,
    "start_time": "2022-08-24T15:32:47.143Z"
   },
   {
    "duration": 14,
    "start_time": "2022-08-24T15:32:47.217Z"
   },
   {
    "duration": 17187,
    "start_time": "2022-08-24T15:32:47.233Z"
   },
   {
    "duration": 134,
    "start_time": "2022-08-24T15:33:04.421Z"
   },
   {
    "duration": 155,
    "start_time": "2022-08-24T15:33:04.557Z"
   },
   {
    "duration": 272765,
    "start_time": "2022-08-24T15:33:04.715Z"
   },
   {
    "duration": 22,
    "start_time": "2022-08-24T15:37:37.482Z"
   },
   {
    "duration": 23117,
    "start_time": "2022-08-24T15:38:04.003Z"
   },
   {
    "duration": 1505,
    "start_time": "2022-08-24T21:20:34.713Z"
   },
   {
    "duration": 94,
    "start_time": "2022-08-24T21:20:36.220Z"
   },
   {
    "duration": 14,
    "start_time": "2022-08-24T21:20:36.316Z"
   },
   {
    "duration": 19,
    "start_time": "2022-08-24T21:20:36.332Z"
   },
   {
    "duration": 3,
    "start_time": "2022-08-24T21:20:36.353Z"
   },
   {
    "duration": 14,
    "start_time": "2022-08-24T21:20:36.357Z"
   },
   {
    "duration": 8,
    "start_time": "2022-08-24T21:20:36.372Z"
   },
   {
    "duration": 3,
    "start_time": "2022-08-24T21:20:36.382Z"
   },
   {
    "duration": 13,
    "start_time": "2022-08-24T21:20:36.387Z"
   },
   {
    "duration": 6,
    "start_time": "2022-08-24T21:20:36.401Z"
   },
   {
    "duration": 17,
    "start_time": "2022-08-24T21:20:36.408Z"
   },
   {
    "duration": 4,
    "start_time": "2022-08-24T21:20:36.427Z"
   },
   {
    "duration": 9,
    "start_time": "2022-08-24T21:20:36.432Z"
   },
   {
    "duration": 5,
    "start_time": "2022-08-24T21:20:36.443Z"
   },
   {
    "duration": 5,
    "start_time": "2022-08-24T21:20:36.450Z"
   },
   {
    "duration": 16,
    "start_time": "2022-08-24T21:20:36.456Z"
   },
   {
    "duration": 352,
    "start_time": "2022-08-24T21:20:36.474Z"
   },
   {
    "duration": 5,
    "start_time": "2022-08-24T21:20:36.827Z"
   },
   {
    "duration": 57,
    "start_time": "2022-08-24T21:20:36.833Z"
   },
   {
    "duration": 14,
    "start_time": "2022-08-24T21:20:36.900Z"
   },
   {
    "duration": 14982,
    "start_time": "2022-08-24T21:20:36.915Z"
   },
   {
    "duration": 120,
    "start_time": "2022-08-24T21:20:51.899Z"
   },
   {
    "duration": 118,
    "start_time": "2022-08-24T21:20:52.022Z"
   },
   {
    "duration": 14288,
    "start_time": "2022-08-24T21:21:28.198Z"
   },
   {
    "duration": 123,
    "start_time": "2022-08-24T21:21:42.488Z"
   },
   {
    "duration": 21,
    "start_time": "2022-08-24T21:21:42.613Z"
   },
   {
    "duration": 17,
    "start_time": "2022-08-24T21:23:52.744Z"
   },
   {
    "duration": 116,
    "start_time": "2022-08-24T21:24:32.362Z"
   },
   {
    "duration": 185,
    "start_time": "2022-08-24T21:25:57.542Z"
   },
   {
    "duration": 118,
    "start_time": "2022-08-24T21:28:47.833Z"
   },
   {
    "duration": 127,
    "start_time": "2022-08-24T21:29:38.009Z"
   },
   {
    "duration": 1303,
    "start_time": "2022-08-24T21:30:18.804Z"
   },
   {
    "duration": 41,
    "start_time": "2022-08-24T21:30:20.109Z"
   },
   {
    "duration": 15,
    "start_time": "2022-08-24T21:30:20.151Z"
   },
   {
    "duration": 12,
    "start_time": "2022-08-24T21:30:20.167Z"
   },
   {
    "duration": 3,
    "start_time": "2022-08-24T21:30:20.181Z"
   },
   {
    "duration": 13,
    "start_time": "2022-08-24T21:30:20.185Z"
   },
   {
    "duration": 8,
    "start_time": "2022-08-24T21:30:20.200Z"
   },
   {
    "duration": 4,
    "start_time": "2022-08-24T21:30:20.209Z"
   },
   {
    "duration": 11,
    "start_time": "2022-08-24T21:30:20.215Z"
   },
   {
    "duration": 11,
    "start_time": "2022-08-24T21:30:20.227Z"
   },
   {
    "duration": 40,
    "start_time": "2022-08-24T21:30:20.239Z"
   },
   {
    "duration": 5,
    "start_time": "2022-08-24T21:30:20.281Z"
   },
   {
    "duration": 16,
    "start_time": "2022-08-24T21:30:20.288Z"
   },
   {
    "duration": 10,
    "start_time": "2022-08-24T21:30:20.306Z"
   },
   {
    "duration": 12,
    "start_time": "2022-08-24T21:30:20.318Z"
   },
   {
    "duration": 30,
    "start_time": "2022-08-24T21:30:20.332Z"
   },
   {
    "duration": 289,
    "start_time": "2022-08-24T21:30:20.363Z"
   },
   {
    "duration": 4,
    "start_time": "2022-08-24T21:30:20.654Z"
   },
   {
    "duration": 67,
    "start_time": "2022-08-24T21:30:20.660Z"
   },
   {
    "duration": 14,
    "start_time": "2022-08-24T21:30:20.728Z"
   },
   {
    "duration": 13750,
    "start_time": "2022-08-24T21:30:22.503Z"
   },
   {
    "duration": 220,
    "start_time": "2022-08-24T21:30:36.255Z"
   },
   {
    "duration": 6,
    "start_time": "2022-08-24T21:31:36.305Z"
   },
   {
    "duration": 6,
    "start_time": "2022-08-24T21:31:45.355Z"
   },
   {
    "duration": 7084,
    "start_time": "2022-08-24T21:33:16.350Z"
   },
   {
    "duration": 3701,
    "start_time": "2022-08-24T21:33:28.577Z"
   },
   {
    "duration": 218,
    "start_time": "2022-08-24T21:33:33.289Z"
   },
   {
    "duration": 410,
    "start_time": "2022-08-24T21:33:39.406Z"
   },
   {
    "duration": 317,
    "start_time": "2022-08-24T21:33:46.783Z"
   },
   {
    "duration": 754,
    "start_time": "2022-08-24T21:33:50.180Z"
   },
   {
    "duration": 35339,
    "start_time": "2022-08-24T21:33:54.643Z"
   },
   {
    "duration": 1289,
    "start_time": "2022-08-24T21:34:34.930Z"
   },
   {
    "duration": 44,
    "start_time": "2022-08-24T21:34:36.221Z"
   },
   {
    "duration": 19,
    "start_time": "2022-08-24T21:34:36.267Z"
   },
   {
    "duration": 12,
    "start_time": "2022-08-24T21:34:36.288Z"
   },
   {
    "duration": 2,
    "start_time": "2022-08-24T21:34:36.302Z"
   },
   {
    "duration": 13,
    "start_time": "2022-08-24T21:34:36.306Z"
   },
   {
    "duration": 10,
    "start_time": "2022-08-24T21:34:36.321Z"
   },
   {
    "duration": 6,
    "start_time": "2022-08-24T21:34:36.332Z"
   },
   {
    "duration": 6,
    "start_time": "2022-08-24T21:34:36.339Z"
   },
   {
    "duration": 6,
    "start_time": "2022-08-24T21:34:36.347Z"
   },
   {
    "duration": 47,
    "start_time": "2022-08-24T21:34:36.354Z"
   },
   {
    "duration": 6,
    "start_time": "2022-08-24T21:34:36.403Z"
   },
   {
    "duration": 11,
    "start_time": "2022-08-24T21:34:36.411Z"
   },
   {
    "duration": 7,
    "start_time": "2022-08-24T21:34:36.423Z"
   },
   {
    "duration": 5,
    "start_time": "2022-08-24T21:34:36.432Z"
   },
   {
    "duration": 16,
    "start_time": "2022-08-24T21:34:36.438Z"
   },
   {
    "duration": 300,
    "start_time": "2022-08-24T21:34:36.455Z"
   },
   {
    "duration": 4,
    "start_time": "2022-08-24T21:34:36.757Z"
   },
   {
    "duration": 74,
    "start_time": "2022-08-24T21:34:36.763Z"
   },
   {
    "duration": 15,
    "start_time": "2022-08-24T21:34:36.839Z"
   },
   {
    "duration": 24081,
    "start_time": "2022-08-24T21:34:36.857Z"
   },
   {
    "duration": 1271,
    "start_time": "2022-08-24T21:35:09.954Z"
   },
   {
    "duration": 40,
    "start_time": "2022-08-24T21:35:11.227Z"
   },
   {
    "duration": 16,
    "start_time": "2022-08-24T21:35:11.268Z"
   },
   {
    "duration": 11,
    "start_time": "2022-08-24T21:35:11.286Z"
   },
   {
    "duration": 3,
    "start_time": "2022-08-24T21:35:11.299Z"
   },
   {
    "duration": 14,
    "start_time": "2022-08-24T21:35:11.303Z"
   },
   {
    "duration": 9,
    "start_time": "2022-08-24T21:35:11.318Z"
   },
   {
    "duration": 4,
    "start_time": "2022-08-24T21:35:11.328Z"
   },
   {
    "duration": 6,
    "start_time": "2022-08-24T21:35:11.334Z"
   },
   {
    "duration": 8,
    "start_time": "2022-08-24T21:35:11.342Z"
   },
   {
    "duration": 15,
    "start_time": "2022-08-24T21:35:11.351Z"
   },
   {
    "duration": 33,
    "start_time": "2022-08-24T21:35:11.367Z"
   },
   {
    "duration": 7,
    "start_time": "2022-08-24T21:35:11.402Z"
   },
   {
    "duration": 6,
    "start_time": "2022-08-24T21:35:11.411Z"
   },
   {
    "duration": 5,
    "start_time": "2022-08-24T21:35:11.419Z"
   },
   {
    "duration": 38,
    "start_time": "2022-08-24T21:35:11.425Z"
   },
   {
    "duration": 296,
    "start_time": "2022-08-24T21:35:11.466Z"
   },
   {
    "duration": 5,
    "start_time": "2022-08-24T21:35:11.764Z"
   },
   {
    "duration": 75,
    "start_time": "2022-08-24T21:35:11.770Z"
   },
   {
    "duration": 14,
    "start_time": "2022-08-24T21:35:11.846Z"
   },
   {
    "duration": 3641,
    "start_time": "2022-08-24T21:35:11.861Z"
   },
   {
    "duration": 110,
    "start_time": "2022-08-24T21:35:30.841Z"
   },
   {
    "duration": 217,
    "start_time": "2022-08-24T21:35:35.275Z"
   },
   {
    "duration": 126,
    "start_time": "2022-08-24T21:39:54.347Z"
   },
   {
    "duration": 203,
    "start_time": "2022-08-24T21:40:22.578Z"
   },
   {
    "duration": 271,
    "start_time": "2022-08-24T21:41:06.808Z"
   },
   {
    "duration": 264,
    "start_time": "2022-08-24T21:41:37.601Z"
   },
   {
    "duration": 246,
    "start_time": "2022-08-24T21:41:52.529Z"
   },
   {
    "duration": 149,
    "start_time": "2022-08-24T21:42:48.928Z"
   },
   {
    "duration": 141,
    "start_time": "2022-08-24T21:43:03.351Z"
   },
   {
    "duration": 442,
    "start_time": "2022-08-24T21:43:57.470Z"
   },
   {
    "duration": 211,
    "start_time": "2022-08-24T21:44:35.841Z"
   },
   {
    "duration": 212,
    "start_time": "2022-08-24T21:44:56.211Z"
   },
   {
    "duration": 122,
    "start_time": "2022-08-24T21:45:18.944Z"
   },
   {
    "duration": 107,
    "start_time": "2022-08-24T21:46:02.305Z"
   },
   {
    "duration": 218,
    "start_time": "2022-08-24T21:46:17.323Z"
   },
   {
    "duration": 125,
    "start_time": "2022-08-24T21:47:16.447Z"
   },
   {
    "duration": 119,
    "start_time": "2022-08-24T21:47:23.100Z"
   },
   {
    "duration": 105,
    "start_time": "2022-08-24T21:47:51.865Z"
   },
   {
    "duration": 106,
    "start_time": "2022-08-24T21:48:02.360Z"
   },
   {
    "duration": 119,
    "start_time": "2022-08-24T21:48:33.675Z"
   },
   {
    "duration": 1261,
    "start_time": "2022-08-24T21:50:54.043Z"
   },
   {
    "duration": 40,
    "start_time": "2022-08-24T21:50:55.306Z"
   },
   {
    "duration": 16,
    "start_time": "2022-08-24T21:50:55.347Z"
   },
   {
    "duration": 14,
    "start_time": "2022-08-24T21:50:55.365Z"
   },
   {
    "duration": 3,
    "start_time": "2022-08-24T21:50:55.381Z"
   },
   {
    "duration": 14,
    "start_time": "2022-08-24T21:50:55.386Z"
   },
   {
    "duration": 9,
    "start_time": "2022-08-24T21:50:55.401Z"
   },
   {
    "duration": 6,
    "start_time": "2022-08-24T21:50:55.411Z"
   },
   {
    "duration": 6,
    "start_time": "2022-08-24T21:50:55.418Z"
   },
   {
    "duration": 7,
    "start_time": "2022-08-24T21:50:55.426Z"
   },
   {
    "duration": 12,
    "start_time": "2022-08-24T21:50:55.434Z"
   },
   {
    "duration": 7,
    "start_time": "2022-08-24T21:50:55.448Z"
   },
   {
    "duration": 8,
    "start_time": "2022-08-24T21:50:55.457Z"
   },
   {
    "duration": 32,
    "start_time": "2022-08-24T21:50:55.468Z"
   },
   {
    "duration": 4,
    "start_time": "2022-08-24T21:50:55.502Z"
   },
   {
    "duration": 18,
    "start_time": "2022-08-24T21:50:55.507Z"
   },
   {
    "duration": 316,
    "start_time": "2022-08-24T21:50:55.526Z"
   },
   {
    "duration": 4,
    "start_time": "2022-08-24T21:50:55.844Z"
   },
   {
    "duration": 72,
    "start_time": "2022-08-24T21:50:55.850Z"
   },
   {
    "duration": 13,
    "start_time": "2022-08-24T21:50:55.924Z"
   },
   {
    "duration": 372,
    "start_time": "2022-08-24T21:50:55.939Z"
   },
   {
    "duration": 148,
    "start_time": "2022-08-24T21:50:56.313Z"
   },
   {
    "duration": 119038,
    "start_time": "2022-08-24T21:50:56.463Z"
   },
   {
    "duration": 19,
    "start_time": "2022-08-24T21:52:55.502Z"
   },
   {
    "duration": 163778,
    "start_time": "2022-08-24T21:52:55.522Z"
   },
   {
    "duration": 19,
    "start_time": "2022-08-24T21:55:39.302Z"
   },
   {
    "duration": 108,
    "start_time": "2022-08-24T21:56:13.228Z"
   },
   {
    "duration": 1281,
    "start_time": "2022-08-24T21:58:34.336Z"
   },
   {
    "duration": 39,
    "start_time": "2022-08-24T21:58:35.619Z"
   },
   {
    "duration": 16,
    "start_time": "2022-08-24T21:58:35.660Z"
   },
   {
    "duration": 13,
    "start_time": "2022-08-24T21:58:35.677Z"
   },
   {
    "duration": 3,
    "start_time": "2022-08-24T21:58:35.693Z"
   },
   {
    "duration": 13,
    "start_time": "2022-08-24T21:58:35.698Z"
   },
   {
    "duration": 10,
    "start_time": "2022-08-24T21:58:35.713Z"
   },
   {
    "duration": 4,
    "start_time": "2022-08-24T21:58:35.725Z"
   },
   {
    "duration": 6,
    "start_time": "2022-08-24T21:58:35.731Z"
   },
   {
    "duration": 6,
    "start_time": "2022-08-24T21:58:35.738Z"
   },
   {
    "duration": 13,
    "start_time": "2022-08-24T21:58:35.745Z"
   },
   {
    "duration": 5,
    "start_time": "2022-08-24T21:58:35.759Z"
   },
   {
    "duration": 40,
    "start_time": "2022-08-24T21:58:35.765Z"
   },
   {
    "duration": 6,
    "start_time": "2022-08-24T21:58:35.808Z"
   },
   {
    "duration": 5,
    "start_time": "2022-08-24T21:58:35.815Z"
   },
   {
    "duration": 17,
    "start_time": "2022-08-24T21:58:35.821Z"
   },
   {
    "duration": 304,
    "start_time": "2022-08-24T21:58:35.839Z"
   },
   {
    "duration": 5,
    "start_time": "2022-08-24T21:58:36.145Z"
   },
   {
    "duration": 72,
    "start_time": "2022-08-24T21:58:36.151Z"
   },
   {
    "duration": 15,
    "start_time": "2022-08-24T21:58:36.225Z"
   },
   {
    "duration": 368,
    "start_time": "2022-08-24T21:58:36.242Z"
   },
   {
    "duration": 154,
    "start_time": "2022-08-24T21:58:36.612Z"
   },
   {
    "duration": 113435,
    "start_time": "2022-08-24T21:58:36.767Z"
   },
   {
    "duration": 34,
    "start_time": "2022-08-24T22:00:30.204Z"
   },
   {
    "duration": 158803,
    "start_time": "2022-08-24T22:00:30.240Z"
   },
   {
    "duration": 37,
    "start_time": "2022-08-24T22:03:09.047Z"
   },
   {
    "duration": 157,
    "start_time": "2022-08-24T22:03:09.100Z"
   },
   {
    "duration": 139,
    "start_time": "2022-08-24T22:03:43.353Z"
   },
   {
    "duration": 138,
    "start_time": "2022-08-24T22:03:55.183Z"
   },
   {
    "duration": 415,
    "start_time": "2022-08-24T22:09:14.197Z"
   },
   {
    "duration": 456,
    "start_time": "2022-08-24T22:09:21.555Z"
   },
   {
    "duration": 12,
    "start_time": "2022-08-24T22:13:33.073Z"
   },
   {
    "duration": 12,
    "start_time": "2022-08-24T22:14:04.373Z"
   },
   {
    "duration": 1499,
    "start_time": "2022-08-26T10:30:49.406Z"
   },
   {
    "duration": 81,
    "start_time": "2022-08-26T10:30:50.907Z"
   },
   {
    "duration": 15,
    "start_time": "2022-08-26T10:30:50.989Z"
   },
   {
    "duration": 13,
    "start_time": "2022-08-26T10:30:51.006Z"
   },
   {
    "duration": 3,
    "start_time": "2022-08-26T10:30:51.021Z"
   },
   {
    "duration": 12,
    "start_time": "2022-08-26T10:30:51.026Z"
   },
   {
    "duration": 9,
    "start_time": "2022-08-26T10:30:51.040Z"
   },
   {
    "duration": 4,
    "start_time": "2022-08-26T10:30:51.051Z"
   },
   {
    "duration": 11,
    "start_time": "2022-08-26T10:30:51.058Z"
   },
   {
    "duration": 30,
    "start_time": "2022-08-26T10:30:51.071Z"
   },
   {
    "duration": 14,
    "start_time": "2022-08-26T10:30:51.103Z"
   },
   {
    "duration": 5,
    "start_time": "2022-08-26T10:30:51.119Z"
   },
   {
    "duration": 11,
    "start_time": "2022-08-26T10:30:51.126Z"
   },
   {
    "duration": 7,
    "start_time": "2022-08-26T10:30:51.140Z"
   },
   {
    "duration": 6,
    "start_time": "2022-08-26T10:30:51.148Z"
   },
   {
    "duration": 50,
    "start_time": "2022-08-26T10:30:51.156Z"
   },
   {
    "duration": 129,
    "start_time": "2022-08-26T10:30:51.208Z"
   },
   {
    "duration": 0,
    "start_time": "2022-08-26T10:30:51.338Z"
   },
   {
    "duration": 0,
    "start_time": "2022-08-26T10:30:51.339Z"
   },
   {
    "duration": 0,
    "start_time": "2022-08-26T10:30:51.340Z"
   },
   {
    "duration": 0,
    "start_time": "2022-08-26T10:30:51.341Z"
   },
   {
    "duration": 12,
    "start_time": "2022-08-26T10:31:45.782Z"
   },
   {
    "duration": 456,
    "start_time": "2022-08-26T10:31:53.786Z"
   },
   {
    "duration": 332,
    "start_time": "2022-08-26T10:32:04.784Z"
   },
   {
    "duration": 4,
    "start_time": "2022-08-26T10:32:16.264Z"
   },
   {
    "duration": 72,
    "start_time": "2022-08-26T10:32:17.914Z"
   },
   {
    "duration": 23,
    "start_time": "2022-08-26T10:33:07.152Z"
   },
   {
    "duration": 13,
    "start_time": "2022-08-26T10:33:09.219Z"
   },
   {
    "duration": 580,
    "start_time": "2022-08-26T10:33:21.320Z"
   },
   {
    "duration": 653,
    "start_time": "2022-08-26T10:33:29.952Z"
   },
   {
    "duration": 426,
    "start_time": "2022-08-26T10:33:43.708Z"
   },
   {
    "duration": 616,
    "start_time": "2022-08-26T10:33:51.993Z"
   },
   {
    "duration": 305,
    "start_time": "2022-08-26T10:38:13.615Z"
   },
   {
    "duration": 155,
    "start_time": "2022-08-26T10:38:21.641Z"
   },
   {
    "duration": 156,
    "start_time": "2022-08-26T10:38:43.105Z"
   },
   {
    "duration": 81,
    "start_time": "2022-08-26T10:38:57.379Z"
   },
   {
    "duration": 151,
    "start_time": "2022-08-26T10:39:05.362Z"
   },
   {
    "duration": 194,
    "start_time": "2022-08-26T10:39:14.418Z"
   },
   {
    "duration": 154,
    "start_time": "2022-08-26T10:39:43.311Z"
   },
   {
    "duration": 157,
    "start_time": "2022-08-26T10:40:33.152Z"
   },
   {
    "duration": 153,
    "start_time": "2022-08-26T10:40:50.853Z"
   },
   {
    "duration": 160,
    "start_time": "2022-08-26T10:41:13.878Z"
   },
   {
    "duration": 152,
    "start_time": "2022-08-26T10:41:29.761Z"
   },
   {
    "duration": 226,
    "start_time": "2022-08-26T10:41:36.844Z"
   },
   {
    "duration": 147,
    "start_time": "2022-08-26T10:42:48.507Z"
   },
   {
    "duration": 152,
    "start_time": "2022-08-26T10:42:56.268Z"
   },
   {
    "duration": 107978,
    "start_time": "2022-08-26T10:54:24.098Z"
   },
   {
    "duration": 43,
    "start_time": "2022-08-26T10:56:12.079Z"
   },
   {
    "duration": 29,
    "start_time": "2022-08-26T10:56:19.509Z"
   },
   {
    "duration": 16,
    "start_time": "2022-08-26T10:58:09.989Z"
   },
   {
    "duration": 1287,
    "start_time": "2022-08-26T10:58:22.955Z"
   },
   {
    "duration": 46,
    "start_time": "2022-08-26T10:58:24.245Z"
   },
   {
    "duration": 18,
    "start_time": "2022-08-26T10:58:24.293Z"
   },
   {
    "duration": 19,
    "start_time": "2022-08-26T10:58:24.314Z"
   },
   {
    "duration": 2,
    "start_time": "2022-08-26T10:58:24.335Z"
   },
   {
    "duration": 15,
    "start_time": "2022-08-26T10:58:24.339Z"
   },
   {
    "duration": 8,
    "start_time": "2022-08-26T10:58:24.355Z"
   },
   {
    "duration": 5,
    "start_time": "2022-08-26T10:58:24.365Z"
   },
   {
    "duration": 33,
    "start_time": "2022-08-26T10:58:24.372Z"
   },
   {
    "duration": 25,
    "start_time": "2022-08-26T10:58:24.406Z"
   },
   {
    "duration": 26,
    "start_time": "2022-08-26T10:58:24.434Z"
   },
   {
    "duration": 5,
    "start_time": "2022-08-26T10:58:24.461Z"
   },
   {
    "duration": 9,
    "start_time": "2022-08-26T10:58:24.468Z"
   },
   {
    "duration": 8,
    "start_time": "2022-08-26T10:58:24.481Z"
   },
   {
    "duration": 6,
    "start_time": "2022-08-26T10:58:24.491Z"
   },
   {
    "duration": 44,
    "start_time": "2022-08-26T10:58:24.499Z"
   },
   {
    "duration": 26,
    "start_time": "2022-08-26T10:58:24.545Z"
   },
   {
    "duration": 402,
    "start_time": "2022-08-26T10:58:24.574Z"
   },
   {
    "duration": 5,
    "start_time": "2022-08-26T10:58:24.977Z"
   },
   {
    "duration": 81,
    "start_time": "2022-08-26T10:58:24.983Z"
   },
   {
    "duration": 12,
    "start_time": "2022-08-26T10:58:25.065Z"
   },
   {
    "duration": 637,
    "start_time": "2022-08-26T10:58:25.079Z"
   },
   {
    "duration": 168,
    "start_time": "2022-08-26T10:58:25.717Z"
   },
   {
    "duration": 129775,
    "start_time": "2022-08-26T10:58:25.887Z"
   },
   {
    "duration": 36,
    "start_time": "2022-08-26T11:00:35.663Z"
   },
   {
    "duration": 182652,
    "start_time": "2022-08-26T11:00:35.700Z"
   },
   {
    "duration": 29,
    "start_time": "2022-08-26T11:03:38.353Z"
   },
   {
    "duration": 106122,
    "start_time": "2022-08-26T11:03:38.383Z"
   },
   {
    "duration": 39,
    "start_time": "2022-08-26T11:05:24.507Z"
   },
   {
    "duration": 235,
    "start_time": "2022-08-26T11:05:24.549Z"
   },
   {
    "duration": 196,
    "start_time": "2022-08-26T11:05:54.627Z"
   },
   {
    "duration": 106690,
    "start_time": "2022-08-26T11:07:35.175Z"
   },
   {
    "duration": 40,
    "start_time": "2022-08-26T11:09:21.867Z"
   },
   {
    "duration": 133547,
    "start_time": "2022-08-26T11:10:28.743Z"
   },
   {
    "duration": 31,
    "start_time": "2022-08-26T11:12:42.292Z"
   },
   {
    "duration": 198203,
    "start_time": "2022-08-26T11:12:42.325Z"
   },
   {
    "duration": 33,
    "start_time": "2022-08-26T11:16:00.537Z"
   },
   {
    "duration": 234,
    "start_time": "2022-08-26T11:17:09.680Z"
   },
   {
    "duration": 126,
    "start_time": "2022-08-26T11:18:53.554Z"
   },
   {
    "duration": 14,
    "start_time": "2022-08-26T11:19:25.267Z"
   },
   {
    "duration": 18,
    "start_time": "2022-08-26T11:19:49.959Z"
   },
   {
    "duration": 20,
    "start_time": "2022-08-26T11:20:29.592Z"
   },
   {
    "duration": 13,
    "start_time": "2022-08-26T11:20:56.083Z"
   },
   {
    "duration": 9,
    "start_time": "2022-08-26T11:44:10.632Z"
   },
   {
    "duration": 4,
    "start_time": "2022-08-26T11:45:29.212Z"
   },
   {
    "duration": 9,
    "start_time": "2022-08-26T11:45:45.762Z"
   },
   {
    "duration": 4,
    "start_time": "2022-08-26T11:45:51.466Z"
   },
   {
    "duration": 13,
    "start_time": "2022-08-26T11:45:56.783Z"
   },
   {
    "duration": 9,
    "start_time": "2022-08-26T11:46:16.232Z"
   },
   {
    "duration": 8,
    "start_time": "2022-08-26T11:46:21.696Z"
   },
   {
    "duration": 9,
    "start_time": "2022-08-26T11:46:31.736Z"
   },
   {
    "duration": 3,
    "start_time": "2022-08-26T11:53:42.148Z"
   },
   {
    "duration": 233,
    "start_time": "2022-08-26T12:04:15.583Z"
   },
   {
    "duration": 1412,
    "start_time": "2022-08-26T12:04:31.321Z"
   },
   {
    "duration": 45,
    "start_time": "2022-08-26T12:04:32.735Z"
   },
   {
    "duration": 15,
    "start_time": "2022-08-26T12:04:32.782Z"
   },
   {
    "duration": 33,
    "start_time": "2022-08-26T12:04:32.812Z"
   },
   {
    "duration": 3,
    "start_time": "2022-08-26T12:04:32.847Z"
   },
   {
    "duration": 29,
    "start_time": "2022-08-26T12:04:32.851Z"
   },
   {
    "duration": 8,
    "start_time": "2022-08-26T12:04:32.881Z"
   },
   {
    "duration": 4,
    "start_time": "2022-08-26T12:04:32.890Z"
   },
   {
    "duration": 122,
    "start_time": "2022-08-26T12:04:36.040Z"
   },
   {
    "duration": 221,
    "start_time": "2022-08-26T12:04:46.660Z"
   },
   {
    "duration": 48,
    "start_time": "2022-08-26T12:04:49.838Z"
   },
   {
    "duration": 63,
    "start_time": "2022-08-26T12:04:50.788Z"
   },
   {
    "duration": 39,
    "start_time": "2022-08-26T12:04:51.794Z"
   },
   {
    "duration": 52384,
    "start_time": "2022-08-26T12:04:52.968Z"
   },
   {
    "duration": 996,
    "start_time": "2022-08-26T12:06:27.365Z"
   },
   {
    "duration": 1061,
    "start_time": "2022-08-26T12:08:20.762Z"
   },
   {
    "duration": 1063,
    "start_time": "2022-08-26T12:08:33.819Z"
   },
   {
    "duration": 1308,
    "start_time": "2022-08-26T12:08:52.509Z"
   },
   {
    "duration": 41,
    "start_time": "2022-08-26T12:08:53.819Z"
   },
   {
    "duration": 17,
    "start_time": "2022-08-26T12:08:53.861Z"
   },
   {
    "duration": 12,
    "start_time": "2022-08-26T12:08:53.879Z"
   },
   {
    "duration": 3,
    "start_time": "2022-08-26T12:08:53.893Z"
   },
   {
    "duration": 21,
    "start_time": "2022-08-26T12:08:53.908Z"
   },
   {
    "duration": 8,
    "start_time": "2022-08-26T12:08:53.931Z"
   },
   {
    "duration": 6,
    "start_time": "2022-08-26T12:08:53.940Z"
   },
   {
    "duration": 10,
    "start_time": "2022-08-26T12:08:53.947Z"
   },
   {
    "duration": 236,
    "start_time": "2022-08-26T12:08:53.959Z"
   },
   {
    "duration": 55,
    "start_time": "2022-08-26T12:08:54.197Z"
   },
   {
    "duration": 52,
    "start_time": "2022-08-26T12:08:55.020Z"
   },
   {
    "duration": 27,
    "start_time": "2022-08-26T12:08:56.050Z"
   },
   {
    "duration": 1107,
    "start_time": "2022-08-26T12:08:56.816Z"
   },
   {
    "duration": 976,
    "start_time": "2022-08-26T12:09:56.396Z"
   },
   {
    "duration": 966,
    "start_time": "2022-08-26T12:10:12.112Z"
   },
   {
    "duration": 895,
    "start_time": "2022-08-26T12:10:18.914Z"
   },
   {
    "duration": 866,
    "start_time": "2022-08-26T12:12:57.705Z"
   },
   {
    "duration": 908,
    "start_time": "2022-08-26T12:13:20.902Z"
   },
   {
    "duration": 12,
    "start_time": "2022-08-26T12:14:15.004Z"
   },
   {
    "duration": 3,
    "start_time": "2022-08-26T12:14:17.773Z"
   },
   {
    "duration": 88,
    "start_time": "2022-08-26T12:15:40.488Z"
   },
   {
    "duration": 882,
    "start_time": "2022-08-26T12:16:02.072Z"
   },
   {
    "duration": 952,
    "start_time": "2022-08-26T12:16:54.543Z"
   },
   {
    "duration": 34,
    "start_time": "2022-08-26T12:18:05.798Z"
   },
   {
    "duration": 1345,
    "start_time": "2022-08-26T12:18:58.225Z"
   },
   {
    "duration": 42,
    "start_time": "2022-08-26T12:18:59.573Z"
   },
   {
    "duration": 15,
    "start_time": "2022-08-26T12:18:59.617Z"
   },
   {
    "duration": 13,
    "start_time": "2022-08-26T12:18:59.634Z"
   },
   {
    "duration": 6,
    "start_time": "2022-08-26T12:18:59.650Z"
   },
   {
    "duration": 11,
    "start_time": "2022-08-26T12:18:59.657Z"
   },
   {
    "duration": 29,
    "start_time": "2022-08-26T12:18:59.669Z"
   },
   {
    "duration": 4,
    "start_time": "2022-08-26T12:18:59.700Z"
   },
   {
    "duration": 7,
    "start_time": "2022-08-26T12:18:59.705Z"
   },
   {
    "duration": 4,
    "start_time": "2022-08-26T12:19:08.356Z"
   },
   {
    "duration": 10,
    "start_time": "2022-08-26T12:19:08.992Z"
   },
   {
    "duration": 5,
    "start_time": "2022-08-26T12:19:10.736Z"
   },
   {
    "duration": 11,
    "start_time": "2022-08-26T12:19:12.571Z"
   },
   {
    "duration": 115,
    "start_time": "2022-08-26T12:19:27.988Z"
   },
   {
    "duration": 5,
    "start_time": "2022-08-26T12:19:34.295Z"
   },
   {
    "duration": 204,
    "start_time": "2022-08-26T12:19:34.762Z"
   },
   {
    "duration": 487,
    "start_time": "2022-08-26T12:21:13.521Z"
   },
   {
    "duration": 21612,
    "start_time": "2022-08-26T12:21:41.081Z"
   },
   {
    "duration": 463,
    "start_time": "2022-08-26T12:22:46.894Z"
   },
   {
    "duration": 228,
    "start_time": "2022-08-26T12:24:30.447Z"
   },
   {
    "duration": 5,
    "start_time": "2022-08-26T12:26:16.491Z"
   },
   {
    "duration": 9,
    "start_time": "2022-08-26T12:34:09.460Z"
   },
   {
    "duration": 24,
    "start_time": "2022-08-26T12:34:16.642Z"
   },
   {
    "duration": 13,
    "start_time": "2022-08-26T12:34:39.118Z"
   },
   {
    "duration": 41,
    "start_time": "2022-08-26T12:34:51.991Z"
   },
   {
    "duration": 19,
    "start_time": "2022-08-26T12:35:05.869Z"
   },
   {
    "duration": 13,
    "start_time": "2022-08-26T12:35:12.126Z"
   },
   {
    "duration": 8,
    "start_time": "2022-08-26T12:35:31.094Z"
   },
   {
    "duration": 33,
    "start_time": "2022-08-26T12:35:37.139Z"
   },
   {
    "duration": 8,
    "start_time": "2022-08-26T12:35:49.109Z"
   },
   {
    "duration": 37,
    "start_time": "2022-08-26T12:35:55.691Z"
   },
   {
    "duration": 33,
    "start_time": "2022-08-26T12:36:10.972Z"
   },
   {
    "duration": 23,
    "start_time": "2022-08-26T12:36:25.304Z"
   },
   {
    "duration": 12,
    "start_time": "2022-08-26T12:36:51.833Z"
   },
   {
    "duration": 14,
    "start_time": "2022-08-26T12:37:07.980Z"
   },
   {
    "duration": 14,
    "start_time": "2022-08-26T12:37:25.124Z"
   },
   {
    "duration": 12,
    "start_time": "2022-08-26T12:37:35.849Z"
   },
   {
    "duration": 11,
    "start_time": "2022-08-26T12:38:35.605Z"
   },
   {
    "duration": 10,
    "start_time": "2022-08-26T12:38:41.911Z"
   },
   {
    "duration": 5,
    "start_time": "2022-08-26T12:39:14.688Z"
   },
   {
    "duration": 9,
    "start_time": "2022-08-26T12:39:21.167Z"
   },
   {
    "duration": 14,
    "start_time": "2022-08-26T12:39:27.944Z"
   },
   {
    "duration": 10,
    "start_time": "2022-08-26T12:39:45.264Z"
   },
   {
    "duration": 51,
    "start_time": "2022-08-26T12:40:42.544Z"
   },
   {
    "duration": 46,
    "start_time": "2022-08-26T12:41:05.110Z"
   },
   {
    "duration": 55,
    "start_time": "2022-08-26T12:41:33.347Z"
   },
   {
    "duration": 64,
    "start_time": "2022-08-26T12:41:38.646Z"
   },
   {
    "duration": 176,
    "start_time": "2022-08-26T12:41:45.333Z"
   },
   {
    "duration": 136,
    "start_time": "2022-08-26T12:41:51.877Z"
   },
   {
    "duration": 56,
    "start_time": "2022-08-26T12:42:10.778Z"
   },
   {
    "duration": 1792,
    "start_time": "2022-08-26T12:42:50.525Z"
   },
   {
    "duration": 120,
    "start_time": "2022-08-26T12:43:03.013Z"
   },
   {
    "duration": 242,
    "start_time": "2022-08-26T12:43:21.016Z"
   },
   {
    "duration": 180,
    "start_time": "2022-08-26T12:43:29.216Z"
   },
   {
    "duration": 14,
    "start_time": "2022-08-26T12:43:48.309Z"
   },
   {
    "duration": 140,
    "start_time": "2022-08-26T12:44:20.042Z"
   },
   {
    "duration": 13,
    "start_time": "2022-08-26T12:54:39.379Z"
   },
   {
    "duration": 12,
    "start_time": "2022-08-26T12:55:15.624Z"
   },
   {
    "duration": 4,
    "start_time": "2022-08-26T12:55:27.988Z"
   },
   {
    "duration": 11,
    "start_time": "2022-08-26T12:55:33.966Z"
   },
   {
    "duration": 9,
    "start_time": "2022-08-26T12:55:43.119Z"
   },
   {
    "duration": 0,
    "start_time": "2022-08-26T12:58:06.182Z"
   },
   {
    "duration": 0,
    "start_time": "2022-08-26T12:58:06.183Z"
   },
   {
    "duration": 4,
    "start_time": "2022-08-26T12:58:09.543Z"
   },
   {
    "duration": 12,
    "start_time": "2022-08-26T12:58:23.055Z"
   },
   {
    "duration": 6,
    "start_time": "2022-08-26T12:58:27.168Z"
   },
   {
    "duration": 7,
    "start_time": "2022-08-26T12:58:40.242Z"
   },
   {
    "duration": 10,
    "start_time": "2022-08-26T12:59:16.527Z"
   },
   {
    "duration": 75,
    "start_time": "2022-08-26T12:59:19.966Z"
   },
   {
    "duration": 71,
    "start_time": "2022-08-26T12:59:38.731Z"
   },
   {
    "duration": 70,
    "start_time": "2022-08-26T12:59:42.711Z"
   },
   {
    "duration": 2046,
    "start_time": "2022-08-26T13:00:30.270Z"
   },
   {
    "duration": 3048,
    "start_time": "2022-08-26T13:00:57.564Z"
   },
   {
    "duration": 1829,
    "start_time": "2022-08-26T13:01:20.023Z"
   },
   {
    "duration": 865,
    "start_time": "2022-08-26T13:01:38.868Z"
   },
   {
    "duration": 1176,
    "start_time": "2022-08-26T13:01:57.669Z"
   },
   {
    "duration": 12,
    "start_time": "2022-08-26T13:02:05.652Z"
   },
   {
    "duration": 14,
    "start_time": "2022-08-26T13:02:27.908Z"
   },
   {
    "duration": 1810,
    "start_time": "2022-08-26T13:02:56.230Z"
   },
   {
    "duration": 1562,
    "start_time": "2022-08-26T13:03:12.736Z"
   },
   {
    "duration": 14,
    "start_time": "2022-08-26T13:03:21.507Z"
   },
   {
    "duration": 9,
    "start_time": "2022-08-26T13:03:29.236Z"
   },
   {
    "duration": 1064,
    "start_time": "2022-08-26T13:03:48.853Z"
   },
   {
    "duration": 13,
    "start_time": "2022-08-26T13:03:55.635Z"
   },
   {
    "duration": 10,
    "start_time": "2022-08-26T13:04:28.551Z"
   },
   {
    "duration": 1148,
    "start_time": "2022-08-26T13:05:00.792Z"
   },
   {
    "duration": 1090,
    "start_time": "2022-08-26T13:05:10.070Z"
   },
   {
    "duration": 1181,
    "start_time": "2022-08-26T13:05:19.777Z"
   },
   {
    "duration": 10,
    "start_time": "2022-08-26T13:05:23.132Z"
   },
   {
    "duration": 814,
    "start_time": "2022-08-26T13:05:36.119Z"
   },
   {
    "duration": 11,
    "start_time": "2022-08-26T13:05:55.156Z"
   },
   {
    "duration": 9,
    "start_time": "2022-08-26T13:06:06.897Z"
   },
   {
    "duration": 14,
    "start_time": "2022-08-26T13:06:18.132Z"
   },
   {
    "duration": 12,
    "start_time": "2022-08-26T13:06:26.311Z"
   },
   {
    "duration": 10,
    "start_time": "2022-08-26T13:06:42.651Z"
   },
   {
    "duration": 11,
    "start_time": "2022-08-26T13:06:58.911Z"
   },
   {
    "duration": 12,
    "start_time": "2022-08-26T13:07:06.287Z"
   },
   {
    "duration": 64,
    "start_time": "2022-08-26T13:07:33.914Z"
   },
   {
    "duration": 105,
    "start_time": "2022-08-26T13:07:53.157Z"
   },
   {
    "duration": 111,
    "start_time": "2022-08-26T13:07:58.362Z"
   },
   {
    "duration": 61,
    "start_time": "2022-08-26T13:08:14.870Z"
   },
   {
    "duration": 66,
    "start_time": "2022-08-26T13:08:31.227Z"
   },
   {
    "duration": 9,
    "start_time": "2022-08-26T13:08:43.718Z"
   },
   {
    "duration": 11,
    "start_time": "2022-08-26T13:58:54.490Z"
   },
   {
    "duration": 15,
    "start_time": "2022-08-26T13:59:24.562Z"
   },
   {
    "duration": 8,
    "start_time": "2022-08-26T13:59:29.131Z"
   },
   {
    "duration": 11,
    "start_time": "2022-08-26T14:00:43.906Z"
   },
   {
    "duration": 9,
    "start_time": "2022-08-26T14:01:11.851Z"
   },
   {
    "duration": 11,
    "start_time": "2022-08-26T14:01:37.538Z"
   },
   {
    "duration": 9,
    "start_time": "2022-08-26T14:01:46.376Z"
   },
   {
    "duration": 13,
    "start_time": "2022-08-26T14:03:03.167Z"
   },
   {
    "duration": 6,
    "start_time": "2022-08-26T14:03:15.028Z"
   },
   {
    "duration": 11,
    "start_time": "2022-08-26T14:04:21.894Z"
   },
   {
    "duration": 12,
    "start_time": "2022-08-26T14:05:05.419Z"
   },
   {
    "duration": 11,
    "start_time": "2022-08-26T14:05:11.302Z"
   },
   {
    "duration": 12,
    "start_time": "2022-08-26T14:05:20.675Z"
   },
   {
    "duration": 12,
    "start_time": "2022-08-26T14:06:40.006Z"
   },
   {
    "duration": 13,
    "start_time": "2022-08-26T14:07:20.037Z"
   },
   {
    "duration": 15,
    "start_time": "2022-08-26T14:12:01.338Z"
   },
   {
    "duration": 14,
    "start_time": "2022-08-26T14:12:10.407Z"
   },
   {
    "duration": 13,
    "start_time": "2022-08-26T14:12:13.545Z"
   },
   {
    "duration": 14,
    "start_time": "2022-08-26T14:12:24.315Z"
   },
   {
    "duration": 13,
    "start_time": "2022-08-26T14:14:03.635Z"
   },
   {
    "duration": 21,
    "start_time": "2022-08-26T14:14:47.856Z"
   },
   {
    "duration": 12,
    "start_time": "2022-08-26T14:15:12.648Z"
   },
   {
    "duration": 8,
    "start_time": "2022-08-26T14:15:16.637Z"
   },
   {
    "duration": 7,
    "start_time": "2022-08-26T14:15:23.059Z"
   },
   {
    "duration": 12,
    "start_time": "2022-08-26T14:16:13.462Z"
   },
   {
    "duration": 7,
    "start_time": "2022-08-26T14:16:15.059Z"
   },
   {
    "duration": 7,
    "start_time": "2022-08-26T14:16:15.601Z"
   },
   {
    "duration": 1440,
    "start_time": "2022-08-26T14:17:24.470Z"
   },
   {
    "duration": 56,
    "start_time": "2022-08-26T14:17:25.912Z"
   },
   {
    "duration": 31,
    "start_time": "2022-08-26T14:17:25.970Z"
   },
   {
    "duration": 11,
    "start_time": "2022-08-26T14:17:26.003Z"
   },
   {
    "duration": 16,
    "start_time": "2022-08-26T14:17:26.016Z"
   },
   {
    "duration": 13,
    "start_time": "2022-08-26T14:17:26.033Z"
   },
   {
    "duration": 57,
    "start_time": "2022-08-26T14:17:26.048Z"
   },
   {
    "duration": 17,
    "start_time": "2022-08-26T14:17:26.106Z"
   },
   {
    "duration": 14,
    "start_time": "2022-08-26T14:17:26.124Z"
   },
   {
    "duration": 14,
    "start_time": "2022-08-26T14:17:26.140Z"
   },
   {
    "duration": 22,
    "start_time": "2022-08-26T14:17:26.156Z"
   },
   {
    "duration": 28,
    "start_time": "2022-08-26T14:17:26.179Z"
   },
   {
    "duration": 10,
    "start_time": "2022-08-26T14:17:26.210Z"
   },
   {
    "duration": 10,
    "start_time": "2022-08-26T14:17:26.221Z"
   },
   {
    "duration": 393,
    "start_time": "2022-08-26T14:17:26.232Z"
   },
   {
    "duration": 5,
    "start_time": "2022-08-26T14:17:26.627Z"
   },
   {
    "duration": 307,
    "start_time": "2022-08-26T14:17:26.633Z"
   },
   {
    "duration": 59,
    "start_time": "2022-08-26T14:17:26.941Z"
   },
   {
    "duration": 12,
    "start_time": "2022-08-26T14:17:27.001Z"
   },
   {
    "duration": 6,
    "start_time": "2022-08-26T14:17:27.014Z"
   },
   {
    "duration": 15,
    "start_time": "2022-08-26T14:17:27.021Z"
   },
   {
    "duration": 6,
    "start_time": "2022-08-26T14:17:27.038Z"
   },
   {
    "duration": 54,
    "start_time": "2022-08-26T14:17:27.045Z"
   },
   {
    "duration": 13,
    "start_time": "2022-08-26T14:17:27.100Z"
   },
   {
    "duration": 11,
    "start_time": "2022-08-26T14:17:27.114Z"
   },
   {
    "duration": 574,
    "start_time": "2022-08-26T14:17:27.126Z"
   },
   {
    "duration": 222,
    "start_time": "2022-08-26T14:17:27.701Z"
   },
   {
    "duration": 12,
    "start_time": "2022-08-26T14:17:27.924Z"
   },
   {
    "duration": 585,
    "start_time": "2022-08-26T14:17:27.938Z"
   },
   {
    "duration": 169,
    "start_time": "2022-08-26T14:17:28.525Z"
   },
   {
    "duration": 122851,
    "start_time": "2022-08-26T14:17:28.695Z"
   },
   {
    "duration": 20,
    "start_time": "2022-08-26T14:19:31.548Z"
   },
   {
    "duration": 175088,
    "start_time": "2022-08-26T14:19:31.569Z"
   },
   {
    "duration": 31,
    "start_time": "2022-08-26T14:22:26.658Z"
   },
   {
    "duration": 101829,
    "start_time": "2022-08-26T14:22:26.690Z"
   },
   {
    "duration": 24,
    "start_time": "2022-08-26T14:24:08.521Z"
   },
   {
    "duration": 175,
    "start_time": "2022-08-26T14:24:08.546Z"
   },
   {
    "duration": 15,
    "start_time": "2022-08-26T14:24:08.723Z"
   },
   {
    "duration": 2307,
    "start_time": "2022-08-26T14:32:57.309Z"
   },
   {
    "duration": 162,
    "start_time": "2022-08-26T14:32:59.619Z"
   },
   {
    "duration": 26,
    "start_time": "2022-08-26T14:32:59.783Z"
   },
   {
    "duration": 22,
    "start_time": "2022-08-26T14:32:59.811Z"
   },
   {
    "duration": 5,
    "start_time": "2022-08-26T14:32:59.835Z"
   },
   {
    "duration": 29,
    "start_time": "2022-08-26T14:32:59.842Z"
   },
   {
    "duration": 41,
    "start_time": "2022-08-26T14:32:59.873Z"
   },
   {
    "duration": 22,
    "start_time": "2022-08-26T14:32:59.915Z"
   },
   {
    "duration": 27,
    "start_time": "2022-08-26T14:32:59.939Z"
   },
   {
    "duration": 19,
    "start_time": "2022-08-26T14:32:59.968Z"
   },
   {
    "duration": 56,
    "start_time": "2022-08-26T14:32:59.989Z"
   },
   {
    "duration": 25,
    "start_time": "2022-08-26T14:33:00.047Z"
   },
   {
    "duration": 42,
    "start_time": "2022-08-26T14:33:00.075Z"
   },
   {
    "duration": 18,
    "start_time": "2022-08-26T14:33:00.120Z"
   },
   {
    "duration": 284,
    "start_time": "2022-08-26T14:33:00.141Z"
   },
   {
    "duration": 7,
    "start_time": "2022-08-26T14:33:00.427Z"
   },
   {
    "duration": 236,
    "start_time": "2022-08-26T14:33:00.436Z"
   },
   {
    "duration": 19,
    "start_time": "2022-08-26T14:33:00.674Z"
   },
   {
    "duration": 24,
    "start_time": "2022-08-26T14:33:00.695Z"
   },
   {
    "duration": 11,
    "start_time": "2022-08-26T14:33:00.720Z"
   },
   {
    "duration": 26,
    "start_time": "2022-08-26T14:33:00.733Z"
   },
   {
    "duration": 41,
    "start_time": "2022-08-26T14:33:00.760Z"
   },
   {
    "duration": 25,
    "start_time": "2022-08-26T14:33:00.802Z"
   },
   {
    "duration": 40,
    "start_time": "2022-08-26T14:33:00.830Z"
   },
   {
    "duration": 30,
    "start_time": "2022-08-26T14:33:00.872Z"
   },
   {
    "duration": 496,
    "start_time": "2022-08-26T14:33:00.904Z"
   },
   {
    "duration": 183,
    "start_time": "2022-08-26T14:33:01.402Z"
   },
   {
    "duration": 21,
    "start_time": "2022-08-26T14:33:01.587Z"
   },
   {
    "duration": 616,
    "start_time": "2022-08-26T14:33:01.610Z"
   },
   {
    "duration": 217,
    "start_time": "2022-08-26T14:33:02.228Z"
   },
   {
    "duration": 149386,
    "start_time": "2022-08-26T14:33:02.447Z"
   },
   {
    "duration": 28,
    "start_time": "2022-08-26T14:35:31.834Z"
   },
   {
    "duration": 209003,
    "start_time": "2022-08-26T14:35:31.864Z"
   },
   {
    "duration": 53,
    "start_time": "2022-08-26T14:39:00.869Z"
   },
   {
    "duration": 126025,
    "start_time": "2022-08-26T14:39:00.924Z"
   },
   {
    "duration": 29,
    "start_time": "2022-08-26T14:41:06.951Z"
   },
   {
    "duration": 222,
    "start_time": "2022-08-26T14:41:06.995Z"
   },
   {
    "duration": 21,
    "start_time": "2022-08-26T14:41:07.219Z"
   },
   {
    "duration": 58,
    "start_time": "2022-08-26T21:54:09.306Z"
   },
   {
    "duration": 1522,
    "start_time": "2022-08-26T21:54:12.683Z"
   },
   {
    "duration": 76,
    "start_time": "2022-08-26T21:54:14.207Z"
   },
   {
    "duration": 16,
    "start_time": "2022-08-26T21:54:14.284Z"
   },
   {
    "duration": 12,
    "start_time": "2022-08-26T21:54:14.302Z"
   },
   {
    "duration": 3,
    "start_time": "2022-08-26T21:54:14.315Z"
   },
   {
    "duration": 11,
    "start_time": "2022-08-26T21:54:14.320Z"
   },
   {
    "duration": 5,
    "start_time": "2022-08-26T21:57:01.237Z"
   },
   {
    "duration": 4,
    "start_time": "2022-08-26T21:59:29.851Z"
   },
   {
    "duration": 44,
    "start_time": "2022-08-26T21:59:29.857Z"
   },
   {
    "duration": 14,
    "start_time": "2022-08-26T21:59:29.902Z"
   },
   {
    "duration": 13,
    "start_time": "2022-08-26T21:59:29.918Z"
   },
   {
    "duration": 3,
    "start_time": "2022-08-26T21:59:29.934Z"
   },
   {
    "duration": 6,
    "start_time": "2022-08-26T21:59:29.938Z"
   },
   {
    "duration": 4,
    "start_time": "2022-08-26T21:59:29.945Z"
   },
   {
    "duration": 42,
    "start_time": "2022-08-26T21:59:29.951Z"
   },
   {
    "duration": 8,
    "start_time": "2022-08-26T21:59:29.995Z"
   },
   {
    "duration": 4,
    "start_time": "2022-08-26T21:59:30.004Z"
   },
   {
    "duration": 8,
    "start_time": "2022-08-26T21:59:30.010Z"
   },
   {
    "duration": 94,
    "start_time": "2022-08-26T21:59:30.019Z"
   },
   {
    "duration": 0,
    "start_time": "2022-08-26T21:59:30.115Z"
   },
   {
    "duration": 0,
    "start_time": "2022-08-26T21:59:30.117Z"
   },
   {
    "duration": 0,
    "start_time": "2022-08-26T21:59:30.118Z"
   },
   {
    "duration": 0,
    "start_time": "2022-08-26T21:59:30.120Z"
   },
   {
    "duration": 0,
    "start_time": "2022-08-26T21:59:30.121Z"
   },
   {
    "duration": 0,
    "start_time": "2022-08-26T21:59:30.122Z"
   },
   {
    "duration": 0,
    "start_time": "2022-08-26T21:59:30.124Z"
   },
   {
    "duration": 0,
    "start_time": "2022-08-26T21:59:30.125Z"
   },
   {
    "duration": 0,
    "start_time": "2022-08-26T21:59:30.126Z"
   },
   {
    "duration": 0,
    "start_time": "2022-08-26T21:59:30.127Z"
   },
   {
    "duration": 0,
    "start_time": "2022-08-26T21:59:30.128Z"
   },
   {
    "duration": 0,
    "start_time": "2022-08-26T21:59:30.130Z"
   },
   {
    "duration": 0,
    "start_time": "2022-08-26T21:59:30.131Z"
   },
   {
    "duration": 0,
    "start_time": "2022-08-26T21:59:30.132Z"
   },
   {
    "duration": 1228,
    "start_time": "2022-08-26T21:59:57.112Z"
   },
   {
    "duration": 0,
    "start_time": "2022-08-26T21:59:58.342Z"
   },
   {
    "duration": 0,
    "start_time": "2022-08-26T21:59:58.343Z"
   },
   {
    "duration": 0,
    "start_time": "2022-08-26T21:59:58.344Z"
   },
   {
    "duration": 0,
    "start_time": "2022-08-26T21:59:58.345Z"
   },
   {
    "duration": 0,
    "start_time": "2022-08-26T21:59:58.346Z"
   },
   {
    "duration": 0,
    "start_time": "2022-08-26T21:59:58.347Z"
   },
   {
    "duration": 0,
    "start_time": "2022-08-26T21:59:58.348Z"
   },
   {
    "duration": 0,
    "start_time": "2022-08-26T21:59:58.349Z"
   },
   {
    "duration": 0,
    "start_time": "2022-08-26T21:59:58.350Z"
   },
   {
    "duration": 0,
    "start_time": "2022-08-26T21:59:58.351Z"
   },
   {
    "duration": 0,
    "start_time": "2022-08-26T21:59:58.352Z"
   },
   {
    "duration": 0,
    "start_time": "2022-08-26T21:59:58.353Z"
   },
   {
    "duration": 0,
    "start_time": "2022-08-26T21:59:58.354Z"
   },
   {
    "duration": 0,
    "start_time": "2022-08-26T21:59:58.355Z"
   },
   {
    "duration": 0,
    "start_time": "2022-08-26T21:59:58.356Z"
   },
   {
    "duration": 0,
    "start_time": "2022-08-26T21:59:58.357Z"
   },
   {
    "duration": 0,
    "start_time": "2022-08-26T21:59:58.358Z"
   },
   {
    "duration": 0,
    "start_time": "2022-08-26T21:59:58.359Z"
   },
   {
    "duration": 0,
    "start_time": "2022-08-26T21:59:58.360Z"
   },
   {
    "duration": 0,
    "start_time": "2022-08-26T21:59:58.385Z"
   },
   {
    "duration": 0,
    "start_time": "2022-08-26T21:59:58.386Z"
   },
   {
    "duration": 0,
    "start_time": "2022-08-26T21:59:58.387Z"
   },
   {
    "duration": 0,
    "start_time": "2022-08-26T21:59:58.389Z"
   },
   {
    "duration": 0,
    "start_time": "2022-08-26T21:59:58.390Z"
   },
   {
    "duration": 1,
    "start_time": "2022-08-26T21:59:58.390Z"
   },
   {
    "duration": 1259,
    "start_time": "2022-08-26T22:00:21.332Z"
   },
   {
    "duration": 38,
    "start_time": "2022-08-26T22:00:27.697Z"
   },
   {
    "duration": 16,
    "start_time": "2022-08-26T22:00:28.658Z"
   },
   {
    "duration": 13,
    "start_time": "2022-08-26T22:00:29.362Z"
   },
   {
    "duration": 3,
    "start_time": "2022-08-26T22:00:31.351Z"
   },
   {
    "duration": 4,
    "start_time": "2022-08-26T22:00:31.534Z"
   },
   {
    "duration": 5,
    "start_time": "2022-08-26T22:00:31.866Z"
   },
   {
    "duration": 13,
    "start_time": "2022-08-26T22:00:32.602Z"
   },
   {
    "duration": 11,
    "start_time": "2022-08-26T22:00:34.116Z"
   },
   {
    "duration": 5,
    "start_time": "2022-08-26T22:00:34.448Z"
   },
   {
    "duration": 6,
    "start_time": "2022-08-26T22:00:35.062Z"
   },
   {
    "duration": 109,
    "start_time": "2022-08-26T22:00:36.595Z"
   },
   {
    "duration": 4,
    "start_time": "2022-08-26T22:00:52.027Z"
   },
   {
    "duration": 11,
    "start_time": "2022-08-26T22:00:58.793Z"
   },
   {
    "duration": 5,
    "start_time": "2022-08-26T22:01:03.541Z"
   },
   {
    "duration": 8,
    "start_time": "2022-08-26T22:01:04.607Z"
   },
   {
    "duration": 6,
    "start_time": "2022-08-26T22:01:11.977Z"
   },
   {
    "duration": 207,
    "start_time": "2022-08-26T22:01:12.507Z"
   },
   {
    "duration": 6,
    "start_time": "2022-08-26T22:01:14.639Z"
   },
   {
    "duration": 151,
    "start_time": "2022-08-26T22:01:15.356Z"
   },
   {
    "duration": 9,
    "start_time": "2022-08-26T22:01:16.612Z"
   },
   {
    "duration": 17,
    "start_time": "2022-08-26T22:01:18.227Z"
   },
   {
    "duration": 14,
    "start_time": "2022-08-26T22:01:39.222Z"
   },
   {
    "duration": 14,
    "start_time": "2022-08-26T22:01:48.322Z"
   },
   {
    "duration": 7,
    "start_time": "2022-08-26T22:01:49.527Z"
   },
   {
    "duration": 8,
    "start_time": "2022-08-26T22:01:50.488Z"
   },
   {
    "duration": 5,
    "start_time": "2022-08-26T22:01:53.547Z"
   },
   {
    "duration": 4,
    "start_time": "2022-08-26T22:02:00.026Z"
   },
   {
    "duration": 18,
    "start_time": "2022-08-26T22:02:03.163Z"
   },
   {
    "duration": 14,
    "start_time": "2022-08-26T22:02:04.678Z"
   },
   {
    "duration": 14,
    "start_time": "2022-08-26T22:02:17.218Z"
   },
   {
    "duration": 13,
    "start_time": "2022-08-26T22:02:20.457Z"
   },
   {
    "duration": 14,
    "start_time": "2022-08-26T22:02:22.972Z"
   },
   {
    "duration": 12,
    "start_time": "2022-08-26T22:02:26.882Z"
   },
   {
    "duration": 13,
    "start_time": "2022-08-26T22:02:29.305Z"
   },
   {
    "duration": 394,
    "start_time": "2022-08-26T22:02:34.183Z"
   },
   {
    "duration": 14,
    "start_time": "2022-08-26T22:02:41.385Z"
   },
   {
    "duration": 446,
    "start_time": "2022-08-26T22:02:43.834Z"
   },
   {
    "duration": 14,
    "start_time": "2022-08-26T22:02:49.856Z"
   },
   {
    "duration": 415,
    "start_time": "2022-08-26T22:02:52.819Z"
   },
   {
    "duration": 9,
    "start_time": "2022-08-26T22:17:28.853Z"
   },
   {
    "duration": 4,
    "start_time": "2022-08-26T22:23:39.648Z"
   },
   {
    "duration": 5,
    "start_time": "2022-08-26T22:24:19.615Z"
   },
   {
    "duration": 9,
    "start_time": "2022-08-26T22:25:30.186Z"
   },
   {
    "duration": 1299,
    "start_time": "2022-08-26T22:25:46.122Z"
   },
   {
    "duration": 39,
    "start_time": "2022-08-26T22:25:47.423Z"
   },
   {
    "duration": 16,
    "start_time": "2022-08-26T22:25:47.464Z"
   },
   {
    "duration": 14,
    "start_time": "2022-08-26T22:25:47.481Z"
   },
   {
    "duration": 3,
    "start_time": "2022-08-26T22:25:47.497Z"
   },
   {
    "duration": 5,
    "start_time": "2022-08-26T22:25:47.502Z"
   },
   {
    "duration": 8,
    "start_time": "2022-08-26T22:25:47.510Z"
   },
   {
    "duration": 14,
    "start_time": "2022-08-26T22:25:47.519Z"
   },
   {
    "duration": 9,
    "start_time": "2022-08-26T22:25:47.535Z"
   },
   {
    "duration": 4,
    "start_time": "2022-08-26T22:25:47.547Z"
   },
   {
    "duration": 35,
    "start_time": "2022-08-26T22:25:47.553Z"
   },
   {
    "duration": 6,
    "start_time": "2022-08-26T22:25:47.590Z"
   },
   {
    "duration": 20,
    "start_time": "2022-08-26T22:25:47.597Z"
   },
   {
    "duration": 5,
    "start_time": "2022-08-26T22:25:47.619Z"
   },
   {
    "duration": 10,
    "start_time": "2022-08-26T22:25:47.625Z"
   },
   {
    "duration": 4,
    "start_time": "2022-08-26T22:25:47.637Z"
   },
   {
    "duration": 238,
    "start_time": "2022-08-26T22:25:47.643Z"
   },
   {
    "duration": 7,
    "start_time": "2022-08-26T22:25:47.884Z"
   },
   {
    "duration": 176,
    "start_time": "2022-08-26T22:25:47.893Z"
   },
   {
    "duration": 16,
    "start_time": "2022-08-26T22:25:48.070Z"
   },
   {
    "duration": 13,
    "start_time": "2022-08-26T22:25:48.088Z"
   },
   {
    "duration": 8,
    "start_time": "2022-08-26T22:25:48.102Z"
   },
   {
    "duration": 10,
    "start_time": "2022-08-26T22:25:48.112Z"
   },
   {
    "duration": 15,
    "start_time": "2022-08-26T22:25:48.124Z"
   },
   {
    "duration": 11,
    "start_time": "2022-08-26T22:25:48.141Z"
   },
   {
    "duration": 38,
    "start_time": "2022-08-26T22:25:48.154Z"
   },
   {
    "duration": 12,
    "start_time": "2022-08-26T22:25:48.193Z"
   },
   {
    "duration": 412,
    "start_time": "2022-08-26T22:25:48.206Z"
   },
   {
    "duration": 135,
    "start_time": "2022-08-26T22:25:48.620Z"
   },
   {
    "duration": 13,
    "start_time": "2022-08-26T22:25:48.757Z"
   },
   {
    "duration": 173,
    "start_time": "2022-08-26T22:25:50.135Z"
   },
   {
    "duration": 5,
    "start_time": "2022-08-26T22:25:55.958Z"
   },
   {
    "duration": 115,
    "start_time": "2022-08-26T22:25:57.017Z"
   },
   {
    "duration": 6,
    "start_time": "2022-08-26T22:26:32.567Z"
   },
   {
    "duration": 120,
    "start_time": "2022-08-26T22:26:33.031Z"
   },
   {
    "duration": 4,
    "start_time": "2022-08-26T22:27:02.130Z"
   },
   {
    "duration": 121,
    "start_time": "2022-08-26T22:27:03.536Z"
   },
   {
    "duration": 4,
    "start_time": "2022-08-26T22:27:43.922Z"
   },
   {
    "duration": 164,
    "start_time": "2022-08-26T22:27:44.417Z"
   },
   {
    "duration": 5,
    "start_time": "2022-08-26T22:27:53.007Z"
   },
   {
    "duration": 125,
    "start_time": "2022-08-26T22:27:55.003Z"
   },
   {
    "duration": 108,
    "start_time": "2022-08-26T22:28:40.066Z"
   },
   {
    "duration": 9,
    "start_time": "2022-08-26T22:29:05.741Z"
   },
   {
    "duration": 5,
    "start_time": "2022-08-26T22:30:18.942Z"
   },
   {
    "duration": 156,
    "start_time": "2022-08-26T22:30:22.768Z"
   },
   {
    "duration": 7,
    "start_time": "2022-08-26T22:30:49.570Z"
   },
   {
    "duration": 4,
    "start_time": "2022-08-26T22:32:23.241Z"
   },
   {
    "duration": 5,
    "start_time": "2022-08-26T22:33:29.095Z"
   },
   {
    "duration": 4,
    "start_time": "2022-08-26T22:33:29.925Z"
   },
   {
    "duration": 148,
    "start_time": "2022-08-26T22:33:30.875Z"
   },
   {
    "duration": 5,
    "start_time": "2022-08-26T22:34:17.426Z"
   },
   {
    "duration": 4,
    "start_time": "2022-08-26T22:34:17.926Z"
   },
   {
    "duration": 126,
    "start_time": "2022-08-26T22:34:18.408Z"
   },
   {
    "duration": 4,
    "start_time": "2022-08-26T22:35:17.512Z"
   },
   {
    "duration": 11,
    "start_time": "2022-08-26T22:35:25.897Z"
   },
   {
    "duration": 6,
    "start_time": "2022-08-26T22:35:32.328Z"
   },
   {
    "duration": 9,
    "start_time": "2022-08-26T22:35:33.647Z"
   },
   {
    "duration": 125,
    "start_time": "2022-08-26T22:35:38.259Z"
   },
   {
    "duration": 8044,
    "start_time": "2022-08-27T09:47:50.649Z"
   },
   {
    "duration": 2312,
    "start_time": "2022-08-27T09:48:07.614Z"
   },
   {
    "duration": 1375,
    "start_time": "2022-08-27T09:48:15.074Z"
   },
   {
    "duration": 79,
    "start_time": "2022-08-27T09:48:24.439Z"
   },
   {
    "duration": 16,
    "start_time": "2022-08-27T09:48:25.081Z"
   },
   {
    "duration": 13,
    "start_time": "2022-08-27T09:48:25.454Z"
   },
   {
    "duration": 4,
    "start_time": "2022-08-27T09:48:27.254Z"
   },
   {
    "duration": 4,
    "start_time": "2022-08-27T09:48:27.588Z"
   },
   {
    "duration": 5,
    "start_time": "2022-08-27T09:48:27.759Z"
   },
   {
    "duration": 13,
    "start_time": "2022-08-27T09:48:29.929Z"
   },
   {
    "duration": 10,
    "start_time": "2022-08-27T09:48:30.676Z"
   },
   {
    "duration": 5,
    "start_time": "2022-08-27T09:48:30.957Z"
   },
   {
    "duration": 5,
    "start_time": "2022-08-27T09:48:31.409Z"
   },
   {
    "duration": 4,
    "start_time": "2022-08-27T09:48:31.867Z"
   },
   {
    "duration": 11,
    "start_time": "2022-08-27T09:48:32.188Z"
   },
   {
    "duration": 5,
    "start_time": "2022-08-27T09:48:32.851Z"
   },
   {
    "duration": 8,
    "start_time": "2022-08-27T09:48:33.371Z"
   },
   {
    "duration": 5,
    "start_time": "2022-08-27T09:48:34.315Z"
   },
   {
    "duration": 214,
    "start_time": "2022-08-27T09:48:34.508Z"
   },
   {
    "duration": 7,
    "start_time": "2022-08-27T09:48:35.824Z"
   },
   {
    "duration": 166,
    "start_time": "2022-08-27T09:48:36.456Z"
   },
   {
    "duration": 9,
    "start_time": "2022-08-27T09:48:37.101Z"
   },
   {
    "duration": 14,
    "start_time": "2022-08-27T09:48:37.444Z"
   },
   {
    "duration": 8,
    "start_time": "2022-08-27T09:48:38.123Z"
   },
   {
    "duration": 8,
    "start_time": "2022-08-27T09:48:38.354Z"
   },
   {
    "duration": 7,
    "start_time": "2022-08-27T09:48:40.107Z"
   },
   {
    "duration": 4,
    "start_time": "2022-08-27T09:48:40.925Z"
   },
   {
    "duration": 15,
    "start_time": "2022-08-27T09:48:42.062Z"
   },
   {
    "duration": 12,
    "start_time": "2022-08-27T09:48:42.613Z"
   },
   {
    "duration": 460,
    "start_time": "2022-08-27T09:48:44.537Z"
   },
   {
    "duration": 136,
    "start_time": "2022-08-27T09:48:46.894Z"
   },
   {
    "duration": 14,
    "start_time": "2022-08-27T09:48:48.338Z"
   },
   {
    "duration": 126159,
    "start_time": "2022-08-27T09:51:14.815Z"
   },
   {
    "duration": 4,
    "start_time": "2022-08-27T09:53:26.722Z"
   },
   {
    "duration": 113,
    "start_time": "2022-08-27T09:54:43.574Z"
   },
   {
    "duration": 4,
    "start_time": "2022-08-27T09:55:55.064Z"
   },
   {
    "duration": 63,
    "start_time": "2022-08-27T09:56:06.527Z"
   },
   {
    "duration": 12,
    "start_time": "2022-08-27T09:56:14.451Z"
   },
   {
    "duration": 10,
    "start_time": "2022-08-27T09:56:47.873Z"
   },
   {
    "duration": 3,
    "start_time": "2022-08-27T09:56:58.135Z"
   },
   {
    "duration": 127369,
    "start_time": "2022-08-27T09:57:07.127Z"
   },
   {
    "duration": 4,
    "start_time": "2022-08-27T09:59:14.510Z"
   },
   {
    "duration": 26,
    "start_time": "2022-08-27T10:07:29.196Z"
   },
   {
    "duration": 28,
    "start_time": "2022-08-27T10:07:36.054Z"
   },
   {
    "duration": 658,
    "start_time": "2022-08-27T10:08:22.535Z"
   },
   {
    "duration": 3730,
    "start_time": "2022-08-27T10:09:11.379Z"
   },
   {
    "duration": 8295,
    "start_time": "2022-08-27T10:34:00.204Z"
   },
   {
    "duration": 3713,
    "start_time": "2022-08-27T10:34:18.135Z"
   },
   {
    "duration": 5,
    "start_time": "2022-08-27T10:41:21.678Z"
   },
   {
    "duration": 11,
    "start_time": "2022-08-27T10:41:31.522Z"
   },
   {
    "duration": 11,
    "start_time": "2022-08-27T10:43:00.319Z"
   },
   {
    "duration": 11,
    "start_time": "2022-08-27T10:43:09.341Z"
   },
   {
    "duration": 11,
    "start_time": "2022-08-27T10:45:10.798Z"
   },
   {
    "duration": 11,
    "start_time": "2022-08-27T10:45:31.854Z"
   },
   {
    "duration": 4,
    "start_time": "2022-08-27T10:47:12.995Z"
   },
   {
    "duration": 9,
    "start_time": "2022-08-27T10:56:44.009Z"
   },
   {
    "duration": 3567,
    "start_time": "2022-08-27T10:56:50.566Z"
   },
   {
    "duration": 1363,
    "start_time": "2022-08-27T10:56:54.135Z"
   },
   {
    "duration": 41,
    "start_time": "2022-08-27T10:56:55.500Z"
   },
   {
    "duration": 18,
    "start_time": "2022-08-27T10:56:55.543Z"
   },
   {
    "duration": 16,
    "start_time": "2022-08-27T10:56:55.563Z"
   },
   {
    "duration": 12,
    "start_time": "2022-08-27T10:56:55.580Z"
   },
   {
    "duration": 11,
    "start_time": "2022-08-27T10:56:55.593Z"
   },
   {
    "duration": 7,
    "start_time": "2022-08-27T10:56:55.606Z"
   },
   {
    "duration": 20,
    "start_time": "2022-08-27T10:56:55.614Z"
   },
   {
    "duration": 9,
    "start_time": "2022-08-27T10:56:55.636Z"
   },
   {
    "duration": 4,
    "start_time": "2022-08-27T10:56:55.647Z"
   },
   {
    "duration": 10,
    "start_time": "2022-08-27T10:56:55.653Z"
   },
   {
    "duration": 10,
    "start_time": "2022-08-27T10:56:55.666Z"
   },
   {
    "duration": 41,
    "start_time": "2022-08-27T10:56:55.680Z"
   },
   {
    "duration": 11,
    "start_time": "2022-08-27T10:56:55.723Z"
   },
   {
    "duration": 13,
    "start_time": "2022-08-27T10:56:55.736Z"
   },
   {
    "duration": 5,
    "start_time": "2022-08-27T10:56:55.751Z"
   },
   {
    "duration": 266,
    "start_time": "2022-08-27T10:56:55.758Z"
   },
   {
    "duration": 8,
    "start_time": "2022-08-27T10:56:56.028Z"
   },
   {
    "duration": 198,
    "start_time": "2022-08-27T10:56:56.038Z"
   },
   {
    "duration": 10,
    "start_time": "2022-08-27T10:56:56.238Z"
   },
   {
    "duration": 18,
    "start_time": "2022-08-27T10:56:56.250Z"
   },
   {
    "duration": 8,
    "start_time": "2022-08-27T10:56:56.269Z"
   },
   {
    "duration": 35,
    "start_time": "2022-08-27T10:56:56.279Z"
   },
   {
    "duration": 10,
    "start_time": "2022-08-27T10:56:56.316Z"
   },
   {
    "duration": 7,
    "start_time": "2022-08-27T10:56:56.328Z"
   },
   {
    "duration": 17,
    "start_time": "2022-08-27T10:56:56.336Z"
   },
   {
    "duration": 16,
    "start_time": "2022-08-27T10:56:56.354Z"
   },
   {
    "duration": 423,
    "start_time": "2022-08-27T10:56:56.372Z"
   },
   {
    "duration": 77,
    "start_time": "2022-08-27T10:56:56.797Z"
   },
   {
    "duration": 16,
    "start_time": "2022-08-27T10:56:56.876Z"
   },
   {
    "duration": 17,
    "start_time": "2022-08-27T10:56:56.893Z"
   },
   {
    "duration": 219,
    "start_time": "2022-08-27T10:56:56.918Z"
   },
   {
    "duration": 15,
    "start_time": "2022-08-27T10:56:57.139Z"
   },
   {
    "duration": 28,
    "start_time": "2022-08-27T10:56:57.156Z"
   },
   {
    "duration": 174,
    "start_time": "2022-08-27T10:56:57.186Z"
   },
   {
    "duration": 5020,
    "start_time": "2022-08-27T10:56:57.363Z"
   },
   {
    "duration": 128740,
    "start_time": "2022-08-27T10:57:02.385Z"
   },
   {
    "duration": 3,
    "start_time": "2022-08-27T10:59:11.127Z"
   },
   {
    "duration": 5,
    "start_time": "2022-08-27T10:59:18.250Z"
   },
   {
    "duration": 119,
    "start_time": "2022-08-27T10:59:19.490Z"
   },
   {
    "duration": 21,
    "start_time": "2022-08-27T11:00:03.613Z"
   },
   {
    "duration": 139,
    "start_time": "2022-08-27T11:00:56.214Z"
   },
   {
    "duration": 134,
    "start_time": "2022-08-27T11:01:16.308Z"
   },
   {
    "duration": 4410,
    "start_time": "2022-08-28T13:50:38.226Z"
   },
   {
    "duration": 6,
    "start_time": "2022-08-28T13:50:42.639Z"
   },
   {
    "duration": 179,
    "start_time": "2022-08-28T13:50:42.647Z"
   },
   {
    "duration": 26,
    "start_time": "2022-08-28T13:50:42.829Z"
   },
   {
    "duration": 19,
    "start_time": "2022-08-28T13:50:42.857Z"
   },
   {
    "duration": 4,
    "start_time": "2022-08-28T13:50:42.878Z"
   },
   {
    "duration": 17,
    "start_time": "2022-08-28T13:50:42.884Z"
   },
   {
    "duration": 12,
    "start_time": "2022-08-28T13:50:42.905Z"
   },
   {
    "duration": 36,
    "start_time": "2022-08-28T13:50:42.920Z"
   },
   {
    "duration": 15,
    "start_time": "2022-08-28T13:50:42.959Z"
   },
   {
    "duration": 10,
    "start_time": "2022-08-28T13:50:42.976Z"
   },
   {
    "duration": 14,
    "start_time": "2022-08-28T13:50:42.989Z"
   },
   {
    "duration": 8,
    "start_time": "2022-08-28T13:50:43.005Z"
   },
   {
    "duration": 24,
    "start_time": "2022-08-28T13:50:43.015Z"
   },
   {
    "duration": 25,
    "start_time": "2022-08-28T13:50:43.042Z"
   },
   {
    "duration": 30,
    "start_time": "2022-08-28T13:50:43.070Z"
   },
   {
    "duration": 18,
    "start_time": "2022-08-28T13:50:43.103Z"
   },
   {
    "duration": 356,
    "start_time": "2022-08-28T13:50:43.123Z"
   },
   {
    "duration": 15,
    "start_time": "2022-08-28T13:50:43.481Z"
   },
   {
    "duration": 269,
    "start_time": "2022-08-28T13:50:43.499Z"
   },
   {
    "duration": 12,
    "start_time": "2022-08-28T13:50:43.771Z"
   },
   {
    "duration": 20,
    "start_time": "2022-08-28T13:50:43.792Z"
   },
   {
    "duration": 11,
    "start_time": "2022-08-28T13:50:43.814Z"
   },
   {
    "duration": 22,
    "start_time": "2022-08-28T13:50:43.826Z"
   },
   {
    "duration": 11,
    "start_time": "2022-08-28T13:50:43.850Z"
   },
   {
    "duration": 4,
    "start_time": "2022-08-28T13:50:47.936Z"
   },
   {
    "duration": 8,
    "start_time": "2022-08-28T13:50:50.539Z"
   },
   {
    "duration": 597,
    "start_time": "2022-08-28T13:50:59.856Z"
   },
   {
    "duration": 284,
    "start_time": "2022-08-28T13:54:13.188Z"
   },
   {
    "duration": 4,
    "start_time": "2022-08-28T13:54:19.112Z"
   },
   {
    "duration": 15,
    "start_time": "2022-08-28T13:54:41.674Z"
   },
   {
    "duration": 7,
    "start_time": "2022-08-28T13:55:02.142Z"
   },
   {
    "duration": 8,
    "start_time": "2022-08-28T13:56:10.591Z"
   },
   {
    "duration": 50,
    "start_time": "2022-08-28T13:56:13.817Z"
   },
   {
    "duration": 4,
    "start_time": "2022-08-28T13:56:35.942Z"
   },
   {
    "duration": 123,
    "start_time": "2022-08-28T13:56:49.153Z"
   },
   {
    "duration": 133,
    "start_time": "2022-08-28T13:57:06.934Z"
   },
   {
    "duration": 106835,
    "start_time": "2022-08-28T13:59:00.968Z"
   },
   {
    "duration": 111364,
    "start_time": "2022-08-28T14:01:13.988Z"
   },
   {
    "duration": 4,
    "start_time": "2022-08-28T14:03:14.733Z"
   },
   {
    "duration": 57027,
    "start_time": "2022-08-28T14:11:26.846Z"
   },
   {
    "duration": 5,
    "start_time": "2022-08-28T14:12:30.535Z"
   },
   {
    "duration": 15,
    "start_time": "2022-08-28T14:14:19.230Z"
   },
   {
    "duration": 9,
    "start_time": "2022-08-28T14:14:28.030Z"
   },
   {
    "duration": 11,
    "start_time": "2022-08-28T14:14:32.974Z"
   },
   {
    "duration": 6494,
    "start_time": "2022-08-29T14:21:38.913Z"
   },
   {
    "duration": 1382,
    "start_time": "2022-08-29T14:21:45.410Z"
   },
   {
    "duration": 87,
    "start_time": "2022-08-29T14:21:46.794Z"
   },
   {
    "duration": 16,
    "start_time": "2022-08-29T14:21:46.883Z"
   },
   {
    "duration": 13,
    "start_time": "2022-08-29T14:21:46.901Z"
   },
   {
    "duration": 3,
    "start_time": "2022-08-29T14:21:46.915Z"
   },
   {
    "duration": 6,
    "start_time": "2022-08-29T14:21:46.920Z"
   },
   {
    "duration": 7,
    "start_time": "2022-08-29T14:21:46.927Z"
   },
   {
    "duration": 17,
    "start_time": "2022-08-29T14:21:46.935Z"
   },
   {
    "duration": 10,
    "start_time": "2022-08-29T14:21:46.953Z"
   },
   {
    "duration": 38,
    "start_time": "2022-08-29T14:21:46.964Z"
   },
   {
    "duration": 6,
    "start_time": "2022-08-29T14:21:47.004Z"
   },
   {
    "duration": 9,
    "start_time": "2022-08-29T14:21:47.012Z"
   },
   {
    "duration": 16,
    "start_time": "2022-08-29T14:21:47.024Z"
   },
   {
    "duration": 5,
    "start_time": "2022-08-29T14:21:47.042Z"
   },
   {
    "duration": 12,
    "start_time": "2022-08-29T14:21:47.048Z"
   },
   {
    "duration": 5,
    "start_time": "2022-08-29T14:21:47.063Z"
   },
   {
    "duration": 239,
    "start_time": "2022-08-29T14:21:47.070Z"
   },
   {
    "duration": 6,
    "start_time": "2022-08-29T14:21:47.311Z"
   },
   {
    "duration": 173,
    "start_time": "2022-08-29T14:21:47.319Z"
   },
   {
    "duration": 10,
    "start_time": "2022-08-29T14:21:47.499Z"
   },
   {
    "duration": 24,
    "start_time": "2022-08-29T14:21:47.510Z"
   },
   {
    "duration": 8,
    "start_time": "2022-08-29T14:21:47.537Z"
   },
   {
    "duration": 17,
    "start_time": "2022-08-29T14:21:47.546Z"
   },
   {
    "duration": 14,
    "start_time": "2022-08-29T14:21:47.564Z"
   },
   {
    "duration": 10,
    "start_time": "2022-08-29T14:21:47.580Z"
   },
   {
    "duration": 445,
    "start_time": "2022-08-29T14:21:47.593Z"
   },
   {
    "duration": 73,
    "start_time": "2022-08-29T14:21:48.039Z"
   },
   {
    "duration": 13,
    "start_time": "2022-08-29T14:21:48.114Z"
   },
   {
    "duration": 11,
    "start_time": "2022-08-29T14:21:48.128Z"
   },
   {
    "duration": 5,
    "start_time": "2022-08-29T14:21:58.232Z"
   },
   {
    "duration": 112631,
    "start_time": "2022-08-29T14:22:05.632Z"
   },
   {
    "duration": 3,
    "start_time": "2022-08-29T14:23:58.265Z"
   },
   {
    "duration": 132,
    "start_time": "2022-08-29T14:23:58.270Z"
   },
   {
    "duration": 0,
    "start_time": "2022-08-29T14:23:58.404Z"
   },
   {
    "duration": 9,
    "start_time": "2022-08-29T14:25:30.557Z"
   },
   {
    "duration": 9,
    "start_time": "2022-08-29T14:26:02.326Z"
   },
   {
    "duration": 10,
    "start_time": "2022-08-29T14:26:44.431Z"
   },
   {
    "duration": 5,
    "start_time": "2022-08-29T14:27:59.314Z"
   },
   {
    "duration": 10,
    "start_time": "2022-08-29T14:28:10.062Z"
   },
   {
    "duration": 9,
    "start_time": "2022-08-29T14:28:16.314Z"
   },
   {
    "duration": 26,
    "start_time": "2022-08-29T14:28:33.792Z"
   },
   {
    "duration": 5,
    "start_time": "2022-08-29T14:28:54.012Z"
   },
   {
    "duration": 8,
    "start_time": "2022-08-29T14:28:54.803Z"
   },
   {
    "duration": 200,
    "start_time": "2022-08-29T14:29:03.512Z"
   },
   {
    "duration": 4,
    "start_time": "2022-08-29T14:29:08.195Z"
   },
   {
    "duration": 121,
    "start_time": "2022-08-29T14:29:09.460Z"
   },
   {
    "duration": 7240,
    "start_time": "2022-08-30T21:34:43.732Z"
   },
   {
    "duration": 1409,
    "start_time": "2022-08-30T21:34:50.974Z"
   },
   {
    "duration": 84,
    "start_time": "2022-08-30T21:34:52.385Z"
   },
   {
    "duration": 15,
    "start_time": "2022-08-30T21:34:52.471Z"
   },
   {
    "duration": 11,
    "start_time": "2022-08-30T21:34:52.488Z"
   },
   {
    "duration": 3,
    "start_time": "2022-08-30T21:34:52.500Z"
   },
   {
    "duration": 6,
    "start_time": "2022-08-30T21:34:52.504Z"
   },
   {
    "duration": 5,
    "start_time": "2022-08-30T21:34:52.511Z"
   },
   {
    "duration": 23,
    "start_time": "2022-08-30T21:34:52.517Z"
   },
   {
    "duration": 8,
    "start_time": "2022-08-30T21:34:52.541Z"
   },
   {
    "duration": 6,
    "start_time": "2022-08-30T21:34:52.550Z"
   },
   {
    "duration": 6,
    "start_time": "2022-08-30T21:34:52.557Z"
   },
   {
    "duration": 34,
    "start_time": "2022-08-30T21:34:52.564Z"
   },
   {
    "duration": 19,
    "start_time": "2022-08-30T21:34:52.602Z"
   },
   {
    "duration": 4,
    "start_time": "2022-08-30T21:34:52.623Z"
   },
   {
    "duration": 10,
    "start_time": "2022-08-30T21:34:52.628Z"
   },
   {
    "duration": 5,
    "start_time": "2022-08-30T21:34:52.640Z"
   },
   {
    "duration": 220,
    "start_time": "2022-08-30T21:34:52.646Z"
   },
   {
    "duration": 6,
    "start_time": "2022-08-30T21:34:52.868Z"
   },
   {
    "duration": 160,
    "start_time": "2022-08-30T21:34:52.875Z"
   },
   {
    "duration": 8,
    "start_time": "2022-08-30T21:34:53.037Z"
   },
   {
    "duration": 11,
    "start_time": "2022-08-30T21:34:53.047Z"
   },
   {
    "duration": 6,
    "start_time": "2022-08-30T21:34:53.059Z"
   },
   {
    "duration": 33,
    "start_time": "2022-08-30T21:34:53.066Z"
   },
   {
    "duration": 6,
    "start_time": "2022-08-30T21:34:53.100Z"
   },
   {
    "duration": 9,
    "start_time": "2022-08-30T21:34:53.107Z"
   },
   {
    "duration": 424,
    "start_time": "2022-08-30T21:34:53.117Z"
   },
   {
    "duration": 64,
    "start_time": "2022-08-30T21:34:53.543Z"
   },
   {
    "duration": 13,
    "start_time": "2022-08-30T21:34:53.609Z"
   },
   {
    "duration": 9,
    "start_time": "2022-08-30T21:34:53.623Z"
   },
   {
    "duration": 1259,
    "start_time": "2022-08-30T21:35:07.546Z"
   },
   {
    "duration": 3,
    "start_time": "2022-08-30T21:35:48.014Z"
   },
   {
    "duration": 8076,
    "start_time": "2022-08-31T19:45:50.568Z"
   },
   {
    "duration": 1472,
    "start_time": "2022-08-31T19:45:58.646Z"
   },
   {
    "duration": 358,
    "start_time": "2022-08-31T19:46:00.120Z"
   },
   {
    "duration": 18,
    "start_time": "2022-08-31T19:46:00.480Z"
   },
   {
    "duration": 17,
    "start_time": "2022-08-31T19:46:00.500Z"
   },
   {
    "duration": 26,
    "start_time": "2022-08-31T19:46:00.519Z"
   },
   {
    "duration": 3,
    "start_time": "2022-08-31T19:46:32.257Z"
   },
   {
    "duration": 4,
    "start_time": "2022-08-31T19:46:41.670Z"
   },
   {
    "duration": 5,
    "start_time": "2022-08-31T19:47:06.747Z"
   },
   {
    "duration": 2255,
    "start_time": "2022-08-31T19:52:19.127Z"
   },
   {
    "duration": 1375,
    "start_time": "2022-08-31T19:52:21.384Z"
   },
   {
    "duration": 40,
    "start_time": "2022-08-31T19:52:22.760Z"
   },
   {
    "duration": 15,
    "start_time": "2022-08-31T19:52:22.802Z"
   },
   {
    "duration": 13,
    "start_time": "2022-08-31T19:52:22.819Z"
   },
   {
    "duration": 4,
    "start_time": "2022-08-31T19:52:22.834Z"
   },
   {
    "duration": 16,
    "start_time": "2022-08-31T19:52:22.839Z"
   },
   {
    "duration": 8,
    "start_time": "2022-08-31T19:52:22.857Z"
   },
   {
    "duration": 16,
    "start_time": "2022-08-31T19:52:22.867Z"
   },
   {
    "duration": 8,
    "start_time": "2022-08-31T19:52:22.885Z"
   },
   {
    "duration": 4,
    "start_time": "2022-08-31T19:52:22.895Z"
   },
   {
    "duration": 13,
    "start_time": "2022-08-31T19:52:22.901Z"
   },
   {
    "duration": 15,
    "start_time": "2022-08-31T19:52:22.916Z"
   },
   {
    "duration": 14,
    "start_time": "2022-08-31T19:52:22.933Z"
   },
   {
    "duration": 5,
    "start_time": "2022-08-31T19:52:22.949Z"
   },
   {
    "duration": 13,
    "start_time": "2022-08-31T19:52:22.967Z"
   },
   {
    "duration": 110,
    "start_time": "2022-08-31T19:52:23.905Z"
   },
   {
    "duration": 6,
    "start_time": "2022-08-31T19:52:32.795Z"
   },
   {
    "duration": 12,
    "start_time": "2022-08-31T19:52:42.165Z"
   },
   {
    "duration": 2223,
    "start_time": "2022-08-31T19:52:55.029Z"
   },
   {
    "duration": 1252,
    "start_time": "2022-08-31T19:52:57.254Z"
   },
   {
    "duration": 42,
    "start_time": "2022-08-31T19:52:58.508Z"
   },
   {
    "duration": 17,
    "start_time": "2022-08-31T19:52:58.552Z"
   },
   {
    "duration": 12,
    "start_time": "2022-08-31T19:52:58.572Z"
   },
   {
    "duration": 3,
    "start_time": "2022-08-31T19:52:58.586Z"
   },
   {
    "duration": 6,
    "start_time": "2022-08-31T19:52:58.590Z"
   },
   {
    "duration": 6,
    "start_time": "2022-08-31T19:52:58.597Z"
   },
   {
    "duration": 20,
    "start_time": "2022-08-31T19:52:58.604Z"
   },
   {
    "duration": 9,
    "start_time": "2022-08-31T19:52:58.625Z"
   },
   {
    "duration": 5,
    "start_time": "2022-08-31T19:52:58.635Z"
   },
   {
    "duration": 30,
    "start_time": "2022-08-31T19:52:58.641Z"
   },
   {
    "duration": 5,
    "start_time": "2022-08-31T19:52:58.673Z"
   },
   {
    "duration": 11,
    "start_time": "2022-08-31T19:52:58.681Z"
   },
   {
    "duration": 5,
    "start_time": "2022-08-31T19:52:58.694Z"
   },
   {
    "duration": 10,
    "start_time": "2022-08-31T19:52:58.700Z"
   },
   {
    "duration": 5,
    "start_time": "2022-08-31T19:52:58.712Z"
   },
   {
    "duration": 5,
    "start_time": "2022-08-31T19:54:24.702Z"
   },
   {
    "duration": 4,
    "start_time": "2022-08-31T19:54:34.166Z"
   },
   {
    "duration": 2270,
    "start_time": "2022-08-31T20:11:08.563Z"
   },
   {
    "duration": 1235,
    "start_time": "2022-08-31T20:11:10.835Z"
   },
   {
    "duration": 40,
    "start_time": "2022-08-31T20:11:12.072Z"
   },
   {
    "duration": 16,
    "start_time": "2022-08-31T20:11:12.114Z"
   },
   {
    "duration": 12,
    "start_time": "2022-08-31T20:11:12.132Z"
   },
   {
    "duration": 3,
    "start_time": "2022-08-31T20:11:12.146Z"
   },
   {
    "duration": 6,
    "start_time": "2022-08-31T20:11:12.150Z"
   },
   {
    "duration": 4,
    "start_time": "2022-08-31T20:11:12.168Z"
   },
   {
    "duration": 16,
    "start_time": "2022-08-31T20:11:12.174Z"
   },
   {
    "duration": 9,
    "start_time": "2022-08-31T20:11:12.191Z"
   },
   {
    "duration": 4,
    "start_time": "2022-08-31T20:11:12.201Z"
   },
   {
    "duration": 6,
    "start_time": "2022-08-31T20:11:12.207Z"
   },
   {
    "duration": 6,
    "start_time": "2022-08-31T20:11:12.215Z"
   },
   {
    "duration": 11,
    "start_time": "2022-08-31T20:11:12.267Z"
   },
   {
    "duration": 5,
    "start_time": "2022-08-31T20:11:12.280Z"
   },
   {
    "duration": 8,
    "start_time": "2022-08-31T20:11:12.286Z"
   },
   {
    "duration": 5,
    "start_time": "2022-08-31T20:11:12.296Z"
   },
   {
    "duration": 6,
    "start_time": "2022-08-31T20:11:12.303Z"
   },
   {
    "duration": 239,
    "start_time": "2022-08-31T20:11:12.311Z"
   },
   {
    "duration": 6,
    "start_time": "2022-08-31T20:11:12.551Z"
   },
   {
    "duration": 175,
    "start_time": "2022-08-31T20:11:12.567Z"
   },
   {
    "duration": 23,
    "start_time": "2022-08-31T20:11:12.744Z"
   },
   {
    "duration": 12,
    "start_time": "2022-08-31T20:11:12.769Z"
   },
   {
    "duration": 7,
    "start_time": "2022-08-31T20:11:12.783Z"
   },
   {
    "duration": 8,
    "start_time": "2022-08-31T20:11:12.791Z"
   },
   {
    "duration": 5,
    "start_time": "2022-08-31T20:11:12.800Z"
   },
   {
    "duration": 5,
    "start_time": "2022-08-31T20:11:12.807Z"
   },
   {
    "duration": 397,
    "start_time": "2022-08-31T20:11:12.813Z"
   },
   {
    "duration": 11,
    "start_time": "2022-08-31T20:13:20.179Z"
   },
   {
    "duration": 134,
    "start_time": "2022-08-31T20:13:25.960Z"
   },
   {
    "duration": 14,
    "start_time": "2022-08-31T20:13:28.062Z"
   },
   {
    "duration": 2,
    "start_time": "2022-08-31T20:13:35.488Z"
   },
   {
    "duration": 1290,
    "start_time": "2022-08-31T20:13:56.079Z"
   },
   {
    "duration": 1615,
    "start_time": "2022-08-31T20:14:19.774Z"
   },
   {
    "duration": 4,
    "start_time": "2022-08-31T20:14:24.625Z"
   },
   {
    "duration": 3621,
    "start_time": "2022-08-31T20:15:11.495Z"
   },
   {
    "duration": 1599,
    "start_time": "2022-08-31T20:15:33.697Z"
   },
   {
    "duration": 3,
    "start_time": "2022-08-31T20:15:37.690Z"
   },
   {
    "duration": 1171,
    "start_time": "2022-08-31T20:16:23.798Z"
   },
   {
    "duration": 110,
    "start_time": "2022-08-31T20:16:50.075Z"
   },
   {
    "duration": 434,
    "start_time": "2022-08-31T20:16:58.540Z"
   },
   {
    "duration": 1007,
    "start_time": "2022-08-31T20:17:40.967Z"
   },
   {
    "duration": 11079,
    "start_time": "2022-09-01T19:31:30.124Z"
   },
   {
    "duration": 2128,
    "start_time": "2022-09-01T19:31:41.205Z"
   },
   {
    "duration": 207,
    "start_time": "2022-09-01T19:31:43.334Z"
   },
   {
    "duration": 50,
    "start_time": "2022-09-01T19:31:43.543Z"
   },
   {
    "duration": 14,
    "start_time": "2022-09-01T19:31:43.595Z"
   },
   {
    "duration": 4,
    "start_time": "2022-09-01T19:31:43.610Z"
   },
   {
    "duration": 8,
    "start_time": "2022-09-01T19:31:43.615Z"
   },
   {
    "duration": 6,
    "start_time": "2022-09-01T19:31:43.624Z"
   },
   {
    "duration": 64,
    "start_time": "2022-09-01T19:31:43.632Z"
   },
   {
    "duration": 9,
    "start_time": "2022-09-01T19:31:43.698Z"
   },
   {
    "duration": 4,
    "start_time": "2022-09-01T19:31:43.709Z"
   },
   {
    "duration": 6,
    "start_time": "2022-09-01T19:31:43.715Z"
   },
   {
    "duration": 6,
    "start_time": "2022-09-01T19:31:43.722Z"
   },
   {
    "duration": 62,
    "start_time": "2022-09-01T19:31:43.731Z"
   },
   {
    "duration": 5,
    "start_time": "2022-09-01T19:31:43.794Z"
   },
   {
    "duration": 8,
    "start_time": "2022-09-01T19:31:43.801Z"
   },
   {
    "duration": 6,
    "start_time": "2022-09-01T19:31:43.811Z"
   },
   {
    "duration": 5,
    "start_time": "2022-09-01T19:31:43.818Z"
   },
   {
    "duration": 358,
    "start_time": "2022-09-01T19:31:43.824Z"
   },
   {
    "duration": 12,
    "start_time": "2022-09-01T19:31:44.183Z"
   },
   {
    "duration": 176,
    "start_time": "2022-09-01T19:31:44.197Z"
   },
   {
    "duration": 17,
    "start_time": "2022-09-01T19:31:44.375Z"
   },
   {
    "duration": 13,
    "start_time": "2022-09-01T19:31:44.394Z"
   },
   {
    "duration": 7,
    "start_time": "2022-09-01T19:31:44.409Z"
   },
   {
    "duration": 8,
    "start_time": "2022-09-01T19:31:44.418Z"
   },
   {
    "duration": 6,
    "start_time": "2022-09-01T19:31:44.428Z"
   },
   {
    "duration": 7,
    "start_time": "2022-09-01T19:31:44.435Z"
   },
   {
    "duration": 482,
    "start_time": "2022-09-01T19:31:44.444Z"
   },
   {
    "duration": 152,
    "start_time": "2022-09-01T19:31:44.928Z"
   },
   {
    "duration": 18,
    "start_time": "2022-09-01T19:31:45.081Z"
   },
   {
    "duration": 14,
    "start_time": "2022-09-01T19:31:45.101Z"
   },
   {
    "duration": 1479,
    "start_time": "2022-09-01T19:31:45.117Z"
   },
   {
    "duration": 1927,
    "start_time": "2022-09-01T19:31:46.598Z"
   },
   {
    "duration": 3,
    "start_time": "2022-09-01T19:31:48.527Z"
   },
   {
    "duration": 62,
    "start_time": "2022-09-01T19:31:48.532Z"
   },
   {
    "duration": 266,
    "start_time": "2022-09-01T19:33:06.754Z"
   },
   {
    "duration": 4,
    "start_time": "2022-09-01T19:33:21.689Z"
   },
   {
    "duration": 3165,
    "start_time": "2022-09-01T19:33:41.388Z"
   },
   {
    "duration": 108133,
    "start_time": "2022-09-01T19:33:48.980Z"
   },
   {
    "duration": 4,
    "start_time": "2022-09-01T19:35:37.115Z"
   },
   {
    "duration": 146,
    "start_time": "2022-09-01T19:37:07.507Z"
   },
   {
    "duration": 5,
    "start_time": "2022-09-01T19:37:24.255Z"
   },
   {
    "duration": 149,
    "start_time": "2022-09-01T19:37:30.031Z"
   },
   {
    "duration": 153,
    "start_time": "2022-09-01T19:37:39.374Z"
   },
   {
    "duration": 5,
    "start_time": "2022-09-01T19:37:50.524Z"
   },
   {
    "duration": 2175,
    "start_time": "2022-09-01T19:41:11.475Z"
   },
   {
    "duration": 4,
    "start_time": "2022-09-01T19:41:27.854Z"
   },
   {
    "duration": 1959,
    "start_time": "2022-09-01T19:42:54.645Z"
   },
   {
    "duration": 3,
    "start_time": "2022-09-01T19:43:17.366Z"
   },
   {
    "duration": 164,
    "start_time": "2022-09-01T19:44:10.206Z"
   },
   {
    "duration": 271,
    "start_time": "2022-09-01T19:44:23.949Z"
   },
   {
    "duration": 4,
    "start_time": "2022-09-01T19:46:16.501Z"
   },
   {
    "duration": 2675,
    "start_time": "2022-09-01T19:47:59.335Z"
   },
   {
    "duration": 1321,
    "start_time": "2022-09-01T19:48:02.012Z"
   },
   {
    "duration": 43,
    "start_time": "2022-09-01T19:48:03.334Z"
   },
   {
    "duration": 17,
    "start_time": "2022-09-01T19:48:03.379Z"
   },
   {
    "duration": 14,
    "start_time": "2022-09-01T19:48:03.398Z"
   },
   {
    "duration": 3,
    "start_time": "2022-09-01T19:48:03.414Z"
   },
   {
    "duration": 6,
    "start_time": "2022-09-01T19:48:03.419Z"
   },
   {
    "duration": 5,
    "start_time": "2022-09-01T19:48:03.427Z"
   },
   {
    "duration": 17,
    "start_time": "2022-09-01T19:48:03.434Z"
   },
   {
    "duration": 9,
    "start_time": "2022-09-01T19:48:03.452Z"
   },
   {
    "duration": 31,
    "start_time": "2022-09-01T19:48:03.463Z"
   },
   {
    "duration": 6,
    "start_time": "2022-09-01T19:48:03.496Z"
   },
   {
    "duration": 5,
    "start_time": "2022-09-01T19:48:03.504Z"
   },
   {
    "duration": 12,
    "start_time": "2022-09-01T19:48:03.512Z"
   },
   {
    "duration": 5,
    "start_time": "2022-09-01T19:48:03.525Z"
   },
   {
    "duration": 15,
    "start_time": "2022-09-01T19:48:03.531Z"
   },
   {
    "duration": 8,
    "start_time": "2022-09-01T19:48:03.547Z"
   },
   {
    "duration": 7,
    "start_time": "2022-09-01T19:48:03.593Z"
   },
   {
    "duration": 231,
    "start_time": "2022-09-01T19:48:03.602Z"
   },
   {
    "duration": 6,
    "start_time": "2022-09-01T19:48:03.835Z"
   },
   {
    "duration": 188,
    "start_time": "2022-09-01T19:48:03.843Z"
   },
   {
    "duration": 11,
    "start_time": "2022-09-01T19:48:04.033Z"
   },
   {
    "duration": 13,
    "start_time": "2022-09-01T19:48:04.046Z"
   },
   {
    "duration": 35,
    "start_time": "2022-09-01T19:48:04.061Z"
   },
   {
    "duration": 18,
    "start_time": "2022-09-01T19:48:04.098Z"
   },
   {
    "duration": 17,
    "start_time": "2022-09-01T19:48:04.117Z"
   },
   {
    "duration": 12,
    "start_time": "2022-09-01T19:48:04.136Z"
   },
   {
    "duration": 378,
    "start_time": "2022-09-01T19:48:04.150Z"
   },
   {
    "duration": 153,
    "start_time": "2022-09-01T19:48:04.529Z"
   },
   {
    "duration": 16,
    "start_time": "2022-09-01T19:48:04.684Z"
   },
   {
    "duration": 6,
    "start_time": "2022-09-01T19:48:04.702Z"
   },
   {
    "duration": 1683,
    "start_time": "2022-09-01T19:48:04.709Z"
   },
   {
    "duration": 2027,
    "start_time": "2022-09-01T19:48:06.395Z"
   },
   {
    "duration": 3,
    "start_time": "2022-09-01T19:48:08.424Z"
   },
   {
    "duration": 64,
    "start_time": "2022-09-01T19:48:08.428Z"
   },
   {
    "duration": 422,
    "start_time": "2022-09-01T19:48:08.494Z"
   },
   {
    "duration": 5,
    "start_time": "2022-09-01T19:48:08.918Z"
   },
   {
    "duration": 4562,
    "start_time": "2022-09-01T19:48:08.926Z"
   },
   {
    "duration": 108495,
    "start_time": "2022-09-01T19:48:13.492Z"
   },
   {
    "duration": 4,
    "start_time": "2022-09-01T19:50:01.992Z"
   },
   {
    "duration": 193,
    "start_time": "2022-09-01T19:50:02.001Z"
   },
   {
    "duration": 6,
    "start_time": "2022-09-01T19:50:02.195Z"
   },
   {
    "duration": 2145,
    "start_time": "2022-09-01T19:50:02.202Z"
   },
   {
    "duration": 3,
    "start_time": "2022-09-01T19:50:04.349Z"
   },
   {
    "duration": 2050,
    "start_time": "2022-09-01T19:50:04.354Z"
   },
   {
    "duration": 4,
    "start_time": "2022-09-01T19:50:06.406Z"
   },
   {
    "duration": 315,
    "start_time": "2022-09-01T19:50:06.412Z"
   },
   {
    "duration": 4,
    "start_time": "2022-09-01T19:50:06.729Z"
   },
   {
    "duration": 294,
    "start_time": "2022-09-01T19:50:06.735Z"
   },
   {
    "duration": 5,
    "start_time": "2022-09-01T19:50:07.031Z"
   },
   {
    "duration": 79521,
    "start_time": "2022-09-01T19:53:12.048Z"
   },
   {
    "duration": 4,
    "start_time": "2022-09-01T19:54:31.571Z"
   },
   {
    "duration": 44328,
    "start_time": "2022-09-01T19:54:31.576Z"
   },
   {
    "duration": 4,
    "start_time": "2022-09-01T19:55:15.906Z"
   },
   {
    "duration": 157,
    "start_time": "2022-09-01T19:55:15.911Z"
   },
   {
    "duration": 4,
    "start_time": "2022-09-01T19:55:34.036Z"
   },
   {
    "duration": 141,
    "start_time": "2022-09-01T19:56:40.920Z"
   },
   {
    "duration": 4,
    "start_time": "2022-09-01T19:57:00.382Z"
   },
   {
    "duration": 2617,
    "start_time": "2022-09-01T20:19:01.512Z"
   },
   {
    "duration": 1303,
    "start_time": "2022-09-01T20:19:04.132Z"
   },
   {
    "duration": 44,
    "start_time": "2022-09-01T20:19:05.436Z"
   },
   {
    "duration": 18,
    "start_time": "2022-09-01T20:19:05.482Z"
   },
   {
    "duration": 13,
    "start_time": "2022-09-01T20:19:05.501Z"
   },
   {
    "duration": 3,
    "start_time": "2022-09-01T20:19:05.516Z"
   },
   {
    "duration": 6,
    "start_time": "2022-09-01T20:19:05.521Z"
   },
   {
    "duration": 7,
    "start_time": "2022-09-01T20:19:05.528Z"
   },
   {
    "duration": 14,
    "start_time": "2022-09-01T20:19:05.537Z"
   },
   {
    "duration": 10,
    "start_time": "2022-09-01T20:19:05.553Z"
   },
   {
    "duration": 30,
    "start_time": "2022-09-01T20:19:05.564Z"
   },
   {
    "duration": 10,
    "start_time": "2022-09-01T20:19:05.596Z"
   },
   {
    "duration": 6,
    "start_time": "2022-09-01T20:19:05.608Z"
   },
   {
    "duration": 13,
    "start_time": "2022-09-01T20:19:05.615Z"
   },
   {
    "duration": 4,
    "start_time": "2022-09-01T20:19:05.630Z"
   },
   {
    "duration": 9,
    "start_time": "2022-09-01T20:19:05.636Z"
   },
   {
    "duration": 6,
    "start_time": "2022-09-01T20:19:05.647Z"
   },
   {
    "duration": 38,
    "start_time": "2022-09-01T20:19:05.654Z"
   },
   {
    "duration": 226,
    "start_time": "2022-09-01T20:19:05.694Z"
   },
   {
    "duration": 6,
    "start_time": "2022-09-01T20:19:05.922Z"
   },
   {
    "duration": 199,
    "start_time": "2022-09-01T20:19:05.929Z"
   },
   {
    "duration": 12,
    "start_time": "2022-09-01T20:19:06.129Z"
   },
   {
    "duration": 14,
    "start_time": "2022-09-01T20:19:06.142Z"
   },
   {
    "duration": 8,
    "start_time": "2022-09-01T20:19:06.158Z"
   },
   {
    "duration": 9,
    "start_time": "2022-09-01T20:19:06.192Z"
   },
   {
    "duration": 9,
    "start_time": "2022-09-01T20:19:06.203Z"
   },
   {
    "duration": 6,
    "start_time": "2022-09-01T20:19:06.214Z"
   },
   {
    "duration": 420,
    "start_time": "2022-09-01T20:19:06.225Z"
   },
   {
    "duration": 161,
    "start_time": "2022-09-01T20:19:06.648Z"
   },
   {
    "duration": 16,
    "start_time": "2022-09-01T20:19:06.811Z"
   },
   {
    "duration": 4,
    "start_time": "2022-09-01T20:19:06.829Z"
   },
   {
    "duration": 1464,
    "start_time": "2022-09-01T20:19:06.835Z"
   },
   {
    "duration": 2025,
    "start_time": "2022-09-01T20:19:08.301Z"
   },
   {
    "duration": 3,
    "start_time": "2022-09-01T20:19:10.328Z"
   },
   {
    "duration": 7,
    "start_time": "2022-09-01T20:19:10.333Z"
   },
   {
    "duration": 322,
    "start_time": "2022-09-01T20:19:10.342Z"
   },
   {
    "duration": 5,
    "start_time": "2022-09-01T20:19:10.665Z"
   },
   {
    "duration": 3009,
    "start_time": "2022-09-01T20:19:10.672Z"
   },
   {
    "duration": 110393,
    "start_time": "2022-09-01T20:19:13.683Z"
   },
   {
    "duration": 3,
    "start_time": "2022-09-01T20:21:04.078Z"
   },
   {
    "duration": 146,
    "start_time": "2022-09-01T20:21:04.099Z"
   },
   {
    "duration": 4,
    "start_time": "2022-09-01T20:21:04.247Z"
   },
   {
    "duration": 2196,
    "start_time": "2022-09-01T20:21:04.252Z"
   },
   {
    "duration": 2045,
    "start_time": "2022-09-01T20:21:06.449Z"
   },
   {
    "duration": 3,
    "start_time": "2022-09-01T20:21:08.591Z"
   },
   {
    "duration": 1913,
    "start_time": "2022-09-01T20:21:08.595Z"
   },
   {
    "duration": 985,
    "start_time": "2022-09-01T20:21:10.511Z"
   },
   {
    "duration": 94,
    "start_time": "2022-09-01T20:21:11.498Z"
   },
   {
    "duration": 359,
    "start_time": "2022-09-01T20:21:11.595Z"
   },
   {
    "duration": 9,
    "start_time": "2022-09-01T20:21:11.957Z"
   },
   {
    "duration": 348,
    "start_time": "2022-09-01T20:21:11.968Z"
   },
   {
    "duration": 5,
    "start_time": "2022-09-01T20:21:12.318Z"
   },
   {
    "duration": 81161,
    "start_time": "2022-09-01T20:21:12.325Z"
   },
   {
    "duration": 4098,
    "start_time": "2022-09-01T20:22:33.492Z"
   },
   {
    "duration": 2,
    "start_time": "2022-09-01T20:22:37.592Z"
   },
   {
    "duration": 43724,
    "start_time": "2022-09-01T20:22:37.596Z"
   },
   {
    "duration": 1669,
    "start_time": "2022-09-01T20:23:21.322Z"
   },
   {
    "duration": 3,
    "start_time": "2022-09-01T20:23:22.992Z"
   },
   {
    "duration": 164,
    "start_time": "2022-09-01T20:23:22.996Z"
   },
   {
    "duration": 4,
    "start_time": "2022-09-01T20:23:23.162Z"
   },
   {
    "duration": 209,
    "start_time": "2022-09-01T20:23:23.168Z"
   },
   {
    "duration": 4,
    "start_time": "2022-09-01T20:23:23.378Z"
   },
   {
    "duration": 20,
    "start_time": "2022-09-01T20:23:23.385Z"
   },
   {
    "duration": 7166,
    "start_time": "2022-09-02T18:49:40.809Z"
   },
   {
    "duration": 1365,
    "start_time": "2022-09-02T18:49:47.977Z"
   },
   {
    "duration": 364,
    "start_time": "2022-09-02T18:49:49.344Z"
   },
   {
    "duration": 21,
    "start_time": "2022-09-02T18:49:49.710Z"
   },
   {
    "duration": 16,
    "start_time": "2022-09-02T18:49:49.733Z"
   },
   {
    "duration": 3,
    "start_time": "2022-09-02T18:49:49.751Z"
   },
   {
    "duration": 13,
    "start_time": "2022-09-02T18:49:49.756Z"
   },
   {
    "duration": 7,
    "start_time": "2022-09-02T18:49:49.773Z"
   },
   {
    "duration": 19,
    "start_time": "2022-09-02T18:49:49.782Z"
   },
   {
    "duration": 8,
    "start_time": "2022-09-02T18:49:49.804Z"
   },
   {
    "duration": 5,
    "start_time": "2022-09-02T18:49:49.814Z"
   },
   {
    "duration": 7,
    "start_time": "2022-09-02T18:49:49.820Z"
   },
   {
    "duration": 7,
    "start_time": "2022-09-02T18:49:49.829Z"
   },
   {
    "duration": 37,
    "start_time": "2022-09-02T18:49:49.838Z"
   },
   {
    "duration": 5,
    "start_time": "2022-09-02T18:49:49.877Z"
   },
   {
    "duration": 8,
    "start_time": "2022-09-02T18:49:49.884Z"
   },
   {
    "duration": 5,
    "start_time": "2022-09-02T18:49:49.894Z"
   },
   {
    "duration": 5,
    "start_time": "2022-09-02T18:49:49.900Z"
   },
   {
    "duration": 222,
    "start_time": "2022-09-02T18:49:49.906Z"
   },
   {
    "duration": 6,
    "start_time": "2022-09-02T18:49:50.130Z"
   },
   {
    "duration": 170,
    "start_time": "2022-09-02T18:49:50.137Z"
   },
   {
    "duration": 10,
    "start_time": "2022-09-02T18:49:50.309Z"
   },
   {
    "duration": 14,
    "start_time": "2022-09-02T18:49:50.321Z"
   },
   {
    "duration": 7,
    "start_time": "2022-09-02T18:49:50.337Z"
   },
   {
    "duration": 26,
    "start_time": "2022-09-02T18:49:50.345Z"
   },
   {
    "duration": 6,
    "start_time": "2022-09-02T18:49:50.373Z"
   },
   {
    "duration": 7,
    "start_time": "2022-09-02T18:49:50.380Z"
   },
   {
    "duration": 440,
    "start_time": "2022-09-02T18:49:50.391Z"
   },
   {
    "duration": 135,
    "start_time": "2022-09-02T18:49:50.833Z"
   },
   {
    "duration": 15,
    "start_time": "2022-09-02T18:49:50.970Z"
   },
   {
    "duration": 5,
    "start_time": "2022-09-02T18:49:50.987Z"
   },
   {
    "duration": 1578,
    "start_time": "2022-09-02T18:49:50.994Z"
   },
   {
    "duration": 1719,
    "start_time": "2022-09-02T18:49:52.573Z"
   },
   {
    "duration": 4,
    "start_time": "2022-09-02T18:49:54.294Z"
   },
   {
    "duration": 12,
    "start_time": "2022-09-02T18:49:54.300Z"
   },
   {
    "duration": 271,
    "start_time": "2022-09-02T18:49:54.313Z"
   },
   {
    "duration": 4,
    "start_time": "2022-09-02T18:49:54.585Z"
   },
   {
    "duration": 2663,
    "start_time": "2022-09-02T18:49:54.591Z"
   },
   {
    "duration": 64702,
    "start_time": "2022-09-02T18:49:57.256Z"
   },
   {
    "duration": 11,
    "start_time": "2022-09-02T18:51:01.960Z"
   },
   {
    "duration": 1,
    "start_time": "2022-09-02T18:51:01.972Z"
   },
   {
    "duration": 0,
    "start_time": "2022-09-02T18:51:01.974Z"
   },
   {
    "duration": 0,
    "start_time": "2022-09-02T18:51:01.976Z"
   },
   {
    "duration": 0,
    "start_time": "2022-09-02T18:51:01.977Z"
   },
   {
    "duration": 0,
    "start_time": "2022-09-02T18:51:01.978Z"
   },
   {
    "duration": 0,
    "start_time": "2022-09-02T18:51:01.979Z"
   },
   {
    "duration": 0,
    "start_time": "2022-09-02T18:51:01.980Z"
   },
   {
    "duration": 0,
    "start_time": "2022-09-02T18:51:01.981Z"
   },
   {
    "duration": 0,
    "start_time": "2022-09-02T18:51:01.982Z"
   },
   {
    "duration": 0,
    "start_time": "2022-09-02T18:51:01.983Z"
   },
   {
    "duration": 0,
    "start_time": "2022-09-02T18:51:01.984Z"
   },
   {
    "duration": 0,
    "start_time": "2022-09-02T18:51:01.985Z"
   },
   {
    "duration": 0,
    "start_time": "2022-09-02T18:51:01.987Z"
   },
   {
    "duration": 0,
    "start_time": "2022-09-02T18:51:01.988Z"
   },
   {
    "duration": 0,
    "start_time": "2022-09-02T18:51:01.989Z"
   },
   {
    "duration": 0,
    "start_time": "2022-09-02T18:51:01.991Z"
   },
   {
    "duration": 0,
    "start_time": "2022-09-02T18:51:01.992Z"
   },
   {
    "duration": 0,
    "start_time": "2022-09-02T18:51:01.993Z"
   },
   {
    "duration": 0,
    "start_time": "2022-09-02T18:51:01.994Z"
   },
   {
    "duration": 0,
    "start_time": "2022-09-02T18:51:01.995Z"
   },
   {
    "duration": 0,
    "start_time": "2022-09-02T18:51:01.996Z"
   },
   {
    "duration": 0,
    "start_time": "2022-09-02T18:51:01.997Z"
   },
   {
    "duration": 0,
    "start_time": "2022-09-02T18:51:01.998Z"
   },
   {
    "duration": 2352,
    "start_time": "2022-09-02T18:51:06.800Z"
   },
   {
    "duration": 2891,
    "start_time": "2022-09-02T18:51:14.891Z"
   },
   {
    "duration": 1360,
    "start_time": "2022-09-02T18:51:17.784Z"
   },
   {
    "duration": 41,
    "start_time": "2022-09-02T18:51:19.146Z"
   },
   {
    "duration": 16,
    "start_time": "2022-09-02T18:51:19.189Z"
   },
   {
    "duration": 14,
    "start_time": "2022-09-02T18:51:19.207Z"
   },
   {
    "duration": 3,
    "start_time": "2022-09-02T18:51:19.222Z"
   },
   {
    "duration": 6,
    "start_time": "2022-09-02T18:51:19.226Z"
   },
   {
    "duration": 9,
    "start_time": "2022-09-02T18:51:19.234Z"
   },
   {
    "duration": 26,
    "start_time": "2022-09-02T18:51:19.245Z"
   },
   {
    "duration": 8,
    "start_time": "2022-09-02T18:51:19.273Z"
   },
   {
    "duration": 4,
    "start_time": "2022-09-02T18:51:19.282Z"
   },
   {
    "duration": 9,
    "start_time": "2022-09-02T18:51:19.287Z"
   },
   {
    "duration": 5,
    "start_time": "2022-09-02T18:51:19.297Z"
   },
   {
    "duration": 12,
    "start_time": "2022-09-02T18:51:19.305Z"
   },
   {
    "duration": 5,
    "start_time": "2022-09-02T18:51:19.319Z"
   },
   {
    "duration": 8,
    "start_time": "2022-09-02T18:51:19.325Z"
   },
   {
    "duration": 35,
    "start_time": "2022-09-02T18:51:19.335Z"
   },
   {
    "duration": 5,
    "start_time": "2022-09-02T18:51:19.371Z"
   },
   {
    "duration": 218,
    "start_time": "2022-09-02T18:51:19.377Z"
   },
   {
    "duration": 6,
    "start_time": "2022-09-02T18:51:19.596Z"
   },
   {
    "duration": 172,
    "start_time": "2022-09-02T18:51:19.603Z"
   },
   {
    "duration": 11,
    "start_time": "2022-09-02T18:51:19.777Z"
   },
   {
    "duration": 14,
    "start_time": "2022-09-02T18:51:19.790Z"
   },
   {
    "duration": 6,
    "start_time": "2022-09-02T18:51:19.806Z"
   },
   {
    "duration": 7,
    "start_time": "2022-09-02T18:51:19.814Z"
   },
   {
    "duration": 6,
    "start_time": "2022-09-02T18:51:19.823Z"
   },
   {
    "duration": 6,
    "start_time": "2022-09-02T18:51:19.830Z"
   },
   {
    "duration": 384,
    "start_time": "2022-09-02T18:51:19.837Z"
   },
   {
    "duration": 148,
    "start_time": "2022-09-02T18:51:20.223Z"
   },
   {
    "duration": 13,
    "start_time": "2022-09-02T18:51:20.372Z"
   },
   {
    "duration": 5,
    "start_time": "2022-09-02T18:51:20.387Z"
   },
   {
    "duration": 1182,
    "start_time": "2022-09-02T18:51:20.394Z"
   },
   {
    "duration": 1925,
    "start_time": "2022-09-02T18:51:21.578Z"
   },
   {
    "duration": 3,
    "start_time": "2022-09-02T18:51:23.505Z"
   },
   {
    "duration": 62,
    "start_time": "2022-09-02T18:51:23.509Z"
   },
   {
    "duration": 413,
    "start_time": "2022-09-02T18:51:23.573Z"
   },
   {
    "duration": 4,
    "start_time": "2022-09-02T18:51:23.988Z"
   },
   {
    "duration": 3047,
    "start_time": "2022-09-02T18:51:23.993Z"
   },
   {
    "duration": 98936,
    "start_time": "2022-09-02T18:51:27.041Z"
   },
   {
    "duration": 4,
    "start_time": "2022-09-02T18:53:05.978Z"
   },
   {
    "duration": 145,
    "start_time": "2022-09-02T18:53:05.985Z"
   },
   {
    "duration": 5,
    "start_time": "2022-09-02T18:53:06.132Z"
   },
   {
    "duration": 2279,
    "start_time": "2022-09-02T18:53:06.139Z"
   },
   {
    "duration": 1652,
    "start_time": "2022-09-02T18:53:08.420Z"
   },
   {
    "duration": 3,
    "start_time": "2022-09-02T18:53:10.074Z"
   },
   {
    "duration": 1815,
    "start_time": "2022-09-02T18:53:10.168Z"
   },
   {
    "duration": 790,
    "start_time": "2022-09-02T18:53:11.985Z"
   },
   {
    "duration": 91,
    "start_time": "2022-09-02T18:53:12.777Z"
   },
   {
    "duration": 401,
    "start_time": "2022-09-02T18:53:12.872Z"
   },
   {
    "duration": 4,
    "start_time": "2022-09-02T18:53:13.275Z"
   },
   {
    "duration": 297,
    "start_time": "2022-09-02T18:53:13.280Z"
   },
   {
    "duration": 4,
    "start_time": "2022-09-02T18:53:13.579Z"
   },
   {
    "duration": 71259,
    "start_time": "2022-09-02T18:53:13.584Z"
   },
   {
    "duration": 3578,
    "start_time": "2022-09-02T18:54:24.844Z"
   },
   {
    "duration": 3,
    "start_time": "2022-09-02T18:54:28.423Z"
   },
   {
    "duration": 40014,
    "start_time": "2022-09-02T18:54:28.427Z"
   },
   {
    "duration": 1655,
    "start_time": "2022-09-02T18:55:08.443Z"
   },
   {
    "duration": 3,
    "start_time": "2022-09-02T18:55:10.101Z"
   },
   {
    "duration": 161,
    "start_time": "2022-09-02T18:55:10.106Z"
   },
   {
    "duration": 5,
    "start_time": "2022-09-02T18:55:10.269Z"
   },
   {
    "duration": 171,
    "start_time": "2022-09-02T18:55:10.276Z"
   },
   {
    "duration": 4,
    "start_time": "2022-09-02T18:55:10.449Z"
   },
   {
    "duration": 22,
    "start_time": "2022-09-02T18:55:10.455Z"
   },
   {
    "duration": 81,
    "start_time": "2022-09-02T18:55:10.479Z"
   },
   {
    "duration": 0,
    "start_time": "2022-09-02T18:55:10.562Z"
   },
   {
    "duration": 14,
    "start_time": "2022-09-02T18:55:21.712Z"
   },
   {
    "duration": 2105,
    "start_time": "2022-09-02T19:00:33.685Z"
   },
   {
    "duration": 1199,
    "start_time": "2022-09-02T19:00:35.792Z"
   },
   {
    "duration": 39,
    "start_time": "2022-09-02T19:00:36.993Z"
   },
   {
    "duration": 16,
    "start_time": "2022-09-02T19:00:37.034Z"
   },
   {
    "duration": 12,
    "start_time": "2022-09-02T19:00:37.052Z"
   },
   {
    "duration": 3,
    "start_time": "2022-09-02T19:00:37.065Z"
   },
   {
    "duration": 10,
    "start_time": "2022-09-02T19:00:37.069Z"
   },
   {
    "duration": 5,
    "start_time": "2022-09-02T19:00:37.081Z"
   },
   {
    "duration": 14,
    "start_time": "2022-09-02T19:00:37.088Z"
   },
   {
    "duration": 9,
    "start_time": "2022-09-02T19:00:37.104Z"
   },
   {
    "duration": 4,
    "start_time": "2022-09-02T19:00:37.115Z"
   },
   {
    "duration": 7,
    "start_time": "2022-09-02T19:00:37.121Z"
   },
   {
    "duration": 7,
    "start_time": "2022-09-02T19:00:37.130Z"
   },
   {
    "duration": 32,
    "start_time": "2022-09-02T19:00:37.140Z"
   },
   {
    "duration": 6,
    "start_time": "2022-09-02T19:00:37.173Z"
   },
   {
    "duration": 14,
    "start_time": "2022-09-02T19:00:37.181Z"
   },
   {
    "duration": 7,
    "start_time": "2022-09-02T19:00:37.197Z"
   },
   {
    "duration": 8,
    "start_time": "2022-09-02T19:00:37.206Z"
   },
   {
    "duration": 208,
    "start_time": "2022-09-02T19:00:37.216Z"
   },
   {
    "duration": 5,
    "start_time": "2022-09-02T19:00:37.426Z"
   },
   {
    "duration": 166,
    "start_time": "2022-09-02T19:00:37.432Z"
   },
   {
    "duration": 8,
    "start_time": "2022-09-02T19:00:37.600Z"
   },
   {
    "duration": 11,
    "start_time": "2022-09-02T19:00:37.610Z"
   },
   {
    "duration": 6,
    "start_time": "2022-09-02T19:00:37.623Z"
   },
   {
    "duration": 9,
    "start_time": "2022-09-02T19:00:37.630Z"
   },
   {
    "duration": 27,
    "start_time": "2022-09-02T19:00:37.640Z"
   },
   {
    "duration": 4,
    "start_time": "2022-09-02T19:00:37.669Z"
   },
   {
    "duration": 364,
    "start_time": "2022-09-02T19:00:37.674Z"
   },
   {
    "duration": 149,
    "start_time": "2022-09-02T19:00:38.039Z"
   },
   {
    "duration": 13,
    "start_time": "2022-09-02T19:00:38.190Z"
   },
   {
    "duration": 6,
    "start_time": "2022-09-02T19:00:38.205Z"
   },
   {
    "duration": 1359,
    "start_time": "2022-09-02T19:00:38.212Z"
   },
   {
    "duration": 938,
    "start_time": "2022-09-02T19:00:44.842Z"
   },
   {
    "duration": 1517,
    "start_time": "2022-09-02T19:00:48.665Z"
   },
   {
    "duration": 3,
    "start_time": "2022-09-02T19:00:52.128Z"
   },
   {
    "duration": 2655,
    "start_time": "2022-09-02T19:01:26.828Z"
   },
   {
    "duration": 6198,
    "start_time": "2022-09-02T19:06:12.489Z"
   },
   {
    "duration": 1954,
    "start_time": "2022-09-02T19:06:43.713Z"
   },
   {
    "duration": 3,
    "start_time": "2022-09-02T19:06:48.545Z"
   },
   {
    "duration": 1507,
    "start_time": "2022-09-02T19:07:37.579Z"
   },
   {
    "duration": 3,
    "start_time": "2022-09-02T19:07:41.092Z"
   },
   {
    "duration": 1727,
    "start_time": "2022-09-02T19:07:54.913Z"
   },
   {
    "duration": 3326,
    "start_time": "2022-09-02T19:08:05.873Z"
   },
   {
    "duration": 3,
    "start_time": "2022-09-02T19:08:11.157Z"
   },
   {
    "duration": 105,
    "start_time": "2022-09-02T19:12:09.068Z"
   },
   {
    "duration": 6,
    "start_time": "2022-09-02T19:12:09.931Z"
   },
   {
    "duration": 171,
    "start_time": "2022-09-02T19:12:15.698Z"
   },
   {
    "duration": 7,
    "start_time": "2022-09-02T19:12:16.238Z"
   },
   {
    "duration": 178,
    "start_time": "2022-09-02T19:12:24.195Z"
   },
   {
    "duration": 5,
    "start_time": "2022-09-02T19:12:24.830Z"
   },
   {
    "duration": 13965,
    "start_time": "2022-09-03T17:53:44.061Z"
   },
   {
    "duration": 1729,
    "start_time": "2022-09-03T17:53:58.028Z"
   },
   {
    "duration": 464,
    "start_time": "2022-09-03T17:53:59.760Z"
   },
   {
    "duration": 24,
    "start_time": "2022-09-03T17:54:00.226Z"
   },
   {
    "duration": 22,
    "start_time": "2022-09-03T17:54:00.253Z"
   },
   {
    "duration": 52,
    "start_time": "2022-09-03T17:54:00.278Z"
   },
   {
    "duration": 13,
    "start_time": "2022-09-03T17:54:00.340Z"
   },
   {
    "duration": 14,
    "start_time": "2022-09-03T17:54:00.355Z"
   },
   {
    "duration": 43,
    "start_time": "2022-09-03T17:54:00.371Z"
   },
   {
    "duration": 38,
    "start_time": "2022-09-03T17:54:00.415Z"
   },
   {
    "duration": 5,
    "start_time": "2022-09-03T17:54:00.455Z"
   },
   {
    "duration": 20,
    "start_time": "2022-09-03T17:54:00.462Z"
   },
   {
    "duration": 41,
    "start_time": "2022-09-03T17:54:00.484Z"
   },
   {
    "duration": 56,
    "start_time": "2022-09-03T17:54:00.530Z"
   },
   {
    "duration": 71,
    "start_time": "2022-09-03T17:54:00.588Z"
   },
   {
    "duration": 66,
    "start_time": "2022-09-03T17:54:00.661Z"
   },
   {
    "duration": 40,
    "start_time": "2022-09-03T17:54:00.728Z"
   },
   {
    "duration": 24,
    "start_time": "2022-09-03T17:54:00.770Z"
   },
   {
    "duration": 741,
    "start_time": "2022-09-03T17:54:00.796Z"
   },
   {
    "duration": 53,
    "start_time": "2022-09-03T17:54:01.540Z"
   },
   {
    "duration": 593,
    "start_time": "2022-09-03T17:54:01.602Z"
   },
   {
    "duration": 19,
    "start_time": "2022-09-03T17:54:02.203Z"
   },
   {
    "duration": 76,
    "start_time": "2022-09-03T17:54:02.227Z"
   },
   {
    "duration": 60,
    "start_time": "2022-09-03T17:54:02.305Z"
   },
   {
    "duration": 67,
    "start_time": "2022-09-03T17:54:02.367Z"
   },
   {
    "duration": 21,
    "start_time": "2022-09-03T17:54:02.443Z"
   },
   {
    "duration": 20,
    "start_time": "2022-09-03T17:54:02.502Z"
   },
   {
    "duration": 797,
    "start_time": "2022-09-03T17:54:02.523Z"
   },
   {
    "duration": 187,
    "start_time": "2022-09-03T17:54:03.334Z"
   },
   {
    "duration": 21,
    "start_time": "2022-09-03T17:54:03.523Z"
   },
   {
    "duration": 3,
    "start_time": "2022-09-03T17:54:03.546Z"
   },
   {
    "duration": 4448,
    "start_time": "2022-09-03T17:54:03.551Z"
   },
   {
    "duration": 54117,
    "start_time": "2022-09-03T17:54:42.449Z"
   },
   {
    "duration": 55250,
    "start_time": "2022-09-03T17:55:43.756Z"
   },
   {
    "duration": 159,
    "start_time": "2022-09-03T17:56:43.151Z"
   },
   {
    "duration": 5,
    "start_time": "2022-09-03T17:57:16.781Z"
   },
   {
    "duration": 7,
    "start_time": "2022-09-03T17:59:48.552Z"
   },
   {
    "duration": 2731,
    "start_time": "2022-09-03T18:00:26.523Z"
   },
   {
    "duration": 2747,
    "start_time": "2022-09-03T18:00:29.257Z"
   },
   {
    "duration": 112,
    "start_time": "2022-09-03T18:00:32.007Z"
   },
   {
    "duration": 26,
    "start_time": "2022-09-03T18:00:32.121Z"
   },
   {
    "duration": 68,
    "start_time": "2022-09-03T18:00:32.153Z"
   },
   {
    "duration": 27,
    "start_time": "2022-09-03T18:00:32.224Z"
   },
   {
    "duration": 85,
    "start_time": "2022-09-03T18:00:32.253Z"
   },
   {
    "duration": 20,
    "start_time": "2022-09-03T18:00:32.340Z"
   },
   {
    "duration": 82,
    "start_time": "2022-09-03T18:00:32.362Z"
   },
   {
    "duration": 52,
    "start_time": "2022-09-03T18:00:32.446Z"
   },
   {
    "duration": 10,
    "start_time": "2022-09-03T18:00:32.499Z"
   },
   {
    "duration": 27,
    "start_time": "2022-09-03T18:00:32.513Z"
   },
   {
    "duration": 10,
    "start_time": "2022-09-03T18:00:32.542Z"
   },
   {
    "duration": 44,
    "start_time": "2022-09-03T18:00:32.593Z"
   },
   {
    "duration": 5,
    "start_time": "2022-09-03T18:00:32.639Z"
   },
   {
    "duration": 49,
    "start_time": "2022-09-03T18:00:32.646Z"
   },
   {
    "duration": 35,
    "start_time": "2022-09-03T18:00:32.697Z"
   },
   {
    "duration": 10,
    "start_time": "2022-09-03T18:00:32.733Z"
   },
   {
    "duration": 587,
    "start_time": "2022-09-03T18:00:32.745Z"
   },
   {
    "duration": 6,
    "start_time": "2022-09-03T18:00:33.334Z"
   },
   {
    "duration": 429,
    "start_time": "2022-09-03T18:00:33.394Z"
   },
   {
    "duration": 12,
    "start_time": "2022-09-03T18:00:33.825Z"
   },
   {
    "duration": 28,
    "start_time": "2022-09-03T18:00:33.891Z"
   },
   {
    "duration": 20,
    "start_time": "2022-09-03T18:00:33.921Z"
   },
   {
    "duration": 13,
    "start_time": "2022-09-03T18:00:33.942Z"
   },
   {
    "duration": 31,
    "start_time": "2022-09-03T18:00:33.993Z"
   },
   {
    "duration": 10,
    "start_time": "2022-09-03T18:00:34.025Z"
   },
   {
    "duration": 430,
    "start_time": "2022-09-03T18:00:34.037Z"
   },
   {
    "duration": 180,
    "start_time": "2022-09-03T18:00:34.469Z"
   },
   {
    "duration": 14,
    "start_time": "2022-09-03T18:00:34.651Z"
   },
   {
    "duration": 10,
    "start_time": "2022-09-03T18:00:34.667Z"
   },
   {
    "duration": 5028,
    "start_time": "2022-09-03T18:00:34.679Z"
   },
   {
    "duration": 43402,
    "start_time": "2022-09-03T18:00:39.716Z"
   },
   {
    "duration": 72,
    "start_time": "2022-09-03T18:01:23.126Z"
   },
   {
    "duration": 27,
    "start_time": "2022-09-03T18:01:23.204Z"
   },
   {
    "duration": 299,
    "start_time": "2022-09-03T18:01:23.233Z"
   },
   {
    "duration": 5,
    "start_time": "2022-09-03T18:01:23.534Z"
   },
   {
    "duration": 3341,
    "start_time": "2022-09-03T18:01:23.541Z"
   },
   {
    "duration": 127338,
    "start_time": "2022-09-03T18:01:26.884Z"
   },
   {
    "duration": 4,
    "start_time": "2022-09-03T18:03:34.226Z"
   },
   {
    "duration": 175,
    "start_time": "2022-09-03T18:03:34.234Z"
   },
   {
    "duration": 7,
    "start_time": "2022-09-03T18:03:34.417Z"
   },
   {
    "duration": 2021,
    "start_time": "2022-09-03T18:03:34.426Z"
   },
   {
    "duration": 3791,
    "start_time": "2022-09-03T18:03:36.448Z"
   },
   {
    "duration": 5,
    "start_time": "2022-09-03T18:03:40.293Z"
   },
   {
    "duration": 1933,
    "start_time": "2022-09-03T18:03:40.300Z"
   },
   {
    "duration": 2984,
    "start_time": "2022-09-03T18:03:42.235Z"
   },
   {
    "duration": 10,
    "start_time": "2022-09-03T18:03:45.221Z"
   },
   {
    "duration": 491,
    "start_time": "2022-09-03T18:03:45.234Z"
   },
   {
    "duration": 5,
    "start_time": "2022-09-03T18:03:45.726Z"
   },
   {
    "duration": 331,
    "start_time": "2022-09-03T18:03:45.733Z"
   },
   {
    "duration": 5,
    "start_time": "2022-09-03T18:03:46.065Z"
   },
   {
    "duration": 87871,
    "start_time": "2022-09-03T18:03:46.072Z"
   },
   {
    "duration": 4405,
    "start_time": "2022-09-03T18:05:13.945Z"
   },
   {
    "duration": 3,
    "start_time": "2022-09-03T18:05:18.352Z"
   },
   {
    "duration": 52000,
    "start_time": "2022-09-03T18:05:18.357Z"
   },
   {
    "duration": 1949,
    "start_time": "2022-09-03T18:06:10.359Z"
   },
   {
    "duration": 15,
    "start_time": "2022-09-03T18:06:12.315Z"
   },
   {
    "duration": 229,
    "start_time": "2022-09-03T18:06:12.335Z"
   },
   {
    "duration": 5,
    "start_time": "2022-09-03T18:06:12.567Z"
   },
   {
    "duration": 198,
    "start_time": "2022-09-03T18:06:12.574Z"
   },
   {
    "duration": 5,
    "start_time": "2022-09-03T18:06:12.774Z"
   },
   {
    "duration": 33,
    "start_time": "2022-09-03T18:06:12.781Z"
   },
   {
    "duration": 23,
    "start_time": "2022-09-03T18:06:12.816Z"
   },
   {
    "duration": 190,
    "start_time": "2022-09-03T18:06:12.843Z"
   },
   {
    "duration": 52,
    "start_time": "2022-09-03T18:06:46.276Z"
   },
   {
    "duration": 16,
    "start_time": "2022-09-03T18:09:02.332Z"
   },
   {
    "duration": 27,
    "start_time": "2022-09-03T18:10:11.917Z"
   },
   {
    "duration": 29,
    "start_time": "2022-09-03T18:10:16.181Z"
   }
  ],
  "kernelspec": {
   "display_name": "Python 3 (ipykernel)",
   "language": "python",
   "name": "python3"
  },
  "language_info": {
   "codemirror_mode": {
    "name": "ipython",
    "version": 3
   },
   "file_extension": ".py",
   "mimetype": "text/x-python",
   "name": "python",
   "nbconvert_exporter": "python",
   "pygments_lexer": "ipython3",
   "version": "3.9.7"
  },
  "toc": {
   "base_numbering": 1,
   "nav_menu": {},
   "number_sections": true,
   "sideBar": true,
   "skip_h1_title": true,
   "title_cell": "Содержание",
   "title_sidebar": "Contents",
   "toc_cell": true,
   "toc_position": {
    "height": "calc(100% - 180px)",
    "left": "10px",
    "top": "150px",
    "width": "187px"
   },
   "toc_section_display": true,
   "toc_window_display": true
  }
 },
 "nbformat": 4,
 "nbformat_minor": 2
}
