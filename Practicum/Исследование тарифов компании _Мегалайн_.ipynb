{
 "cells": [
  {
   "cell_type": "markdown",
   "metadata": {},
   "source": [
    "# Исследование тарифов компании \"Мегалайн\""
   ]
  },
  {
   "cell_type": "markdown",
   "metadata": {},
   "source": [
    "В нашем распоряжении входные данные 500 пользователей «Мегалайна» — кто они, откуда, каким тарифом пользуются, сколько звонков и сообщений каждый отправил за 2018 год.\n",
    "\n",
    "**Цель исследования** — понять, какой тариф приносит больше денег.\n",
    "\n",
    "**Ход исследования**\n",
    "\n",
    "Данные о пользователях получим из  5 файлов. О качестве данных известно, что, как минимум, имеется множество пропусков, поэтому понадобится обзор данных. \n",
    "\n",
    "Таким образом, исследование пройдёт в три этапа:\n",
    " 1. Обзор данных.\n",
    " 2. Предобработка данных.\n",
    " 3. Анализ."
   ]
  },
  {
   "cell_type": "markdown",
   "metadata": {},
   "source": [
    "## Обзор данных"
   ]
  },
  {
   "cell_type": "code",
   "execution_count": 1,
   "metadata": {},
   "outputs": [],
   "source": [
    "import pandas as pd # импорт библиотеки pandas\n",
    "import math as mt # импорт библиотеки math\n",
    "import matplotlib.pyplot as plt # импорт библиотеки matplotlib\n",
    "import seaborn as sns # импорт библиотеки seaborn\n",
    "import scipy.stats as st # импорт библиотеки scipy\n",
    "import numpy as np # импорт библиотеки numpy\n",
    "from datetime import datetime, date, time"
   ]
  },
  {
   "cell_type": "code",
   "execution_count": 2,
   "metadata": {},
   "outputs": [],
   "source": [
    "calls = pd.read_csv('/Users/dianatyubeeva/Desktop/datasets/calls.csv')\n",
    "internet = pd.read_csv('/Users/dianatyubeeva/Desktop/datasets/internet.csv', index_col=0)\n",
    "messages = pd.read_csv('/Users/dianatyubeeva/Desktop/datasets/messages.csv')\n",
    "tariffs = pd.read_csv('/Users/dianatyubeeva/Desktop/datasets/tariffs.csv')\n",
    "users = pd.read_csv('/Users/dianatyubeeva/Desktop/datasets/users.csv')"
   ]
  },
  {
   "cell_type": "markdown",
   "metadata": {},
   "source": [
    "Выведим на экран первые пять строк всех таблиц:"
   ]
  },
  {
   "cell_type": "code",
   "execution_count": 3,
   "metadata": {},
   "outputs": [
    {
     "data": {
      "text/html": [
       "<div>\n",
       "<style scoped>\n",
       "    .dataframe tbody tr th:only-of-type {\n",
       "        vertical-align: middle;\n",
       "    }\n",
       "\n",
       "    .dataframe tbody tr th {\n",
       "        vertical-align: top;\n",
       "    }\n",
       "\n",
       "    .dataframe thead th {\n",
       "        text-align: right;\n",
       "    }\n",
       "</style>\n",
       "<table border=\"1\" class=\"dataframe\">\n",
       "  <thead>\n",
       "    <tr style=\"text-align: right;\">\n",
       "      <th></th>\n",
       "      <th>id</th>\n",
       "      <th>call_date</th>\n",
       "      <th>duration</th>\n",
       "      <th>user_id</th>\n",
       "    </tr>\n",
       "  </thead>\n",
       "  <tbody>\n",
       "    <tr>\n",
       "      <th>0</th>\n",
       "      <td>1000_0</td>\n",
       "      <td>2018-07-25</td>\n",
       "      <td>0.00</td>\n",
       "      <td>1000</td>\n",
       "    </tr>\n",
       "    <tr>\n",
       "      <th>1</th>\n",
       "      <td>1000_1</td>\n",
       "      <td>2018-08-17</td>\n",
       "      <td>0.00</td>\n",
       "      <td>1000</td>\n",
       "    </tr>\n",
       "    <tr>\n",
       "      <th>2</th>\n",
       "      <td>1000_2</td>\n",
       "      <td>2018-06-11</td>\n",
       "      <td>2.85</td>\n",
       "      <td>1000</td>\n",
       "    </tr>\n",
       "    <tr>\n",
       "      <th>3</th>\n",
       "      <td>1000_3</td>\n",
       "      <td>2018-09-21</td>\n",
       "      <td>13.80</td>\n",
       "      <td>1000</td>\n",
       "    </tr>\n",
       "    <tr>\n",
       "      <th>4</th>\n",
       "      <td>1000_4</td>\n",
       "      <td>2018-12-15</td>\n",
       "      <td>5.18</td>\n",
       "      <td>1000</td>\n",
       "    </tr>\n",
       "  </tbody>\n",
       "</table>\n",
       "</div>"
      ],
      "text/plain": [
       "       id   call_date  duration  user_id\n",
       "0  1000_0  2018-07-25      0.00     1000\n",
       "1  1000_1  2018-08-17      0.00     1000\n",
       "2  1000_2  2018-06-11      2.85     1000\n",
       "3  1000_3  2018-09-21     13.80     1000\n",
       "4  1000_4  2018-12-15      5.18     1000"
      ]
     },
     "metadata": {},
     "output_type": "display_data"
    }
   ],
   "source": [
    "display(calls.head()) # получение первых 5 строк таблицы"
   ]
  },
  {
   "cell_type": "code",
   "execution_count": 4,
   "metadata": {},
   "outputs": [
    {
     "data": {
      "text/html": [
       "<div>\n",
       "<style scoped>\n",
       "    .dataframe tbody tr th:only-of-type {\n",
       "        vertical-align: middle;\n",
       "    }\n",
       "\n",
       "    .dataframe tbody tr th {\n",
       "        vertical-align: top;\n",
       "    }\n",
       "\n",
       "    .dataframe thead th {\n",
       "        text-align: right;\n",
       "    }\n",
       "</style>\n",
       "<table border=\"1\" class=\"dataframe\">\n",
       "  <thead>\n",
       "    <tr style=\"text-align: right;\">\n",
       "      <th></th>\n",
       "      <th>id</th>\n",
       "      <th>mb_used</th>\n",
       "      <th>session_date</th>\n",
       "      <th>user_id</th>\n",
       "    </tr>\n",
       "  </thead>\n",
       "  <tbody>\n",
       "    <tr>\n",
       "      <th>0</th>\n",
       "      <td>1000_0</td>\n",
       "      <td>112.95</td>\n",
       "      <td>2018-11-25</td>\n",
       "      <td>1000</td>\n",
       "    </tr>\n",
       "    <tr>\n",
       "      <th>1</th>\n",
       "      <td>1000_1</td>\n",
       "      <td>1052.81</td>\n",
       "      <td>2018-09-07</td>\n",
       "      <td>1000</td>\n",
       "    </tr>\n",
       "    <tr>\n",
       "      <th>2</th>\n",
       "      <td>1000_2</td>\n",
       "      <td>1197.26</td>\n",
       "      <td>2018-06-25</td>\n",
       "      <td>1000</td>\n",
       "    </tr>\n",
       "    <tr>\n",
       "      <th>3</th>\n",
       "      <td>1000_3</td>\n",
       "      <td>550.27</td>\n",
       "      <td>2018-08-22</td>\n",
       "      <td>1000</td>\n",
       "    </tr>\n",
       "    <tr>\n",
       "      <th>4</th>\n",
       "      <td>1000_4</td>\n",
       "      <td>302.56</td>\n",
       "      <td>2018-09-24</td>\n",
       "      <td>1000</td>\n",
       "    </tr>\n",
       "  </tbody>\n",
       "</table>\n",
       "</div>"
      ],
      "text/plain": [
       "       id  mb_used session_date  user_id\n",
       "0  1000_0   112.95   2018-11-25     1000\n",
       "1  1000_1  1052.81   2018-09-07     1000\n",
       "2  1000_2  1197.26   2018-06-25     1000\n",
       "3  1000_3   550.27   2018-08-22     1000\n",
       "4  1000_4   302.56   2018-09-24     1000"
      ]
     },
     "metadata": {},
     "output_type": "display_data"
    }
   ],
   "source": [
    "display(internet.head()) # получение первых 5 строк таблицы"
   ]
  },
  {
   "cell_type": "code",
   "execution_count": 5,
   "metadata": {},
   "outputs": [
    {
     "data": {
      "text/html": [
       "<div>\n",
       "<style scoped>\n",
       "    .dataframe tbody tr th:only-of-type {\n",
       "        vertical-align: middle;\n",
       "    }\n",
       "\n",
       "    .dataframe tbody tr th {\n",
       "        vertical-align: top;\n",
       "    }\n",
       "\n",
       "    .dataframe thead th {\n",
       "        text-align: right;\n",
       "    }\n",
       "</style>\n",
       "<table border=\"1\" class=\"dataframe\">\n",
       "  <thead>\n",
       "    <tr style=\"text-align: right;\">\n",
       "      <th></th>\n",
       "      <th>id</th>\n",
       "      <th>message_date</th>\n",
       "      <th>user_id</th>\n",
       "    </tr>\n",
       "  </thead>\n",
       "  <tbody>\n",
       "    <tr>\n",
       "      <th>0</th>\n",
       "      <td>1000_0</td>\n",
       "      <td>2018-06-27</td>\n",
       "      <td>1000</td>\n",
       "    </tr>\n",
       "    <tr>\n",
       "      <th>1</th>\n",
       "      <td>1000_1</td>\n",
       "      <td>2018-10-08</td>\n",
       "      <td>1000</td>\n",
       "    </tr>\n",
       "    <tr>\n",
       "      <th>2</th>\n",
       "      <td>1000_2</td>\n",
       "      <td>2018-08-04</td>\n",
       "      <td>1000</td>\n",
       "    </tr>\n",
       "    <tr>\n",
       "      <th>3</th>\n",
       "      <td>1000_3</td>\n",
       "      <td>2018-06-16</td>\n",
       "      <td>1000</td>\n",
       "    </tr>\n",
       "    <tr>\n",
       "      <th>4</th>\n",
       "      <td>1000_4</td>\n",
       "      <td>2018-12-05</td>\n",
       "      <td>1000</td>\n",
       "    </tr>\n",
       "  </tbody>\n",
       "</table>\n",
       "</div>"
      ],
      "text/plain": [
       "       id message_date  user_id\n",
       "0  1000_0   2018-06-27     1000\n",
       "1  1000_1   2018-10-08     1000\n",
       "2  1000_2   2018-08-04     1000\n",
       "3  1000_3   2018-06-16     1000\n",
       "4  1000_4   2018-12-05     1000"
      ]
     },
     "metadata": {},
     "output_type": "display_data"
    }
   ],
   "source": [
    "display(messages.head()) # получение первых 5 строк таблицы"
   ]
  },
  {
   "cell_type": "code",
   "execution_count": 6,
   "metadata": {},
   "outputs": [
    {
     "data": {
      "text/html": [
       "<div>\n",
       "<style scoped>\n",
       "    .dataframe tbody tr th:only-of-type {\n",
       "        vertical-align: middle;\n",
       "    }\n",
       "\n",
       "    .dataframe tbody tr th {\n",
       "        vertical-align: top;\n",
       "    }\n",
       "\n",
       "    .dataframe thead th {\n",
       "        text-align: right;\n",
       "    }\n",
       "</style>\n",
       "<table border=\"1\" class=\"dataframe\">\n",
       "  <thead>\n",
       "    <tr style=\"text-align: right;\">\n",
       "      <th></th>\n",
       "      <th>messages_included</th>\n",
       "      <th>mb_per_month_included</th>\n",
       "      <th>minutes_included</th>\n",
       "      <th>rub_monthly_fee</th>\n",
       "      <th>rub_per_gb</th>\n",
       "      <th>rub_per_message</th>\n",
       "      <th>rub_per_minute</th>\n",
       "      <th>tariff_name</th>\n",
       "    </tr>\n",
       "  </thead>\n",
       "  <tbody>\n",
       "    <tr>\n",
       "      <th>0</th>\n",
       "      <td>50</td>\n",
       "      <td>15360</td>\n",
       "      <td>500</td>\n",
       "      <td>550</td>\n",
       "      <td>200</td>\n",
       "      <td>3</td>\n",
       "      <td>3</td>\n",
       "      <td>smart</td>\n",
       "    </tr>\n",
       "    <tr>\n",
       "      <th>1</th>\n",
       "      <td>1000</td>\n",
       "      <td>30720</td>\n",
       "      <td>3000</td>\n",
       "      <td>1950</td>\n",
       "      <td>150</td>\n",
       "      <td>1</td>\n",
       "      <td>1</td>\n",
       "      <td>ultra</td>\n",
       "    </tr>\n",
       "  </tbody>\n",
       "</table>\n",
       "</div>"
      ],
      "text/plain": [
       "   messages_included  mb_per_month_included  minutes_included  \\\n",
       "0                 50                  15360               500   \n",
       "1               1000                  30720              3000   \n",
       "\n",
       "   rub_monthly_fee  rub_per_gb  rub_per_message  rub_per_minute tariff_name  \n",
       "0              550         200                3               3       smart  \n",
       "1             1950         150                1               1       ultra  "
      ]
     },
     "metadata": {},
     "output_type": "display_data"
    }
   ],
   "source": [
    "display(tariffs.head()) # получение первых 5 строк таблицы"
   ]
  },
  {
   "cell_type": "code",
   "execution_count": 7,
   "metadata": {},
   "outputs": [
    {
     "data": {
      "text/html": [
       "<div>\n",
       "<style scoped>\n",
       "    .dataframe tbody tr th:only-of-type {\n",
       "        vertical-align: middle;\n",
       "    }\n",
       "\n",
       "    .dataframe tbody tr th {\n",
       "        vertical-align: top;\n",
       "    }\n",
       "\n",
       "    .dataframe thead th {\n",
       "        text-align: right;\n",
       "    }\n",
       "</style>\n",
       "<table border=\"1\" class=\"dataframe\">\n",
       "  <thead>\n",
       "    <tr style=\"text-align: right;\">\n",
       "      <th></th>\n",
       "      <th>user_id</th>\n",
       "      <th>age</th>\n",
       "      <th>churn_date</th>\n",
       "      <th>city</th>\n",
       "      <th>first_name</th>\n",
       "      <th>last_name</th>\n",
       "      <th>reg_date</th>\n",
       "      <th>tariff</th>\n",
       "    </tr>\n",
       "  </thead>\n",
       "  <tbody>\n",
       "    <tr>\n",
       "      <th>0</th>\n",
       "      <td>1000</td>\n",
       "      <td>52</td>\n",
       "      <td>NaN</td>\n",
       "      <td>Краснодар</td>\n",
       "      <td>Рафаил</td>\n",
       "      <td>Верещагин</td>\n",
       "      <td>2018-05-25</td>\n",
       "      <td>ultra</td>\n",
       "    </tr>\n",
       "    <tr>\n",
       "      <th>1</th>\n",
       "      <td>1001</td>\n",
       "      <td>41</td>\n",
       "      <td>NaN</td>\n",
       "      <td>Москва</td>\n",
       "      <td>Иван</td>\n",
       "      <td>Ежов</td>\n",
       "      <td>2018-11-01</td>\n",
       "      <td>smart</td>\n",
       "    </tr>\n",
       "    <tr>\n",
       "      <th>2</th>\n",
       "      <td>1002</td>\n",
       "      <td>59</td>\n",
       "      <td>NaN</td>\n",
       "      <td>Стерлитамак</td>\n",
       "      <td>Евгений</td>\n",
       "      <td>Абрамович</td>\n",
       "      <td>2018-06-17</td>\n",
       "      <td>smart</td>\n",
       "    </tr>\n",
       "    <tr>\n",
       "      <th>3</th>\n",
       "      <td>1003</td>\n",
       "      <td>23</td>\n",
       "      <td>NaN</td>\n",
       "      <td>Москва</td>\n",
       "      <td>Белла</td>\n",
       "      <td>Белякова</td>\n",
       "      <td>2018-08-17</td>\n",
       "      <td>ultra</td>\n",
       "    </tr>\n",
       "    <tr>\n",
       "      <th>4</th>\n",
       "      <td>1004</td>\n",
       "      <td>68</td>\n",
       "      <td>NaN</td>\n",
       "      <td>Новокузнецк</td>\n",
       "      <td>Татьяна</td>\n",
       "      <td>Авдеенко</td>\n",
       "      <td>2018-05-14</td>\n",
       "      <td>ultra</td>\n",
       "    </tr>\n",
       "  </tbody>\n",
       "</table>\n",
       "</div>"
      ],
      "text/plain": [
       "   user_id  age churn_date         city first_name  last_name    reg_date  \\\n",
       "0     1000   52        NaN    Краснодар     Рафаил  Верещагин  2018-05-25   \n",
       "1     1001   41        NaN       Москва       Иван       Ежов  2018-11-01   \n",
       "2     1002   59        NaN  Стерлитамак    Евгений  Абрамович  2018-06-17   \n",
       "3     1003   23        NaN       Москва      Белла   Белякова  2018-08-17   \n",
       "4     1004   68        NaN  Новокузнецк    Татьяна   Авдеенко  2018-05-14   \n",
       "\n",
       "  tariff  \n",
       "0  ultra  \n",
       "1  smart  \n",
       "2  smart  \n",
       "3  ultra  \n",
       "4  ultra  "
      ]
     },
     "metadata": {},
     "output_type": "display_data"
    }
   ],
   "source": [
    "display(users.head()) # получение первых 5 строк таблицы"
   ]
  },
  {
   "cell_type": "markdown",
   "metadata": {},
   "source": [
    "Посмотрим общую информацию по всем таблицам:"
   ]
  },
  {
   "cell_type": "code",
   "execution_count": 8,
   "metadata": {},
   "outputs": [
    {
     "name": "stdout",
     "output_type": "stream",
     "text": [
      "<class 'pandas.core.frame.DataFrame'>\n",
      "RangeIndex: 202607 entries, 0 to 202606\n",
      "Data columns (total 4 columns):\n",
      " #   Column     Non-Null Count   Dtype  \n",
      "---  ------     --------------   -----  \n",
      " 0   id         202607 non-null  object \n",
      " 1   call_date  202607 non-null  object \n",
      " 2   duration   202607 non-null  float64\n",
      " 3   user_id    202607 non-null  int64  \n",
      "dtypes: float64(1), int64(1), object(2)\n",
      "memory usage: 6.2+ MB\n"
     ]
    }
   ],
   "source": [
    "calls.info()"
   ]
  },
  {
   "cell_type": "code",
   "execution_count": 9,
   "metadata": {},
   "outputs": [
    {
     "name": "stdout",
     "output_type": "stream",
     "text": [
      "<class 'pandas.core.frame.DataFrame'>\n",
      "Int64Index: 149396 entries, 0 to 149395\n",
      "Data columns (total 4 columns):\n",
      " #   Column        Non-Null Count   Dtype  \n",
      "---  ------        --------------   -----  \n",
      " 0   id            149396 non-null  object \n",
      " 1   mb_used       149396 non-null  float64\n",
      " 2   session_date  149396 non-null  object \n",
      " 3   user_id       149396 non-null  int64  \n",
      "dtypes: float64(1), int64(1), object(2)\n",
      "memory usage: 5.7+ MB\n"
     ]
    }
   ],
   "source": [
    "internet.info()"
   ]
  },
  {
   "cell_type": "code",
   "execution_count": 10,
   "metadata": {},
   "outputs": [
    {
     "name": "stdout",
     "output_type": "stream",
     "text": [
      "<class 'pandas.core.frame.DataFrame'>\n",
      "RangeIndex: 123036 entries, 0 to 123035\n",
      "Data columns (total 3 columns):\n",
      " #   Column        Non-Null Count   Dtype \n",
      "---  ------        --------------   ----- \n",
      " 0   id            123036 non-null  object\n",
      " 1   message_date  123036 non-null  object\n",
      " 2   user_id       123036 non-null  int64 \n",
      "dtypes: int64(1), object(2)\n",
      "memory usage: 2.8+ MB\n"
     ]
    }
   ],
   "source": [
    "messages.info()"
   ]
  },
  {
   "cell_type": "code",
   "execution_count": 11,
   "metadata": {},
   "outputs": [
    {
     "name": "stdout",
     "output_type": "stream",
     "text": [
      "<class 'pandas.core.frame.DataFrame'>\n",
      "RangeIndex: 2 entries, 0 to 1\n",
      "Data columns (total 8 columns):\n",
      " #   Column                 Non-Null Count  Dtype \n",
      "---  ------                 --------------  ----- \n",
      " 0   messages_included      2 non-null      int64 \n",
      " 1   mb_per_month_included  2 non-null      int64 \n",
      " 2   minutes_included       2 non-null      int64 \n",
      " 3   rub_monthly_fee        2 non-null      int64 \n",
      " 4   rub_per_gb             2 non-null      int64 \n",
      " 5   rub_per_message        2 non-null      int64 \n",
      " 6   rub_per_minute         2 non-null      int64 \n",
      " 7   tariff_name            2 non-null      object\n",
      "dtypes: int64(7), object(1)\n",
      "memory usage: 256.0+ bytes\n"
     ]
    }
   ],
   "source": [
    "tariffs.info()"
   ]
  },
  {
   "cell_type": "code",
   "execution_count": 12,
   "metadata": {},
   "outputs": [
    {
     "name": "stdout",
     "output_type": "stream",
     "text": [
      "<class 'pandas.core.frame.DataFrame'>\n",
      "RangeIndex: 500 entries, 0 to 499\n",
      "Data columns (total 8 columns):\n",
      " #   Column      Non-Null Count  Dtype \n",
      "---  ------      --------------  ----- \n",
      " 0   user_id     500 non-null    int64 \n",
      " 1   age         500 non-null    int64 \n",
      " 2   churn_date  38 non-null     object\n",
      " 3   city        500 non-null    object\n",
      " 4   first_name  500 non-null    object\n",
      " 5   last_name   500 non-null    object\n",
      " 6   reg_date    500 non-null    object\n",
      " 7   tariff      500 non-null    object\n",
      "dtypes: int64(2), object(6)\n",
      "memory usage: 31.4+ KB\n"
     ]
    }
   ],
   "source": [
    "users.info()"
   ]
  },
  {
   "cell_type": "markdown",
   "metadata": {},
   "source": [
    "Итак, в таблицах суммарно 28 столбцов. Тип данных в столбцах — `object`, `int64`, `float64`.\n",
    "\n",
    "Согласно документации к данным:\n",
    "\n",
    "Таблица `users`:\n",
    "\n",
    "* user_id — уникальный идентификатор пользователя\n",
    "* first_name — имя пользователя\n",
    "* last_name — фамилия пользователя\n",
    "* age — возраст пользователя (годы)\n",
    "* reg_date — дата подключения тарифа (день, месяц, год)\n",
    "* churn_date — дата прекращения пользования тарифом (если значение пропущено, то тариф ещё действовал на момент выгрузки данных)\n",
    "* city — город проживания пользователя\n",
    "* tariff — название тарифного плана\n",
    "\n",
    "Таблица `calls`:\n",
    "\n",
    "* id — уникальный номер звонка\n",
    "* call_date — дата звонка\n",
    "* duration — длительность звонка в минутах\n",
    "* user_id — идентификатор пользователя, сделавшего звонок\n",
    "\n",
    "Таблица `messages`:\n",
    "\n",
    "* id — уникальный номер сообщения\n",
    "* message_date — дата сообщения\n",
    "* user_id — идентификатор пользователя, отправившего сообщение\n",
    "\n",
    "Таблица `internet`:\n",
    "\n",
    "* id — уникальный номер сессии\n",
    "* mb_used — объём потраченного за сессию интернет-трафика (в мегабайтах)\n",
    "* session_date — дата интернет-сессии\n",
    "* user_id — идентификатор пользователя\n",
    "\n",
    "Таблица `tariffs`:\n",
    "\n",
    "* tariff_name — название тарифа\n",
    "* rub_monthly_fee — ежемесячная абонентская плата в рублях\n",
    "* minutes_included — количество минут разговора в месяц, включённых в абонентскую плату\n",
    "* messages_included — количество сообщений в месяц, включённых в абонентскую плату\n",
    "* mb_per_month_included — объём интернет-трафика, включённого в абонентскую плату (в мегабайтах)\n",
    "* rub_per_minute — стоимость минуты разговора сверх тарифного пакета (например, если в тарифе 100 минут разговора в месяц, то со 101 минуты будет взиматься плата)\n",
    "* rub_per_message — стоимость отправки сообщения сверх тарифного пакета\n",
    "* rub_per_gb — стоимость дополнительного гигабайта интернет-трафика сверх тарифного пакета (1 гигабайт = 1024 мегабайта)\n",
    "\n",
    "\n",
    "**Выводы**\n",
    "\n",
    "Данные представляют собой полный набор критериев, предъявляемый для выбора того или иного тарифа. \n",
    "\n",
    "Предварительно можно утверждать, что данных достаточно для исследования, но встречаются пропуски.\n",
    "\n",
    "Чтобы двигаться дальше, нужно устранить проблемы в данных."
   ]
  },
  {
   "cell_type": "markdown",
   "metadata": {},
   "source": [
    "##  Предобработка данных"
   ]
  },
  {
   "cell_type": "markdown",
   "metadata": {},
   "source": [
    "###  Изменение типов данных, объединение таблиц"
   ]
  },
  {
   "cell_type": "code",
   "execution_count": 13,
   "metadata": {},
   "outputs": [],
   "source": [
    "#переведем столбцы с датами в нужный формат\n",
    "calls['call_date'] = pd.to_datetime(calls['call_date'], format='%Y-%m-%d')\n",
    "messages['message_date'] = pd.to_datetime(messages['message_date'], format='%Y-%m-%d')\n",
    "internet['session_date'] = pd.to_datetime(internet['session_date'], format='%Y-%m-%d')\n",
    "#выделим отдельно столбец с месяцем\n",
    "calls['month'] = calls['call_date'].dt.month\n",
    "messages['month'] = messages['message_date'].dt.month\n",
    "internet['month'] = internet['session_date'].dt.month"
   ]
  },
  {
   "cell_type": "code",
   "execution_count": 14,
   "metadata": {},
   "outputs": [],
   "source": [
    "#по политике мегалайн каждый звонок округляется с секунды до минуты\n",
    "calls['duration'] = np.ceil(calls['duration'])"
   ]
  },
  {
   "cell_type": "markdown",
   "metadata": {},
   "source": [
    "Чтобы было удобней работать с данными, объединим все таблицы, где это возможно. \n",
    "\n",
    "Проагрегируем каждую таблицу:"
   ]
  },
  {
   "cell_type": "code",
   "execution_count": 15,
   "metadata": {},
   "outputs": [],
   "source": [
    "calls_agg = calls.groupby(['user_id', 'month']).agg({'duration' : ['sum', 'count']}) #чтобы найти суммарное количество минут в мес. \n",
    "internet_agg = internet.groupby(['user_id', 'month']).sum() #чтобы нужно найти суммарное количество интернет-трафика в мес.\n",
    "messages_agg = messages.groupby(['user_id', 'month']).count() #чтобы найти количество сообщений"
   ]
  },
  {
   "cell_type": "code",
   "execution_count": 16,
   "metadata": {},
   "outputs": [],
   "source": [
    "calls_agg.columns = ['duration_total', 'calls_count']"
   ]
  },
  {
   "cell_type": "code",
   "execution_count": 17,
   "metadata": {},
   "outputs": [
    {
     "data": {
      "text/html": [
       "<div>\n",
       "<style scoped>\n",
       "    .dataframe tbody tr th:only-of-type {\n",
       "        vertical-align: middle;\n",
       "    }\n",
       "\n",
       "    .dataframe tbody tr th {\n",
       "        vertical-align: top;\n",
       "    }\n",
       "\n",
       "    .dataframe thead th {\n",
       "        text-align: right;\n",
       "    }\n",
       "</style>\n",
       "<table border=\"1\" class=\"dataframe\">\n",
       "  <thead>\n",
       "    <tr style=\"text-align: right;\">\n",
       "      <th></th>\n",
       "      <th></th>\n",
       "      <th>duration_total</th>\n",
       "      <th>calls_count</th>\n",
       "    </tr>\n",
       "    <tr>\n",
       "      <th>user_id</th>\n",
       "      <th>month</th>\n",
       "      <th></th>\n",
       "      <th></th>\n",
       "    </tr>\n",
       "  </thead>\n",
       "  <tbody>\n",
       "    <tr>\n",
       "      <th rowspan=\"5\" valign=\"top\">1000</th>\n",
       "      <th>5</th>\n",
       "      <td>159.0</td>\n",
       "      <td>22</td>\n",
       "    </tr>\n",
       "    <tr>\n",
       "      <th>6</th>\n",
       "      <td>172.0</td>\n",
       "      <td>43</td>\n",
       "    </tr>\n",
       "    <tr>\n",
       "      <th>7</th>\n",
       "      <td>340.0</td>\n",
       "      <td>47</td>\n",
       "    </tr>\n",
       "    <tr>\n",
       "      <th>8</th>\n",
       "      <td>408.0</td>\n",
       "      <td>52</td>\n",
       "    </tr>\n",
       "    <tr>\n",
       "      <th>9</th>\n",
       "      <td>466.0</td>\n",
       "      <td>58</td>\n",
       "    </tr>\n",
       "  </tbody>\n",
       "</table>\n",
       "</div>"
      ],
      "text/plain": [
       "               duration_total  calls_count\n",
       "user_id month                             \n",
       "1000    5               159.0           22\n",
       "        6               172.0           43\n",
       "        7               340.0           47\n",
       "        8               408.0           52\n",
       "        9               466.0           58"
      ]
     },
     "execution_count": 17,
     "metadata": {},
     "output_type": "execute_result"
    }
   ],
   "source": [
    "calls_agg.head()"
   ]
  },
  {
   "cell_type": "code",
   "execution_count": 18,
   "metadata": {},
   "outputs": [
    {
     "data": {
      "text/html": [
       "<div>\n",
       "<style scoped>\n",
       "    .dataframe tbody tr th:only-of-type {\n",
       "        vertical-align: middle;\n",
       "    }\n",
       "\n",
       "    .dataframe tbody tr th {\n",
       "        vertical-align: top;\n",
       "    }\n",
       "\n",
       "    .dataframe thead th {\n",
       "        text-align: right;\n",
       "    }\n",
       "</style>\n",
       "<table border=\"1\" class=\"dataframe\">\n",
       "  <thead>\n",
       "    <tr style=\"text-align: right;\">\n",
       "      <th></th>\n",
       "      <th></th>\n",
       "      <th>id</th>\n",
       "      <th>message_date</th>\n",
       "    </tr>\n",
       "    <tr>\n",
       "      <th>user_id</th>\n",
       "      <th>month</th>\n",
       "      <th></th>\n",
       "      <th></th>\n",
       "    </tr>\n",
       "  </thead>\n",
       "  <tbody>\n",
       "    <tr>\n",
       "      <th rowspan=\"5\" valign=\"top\">1000</th>\n",
       "      <th>5</th>\n",
       "      <td>22</td>\n",
       "      <td>22</td>\n",
       "    </tr>\n",
       "    <tr>\n",
       "      <th>6</th>\n",
       "      <td>60</td>\n",
       "      <td>60</td>\n",
       "    </tr>\n",
       "    <tr>\n",
       "      <th>7</th>\n",
       "      <td>75</td>\n",
       "      <td>75</td>\n",
       "    </tr>\n",
       "    <tr>\n",
       "      <th>8</th>\n",
       "      <td>81</td>\n",
       "      <td>81</td>\n",
       "    </tr>\n",
       "    <tr>\n",
       "      <th>9</th>\n",
       "      <td>57</td>\n",
       "      <td>57</td>\n",
       "    </tr>\n",
       "  </tbody>\n",
       "</table>\n",
       "</div>"
      ],
      "text/plain": [
       "               id  message_date\n",
       "user_id month                  \n",
       "1000    5      22            22\n",
       "        6      60            60\n",
       "        7      75            75\n",
       "        8      81            81\n",
       "        9      57            57"
      ]
     },
     "execution_count": 18,
     "metadata": {},
     "output_type": "execute_result"
    }
   ],
   "source": [
    "messages_agg.head()"
   ]
  },
  {
   "cell_type": "code",
   "execution_count": 19,
   "metadata": {},
   "outputs": [
    {
     "data": {
      "text/html": [
       "<div>\n",
       "<style scoped>\n",
       "    .dataframe tbody tr th:only-of-type {\n",
       "        vertical-align: middle;\n",
       "    }\n",
       "\n",
       "    .dataframe tbody tr th {\n",
       "        vertical-align: top;\n",
       "    }\n",
       "\n",
       "    .dataframe thead th {\n",
       "        text-align: right;\n",
       "    }\n",
       "</style>\n",
       "<table border=\"1\" class=\"dataframe\">\n",
       "  <thead>\n",
       "    <tr style=\"text-align: right;\">\n",
       "      <th></th>\n",
       "      <th></th>\n",
       "      <th>mb_used</th>\n",
       "    </tr>\n",
       "    <tr>\n",
       "      <th>user_id</th>\n",
       "      <th>month</th>\n",
       "      <th></th>\n",
       "    </tr>\n",
       "  </thead>\n",
       "  <tbody>\n",
       "    <tr>\n",
       "      <th rowspan=\"5\" valign=\"top\">1000</th>\n",
       "      <th>5</th>\n",
       "      <td>2253.49</td>\n",
       "    </tr>\n",
       "    <tr>\n",
       "      <th>6</th>\n",
       "      <td>23233.77</td>\n",
       "    </tr>\n",
       "    <tr>\n",
       "      <th>7</th>\n",
       "      <td>14003.64</td>\n",
       "    </tr>\n",
       "    <tr>\n",
       "      <th>8</th>\n",
       "      <td>14055.93</td>\n",
       "    </tr>\n",
       "    <tr>\n",
       "      <th>9</th>\n",
       "      <td>14568.91</td>\n",
       "    </tr>\n",
       "  </tbody>\n",
       "</table>\n",
       "</div>"
      ],
      "text/plain": [
       "                mb_used\n",
       "user_id month          \n",
       "1000    5       2253.49\n",
       "        6      23233.77\n",
       "        7      14003.64\n",
       "        8      14055.93\n",
       "        9      14568.91"
      ]
     },
     "execution_count": 19,
     "metadata": {},
     "output_type": "execute_result"
    }
   ],
   "source": [
    "internet_agg.head()"
   ]
  },
  {
   "cell_type": "code",
   "execution_count": 20,
   "metadata": {},
   "outputs": [],
   "source": [
    "messages_agg.drop('id', axis = 1, inplace = True)"
   ]
  },
  {
   "cell_type": "code",
   "execution_count": 21,
   "metadata": {},
   "outputs": [],
   "source": [
    "messages_agg.columns = ['messages_count']"
   ]
  },
  {
   "cell_type": "code",
   "execution_count": 22,
   "metadata": {},
   "outputs": [],
   "source": [
    "data = calls_agg.merge(internet_agg, on = ('user_id', 'month'), how = 'outer')\n",
    "data = data.merge(messages_agg, on = ('user_id', 'month'), how = 'outer')"
   ]
  },
  {
   "cell_type": "code",
   "execution_count": 23,
   "metadata": {},
   "outputs": [
    {
     "name": "stdout",
     "output_type": "stream",
     "text": [
      "<class 'pandas.core.frame.DataFrame'>\n",
      "MultiIndex: 3214 entries, (1000, 5) to (1489, 12)\n",
      "Data columns (total 4 columns):\n",
      " #   Column          Non-Null Count  Dtype  \n",
      "---  ------          --------------  -----  \n",
      " 0   duration_total  3174 non-null   float64\n",
      " 1   calls_count     3174 non-null   float64\n",
      " 2   mb_used         3203 non-null   float64\n",
      " 3   messages_count  2717 non-null   float64\n",
      "dtypes: float64(4)\n",
      "memory usage: 130.4 KB\n"
     ]
    }
   ],
   "source": [
    "data.info()"
   ]
  },
  {
   "cell_type": "code",
   "execution_count": 24,
   "metadata": {},
   "outputs": [],
   "source": [
    "#все пропуски в итоговой таблице можно считать за нули (по усл.)\n",
    "for column in data.columns:\n",
    "    data[column] = data[column].fillna(0)"
   ]
  },
  {
   "cell_type": "code",
   "execution_count": 25,
   "metadata": {},
   "outputs": [],
   "source": [
    "#добавим столбец с гб по интернет трафику \n",
    "data['gb_used'] = data['mb_used'] / 1024"
   ]
  },
  {
   "cell_type": "code",
   "execution_count": 26,
   "metadata": {},
   "outputs": [],
   "source": [
    "#т.к интернет-трафик округляется по месячно, то используем функцию np.ceil() для этого столбца\n",
    "data['gb_used'] = np.ceil(data['gb_used'])"
   ]
  },
  {
   "cell_type": "code",
   "execution_count": 27,
   "metadata": {},
   "outputs": [
    {
     "data": {
      "text/html": [
       "<div>\n",
       "<style scoped>\n",
       "    .dataframe tbody tr th:only-of-type {\n",
       "        vertical-align: middle;\n",
       "    }\n",
       "\n",
       "    .dataframe tbody tr th {\n",
       "        vertical-align: top;\n",
       "    }\n",
       "\n",
       "    .dataframe thead th {\n",
       "        text-align: right;\n",
       "    }\n",
       "</style>\n",
       "<table border=\"1\" class=\"dataframe\">\n",
       "  <thead>\n",
       "    <tr style=\"text-align: right;\">\n",
       "      <th></th>\n",
       "      <th></th>\n",
       "      <th>duration_total</th>\n",
       "      <th>calls_count</th>\n",
       "      <th>mb_used</th>\n",
       "      <th>messages_count</th>\n",
       "      <th>gb_used</th>\n",
       "    </tr>\n",
       "    <tr>\n",
       "      <th>user_id</th>\n",
       "      <th>month</th>\n",
       "      <th></th>\n",
       "      <th></th>\n",
       "      <th></th>\n",
       "      <th></th>\n",
       "      <th></th>\n",
       "    </tr>\n",
       "  </thead>\n",
       "  <tbody>\n",
       "    <tr>\n",
       "      <th rowspan=\"8\" valign=\"top\">1000</th>\n",
       "      <th>5</th>\n",
       "      <td>159.0</td>\n",
       "      <td>22.0</td>\n",
       "      <td>2253.49</td>\n",
       "      <td>22.0</td>\n",
       "      <td>3.0</td>\n",
       "    </tr>\n",
       "    <tr>\n",
       "      <th>6</th>\n",
       "      <td>172.0</td>\n",
       "      <td>43.0</td>\n",
       "      <td>23233.77</td>\n",
       "      <td>60.0</td>\n",
       "      <td>23.0</td>\n",
       "    </tr>\n",
       "    <tr>\n",
       "      <th>7</th>\n",
       "      <td>340.0</td>\n",
       "      <td>47.0</td>\n",
       "      <td>14003.64</td>\n",
       "      <td>75.0</td>\n",
       "      <td>14.0</td>\n",
       "    </tr>\n",
       "    <tr>\n",
       "      <th>8</th>\n",
       "      <td>408.0</td>\n",
       "      <td>52.0</td>\n",
       "      <td>14055.93</td>\n",
       "      <td>81.0</td>\n",
       "      <td>14.0</td>\n",
       "    </tr>\n",
       "    <tr>\n",
       "      <th>9</th>\n",
       "      <td>466.0</td>\n",
       "      <td>58.0</td>\n",
       "      <td>14568.91</td>\n",
       "      <td>57.0</td>\n",
       "      <td>15.0</td>\n",
       "    </tr>\n",
       "    <tr>\n",
       "      <th>10</th>\n",
       "      <td>350.0</td>\n",
       "      <td>57.0</td>\n",
       "      <td>14702.49</td>\n",
       "      <td>73.0</td>\n",
       "      <td>15.0</td>\n",
       "    </tr>\n",
       "    <tr>\n",
       "      <th>11</th>\n",
       "      <td>338.0</td>\n",
       "      <td>43.0</td>\n",
       "      <td>14756.47</td>\n",
       "      <td>58.0</td>\n",
       "      <td>15.0</td>\n",
       "    </tr>\n",
       "    <tr>\n",
       "      <th>12</th>\n",
       "      <td>333.0</td>\n",
       "      <td>46.0</td>\n",
       "      <td>9817.61</td>\n",
       "      <td>70.0</td>\n",
       "      <td>10.0</td>\n",
       "    </tr>\n",
       "    <tr>\n",
       "      <th rowspan=\"2\" valign=\"top\">1001</th>\n",
       "      <th>11</th>\n",
       "      <td>430.0</td>\n",
       "      <td>59.0</td>\n",
       "      <td>18429.34</td>\n",
       "      <td>0.0</td>\n",
       "      <td>18.0</td>\n",
       "    </tr>\n",
       "    <tr>\n",
       "      <th>12</th>\n",
       "      <td>414.0</td>\n",
       "      <td>63.0</td>\n",
       "      <td>14036.66</td>\n",
       "      <td>0.0</td>\n",
       "      <td>14.0</td>\n",
       "    </tr>\n",
       "  </tbody>\n",
       "</table>\n",
       "</div>"
      ],
      "text/plain": [
       "               duration_total  calls_count   mb_used  messages_count  gb_used\n",
       "user_id month                                                                \n",
       "1000    5               159.0         22.0   2253.49            22.0      3.0\n",
       "        6               172.0         43.0  23233.77            60.0     23.0\n",
       "        7               340.0         47.0  14003.64            75.0     14.0\n",
       "        8               408.0         52.0  14055.93            81.0     14.0\n",
       "        9               466.0         58.0  14568.91            57.0     15.0\n",
       "        10              350.0         57.0  14702.49            73.0     15.0\n",
       "        11              338.0         43.0  14756.47            58.0     15.0\n",
       "        12              333.0         46.0   9817.61            70.0     10.0\n",
       "1001    11              430.0         59.0  18429.34             0.0     18.0\n",
       "        12              414.0         63.0  14036.66             0.0     14.0"
      ]
     },
     "execution_count": 27,
     "metadata": {},
     "output_type": "execute_result"
    }
   ],
   "source": [
    "data.head(10)"
   ]
  },
  {
   "cell_type": "code",
   "execution_count": 28,
   "metadata": {},
   "outputs": [],
   "source": [
    "data = data.reset_index()"
   ]
  },
  {
   "cell_type": "code",
   "execution_count": 29,
   "metadata": {},
   "outputs": [],
   "source": [
    "data = data.merge(users, on = 'user_id', how = 'outer')"
   ]
  },
  {
   "cell_type": "code",
   "execution_count": 30,
   "metadata": {},
   "outputs": [],
   "source": [
    "#все пропуски в итоговой таблице можно считать за нули (по усл.)\n",
    "for column in data.columns:\n",
    "    if column not in ['churn_date','reg_date']:\n",
    "        data[column] = data[column].fillna(0)"
   ]
  },
  {
   "cell_type": "code",
   "execution_count": 31,
   "metadata": {},
   "outputs": [],
   "source": [
    "#переведем все столбцы к целым числам\n",
    "for column in data.columns:\n",
    "    if column not in ['churn_date', 'city', 'first_name',\n",
    "       'last_name', 'reg_date', 'tariff']:\n",
    "        data[column] = data[column].astype(int)"
   ]
  },
  {
   "cell_type": "code",
   "execution_count": 32,
   "metadata": {},
   "outputs": [
    {
     "data": {
      "text/html": [
       "<div>\n",
       "<style scoped>\n",
       "    .dataframe tbody tr th:only-of-type {\n",
       "        vertical-align: middle;\n",
       "    }\n",
       "\n",
       "    .dataframe tbody tr th {\n",
       "        vertical-align: top;\n",
       "    }\n",
       "\n",
       "    .dataframe thead th {\n",
       "        text-align: right;\n",
       "    }\n",
       "</style>\n",
       "<table border=\"1\" class=\"dataframe\">\n",
       "  <thead>\n",
       "    <tr style=\"text-align: right;\">\n",
       "      <th></th>\n",
       "      <th>user_id</th>\n",
       "      <th>month</th>\n",
       "      <th>duration_total</th>\n",
       "      <th>calls_count</th>\n",
       "      <th>mb_used</th>\n",
       "      <th>messages_count</th>\n",
       "      <th>gb_used</th>\n",
       "      <th>age</th>\n",
       "      <th>churn_date</th>\n",
       "      <th>city</th>\n",
       "      <th>first_name</th>\n",
       "      <th>last_name</th>\n",
       "      <th>reg_date</th>\n",
       "      <th>tariff</th>\n",
       "    </tr>\n",
       "  </thead>\n",
       "  <tbody>\n",
       "    <tr>\n",
       "      <th>0</th>\n",
       "      <td>1000</td>\n",
       "      <td>5</td>\n",
       "      <td>159</td>\n",
       "      <td>22</td>\n",
       "      <td>2253</td>\n",
       "      <td>22</td>\n",
       "      <td>3</td>\n",
       "      <td>52</td>\n",
       "      <td>NaN</td>\n",
       "      <td>Краснодар</td>\n",
       "      <td>Рафаил</td>\n",
       "      <td>Верещагин</td>\n",
       "      <td>2018-05-25</td>\n",
       "      <td>ultra</td>\n",
       "    </tr>\n",
       "    <tr>\n",
       "      <th>1</th>\n",
       "      <td>1000</td>\n",
       "      <td>6</td>\n",
       "      <td>172</td>\n",
       "      <td>43</td>\n",
       "      <td>23233</td>\n",
       "      <td>60</td>\n",
       "      <td>23</td>\n",
       "      <td>52</td>\n",
       "      <td>NaN</td>\n",
       "      <td>Краснодар</td>\n",
       "      <td>Рафаил</td>\n",
       "      <td>Верещагин</td>\n",
       "      <td>2018-05-25</td>\n",
       "      <td>ultra</td>\n",
       "    </tr>\n",
       "    <tr>\n",
       "      <th>2</th>\n",
       "      <td>1000</td>\n",
       "      <td>7</td>\n",
       "      <td>340</td>\n",
       "      <td>47</td>\n",
       "      <td>14003</td>\n",
       "      <td>75</td>\n",
       "      <td>14</td>\n",
       "      <td>52</td>\n",
       "      <td>NaN</td>\n",
       "      <td>Краснодар</td>\n",
       "      <td>Рафаил</td>\n",
       "      <td>Верещагин</td>\n",
       "      <td>2018-05-25</td>\n",
       "      <td>ultra</td>\n",
       "    </tr>\n",
       "  </tbody>\n",
       "</table>\n",
       "</div>"
      ],
      "text/plain": [
       "   user_id  month  duration_total  calls_count  mb_used  messages_count  \\\n",
       "0     1000      5             159           22     2253              22   \n",
       "1     1000      6             172           43    23233              60   \n",
       "2     1000      7             340           47    14003              75   \n",
       "\n",
       "   gb_used  age churn_date       city first_name  last_name    reg_date tariff  \n",
       "0        3   52        NaN  Краснодар     Рафаил  Верещагин  2018-05-25  ultra  \n",
       "1       23   52        NaN  Краснодар     Рафаил  Верещагин  2018-05-25  ultra  \n",
       "2       14   52        NaN  Краснодар     Рафаил  Верещагин  2018-05-25  ultra  "
      ]
     },
     "execution_count": 32,
     "metadata": {},
     "output_type": "execute_result"
    }
   ],
   "source": [
    "data.head(3)"
   ]
  },
  {
   "cell_type": "code",
   "execution_count": 33,
   "metadata": {},
   "outputs": [
    {
     "name": "stdout",
     "output_type": "stream",
     "text": [
      "<class 'pandas.core.frame.DataFrame'>\n",
      "Int64Index: 3216 entries, 0 to 3215\n",
      "Data columns (total 14 columns):\n",
      " #   Column          Non-Null Count  Dtype \n",
      "---  ------          --------------  ----- \n",
      " 0   user_id         3216 non-null   int64 \n",
      " 1   month           3216 non-null   int64 \n",
      " 2   duration_total  3216 non-null   int64 \n",
      " 3   calls_count     3216 non-null   int64 \n",
      " 4   mb_used         3216 non-null   int64 \n",
      " 5   messages_count  3216 non-null   int64 \n",
      " 6   gb_used         3216 non-null   int64 \n",
      " 7   age             3216 non-null   int64 \n",
      " 8   churn_date      189 non-null    object\n",
      " 9   city            3216 non-null   object\n",
      " 10  first_name      3216 non-null   object\n",
      " 11  last_name       3216 non-null   object\n",
      " 12  reg_date        3216 non-null   object\n",
      " 13  tariff          3216 non-null   object\n",
      "dtypes: int64(8), object(6)\n",
      "memory usage: 376.9+ KB\n"
     ]
    }
   ],
   "source": [
    "data.info()"
   ]
  },
  {
   "cell_type": "code",
   "execution_count": 34,
   "metadata": {},
   "outputs": [],
   "source": [
    "#переведем столбцы с датами в нужный формат\n",
    "users['reg_date'] = pd.to_datetime(users['reg_date'], format='%Y-%m-%d')\n",
    "users['churn_date'] = pd.to_datetime(users['churn_date'], format='%Y-%m-%d')\n",
    "\n",
    "data['reg_date'] = pd.to_datetime(data['reg_date'], format='%Y-%m-%d')\n",
    "data['churn_date'] = pd.to_datetime(data['churn_date'], format='%Y-%m-%d')"
   ]
  },
  {
   "cell_type": "markdown",
   "metadata": {},
   "source": [
    "###  Проверка на аномалии и дубликаты"
   ]
  },
  {
   "cell_type": "markdown",
   "metadata": {},
   "source": [
    "#### Определение и удаление дубликатов"
   ]
  },
  {
   "cell_type": "markdown",
   "metadata": {},
   "source": [
    "##### Неявные дубликаты"
   ]
  },
  {
   "cell_type": "markdown",
   "metadata": {},
   "source": [
    "Как правило, неявные дубликаты скрываются в данных с типом `object`. После обработки данных остался лишь один из исходных столбцов с таким типом - `city` (можно еще рассмотреть столбцы `last_name` и  `first_name`, но они никак не повлияют на исследование)."
   ]
  },
  {
   "cell_type": "code",
   "execution_count": 35,
   "metadata": {},
   "outputs": [
    {
     "data": {
      "text/plain": [
       "array(['Архангельск', 'Астрахань', 'Балашиха', 'Барнаул', 'Белгород',\n",
       "       'Брянск', 'Владивосток', 'Владикавказ', 'Владимир', 'Волгоград',\n",
       "       'Волжский', 'Вологда', 'Воронеж', 'Грозный', 'Екатеринбург',\n",
       "       'Иваново', 'Ижевск', 'Иркутск', 'Казань', 'Калининград', 'Калуга',\n",
       "       'Кемерово', 'Киров', 'Кострома', 'Краснодар', 'Красноярск',\n",
       "       'Курган', 'Курск', 'Липецк', 'Магнитогорск', 'Махачкала', 'Москва',\n",
       "       'Мурманск', 'Набережные Челны', 'Нижневартовск', 'Нижний Новгород',\n",
       "       'Нижний Тагил', 'Новокузнецк', 'Новороссийск', 'Новосибирск',\n",
       "       'Омск', 'Оренбург', 'Орёл', 'Пенза', 'Пермь', 'Петрозаводск',\n",
       "       'Подольск', 'Ростов-на-Дону', 'Рязань', 'Самара',\n",
       "       'Санкт-Петербург', 'Саранск', 'Саратов', 'Севастополь', 'Смоленск',\n",
       "       'Сочи', 'Ставрополь', 'Стерлитамак', 'Сургут', 'Тамбов', 'Тверь',\n",
       "       'Тольятти', 'Томск', 'Тула', 'Тюмень', 'Улан-Удэ', 'Ульяновск',\n",
       "       'Уфа', 'Хабаровск', 'Химки', 'Чебоксары', 'Челябинск', 'Череповец',\n",
       "       'Чита', 'Якутск', 'Ярославль'], dtype=object)"
      ]
     },
     "execution_count": 35,
     "metadata": {},
     "output_type": "execute_result"
    }
   ],
   "source": [
    "data['city'].sort_values().unique() # Просмотр уникальных значений "
   ]
  },
  {
   "cell_type": "markdown",
   "metadata": {},
   "source": [
    "Неяных дубликатов не было найдено. "
   ]
  },
  {
   "cell_type": "markdown",
   "metadata": {},
   "source": [
    "##### Явные дубликаты"
   ]
  },
  {
   "cell_type": "code",
   "execution_count": 36,
   "metadata": {},
   "outputs": [
    {
     "data": {
      "text/plain": [
       "0"
      ]
     },
     "execution_count": 36,
     "metadata": {},
     "output_type": "execute_result"
    }
   ],
   "source": [
    "data.duplicated().sum() #подсчет явных дубликатов"
   ]
  },
  {
   "cell_type": "markdown",
   "metadata": {},
   "source": [
    "Явных дубликатов также не оказалось."
   ]
  },
  {
   "cell_type": "markdown",
   "metadata": {},
   "source": [
    "#### Аномальность данных"
   ]
  },
  {
   "cell_type": "code",
   "execution_count": 37,
   "metadata": {},
   "outputs": [
    {
     "data": {
      "image/png": "[encoded data removed]",
      "text/plain": [
       "<Figure size 432x288 with 3 Axes>"
      ]
     },
     "metadata": {
      "needs_background": "light"
     },
     "output_type": "display_data"
    }
   ],
   "source": [
    "fig = plt.figure()\n",
    "\n",
    "ax_1 = fig.add_subplot(1, 5, 1)\n",
    "ax_2 = fig.add_subplot(1, 5, 3)\n",
    "ax_3 = fig.add_subplot(1, 5, 5)\n",
    "\n",
    "ax_1.boxplot(data['duration_total']);\n",
    "ax_1.set_title('Звонки');\n",
    "ax_2.boxplot(data['gb_used']);\n",
    "ax_2.set_title('Гб');\n",
    "ax_3.boxplot(data['messages_count']);\n",
    "ax_3.set_title('Смс');"
   ]
  },
  {
   "cell_type": "markdown",
   "metadata": {},
   "source": [
    "Аномальные значения присутствуют, но они соизмеримы с реальностью, поэтому ограничивать выборки не будем."
   ]
  },
  {
   "cell_type": "markdown",
   "metadata": {},
   "source": [
    "###  Расчет месячной выручки с каждого пользователя "
   ]
  },
  {
   "cell_type": "markdown",
   "metadata": {},
   "source": [
    "Посчитаем выручку с каждого пользователя:"
   ]
  },
  {
   "cell_type": "code",
   "execution_count": 38,
   "metadata": {},
   "outputs": [],
   "source": [
    "#напишем функцию, которая будет считать выручку для каждого пользователя\n",
    "def income_for_user(row):\n",
    "    \n",
    "    income_for_user = 0\n",
    "    #считаем разницу между доступным траффиком и использованным \n",
    "    fee_for_calls = row['duration_total'] - tariffs[tariffs['tariff_name'] == row['tariff']]['minutes_included']\n",
    "    fee_for_mess = row['messages_count'] - tariffs[tariffs['tariff_name'] == row['tariff']]['messages_included']\n",
    "    fee_for_gb = np.ceil((row['mb_used'] - tariffs[tariffs['tariff_name'] == row['tariff']]['mb_per_month_included']) / 1024)\n",
    "\n",
    "    #считаем сколько переплатили, включая абонентскую плату \n",
    "    if (fee_for_calls >= 0).all() and (fee_for_mess >= 0).all() and (fee_for_gb >= 0).all():\n",
    "        income_for_user += (fee_for_calls * tariffs[tariffs['tariff_name'] == row['tariff']]['rub_per_minute']\n",
    "                           +  fee_for_mess * tariffs[tariffs['tariff_name'] == row['tariff']]['rub_per_message'] + fee_for_gb * tariffs[tariffs['tariff_name'] == row['tariff']]['rub_per_gb']\n",
    "                            + tariffs[tariffs['tariff_name'] == row['tariff']]['rub_monthly_fee'])\n",
    "        \n",
    "    elif (fee_for_calls >= 0).all() and (fee_for_mess <= 0).all() and (fee_for_gb >= 0).all():\n",
    "        income_for_user += (fee_for_calls * tariffs[tariffs['tariff_name'] == row['tariff']]['rub_per_minute']\n",
    "                           +  fee_for_gb * tariffs[tariffs['tariff_name'] == row['tariff']]['rub_per_gb']\n",
    "                           + tariffs[tariffs['tariff_name'] == row['tariff']]['rub_monthly_fee'])\n",
    "        \n",
    "    elif (fee_for_calls >= 0).all() and (fee_for_mess >= 0).all() and (fee_for_gb <= 0).all():\n",
    "        income_for_user += (fee_for_calls * tariffs[tariffs['tariff_name'] == row['tariff']]['rub_per_minute']\n",
    "                           +  fee_for_mess * tariffs[tariffs['tariff_name'] == row['tariff']]['rub_per_message'] \n",
    "                            + tariffs[tariffs['tariff_name'] == row['tariff']]['rub_monthly_fee'])\n",
    "        \n",
    "    elif (fee_for_calls <= 0).all() and (fee_for_mess >= 0).all() and (fee_for_gb >= 0).all():\n",
    "        income_for_user += (fee_for_mess * tariffs[tariffs['tariff_name'] == row['tariff']]['rub_per_message'] \n",
    "                            + fee_for_gb * tariffs[tariffs['tariff_name'] == row['tariff']]['rub_per_gb']\n",
    "                            + tariffs[tariffs['tariff_name'] == row['tariff']]['rub_monthly_fee'])\n",
    "        \n",
    "    elif (fee_for_calls >= 0).all() and (fee_for_mess <= 0).all() and (fee_for_gb <= 0).all():\n",
    "        income_for_user += (fee_for_calls * tariffs[tariffs['tariff_name'] == row['tariff']]['rub_per_minute']\n",
    "                           + tariffs[tariffs['tariff_name'] == row['tariff']]['rub_monthly_fee'])\n",
    "        \n",
    "    elif (fee_for_calls <= 0).all() and (fee_for_mess >= 0).all() and (fee_for_gb <= 0).all():\n",
    "        income_for_user += (fee_for_mess * tariffs[tariffs['tariff_name'] == row['tariff']]['rub_per_message']\n",
    "                           + tariffs[tariffs['tariff_name'] == row['tariff']]['rub_monthly_fee'])\n",
    "    \n",
    "    elif (fee_for_calls >= 0).all() and (fee_for_mess <= 0).all() and (fee_for_gb <= 0).all():\n",
    "        income_for_user += (fee_for_calls * tariffs[tariffs['tariff_name'] == row['tariff']]['rub_per_minute']\n",
    "                           + tariffs[tariffs['tariff_name'] == row['tariff']]['rub_monthly_fee'])\n",
    "    \n",
    "    elif (fee_for_calls <= 0).all() and (fee_for_mess <= 0).all() and (fee_for_gb >= 0).all():\n",
    "        income_for_user += (fee_for_gb * tariffs[tariffs['tariff_name'] == row['tariff']]['rub_per_gb']\n",
    "                           + tariffs[tariffs['tariff_name'] == row['tariff']]['rub_monthly_fee'])    \n",
    "    else:\n",
    "        income_for_user += tariffs[tariffs['tariff_name'] == row['tariff']]['rub_monthly_fee']\n",
    "        \n",
    "    row['income_for_user'] = income_for_user\n",
    "    return row \n",
    "    "
   ]
  },
  {
   "cell_type": "code",
   "execution_count": 39,
   "metadata": {},
   "outputs": [
    {
     "data": {
      "text/html": [
       "<div>\n",
       "<style scoped>\n",
       "    .dataframe tbody tr th:only-of-type {\n",
       "        vertical-align: middle;\n",
       "    }\n",
       "\n",
       "    .dataframe tbody tr th {\n",
       "        vertical-align: top;\n",
       "    }\n",
       "\n",
       "    .dataframe thead th {\n",
       "        text-align: right;\n",
       "    }\n",
       "</style>\n",
       "<table border=\"1\" class=\"dataframe\">\n",
       "  <thead>\n",
       "    <tr style=\"text-align: right;\">\n",
       "      <th></th>\n",
       "      <th>user_id</th>\n",
       "      <th>month</th>\n",
       "      <th>duration_total</th>\n",
       "      <th>calls_count</th>\n",
       "      <th>mb_used</th>\n",
       "      <th>messages_count</th>\n",
       "      <th>gb_used</th>\n",
       "      <th>age</th>\n",
       "      <th>churn_date</th>\n",
       "      <th>city</th>\n",
       "      <th>first_name</th>\n",
       "      <th>last_name</th>\n",
       "      <th>reg_date</th>\n",
       "      <th>tariff</th>\n",
       "      <th>income_for_user</th>\n",
       "    </tr>\n",
       "  </thead>\n",
       "  <tbody>\n",
       "    <tr>\n",
       "      <th>0</th>\n",
       "      <td>1000</td>\n",
       "      <td>5</td>\n",
       "      <td>159</td>\n",
       "      <td>22</td>\n",
       "      <td>2253</td>\n",
       "      <td>22</td>\n",
       "      <td>3</td>\n",
       "      <td>52</td>\n",
       "      <td>NaT</td>\n",
       "      <td>Краснодар</td>\n",
       "      <td>Рафаил</td>\n",
       "      <td>Верещагин</td>\n",
       "      <td>2018-05-25</td>\n",
       "      <td>ultra</td>\n",
       "      <td>1950</td>\n",
       "    </tr>\n",
       "    <tr>\n",
       "      <th>1</th>\n",
       "      <td>1000</td>\n",
       "      <td>6</td>\n",
       "      <td>172</td>\n",
       "      <td>43</td>\n",
       "      <td>23233</td>\n",
       "      <td>60</td>\n",
       "      <td>23</td>\n",
       "      <td>52</td>\n",
       "      <td>NaT</td>\n",
       "      <td>Краснодар</td>\n",
       "      <td>Рафаил</td>\n",
       "      <td>Верещагин</td>\n",
       "      <td>2018-05-25</td>\n",
       "      <td>ultra</td>\n",
       "      <td>1950</td>\n",
       "    </tr>\n",
       "    <tr>\n",
       "      <th>2</th>\n",
       "      <td>1000</td>\n",
       "      <td>7</td>\n",
       "      <td>340</td>\n",
       "      <td>47</td>\n",
       "      <td>14003</td>\n",
       "      <td>75</td>\n",
       "      <td>14</td>\n",
       "      <td>52</td>\n",
       "      <td>NaT</td>\n",
       "      <td>Краснодар</td>\n",
       "      <td>Рафаил</td>\n",
       "      <td>Верещагин</td>\n",
       "      <td>2018-05-25</td>\n",
       "      <td>ultra</td>\n",
       "      <td>1950</td>\n",
       "    </tr>\n",
       "    <tr>\n",
       "      <th>3</th>\n",
       "      <td>1000</td>\n",
       "      <td>8</td>\n",
       "      <td>408</td>\n",
       "      <td>52</td>\n",
       "      <td>14055</td>\n",
       "      <td>81</td>\n",
       "      <td>14</td>\n",
       "      <td>52</td>\n",
       "      <td>NaT</td>\n",
       "      <td>Краснодар</td>\n",
       "      <td>Рафаил</td>\n",
       "      <td>Верещагин</td>\n",
       "      <td>2018-05-25</td>\n",
       "      <td>ultra</td>\n",
       "      <td>1950</td>\n",
       "    </tr>\n",
       "    <tr>\n",
       "      <th>4</th>\n",
       "      <td>1000</td>\n",
       "      <td>9</td>\n",
       "      <td>466</td>\n",
       "      <td>58</td>\n",
       "      <td>14568</td>\n",
       "      <td>57</td>\n",
       "      <td>15</td>\n",
       "      <td>52</td>\n",
       "      <td>NaT</td>\n",
       "      <td>Краснодар</td>\n",
       "      <td>Рафаил</td>\n",
       "      <td>Верещагин</td>\n",
       "      <td>2018-05-25</td>\n",
       "      <td>ultra</td>\n",
       "      <td>1950</td>\n",
       "    </tr>\n",
       "  </tbody>\n",
       "</table>\n",
       "</div>"
      ],
      "text/plain": [
       "   user_id  month  duration_total  calls_count  mb_used  messages_count  \\\n",
       "0     1000      5             159           22     2253              22   \n",
       "1     1000      6             172           43    23233              60   \n",
       "2     1000      7             340           47    14003              75   \n",
       "3     1000      8             408           52    14055              81   \n",
       "4     1000      9             466           58    14568              57   \n",
       "\n",
       "   gb_used  age churn_date       city first_name  last_name   reg_date tariff  \\\n",
       "0        3   52        NaT  Краснодар     Рафаил  Верещагин 2018-05-25  ultra   \n",
       "1       23   52        NaT  Краснодар     Рафаил  Верещагин 2018-05-25  ultra   \n",
       "2       14   52        NaT  Краснодар     Рафаил  Верещагин 2018-05-25  ultra   \n",
       "3       14   52        NaT  Краснодар     Рафаил  Верещагин 2018-05-25  ultra   \n",
       "4       15   52        NaT  Краснодар     Рафаил  Верещагин 2018-05-25  ultra   \n",
       "\n",
       "   income_for_user  \n",
       "0             1950  \n",
       "1             1950  \n",
       "2             1950  \n",
       "3             1950  \n",
       "4             1950  "
      ]
     },
     "execution_count": 39,
     "metadata": {},
     "output_type": "execute_result"
    }
   ],
   "source": [
    "#применим функцию к таблице и посмотрим что получилось \n",
    "data = data.apply(income_for_user, axis = 1)\n",
    "for i in data.index:\n",
    "    data.loc[i, 'income_for_user'] = int(data['income_for_user'][i])\n",
    "data['income_for_user'] = data['income_for_user'].astype(int)\n",
    "data.head()"
   ]
  },
  {
   "cell_type": "code",
   "execution_count": 40,
   "metadata": {},
   "outputs": [
    {
     "data": {
      "text/plain": [
       "4916951"
      ]
     },
     "execution_count": 40,
     "metadata": {},
     "output_type": "execute_result"
    }
   ],
   "source": [
    "# check\n",
    "data['income_for_user'].sum()"
   ]
  },
  {
   "cell_type": "code",
   "execution_count": 41,
   "metadata": {},
   "outputs": [
    {
     "data": {
      "text/html": [
       "<div>\n",
       "<style scoped>\n",
       "    .dataframe tbody tr th:only-of-type {\n",
       "        vertical-align: middle;\n",
       "    }\n",
       "\n",
       "    .dataframe tbody tr th {\n",
       "        vertical-align: top;\n",
       "    }\n",
       "\n",
       "    .dataframe thead th {\n",
       "        text-align: right;\n",
       "    }\n",
       "</style>\n",
       "<table border=\"1\" class=\"dataframe\">\n",
       "  <thead>\n",
       "    <tr style=\"text-align: right;\">\n",
       "      <th></th>\n",
       "      <th>user_id</th>\n",
       "      <th>duration_total</th>\n",
       "      <th>calls_count</th>\n",
       "      <th>mb_used</th>\n",
       "      <th>messages_count</th>\n",
       "      <th>gb_used</th>\n",
       "      <th>city</th>\n",
       "      <th>reg_date</th>\n",
       "      <th>tariff</th>\n",
       "      <th>income_for_user</th>\n",
       "    </tr>\n",
       "  </thead>\n",
       "  <tbody>\n",
       "    <tr>\n",
       "      <th>3172</th>\n",
       "      <td>1499</td>\n",
       "      <td>70</td>\n",
       "      <td>9</td>\n",
       "      <td>1845</td>\n",
       "      <td>11</td>\n",
       "      <td>2</td>\n",
       "      <td>Пермь</td>\n",
       "      <td>2018-09-27</td>\n",
       "      <td>smart</td>\n",
       "      <td>550</td>\n",
       "    </tr>\n",
       "    <tr>\n",
       "      <th>3173</th>\n",
       "      <td>1499</td>\n",
       "      <td>449</td>\n",
       "      <td>68</td>\n",
       "      <td>17788</td>\n",
       "      <td>48</td>\n",
       "      <td>18</td>\n",
       "      <td>Пермь</td>\n",
       "      <td>2018-09-27</td>\n",
       "      <td>smart</td>\n",
       "      <td>1150</td>\n",
       "    </tr>\n",
       "    <tr>\n",
       "      <th>3174</th>\n",
       "      <td>1499</td>\n",
       "      <td>612</td>\n",
       "      <td>74</td>\n",
       "      <td>17963</td>\n",
       "      <td>59</td>\n",
       "      <td>18</td>\n",
       "      <td>Пермь</td>\n",
       "      <td>2018-09-27</td>\n",
       "      <td>smart</td>\n",
       "      <td>1513</td>\n",
       "    </tr>\n",
       "    <tr>\n",
       "      <th>3175</th>\n",
       "      <td>1499</td>\n",
       "      <td>492</td>\n",
       "      <td>69</td>\n",
       "      <td>13055</td>\n",
       "      <td>66</td>\n",
       "      <td>13</td>\n",
       "      <td>Пермь</td>\n",
       "      <td>2018-09-27</td>\n",
       "      <td>smart</td>\n",
       "      <td>598</td>\n",
       "    </tr>\n",
       "  </tbody>\n",
       "</table>\n",
       "</div>"
      ],
      "text/plain": [
       "      user_id  duration_total  calls_count  mb_used  messages_count  gb_used  \\\n",
       "3172     1499              70            9     1845              11        2   \n",
       "3173     1499             449           68    17788              48       18   \n",
       "3174     1499             612           74    17963              59       18   \n",
       "3175     1499             492           69    13055              66       13   \n",
       "\n",
       "       city   reg_date tariff  income_for_user  \n",
       "3172  Пермь 2018-09-27  smart              550  \n",
       "3173  Пермь 2018-09-27  smart             1150  \n",
       "3174  Пермь 2018-09-27  smart             1513  \n",
       "3175  Пермь 2018-09-27  smart              598  "
      ]
     },
     "execution_count": 41,
     "metadata": {},
     "output_type": "execute_result"
    }
   ],
   "source": [
    "# check\n",
    "data[data['user_id'] == 1499][['user_id', 'duration_total', 'calls_count', 'mb_used', 'messages_count',\n",
    "       'gb_used',  'city', 'reg_date', 'tariff', 'income_for_user']]"
   ]
  },
  {
   "cell_type": "code",
   "execution_count": 42,
   "metadata": {},
   "outputs": [
    {
     "name": "stdout",
     "output_type": "stream",
     "text": [
      "<class 'pandas.core.frame.DataFrame'>\n",
      "Int64Index: 3216 entries, 0 to 3215\n",
      "Data columns (total 15 columns):\n",
      " #   Column           Non-Null Count  Dtype         \n",
      "---  ------           --------------  -----         \n",
      " 0   user_id          3216 non-null   int64         \n",
      " 1   month            3216 non-null   int64         \n",
      " 2   duration_total   3216 non-null   int64         \n",
      " 3   calls_count      3216 non-null   int64         \n",
      " 4   mb_used          3216 non-null   int64         \n",
      " 5   messages_count   3216 non-null   int64         \n",
      " 6   gb_used          3216 non-null   int64         \n",
      " 7   age              3216 non-null   int64         \n",
      " 8   churn_date       189 non-null    datetime64[ns]\n",
      " 9   city             3216 non-null   object        \n",
      " 10  first_name       3216 non-null   object        \n",
      " 11  last_name        3216 non-null   object        \n",
      " 12  reg_date         3216 non-null   datetime64[ns]\n",
      " 13  tariff           3216 non-null   object        \n",
      " 14  income_for_user  3216 non-null   int64         \n",
      "dtypes: datetime64[ns](2), int64(9), object(4)\n",
      "memory usage: 531.0+ KB\n"
     ]
    }
   ],
   "source": [
    "# check\n",
    "data.info()"
   ]
  },
  {
   "cell_type": "markdown",
   "metadata": {},
   "source": [
    "##  Анализ и описание данных"
   ]
  },
  {
   "cell_type": "markdown",
   "metadata": {},
   "source": [
    "###  Изучение поведения клиентов"
   ]
  },
  {
   "cell_type": "markdown",
   "metadata": {},
   "source": [
    "####  Средний заработок с тариффа за месяц и год"
   ]
  },
  {
   "cell_type": "markdown",
   "metadata": {},
   "source": [
    "Определим сколько минут разговора, сколько сообщений и какой объём интернет-трафика требуется пользователям каждого тарифа в месяц:"
   ]
  },
  {
   "cell_type": "code",
   "execution_count": 43,
   "metadata": {},
   "outputs": [],
   "source": [
    "#создадим сводную таблицу, где просчитаем медиану использованного трафика за месяц \n",
    "svot_tariff = data.pivot_table(index = 'tariff', \n",
    "                                    values = ['duration_total', 'mb_used', 'messages_count', 'income_for_user'],\n",
    "                                   aggfunc = ['median'])\n",
    "svot_tariff.columns = ['duration_total','income_for_user','mb_used','messages_count']"
   ]
  },
  {
   "cell_type": "code",
   "execution_count": 44,
   "metadata": {},
   "outputs": [
    {
     "data": {
      "text/plain": [
       "<AxesSubplot:xlabel='tariff'>"
      ]
     },
     "execution_count": 44,
     "metadata": {},
     "output_type": "execute_result"
    },
    {
     "data": {
      "image/png": "[encoded data removed]",
      "text/plain": [
       "<Figure size 432x288 with 1 Axes>"
      ]
     },
     "metadata": {
      "needs_background": "light"
     },
     "output_type": "display_data"
    }
   ],
   "source": [
    "#изобразим группировку по тариффам через график\n",
    "svot_tariff.plot(kind='bar', rot=15)"
   ]
  },
  {
   "cell_type": "markdown",
   "metadata": {},
   "source": [
    "По графику можем заметим, что в среднем больше трафика используется клиентами тарифа \"Ультра\" и  он же приносит больше выручки в месяц. \n",
    "\n",
    "Посмотрим, какой тариф принес больше денег за весь год и сколько:"
   ]
  },
  {
   "cell_type": "code",
   "execution_count": 45,
   "metadata": {},
   "outputs": [],
   "source": [
    "#делаем срезы по траффику\n",
    "smart = data.query('tariff == \"smart\"')\n",
    "ultra = data.query('tariff == \"ultra\"')"
   ]
  },
  {
   "cell_type": "code",
   "execution_count": 46,
   "metadata": {},
   "outputs": [
    {
     "name": "stdout",
     "output_type": "stream",
     "text": [
      "Выручка на одного пользователя по тарифу \"Смарт\" : 8193\n",
      "Выручка на одного пользователя по тарифу \"Ультра\" : 13698\n"
     ]
    }
   ],
   "source": [
    "one_user_sm = sum(smart['income_for_user']) / len(smart['user_id'].unique())\n",
    "one_user_ult = sum(ultra['income_for_user']) /  len(ultra['user_id'].unique())\n",
    "print(f'Выручка на одного пользователя по тарифу \"Смарт\" : {int(one_user_sm)}')\n",
    "print(f'Выручка на одного пользователя по тарифу \"Ультра\" : {int(one_user_ult)}')"
   ]
  },
  {
   "cell_type": "code",
   "execution_count": 47,
   "metadata": {},
   "outputs": [
    {
     "name": "stdout",
     "output_type": "stream",
     "text": [
      "Количество клиентов по тарифу \"Смарт\" : 70%\n"
     ]
    }
   ],
   "source": [
    "all_people = len(smart['user_id'].unique()) / len(data['user_id'].unique())\n",
    "print(f'Количество клиентов по тарифу \"Смарт\" : {int(all_people*100)}%')"
   ]
  },
  {
   "cell_type": "markdown",
   "metadata": {},
   "source": [
    "Хочется отметить, что в целом тариф \"Смарт\" дешевле по условия, чем \"Ультра\", однако, клиентов у него больше, но выручки меньше. "
   ]
  },
  {
   "cell_type": "markdown",
   "metadata": {},
   "source": [
    "Также важно понять, что в целом израсходованный трафик в месяц больше у тарифа \"Ультра\" (см. график по svot_tariff), но у него меньше пользователей. В связи с этим, возможно стоит провести доп. реклам. компанию для этого тарифа.\n",
    "\n"
   ]
  },
  {
   "cell_type": "markdown",
   "metadata": {},
   "source": [
    "**Итоговые наблюдения**:\n",
    "- Клиентной базы у тариффа \"Смарт\" больше: 70% от всего числа пользователей \n",
    "- Выручка на одного пользователя по тариффу \"Ультра\" превышает тарифф \"Смарт\" в 1,5 раза\n",
    "- Интернет-сессии более востребованы у тариффа \"Ультра\""
   ]
  },
  {
   "cell_type": "markdown",
   "metadata": {},
   "source": [
    "####  Средний заработок с тариффа по городам "
   ]
  },
  {
   "cell_type": "markdown",
   "metadata": {},
   "source": [
    "Посмотрим в каких регионах какой из тарифов больше используется и где больше выручка в месяц:"
   ]
  },
  {
   "cell_type": "code",
   "execution_count": 48,
   "metadata": {},
   "outputs": [],
   "source": [
    "#создадим свод. таблицу с группировкой по городам\n",
    "city_svot_money = data.pivot_table(index='city', columns = 'tariff' ,values = 'income_for_user').fillna(0)"
   ]
  },
  {
   "cell_type": "code",
   "execution_count": 49,
   "metadata": {},
   "outputs": [],
   "source": [
    "#разделим таблицу по тарифу и переименуем столбцы\n",
    "city_svot_smart = city_svot_money.drop(columns = ['ultra'],axis = 1)\n",
    "city_svot_ultra = city_svot_money.drop(columns = ['smart'],axis = 1)\n",
    "city_svot_smart.columns = ['income_for_user']\n",
    "city_svot_ultra.columns = ['income_for_user']"
   ]
  },
  {
   "cell_type": "code",
   "execution_count": 50,
   "metadata": {},
   "outputs": [],
   "source": [
    "#сделаем сортировку по возрастанию, чтобы определить \"топов\" по выручке компании \n",
    "city_svot_smart = city_svot_smart.sort_values(by = 'income_for_user', ascending=False).head(10)\n",
    "city_svot_ultra = city_svot_ultra.sort_values(by = 'income_for_user', ascending=False).head(10)"
   ]
  },
  {
   "cell_type": "code",
   "execution_count": 51,
   "metadata": {},
   "outputs": [
    {
     "data": {
      "text/plain": [
       "<BarContainer object of 10 artists>"
      ]
     },
     "execution_count": 51,
     "metadata": {},
     "output_type": "execute_result"
    },
    {
     "data": {
      "image/png": "[encoded data removed]",
      "text/plain": [
       "<Figure size 432x288 with 1 Axes>"
      ]
     },
     "metadata": {
      "needs_background": "light"
     },
     "output_type": "display_data"
    }
   ],
   "source": [
    "plt.barh(city_svot_smart.index, city_svot_smart['income_for_user'])"
   ]
  },
  {
   "cell_type": "code",
   "execution_count": 52,
   "metadata": {},
   "outputs": [
    {
     "data": {
      "text/plain": [
       "<BarContainer object of 10 artists>"
      ]
     },
     "execution_count": 52,
     "metadata": {},
     "output_type": "execute_result"
    },
    {
     "data": {
      "image/png": "[encoded data removed]",
      "text/plain": [
       "<Figure size 432x288 with 1 Axes>"
      ]
     },
     "metadata": {
      "needs_background": "light"
     },
     "output_type": "display_data"
    }
   ],
   "source": [
    "plt.barh(city_svot_ultra.index, city_svot_ultra['income_for_user'])"
   ]
  },
  {
   "cell_type": "markdown",
   "metadata": {},
   "source": [
    "Получается топ-1 в тарифах занимают: Оренбург, Владимир и Махачкала. Воронеж, который занимает почти последнюю строку с выручкой по тарифу \"Ультра\", находится на 2м месте в \"Смарте\"."
   ]
  },
  {
   "cell_type": "markdown",
   "metadata": {},
   "source": [
    "Но где же все-таки больше пользователей? Давайте посмотрим, сделав еще одну сводную таблицу. "
   ]
  },
  {
   "cell_type": "code",
   "execution_count": 53,
   "metadata": {},
   "outputs": [],
   "source": [
    "city_svot_users = users.pivot_table(index='city', columns = 'tariff' ,values = 'user_id', aggfunc = 'count').fillna(0)\n",
    "\n",
    "city_svot_users_smart = city_svot_users.drop(columns = ['ultra'],axis = 1)\n",
    "city_svot_users_ultra = city_svot_users.drop(columns = ['smart'],axis = 1)\n",
    "\n",
    "city_svot_users_smart.columns = ['user_id_count']\n",
    "city_svot_users_ultra.columns = ['user_id_count']\n",
    "\n",
    "city_svot_users_smart = city_svot_users_smart.sort_values(by = 'user_id_count', ascending=False).head(10)\n",
    "city_svot_users_ultra = city_svot_users_ultra.sort_values(by = 'user_id_count', ascending=False).head(10)"
   ]
  },
  {
   "cell_type": "code",
   "execution_count": 54,
   "metadata": {},
   "outputs": [
    {
     "data": {
      "text/plain": [
       "<BarContainer object of 10 artists>"
      ]
     },
     "execution_count": 54,
     "metadata": {},
     "output_type": "execute_result"
    },
    {
     "data": {
      "image/png": "[encoded data removed]",
      "text/plain": [
       "<Figure size 432x288 with 1 Axes>"
      ]
     },
     "metadata": {
      "needs_background": "light"
     },
     "output_type": "display_data"
    }
   ],
   "source": [
    "plt.barh(city_svot_users_smart.index, city_svot_users_smart['user_id_count'])"
   ]
  },
  {
   "cell_type": "code",
   "execution_count": 55,
   "metadata": {
    "scrolled": true
   },
   "outputs": [
    {
     "data": {
      "text/plain": [
       "<BarContainer object of 10 artists>"
      ]
     },
     "execution_count": 55,
     "metadata": {},
     "output_type": "execute_result"
    },
    {
     "data": {
      "image/png": "[encoded data removed]",
      "text/plain": [
       "<Figure size 432x288 with 1 Axes>"
      ]
     },
     "metadata": {
      "needs_background": "light"
     },
     "output_type": "display_data"
    }
   ],
   "source": [
    "plt.barh(city_svot_users_ultra.index, city_svot_users_ultra['user_id_count'])"
   ]
  },
  {
   "cell_type": "markdown",
   "metadata": {},
   "source": [
    "Москва занимает топ-1 в обеих таблицах (тариф \"Смарт\" здесь имеет больше клиентов), однако, в таблицах с выручкой этого города нет. Посмотрим, на количество израсходанного трафика в месяц в Москве и ост. регионах. "
   ]
  },
  {
   "cell_type": "code",
   "execution_count": 56,
   "metadata": {},
   "outputs": [],
   "source": [
    "svot_tariff_mosc = data.query('city == \"Москва\"').pivot_table(index = 'tariff', \n",
    "                                    values = ['duration_total', 'mb_used', 'messages_count', 'income_for_user'],\n",
    "                                   aggfunc = ['median'])\n",
    "svot_tariff_mosc.columns = ['duration_total','income_for_user','mb_used','messages_count']\n",
    "\n",
    "\n",
    "svot_tariff_no_mosc = data.query('city != \"Москва\"').pivot_table(index = 'tariff', \n",
    "                                    values = ['duration_total', 'mb_used', 'messages_count', 'income_for_user'],\n",
    "                                   aggfunc = ['median'])\n",
    "svot_tariff_no_mosc.columns = ['duration_total','income_for_user','mb_used','messages_count']"
   ]
  },
  {
   "cell_type": "code",
   "execution_count": 57,
   "metadata": {},
   "outputs": [
    {
     "data": {
      "text/plain": [
       "Text(0, 0.5, 'Величина трафика')"
      ]
     },
     "execution_count": 57,
     "metadata": {},
     "output_type": "execute_result"
    },
    {
     "data": {
      "image/png": "[encoded data removed]",
      "text/plain": [
       "<Figure size 720x432 with 1 Axes>"
      ]
     },
     "metadata": {
      "needs_background": "light"
     },
     "output_type": "display_data"
    }
   ],
   "source": [
    "#объединим два графика на одном поле\n",
    "axes = svot_tariff_mosc.plot(\n",
    "    kind='bar',\n",
    "    grid=True,\n",
    "    figsize=(10, 6),\n",
    "    alpha=0.4,\n",
    "    ylim=(0, 25000),\n",
    "    xlim=(0, 1000),\n",
    "    color=['blue', 'green', 'orange', 'black']\n",
    ")\n",
    "\n",
    "svot_tariff_no_mosc.plot(\n",
    "    kind='bar',\n",
    "    grid=True,\n",
    "    figsize=(10, 6),\n",
    "    alpha=0.7,\n",
    "    ylim=(0, 25000),\n",
    "    xlim=(0, 1000),\n",
    "     color=['blue', 'green', 'orange', 'black'],\n",
    "    ax = axes\n",
    ")\n",
    "\n",
    "plt.title('Москва и ост. регионы: анализ исп. трафика')\n",
    "plt.xlabel('Тариф')\n",
    "plt.ylabel('Величина трафика')"
   ]
  },
  {
   "cell_type": "markdown",
   "metadata": {},
   "source": [
    "Можем заметить колоссальную разницу между Москвой и ост. городами по интернет-трафику, особенно в тарифе \"Ультра\". Однако, по другим показателям все более-менее одинаково. Нельзя забывать, что перед нами средние величины. Вполне возможно, что трафик на одного пользователя распределяется иначе, чем в ост. городах, которые приносят деньги компании.  "
   ]
  },
  {
   "cell_type": "markdown",
   "metadata": {},
   "source": [
    "**Итоговые наблюдения**:\n",
    "- Больше всего выручки компании приносят следующие города:\n",
    "    - Тарифф \"Смарт\": Оренбург, Воронеж (около 2,2к)\n",
    "    - Тарифф \"Ультра\": Махачкала, Владимир (около 3,2к)\n",
    "- Москва лидирует в количестве пользователей в обоих тариффах\n",
    "- В Москве используется интрнет-сессии. в среднем больше, чем в других регионах "
   ]
  },
  {
   "cell_type": "markdown",
   "metadata": {},
   "source": [
    "####  Изучение клиентов разных возрастных групп"
   ]
  },
  {
   "cell_type": "markdown",
   "metadata": {},
   "source": [
    "Кроме информации о городах нам также известен возраст клиентов. Определим возрастную категорию, которая приносит наибольшую выручку в компанию. "
   ]
  },
  {
   "cell_type": "code",
   "execution_count": 58,
   "metadata": {},
   "outputs": [
    {
     "name": "stdout",
     "output_type": "stream",
     "text": [
      "Возрастная аудитория компании: 18-75\n"
     ]
    }
   ],
   "source": [
    "#определим возрастную аудиторию компании\n",
    "old_one = users['age'].unique().max()\n",
    "young_one = users['age'].unique().min()\n",
    "print(f'Возрастная аудитория компании: {young_one}-{old_one}')"
   ]
  },
  {
   "cell_type": "code",
   "execution_count": 59,
   "metadata": {},
   "outputs": [
    {
     "data": {
      "text/plain": [
       "<matplotlib.legend.Legend at 0x7f859634a3d0>"
      ]
     },
     "execution_count": 59,
     "metadata": {},
     "output_type": "execute_result"
    },
    {
     "data": {
      "image/png": "[encoded data removed]",
      "text/plain": [
       "<Figure size 432x288 with 1 Axes>"
      ]
     },
     "metadata": {
      "needs_background": "light"
     },
     "output_type": "display_data"
    }
   ],
   "source": [
    "age_income = smart.groupby('age')['income_for_user'].median().plot(grid=True, label='smart')\n",
    "ultra.groupby('age')['income_for_user'].median().plot(grid=True, ax = age_income, label='ultra')\n",
    "plt.legend()"
   ]
  },
  {
   "cell_type": "markdown",
   "metadata": {},
   "source": [
    "Для тарифа \"Ультра\" наиболее прибыльными считаются люди в возрасте 20-30. Причем последние приносят большую выручку, чем те же люди возратсной категории тарифа \"Смарт\". Однако хоть тариф \"Ультра\" и имеет такие резкие пики, график тарифа \"Смарт\" в среднем ниже. "
   ]
  },
  {
   "cell_type": "markdown",
   "metadata": {},
   "source": [
    "Сделаем категоризацию данных и посмотрим чем больше пользуются клиенты разных возрастов:"
   ]
  },
  {
   "cell_type": "code",
   "execution_count": 60,
   "metadata": {},
   "outputs": [
    {
     "data": {
      "text/html": [
       "<div>\n",
       "<style scoped>\n",
       "    .dataframe tbody tr th:only-of-type {\n",
       "        vertical-align: middle;\n",
       "    }\n",
       "\n",
       "    .dataframe tbody tr th {\n",
       "        vertical-align: top;\n",
       "    }\n",
       "\n",
       "    .dataframe thead th {\n",
       "        text-align: right;\n",
       "    }\n",
       "</style>\n",
       "<table border=\"1\" class=\"dataframe\">\n",
       "  <thead>\n",
       "    <tr style=\"text-align: right;\">\n",
       "      <th></th>\n",
       "      <th>user_id</th>\n",
       "      <th>month</th>\n",
       "      <th>duration_total</th>\n",
       "      <th>calls_count</th>\n",
       "      <th>mb_used</th>\n",
       "      <th>messages_count</th>\n",
       "      <th>gb_used</th>\n",
       "      <th>age</th>\n",
       "      <th>churn_date</th>\n",
       "      <th>city</th>\n",
       "      <th>first_name</th>\n",
       "      <th>last_name</th>\n",
       "      <th>reg_date</th>\n",
       "      <th>tariff</th>\n",
       "      <th>income_for_user</th>\n",
       "      <th>age_group</th>\n",
       "    </tr>\n",
       "  </thead>\n",
       "  <tbody>\n",
       "    <tr>\n",
       "      <th>0</th>\n",
       "      <td>1000</td>\n",
       "      <td>5</td>\n",
       "      <td>159</td>\n",
       "      <td>22</td>\n",
       "      <td>2253</td>\n",
       "      <td>22</td>\n",
       "      <td>3</td>\n",
       "      <td>52</td>\n",
       "      <td>NaT</td>\n",
       "      <td>Краснодар</td>\n",
       "      <td>Рафаил</td>\n",
       "      <td>Верещагин</td>\n",
       "      <td>2018-05-25</td>\n",
       "      <td>ultra</td>\n",
       "      <td>1950</td>\n",
       "      <td>Пожилой возраст</td>\n",
       "    </tr>\n",
       "    <tr>\n",
       "      <th>1</th>\n",
       "      <td>1000</td>\n",
       "      <td>6</td>\n",
       "      <td>172</td>\n",
       "      <td>43</td>\n",
       "      <td>23233</td>\n",
       "      <td>60</td>\n",
       "      <td>23</td>\n",
       "      <td>52</td>\n",
       "      <td>NaT</td>\n",
       "      <td>Краснодар</td>\n",
       "      <td>Рафаил</td>\n",
       "      <td>Верещагин</td>\n",
       "      <td>2018-05-25</td>\n",
       "      <td>ultra</td>\n",
       "      <td>1950</td>\n",
       "      <td>Пожилой возраст</td>\n",
       "    </tr>\n",
       "    <tr>\n",
       "      <th>2</th>\n",
       "      <td>1000</td>\n",
       "      <td>7</td>\n",
       "      <td>340</td>\n",
       "      <td>47</td>\n",
       "      <td>14003</td>\n",
       "      <td>75</td>\n",
       "      <td>14</td>\n",
       "      <td>52</td>\n",
       "      <td>NaT</td>\n",
       "      <td>Краснодар</td>\n",
       "      <td>Рафаил</td>\n",
       "      <td>Верещагин</td>\n",
       "      <td>2018-05-25</td>\n",
       "      <td>ultra</td>\n",
       "      <td>1950</td>\n",
       "      <td>Пожилой возраст</td>\n",
       "    </tr>\n",
       "    <tr>\n",
       "      <th>3</th>\n",
       "      <td>1000</td>\n",
       "      <td>8</td>\n",
       "      <td>408</td>\n",
       "      <td>52</td>\n",
       "      <td>14055</td>\n",
       "      <td>81</td>\n",
       "      <td>14</td>\n",
       "      <td>52</td>\n",
       "      <td>NaT</td>\n",
       "      <td>Краснодар</td>\n",
       "      <td>Рафаил</td>\n",
       "      <td>Верещагин</td>\n",
       "      <td>2018-05-25</td>\n",
       "      <td>ultra</td>\n",
       "      <td>1950</td>\n",
       "      <td>Пожилой возраст</td>\n",
       "    </tr>\n",
       "    <tr>\n",
       "      <th>4</th>\n",
       "      <td>1000</td>\n",
       "      <td>9</td>\n",
       "      <td>466</td>\n",
       "      <td>58</td>\n",
       "      <td>14568</td>\n",
       "      <td>57</td>\n",
       "      <td>15</td>\n",
       "      <td>52</td>\n",
       "      <td>NaT</td>\n",
       "      <td>Краснодар</td>\n",
       "      <td>Рафаил</td>\n",
       "      <td>Верещагин</td>\n",
       "      <td>2018-05-25</td>\n",
       "      <td>ultra</td>\n",
       "      <td>1950</td>\n",
       "      <td>Пожилой возраст</td>\n",
       "    </tr>\n",
       "  </tbody>\n",
       "</table>\n",
       "</div>"
      ],
      "text/plain": [
       "   user_id  month  duration_total  calls_count  mb_used  messages_count  \\\n",
       "0     1000      5             159           22     2253              22   \n",
       "1     1000      6             172           43    23233              60   \n",
       "2     1000      7             340           47    14003              75   \n",
       "3     1000      8             408           52    14055              81   \n",
       "4     1000      9             466           58    14568              57   \n",
       "\n",
       "   gb_used  age churn_date       city first_name  last_name   reg_date tariff  \\\n",
       "0        3   52        NaT  Краснодар     Рафаил  Верещагин 2018-05-25  ultra   \n",
       "1       23   52        NaT  Краснодар     Рафаил  Верещагин 2018-05-25  ultra   \n",
       "2       14   52        NaT  Краснодар     Рафаил  Верещагин 2018-05-25  ultra   \n",
       "3       14   52        NaT  Краснодар     Рафаил  Верещагин 2018-05-25  ultra   \n",
       "4       15   52        NaT  Краснодар     Рафаил  Верещагин 2018-05-25  ultra   \n",
       "\n",
       "   income_for_user        age_group  \n",
       "0             1950  Пожилой возраст  \n",
       "1             1950  Пожилой возраст  \n",
       "2             1950  Пожилой возраст  \n",
       "3             1950  Пожилой возраст  \n",
       "4             1950  Пожилой возраст  "
      ]
     },
     "metadata": {},
     "output_type": "display_data"
    }
   ],
   "source": [
    "#создадим функцию, которая принимает в качестве аргумента значения колонки total_area\n",
    "def age_group(row):\n",
    "    group = row['age']\n",
    "    #через условные операторы разобьем на категории\n",
    "    if group <= 25:\n",
    "        return 'Молодежь'\n",
    "    elif group >= 26 and group <= 44:\n",
    "        return 'Средний возраст'\n",
    "    else:\n",
    "        return 'Пожилой возраст'\n",
    "data['age_group'] = data.apply(age_group, axis=1)\n",
    "display(data.head())"
   ]
  },
  {
   "cell_type": "code",
   "execution_count": 61,
   "metadata": {},
   "outputs": [],
   "source": [
    "young = data.query('age_group == \"Молодежь\"')\n",
    "middle = data.query('age_group == \"Средний возраст\"')\n",
    "old = data.query('age_group == \"Пожилой возраст\"')"
   ]
  },
  {
   "cell_type": "code",
   "execution_count": 62,
   "metadata": {},
   "outputs": [],
   "source": [
    "age = data.groupby('age_group').agg({'duration_total' : ['median'], \n",
    "                                    'messages_count' : ['median'],\n",
    "                                    'gb_used' : ['median'],\n",
    "                                    'income_for_user' : ['median']})\n",
    "age.columns = ['duration_total', 'messages_count', 'gb_used', 'income_for_user']"
   ]
  },
  {
   "cell_type": "code",
   "execution_count": 63,
   "metadata": {},
   "outputs": [
    {
     "data": {
      "text/html": [
       "<div>\n",
       "<style scoped>\n",
       "    .dataframe tbody tr th:only-of-type {\n",
       "        vertical-align: middle;\n",
       "    }\n",
       "\n",
       "    .dataframe tbody tr th {\n",
       "        vertical-align: top;\n",
       "    }\n",
       "\n",
       "    .dataframe thead th {\n",
       "        text-align: right;\n",
       "    }\n",
       "</style>\n",
       "<table border=\"1\" class=\"dataframe\">\n",
       "  <thead>\n",
       "    <tr style=\"text-align: right;\">\n",
       "      <th></th>\n",
       "      <th>duration_total</th>\n",
       "      <th>messages_count</th>\n",
       "      <th>gb_used</th>\n",
       "      <th>income_for_user</th>\n",
       "    </tr>\n",
       "    <tr>\n",
       "      <th>age_group</th>\n",
       "      <th></th>\n",
       "      <th></th>\n",
       "      <th></th>\n",
       "      <th></th>\n",
       "    </tr>\n",
       "  </thead>\n",
       "  <tbody>\n",
       "    <tr>\n",
       "      <th>Молодежь</th>\n",
       "      <td>396.0</td>\n",
       "      <td>29.0</td>\n",
       "      <td>17.0</td>\n",
       "      <td>1724.0</td>\n",
       "    </tr>\n",
       "    <tr>\n",
       "      <th>Пожилой возраст</th>\n",
       "      <td>459.0</td>\n",
       "      <td>32.0</td>\n",
       "      <td>17.0</td>\n",
       "      <td>1550.5</td>\n",
       "    </tr>\n",
       "    <tr>\n",
       "      <th>Средний возраст</th>\n",
       "      <td>430.0</td>\n",
       "      <td>28.0</td>\n",
       "      <td>17.0</td>\n",
       "      <td>1750.0</td>\n",
       "    </tr>\n",
       "  </tbody>\n",
       "</table>\n",
       "</div>"
      ],
      "text/plain": [
       "                 duration_total  messages_count  gb_used  income_for_user\n",
       "age_group                                                                \n",
       "Молодежь                  396.0            29.0     17.0           1724.0\n",
       "Пожилой возраст           459.0            32.0     17.0           1550.5\n",
       "Средний возраст           430.0            28.0     17.0           1750.0"
      ]
     },
     "execution_count": 63,
     "metadata": {},
     "output_type": "execute_result"
    }
   ],
   "source": [
    "age"
   ]
  },
  {
   "cell_type": "code",
   "execution_count": 64,
   "metadata": {},
   "outputs": [
    {
     "data": {
      "image/png": "[encoded data removed]",
      "text/plain": [
       "<Figure size 1080x720 with 1 Axes>"
      ]
     },
     "metadata": {
      "needs_background": "light"
     },
     "output_type": "display_data"
    }
   ],
   "source": [
    "age.plot(kind='bar', figsize=(15,10), grid=True);"
   ]
  },
  {
   "cell_type": "markdown",
   "metadata": {},
   "source": [
    "Пожилые люди больше ост. категорий используют звонки и смс. Молодежь же меньше всего пользуется минутами. Средний возраст в большей степени, чем молодежь пользуется звонками. Однако, выручки компании больше приносит именно средний возраст, значит и суммарно траффика потребляют больше других. "
   ]
  },
  {
   "cell_type": "markdown",
   "metadata": {},
   "source": [
    "**Итоговые наблюдения**:\n",
    "- Больше всего выручки компании приносят следующие возраст. группы:\n",
    "    - Молодежь (около 1,72к в мес.)\n",
    "    - Средний возраст (около 1,75к в мес.)\n",
    "- Пожилые люди больше ост. категорий используют звонки и смс, молодежь же меньше всего пользуется минутами\n",
    "- Тариф \"Ультра\" в среднем по всем возрастам по доходу превышает тариф \"Смарт\""
   ]
  },
  {
   "cell_type": "markdown",
   "metadata": {},
   "source": [
    "####  Изучение отказов от пользования тариффом"
   ]
  },
  {
   "cell_type": "code",
   "execution_count": 65,
   "metadata": {},
   "outputs": [],
   "source": [
    "#создадим копию датафрейма для будущих манипуляций)\n",
    "data_time = data.copy(deep=True)"
   ]
  },
  {
   "cell_type": "markdown",
   "metadata": {},
   "source": [
    "Последнее, что рассмотрим - отток клиентов в разные месяцы 2018 года. "
   ]
  },
  {
   "cell_type": "code",
   "execution_count": 66,
   "metadata": {},
   "outputs": [],
   "source": [
    "#заполним пропуски так, чтоб отсутствие даты являлось - 0 (т.е продолжение использование тариффа)\n",
    "#1 - прекращение пользования тариффом\n",
    "users['churn_date'] = users['churn_date'].fillna(0)\n",
    "data['churn_date'] = data['churn_date'].fillna(0)\n",
    "for i in users.index:\n",
    "    if users.loc[i, 'churn_date'] != 0:\n",
    "        users.loc[i, 'churn_date'] = 1\n",
    "for i in data.index:\n",
    "    if data.loc[i, 'churn_date'] != 0:\n",
    "        data.loc[i, 'churn_date'] = 1"
   ]
  },
  {
   "cell_type": "code",
   "execution_count": 67,
   "metadata": {},
   "outputs": [],
   "source": [
    "#переведем наши 1 и 0 к булевым переменным\n",
    "users['churn_date'] = users['churn_date'].astype(bool)\n",
    "data['churn_date'] = data['churn_date'].astype(bool)"
   ]
  },
  {
   "cell_type": "code",
   "execution_count": 68,
   "metadata": {},
   "outputs": [],
   "source": [
    "smart = users.query('tariff == \"smart\"')\n",
    "ultra = users.query('tariff == \"ultra\"')"
   ]
  },
  {
   "cell_type": "code",
   "execution_count": 69,
   "metadata": {},
   "outputs": [
    {
     "data": {
      "text/plain": [
       "Text(0.5, 1.0, 'Распределение оттока клиентов по тарифам')"
      ]
     },
     "execution_count": 69,
     "metadata": {},
     "output_type": "execute_result"
    },
    {
     "data": {
      "image/png": "[encoded data removed]",
      "text/plain": [
       "<Figure size 432x288 with 1 Axes>"
      ]
     },
     "metadata": {
      "needs_background": "light"
     },
     "output_type": "display_data"
    }
   ],
   "source": [
    "churn = smart['churn_date'].value_counts().plot(kind='bar', label='smart', color = 'green', alpha = 0.4)\n",
    "ultra['churn_date'].value_counts().plot(kind='bar', label='ultra')\n",
    "plt.legend()\n",
    "plt.title('Распределение оттока клиентов по тарифам')"
   ]
  },
  {
   "cell_type": "markdown",
   "metadata": {},
   "source": [
    "Определим долю отказов клиентов от тарифов и сравним:"
   ]
  },
  {
   "cell_type": "code",
   "execution_count": 70,
   "metadata": {},
   "outputs": [
    {
     "name": "stdout",
     "output_type": "stream",
     "text": [
      "Доля отказов от тарифа \"Смарт\" : 6%\n",
      "Доля отказов от тарифа \"Ультра\" : 10%\n"
     ]
    }
   ],
   "source": [
    "smart_part = len(smart.query('churn_date == 1')) / len(smart['user_id']) * 100\n",
    "ultra_part = len(ultra.query('churn_date == 1')) / len(ultra['user_id']) * 100\n",
    "print(f'Доля отказов от тарифа \"Смарт\" : {int(smart_part)}%')\n",
    "print(f'Доля отказов от тарифа \"Ультра\" : {int(ultra_part)}%')"
   ]
  },
  {
   "cell_type": "markdown",
   "metadata": {},
   "source": [
    "Кажется, что по графику от тарифа \"Смарт\" отказывается большее кол-во людей, однако, если просчитать доли отказов от тарифа, выяснится, что тариф \"Ультра\" теряет больше клиентов в процентном соотношении. \n",
    "\n",
    "Почему же клиенты отказались от услуг компании? Обратимся к следующему графику:"
   ]
  },
  {
   "cell_type": "code",
   "execution_count": 71,
   "metadata": {},
   "outputs": [],
   "source": [
    "smart = data.query('tariff == \"smart\"')\n",
    "ultra = data.query('tariff == \"ultra\"')"
   ]
  },
  {
   "cell_type": "code",
   "execution_count": 72,
   "metadata": {},
   "outputs": [
    {
     "data": {
      "image/png": "[encoded data removed]",
      "text/plain": [
       "<Figure size 1152x432 with 2 Axes>"
      ]
     },
     "metadata": {
      "needs_background": "light"
     },
     "output_type": "display_data"
    }
   ],
   "source": [
    "_, axes = plt.subplots(1, 2, sharey=True, figsize=(16,6))\n",
    "\n",
    "sns.boxplot(x='churn_date', y='gb_used', data=smart, ax=axes[0]);\n",
    "sns.violinplot(x='churn_date', y='gb_used', data=smart, ax=axes[1]);\n"
   ]
  },
  {
   "cell_type": "markdown",
   "metadata": {},
   "source": [
    "В тарифе \"Смарт\" интернет-трафик почти не различается в случаях ухода клиента и наоборот. Сам факт большого использования интернет-трафика ушедшими клиентами наводит на мысли о каких-то проблемах связанных с этим показателем. Возможно, высокая стоимость или какие-то неполадки внутри системы. "
   ]
  },
  {
   "cell_type": "code",
   "execution_count": 73,
   "metadata": {},
   "outputs": [
    {
     "data": {
      "text/plain": [
       "<AxesSubplot:xlabel='churn_date', ylabel='gb_used'>"
      ]
     },
     "execution_count": 73,
     "metadata": {},
     "output_type": "execute_result"
    },
    {
     "data": {
      "image/png": "[encoded data removed]",
      "text/plain": [
       "<Figure size 1152x432 with 2 Axes>"
      ]
     },
     "metadata": {
      "needs_background": "light"
     },
     "output_type": "display_data"
    }
   ],
   "source": [
    "_, axes = plt.subplots(1, 2, sharey=True, figsize=(16,6))\n",
    "sns.boxplot(x='churn_date', y='gb_used', data=ultra, ax=axes[0])\n",
    "sns.violinplot(x='churn_date', y='gb_used', data=ultra, ax=axes[1])"
   ]
  },
  {
   "cell_type": "markdown",
   "metadata": {},
   "source": [
    "В тарифе \"Ультра\" все наоборот. Отток, скорее всего, в данном тарифе не связан с интернет-трафиком. "
   ]
  },
  {
   "cell_type": "markdown",
   "metadata": {},
   "source": [
    "#####  Средняя длительность пользования тариффом по различ. группировкам"
   ]
  },
  {
   "cell_type": "code",
   "execution_count": 74,
   "metadata": {},
   "outputs": [],
   "source": [
    "#для исследования в этом блоке нам интересны только пользователи, которые \n",
    "#прекратили ипсользовать тарифф\n",
    "data_time.dropna(subset=['churn_date'], inplace=True)"
   ]
  },
  {
   "cell_type": "code",
   "execution_count": 75,
   "metadata": {},
   "outputs": [],
   "source": [
    "#чтобы использовать функцию ниже, переведем даты снова в формат str\n",
    "data_time['churn_date'] = data_time['churn_date'].astype(str)\n",
    "data_time['reg_date'] = data_time['reg_date'].astype(str)"
   ]
  },
  {
   "cell_type": "code",
   "execution_count": 76,
   "metadata": {},
   "outputs": [],
   "source": [
    "def time_using(row):\n",
    "    #заявим переменную\n",
    "    time_using = 0\n",
    "    #переведем даты обратны в прежний формат\n",
    "    time_1 = datetime.strptime(row['reg_date'],\"%Y-%m-%d\")\n",
    "    time_2 = datetime.strptime(row['churn_date'],\"%Y-%m-%d\")\n",
    "    #найдем разницу между двумя датами \n",
    "    time_interval = time_2 - time_1\n",
    "    #переведем разницу исключительно в дни\n",
    "    time_using += time_interval.days\n",
    "    row['time_using'] = time_using\n",
    "    return row \n",
    "    "
   ]
  },
  {
   "cell_type": "code",
   "execution_count": 77,
   "metadata": {},
   "outputs": [],
   "source": [
    "data_time = data_time.apply(time_using, axis = 1)"
   ]
  },
  {
   "cell_type": "code",
   "execution_count": 78,
   "metadata": {
    "scrolled": true
   },
   "outputs": [],
   "source": [
    "#создадим таблицу где будет отображаться каждый клиент без привязки к месяцам \n",
    "data_time_for_user = (\n",
    "    data_time\n",
    "    .groupby('user_id').agg({'city' : ['first'], \n",
    "                             'time_using' : ['first'], \n",
    "                             'age' : ['first'],\n",
    "                            'tariff' : ['first'],\n",
    "                            'age_group' : ['first']})\n",
    ")"
   ]
  },
  {
   "cell_type": "code",
   "execution_count": 79,
   "metadata": {},
   "outputs": [],
   "source": [
    "data_time_for_user.columns = ['city', 'time_using', 'age', 'tariff', 'age_group']"
   ]
  },
  {
   "cell_type": "code",
   "execution_count": 80,
   "metadata": {},
   "outputs": [
    {
     "data": {
      "text/html": [
       "<div>\n",
       "<style scoped>\n",
       "    .dataframe tbody tr th:only-of-type {\n",
       "        vertical-align: middle;\n",
       "    }\n",
       "\n",
       "    .dataframe tbody tr th {\n",
       "        vertical-align: top;\n",
       "    }\n",
       "\n",
       "    .dataframe thead th {\n",
       "        text-align: right;\n",
       "    }\n",
       "</style>\n",
       "<table border=\"1\" class=\"dataframe\">\n",
       "  <thead>\n",
       "    <tr style=\"text-align: right;\">\n",
       "      <th></th>\n",
       "      <th>city</th>\n",
       "      <th>time_using</th>\n",
       "      <th>age</th>\n",
       "      <th>tariff</th>\n",
       "      <th>age_group</th>\n",
       "    </tr>\n",
       "    <tr>\n",
       "      <th>user_id</th>\n",
       "      <th></th>\n",
       "      <th></th>\n",
       "      <th></th>\n",
       "      <th></th>\n",
       "      <th></th>\n",
       "    </tr>\n",
       "  </thead>\n",
       "  <tbody>\n",
       "    <tr>\n",
       "      <th>1019</th>\n",
       "      <td>Томск</td>\n",
       "      <td>142</td>\n",
       "      <td>63</td>\n",
       "      <td>ultra</td>\n",
       "      <td>Пожилой возраст</td>\n",
       "    </tr>\n",
       "    <tr>\n",
       "      <th>1020</th>\n",
       "      <td>Чита</td>\n",
       "      <td>57</td>\n",
       "      <td>59</td>\n",
       "      <td>smart</td>\n",
       "      <td>Пожилой возраст</td>\n",
       "    </tr>\n",
       "    <tr>\n",
       "      <th>1034</th>\n",
       "      <td>Вологда</td>\n",
       "      <td>87</td>\n",
       "      <td>66</td>\n",
       "      <td>smart</td>\n",
       "      <td>Пожилой возраст</td>\n",
       "    </tr>\n",
       "    <tr>\n",
       "      <th>1050</th>\n",
       "      <td>Тюмень</td>\n",
       "      <td>109</td>\n",
       "      <td>44</td>\n",
       "      <td>ultra</td>\n",
       "      <td>Средний возраст</td>\n",
       "    </tr>\n",
       "    <tr>\n",
       "      <th>1051</th>\n",
       "      <td>Москва</td>\n",
       "      <td>139</td>\n",
       "      <td>37</td>\n",
       "      <td>smart</td>\n",
       "      <td>Средний возраст</td>\n",
       "    </tr>\n",
       "  </tbody>\n",
       "</table>\n",
       "</div>"
      ],
      "text/plain": [
       "            city  time_using  age tariff        age_group\n",
       "user_id                                                  \n",
       "1019       Томск         142   63  ultra  Пожилой возраст\n",
       "1020        Чита          57   59  smart  Пожилой возраст\n",
       "1034     Вологда          87   66  smart  Пожилой возраст\n",
       "1050      Тюмень         109   44  ultra  Средний возраст\n",
       "1051      Москва         139   37  smart  Средний возраст"
      ]
     },
     "execution_count": 80,
     "metadata": {},
     "output_type": "execute_result"
    }
   ],
   "source": [
    "data_time_for_user.head()"
   ]
  },
  {
   "cell_type": "code",
   "execution_count": 81,
   "metadata": {},
   "outputs": [],
   "source": [
    "#сделаем срезы по тариффам\n",
    "smart_time = data_time_for_user.query('tariff == \"smart\"')\n",
    "ultra_time = data_time_for_user.query('tariff == \"ultra\"')"
   ]
  },
  {
   "cell_type": "markdown",
   "metadata": {},
   "source": [
    "**Группировка по городам**:"
   ]
  },
  {
   "cell_type": "code",
   "execution_count": 82,
   "metadata": {},
   "outputs": [
    {
     "data": {
      "image/png": "[encoded data removed]",
      "text/plain": [
       "<Figure size 1440x432 with 2 Axes>"
      ]
     },
     "metadata": {
      "needs_background": "light"
     },
     "output_type": "display_data"
    }
   ],
   "source": [
    "#обозначим на одном поле \n",
    "fig = plt.figure(figsize=(20,6))\n",
    "\n",
    "ax_1 = fig.add_subplot(1, 4, 1)\n",
    "ax_2 = fig.add_subplot(1, 4, 3)\n",
    "\n",
    "ax_1.barh(ultra_time.groupby('city')['time_using'].median().sort_values(ascending=False).index,\n",
    "          ultra_time.groupby('city')['time_using'].median().sort_values(ascending=False), \n",
    "          label='time_using_ult')\n",
    "ax_1.set_title('Ultra');\n",
    "ax_2.barh(smart_time.groupby('city')['time_using'].median().sort_values(ascending=False).index, \n",
    "          smart_time.groupby('city')['time_using'].median().sort_values(ascending=False),\n",
    "          label='time_using_sm')\n",
    "ax_2.set_title('Smart');\n",
    "\n",
    "ax_1.grid()\n",
    "ax_2.grid()"
   ]
  },
  {
   "cell_type": "markdown",
   "metadata": {},
   "source": [
    "\"Быстрые\" города по оттоку по тарифам: Волжский и Хабаровск, то есть минимальные по длительности использования. В случае г. Волжский можно предположить, что отказ связан с условиями тарифа, ибо по времени прошло меньше месяца (около недели). Г. Хабаровск, скорее всего, имеет другие причины, ибо пользование в 33 дня, что означает двойную оплату за тариф, может подразумевать под собой какие-то проблемы с трафиком на 2й месяц использования. "
   ]
  },
  {
   "cell_type": "markdown",
   "metadata": {},
   "source": [
    "**Группировка по возрасту**:"
   ]
  },
  {
   "cell_type": "code",
   "execution_count": 83,
   "metadata": {},
   "outputs": [
    {
     "data": {
      "image/png": "[encoded data removed]",
      "text/plain": [
       "<Figure size 1440x432 with 2 Axes>"
      ]
     },
     "metadata": {},
     "output_type": "display_data"
    }
   ],
   "source": [
    "fig = plt.figure(figsize=(20,6))\n",
    "\n",
    "ax_1 = fig.add_subplot(1, 4, 1)\n",
    "ax_2 = fig.add_subplot(1, 4, 3)\n",
    "\n",
    "labels = [\"Пожилой возраст\", \"Молодежь\", \"Средний возраст\"]\n",
    "ax_1.pie([smart_time.groupby('age_group')['time_using'].median()['Пожилой возраст'], \n",
    "         smart_time.groupby('age_group')['time_using'].median()['Молодежь'], \n",
    "         smart_time.groupby('age_group')['time_using'].median()['Средний возраст']], \n",
    "       labels=labels);\n",
    "ax_1.set_title('Smart');\n",
    "\n",
    "ax_2.pie([ultra_time.groupby('age_group')['time_using'].median()['Пожилой возраст'], \n",
    "         ultra_time.groupby('age_group')['time_using'].median()['Молодежь'], \n",
    "         ultra_time.groupby('age_group')['time_using'].median()['Средний возраст']], \n",
    "       labels=labels);\n",
    "ax_2.set_title('Ultra');"
   ]
  },
  {
   "cell_type": "markdown",
   "metadata": {},
   "source": [
    "От \"Смарта\" в среднем реже отказывались люди среднего возраста, а быстрее - молодежь. В тарифе \"Ультра\" наоборот: пожилой возраст дольше использовал услуги компании, а быстро отказывались от них люди среднего возраста. "
   ]
  },
  {
   "cell_type": "markdown",
   "metadata": {},
   "source": [
    "**Итоговые наблюдения**:\n",
    "- Тариф \"Ультра\" теряет больше клиентов в процентном соотношении (10% от всех пользователей тариффа)\n",
    "- В тарифе \"Смарт\" интернет-трафик почти не различается в случаях ухода клиента и наоборот. Сам факт большого использования интернет-трафика ушедшими клиентами наводит на мысли о каких-то проблемах связанных с этим показателем \n",
    "- \"Быстрые\" города по оттоку по тариффам: Волжский (\"Ультра\") и Хабаровск (\"Смарт\")\n",
    "- От \"Смарта\" в среднем реже отказывались люди среднего возраста, а быстрее - молодежь. В тарифе \"Ультра\" наоборот: пожилой возраст дольше использовал услуги компании, а быстро отказывались от них люди среднего возраста"
   ]
  },
  {
   "cell_type": "markdown",
   "metadata": {},
   "source": [
    "###  Исследование распределений параметров"
   ]
  },
  {
   "cell_type": "markdown",
   "metadata": {},
   "source": [
    "Оценим и сравним распределения параметров разных тарифов:"
   ]
  },
  {
   "cell_type": "code",
   "execution_count": 84,
   "metadata": {},
   "outputs": [
    {
     "data": {
      "image/png": "[encoded data removed]",
      "text/plain": [
       "<Figure size 1440x864 with 4 Axes>"
      ]
     },
     "metadata": {
      "needs_background": "light"
     },
     "output_type": "display_data"
    }
   ],
   "source": [
    "#оценим распределения параметров трафика и величины выручек за месяц\n",
    "features = list(set(smart.columns) - set(['user_id', 'mb_used', 'calls_count', 'age', 'reg_date', 'month']))\n",
    "\n",
    "smart[features].hist(figsize=(20,12));"
   ]
  },
  {
   "cell_type": "code",
   "execution_count": 85,
   "metadata": {},
   "outputs": [
    {
     "data": {
      "image/png": "[encoded data removed]",
      "text/plain": [
       "<Figure size 1440x864 with 4 Axes>"
      ]
     },
     "metadata": {
      "needs_background": "light"
     },
     "output_type": "display_data"
    }
   ],
   "source": [
    "features = list(set(ultra.columns) - set(['user_id', 'mb_used', 'calls_count', 'age', 'reg_date', 'month']))\n",
    "\n",
    "ultra[features].hist(figsize=(20,12));"
   ]
  },
  {
   "cell_type": "markdown",
   "metadata": {},
   "source": [
    "`gb_used`\n",
    "\n",
    "Распределение в тарифе \"Ультра\" очень близко к нормальному, в то время как в тарифе \"Смарт\" распределение имеет слегка левостороннюю ассиметрию.\n",
    "\n",
    "`messages_count`,`income_for_user`\n",
    "\n",
    "Все распределения (вне зависимости от тарифа) относятся к распределениям с правосторонними ассиметриями. Отличаются лишь областью опредления и ее многозначностью. \n",
    "\n",
    "`duration_total`\n",
    "\n",
    "Распределение в тарифе \"Смарт\" очень близко к нормальному, в то время как в тарифе \"Ультра\" распределение имеет слегка левостороннюю ассиметрию."
   ]
  },
  {
   "cell_type": "markdown",
   "metadata": {},
   "source": [
    "Подробнее об этом мы можем посмотреть через описательную статистику:"
   ]
  },
  {
   "cell_type": "code",
   "execution_count": 86,
   "metadata": {},
   "outputs": [
    {
     "data": {
      "text/html": [
       "<style type=\"text/css\">\n",
       "</style>\n",
       "<table id=\"T_4d5e9_\">\n",
       "  <thead>\n",
       "    <tr>\n",
       "      <th class=\"blank level0\" >&nbsp;</th>\n",
       "      <th class=\"col_heading level0 col0\" colspan=\"4\">mean</th>\n",
       "      <th class=\"col_heading level0 col4\" colspan=\"4\">median</th>\n",
       "    </tr>\n",
       "    <tr>\n",
       "      <th class=\"blank level1\" >&nbsp;</th>\n",
       "      <th class=\"col_heading level1 col0\" >calls</th>\n",
       "      <th class=\"col_heading level1 col1\" >gb</th>\n",
       "      <th class=\"col_heading level1 col2\" >revenue</th>\n",
       "      <th class=\"col_heading level1 col3\" >sms</th>\n",
       "      <th class=\"col_heading level1 col4\" >calls</th>\n",
       "      <th class=\"col_heading level1 col5\" >gb</th>\n",
       "      <th class=\"col_heading level1 col6\" >revenue</th>\n",
       "      <th class=\"col_heading level1 col7\" >sms</th>\n",
       "    </tr>\n",
       "    <tr>\n",
       "      <th class=\"index_name level0\" >tariff</th>\n",
       "      <th class=\"blank col0\" >&nbsp;</th>\n",
       "      <th class=\"blank col1\" >&nbsp;</th>\n",
       "      <th class=\"blank col2\" >&nbsp;</th>\n",
       "      <th class=\"blank col3\" >&nbsp;</th>\n",
       "      <th class=\"blank col4\" >&nbsp;</th>\n",
       "      <th class=\"blank col5\" >&nbsp;</th>\n",
       "      <th class=\"blank col6\" >&nbsp;</th>\n",
       "      <th class=\"blank col7\" >&nbsp;</th>\n",
       "    </tr>\n",
       "  </thead>\n",
       "  <tbody>\n",
       "    <tr>\n",
       "      <th id=\"T_4d5e9_level0_row0\" class=\"row_heading level0 row0\" >smart</th>\n",
       "      <td id=\"T_4d5e9_row0_col0\" class=\"data row0 col0\" >  417.7</td>\n",
       "      <td id=\"T_4d5e9_row0_col1\" class=\"data row0 col1\" >  16.3</td>\n",
       "      <td id=\"T_4d5e9_row0_col2\" class=\"data row0 col2\" >  1,289.6</td>\n",
       "      <td id=\"T_4d5e9_row0_col3\" class=\"data row0 col3\" >  33.4</td>\n",
       "      <td id=\"T_4d5e9_row0_col4\" class=\"data row0 col4\" >  421.5</td>\n",
       "      <td id=\"T_4d5e9_row0_col5\" class=\"data row0 col5\" >  17.0</td>\n",
       "      <td id=\"T_4d5e9_row0_col6\" class=\"data row0 col6\" >  1,021.0</td>\n",
       "      <td id=\"T_4d5e9_row0_col7\" class=\"data row0 col7\" >  28.0</td>\n",
       "    </tr>\n",
       "    <tr>\n",
       "      <th id=\"T_4d5e9_level0_row1\" class=\"row_heading level0 row1\" >ultra</th>\n",
       "      <td id=\"T_4d5e9_row1_col0\" class=\"data row1 col0\" >  526.1</td>\n",
       "      <td id=\"T_4d5e9_row1_col1\" class=\"data row1 col1\" >  19.5</td>\n",
       "      <td id=\"T_4d5e9_row1_col2\" class=\"data row1 col2\" >  2,070.0</td>\n",
       "      <td id=\"T_4d5e9_row1_col3\" class=\"data row1 col3\" >  49.3</td>\n",
       "      <td id=\"T_4d5e9_row1_col4\" class=\"data row1 col4\" >  518.0</td>\n",
       "      <td id=\"T_4d5e9_row1_col5\" class=\"data row1 col5\" >  19.0</td>\n",
       "      <td id=\"T_4d5e9_row1_col6\" class=\"data row1 col6\" >  1,950.0</td>\n",
       "      <td id=\"T_4d5e9_row1_col7\" class=\"data row1 col7\" >  38.0</td>\n",
       "    </tr>\n",
       "  </tbody>\n",
       "</table>\n"
      ],
      "text/plain": [
       "<pandas.io.formats.style.Styler at 0x7f859619d280>"
      ]
     },
     "execution_count": 86,
     "metadata": {},
     "output_type": "execute_result"
    }
   ],
   "source": [
    "(\n",
    "    data\n",
    "         .pivot_table(index = 'tariff', values = ['duration_total', 'messages_count',\n",
    "       'gb_used',  'income_for_user'], \n",
    "                                                                  aggfunc = ['mean','median'])\n",
    "        \n",
    "        .rename(columns = {'messages_count':'sms', 'duration_total':'calls', 'gb_used':'gb', 'income_for_user':'revenue'})\n",
    "        .style.format(\"  {:,.1f}\")\n",
    ")"
   ]
  },
  {
   "cell_type": "code",
   "execution_count": 87,
   "metadata": {},
   "outputs": [
    {
     "data": {
      "text/html": [
       "<style type=\"text/css\">\n",
       "</style>\n",
       "<table id=\"T_57fd1_\">\n",
       "  <thead>\n",
       "    <tr>\n",
       "      <th class=\"blank level0\" >&nbsp;</th>\n",
       "      <th class=\"col_heading level0 col0\" colspan=\"4\">std</th>\n",
       "      <th class=\"col_heading level0 col4\" colspan=\"4\">var</th>\n",
       "    </tr>\n",
       "    <tr>\n",
       "      <th class=\"blank level1\" >&nbsp;</th>\n",
       "      <th class=\"col_heading level1 col0\" >calls</th>\n",
       "      <th class=\"col_heading level1 col1\" >gb</th>\n",
       "      <th class=\"col_heading level1 col2\" >revenue</th>\n",
       "      <th class=\"col_heading level1 col3\" >sms</th>\n",
       "      <th class=\"col_heading level1 col4\" >calls</th>\n",
       "      <th class=\"col_heading level1 col5\" >gb</th>\n",
       "      <th class=\"col_heading level1 col6\" >revenue</th>\n",
       "      <th class=\"col_heading level1 col7\" >sms</th>\n",
       "    </tr>\n",
       "    <tr>\n",
       "      <th class=\"index_name level0\" >tariff</th>\n",
       "      <th class=\"blank col0\" >&nbsp;</th>\n",
       "      <th class=\"blank col1\" >&nbsp;</th>\n",
       "      <th class=\"blank col2\" >&nbsp;</th>\n",
       "      <th class=\"blank col3\" >&nbsp;</th>\n",
       "      <th class=\"blank col4\" >&nbsp;</th>\n",
       "      <th class=\"blank col5\" >&nbsp;</th>\n",
       "      <th class=\"blank col6\" >&nbsp;</th>\n",
       "      <th class=\"blank col7\" >&nbsp;</th>\n",
       "    </tr>\n",
       "  </thead>\n",
       "  <tbody>\n",
       "    <tr>\n",
       "      <th id=\"T_57fd1_level0_row0\" class=\"row_heading level0 row0\" >smart</th>\n",
       "      <td id=\"T_57fd1_row0_col0\" class=\"data row0 col0\" >  190.5</td>\n",
       "      <td id=\"T_57fd1_row0_col1\" class=\"data row0 col1\" >  5.8</td>\n",
       "      <td id=\"T_57fd1_row0_col2\" class=\"data row0 col2\" >  818.4</td>\n",
       "      <td id=\"T_57fd1_row0_col3\" class=\"data row0 col3\" >  28.2</td>\n",
       "      <td id=\"T_57fd1_row0_col4\" class=\"data row0 col4\" >  36,281.4</td>\n",
       "      <td id=\"T_57fd1_row0_col5\" class=\"data row0 col5\" >  33.1</td>\n",
       "      <td id=\"T_57fd1_row0_col6\" class=\"data row0 col6\" >  669,730.8</td>\n",
       "      <td id=\"T_57fd1_row0_col7\" class=\"data row0 col7\" >  797.0</td>\n",
       "    </tr>\n",
       "    <tr>\n",
       "      <th id=\"T_57fd1_level0_row1\" class=\"row_heading level0 row1\" >ultra</th>\n",
       "      <td id=\"T_57fd1_row1_col0\" class=\"data row1 col0\" >  317.9</td>\n",
       "      <td id=\"T_57fd1_row1_col1\" class=\"data row1 col1\" >  9.9</td>\n",
       "      <td id=\"T_57fd1_row1_col2\" class=\"data row1 col2\" >  376.0</td>\n",
       "      <td id=\"T_57fd1_row1_col3\" class=\"data row1 col3\" >  47.8</td>\n",
       "      <td id=\"T_57fd1_row1_col4\" class=\"data row1 col4\" >  101,052.5</td>\n",
       "      <td id=\"T_57fd1_row1_col5\" class=\"data row1 col5\" >  97.4</td>\n",
       "      <td id=\"T_57fd1_row1_col6\" class=\"data row1 col6\" >  141,387.7</td>\n",
       "      <td id=\"T_57fd1_row1_col7\" class=\"data row1 col7\" >  2,285.4</td>\n",
       "    </tr>\n",
       "  </tbody>\n",
       "</table>\n"
      ],
      "text/plain": [
       "<pandas.io.formats.style.Styler at 0x7f85965853a0>"
      ]
     },
     "execution_count": 87,
     "metadata": {},
     "output_type": "execute_result"
    }
   ],
   "source": [
    "(\n",
    "    data\n",
    "         .pivot_table(index = 'tariff', values = ['duration_total', 'messages_count',\n",
    "       'gb_used',  'income_for_user'], \n",
    "                                                                  aggfunc = [ 'std', 'var'])\n",
    "        .rename(columns = {'messages_count':'sms', 'duration_total':'calls', 'gb_used':'gb', 'income_for_user':'revenue'})\n",
    "        .style.format(\"  {:,.1f}\")\n",
    ")"
   ]
  },
  {
   "cell_type": "markdown",
   "metadata": {},
   "source": [
    "Заметим, что везде кроме `gb_used` и `duration_total` медиана меньше среднего арифметического. То есть распределения и правда правосторонние, однако, `gb_used` и `duration_total` наоборот - левостороннее. "
   ]
  },
  {
   "cell_type": "markdown",
   "metadata": {},
   "source": [
    "Перейдем к тарифу \"Ультра\":"
   ]
  },
  {
   "cell_type": "markdown",
   "metadata": {},
   "source": [
    "Утверждение о нормальности распределения `gb_used` в тарифе \"Ультра\" также подтвердилось. Медиана и сред. арифметическое почти совпадают. "
   ]
  },
  {
   "cell_type": "markdown",
   "metadata": {},
   "source": [
    "**Итоговые наблюдения**:\n",
    "- В тариффе \"Смарт\" : везде кроме gb_used и duration_total медиана меньше среднего арифметического. То есть распределения и правда правосторонние, однако, gb_used и duration_total наоборот - левостороннее\n",
    "- В тариффе \"Ультра\" : все тоже самое, но gb_used и duration_total близки к нормальному распределению\n"
   ]
  },
  {
   "cell_type": "markdown",
   "metadata": {},
   "source": [
    "##  Проверка гипотез"
   ]
  },
  {
   "cell_type": "markdown",
   "metadata": {},
   "source": [
    "###  Гипотеза 1"
   ]
  },
  {
   "cell_type": "markdown",
   "metadata": {},
   "source": [
    "Проверить : *средняя выручка пользователей тарифов «Ультра» и «Смарт» различаются*"
   ]
  },
  {
   "cell_type": "markdown",
   "metadata": {},
   "source": [
    "Предлагаю проверить альтернативную гипотезу о равенстве средних и, далее, найти вероятность обратного. Поэтому сформулируем гипотезу следующих образом:\n",
    "\n",
    "Н0 : μх = μy\n",
    "\n",
    "Н1 : μх ≠ μy\n",
    "\n",
    "т.е:\n",
    "\n",
    "Н0 : средняя выручка пользователей тарифов совпадает\n",
    "\n",
    "Н1 : средняя выручка пользователей тарифов не совпадает\n",
    "\n",
    "Для проверки будем использовать ttest_ind, ибо выборки независимы, а дисперсии (см. стат. таблицы) не равны. "
   ]
  },
  {
   "cell_type": "code",
   "execution_count": 88,
   "metadata": {},
   "outputs": [
    {
     "name": "stdout",
     "output_type": "stream",
     "text": [
      "p-значение: 1.927011394420941e-250\n",
      "Отвергаем нулевую гипотезу\n"
     ]
    }
   ],
   "source": [
    "#делаем срезы по столбцу в таблицах разных тарифов\n",
    "sample_1 = smart['income_for_user']\n",
    "sample_2 = ultra['income_for_user']\n",
    "\n",
    "alpha = .05 # критический уровень статистической значимости\n",
    "# если p-value окажется меньше него - отвергнем гипотезу\n",
    "\n",
    "results = st.ttest_ind(\n",
    "    sample_1, \n",
    "    sample_2,\n",
    "    equal_var = False)\n",
    "\n",
    "print('p-значение:', results.pvalue)\n",
    "\n",
    "if results.pvalue < alpha:\n",
    "    print(\"Отвергаем нулевую гипотезу\")\n",
    "else:\n",
    "    print(\"Не получилось отвергнуть нулевую гипотезу\")"
   ]
  },
  {
   "cell_type": "markdown",
   "metadata": {},
   "source": [
    "Получается, мы не опровергаем гипотезу Н1: средняя выручка пользователей разных тариффов может не совпадать"
   ]
  },
  {
   "cell_type": "markdown",
   "metadata": {},
   "source": [
    "###  Гипотеза 2"
   ]
  },
  {
   "cell_type": "markdown",
   "metadata": {},
   "source": [
    "Проверить : *средняя выручка пользователей из Москвы отличается от выручки пользователей из других регионов*"
   ]
  },
  {
   "cell_type": "markdown",
   "metadata": {},
   "source": [
    "Здесь все тоже самое, однако придется преобразовать выборки, чтобы они соответствовали условию. \n"
   ]
  },
  {
   "cell_type": "code",
   "execution_count": 89,
   "metadata": {},
   "outputs": [],
   "source": [
    "sample_moscow = data.query('city == \"Москва\"')['income_for_user']\n",
    "sample_others = data.query('city != \"Москва\"')['income_for_user']"
   ]
  },
  {
   "cell_type": "markdown",
   "metadata": {},
   "source": [
    "Формулируем гипотезу следующих образом:\n",
    "\n",
    "Н0 : μх = μy\n",
    "\n",
    "Н1 : μх ≠ μy\n",
    "\n",
    "т.е:\n",
    "\n",
    "Н0 : средняя выручка пользователей из Москвы совпадает с ср. выручкой пользователей ост. городов\n",
    "\n",
    "Н1 : средняя выручка пользователей из Москвы не совпадает с ср. выручкой пользователей ост. городов\n",
    "\n",
    "Для проверки будем использовать ttest_ind, ибо выборки независимы, а дисперсии не равны (ввиду разного размера выборок). "
   ]
  },
  {
   "cell_type": "code",
   "execution_count": 90,
   "metadata": {},
   "outputs": [
    {
     "name": "stdout",
     "output_type": "stream",
     "text": [
      "p-значение: 0.5216952110000279\n",
      "Не получилось отвергнуть нулевую гипотезу\n"
     ]
    }
   ],
   "source": [
    "alpha = .05 # критический уровень статистической значимости\n",
    "# если p-value окажется меньше него - отвергнем гипотезу\n",
    "\n",
    "results = st.ttest_ind(\n",
    "    sample_moscow, \n",
    "    sample_others,\n",
    "    equal_var = False)\n",
    "\n",
    "print('p-значение:', results.pvalue)\n",
    "\n",
    "if results.pvalue < alpha:\n",
    "    print(\"Отвергаем нулевую гипотезу\")\n",
    "else:\n",
    "    print(\"Не получилось отвергнуть нулевую гипотезу\")"
   ]
  },
  {
   "cell_type": "code",
   "execution_count": 91,
   "metadata": {},
   "outputs": [
    {
     "name": "stdout",
     "output_type": "stream",
     "text": [
      "p-значение: 0.1912450522572209\n",
      "Не получилось отвергнуть нулевую гипотезу\n"
     ]
    }
   ],
   "source": [
    "# Приведены два датасета: сумма покупок, совершённых за месяц посетителями ...\n",
    "\n",
    "sample_1 = [3071, 3636, 3454, 3151, 2185, 3259, 1727, 2263, 2015,\n",
    "2582, 4815, 633, 3186, 887, 2028, 3589, 2564, 1422, 1785,\n",
    "3180, 1770, 2716, 2546, 1848, 4644, 3134, 475, 2686,\n",
    "1838, 3352]\n",
    "sample_2 = [1211, 1228, 2157, 3699, 600, 1898, 1688, 1420, 5048, 3007,\n",
    "509, 3777, 5583, 3949, 121, 1674, 4300, 1338, 3066,\n",
    "3562, 1010, 2311, 462, 863, 2021, 528, 1849, 255,\n",
    "1740, 2596]\n",
    "alpha = .05 # критический уровень статистической значимости\n",
    "# если p-value окажется меньше него - отвергнем гипотезу\n",
    "results = st.ttest_ind(\n",
    "sample_1,\n",
    "sample_2)\n",
    "print('p-значение:', results.pvalue)\n",
    "if (results.pvalue < alpha):\n",
    "    print(\"Отвергаем нулевую гипотезу\")\n",
    "else:\n",
    "\n",
    "    print(\"Не получилось отвергнуть нулевую гипотезу\")"
   ]
  },
  {
   "cell_type": "markdown",
   "metadata": {},
   "source": [
    "Получается, что Н0 не отвергается: средняя выручка пользователей из Москвы может совпадать с ср. выручкой пользователей ост. городов"
   ]
  },
  {
   "cell_type": "markdown",
   "metadata": {},
   "source": [
    "##  Выводы"
   ]
  },
  {
   "cell_type": "markdown",
   "metadata": {},
   "source": [
    "**Обзор данных**:\n",
    "   - Данные о квартирах получили из 5 файлов.\n",
    "   - Предварительно качество данных было относительно хорошим: присутствовали переменные с неправильными типами, были пропуски.\n",
    "   - Сами данные представляли из себя сводку параметров использования трафика.\n",
    "\n",
    "\n",
    "**Предобработка**:\n",
    "   - Заполнили пропуски и обработали значения, изменив тип данных.\n",
    "   - Проверили данные на аномальность и дубликаты - ни того, ни того не обнаружилось.\n",
    "   - Кроме того, объединили таблицы, где возможно, чтобы упростить работу с данными.\n",
    "\n",
    "**Анализ**:\n",
    "   - Цель исследования была выполнена: узнали какой тариф принес больше денег - \"Ультра\":\n",
    "        - прибыль по многим исследованиям в тарифе \"Ультра\" выше, чем в тарифе \"Смарт\"\n",
    "   - Сделали валидацию результатов по средствам таблиц и стат. данных.\n",
    "   - Изучили поведения клиентов (включая показатели выручки) и сделали следующие наблюдения:\n",
    "       - Выручка на одного пользователя по тарифу \"Ультра\" превышает тариф \"Смарт\" в 1,5 раза\n",
    "       - Клиентной базы у тарифа \"Смарт\" больше: 70% от всего числа пользователей\n",
    "       - Москва лидирует в количестве пользователей в обоих тарифах\n",
    "       - В Москве используется интрнет-сессии. в среднем больше, чем в других регионах\n",
    "       - Больше всего выручки компании приносят следующие возраст. группы:\n",
    "               - Молодежь (около 1,72к в мес.)\n",
    "               - Средний возраст (около 1,75к в мес.)\n",
    "       - Пожилые люди больше ост. категорий используют звонки и смс, молодежь же меньше всего пользуется минутами\n",
    "       - Тариф \"Ультра\" в среднем по всем возрастам по доходу превышает тариф \"Смарт\"\n",
    "       - Тариф \"Ультра\" теряет больше клиентов в процентном соотношении (10% от всех пользователей тариффа)\n",
    "       - \"Быстрые\" города по оттоку по тарифам: Волжский (\"Ультра\") и Хабаровск (\"Смарт\")\n",
    "       - От \"Смарта\" в среднем реже отказывались люди среднего возраста, а быстрее - молодежь. В тарифе \"Ультра\" наоборот: пожилой возраст дольше использовал услуги компании, а быстро отказывались от них люди среднего возраста\n",
    "   - Проверили гипотезы:\n",
    "       - средняя выручка пользователей тарифов «Ультра» и «Смарт» различаются\n",
    "       - средняя выручка пользователей из Москвы не отличается от выручки пользователей из других регионов\n",
    "       \n",
    "\n"
   ]
  }
 ],
 "metadata": {
  "ExecuteTimeLog": [
   {
    "duration": 432,
    "start_time": "2022-06-08T09:37:47.266Z"
   },
   {
    "duration": 4,
    "start_time": "2022-06-08T09:38:20.848Z"
   },
   {
    "duration": 1038,
    "start_time": "2022-06-08T09:39:28.231Z"
   },
   {
    "duration": 13,
    "start_time": "2022-06-08T09:40:05.487Z"
   },
   {
    "duration": 11,
    "start_time": "2022-06-08T09:40:22.460Z"
   },
   {
    "duration": 6,
    "start_time": "2022-06-08T09:40:31.510Z"
   },
   {
    "duration": 8,
    "start_time": "2022-06-08T09:40:41.192Z"
   },
   {
    "duration": 10,
    "start_time": "2022-06-08T09:40:52.442Z"
   },
   {
    "duration": 21,
    "start_time": "2022-06-08T09:42:15.343Z"
   },
   {
    "duration": 17,
    "start_time": "2022-06-08T09:42:15.660Z"
   },
   {
    "duration": 15,
    "start_time": "2022-06-08T09:42:16.131Z"
   },
   {
    "duration": 9,
    "start_time": "2022-06-08T09:42:17.409Z"
   },
   {
    "duration": 10,
    "start_time": "2022-06-08T09:42:17.829Z"
   },
   {
    "duration": 64,
    "start_time": "2022-06-09T19:06:07.999Z"
   },
   {
    "duration": 397,
    "start_time": "2022-06-09T19:06:17.979Z"
   },
   {
    "duration": 1165,
    "start_time": "2022-06-09T19:06:18.377Z"
   },
   {
    "duration": 30,
    "start_time": "2022-06-09T19:06:19.544Z"
   },
   {
    "duration": 38,
    "start_time": "2022-06-09T19:06:19.577Z"
   },
   {
    "duration": 12,
    "start_time": "2022-06-09T19:06:19.618Z"
   },
   {
    "duration": 17,
    "start_time": "2022-06-09T19:06:19.632Z"
   },
   {
    "duration": 26,
    "start_time": "2022-06-09T19:06:19.652Z"
   },
   {
    "duration": 67,
    "start_time": "2022-06-09T19:06:19.687Z"
   },
   {
    "duration": 40,
    "start_time": "2022-06-09T19:06:19.756Z"
   },
   {
    "duration": 52,
    "start_time": "2022-06-09T19:06:19.801Z"
   },
   {
    "duration": 22,
    "start_time": "2022-06-09T19:06:19.855Z"
   },
   {
    "duration": 42,
    "start_time": "2022-06-09T19:06:19.878Z"
   },
   {
    "duration": 173,
    "start_time": "2022-06-09T19:06:19.921Z"
   },
   {
    "duration": 3,
    "start_time": "2022-06-09T19:08:07.799Z"
   },
   {
    "duration": 229,
    "start_time": "2022-06-09T19:08:59.743Z"
   },
   {
    "duration": 391,
    "start_time": "2022-06-09T19:09:29.834Z"
   },
   {
    "duration": 468,
    "start_time": "2022-06-09T19:09:30.227Z"
   },
   {
    "duration": 18,
    "start_time": "2022-06-09T19:09:30.697Z"
   },
   {
    "duration": 8,
    "start_time": "2022-06-09T19:09:30.717Z"
   },
   {
    "duration": 18,
    "start_time": "2022-06-09T19:09:30.728Z"
   },
   {
    "duration": 52,
    "start_time": "2022-06-09T19:09:30.748Z"
   },
   {
    "duration": 15,
    "start_time": "2022-06-09T19:09:30.802Z"
   },
   {
    "duration": 99,
    "start_time": "2022-06-09T19:09:30.819Z"
   },
   {
    "duration": 27,
    "start_time": "2022-06-09T19:09:30.920Z"
   },
   {
    "duration": 51,
    "start_time": "2022-06-09T19:09:30.948Z"
   },
   {
    "duration": 43,
    "start_time": "2022-06-09T19:09:31.001Z"
   },
   {
    "duration": 71,
    "start_time": "2022-06-09T19:09:31.045Z"
   },
   {
    "duration": 134,
    "start_time": "2022-06-09T19:09:31.117Z"
   },
   {
    "duration": 2,
    "start_time": "2022-06-09T19:09:31.254Z"
   },
   {
    "duration": 139,
    "start_time": "2022-06-09T19:09:31.259Z"
   },
   {
    "duration": 78,
    "start_time": "2022-06-09T19:17:17.421Z"
   },
   {
    "duration": 6,
    "start_time": "2022-06-09T19:17:46.837Z"
   },
   {
    "duration": 57,
    "start_time": "2022-06-09T19:22:48.989Z"
   },
   {
    "duration": 5,
    "start_time": "2022-06-09T19:22:49.841Z"
   },
   {
    "duration": 21,
    "start_time": "2022-06-09T19:22:50.425Z"
   },
   {
    "duration": 8,
    "start_time": "2022-06-09T19:23:08.532Z"
   },
   {
    "duration": 2,
    "start_time": "2022-06-09T19:24:00.508Z"
   },
   {
    "duration": 10,
    "start_time": "2022-06-09T19:24:01.053Z"
   },
   {
    "duration": 3,
    "start_time": "2022-06-09T19:25:09.950Z"
   },
   {
    "duration": 78,
    "start_time": "2022-06-09T19:25:12.603Z"
   },
   {
    "duration": 26,
    "start_time": "2022-06-09T19:25:13.044Z"
   },
   {
    "duration": 419,
    "start_time": "2022-06-09T19:25:22.074Z"
   },
   {
    "duration": 411,
    "start_time": "2022-06-09T19:25:22.495Z"
   },
   {
    "duration": 20,
    "start_time": "2022-06-09T19:25:22.908Z"
   },
   {
    "duration": 12,
    "start_time": "2022-06-09T19:25:22.930Z"
   },
   {
    "duration": 21,
    "start_time": "2022-06-09T19:25:22.945Z"
   },
   {
    "duration": 17,
    "start_time": "2022-06-09T19:25:22.968Z"
   },
   {
    "duration": 41,
    "start_time": "2022-06-09T19:25:22.987Z"
   },
   {
    "duration": 44,
    "start_time": "2022-06-09T19:25:23.030Z"
   },
   {
    "duration": 25,
    "start_time": "2022-06-09T19:25:23.080Z"
   },
   {
    "duration": 16,
    "start_time": "2022-06-09T19:25:23.107Z"
   },
   {
    "duration": 11,
    "start_time": "2022-06-09T19:25:23.125Z"
   },
   {
    "duration": 33,
    "start_time": "2022-06-09T19:25:23.138Z"
   },
   {
    "duration": 121,
    "start_time": "2022-06-09T19:25:23.173Z"
   },
   {
    "duration": 3,
    "start_time": "2022-06-09T19:25:23.296Z"
   },
   {
    "duration": 92,
    "start_time": "2022-06-09T19:25:23.300Z"
   },
   {
    "duration": 54,
    "start_time": "2022-06-09T19:25:23.394Z"
   },
   {
    "duration": 2,
    "start_time": "2022-06-09T19:25:23.450Z"
   },
   {
    "duration": 22,
    "start_time": "2022-06-09T19:25:23.460Z"
   },
   {
    "duration": 69,
    "start_time": "2022-06-09T19:25:23.484Z"
   },
   {
    "duration": 0,
    "start_time": "2022-06-09T19:25:23.554Z"
   },
   {
    "duration": 0,
    "start_time": "2022-06-09T19:25:23.556Z"
   },
   {
    "duration": 9,
    "start_time": "2022-06-09T19:25:37.059Z"
   },
   {
    "duration": 5,
    "start_time": "2022-06-09T19:25:50.909Z"
   },
   {
    "duration": 2,
    "start_time": "2022-06-09T19:25:56.723Z"
   },
   {
    "duration": 13,
    "start_time": "2022-06-09T19:25:59.679Z"
   },
   {
    "duration": 9,
    "start_time": "2022-06-09T19:26:06.591Z"
   },
   {
    "duration": 21,
    "start_time": "2022-06-09T19:35:06.430Z"
   },
   {
    "duration": 9,
    "start_time": "2022-06-09T19:35:17.639Z"
   },
   {
    "duration": 5,
    "start_time": "2022-06-09T19:37:39.508Z"
   },
   {
    "duration": 3,
    "start_time": "2022-06-09T19:37:40.327Z"
   },
   {
    "duration": 8,
    "start_time": "2022-06-09T19:37:41.019Z"
   },
   {
    "duration": 382,
    "start_time": "2022-06-09T19:37:48.805Z"
   },
   {
    "duration": 427,
    "start_time": "2022-06-09T19:37:49.190Z"
   },
   {
    "duration": 13,
    "start_time": "2022-06-09T19:37:49.619Z"
   },
   {
    "duration": 15,
    "start_time": "2022-06-09T19:37:49.634Z"
   },
   {
    "duration": 45,
    "start_time": "2022-06-09T19:37:49.651Z"
   },
   {
    "duration": 18,
    "start_time": "2022-06-09T19:37:49.698Z"
   },
   {
    "duration": 15,
    "start_time": "2022-06-09T19:37:49.717Z"
   },
   {
    "duration": 44,
    "start_time": "2022-06-09T19:37:49.734Z"
   },
   {
    "duration": 25,
    "start_time": "2022-06-09T19:37:49.779Z"
   },
   {
    "duration": 16,
    "start_time": "2022-06-09T19:37:49.805Z"
   },
   {
    "duration": 10,
    "start_time": "2022-06-09T19:37:49.823Z"
   },
   {
    "duration": 29,
    "start_time": "2022-06-09T19:37:49.835Z"
   },
   {
    "duration": 160,
    "start_time": "2022-06-09T19:37:49.868Z"
   },
   {
    "duration": 2,
    "start_time": "2022-06-09T19:37:50.031Z"
   },
   {
    "duration": 110,
    "start_time": "2022-06-09T19:37:50.035Z"
   },
   {
    "duration": 70,
    "start_time": "2022-06-09T19:37:50.147Z"
   },
   {
    "duration": 4,
    "start_time": "2022-06-09T19:37:50.219Z"
   },
   {
    "duration": 15,
    "start_time": "2022-06-09T19:37:50.225Z"
   },
   {
    "duration": 14,
    "start_time": "2022-06-09T19:37:50.242Z"
   },
   {
    "duration": 35,
    "start_time": "2022-06-09T19:37:50.263Z"
   },
   {
    "duration": 21,
    "start_time": "2022-06-09T19:37:50.299Z"
   },
   {
    "duration": 23,
    "start_time": "2022-06-09T19:37:50.322Z"
   },
   {
    "duration": 5,
    "start_time": "2022-06-09T19:37:50.346Z"
   },
   {
    "duration": 34,
    "start_time": "2022-06-09T19:37:50.352Z"
   },
   {
    "duration": 9,
    "start_time": "2022-06-09T19:37:50.388Z"
   },
   {
    "duration": 11,
    "start_time": "2022-06-09T19:40:04.107Z"
   },
   {
    "duration": 4,
    "start_time": "2022-06-09T19:44:33.605Z"
   },
   {
    "duration": 8,
    "start_time": "2022-06-09T19:44:34.207Z"
   },
   {
    "duration": 428,
    "start_time": "2022-06-09T19:45:37.686Z"
   },
   {
    "duration": 424,
    "start_time": "2022-06-09T19:45:38.116Z"
   },
   {
    "duration": 15,
    "start_time": "2022-06-09T19:45:38.542Z"
   },
   {
    "duration": 41,
    "start_time": "2022-06-09T19:45:38.558Z"
   },
   {
    "duration": 10,
    "start_time": "2022-06-09T19:45:38.601Z"
   },
   {
    "duration": 11,
    "start_time": "2022-06-09T19:45:38.612Z"
   },
   {
    "duration": 15,
    "start_time": "2022-06-09T19:45:38.624Z"
   },
   {
    "duration": 37,
    "start_time": "2022-06-09T19:45:38.641Z"
   },
   {
    "duration": 20,
    "start_time": "2022-06-09T19:45:38.684Z"
   },
   {
    "duration": 18,
    "start_time": "2022-06-09T19:45:38.706Z"
   },
   {
    "duration": 12,
    "start_time": "2022-06-09T19:45:38.725Z"
   },
   {
    "duration": 34,
    "start_time": "2022-06-09T19:45:38.739Z"
   },
   {
    "duration": 140,
    "start_time": "2022-06-09T19:45:38.777Z"
   },
   {
    "duration": 2,
    "start_time": "2022-06-09T19:45:38.920Z"
   },
   {
    "duration": 100,
    "start_time": "2022-06-09T19:45:38.924Z"
   },
   {
    "duration": 73,
    "start_time": "2022-06-09T19:45:39.026Z"
   },
   {
    "duration": 2,
    "start_time": "2022-06-09T19:45:39.101Z"
   },
   {
    "duration": 11,
    "start_time": "2022-06-09T19:45:39.105Z"
   },
   {
    "duration": 13,
    "start_time": "2022-06-09T19:45:39.118Z"
   },
   {
    "duration": 6,
    "start_time": "2022-06-09T19:45:39.134Z"
   },
   {
    "duration": 29,
    "start_time": "2022-06-09T19:45:39.142Z"
   },
   {
    "duration": 39,
    "start_time": "2022-06-09T19:45:39.175Z"
   },
   {
    "duration": 79,
    "start_time": "2022-06-09T19:45:39.216Z"
   },
   {
    "duration": 0,
    "start_time": "2022-06-09T19:45:39.297Z"
   },
   {
    "duration": 0,
    "start_time": "2022-06-09T19:45:39.298Z"
   },
   {
    "duration": 1,
    "start_time": "2022-06-09T19:45:39.299Z"
   },
   {
    "duration": 16,
    "start_time": "2022-06-09T19:45:56.549Z"
   },
   {
    "duration": 4,
    "start_time": "2022-06-09T19:47:57.818Z"
   },
   {
    "duration": 10,
    "start_time": "2022-06-09T19:47:59.039Z"
   },
   {
    "duration": 429,
    "start_time": "2022-06-09T19:48:13.748Z"
   },
   {
    "duration": 453,
    "start_time": "2022-06-09T19:48:14.179Z"
   },
   {
    "duration": 14,
    "start_time": "2022-06-09T19:48:14.634Z"
   },
   {
    "duration": 9,
    "start_time": "2022-06-09T19:48:14.650Z"
   },
   {
    "duration": 15,
    "start_time": "2022-06-09T19:48:14.669Z"
   },
   {
    "duration": 12,
    "start_time": "2022-06-09T19:48:14.686Z"
   },
   {
    "duration": 12,
    "start_time": "2022-06-09T19:48:14.700Z"
   },
   {
    "duration": 37,
    "start_time": "2022-06-09T19:48:14.714Z"
   },
   {
    "duration": 32,
    "start_time": "2022-06-09T19:48:14.753Z"
   },
   {
    "duration": 39,
    "start_time": "2022-06-09T19:48:14.787Z"
   },
   {
    "duration": 13,
    "start_time": "2022-06-09T19:48:14.827Z"
   },
   {
    "duration": 28,
    "start_time": "2022-06-09T19:48:14.842Z"
   },
   {
    "duration": 176,
    "start_time": "2022-06-09T19:48:14.871Z"
   },
   {
    "duration": 14,
    "start_time": "2022-06-09T19:48:15.050Z"
   },
   {
    "duration": 84,
    "start_time": "2022-06-09T19:48:15.067Z"
   },
   {
    "duration": 69,
    "start_time": "2022-06-09T19:48:15.153Z"
   },
   {
    "duration": 3,
    "start_time": "2022-06-09T19:48:15.224Z"
   },
   {
    "duration": 11,
    "start_time": "2022-06-09T19:48:15.229Z"
   },
   {
    "duration": 24,
    "start_time": "2022-06-09T19:48:15.241Z"
   },
   {
    "duration": 6,
    "start_time": "2022-06-09T19:48:15.267Z"
   },
   {
    "duration": 7,
    "start_time": "2022-06-09T19:48:15.274Z"
   },
   {
    "duration": 18,
    "start_time": "2022-06-09T19:48:15.283Z"
   },
   {
    "duration": 4,
    "start_time": "2022-06-09T19:48:15.303Z"
   },
   {
    "duration": 18,
    "start_time": "2022-06-09T19:48:15.309Z"
   },
   {
    "duration": 9,
    "start_time": "2022-06-09T19:48:15.328Z"
   },
   {
    "duration": 19,
    "start_time": "2022-06-09T19:48:15.339Z"
   },
   {
    "duration": 23,
    "start_time": "2022-06-09T19:48:15.360Z"
   },
   {
    "duration": 14,
    "start_time": "2022-06-09T19:48:15.385Z"
   },
   {
    "duration": 6,
    "start_time": "2022-06-09T19:49:07.407Z"
   },
   {
    "duration": 13,
    "start_time": "2022-06-09T19:49:08.008Z"
   },
   {
    "duration": 4,
    "start_time": "2022-06-09T19:49:14.380Z"
   },
   {
    "duration": 3,
    "start_time": "2022-06-09T19:49:14.910Z"
   },
   {
    "duration": 5,
    "start_time": "2022-06-09T19:49:15.376Z"
   },
   {
    "duration": 10,
    "start_time": "2022-06-09T19:49:15.943Z"
   },
   {
    "duration": 45,
    "start_time": "2022-06-09T19:50:40.488Z"
   },
   {
    "duration": 485,
    "start_time": "2022-06-09T19:50:47.162Z"
   },
   {
    "duration": 459,
    "start_time": "2022-06-09T19:50:47.649Z"
   },
   {
    "duration": 18,
    "start_time": "2022-06-09T19:50:48.110Z"
   },
   {
    "duration": 11,
    "start_time": "2022-06-09T19:50:48.130Z"
   },
   {
    "duration": 21,
    "start_time": "2022-06-09T19:50:48.143Z"
   },
   {
    "duration": 27,
    "start_time": "2022-06-09T19:50:48.165Z"
   },
   {
    "duration": 12,
    "start_time": "2022-06-09T19:50:48.194Z"
   },
   {
    "duration": 47,
    "start_time": "2022-06-09T19:50:48.208Z"
   },
   {
    "duration": 35,
    "start_time": "2022-06-09T19:50:48.258Z"
   },
   {
    "duration": 20,
    "start_time": "2022-06-09T19:50:48.295Z"
   },
   {
    "duration": 10,
    "start_time": "2022-06-09T19:50:48.316Z"
   },
   {
    "duration": 42,
    "start_time": "2022-06-09T19:50:48.328Z"
   },
   {
    "duration": 138,
    "start_time": "2022-06-09T19:50:48.372Z"
   },
   {
    "duration": 4,
    "start_time": "2022-06-09T19:50:48.512Z"
   },
   {
    "duration": 104,
    "start_time": "2022-06-09T19:50:48.518Z"
   },
   {
    "duration": 75,
    "start_time": "2022-06-09T19:50:48.624Z"
   },
   {
    "duration": 3,
    "start_time": "2022-06-09T19:50:48.700Z"
   },
   {
    "duration": 12,
    "start_time": "2022-06-09T19:50:48.705Z"
   },
   {
    "duration": 12,
    "start_time": "2022-06-09T19:50:48.718Z"
   },
   {
    "duration": 9,
    "start_time": "2022-06-09T19:50:48.732Z"
   },
   {
    "duration": 19,
    "start_time": "2022-06-09T19:50:48.742Z"
   },
   {
    "duration": 36,
    "start_time": "2022-06-09T19:50:48.766Z"
   },
   {
    "duration": 13,
    "start_time": "2022-06-09T19:50:48.804Z"
   },
   {
    "duration": 7,
    "start_time": "2022-06-09T19:50:48.819Z"
   },
   {
    "duration": 7,
    "start_time": "2022-06-09T19:50:48.828Z"
   },
   {
    "duration": 7,
    "start_time": "2022-06-09T19:50:48.837Z"
   },
   {
    "duration": 15,
    "start_time": "2022-06-09T19:50:48.846Z"
   },
   {
    "duration": 8,
    "start_time": "2022-06-09T19:50:48.870Z"
   },
   {
    "duration": 19,
    "start_time": "2022-06-09T19:50:48.880Z"
   },
   {
    "duration": 5,
    "start_time": "2022-06-09T19:58:36.605Z"
   },
   {
    "duration": 74,
    "start_time": "2022-06-09T20:05:59.535Z"
   },
   {
    "duration": 10,
    "start_time": "2022-06-09T20:06:04.593Z"
   },
   {
    "duration": 9,
    "start_time": "2022-06-09T20:06:18.940Z"
   },
   {
    "duration": 4,
    "start_time": "2022-06-09T20:06:28.578Z"
   },
   {
    "duration": 21,
    "start_time": "2022-06-09T20:06:37.201Z"
   },
   {
    "duration": 17,
    "start_time": "2022-06-09T20:09:04.437Z"
   },
   {
    "duration": 417,
    "start_time": "2022-06-09T20:09:16.887Z"
   },
   {
    "duration": 521,
    "start_time": "2022-06-09T20:09:17.307Z"
   },
   {
    "duration": 14,
    "start_time": "2022-06-09T20:09:17.830Z"
   },
   {
    "duration": 7,
    "start_time": "2022-06-09T20:09:17.846Z"
   },
   {
    "duration": 41,
    "start_time": "2022-06-09T20:09:17.855Z"
   },
   {
    "duration": 10,
    "start_time": "2022-06-09T20:09:17.897Z"
   },
   {
    "duration": 10,
    "start_time": "2022-06-09T20:09:17.909Z"
   },
   {
    "duration": 27,
    "start_time": "2022-06-09T20:09:17.920Z"
   },
   {
    "duration": 28,
    "start_time": "2022-06-09T20:09:17.949Z"
   },
   {
    "duration": 32,
    "start_time": "2022-06-09T20:09:17.979Z"
   },
   {
    "duration": 11,
    "start_time": "2022-06-09T20:09:18.012Z"
   },
   {
    "duration": 13,
    "start_time": "2022-06-09T20:09:18.025Z"
   },
   {
    "duration": 138,
    "start_time": "2022-06-09T20:09:18.040Z"
   },
   {
    "duration": 3,
    "start_time": "2022-06-09T20:09:18.184Z"
   },
   {
    "duration": 109,
    "start_time": "2022-06-09T20:09:18.188Z"
   },
   {
    "duration": 89,
    "start_time": "2022-06-09T20:09:18.299Z"
   },
   {
    "duration": 3,
    "start_time": "2022-06-09T20:09:18.395Z"
   },
   {
    "duration": 13,
    "start_time": "2022-06-09T20:09:18.400Z"
   },
   {
    "duration": 13,
    "start_time": "2022-06-09T20:09:18.415Z"
   },
   {
    "duration": 12,
    "start_time": "2022-06-09T20:09:18.429Z"
   },
   {
    "duration": 6,
    "start_time": "2022-06-09T20:09:18.443Z"
   },
   {
    "duration": 24,
    "start_time": "2022-06-09T20:09:18.451Z"
   },
   {
    "duration": 25,
    "start_time": "2022-06-09T20:09:18.479Z"
   },
   {
    "duration": 12,
    "start_time": "2022-06-09T20:09:18.506Z"
   },
   {
    "duration": 7,
    "start_time": "2022-06-09T20:09:18.520Z"
   },
   {
    "duration": 8,
    "start_time": "2022-06-09T20:09:18.529Z"
   },
   {
    "duration": 8,
    "start_time": "2022-06-09T20:09:18.538Z"
   },
   {
    "duration": 18,
    "start_time": "2022-06-09T20:09:18.548Z"
   },
   {
    "duration": 30,
    "start_time": "2022-06-09T20:09:18.571Z"
   },
   {
    "duration": 9,
    "start_time": "2022-06-09T20:09:18.603Z"
   },
   {
    "duration": 11,
    "start_time": "2022-06-09T20:09:28.088Z"
   },
   {
    "duration": 82,
    "start_time": "2022-06-09T20:10:10.731Z"
   },
   {
    "duration": 409,
    "start_time": "2022-06-09T20:10:31.491Z"
   },
   {
    "duration": 493,
    "start_time": "2022-06-09T20:10:31.906Z"
   },
   {
    "duration": 14,
    "start_time": "2022-06-09T20:10:32.401Z"
   },
   {
    "duration": 10,
    "start_time": "2022-06-09T20:10:32.416Z"
   },
   {
    "duration": 9,
    "start_time": "2022-06-09T20:10:32.429Z"
   },
   {
    "duration": 15,
    "start_time": "2022-06-09T20:10:32.439Z"
   },
   {
    "duration": 27,
    "start_time": "2022-06-09T20:10:32.456Z"
   },
   {
    "duration": 34,
    "start_time": "2022-06-09T20:10:32.487Z"
   },
   {
    "duration": 20,
    "start_time": "2022-06-09T20:10:32.523Z"
   },
   {
    "duration": 29,
    "start_time": "2022-06-09T20:10:32.545Z"
   },
   {
    "duration": 22,
    "start_time": "2022-06-09T20:10:32.577Z"
   },
   {
    "duration": 15,
    "start_time": "2022-06-09T20:10:32.601Z"
   },
   {
    "duration": 141,
    "start_time": "2022-06-09T20:10:32.618Z"
   },
   {
    "duration": 17,
    "start_time": "2022-06-09T20:10:32.764Z"
   },
   {
    "duration": 122,
    "start_time": "2022-06-09T20:10:32.784Z"
   },
   {
    "duration": 81,
    "start_time": "2022-06-09T20:10:32.908Z"
   },
   {
    "duration": 5,
    "start_time": "2022-06-09T20:10:32.992Z"
   },
   {
    "duration": 31,
    "start_time": "2022-06-09T20:10:32.999Z"
   },
   {
    "duration": 11,
    "start_time": "2022-06-09T20:10:33.032Z"
   },
   {
    "duration": 9,
    "start_time": "2022-06-09T20:10:33.045Z"
   },
   {
    "duration": 31,
    "start_time": "2022-06-09T20:10:33.056Z"
   },
   {
    "duration": 30,
    "start_time": "2022-06-09T20:10:33.092Z"
   },
   {
    "duration": 16,
    "start_time": "2022-06-09T20:10:33.124Z"
   },
   {
    "duration": 8,
    "start_time": "2022-06-09T20:10:33.142Z"
   },
   {
    "duration": 6,
    "start_time": "2022-06-09T20:10:33.152Z"
   },
   {
    "duration": 38,
    "start_time": "2022-06-09T20:10:33.159Z"
   },
   {
    "duration": 6,
    "start_time": "2022-06-09T20:10:33.199Z"
   },
   {
    "duration": 8,
    "start_time": "2022-06-09T20:10:33.206Z"
   },
   {
    "duration": 9,
    "start_time": "2022-06-09T20:10:33.216Z"
   },
   {
    "duration": 89,
    "start_time": "2022-06-09T20:10:33.227Z"
   },
   {
    "duration": 0,
    "start_time": "2022-06-09T20:10:33.318Z"
   },
   {
    "duration": 7,
    "start_time": "2022-06-09T20:10:43.294Z"
   },
   {
    "duration": 11,
    "start_time": "2022-06-09T20:10:43.996Z"
   },
   {
    "duration": 16,
    "start_time": "2022-06-09T20:12:56.727Z"
   },
   {
    "duration": 435,
    "start_time": "2022-06-09T20:13:06.237Z"
   },
   {
    "duration": 445,
    "start_time": "2022-06-09T20:13:06.675Z"
   },
   {
    "duration": 14,
    "start_time": "2022-06-09T20:13:07.121Z"
   },
   {
    "duration": 9,
    "start_time": "2022-06-09T20:13:07.137Z"
   },
   {
    "duration": 8,
    "start_time": "2022-06-09T20:13:07.148Z"
   },
   {
    "duration": 36,
    "start_time": "2022-06-09T20:13:07.158Z"
   },
   {
    "duration": 34,
    "start_time": "2022-06-09T20:13:07.196Z"
   },
   {
    "duration": 49,
    "start_time": "2022-06-09T20:13:07.232Z"
   },
   {
    "duration": 26,
    "start_time": "2022-06-09T20:13:07.283Z"
   },
   {
    "duration": 25,
    "start_time": "2022-06-09T20:13:07.310Z"
   },
   {
    "duration": 27,
    "start_time": "2022-06-09T20:13:07.337Z"
   },
   {
    "duration": 29,
    "start_time": "2022-06-09T20:13:07.366Z"
   },
   {
    "duration": 148,
    "start_time": "2022-06-09T20:13:07.398Z"
   },
   {
    "duration": 3,
    "start_time": "2022-06-09T20:13:07.550Z"
   },
   {
    "duration": 115,
    "start_time": "2022-06-09T20:13:07.559Z"
   },
   {
    "duration": 67,
    "start_time": "2022-06-09T20:13:07.678Z"
   },
   {
    "duration": 72,
    "start_time": "2022-06-09T20:13:07.746Z"
   },
   {
    "duration": 107,
    "start_time": "2022-06-09T20:13:07.819Z"
   },
   {
    "duration": 148,
    "start_time": "2022-06-09T20:13:07.927Z"
   },
   {
    "duration": 69,
    "start_time": "2022-06-09T20:13:08.077Z"
   },
   {
    "duration": 74,
    "start_time": "2022-06-09T20:13:08.147Z"
   },
   {
    "duration": 110,
    "start_time": "2022-06-09T20:13:08.223Z"
   },
   {
    "duration": 35,
    "start_time": "2022-06-09T20:13:08.334Z"
   },
   {
    "duration": 86,
    "start_time": "2022-06-09T20:13:08.371Z"
   },
   {
    "duration": 30,
    "start_time": "2022-06-09T20:13:08.471Z"
   },
   {
    "duration": 93,
    "start_time": "2022-06-09T20:13:08.503Z"
   },
   {
    "duration": 89,
    "start_time": "2022-06-09T20:13:08.598Z"
   },
   {
    "duration": 59,
    "start_time": "2022-06-09T20:13:08.688Z"
   },
   {
    "duration": 124,
    "start_time": "2022-06-09T20:13:08.749Z"
   },
   {
    "duration": 108,
    "start_time": "2022-06-09T20:13:08.874Z"
   },
   {
    "duration": 88,
    "start_time": "2022-06-09T20:13:08.984Z"
   },
   {
    "duration": 105,
    "start_time": "2022-06-09T20:13:09.075Z"
   },
   {
    "duration": 71,
    "start_time": "2022-06-09T20:13:39.880Z"
   },
   {
    "duration": 389,
    "start_time": "2022-06-09T20:13:46.579Z"
   },
   {
    "duration": 441,
    "start_time": "2022-06-09T20:13:46.976Z"
   },
   {
    "duration": 19,
    "start_time": "2022-06-09T20:13:47.420Z"
   },
   {
    "duration": 16,
    "start_time": "2022-06-09T20:13:47.441Z"
   },
   {
    "duration": 28,
    "start_time": "2022-06-09T20:13:47.460Z"
   },
   {
    "duration": 20,
    "start_time": "2022-06-09T20:13:47.490Z"
   },
   {
    "duration": 17,
    "start_time": "2022-06-09T20:13:47.512Z"
   },
   {
    "duration": 39,
    "start_time": "2022-06-09T20:13:47.531Z"
   },
   {
    "duration": 32,
    "start_time": "2022-06-09T20:13:47.573Z"
   },
   {
    "duration": 37,
    "start_time": "2022-06-09T20:13:47.607Z"
   },
   {
    "duration": 36,
    "start_time": "2022-06-09T20:13:47.646Z"
   },
   {
    "duration": 16,
    "start_time": "2022-06-09T20:13:47.684Z"
   },
   {
    "duration": 144,
    "start_time": "2022-06-09T20:13:47.703Z"
   },
   {
    "duration": 2,
    "start_time": "2022-06-09T20:13:47.850Z"
   },
   {
    "duration": 106,
    "start_time": "2022-06-09T20:13:47.861Z"
   },
   {
    "duration": 60,
    "start_time": "2022-06-09T20:13:47.972Z"
   },
   {
    "duration": 3,
    "start_time": "2022-06-09T20:13:48.034Z"
   },
   {
    "duration": 9,
    "start_time": "2022-06-09T20:13:48.039Z"
   },
   {
    "duration": 20,
    "start_time": "2022-06-09T20:13:48.049Z"
   },
   {
    "duration": 8,
    "start_time": "2022-06-09T20:13:48.074Z"
   },
   {
    "duration": 8,
    "start_time": "2022-06-09T20:13:48.084Z"
   },
   {
    "duration": 20,
    "start_time": "2022-06-09T20:13:48.094Z"
   },
   {
    "duration": 10,
    "start_time": "2022-06-09T20:13:48.116Z"
   },
   {
    "duration": 7,
    "start_time": "2022-06-09T20:13:48.128Z"
   },
   {
    "duration": 10,
    "start_time": "2022-06-09T20:13:48.137Z"
   },
   {
    "duration": 13,
    "start_time": "2022-06-09T20:13:48.149Z"
   },
   {
    "duration": 10,
    "start_time": "2022-06-09T20:13:48.170Z"
   },
   {
    "duration": 24,
    "start_time": "2022-06-09T20:13:48.182Z"
   },
   {
    "duration": 16,
    "start_time": "2022-06-09T20:13:48.207Z"
   },
   {
    "duration": 13,
    "start_time": "2022-06-09T20:13:48.225Z"
   },
   {
    "duration": 11,
    "start_time": "2022-06-09T20:13:48.240Z"
   },
   {
    "duration": 19,
    "start_time": "2022-06-09T20:13:48.252Z"
   },
   {
    "duration": 422,
    "start_time": "2022-06-09T20:15:04.749Z"
   },
   {
    "duration": 431,
    "start_time": "2022-06-09T20:15:05.176Z"
   },
   {
    "duration": 15,
    "start_time": "2022-06-09T20:15:05.610Z"
   },
   {
    "duration": 7,
    "start_time": "2022-06-09T20:15:05.627Z"
   },
   {
    "duration": 15,
    "start_time": "2022-06-09T20:15:05.636Z"
   },
   {
    "duration": 34,
    "start_time": "2022-06-09T20:15:05.652Z"
   },
   {
    "duration": 11,
    "start_time": "2022-06-09T20:15:05.688Z"
   },
   {
    "duration": 34,
    "start_time": "2022-06-09T20:15:05.701Z"
   },
   {
    "duration": 19,
    "start_time": "2022-06-09T20:15:05.737Z"
   },
   {
    "duration": 26,
    "start_time": "2022-06-09T20:15:05.757Z"
   },
   {
    "duration": 11,
    "start_time": "2022-06-09T20:15:05.785Z"
   },
   {
    "duration": 9,
    "start_time": "2022-06-09T20:15:05.798Z"
   },
   {
    "duration": 182,
    "start_time": "2022-06-09T20:15:05.809Z"
   },
   {
    "duration": 3,
    "start_time": "2022-06-09T20:15:05.993Z"
   },
   {
    "duration": 95,
    "start_time": "2022-06-09T20:15:05.997Z"
   },
   {
    "duration": 77,
    "start_time": "2022-06-09T20:15:06.094Z"
   },
   {
    "duration": 3,
    "start_time": "2022-06-09T20:15:06.173Z"
   },
   {
    "duration": 32,
    "start_time": "2022-06-09T20:15:06.177Z"
   },
   {
    "duration": 9,
    "start_time": "2022-06-09T20:15:06.211Z"
   },
   {
    "duration": 8,
    "start_time": "2022-06-09T20:15:06.222Z"
   },
   {
    "duration": 14,
    "start_time": "2022-06-09T20:15:06.232Z"
   },
   {
    "duration": 47,
    "start_time": "2022-06-09T20:15:06.248Z"
   },
   {
    "duration": 12,
    "start_time": "2022-06-09T20:15:06.297Z"
   },
   {
    "duration": 8,
    "start_time": "2022-06-09T20:15:06.311Z"
   },
   {
    "duration": 9,
    "start_time": "2022-06-09T20:15:06.321Z"
   },
   {
    "duration": 15,
    "start_time": "2022-06-09T20:15:06.331Z"
   },
   {
    "duration": 15,
    "start_time": "2022-06-09T20:15:06.347Z"
   },
   {
    "duration": 13,
    "start_time": "2022-06-09T20:15:06.370Z"
   },
   {
    "duration": 11,
    "start_time": "2022-06-09T20:15:06.385Z"
   },
   {
    "duration": 12,
    "start_time": "2022-06-09T20:15:06.398Z"
   },
   {
    "duration": 21,
    "start_time": "2022-06-09T20:15:06.412Z"
   },
   {
    "duration": 15,
    "start_time": "2022-06-09T20:15:12.387Z"
   },
   {
    "duration": 433,
    "start_time": "2022-06-09T20:15:36.987Z"
   },
   {
    "duration": 525,
    "start_time": "2022-06-09T20:15:37.423Z"
   },
   {
    "duration": 26,
    "start_time": "2022-06-09T20:15:37.950Z"
   },
   {
    "duration": 20,
    "start_time": "2022-06-09T20:15:37.979Z"
   },
   {
    "duration": 8,
    "start_time": "2022-06-09T20:15:38.001Z"
   },
   {
    "duration": 13,
    "start_time": "2022-06-09T20:15:38.011Z"
   },
   {
    "duration": 18,
    "start_time": "2022-06-09T20:15:38.026Z"
   },
   {
    "duration": 51,
    "start_time": "2022-06-09T20:15:38.046Z"
   },
   {
    "duration": 21,
    "start_time": "2022-06-09T20:15:38.099Z"
   },
   {
    "duration": 17,
    "start_time": "2022-06-09T20:15:38.122Z"
   },
   {
    "duration": 39,
    "start_time": "2022-06-09T20:15:38.140Z"
   },
   {
    "duration": 19,
    "start_time": "2022-06-09T20:15:38.181Z"
   },
   {
    "duration": 145,
    "start_time": "2022-06-09T20:15:38.202Z"
   },
   {
    "duration": 7,
    "start_time": "2022-06-09T20:15:38.358Z"
   },
   {
    "duration": 160,
    "start_time": "2022-06-09T20:15:38.366Z"
   },
   {
    "duration": 95,
    "start_time": "2022-06-09T20:15:38.528Z"
   },
   {
    "duration": 3,
    "start_time": "2022-06-09T20:15:38.625Z"
   },
   {
    "duration": 11,
    "start_time": "2022-06-09T20:15:38.629Z"
   },
   {
    "duration": 30,
    "start_time": "2022-06-09T20:15:38.642Z"
   },
   {
    "duration": 16,
    "start_time": "2022-06-09T20:15:38.673Z"
   },
   {
    "duration": 3,
    "start_time": "2022-06-09T20:15:38.693Z"
   },
   {
    "duration": 20,
    "start_time": "2022-06-09T20:15:38.698Z"
   },
   {
    "duration": 13,
    "start_time": "2022-06-09T20:15:38.720Z"
   },
   {
    "duration": 7,
    "start_time": "2022-06-09T20:15:38.735Z"
   },
   {
    "duration": 10,
    "start_time": "2022-06-09T20:15:38.744Z"
   },
   {
    "duration": 30,
    "start_time": "2022-06-09T20:15:38.764Z"
   },
   {
    "duration": 10,
    "start_time": "2022-06-09T20:15:38.796Z"
   },
   {
    "duration": 11,
    "start_time": "2022-06-09T20:15:38.809Z"
   },
   {
    "duration": 14,
    "start_time": "2022-06-09T20:15:38.822Z"
   },
   {
    "duration": 7,
    "start_time": "2022-06-09T20:15:38.838Z"
   },
   {
    "duration": 17,
    "start_time": "2022-06-09T20:15:38.846Z"
   },
   {
    "duration": 353,
    "start_time": "2022-06-09T20:16:09.415Z"
   },
   {
    "duration": 481,
    "start_time": "2022-06-09T20:16:09.770Z"
   },
   {
    "duration": 22,
    "start_time": "2022-06-09T20:16:10.253Z"
   },
   {
    "duration": 23,
    "start_time": "2022-06-09T20:16:10.278Z"
   },
   {
    "duration": 14,
    "start_time": "2022-06-09T20:16:10.303Z"
   },
   {
    "duration": 11,
    "start_time": "2022-06-09T20:16:10.318Z"
   },
   {
    "duration": 14,
    "start_time": "2022-06-09T20:16:10.331Z"
   },
   {
    "duration": 47,
    "start_time": "2022-06-09T20:16:10.347Z"
   },
   {
    "duration": 34,
    "start_time": "2022-06-09T20:16:10.396Z"
   },
   {
    "duration": 49,
    "start_time": "2022-06-09T20:16:10.434Z"
   },
   {
    "duration": 15,
    "start_time": "2022-06-09T20:16:10.485Z"
   },
   {
    "duration": 18,
    "start_time": "2022-06-09T20:16:10.501Z"
   },
   {
    "duration": 129,
    "start_time": "2022-06-09T20:16:10.521Z"
   },
   {
    "duration": 3,
    "start_time": "2022-06-09T20:16:10.652Z"
   },
   {
    "duration": 121,
    "start_time": "2022-06-09T20:16:10.661Z"
   },
   {
    "duration": 65,
    "start_time": "2022-06-09T20:16:10.783Z"
   },
   {
    "duration": 4,
    "start_time": "2022-06-09T20:16:10.860Z"
   },
   {
    "duration": 11,
    "start_time": "2022-06-09T20:16:10.875Z"
   },
   {
    "duration": 10,
    "start_time": "2022-06-09T20:16:10.888Z"
   },
   {
    "duration": 9,
    "start_time": "2022-06-09T20:16:10.899Z"
   },
   {
    "duration": 13,
    "start_time": "2022-06-09T20:16:10.910Z"
   },
   {
    "duration": 19,
    "start_time": "2022-06-09T20:16:10.925Z"
   },
   {
    "duration": 10,
    "start_time": "2022-06-09T20:16:10.946Z"
   },
   {
    "duration": 20,
    "start_time": "2022-06-09T20:16:10.958Z"
   },
   {
    "duration": 8,
    "start_time": "2022-06-09T20:16:10.980Z"
   },
   {
    "duration": 9,
    "start_time": "2022-06-09T20:16:10.990Z"
   },
   {
    "duration": 7,
    "start_time": "2022-06-09T20:16:11.001Z"
   },
   {
    "duration": 7,
    "start_time": "2022-06-09T20:16:11.011Z"
   },
   {
    "duration": 14,
    "start_time": "2022-06-09T20:16:11.020Z"
   },
   {
    "duration": 8,
    "start_time": "2022-06-09T20:16:11.036Z"
   },
   {
    "duration": 52,
    "start_time": "2022-06-09T20:16:11.046Z"
   },
   {
    "duration": 51,
    "start_time": "2022-06-09T20:18:37.150Z"
   },
   {
    "duration": 79,
    "start_time": "2022-06-09T20:21:17.450Z"
   },
   {
    "duration": 481,
    "start_time": "2022-06-09T20:22:41.819Z"
   },
   {
    "duration": 438,
    "start_time": "2022-06-09T20:22:42.301Z"
   },
   {
    "duration": 15,
    "start_time": "2022-06-09T20:22:42.741Z"
   },
   {
    "duration": 33,
    "start_time": "2022-06-09T20:22:42.759Z"
   },
   {
    "duration": 10,
    "start_time": "2022-06-09T20:22:42.795Z"
   },
   {
    "duration": 11,
    "start_time": "2022-06-09T20:22:42.807Z"
   },
   {
    "duration": 13,
    "start_time": "2022-06-09T20:22:42.820Z"
   },
   {
    "duration": 35,
    "start_time": "2022-06-09T20:22:42.835Z"
   },
   {
    "duration": 30,
    "start_time": "2022-06-09T20:22:42.872Z"
   },
   {
    "duration": 18,
    "start_time": "2022-06-09T20:22:42.904Z"
   },
   {
    "duration": 13,
    "start_time": "2022-06-09T20:22:42.924Z"
   },
   {
    "duration": 37,
    "start_time": "2022-06-09T20:22:42.939Z"
   },
   {
    "duration": 175,
    "start_time": "2022-06-09T20:22:42.980Z"
   },
   {
    "duration": 13,
    "start_time": "2022-06-09T20:22:43.158Z"
   },
   {
    "duration": 99,
    "start_time": "2022-06-09T20:22:43.180Z"
   },
   {
    "duration": 65,
    "start_time": "2022-06-09T20:22:43.285Z"
   },
   {
    "duration": 19,
    "start_time": "2022-06-09T20:22:43.352Z"
   },
   {
    "duration": 26,
    "start_time": "2022-06-09T20:22:43.376Z"
   },
   {
    "duration": 10,
    "start_time": "2022-06-09T20:22:43.403Z"
   },
   {
    "duration": 15,
    "start_time": "2022-06-09T20:22:43.415Z"
   },
   {
    "duration": 9,
    "start_time": "2022-06-09T20:22:43.432Z"
   },
   {
    "duration": 31,
    "start_time": "2022-06-09T20:22:43.442Z"
   },
   {
    "duration": 16,
    "start_time": "2022-06-09T20:22:43.477Z"
   },
   {
    "duration": 7,
    "start_time": "2022-06-09T20:22:43.495Z"
   },
   {
    "duration": 7,
    "start_time": "2022-06-09T20:22:43.504Z"
   },
   {
    "duration": 10,
    "start_time": "2022-06-09T20:22:43.513Z"
   },
   {
    "duration": 5,
    "start_time": "2022-06-09T20:22:43.524Z"
   },
   {
    "duration": 8,
    "start_time": "2022-06-09T20:22:43.531Z"
   },
   {
    "duration": 10,
    "start_time": "2022-06-09T20:22:43.541Z"
   },
   {
    "duration": 8,
    "start_time": "2022-06-09T20:27:15.714Z"
   },
   {
    "duration": 10,
    "start_time": "2022-06-09T20:27:27.808Z"
   },
   {
    "duration": 11,
    "start_time": "2022-06-09T20:32:12.903Z"
   },
   {
    "duration": 412,
    "start_time": "2022-06-09T20:32:21.679Z"
   },
   {
    "duration": 497,
    "start_time": "2022-06-09T20:32:22.093Z"
   },
   {
    "duration": 17,
    "start_time": "2022-06-09T20:32:22.594Z"
   },
   {
    "duration": 12,
    "start_time": "2022-06-09T20:32:22.613Z"
   },
   {
    "duration": 17,
    "start_time": "2022-06-09T20:32:22.628Z"
   },
   {
    "duration": 31,
    "start_time": "2022-06-09T20:32:22.648Z"
   },
   {
    "duration": 25,
    "start_time": "2022-06-09T20:32:22.682Z"
   },
   {
    "duration": 30,
    "start_time": "2022-06-09T20:32:22.709Z"
   },
   {
    "duration": 45,
    "start_time": "2022-06-09T20:32:22.741Z"
   },
   {
    "duration": 17,
    "start_time": "2022-06-09T20:32:22.796Z"
   },
   {
    "duration": 10,
    "start_time": "2022-06-09T20:32:22.815Z"
   },
   {
    "duration": 14,
    "start_time": "2022-06-09T20:32:22.826Z"
   },
   {
    "duration": 163,
    "start_time": "2022-06-09T20:32:22.842Z"
   },
   {
    "duration": 4,
    "start_time": "2022-06-09T20:32:23.008Z"
   },
   {
    "duration": 121,
    "start_time": "2022-06-09T20:32:23.013Z"
   },
   {
    "duration": 74,
    "start_time": "2022-06-09T20:32:23.136Z"
   },
   {
    "duration": 3,
    "start_time": "2022-06-09T20:32:23.212Z"
   },
   {
    "duration": 15,
    "start_time": "2022-06-09T20:32:23.217Z"
   },
   {
    "duration": 13,
    "start_time": "2022-06-09T20:32:23.233Z"
   },
   {
    "duration": 50,
    "start_time": "2022-06-09T20:32:23.247Z"
   },
   {
    "duration": 12,
    "start_time": "2022-06-09T20:32:23.299Z"
   },
   {
    "duration": 9,
    "start_time": "2022-06-09T20:32:23.312Z"
   },
   {
    "duration": 16,
    "start_time": "2022-06-09T20:32:23.322Z"
   },
   {
    "duration": 9,
    "start_time": "2022-06-09T20:32:23.340Z"
   },
   {
    "duration": 4,
    "start_time": "2022-06-09T20:32:23.351Z"
   },
   {
    "duration": 35,
    "start_time": "2022-06-09T20:32:23.357Z"
   },
   {
    "duration": 7,
    "start_time": "2022-06-09T20:32:23.394Z"
   },
   {
    "duration": 5,
    "start_time": "2022-06-09T20:32:23.403Z"
   },
   {
    "duration": 7,
    "start_time": "2022-06-09T20:32:23.409Z"
   },
   {
    "duration": 10,
    "start_time": "2022-06-09T20:32:23.418Z"
   },
   {
    "duration": 11,
    "start_time": "2022-06-09T20:32:23.430Z"
   },
   {
    "duration": 14,
    "start_time": "2022-06-09T20:32:23.443Z"
   },
   {
    "duration": 371,
    "start_time": "2022-06-09T20:32:53.725Z"
   },
   {
    "duration": 414,
    "start_time": "2022-06-09T20:32:54.098Z"
   },
   {
    "duration": 14,
    "start_time": "2022-06-09T20:32:54.514Z"
   },
   {
    "duration": 20,
    "start_time": "2022-06-09T20:32:54.529Z"
   },
   {
    "duration": 26,
    "start_time": "2022-06-09T20:32:54.551Z"
   },
   {
    "duration": 18,
    "start_time": "2022-06-09T20:32:54.579Z"
   },
   {
    "duration": 15,
    "start_time": "2022-06-09T20:32:54.599Z"
   },
   {
    "duration": 31,
    "start_time": "2022-06-09T20:32:54.616Z"
   },
   {
    "duration": 28,
    "start_time": "2022-06-09T20:32:54.648Z"
   },
   {
    "duration": 27,
    "start_time": "2022-06-09T20:32:54.677Z"
   },
   {
    "duration": 19,
    "start_time": "2022-06-09T20:32:54.705Z"
   },
   {
    "duration": 16,
    "start_time": "2022-06-09T20:32:54.725Z"
   },
   {
    "duration": 147,
    "start_time": "2022-06-09T20:32:54.743Z"
   },
   {
    "duration": 3,
    "start_time": "2022-06-09T20:32:54.892Z"
   },
   {
    "duration": 95,
    "start_time": "2022-06-09T20:32:54.896Z"
   },
   {
    "duration": 78,
    "start_time": "2022-06-09T20:32:54.993Z"
   },
   {
    "duration": 2,
    "start_time": "2022-06-09T20:32:55.073Z"
   },
   {
    "duration": 12,
    "start_time": "2022-06-09T20:32:55.077Z"
   },
   {
    "duration": 19,
    "start_time": "2022-06-09T20:32:55.090Z"
   },
   {
    "duration": 15,
    "start_time": "2022-06-09T20:32:55.111Z"
   },
   {
    "duration": 8,
    "start_time": "2022-06-09T20:32:55.128Z"
   },
   {
    "duration": 15,
    "start_time": "2022-06-09T20:32:55.138Z"
   },
   {
    "duration": 30,
    "start_time": "2022-06-09T20:32:55.155Z"
   },
   {
    "duration": 9,
    "start_time": "2022-06-09T20:32:55.187Z"
   },
   {
    "duration": 4,
    "start_time": "2022-06-09T20:32:55.198Z"
   },
   {
    "duration": 7,
    "start_time": "2022-06-09T20:32:55.203Z"
   },
   {
    "duration": 7,
    "start_time": "2022-06-09T20:32:55.211Z"
   },
   {
    "duration": 8,
    "start_time": "2022-06-09T20:32:55.220Z"
   },
   {
    "duration": 7,
    "start_time": "2022-06-09T20:32:55.230Z"
   },
   {
    "duration": 11,
    "start_time": "2022-06-09T20:32:55.239Z"
   },
   {
    "duration": 20,
    "start_time": "2022-06-09T20:32:55.251Z"
   },
   {
    "duration": 13,
    "start_time": "2022-06-09T20:32:55.276Z"
   },
   {
    "duration": 10,
    "start_time": "2022-06-26T18:39:00.761Z"
   },
   {
    "duration": 392,
    "start_time": "2022-06-26T18:39:14.075Z"
   },
   {
    "duration": 350,
    "start_time": "2022-06-26T18:39:14.469Z"
   },
   {
    "duration": 14,
    "start_time": "2022-06-26T18:39:14.820Z"
   },
   {
    "duration": 40,
    "start_time": "2022-06-26T18:39:14.836Z"
   },
   {
    "duration": 27,
    "start_time": "2022-06-26T18:39:14.878Z"
   },
   {
    "duration": 30,
    "start_time": "2022-06-26T18:39:14.907Z"
   },
   {
    "duration": 33,
    "start_time": "2022-06-26T18:39:14.939Z"
   },
   {
    "duration": 46,
    "start_time": "2022-06-26T18:39:14.974Z"
   },
   {
    "duration": 32,
    "start_time": "2022-06-26T18:39:15.022Z"
   },
   {
    "duration": 15,
    "start_time": "2022-06-26T18:39:15.056Z"
   },
   {
    "duration": 22,
    "start_time": "2022-06-26T18:39:15.073Z"
   },
   {
    "duration": 41,
    "start_time": "2022-06-26T18:39:15.096Z"
   },
   {
    "duration": 122,
    "start_time": "2022-06-26T18:39:15.139Z"
   },
   {
    "duration": 3,
    "start_time": "2022-06-26T18:39:15.263Z"
   },
   {
    "duration": 136,
    "start_time": "2022-06-26T18:39:15.267Z"
   },
   {
    "duration": 76,
    "start_time": "2022-06-26T18:39:15.405Z"
   },
   {
    "duration": 10,
    "start_time": "2022-06-26T18:39:15.483Z"
   },
   {
    "duration": 62,
    "start_time": "2022-06-26T18:39:15.495Z"
   },
   {
    "duration": 31,
    "start_time": "2022-06-26T18:39:15.559Z"
   },
   {
    "duration": 35,
    "start_time": "2022-06-26T18:39:15.591Z"
   },
   {
    "duration": 40,
    "start_time": "2022-06-26T18:39:15.627Z"
   },
   {
    "duration": 51,
    "start_time": "2022-06-26T18:39:15.669Z"
   },
   {
    "duration": 37,
    "start_time": "2022-06-26T18:39:15.722Z"
   },
   {
    "duration": 52,
    "start_time": "2022-06-26T18:39:15.761Z"
   },
   {
    "duration": 26,
    "start_time": "2022-06-26T18:39:15.814Z"
   },
   {
    "duration": 43,
    "start_time": "2022-06-26T18:39:15.841Z"
   },
   {
    "duration": 29,
    "start_time": "2022-06-26T18:39:15.886Z"
   },
   {
    "duration": 42,
    "start_time": "2022-06-26T18:39:15.919Z"
   },
   {
    "duration": 46,
    "start_time": "2022-06-26T18:39:15.963Z"
   },
   {
    "duration": 19,
    "start_time": "2022-06-26T18:39:16.011Z"
   },
   {
    "duration": 49,
    "start_time": "2022-06-26T18:39:16.032Z"
   },
   {
    "duration": 30,
    "start_time": "2022-06-26T18:39:16.083Z"
   },
   {
    "duration": 36,
    "start_time": "2022-06-26T18:39:16.115Z"
   },
   {
    "duration": 347,
    "start_time": "2022-06-26T18:41:07.051Z"
   },
   {
    "duration": 358,
    "start_time": "2022-06-26T18:41:07.400Z"
   },
   {
    "duration": 13,
    "start_time": "2022-06-26T18:41:07.760Z"
   },
   {
    "duration": 7,
    "start_time": "2022-06-26T18:41:07.775Z"
   },
   {
    "duration": 7,
    "start_time": "2022-06-26T18:41:07.783Z"
   },
   {
    "duration": 7,
    "start_time": "2022-06-26T18:41:07.792Z"
   },
   {
    "duration": 10,
    "start_time": "2022-06-26T18:41:07.801Z"
   },
   {
    "duration": 21,
    "start_time": "2022-06-26T18:41:07.812Z"
   },
   {
    "duration": 16,
    "start_time": "2022-06-26T18:41:07.834Z"
   },
   {
    "duration": 14,
    "start_time": "2022-06-26T18:41:07.851Z"
   },
   {
    "duration": 32,
    "start_time": "2022-06-26T18:41:07.866Z"
   },
   {
    "duration": 8,
    "start_time": "2022-06-26T18:41:07.900Z"
   },
   {
    "duration": 116,
    "start_time": "2022-06-26T18:41:07.909Z"
   },
   {
    "duration": 2,
    "start_time": "2022-06-26T18:41:08.028Z"
   },
   {
    "duration": 72,
    "start_time": "2022-06-26T18:41:08.031Z"
   },
   {
    "duration": 52,
    "start_time": "2022-06-26T18:41:08.104Z"
   },
   {
    "duration": 3,
    "start_time": "2022-06-26T18:41:08.157Z"
   },
   {
    "duration": 9,
    "start_time": "2022-06-26T18:41:08.161Z"
   },
   {
    "duration": 24,
    "start_time": "2022-06-26T18:41:08.171Z"
   },
   {
    "duration": 6,
    "start_time": "2022-06-26T18:41:08.196Z"
   },
   {
    "duration": 4,
    "start_time": "2022-06-26T18:41:08.203Z"
   },
   {
    "duration": 8,
    "start_time": "2022-06-26T18:41:08.209Z"
   },
   {
    "duration": 15,
    "start_time": "2022-06-26T18:41:08.219Z"
   },
   {
    "duration": 10,
    "start_time": "2022-06-26T18:41:08.235Z"
   },
   {
    "duration": 7,
    "start_time": "2022-06-26T18:41:08.246Z"
   },
   {
    "duration": 8,
    "start_time": "2022-06-26T18:41:08.254Z"
   },
   {
    "duration": 6,
    "start_time": "2022-06-26T18:41:08.263Z"
   },
   {
    "duration": 22,
    "start_time": "2022-06-26T18:41:08.271Z"
   },
   {
    "duration": 12,
    "start_time": "2022-06-26T18:41:08.295Z"
   },
   {
    "duration": 12,
    "start_time": "2022-06-26T18:41:08.308Z"
   },
   {
    "duration": 65,
    "start_time": "2022-06-26T18:41:08.321Z"
   },
   {
    "duration": 0,
    "start_time": "2022-06-26T18:41:08.387Z"
   },
   {
    "duration": 369,
    "start_time": "2022-06-26T18:41:48.395Z"
   },
   {
    "duration": 321,
    "start_time": "2022-06-26T18:41:48.765Z"
   },
   {
    "duration": 13,
    "start_time": "2022-06-26T18:41:49.087Z"
   },
   {
    "duration": 12,
    "start_time": "2022-06-26T18:41:49.101Z"
   },
   {
    "duration": 24,
    "start_time": "2022-06-26T18:41:49.115Z"
   },
   {
    "duration": 16,
    "start_time": "2022-06-26T18:41:49.140Z"
   },
   {
    "duration": 30,
    "start_time": "2022-06-26T18:41:49.157Z"
   },
   {
    "duration": 34,
    "start_time": "2022-06-26T18:41:49.189Z"
   },
   {
    "duration": 28,
    "start_time": "2022-06-26T18:41:49.225Z"
   },
   {
    "duration": 14,
    "start_time": "2022-06-26T18:41:49.255Z"
   },
   {
    "duration": 16,
    "start_time": "2022-06-26T18:41:49.271Z"
   },
   {
    "duration": 21,
    "start_time": "2022-06-26T18:41:49.288Z"
   },
   {
    "duration": 121,
    "start_time": "2022-06-26T18:41:49.310Z"
   },
   {
    "duration": 2,
    "start_time": "2022-06-26T18:41:49.433Z"
   },
   {
    "duration": 87,
    "start_time": "2022-06-26T18:41:49.437Z"
   },
   {
    "duration": 48,
    "start_time": "2022-06-26T18:41:49.526Z"
   },
   {
    "duration": 3,
    "start_time": "2022-06-26T18:41:49.575Z"
   },
   {
    "duration": 16,
    "start_time": "2022-06-26T18:41:49.579Z"
   },
   {
    "duration": 7,
    "start_time": "2022-06-26T18:41:49.596Z"
   },
   {
    "duration": 5,
    "start_time": "2022-06-26T18:41:49.604Z"
   },
   {
    "duration": 4,
    "start_time": "2022-06-26T18:41:49.611Z"
   },
   {
    "duration": 9,
    "start_time": "2022-06-26T18:41:49.616Z"
   },
   {
    "duration": 12,
    "start_time": "2022-06-26T18:41:49.626Z"
   },
   {
    "duration": 9,
    "start_time": "2022-06-26T18:41:49.639Z"
   },
   {
    "duration": 3,
    "start_time": "2022-06-26T18:41:49.649Z"
   },
   {
    "duration": 5,
    "start_time": "2022-06-26T18:41:49.654Z"
   },
   {
    "duration": 32,
    "start_time": "2022-06-26T18:41:49.661Z"
   },
   {
    "duration": 6,
    "start_time": "2022-06-26T18:41:49.695Z"
   },
   {
    "duration": 8,
    "start_time": "2022-06-26T18:41:49.702Z"
   },
   {
    "duration": 9,
    "start_time": "2022-06-26T18:41:49.712Z"
   },
   {
    "duration": 10,
    "start_time": "2022-06-26T18:41:49.722Z"
   },
   {
    "duration": 71,
    "start_time": "2022-06-26T18:41:49.733Z"
   },
   {
    "duration": 0,
    "start_time": "2022-06-26T18:41:49.805Z"
   },
   {
    "duration": 8,
    "start_time": "2022-06-26T18:44:11.179Z"
   },
   {
    "duration": 10,
    "start_time": "2022-06-26T18:44:15.899Z"
   },
   {
    "duration": 383,
    "start_time": "2022-06-26T18:44:31.864Z"
   },
   {
    "duration": 338,
    "start_time": "2022-06-26T18:44:32.249Z"
   },
   {
    "duration": 15,
    "start_time": "2022-06-26T18:44:32.589Z"
   },
   {
    "duration": 8,
    "start_time": "2022-06-26T18:44:32.605Z"
   },
   {
    "duration": 11,
    "start_time": "2022-06-26T18:44:32.615Z"
   },
   {
    "duration": 11,
    "start_time": "2022-06-26T18:44:32.627Z"
   },
   {
    "duration": 13,
    "start_time": "2022-06-26T18:44:32.639Z"
   },
   {
    "duration": 38,
    "start_time": "2022-06-26T18:44:32.653Z"
   },
   {
    "duration": 16,
    "start_time": "2022-06-26T18:44:32.693Z"
   },
   {
    "duration": 15,
    "start_time": "2022-06-26T18:44:32.712Z"
   },
   {
    "duration": 11,
    "start_time": "2022-06-26T18:44:32.729Z"
   },
   {
    "duration": 10,
    "start_time": "2022-06-26T18:44:32.741Z"
   },
   {
    "duration": 168,
    "start_time": "2022-06-26T18:44:32.753Z"
   },
   {
    "duration": 2,
    "start_time": "2022-06-26T18:44:32.923Z"
   },
   {
    "duration": 81,
    "start_time": "2022-06-26T18:44:32.927Z"
   },
   {
    "duration": 69,
    "start_time": "2022-06-26T18:44:33.010Z"
   },
   {
    "duration": 3,
    "start_time": "2022-06-26T18:44:33.081Z"
   },
   {
    "duration": 7,
    "start_time": "2022-06-26T18:44:33.091Z"
   },
   {
    "duration": 10,
    "start_time": "2022-06-26T18:44:33.100Z"
   },
   {
    "duration": 8,
    "start_time": "2022-06-26T18:44:33.111Z"
   },
   {
    "duration": 6,
    "start_time": "2022-06-26T18:44:33.121Z"
   },
   {
    "duration": 11,
    "start_time": "2022-06-26T18:44:33.128Z"
   },
   {
    "duration": 17,
    "start_time": "2022-06-26T18:44:33.140Z"
   },
   {
    "duration": 10,
    "start_time": "2022-06-26T18:44:33.158Z"
   },
   {
    "duration": 23,
    "start_time": "2022-06-26T18:44:33.170Z"
   },
   {
    "duration": 6,
    "start_time": "2022-06-26T18:44:33.195Z"
   },
   {
    "duration": 6,
    "start_time": "2022-06-26T18:44:33.203Z"
   },
   {
    "duration": 6,
    "start_time": "2022-06-26T18:44:33.212Z"
   },
   {
    "duration": 8,
    "start_time": "2022-06-26T18:44:33.219Z"
   },
   {
    "duration": 75,
    "start_time": "2022-06-26T18:44:33.228Z"
   },
   {
    "duration": 0,
    "start_time": "2022-06-26T18:44:33.304Z"
   },
   {
    "duration": 0,
    "start_time": "2022-06-26T18:44:33.305Z"
   },
   {
    "duration": 2,
    "start_time": "2022-06-26T18:44:57.383Z"
   },
   {
    "duration": 8,
    "start_time": "2022-06-26T18:44:57.838Z"
   },
   {
    "duration": 7,
    "start_time": "2022-06-26T18:45:00.116Z"
   },
   {
    "duration": 10,
    "start_time": "2022-06-26T18:45:00.949Z"
   },
   {
    "duration": 2638,
    "start_time": "2022-06-26T19:20:24.337Z"
   },
   {
    "duration": 5,
    "start_time": "2022-06-26T19:20:38.304Z"
   },
   {
    "duration": 11,
    "start_time": "2022-06-26T19:20:44.622Z"
   },
   {
    "duration": 3,
    "start_time": "2022-06-26T19:22:32.622Z"
   },
   {
    "duration": 8,
    "start_time": "2022-06-26T19:22:33.503Z"
   },
   {
    "duration": 352,
    "start_time": "2022-06-26T19:22:40.558Z"
   },
   {
    "duration": 352,
    "start_time": "2022-06-26T19:22:40.913Z"
   },
   {
    "duration": 12,
    "start_time": "2022-06-26T19:22:41.266Z"
   },
   {
    "duration": 6,
    "start_time": "2022-06-26T19:22:41.280Z"
   },
   {
    "duration": 21,
    "start_time": "2022-06-26T19:22:41.287Z"
   },
   {
    "duration": 8,
    "start_time": "2022-06-26T19:22:41.310Z"
   },
   {
    "duration": 9,
    "start_time": "2022-06-26T19:22:41.320Z"
   },
   {
    "duration": 21,
    "start_time": "2022-06-26T19:22:41.330Z"
   },
   {
    "duration": 16,
    "start_time": "2022-06-26T19:22:41.353Z"
   },
   {
    "duration": 22,
    "start_time": "2022-06-26T19:22:41.371Z"
   },
   {
    "duration": 21,
    "start_time": "2022-06-26T19:22:41.395Z"
   },
   {
    "duration": 11,
    "start_time": "2022-06-26T19:22:41.417Z"
   },
   {
    "duration": 106,
    "start_time": "2022-06-26T19:22:41.430Z"
   },
   {
    "duration": 2,
    "start_time": "2022-06-26T19:22:41.538Z"
   },
   {
    "duration": 84,
    "start_time": "2022-06-26T19:22:41.541Z"
   },
   {
    "duration": 49,
    "start_time": "2022-06-26T19:22:41.626Z"
   },
   {
    "duration": 3,
    "start_time": "2022-06-26T19:22:41.676Z"
   },
   {
    "duration": 14,
    "start_time": "2022-06-26T19:22:41.680Z"
   },
   {
    "duration": 19,
    "start_time": "2022-06-26T19:22:41.695Z"
   },
   {
    "duration": 5,
    "start_time": "2022-06-26T19:22:41.715Z"
   },
   {
    "duration": 4,
    "start_time": "2022-06-26T19:22:41.721Z"
   },
   {
    "duration": 8,
    "start_time": "2022-06-26T19:22:41.726Z"
   },
   {
    "duration": 12,
    "start_time": "2022-06-26T19:22:41.736Z"
   },
   {
    "duration": 9,
    "start_time": "2022-06-26T19:22:41.749Z"
   },
   {
    "duration": 3,
    "start_time": "2022-06-26T19:22:41.759Z"
   },
   {
    "duration": 31,
    "start_time": "2022-06-26T19:22:41.763Z"
   },
   {
    "duration": 16,
    "start_time": "2022-06-26T19:22:41.797Z"
   },
   {
    "duration": 6,
    "start_time": "2022-06-26T19:22:41.815Z"
   },
   {
    "duration": 8,
    "start_time": "2022-06-26T19:22:41.822Z"
   },
   {
    "duration": 2,
    "start_time": "2022-06-26T19:22:41.832Z"
   },
   {
    "duration": 7,
    "start_time": "2022-06-26T19:22:41.835Z"
   },
   {
    "duration": 13,
    "start_time": "2022-06-26T19:22:41.843Z"
   },
   {
    "duration": 10,
    "start_time": "2022-06-26T19:22:41.857Z"
   },
   {
    "duration": 10,
    "start_time": "2022-06-26T19:22:41.869Z"
   },
   {
    "duration": 6,
    "start_time": "2022-06-26T19:22:41.880Z"
   },
   {
    "duration": 11,
    "start_time": "2022-06-26T19:22:54.503Z"
   },
   {
    "duration": 15,
    "start_time": "2022-06-26T19:23:09.583Z"
   },
   {
    "duration": 12,
    "start_time": "2022-06-26T19:23:31.203Z"
   },
   {
    "duration": 356,
    "start_time": "2022-06-26T19:24:49.229Z"
   },
   {
    "duration": 353,
    "start_time": "2022-06-26T19:24:49.587Z"
   },
   {
    "duration": 13,
    "start_time": "2022-06-26T19:24:49.941Z"
   },
   {
    "duration": 10,
    "start_time": "2022-06-26T19:24:49.957Z"
   },
   {
    "duration": 9,
    "start_time": "2022-06-26T19:24:49.969Z"
   },
   {
    "duration": 9,
    "start_time": "2022-06-26T19:24:49.980Z"
   },
   {
    "duration": 25,
    "start_time": "2022-06-26T19:24:49.991Z"
   },
   {
    "duration": 22,
    "start_time": "2022-06-26T19:24:50.017Z"
   },
   {
    "duration": 16,
    "start_time": "2022-06-26T19:24:50.041Z"
   },
   {
    "duration": 23,
    "start_time": "2022-06-26T19:24:50.059Z"
   },
   {
    "duration": 14,
    "start_time": "2022-06-26T19:24:50.084Z"
   },
   {
    "duration": 18,
    "start_time": "2022-06-26T19:24:50.100Z"
   },
   {
    "duration": 116,
    "start_time": "2022-06-26T19:24:50.119Z"
   },
   {
    "duration": 3,
    "start_time": "2022-06-26T19:24:50.237Z"
   },
   {
    "duration": 91,
    "start_time": "2022-06-26T19:24:50.241Z"
   },
   {
    "duration": 60,
    "start_time": "2022-06-26T19:24:50.334Z"
   },
   {
    "duration": 3,
    "start_time": "2022-06-26T19:24:50.396Z"
   },
   {
    "duration": 23,
    "start_time": "2022-06-26T19:24:50.400Z"
   },
   {
    "duration": 8,
    "start_time": "2022-06-26T19:24:50.424Z"
   },
   {
    "duration": 7,
    "start_time": "2022-06-26T19:24:50.434Z"
   },
   {
    "duration": 6,
    "start_time": "2022-06-26T19:24:50.442Z"
   },
   {
    "duration": 13,
    "start_time": "2022-06-26T19:24:50.449Z"
   },
   {
    "duration": 13,
    "start_time": "2022-06-26T19:24:50.463Z"
   },
   {
    "duration": 8,
    "start_time": "2022-06-26T19:24:50.478Z"
   },
   {
    "duration": 4,
    "start_time": "2022-06-26T19:24:50.492Z"
   },
   {
    "duration": 19,
    "start_time": "2022-06-26T19:24:50.498Z"
   },
   {
    "duration": 10,
    "start_time": "2022-06-26T19:24:50.519Z"
   },
   {
    "duration": 12,
    "start_time": "2022-06-26T19:24:50.532Z"
   },
   {
    "duration": 7,
    "start_time": "2022-06-26T19:24:50.546Z"
   },
   {
    "duration": 7,
    "start_time": "2022-06-26T19:24:50.554Z"
   },
   {
    "duration": 5,
    "start_time": "2022-06-26T19:24:50.563Z"
   },
   {
    "duration": 11,
    "start_time": "2022-06-26T19:24:50.571Z"
   },
   {
    "duration": 29,
    "start_time": "2022-06-26T19:24:50.583Z"
   },
   {
    "duration": 25,
    "start_time": "2022-06-26T19:24:50.616Z"
   },
   {
    "duration": 7,
    "start_time": "2022-06-26T19:24:50.643Z"
   },
   {
    "duration": 11,
    "start_time": "2022-06-26T19:24:50.651Z"
   },
   {
    "duration": 75,
    "start_time": "2022-06-26T19:26:01.814Z"
   },
   {
    "duration": 3,
    "start_time": "2022-06-26T19:26:47.199Z"
   },
   {
    "duration": 14,
    "start_time": "2022-06-26T19:26:51.450Z"
   },
   {
    "duration": 414,
    "start_time": "2022-06-27T12:16:18.888Z"
   },
   {
    "duration": 842,
    "start_time": "2022-06-27T12:16:19.305Z"
   },
   {
    "duration": 22,
    "start_time": "2022-06-27T12:16:20.149Z"
   },
   {
    "duration": 28,
    "start_time": "2022-06-27T12:16:20.174Z"
   },
   {
    "duration": 9,
    "start_time": "2022-06-27T12:16:20.204Z"
   },
   {
    "duration": 10,
    "start_time": "2022-06-27T12:16:20.215Z"
   },
   {
    "duration": 14,
    "start_time": "2022-06-27T12:16:20.227Z"
   },
   {
    "duration": 47,
    "start_time": "2022-06-27T12:16:20.243Z"
   },
   {
    "duration": 23,
    "start_time": "2022-06-27T12:16:20.291Z"
   },
   {
    "duration": 20,
    "start_time": "2022-06-27T12:16:20.316Z"
   },
   {
    "duration": 39,
    "start_time": "2022-06-27T12:16:20.338Z"
   },
   {
    "duration": 39,
    "start_time": "2022-06-27T12:16:20.380Z"
   },
   {
    "duration": 144,
    "start_time": "2022-06-27T12:16:20.421Z"
   },
   {
    "duration": 12,
    "start_time": "2022-06-27T12:16:20.575Z"
   },
   {
    "duration": 82,
    "start_time": "2022-06-27T12:16:20.589Z"
   },
   {
    "duration": 71,
    "start_time": "2022-06-27T12:16:20.675Z"
   },
   {
    "duration": 3,
    "start_time": "2022-06-27T12:16:20.748Z"
   },
   {
    "duration": 45,
    "start_time": "2022-06-27T12:16:20.758Z"
   },
   {
    "duration": 23,
    "start_time": "2022-06-27T12:16:20.805Z"
   },
   {
    "duration": 21,
    "start_time": "2022-06-27T12:16:20.830Z"
   },
   {
    "duration": 39,
    "start_time": "2022-06-27T12:16:20.852Z"
   },
   {
    "duration": 27,
    "start_time": "2022-06-27T12:16:20.893Z"
   },
   {
    "duration": 50,
    "start_time": "2022-06-27T12:16:20.922Z"
   },
   {
    "duration": 38,
    "start_time": "2022-06-27T12:16:20.974Z"
   },
   {
    "duration": 27,
    "start_time": "2022-06-27T12:16:21.013Z"
   },
   {
    "duration": 36,
    "start_time": "2022-06-27T12:16:21.042Z"
   },
   {
    "duration": 20,
    "start_time": "2022-06-27T12:16:21.083Z"
   },
   {
    "duration": 24,
    "start_time": "2022-06-27T12:16:21.104Z"
   },
   {
    "duration": 24,
    "start_time": "2022-06-27T12:16:21.129Z"
   },
   {
    "duration": 40,
    "start_time": "2022-06-27T12:16:21.155Z"
   },
   {
    "duration": 20,
    "start_time": "2022-06-27T12:16:21.197Z"
   },
   {
    "duration": 15,
    "start_time": "2022-06-27T12:16:21.219Z"
   },
   {
    "duration": 59,
    "start_time": "2022-06-27T12:16:21.235Z"
   },
   {
    "duration": 11,
    "start_time": "2022-06-27T12:16:21.295Z"
   },
   {
    "duration": 5,
    "start_time": "2022-06-27T12:16:25.487Z"
   },
   {
    "duration": 21,
    "start_time": "2022-06-27T12:16:34.336Z"
   },
   {
    "duration": 55,
    "start_time": "2022-06-27T12:48:56.500Z"
   },
   {
    "duration": 8,
    "start_time": "2022-06-27T12:49:24.097Z"
   },
   {
    "duration": 1224,
    "start_time": "2022-06-27T12:55:22.024Z"
   },
   {
    "duration": 420,
    "start_time": "2022-06-27T12:57:51.893Z"
   },
   {
    "duration": 440,
    "start_time": "2022-06-27T12:57:52.316Z"
   },
   {
    "duration": 27,
    "start_time": "2022-06-27T12:57:52.758Z"
   },
   {
    "duration": 12,
    "start_time": "2022-06-27T12:57:52.790Z"
   },
   {
    "duration": 21,
    "start_time": "2022-06-27T12:57:52.804Z"
   },
   {
    "duration": 17,
    "start_time": "2022-06-27T12:57:52.827Z"
   },
   {
    "duration": 15,
    "start_time": "2022-06-27T12:57:52.846Z"
   },
   {
    "duration": 79,
    "start_time": "2022-06-27T12:57:52.863Z"
   },
   {
    "duration": 27,
    "start_time": "2022-06-27T12:57:52.944Z"
   },
   {
    "duration": 44,
    "start_time": "2022-06-27T12:57:52.973Z"
   },
   {
    "duration": 44,
    "start_time": "2022-06-27T12:57:53.019Z"
   },
   {
    "duration": 59,
    "start_time": "2022-06-27T12:57:53.065Z"
   },
   {
    "duration": 167,
    "start_time": "2022-06-27T12:57:53.126Z"
   },
   {
    "duration": 3,
    "start_time": "2022-06-27T12:57:53.297Z"
   },
   {
    "duration": 111,
    "start_time": "2022-06-27T12:57:53.301Z"
   },
   {
    "duration": 81,
    "start_time": "2022-06-27T12:57:53.413Z"
   },
   {
    "duration": 3,
    "start_time": "2022-06-27T12:57:53.495Z"
   },
   {
    "duration": 15,
    "start_time": "2022-06-27T12:57:53.500Z"
   },
   {
    "duration": 24,
    "start_time": "2022-06-27T12:57:53.517Z"
   },
   {
    "duration": 36,
    "start_time": "2022-06-27T12:57:53.542Z"
   },
   {
    "duration": 31,
    "start_time": "2022-06-27T12:57:53.582Z"
   },
   {
    "duration": 12,
    "start_time": "2022-06-27T12:57:53.615Z"
   },
   {
    "duration": 14,
    "start_time": "2022-06-27T12:57:53.629Z"
   },
   {
    "duration": 13,
    "start_time": "2022-06-27T12:57:53.644Z"
   },
   {
    "duration": 41,
    "start_time": "2022-06-27T12:57:53.658Z"
   },
   {
    "duration": 7,
    "start_time": "2022-06-27T12:57:53.701Z"
   },
   {
    "duration": 8,
    "start_time": "2022-06-27T12:57:53.710Z"
   },
   {
    "duration": 5,
    "start_time": "2022-06-27T12:57:53.719Z"
   },
   {
    "duration": 7,
    "start_time": "2022-06-27T12:57:53.726Z"
   },
   {
    "duration": 5,
    "start_time": "2022-06-27T12:57:53.735Z"
   },
   {
    "duration": 9,
    "start_time": "2022-06-27T12:57:53.742Z"
   },
   {
    "duration": 19,
    "start_time": "2022-06-27T12:57:53.752Z"
   },
   {
    "duration": 29,
    "start_time": "2022-06-27T12:57:53.778Z"
   },
   {
    "duration": 13,
    "start_time": "2022-06-27T12:57:53.809Z"
   },
   {
    "duration": 5,
    "start_time": "2022-06-27T12:57:53.824Z"
   },
   {
    "duration": 1101,
    "start_time": "2022-06-27T12:57:53.831Z"
   },
   {
    "duration": 1015,
    "start_time": "2022-06-27T12:59:11.994Z"
   },
   {
    "duration": 20,
    "start_time": "2022-06-27T13:00:56.259Z"
   },
   {
    "duration": 1784,
    "start_time": "2022-06-27T13:00:57.278Z"
   },
   {
    "duration": 1412,
    "start_time": "2022-06-27T13:02:49.914Z"
   },
   {
    "duration": 6,
    "start_time": "2022-06-27T13:04:22.713Z"
   },
   {
    "duration": 19,
    "start_time": "2022-06-27T13:04:24.212Z"
   },
   {
    "duration": 9,
    "start_time": "2022-06-27T13:05:19.783Z"
   },
   {
    "duration": 27,
    "start_time": "2022-06-27T13:05:20.584Z"
   },
   {
    "duration": 13,
    "start_time": "2022-06-27T13:05:49.911Z"
   },
   {
    "duration": 405,
    "start_time": "2022-06-27T13:06:30.826Z"
   },
   {
    "duration": 496,
    "start_time": "2022-06-27T13:06:31.233Z"
   },
   {
    "duration": 15,
    "start_time": "2022-06-27T13:06:31.730Z"
   },
   {
    "duration": 15,
    "start_time": "2022-06-27T13:06:31.747Z"
   },
   {
    "duration": 47,
    "start_time": "2022-06-27T13:06:31.768Z"
   },
   {
    "duration": 14,
    "start_time": "2022-06-27T13:06:31.817Z"
   },
   {
    "duration": 16,
    "start_time": "2022-06-27T13:06:31.833Z"
   },
   {
    "duration": 57,
    "start_time": "2022-06-27T13:06:31.851Z"
   },
   {
    "duration": 26,
    "start_time": "2022-06-27T13:06:31.911Z"
   },
   {
    "duration": 28,
    "start_time": "2022-06-27T13:06:31.938Z"
   },
   {
    "duration": 22,
    "start_time": "2022-06-27T13:06:31.971Z"
   },
   {
    "duration": 28,
    "start_time": "2022-06-27T13:06:31.995Z"
   },
   {
    "duration": 177,
    "start_time": "2022-06-27T13:06:32.025Z"
   },
   {
    "duration": 3,
    "start_time": "2022-06-27T13:06:32.207Z"
   },
   {
    "duration": 118,
    "start_time": "2022-06-27T13:06:32.212Z"
   },
   {
    "duration": 88,
    "start_time": "2022-06-27T13:06:32.332Z"
   },
   {
    "duration": 4,
    "start_time": "2022-06-27T13:06:32.422Z"
   },
   {
    "duration": 11,
    "start_time": "2022-06-27T13:06:32.428Z"
   },
   {
    "duration": 9,
    "start_time": "2022-06-27T13:06:32.441Z"
   },
   {
    "duration": 8,
    "start_time": "2022-06-27T13:06:32.461Z"
   },
   {
    "duration": 38,
    "start_time": "2022-06-27T13:06:32.471Z"
   },
   {
    "duration": 21,
    "start_time": "2022-06-27T13:06:32.511Z"
   },
   {
    "duration": 21,
    "start_time": "2022-06-27T13:06:32.534Z"
   },
   {
    "duration": 44,
    "start_time": "2022-06-27T13:06:32.556Z"
   },
   {
    "duration": 11,
    "start_time": "2022-06-27T13:06:32.604Z"
   },
   {
    "duration": 8,
    "start_time": "2022-06-27T13:06:32.617Z"
   },
   {
    "duration": 9,
    "start_time": "2022-06-27T13:06:32.627Z"
   },
   {
    "duration": 15,
    "start_time": "2022-06-27T13:06:32.637Z"
   },
   {
    "duration": 53,
    "start_time": "2022-06-27T13:06:32.653Z"
   },
   {
    "duration": 7,
    "start_time": "2022-06-27T13:06:32.708Z"
   },
   {
    "duration": 8,
    "start_time": "2022-06-27T13:06:32.717Z"
   },
   {
    "duration": 17,
    "start_time": "2022-06-27T13:06:32.726Z"
   },
   {
    "duration": 43,
    "start_time": "2022-06-27T13:06:32.745Z"
   },
   {
    "duration": 36,
    "start_time": "2022-06-27T13:06:32.790Z"
   },
   {
    "duration": 79,
    "start_time": "2022-06-27T13:06:40.005Z"
   },
   {
    "duration": 6,
    "start_time": "2022-06-27T13:08:03.323Z"
   },
   {
    "duration": 22,
    "start_time": "2022-06-27T13:08:05.201Z"
   },
   {
    "duration": 6,
    "start_time": "2022-06-27T13:09:41.307Z"
   },
   {
    "duration": 36,
    "start_time": "2022-06-27T13:09:41.951Z"
   },
   {
    "duration": 6,
    "start_time": "2022-06-27T13:10:37.261Z"
   },
   {
    "duration": 69,
    "start_time": "2022-06-27T13:10:37.272Z"
   },
   {
    "duration": 11,
    "start_time": "2022-06-27T13:12:40.290Z"
   },
   {
    "duration": 37,
    "start_time": "2022-06-27T13:12:40.844Z"
   },
   {
    "duration": 34,
    "start_time": "2022-06-27T13:15:24.818Z"
   },
   {
    "duration": 493,
    "start_time": "2022-06-27T13:17:16.856Z"
   },
   {
    "duration": 577,
    "start_time": "2022-06-27T13:17:17.355Z"
   },
   {
    "duration": 14,
    "start_time": "2022-06-27T13:17:17.934Z"
   },
   {
    "duration": 26,
    "start_time": "2022-06-27T13:17:17.950Z"
   },
   {
    "duration": 39,
    "start_time": "2022-06-27T13:17:17.978Z"
   },
   {
    "duration": 11,
    "start_time": "2022-06-27T13:17:18.019Z"
   },
   {
    "duration": 13,
    "start_time": "2022-06-27T13:17:18.031Z"
   },
   {
    "duration": 80,
    "start_time": "2022-06-27T13:17:18.046Z"
   },
   {
    "duration": 20,
    "start_time": "2022-06-27T13:17:18.127Z"
   },
   {
    "duration": 47,
    "start_time": "2022-06-27T13:17:18.149Z"
   },
   {
    "duration": 25,
    "start_time": "2022-06-27T13:17:18.198Z"
   },
   {
    "duration": 12,
    "start_time": "2022-06-27T13:17:18.225Z"
   },
   {
    "duration": 168,
    "start_time": "2022-06-27T13:17:18.239Z"
   },
   {
    "duration": 3,
    "start_time": "2022-06-27T13:17:18.411Z"
   },
   {
    "duration": 109,
    "start_time": "2022-06-27T13:17:18.415Z"
   },
   {
    "duration": 93,
    "start_time": "2022-06-27T13:17:18.526Z"
   },
   {
    "duration": 3,
    "start_time": "2022-06-27T13:17:18.621Z"
   },
   {
    "duration": 10,
    "start_time": "2022-06-27T13:17:18.626Z"
   },
   {
    "duration": 11,
    "start_time": "2022-06-27T13:17:18.637Z"
   },
   {
    "duration": 20,
    "start_time": "2022-06-27T13:17:18.650Z"
   },
   {
    "duration": 60,
    "start_time": "2022-06-27T13:17:18.672Z"
   },
   {
    "duration": 18,
    "start_time": "2022-06-27T13:17:18.734Z"
   },
   {
    "duration": 66,
    "start_time": "2022-06-27T13:17:18.754Z"
   },
   {
    "duration": 12,
    "start_time": "2022-06-27T13:17:18.822Z"
   },
   {
    "duration": 6,
    "start_time": "2022-06-27T13:17:18.835Z"
   },
   {
    "duration": 8,
    "start_time": "2022-06-27T13:17:18.842Z"
   },
   {
    "duration": 19,
    "start_time": "2022-06-27T13:17:18.852Z"
   },
   {
    "duration": 42,
    "start_time": "2022-06-27T13:17:18.873Z"
   },
   {
    "duration": 7,
    "start_time": "2022-06-27T13:17:18.917Z"
   },
   {
    "duration": 10,
    "start_time": "2022-06-27T13:17:18.925Z"
   },
   {
    "duration": 12,
    "start_time": "2022-06-27T13:17:18.936Z"
   },
   {
    "duration": 23,
    "start_time": "2022-06-27T13:17:18.949Z"
   },
   {
    "duration": 39,
    "start_time": "2022-06-27T13:17:18.974Z"
   },
   {
    "duration": 11,
    "start_time": "2022-06-27T13:17:19.015Z"
   },
   {
    "duration": 6,
    "start_time": "2022-06-27T13:17:19.027Z"
   },
   {
    "duration": 35,
    "start_time": "2022-06-27T13:17:19.034Z"
   },
   {
    "duration": 10,
    "start_time": "2022-06-27T13:22:08.754Z"
   },
   {
    "duration": 89,
    "start_time": "2022-06-27T13:22:09.551Z"
   },
   {
    "duration": 6,
    "start_time": "2022-06-27T13:22:19.032Z"
   },
   {
    "duration": 23,
    "start_time": "2022-06-27T13:22:19.520Z"
   },
   {
    "duration": 6,
    "start_time": "2022-06-27T13:22:56.920Z"
   },
   {
    "duration": 31,
    "start_time": "2022-06-27T13:22:58.148Z"
   },
   {
    "duration": 9,
    "start_time": "2022-06-27T13:26:13.287Z"
   },
   {
    "duration": 38,
    "start_time": "2022-06-27T13:26:13.299Z"
   },
   {
    "duration": 43,
    "start_time": "2022-06-27T13:26:33.855Z"
   },
   {
    "duration": 35,
    "start_time": "2022-06-27T13:38:12.974Z"
   },
   {
    "duration": 36,
    "start_time": "2022-06-27T13:38:16.437Z"
   },
   {
    "duration": 17214,
    "start_time": "2022-06-27T13:43:44.261Z"
   },
   {
    "duration": 5,
    "start_time": "2022-06-27T13:46:36.718Z"
   },
   {
    "duration": 5,
    "start_time": "2022-06-27T13:46:43.820Z"
   },
   {
    "duration": 6,
    "start_time": "2022-06-27T13:46:50.938Z"
   },
   {
    "duration": 5,
    "start_time": "2022-06-27T13:48:50.347Z"
   },
   {
    "duration": 7,
    "start_time": "2022-06-27T13:50:55.089Z"
   },
   {
    "duration": 5,
    "start_time": "2022-06-27T13:51:04.416Z"
   },
   {
    "duration": 6,
    "start_time": "2022-06-27T13:51:14.185Z"
   },
   {
    "duration": 7,
    "start_time": "2022-06-27T13:51:23.798Z"
   },
   {
    "duration": 13,
    "start_time": "2022-06-27T13:51:30.970Z"
   },
   {
    "duration": 5,
    "start_time": "2022-06-27T13:51:45.186Z"
   },
   {
    "duration": 1000,
    "start_time": "2022-06-27T13:51:52.780Z"
   },
   {
    "duration": 5,
    "start_time": "2022-06-27T13:51:56.836Z"
   },
   {
    "duration": 21,
    "start_time": "2022-06-27T13:52:07.657Z"
   },
   {
    "duration": 1087,
    "start_time": "2022-06-27T13:52:18.316Z"
   },
   {
    "duration": 14,
    "start_time": "2022-06-27T13:52:27.979Z"
   },
   {
    "duration": 394,
    "start_time": "2022-06-27T13:52:59.107Z"
   },
   {
    "duration": 453,
    "start_time": "2022-06-27T13:52:59.503Z"
   },
   {
    "duration": 20,
    "start_time": "2022-06-27T13:52:59.960Z"
   },
   {
    "duration": 26,
    "start_time": "2022-06-27T13:52:59.981Z"
   },
   {
    "duration": 16,
    "start_time": "2022-06-27T13:53:00.010Z"
   },
   {
    "duration": 25,
    "start_time": "2022-06-27T13:53:00.028Z"
   },
   {
    "duration": 54,
    "start_time": "2022-06-27T13:53:00.055Z"
   },
   {
    "duration": 46,
    "start_time": "2022-06-27T13:53:00.112Z"
   },
   {
    "duration": 35,
    "start_time": "2022-06-27T13:53:00.160Z"
   },
   {
    "duration": 27,
    "start_time": "2022-06-27T13:53:00.197Z"
   },
   {
    "duration": 14,
    "start_time": "2022-06-27T13:53:00.226Z"
   },
   {
    "duration": 29,
    "start_time": "2022-06-27T13:53:00.243Z"
   },
   {
    "duration": 204,
    "start_time": "2022-06-27T13:53:00.274Z"
   },
   {
    "duration": 2,
    "start_time": "2022-06-27T13:53:00.491Z"
   },
   {
    "duration": 132,
    "start_time": "2022-06-27T13:53:00.495Z"
   },
   {
    "duration": 83,
    "start_time": "2022-06-27T13:53:00.628Z"
   },
   {
    "duration": 3,
    "start_time": "2022-06-27T13:53:00.713Z"
   },
   {
    "duration": 17,
    "start_time": "2022-06-27T13:53:00.719Z"
   },
   {
    "duration": 32,
    "start_time": "2022-06-27T13:53:00.738Z"
   },
   {
    "duration": 66,
    "start_time": "2022-06-27T13:53:00.772Z"
   },
   {
    "duration": 17,
    "start_time": "2022-06-27T13:53:00.840Z"
   },
   {
    "duration": 64,
    "start_time": "2022-06-27T13:53:00.862Z"
   },
   {
    "duration": 28,
    "start_time": "2022-06-27T13:53:00.928Z"
   },
   {
    "duration": 43,
    "start_time": "2022-06-27T13:53:00.958Z"
   },
   {
    "duration": 9,
    "start_time": "2022-06-27T13:53:01.003Z"
   },
   {
    "duration": 25,
    "start_time": "2022-06-27T13:53:01.014Z"
   },
   {
    "duration": 59,
    "start_time": "2022-06-27T13:53:01.041Z"
   },
   {
    "duration": 11,
    "start_time": "2022-06-27T13:53:01.103Z"
   },
   {
    "duration": 83,
    "start_time": "2022-06-27T13:53:01.117Z"
   },
   {
    "duration": 25,
    "start_time": "2022-06-27T13:53:01.202Z"
   },
   {
    "duration": 12,
    "start_time": "2022-06-27T13:53:01.230Z"
   },
   {
    "duration": 62,
    "start_time": "2022-06-27T13:53:01.244Z"
   },
   {
    "duration": 24,
    "start_time": "2022-06-27T13:53:01.309Z"
   },
   {
    "duration": 37,
    "start_time": "2022-06-27T13:53:01.335Z"
   },
   {
    "duration": 52,
    "start_time": "2022-06-27T13:53:01.375Z"
   },
   {
    "duration": 1902,
    "start_time": "2022-06-27T13:53:01.429Z"
   },
   {
    "duration": 0,
    "start_time": "2022-06-27T13:53:03.333Z"
   },
   {
    "duration": 19391,
    "start_time": "2022-06-27T13:53:30.700Z"
   },
   {
    "duration": 464,
    "start_time": "2022-06-27T15:01:42.850Z"
   },
   {
    "duration": 1002,
    "start_time": "2022-06-27T15:01:43.316Z"
   },
   {
    "duration": 14,
    "start_time": "2022-06-27T15:01:44.320Z"
   },
   {
    "duration": 9,
    "start_time": "2022-06-27T15:01:44.335Z"
   },
   {
    "duration": 9,
    "start_time": "2022-06-27T15:01:44.347Z"
   },
   {
    "duration": 59,
    "start_time": "2022-06-27T15:01:44.358Z"
   },
   {
    "duration": 12,
    "start_time": "2022-06-27T15:01:44.419Z"
   },
   {
    "duration": 41,
    "start_time": "2022-06-27T15:01:44.433Z"
   },
   {
    "duration": 37,
    "start_time": "2022-06-27T15:01:44.476Z"
   },
   {
    "duration": 19,
    "start_time": "2022-06-27T15:01:44.519Z"
   },
   {
    "duration": 10,
    "start_time": "2022-06-27T15:01:44.540Z"
   },
   {
    "duration": 21,
    "start_time": "2022-06-27T15:01:44.551Z"
   },
   {
    "duration": 177,
    "start_time": "2022-06-27T15:01:44.573Z"
   },
   {
    "duration": 18,
    "start_time": "2022-06-27T15:01:44.752Z"
   },
   {
    "duration": 154,
    "start_time": "2022-06-27T15:01:44.771Z"
   },
   {
    "duration": 87,
    "start_time": "2022-06-27T15:01:44.926Z"
   },
   {
    "duration": 3,
    "start_time": "2022-06-27T15:01:45.019Z"
   },
   {
    "duration": 19,
    "start_time": "2022-06-27T15:01:45.024Z"
   },
   {
    "duration": 24,
    "start_time": "2022-06-27T15:01:45.045Z"
   },
   {
    "duration": 46,
    "start_time": "2022-06-27T15:01:45.075Z"
   },
   {
    "duration": 6,
    "start_time": "2022-06-27T15:01:45.123Z"
   },
   {
    "duration": 15,
    "start_time": "2022-06-27T15:01:45.130Z"
   },
   {
    "duration": 21,
    "start_time": "2022-06-27T15:01:45.147Z"
   },
   {
    "duration": 18,
    "start_time": "2022-06-27T15:01:45.174Z"
   },
   {
    "duration": 20,
    "start_time": "2022-06-27T15:01:45.196Z"
   },
   {
    "duration": 7,
    "start_time": "2022-06-27T15:01:45.218Z"
   },
   {
    "duration": 6,
    "start_time": "2022-06-27T15:01:45.226Z"
   },
   {
    "duration": 5,
    "start_time": "2022-06-27T15:01:45.234Z"
   },
   {
    "duration": 7,
    "start_time": "2022-06-27T15:01:45.240Z"
   },
   {
    "duration": 6,
    "start_time": "2022-06-27T15:01:45.249Z"
   },
   {
    "duration": 61,
    "start_time": "2022-06-27T15:01:45.256Z"
   },
   {
    "duration": 12,
    "start_time": "2022-06-27T15:01:45.319Z"
   },
   {
    "duration": 12,
    "start_time": "2022-06-27T15:01:45.332Z"
   },
   {
    "duration": 10,
    "start_time": "2022-06-27T15:01:45.346Z"
   },
   {
    "duration": 56,
    "start_time": "2022-06-27T15:01:45.358Z"
   },
   {
    "duration": 19058,
    "start_time": "2022-06-27T15:01:45.415Z"
   },
   {
    "duration": 12,
    "start_time": "2022-06-27T15:02:04.477Z"
   },
   {
    "duration": 34,
    "start_time": "2022-06-27T15:02:04.491Z"
   },
   {
    "duration": 10,
    "start_time": "2022-06-27T15:03:01.135Z"
   },
   {
    "duration": 6,
    "start_time": "2022-06-27T15:03:01.621Z"
   },
   {
    "duration": 20,
    "start_time": "2022-06-27T15:04:54.956Z"
   },
   {
    "duration": 7,
    "start_time": "2022-06-27T15:04:55.446Z"
   },
   {
    "duration": 501,
    "start_time": "2022-06-27T15:05:09.227Z"
   },
   {
    "duration": 0,
    "start_time": "2022-06-27T15:05:09.730Z"
   },
   {
    "duration": 446,
    "start_time": "2022-06-27T15:05:28.954Z"
   },
   {
    "duration": 529,
    "start_time": "2022-06-27T15:05:29.402Z"
   },
   {
    "duration": 15,
    "start_time": "2022-06-27T15:05:29.933Z"
   },
   {
    "duration": 51,
    "start_time": "2022-06-27T15:05:29.950Z"
   },
   {
    "duration": 29,
    "start_time": "2022-06-27T15:05:30.005Z"
   },
   {
    "duration": 21,
    "start_time": "2022-06-27T15:05:30.036Z"
   },
   {
    "duration": 80,
    "start_time": "2022-06-27T15:05:30.063Z"
   },
   {
    "duration": 84,
    "start_time": "2022-06-27T15:05:30.145Z"
   },
   {
    "duration": 21,
    "start_time": "2022-06-27T15:05:30.230Z"
   },
   {
    "duration": 57,
    "start_time": "2022-06-27T15:05:30.253Z"
   },
   {
    "duration": 32,
    "start_time": "2022-06-27T15:05:30.312Z"
   },
   {
    "duration": 57,
    "start_time": "2022-06-27T15:05:30.346Z"
   },
   {
    "duration": 189,
    "start_time": "2022-06-27T15:05:30.405Z"
   },
   {
    "duration": 5,
    "start_time": "2022-06-27T15:05:30.596Z"
   },
   {
    "duration": 141,
    "start_time": "2022-06-27T15:05:30.603Z"
   },
   {
    "duration": 97,
    "start_time": "2022-06-27T15:05:30.745Z"
   },
   {
    "duration": 3,
    "start_time": "2022-06-27T15:05:30.845Z"
   },
   {
    "duration": 82,
    "start_time": "2022-06-27T15:05:30.850Z"
   },
   {
    "duration": 18,
    "start_time": "2022-06-27T15:05:30.934Z"
   },
   {
    "duration": 68,
    "start_time": "2022-06-27T15:05:30.954Z"
   },
   {
    "duration": 13,
    "start_time": "2022-06-27T15:05:31.024Z"
   },
   {
    "duration": 22,
    "start_time": "2022-06-27T15:05:31.039Z"
   },
   {
    "duration": 143,
    "start_time": "2022-06-27T15:05:31.063Z"
   },
   {
    "duration": 37,
    "start_time": "2022-06-27T15:05:31.207Z"
   },
   {
    "duration": 77,
    "start_time": "2022-06-27T15:05:31.246Z"
   },
   {
    "duration": 39,
    "start_time": "2022-06-27T15:05:31.325Z"
   },
   {
    "duration": 59,
    "start_time": "2022-06-27T15:05:31.373Z"
   },
   {
    "duration": 16,
    "start_time": "2022-06-27T15:05:31.435Z"
   },
   {
    "duration": 57,
    "start_time": "2022-06-27T15:05:31.453Z"
   },
   {
    "duration": 14,
    "start_time": "2022-06-27T15:05:31.512Z"
   },
   {
    "duration": 19,
    "start_time": "2022-06-27T15:05:31.527Z"
   },
   {
    "duration": 56,
    "start_time": "2022-06-27T15:05:31.547Z"
   },
   {
    "duration": 30,
    "start_time": "2022-06-27T15:05:31.605Z"
   },
   {
    "duration": 53,
    "start_time": "2022-06-27T15:05:31.637Z"
   },
   {
    "duration": 40,
    "start_time": "2022-06-27T15:05:31.692Z"
   },
   {
    "duration": 19420,
    "start_time": "2022-06-27T15:05:31.734Z"
   },
   {
    "duration": 484,
    "start_time": "2022-06-27T15:05:51.163Z"
   },
   {
    "duration": 0,
    "start_time": "2022-06-27T15:05:51.648Z"
   },
   {
    "duration": 10,
    "start_time": "2022-06-27T15:06:30.225Z"
   },
   {
    "duration": 75,
    "start_time": "2022-06-27T15:06:59.606Z"
   },
   {
    "duration": 425,
    "start_time": "2022-06-27T15:07:03.123Z"
   },
   {
    "duration": 609,
    "start_time": "2022-06-27T15:07:03.550Z"
   },
   {
    "duration": 25,
    "start_time": "2022-06-27T15:07:04.161Z"
   },
   {
    "duration": 55,
    "start_time": "2022-06-27T15:07:04.195Z"
   },
   {
    "duration": 27,
    "start_time": "2022-06-27T15:07:04.253Z"
   },
   {
    "duration": 47,
    "start_time": "2022-06-27T15:07:04.291Z"
   },
   {
    "duration": 13,
    "start_time": "2022-06-27T15:07:04.340Z"
   },
   {
    "duration": 56,
    "start_time": "2022-06-27T15:07:04.354Z"
   },
   {
    "duration": 38,
    "start_time": "2022-06-27T15:07:04.414Z"
   },
   {
    "duration": 38,
    "start_time": "2022-06-27T15:07:04.454Z"
   },
   {
    "duration": 35,
    "start_time": "2022-06-27T15:07:04.502Z"
   },
   {
    "duration": 13,
    "start_time": "2022-06-27T15:07:04.539Z"
   },
   {
    "duration": 171,
    "start_time": "2022-06-27T15:07:04.553Z"
   },
   {
    "duration": 4,
    "start_time": "2022-06-27T15:07:04.727Z"
   },
   {
    "duration": 139,
    "start_time": "2022-06-27T15:07:04.732Z"
   },
   {
    "duration": 74,
    "start_time": "2022-06-27T15:07:04.883Z"
   },
   {
    "duration": 5,
    "start_time": "2022-06-27T15:07:04.958Z"
   },
   {
    "duration": 55,
    "start_time": "2022-06-27T15:07:04.971Z"
   },
   {
    "duration": 19,
    "start_time": "2022-06-27T15:07:05.027Z"
   },
   {
    "duration": 9,
    "start_time": "2022-06-27T15:07:05.047Z"
   },
   {
    "duration": 70,
    "start_time": "2022-06-27T15:07:05.058Z"
   },
   {
    "duration": 11,
    "start_time": "2022-06-27T15:07:05.130Z"
   },
   {
    "duration": 23,
    "start_time": "2022-06-27T15:07:05.143Z"
   },
   {
    "duration": 14,
    "start_time": "2022-06-27T15:07:05.169Z"
   },
   {
    "duration": 38,
    "start_time": "2022-06-27T15:07:05.186Z"
   },
   {
    "duration": 23,
    "start_time": "2022-06-27T15:07:05.225Z"
   },
   {
    "duration": 24,
    "start_time": "2022-06-27T15:07:05.250Z"
   },
   {
    "duration": 50,
    "start_time": "2022-06-27T15:07:05.278Z"
   },
   {
    "duration": 7,
    "start_time": "2022-06-27T15:07:05.330Z"
   },
   {
    "duration": 10,
    "start_time": "2022-06-27T15:07:05.339Z"
   },
   {
    "duration": 6,
    "start_time": "2022-06-27T15:07:05.350Z"
   },
   {
    "duration": 70,
    "start_time": "2022-06-27T15:07:05.357Z"
   },
   {
    "duration": 17,
    "start_time": "2022-06-27T15:07:05.430Z"
   },
   {
    "duration": 25,
    "start_time": "2022-06-27T15:07:05.449Z"
   },
   {
    "duration": 52,
    "start_time": "2022-06-27T15:07:05.479Z"
   },
   {
    "duration": 19995,
    "start_time": "2022-06-27T15:07:05.533Z"
   },
   {
    "duration": 421,
    "start_time": "2022-06-27T15:07:25.530Z"
   },
   {
    "duration": 0,
    "start_time": "2022-06-27T15:07:25.953Z"
   },
   {
    "duration": 10,
    "start_time": "2022-06-27T15:07:33.816Z"
   },
   {
    "duration": 15,
    "start_time": "2022-06-27T15:07:34.477Z"
   },
   {
    "duration": 11,
    "start_time": "2022-06-27T15:08:19.621Z"
   },
   {
    "duration": 8,
    "start_time": "2022-06-27T15:08:19.877Z"
   },
   {
    "duration": 747,
    "start_time": "2022-06-27T15:13:31.979Z"
   },
   {
    "duration": 49,
    "start_time": "2022-06-27T15:16:14.984Z"
   },
   {
    "duration": 238,
    "start_time": "2022-06-27T15:16:24.537Z"
   },
   {
    "duration": 263,
    "start_time": "2022-06-27T15:16:38.512Z"
   },
   {
    "duration": 205,
    "start_time": "2022-06-27T15:17:23.320Z"
   },
   {
    "duration": 172,
    "start_time": "2022-06-27T15:17:41.084Z"
   },
   {
    "duration": 240,
    "start_time": "2022-06-27T15:17:47.705Z"
   },
   {
    "duration": 170,
    "start_time": "2022-06-27T15:17:58.019Z"
   },
   {
    "duration": 170,
    "start_time": "2022-06-27T15:23:36.587Z"
   },
   {
    "duration": 192,
    "start_time": "2022-06-27T15:35:44.637Z"
   },
   {
    "duration": 581,
    "start_time": "2022-06-27T15:38:15.851Z"
   },
   {
    "duration": 564,
    "start_time": "2022-06-27T15:39:21.460Z"
   },
   {
    "duration": 15,
    "start_time": "2022-06-27T15:39:58.946Z"
   },
   {
    "duration": 484,
    "start_time": "2022-06-27T15:40:54.553Z"
   },
   {
    "duration": 590,
    "start_time": "2022-06-27T15:40:55.039Z"
   },
   {
    "duration": 15,
    "start_time": "2022-06-27T15:40:55.632Z"
   },
   {
    "duration": 8,
    "start_time": "2022-06-27T15:40:55.649Z"
   },
   {
    "duration": 59,
    "start_time": "2022-06-27T15:40:55.664Z"
   },
   {
    "duration": 10,
    "start_time": "2022-06-27T15:40:55.725Z"
   },
   {
    "duration": 12,
    "start_time": "2022-06-27T15:40:55.738Z"
   },
   {
    "duration": 46,
    "start_time": "2022-06-27T15:40:55.751Z"
   },
   {
    "duration": 52,
    "start_time": "2022-06-27T15:40:55.798Z"
   },
   {
    "duration": 29,
    "start_time": "2022-06-27T15:40:55.852Z"
   },
   {
    "duration": 49,
    "start_time": "2022-06-27T15:40:55.884Z"
   },
   {
    "duration": 13,
    "start_time": "2022-06-27T15:40:55.935Z"
   },
   {
    "duration": 176,
    "start_time": "2022-06-27T15:40:55.951Z"
   },
   {
    "duration": 3,
    "start_time": "2022-06-27T15:40:56.129Z"
   },
   {
    "duration": 117,
    "start_time": "2022-06-27T15:40:56.133Z"
   },
   {
    "duration": 84,
    "start_time": "2022-06-27T15:40:56.251Z"
   },
   {
    "duration": 3,
    "start_time": "2022-06-27T15:40:56.336Z"
   },
   {
    "duration": 20,
    "start_time": "2022-06-27T15:40:56.340Z"
   },
   {
    "duration": 64,
    "start_time": "2022-06-27T15:40:56.361Z"
   },
   {
    "duration": 6,
    "start_time": "2022-06-27T15:40:56.426Z"
   },
   {
    "duration": 5,
    "start_time": "2022-06-27T15:40:56.434Z"
   },
   {
    "duration": 13,
    "start_time": "2022-06-27T15:40:56.440Z"
   },
   {
    "duration": 29,
    "start_time": "2022-06-27T15:40:56.454Z"
   },
   {
    "duration": 40,
    "start_time": "2022-06-27T15:40:56.485Z"
   },
   {
    "duration": 5,
    "start_time": "2022-06-27T15:40:56.527Z"
   },
   {
    "duration": 7,
    "start_time": "2022-06-27T15:40:56.534Z"
   },
   {
    "duration": 7,
    "start_time": "2022-06-27T15:40:56.543Z"
   },
   {
    "duration": 5,
    "start_time": "2022-06-27T15:40:56.551Z"
   },
   {
    "duration": 69,
    "start_time": "2022-06-27T15:40:56.558Z"
   },
   {
    "duration": 4,
    "start_time": "2022-06-27T15:40:56.629Z"
   },
   {
    "duration": 6,
    "start_time": "2022-06-27T15:40:56.635Z"
   },
   {
    "duration": 14,
    "start_time": "2022-06-27T15:40:56.643Z"
   },
   {
    "duration": 71,
    "start_time": "2022-06-27T15:40:56.659Z"
   },
   {
    "duration": 18,
    "start_time": "2022-06-27T15:40:56.731Z"
   },
   {
    "duration": 68,
    "start_time": "2022-06-27T15:40:56.750Z"
   },
   {
    "duration": 20277,
    "start_time": "2022-06-27T15:40:56.820Z"
   },
   {
    "duration": 12,
    "start_time": "2022-06-27T15:41:17.099Z"
   },
   {
    "duration": 23,
    "start_time": "2022-06-27T15:41:17.113Z"
   },
   {
    "duration": 603,
    "start_time": "2022-06-27T15:41:17.138Z"
   },
   {
    "duration": 671,
    "start_time": "2022-06-27T15:41:17.745Z"
   },
   {
    "duration": 10,
    "start_time": "2022-06-27T15:42:04.921Z"
   },
   {
    "duration": 6,
    "start_time": "2022-06-27T15:42:06.335Z"
   },
   {
    "duration": 411,
    "start_time": "2022-06-27T15:42:19.431Z"
   },
   {
    "duration": 505,
    "start_time": "2022-06-27T15:42:19.844Z"
   },
   {
    "duration": 48,
    "start_time": "2022-06-27T15:42:20.351Z"
   },
   {
    "duration": 107,
    "start_time": "2022-06-27T15:42:20.411Z"
   },
   {
    "duration": 18,
    "start_time": "2022-06-27T15:42:20.521Z"
   },
   {
    "duration": 55,
    "start_time": "2022-06-27T15:42:20.541Z"
   },
   {
    "duration": 150,
    "start_time": "2022-06-27T15:42:20.598Z"
   },
   {
    "duration": 174,
    "start_time": "2022-06-27T15:42:20.750Z"
   },
   {
    "duration": 72,
    "start_time": "2022-06-27T15:42:20.929Z"
   },
   {
    "duration": 66,
    "start_time": "2022-06-27T15:42:21.002Z"
   },
   {
    "duration": 67,
    "start_time": "2022-06-27T15:42:21.072Z"
   },
   {
    "duration": 35,
    "start_time": "2022-06-27T15:42:21.141Z"
   },
   {
    "duration": 222,
    "start_time": "2022-06-27T15:42:21.178Z"
   },
   {
    "duration": 5,
    "start_time": "2022-06-27T15:42:21.404Z"
   },
   {
    "duration": 219,
    "start_time": "2022-06-27T15:42:21.411Z"
   },
   {
    "duration": 89,
    "start_time": "2022-06-27T15:42:21.637Z"
   },
   {
    "duration": 5,
    "start_time": "2022-06-27T15:42:21.731Z"
   },
   {
    "duration": 66,
    "start_time": "2022-06-27T15:42:21.738Z"
   },
   {
    "duration": 30,
    "start_time": "2022-06-27T15:42:21.809Z"
   },
   {
    "duration": 27,
    "start_time": "2022-06-27T15:42:21.841Z"
   },
   {
    "duration": 58,
    "start_time": "2022-06-27T15:42:21.869Z"
   },
   {
    "duration": 31,
    "start_time": "2022-06-27T15:42:21.929Z"
   },
   {
    "duration": 101,
    "start_time": "2022-06-27T15:42:21.964Z"
   },
   {
    "duration": 37,
    "start_time": "2022-06-27T15:42:22.076Z"
   },
   {
    "duration": 17,
    "start_time": "2022-06-27T15:42:22.117Z"
   },
   {
    "duration": 20,
    "start_time": "2022-06-27T15:42:22.136Z"
   },
   {
    "duration": 59,
    "start_time": "2022-06-27T15:42:22.160Z"
   },
   {
    "duration": 12,
    "start_time": "2022-06-27T15:42:22.221Z"
   },
   {
    "duration": 15,
    "start_time": "2022-06-27T15:42:22.234Z"
   },
   {
    "duration": 73,
    "start_time": "2022-06-27T15:42:22.250Z"
   },
   {
    "duration": 13,
    "start_time": "2022-06-27T15:42:22.324Z"
   },
   {
    "duration": 18,
    "start_time": "2022-06-27T15:42:22.338Z"
   },
   {
    "duration": 53,
    "start_time": "2022-06-27T15:42:22.357Z"
   },
   {
    "duration": 27,
    "start_time": "2022-06-27T15:42:22.413Z"
   },
   {
    "duration": 28,
    "start_time": "2022-06-27T15:42:22.442Z"
   },
   {
    "duration": 19457,
    "start_time": "2022-06-27T15:42:22.474Z"
   },
   {
    "duration": 11,
    "start_time": "2022-06-27T15:42:41.933Z"
   },
   {
    "duration": 27,
    "start_time": "2022-06-27T15:42:41.945Z"
   },
   {
    "duration": 520,
    "start_time": "2022-06-27T15:42:41.976Z"
   },
   {
    "duration": 647,
    "start_time": "2022-06-27T15:42:42.505Z"
   },
   {
    "duration": 26,
    "start_time": "2022-06-27T15:43:24.092Z"
   },
   {
    "duration": 14,
    "start_time": "2022-06-27T15:43:24.679Z"
   },
   {
    "duration": 14,
    "start_time": "2022-06-27T15:44:19.354Z"
   },
   {
    "duration": 15,
    "start_time": "2022-06-27T15:44:19.779Z"
   },
   {
    "duration": 199,
    "start_time": "2022-06-27T15:44:24.712Z"
   },
   {
    "duration": 874,
    "start_time": "2022-06-27T15:44:37.645Z"
   },
   {
    "duration": 666,
    "start_time": "2022-06-27T15:45:31.238Z"
   },
   {
    "duration": 98,
    "start_time": "2022-06-27T15:53:24.504Z"
   },
   {
    "duration": 9,
    "start_time": "2022-06-27T15:53:37.427Z"
   },
   {
    "duration": 575,
    "start_time": "2022-06-27T15:56:55.852Z"
   },
   {
    "duration": 11,
    "start_time": "2022-06-27T15:57:24.976Z"
   },
   {
    "duration": 579,
    "start_time": "2022-06-27T15:57:41.995Z"
   },
   {
    "duration": 517,
    "start_time": "2022-06-27T15:58:24.733Z"
   },
   {
    "duration": 526,
    "start_time": "2022-06-27T15:59:15.037Z"
   },
   {
    "duration": 720,
    "start_time": "2022-06-27T16:04:12.626Z"
   },
   {
    "duration": 565,
    "start_time": "2022-06-27T16:05:53.286Z"
   },
   {
    "duration": 652,
    "start_time": "2022-06-27T16:06:27.812Z"
   },
   {
    "duration": 1040,
    "start_time": "2022-06-27T16:07:01.420Z"
   },
   {
    "duration": 692,
    "start_time": "2022-06-27T17:40:30.221Z"
   },
   {
    "duration": 827,
    "start_time": "2022-06-27T17:40:30.915Z"
   },
   {
    "duration": 11,
    "start_time": "2022-06-27T17:40:31.744Z"
   },
   {
    "duration": 22,
    "start_time": "2022-06-27T17:40:31.757Z"
   },
   {
    "duration": 22,
    "start_time": "2022-06-27T17:40:31.783Z"
   },
   {
    "duration": 28,
    "start_time": "2022-06-27T17:40:31.807Z"
   },
   {
    "duration": 15,
    "start_time": "2022-06-27T17:40:31.837Z"
   },
   {
    "duration": 58,
    "start_time": "2022-06-27T17:40:31.853Z"
   },
   {
    "duration": 21,
    "start_time": "2022-06-27T17:40:31.912Z"
   },
   {
    "duration": 20,
    "start_time": "2022-06-27T17:40:31.935Z"
   },
   {
    "duration": 49,
    "start_time": "2022-06-27T17:40:31.956Z"
   },
   {
    "duration": 24,
    "start_time": "2022-06-27T17:40:32.007Z"
   },
   {
    "duration": 152,
    "start_time": "2022-06-27T17:40:32.033Z"
   },
   {
    "duration": 6,
    "start_time": "2022-06-27T17:40:32.188Z"
   },
   {
    "duration": 111,
    "start_time": "2022-06-27T17:40:32.196Z"
   },
   {
    "duration": 82,
    "start_time": "2022-06-27T17:40:32.309Z"
   },
   {
    "duration": 3,
    "start_time": "2022-06-27T17:40:32.392Z"
   },
   {
    "duration": 17,
    "start_time": "2022-06-27T17:40:32.397Z"
   },
   {
    "duration": 11,
    "start_time": "2022-06-27T17:40:32.416Z"
   },
   {
    "duration": 7,
    "start_time": "2022-06-27T17:40:32.428Z"
   },
   {
    "duration": 12,
    "start_time": "2022-06-27T17:40:32.437Z"
   },
   {
    "duration": 22,
    "start_time": "2022-06-27T17:40:32.450Z"
   },
   {
    "duration": 49,
    "start_time": "2022-06-27T17:40:32.476Z"
   },
   {
    "duration": 10,
    "start_time": "2022-06-27T17:40:32.527Z"
   },
   {
    "duration": 12,
    "start_time": "2022-06-27T17:40:32.538Z"
   },
   {
    "duration": 52,
    "start_time": "2022-06-27T17:40:32.552Z"
   },
   {
    "duration": 16,
    "start_time": "2022-06-27T17:40:32.605Z"
   },
   {
    "duration": 10,
    "start_time": "2022-06-27T17:40:32.622Z"
   },
   {
    "duration": 13,
    "start_time": "2022-06-27T17:40:32.633Z"
   },
   {
    "duration": 19,
    "start_time": "2022-06-27T17:40:32.647Z"
   },
   {
    "duration": 28,
    "start_time": "2022-06-27T17:40:32.671Z"
   },
   {
    "duration": 14,
    "start_time": "2022-06-27T17:40:32.700Z"
   },
   {
    "duration": 10,
    "start_time": "2022-06-27T17:40:32.716Z"
   },
   {
    "duration": 15,
    "start_time": "2022-06-27T17:40:32.727Z"
   },
   {
    "duration": 41,
    "start_time": "2022-06-27T17:40:32.744Z"
   },
   {
    "duration": 18217,
    "start_time": "2022-06-27T17:40:32.793Z"
   },
   {
    "duration": 14,
    "start_time": "2022-06-27T17:40:51.013Z"
   },
   {
    "duration": 19,
    "start_time": "2022-06-27T17:40:51.028Z"
   },
   {
    "duration": 244,
    "start_time": "2022-06-27T17:40:51.048Z"
   },
   {
    "duration": 9,
    "start_time": "2022-06-27T17:40:51.293Z"
   },
   {
    "duration": 753,
    "start_time": "2022-06-27T17:40:51.306Z"
   },
   {
    "duration": 545,
    "start_time": "2022-06-27T17:40:52.061Z"
   },
   {
    "duration": 575,
    "start_time": "2022-06-27T17:43:36.519Z"
   },
   {
    "duration": 636,
    "start_time": "2022-06-27T17:44:03.445Z"
   },
   {
    "duration": 75,
    "start_time": "2022-06-27T17:46:15.587Z"
   },
   {
    "duration": 439,
    "start_time": "2022-06-27T17:46:34.912Z"
   },
   {
    "duration": 296,
    "start_time": "2022-06-27T17:46:39.345Z"
   },
   {
    "duration": 45,
    "start_time": "2022-06-27T17:47:44.454Z"
   },
   {
    "duration": 33,
    "start_time": "2022-06-27T17:48:00.598Z"
   },
   {
    "duration": 54,
    "start_time": "2022-06-27T18:38:08.200Z"
   },
   {
    "duration": 1607,
    "start_time": "2022-06-28T13:21:27.317Z"
   },
   {
    "duration": 1124,
    "start_time": "2022-06-28T13:21:28.927Z"
   },
   {
    "duration": 31,
    "start_time": "2022-06-28T13:21:30.053Z"
   },
   {
    "duration": 25,
    "start_time": "2022-06-28T13:21:30.086Z"
   },
   {
    "duration": 25,
    "start_time": "2022-06-28T13:21:30.114Z"
   },
   {
    "duration": 44,
    "start_time": "2022-06-28T13:21:30.142Z"
   },
   {
    "duration": 28,
    "start_time": "2022-06-28T13:21:30.188Z"
   },
   {
    "duration": 47,
    "start_time": "2022-06-28T13:21:30.218Z"
   },
   {
    "duration": 68,
    "start_time": "2022-06-28T13:21:30.269Z"
   },
   {
    "duration": 39,
    "start_time": "2022-06-28T13:21:30.340Z"
   },
   {
    "duration": 36,
    "start_time": "2022-06-28T13:21:30.381Z"
   },
   {
    "duration": 26,
    "start_time": "2022-06-28T13:21:30.420Z"
   },
   {
    "duration": 188,
    "start_time": "2022-06-28T13:21:30.449Z"
   },
   {
    "duration": 4,
    "start_time": "2022-06-28T13:21:30.641Z"
   },
   {
    "duration": 142,
    "start_time": "2022-06-28T13:21:30.648Z"
   },
   {
    "duration": 98,
    "start_time": "2022-06-28T13:21:30.796Z"
   },
   {
    "duration": 4,
    "start_time": "2022-06-28T13:21:30.896Z"
   },
   {
    "duration": 23,
    "start_time": "2022-06-28T13:21:30.902Z"
   },
   {
    "duration": 25,
    "start_time": "2022-06-28T13:21:30.928Z"
   },
   {
    "duration": 43,
    "start_time": "2022-06-28T13:21:30.955Z"
   },
   {
    "duration": 13,
    "start_time": "2022-06-28T13:21:31.001Z"
   },
   {
    "duration": 17,
    "start_time": "2022-06-28T13:21:31.017Z"
   },
   {
    "duration": 36,
    "start_time": "2022-06-28T13:21:31.036Z"
   },
   {
    "duration": 14,
    "start_time": "2022-06-28T13:21:31.075Z"
   },
   {
    "duration": 21,
    "start_time": "2022-06-28T13:21:31.091Z"
   },
   {
    "duration": 8,
    "start_time": "2022-06-28T13:21:31.114Z"
   },
   {
    "duration": 17,
    "start_time": "2022-06-28T13:21:31.124Z"
   },
   {
    "duration": 14,
    "start_time": "2022-06-28T13:21:31.143Z"
   },
   {
    "duration": 30,
    "start_time": "2022-06-28T13:21:31.159Z"
   },
   {
    "duration": 10,
    "start_time": "2022-06-28T13:21:31.191Z"
   },
   {
    "duration": 18,
    "start_time": "2022-06-28T13:21:31.203Z"
   },
   {
    "duration": 24,
    "start_time": "2022-06-28T13:21:31.223Z"
   },
   {
    "duration": 47,
    "start_time": "2022-06-28T13:21:31.250Z"
   },
   {
    "duration": 20,
    "start_time": "2022-06-28T13:21:31.299Z"
   },
   {
    "duration": 19,
    "start_time": "2022-06-28T13:21:31.321Z"
   },
   {
    "duration": 19214,
    "start_time": "2022-06-28T13:21:31.342Z"
   },
   {
    "duration": 19,
    "start_time": "2022-06-28T13:21:50.561Z"
   },
   {
    "duration": 19,
    "start_time": "2022-06-28T13:21:50.582Z"
   },
   {
    "duration": 271,
    "start_time": "2022-06-28T13:21:50.603Z"
   },
   {
    "duration": 12,
    "start_time": "2022-06-28T13:21:50.875Z"
   },
   {
    "duration": 584,
    "start_time": "2022-06-28T13:21:50.892Z"
   },
   {
    "duration": 635,
    "start_time": "2022-06-28T13:21:51.482Z"
   },
   {
    "duration": 49,
    "start_time": "2022-06-28T13:21:52.119Z"
   },
   {
    "duration": 35,
    "start_time": "2022-06-28T13:21:52.170Z"
   },
   {
    "duration": 386,
    "start_time": "2022-06-28T13:21:52.207Z"
   },
   {
    "duration": 33,
    "start_time": "2022-06-28T13:46:46.147Z"
   },
   {
    "duration": 28,
    "start_time": "2022-06-28T13:49:07.149Z"
   },
   {
    "duration": 22,
    "start_time": "2022-06-28T13:49:09.048Z"
   },
   {
    "duration": 13,
    "start_time": "2022-06-28T13:51:02.167Z"
   },
   {
    "duration": 1278,
    "start_time": "2022-06-28T13:53:51.673Z"
   },
   {
    "duration": 12,
    "start_time": "2022-06-28T13:54:01.441Z"
   },
   {
    "duration": 5,
    "start_time": "2022-06-28T13:54:14.597Z"
   },
   {
    "duration": 4,
    "start_time": "2022-06-28T13:54:24.576Z"
   },
   {
    "duration": 5,
    "start_time": "2022-06-28T13:56:57.558Z"
   },
   {
    "duration": 5,
    "start_time": "2022-06-28T13:56:58.191Z"
   },
   {
    "duration": 1273,
    "start_time": "2022-06-28T13:58:28.961Z"
   },
   {
    "duration": 441,
    "start_time": "2022-06-28T13:58:30.236Z"
   },
   {
    "duration": 13,
    "start_time": "2022-06-28T13:58:30.679Z"
   },
   {
    "duration": 17,
    "start_time": "2022-06-28T13:58:30.694Z"
   },
   {
    "duration": 24,
    "start_time": "2022-06-28T13:58:30.714Z"
   },
   {
    "duration": 21,
    "start_time": "2022-06-28T13:58:30.741Z"
   },
   {
    "duration": 24,
    "start_time": "2022-06-28T13:58:30.767Z"
   },
   {
    "duration": 55,
    "start_time": "2022-06-28T13:58:30.795Z"
   },
   {
    "duration": 48,
    "start_time": "2022-06-28T13:58:30.852Z"
   },
   {
    "duration": 48,
    "start_time": "2022-06-28T13:58:30.902Z"
   },
   {
    "duration": 67,
    "start_time": "2022-06-28T13:58:30.952Z"
   },
   {
    "duration": 53,
    "start_time": "2022-06-28T13:58:31.021Z"
   },
   {
    "duration": 176,
    "start_time": "2022-06-28T13:58:31.078Z"
   },
   {
    "duration": 4,
    "start_time": "2022-06-28T13:58:31.260Z"
   },
   {
    "duration": 114,
    "start_time": "2022-06-28T13:58:31.271Z"
   },
   {
    "duration": 80,
    "start_time": "2022-06-28T13:58:31.387Z"
   },
   {
    "duration": 3,
    "start_time": "2022-06-28T13:58:31.476Z"
   },
   {
    "duration": 21,
    "start_time": "2022-06-28T13:58:31.480Z"
   },
   {
    "duration": 84,
    "start_time": "2022-06-28T13:58:31.503Z"
   },
   {
    "duration": 17,
    "start_time": "2022-06-28T13:58:31.589Z"
   },
   {
    "duration": 9,
    "start_time": "2022-06-28T13:58:31.607Z"
   },
   {
    "duration": 19,
    "start_time": "2022-06-28T13:58:31.618Z"
   },
   {
    "duration": 23,
    "start_time": "2022-06-28T13:58:31.639Z"
   },
   {
    "duration": 33,
    "start_time": "2022-06-28T13:58:31.671Z"
   },
   {
    "duration": 16,
    "start_time": "2022-06-28T13:58:31.705Z"
   },
   {
    "duration": 9,
    "start_time": "2022-06-28T13:58:31.722Z"
   },
   {
    "duration": 19,
    "start_time": "2022-06-28T13:58:31.733Z"
   },
   {
    "duration": 13,
    "start_time": "2022-06-28T13:58:31.754Z"
   },
   {
    "duration": 21,
    "start_time": "2022-06-28T13:58:31.769Z"
   },
   {
    "duration": 16,
    "start_time": "2022-06-28T13:58:31.792Z"
   },
   {
    "duration": 13,
    "start_time": "2022-06-28T13:58:31.810Z"
   },
   {
    "duration": 16,
    "start_time": "2022-06-28T13:58:31.824Z"
   },
   {
    "duration": 14,
    "start_time": "2022-06-28T13:58:31.841Z"
   },
   {
    "duration": 31,
    "start_time": "2022-06-28T13:58:31.856Z"
   },
   {
    "duration": 12,
    "start_time": "2022-06-28T13:58:31.890Z"
   },
   {
    "duration": 17873,
    "start_time": "2022-06-28T13:58:31.904Z"
   },
   {
    "duration": 14,
    "start_time": "2022-06-28T13:58:49.779Z"
   },
   {
    "duration": 9,
    "start_time": "2022-06-28T13:58:49.795Z"
   },
   {
    "duration": 232,
    "start_time": "2022-06-28T13:58:49.806Z"
   },
   {
    "duration": 10,
    "start_time": "2022-06-28T13:58:50.040Z"
   },
   {
    "duration": 531,
    "start_time": "2022-06-28T13:58:50.070Z"
   },
   {
    "duration": 619,
    "start_time": "2022-06-28T13:58:50.602Z"
   },
   {
    "duration": 22,
    "start_time": "2022-06-28T13:58:51.222Z"
   },
   {
    "duration": 27,
    "start_time": "2022-06-28T13:58:51.245Z"
   },
   {
    "duration": 14,
    "start_time": "2022-06-28T13:58:51.273Z"
   },
   {
    "duration": 10,
    "start_time": "2022-06-28T13:58:51.289Z"
   },
   {
    "duration": 27,
    "start_time": "2022-06-28T13:58:51.300Z"
   },
   {
    "duration": 6,
    "start_time": "2022-06-28T13:58:51.329Z"
   },
   {
    "duration": 306,
    "start_time": "2022-06-28T13:58:51.336Z"
   },
   {
    "duration": 13,
    "start_time": "2022-06-28T13:59:05.674Z"
   },
   {
    "duration": 121,
    "start_time": "2022-06-28T14:00:43.834Z"
   },
   {
    "duration": 1240,
    "start_time": "2022-06-28T14:00:52.993Z"
   },
   {
    "duration": 409,
    "start_time": "2022-06-28T14:00:54.235Z"
   },
   {
    "duration": 13,
    "start_time": "2022-06-28T14:00:54.646Z"
   },
   {
    "duration": 12,
    "start_time": "2022-06-28T14:00:54.671Z"
   },
   {
    "duration": 10,
    "start_time": "2022-06-28T14:00:54.685Z"
   },
   {
    "duration": 12,
    "start_time": "2022-06-28T14:00:54.697Z"
   },
   {
    "duration": 17,
    "start_time": "2022-06-28T14:00:54.710Z"
   },
   {
    "duration": 44,
    "start_time": "2022-06-28T14:00:54.729Z"
   },
   {
    "duration": 34,
    "start_time": "2022-06-28T14:00:54.776Z"
   },
   {
    "duration": 18,
    "start_time": "2022-06-28T14:00:54.811Z"
   },
   {
    "duration": 9,
    "start_time": "2022-06-28T14:00:54.831Z"
   },
   {
    "duration": 34,
    "start_time": "2022-06-28T14:00:54.842Z"
   },
   {
    "duration": 137,
    "start_time": "2022-06-28T14:00:54.877Z"
   },
   {
    "duration": 3,
    "start_time": "2022-06-28T14:00:55.018Z"
   },
   {
    "duration": 100,
    "start_time": "2022-06-28T14:00:55.023Z"
   },
   {
    "duration": 75,
    "start_time": "2022-06-28T14:00:55.125Z"
   },
   {
    "duration": 3,
    "start_time": "2022-06-28T14:00:55.202Z"
   },
   {
    "duration": 10,
    "start_time": "2022-06-28T14:00:55.207Z"
   },
   {
    "duration": 9,
    "start_time": "2022-06-28T14:00:55.219Z"
   },
   {
    "duration": 9,
    "start_time": "2022-06-28T14:00:55.230Z"
   },
   {
    "duration": 35,
    "start_time": "2022-06-28T14:00:55.240Z"
   },
   {
    "duration": 13,
    "start_time": "2022-06-28T14:00:55.277Z"
   },
   {
    "duration": 23,
    "start_time": "2022-06-28T14:00:55.292Z"
   },
   {
    "duration": 13,
    "start_time": "2022-06-28T14:00:55.317Z"
   },
   {
    "duration": 13,
    "start_time": "2022-06-28T14:00:55.331Z"
   },
   {
    "duration": 7,
    "start_time": "2022-06-28T14:00:55.346Z"
   },
   {
    "duration": 28,
    "start_time": "2022-06-28T14:00:55.355Z"
   },
   {
    "duration": 7,
    "start_time": "2022-06-28T14:00:55.385Z"
   },
   {
    "duration": 8,
    "start_time": "2022-06-28T14:00:55.393Z"
   },
   {
    "duration": 7,
    "start_time": "2022-06-28T14:00:55.403Z"
   },
   {
    "duration": 7,
    "start_time": "2022-06-28T14:00:55.411Z"
   },
   {
    "duration": 13,
    "start_time": "2022-06-28T14:00:55.420Z"
   },
   {
    "duration": 13,
    "start_time": "2022-06-28T14:00:55.435Z"
   },
   {
    "duration": 20,
    "start_time": "2022-06-28T14:00:55.450Z"
   },
   {
    "duration": 19,
    "start_time": "2022-06-28T14:00:55.476Z"
   },
   {
    "duration": 17806,
    "start_time": "2022-06-28T14:00:55.497Z"
   },
   {
    "duration": 11,
    "start_time": "2022-06-28T14:01:13.304Z"
   },
   {
    "duration": 6,
    "start_time": "2022-06-28T14:01:13.317Z"
   },
   {
    "duration": 176,
    "start_time": "2022-06-28T14:01:13.324Z"
   },
   {
    "duration": 8,
    "start_time": "2022-06-28T14:01:13.502Z"
   },
   {
    "duration": 692,
    "start_time": "2022-06-28T14:01:13.513Z"
   },
   {
    "duration": 635,
    "start_time": "2022-06-28T14:01:14.208Z"
   },
   {
    "duration": 36,
    "start_time": "2022-06-28T14:01:14.845Z"
   },
   {
    "duration": 122,
    "start_time": "2022-06-28T14:01:14.882Z"
   },
   {
    "duration": 0,
    "start_time": "2022-06-28T14:01:15.006Z"
   },
   {
    "duration": 0,
    "start_time": "2022-06-28T14:01:15.008Z"
   },
   {
    "duration": 0,
    "start_time": "2022-06-28T14:01:15.009Z"
   },
   {
    "duration": 0,
    "start_time": "2022-06-28T14:01:15.011Z"
   },
   {
    "duration": 5,
    "start_time": "2022-06-28T14:01:38.552Z"
   },
   {
    "duration": 9,
    "start_time": "2022-06-28T14:06:34.144Z"
   },
   {
    "duration": 8,
    "start_time": "2022-06-28T14:06:42.225Z"
   },
   {
    "duration": 1190,
    "start_time": "2022-06-28T14:06:50.227Z"
   },
   {
    "duration": 411,
    "start_time": "2022-06-28T14:06:51.419Z"
   },
   {
    "duration": 12,
    "start_time": "2022-06-28T14:06:51.832Z"
   },
   {
    "duration": 8,
    "start_time": "2022-06-28T14:06:51.846Z"
   },
   {
    "duration": 25,
    "start_time": "2022-06-28T14:06:51.855Z"
   },
   {
    "duration": 14,
    "start_time": "2022-06-28T14:06:51.881Z"
   },
   {
    "duration": 12,
    "start_time": "2022-06-28T14:06:51.897Z"
   },
   {
    "duration": 29,
    "start_time": "2022-06-28T14:06:51.911Z"
   },
   {
    "duration": 34,
    "start_time": "2022-06-28T14:06:51.941Z"
   },
   {
    "duration": 18,
    "start_time": "2022-06-28T14:06:51.978Z"
   },
   {
    "duration": 10,
    "start_time": "2022-06-28T14:06:51.997Z"
   },
   {
    "duration": 14,
    "start_time": "2022-06-28T14:06:52.008Z"
   },
   {
    "duration": 152,
    "start_time": "2022-06-28T14:06:52.023Z"
   },
   {
    "duration": 3,
    "start_time": "2022-06-28T14:06:52.176Z"
   },
   {
    "duration": 100,
    "start_time": "2022-06-28T14:06:52.181Z"
   },
   {
    "duration": 84,
    "start_time": "2022-06-28T14:06:52.283Z"
   },
   {
    "duration": 2,
    "start_time": "2022-06-28T14:06:52.369Z"
   },
   {
    "duration": 16,
    "start_time": "2022-06-28T14:06:52.375Z"
   },
   {
    "duration": 11,
    "start_time": "2022-06-28T14:06:52.393Z"
   },
   {
    "duration": 12,
    "start_time": "2022-06-28T14:06:52.406Z"
   },
   {
    "duration": 6,
    "start_time": "2022-06-28T14:06:52.421Z"
   },
   {
    "duration": 11,
    "start_time": "2022-06-28T14:06:52.429Z"
   },
   {
    "duration": 29,
    "start_time": "2022-06-28T14:06:52.442Z"
   },
   {
    "duration": 25,
    "start_time": "2022-06-28T14:06:52.476Z"
   },
   {
    "duration": 7,
    "start_time": "2022-06-28T14:06:52.502Z"
   },
   {
    "duration": 15,
    "start_time": "2022-06-28T14:06:52.510Z"
   },
   {
    "duration": 15,
    "start_time": "2022-06-28T14:06:52.527Z"
   },
   {
    "duration": 37,
    "start_time": "2022-06-28T14:06:52.545Z"
   },
   {
    "duration": 11,
    "start_time": "2022-06-28T14:06:52.584Z"
   },
   {
    "duration": 15,
    "start_time": "2022-06-28T14:06:52.596Z"
   },
   {
    "duration": 10,
    "start_time": "2022-06-28T14:06:52.613Z"
   },
   {
    "duration": 17,
    "start_time": "2022-06-28T14:06:52.625Z"
   },
   {
    "duration": 22,
    "start_time": "2022-06-28T14:06:52.645Z"
   },
   {
    "duration": 32,
    "start_time": "2022-06-28T14:06:52.669Z"
   },
   {
    "duration": 20,
    "start_time": "2022-06-28T14:06:52.704Z"
   },
   {
    "duration": 17581,
    "start_time": "2022-06-28T14:06:52.726Z"
   },
   {
    "duration": 12,
    "start_time": "2022-06-28T14:07:10.308Z"
   },
   {
    "duration": 12,
    "start_time": "2022-06-28T14:07:10.322Z"
   },
   {
    "duration": 192,
    "start_time": "2022-06-28T14:07:10.335Z"
   },
   {
    "duration": 8,
    "start_time": "2022-06-28T14:07:10.529Z"
   },
   {
    "duration": 562,
    "start_time": "2022-06-28T14:07:10.539Z"
   },
   {
    "duration": 646,
    "start_time": "2022-06-28T14:07:11.103Z"
   },
   {
    "duration": 30,
    "start_time": "2022-06-28T14:07:11.751Z"
   },
   {
    "duration": 22,
    "start_time": "2022-06-28T14:07:11.783Z"
   },
   {
    "duration": 10,
    "start_time": "2022-06-28T14:07:11.807Z"
   },
   {
    "duration": 118,
    "start_time": "2022-06-28T14:07:55.087Z"
   },
   {
    "duration": 11,
    "start_time": "2022-06-28T14:08:07.552Z"
   },
   {
    "duration": 13,
    "start_time": "2022-06-28T14:08:13.535Z"
   },
   {
    "duration": 16,
    "start_time": "2022-06-28T14:08:39.878Z"
   },
   {
    "duration": 5,
    "start_time": "2022-06-28T14:09:30.919Z"
   },
   {
    "duration": 10,
    "start_time": "2022-06-28T14:09:49.073Z"
   },
   {
    "duration": 10,
    "start_time": "2022-06-28T14:09:55.639Z"
   },
   {
    "duration": 6,
    "start_time": "2022-06-28T14:33:01.306Z"
   },
   {
    "duration": 9,
    "start_time": "2022-06-28T14:33:04.797Z"
   },
   {
    "duration": 8,
    "start_time": "2022-06-28T14:33:07.982Z"
   },
   {
    "duration": 68,
    "start_time": "2022-06-28T14:37:44.612Z"
   },
   {
    "duration": 14,
    "start_time": "2022-06-28T14:37:53.773Z"
   },
   {
    "duration": 8,
    "start_time": "2022-06-28T14:38:54.728Z"
   },
   {
    "duration": 9,
    "start_time": "2022-06-28T14:39:00.429Z"
   },
   {
    "duration": 307,
    "start_time": "2022-06-28T14:40:15.172Z"
   },
   {
    "duration": 5,
    "start_time": "2022-06-28T14:40:41.196Z"
   },
   {
    "duration": 9,
    "start_time": "2022-06-28T14:40:54.919Z"
   },
   {
    "duration": 1203,
    "start_time": "2022-06-28T14:42:14.225Z"
   },
   {
    "duration": 394,
    "start_time": "2022-06-28T14:42:15.430Z"
   },
   {
    "duration": 12,
    "start_time": "2022-06-28T14:42:15.826Z"
   },
   {
    "duration": 36,
    "start_time": "2022-06-28T14:42:15.840Z"
   },
   {
    "duration": 23,
    "start_time": "2022-06-28T14:42:15.878Z"
   },
   {
    "duration": 26,
    "start_time": "2022-06-28T14:42:15.903Z"
   },
   {
    "duration": 23,
    "start_time": "2022-06-28T14:42:15.931Z"
   },
   {
    "duration": 79,
    "start_time": "2022-06-28T14:42:15.956Z"
   },
   {
    "duration": 25,
    "start_time": "2022-06-28T14:42:16.037Z"
   },
   {
    "duration": 32,
    "start_time": "2022-06-28T14:42:16.063Z"
   },
   {
    "duration": 15,
    "start_time": "2022-06-28T14:42:16.096Z"
   },
   {
    "duration": 15,
    "start_time": "2022-06-28T14:42:16.113Z"
   },
   {
    "duration": 138,
    "start_time": "2022-06-28T14:42:16.130Z"
   },
   {
    "duration": 2,
    "start_time": "2022-06-28T14:42:16.272Z"
   },
   {
    "duration": 99,
    "start_time": "2022-06-28T14:42:16.276Z"
   },
   {
    "duration": 66,
    "start_time": "2022-06-28T14:42:16.377Z"
   },
   {
    "duration": 3,
    "start_time": "2022-06-28T14:42:16.444Z"
   },
   {
    "duration": 24,
    "start_time": "2022-06-28T14:42:16.449Z"
   },
   {
    "duration": 15,
    "start_time": "2022-06-28T14:42:16.475Z"
   },
   {
    "duration": 8,
    "start_time": "2022-06-28T14:42:16.492Z"
   },
   {
    "duration": 9,
    "start_time": "2022-06-28T14:42:16.501Z"
   },
   {
    "duration": 12,
    "start_time": "2022-06-28T14:42:16.511Z"
   },
   {
    "duration": 16,
    "start_time": "2022-06-28T14:42:16.524Z"
   },
   {
    "duration": 29,
    "start_time": "2022-06-28T14:42:16.542Z"
   },
   {
    "duration": 9,
    "start_time": "2022-06-28T14:42:16.572Z"
   },
   {
    "duration": 12,
    "start_time": "2022-06-28T14:42:16.583Z"
   },
   {
    "duration": 13,
    "start_time": "2022-06-28T14:42:16.596Z"
   },
   {
    "duration": 8,
    "start_time": "2022-06-28T14:42:16.611Z"
   },
   {
    "duration": 11,
    "start_time": "2022-06-28T14:42:16.620Z"
   },
   {
    "duration": 4,
    "start_time": "2022-06-28T14:42:16.633Z"
   },
   {
    "duration": 9,
    "start_time": "2022-06-28T14:42:16.639Z"
   },
   {
    "duration": 22,
    "start_time": "2022-06-28T14:42:16.650Z"
   },
   {
    "duration": 13,
    "start_time": "2022-06-28T14:42:16.674Z"
   },
   {
    "duration": 17,
    "start_time": "2022-06-28T14:42:16.689Z"
   },
   {
    "duration": 12,
    "start_time": "2022-06-28T14:42:16.708Z"
   },
   {
    "duration": 17598,
    "start_time": "2022-06-28T14:42:16.721Z"
   },
   {
    "duration": 10,
    "start_time": "2022-06-28T14:42:34.321Z"
   },
   {
    "duration": 7,
    "start_time": "2022-06-28T14:42:34.333Z"
   },
   {
    "duration": 184,
    "start_time": "2022-06-28T14:42:34.341Z"
   },
   {
    "duration": 9,
    "start_time": "2022-06-28T14:42:34.526Z"
   },
   {
    "duration": 555,
    "start_time": "2022-06-28T14:42:34.538Z"
   },
   {
    "duration": 628,
    "start_time": "2022-06-28T14:42:35.095Z"
   },
   {
    "duration": 20,
    "start_time": "2022-06-28T14:42:35.725Z"
   },
   {
    "duration": 36,
    "start_time": "2022-06-28T14:42:35.746Z"
   },
   {
    "duration": 5,
    "start_time": "2022-06-28T14:42:35.785Z"
   },
   {
    "duration": 13,
    "start_time": "2022-06-28T14:42:35.792Z"
   },
   {
    "duration": 12,
    "start_time": "2022-06-28T14:42:35.806Z"
   },
   {
    "duration": 14,
    "start_time": "2022-06-28T14:42:35.820Z"
   },
   {
    "duration": 16,
    "start_time": "2022-06-28T14:42:35.835Z"
   },
   {
    "duration": 16,
    "start_time": "2022-06-28T14:42:35.859Z"
   },
   {
    "duration": 9,
    "start_time": "2022-06-28T14:43:02.298Z"
   },
   {
    "duration": 426,
    "start_time": "2022-06-28T14:46:31.175Z"
   },
   {
    "duration": 1315,
    "start_time": "2022-06-28T15:11:18.226Z"
   },
   {
    "duration": 506,
    "start_time": "2022-06-28T15:11:19.543Z"
   },
   {
    "duration": 30,
    "start_time": "2022-06-28T15:11:20.052Z"
   },
   {
    "duration": 36,
    "start_time": "2022-06-28T15:11:20.085Z"
   },
   {
    "duration": 42,
    "start_time": "2022-06-28T15:11:20.123Z"
   },
   {
    "duration": 44,
    "start_time": "2022-06-28T15:11:20.170Z"
   },
   {
    "duration": 21,
    "start_time": "2022-06-28T15:11:20.216Z"
   },
   {
    "duration": 79,
    "start_time": "2022-06-28T15:11:20.239Z"
   },
   {
    "duration": 47,
    "start_time": "2022-06-28T15:11:20.321Z"
   },
   {
    "duration": 34,
    "start_time": "2022-06-28T15:11:20.373Z"
   },
   {
    "duration": 27,
    "start_time": "2022-06-28T15:11:20.409Z"
   },
   {
    "duration": 19,
    "start_time": "2022-06-28T15:11:20.438Z"
   },
   {
    "duration": 178,
    "start_time": "2022-06-28T15:11:20.461Z"
   },
   {
    "duration": 3,
    "start_time": "2022-06-28T15:11:20.641Z"
   },
   {
    "duration": 126,
    "start_time": "2022-06-28T15:11:20.646Z"
   },
   {
    "duration": 80,
    "start_time": "2022-06-28T15:11:20.776Z"
   },
   {
    "duration": 7,
    "start_time": "2022-06-28T15:11:20.858Z"
   },
   {
    "duration": 38,
    "start_time": "2022-06-28T15:11:20.867Z"
   },
   {
    "duration": 18,
    "start_time": "2022-06-28T15:11:20.907Z"
   },
   {
    "duration": 19,
    "start_time": "2022-06-28T15:11:20.927Z"
   },
   {
    "duration": 30,
    "start_time": "2022-06-28T15:11:20.948Z"
   },
   {
    "duration": 34,
    "start_time": "2022-06-28T15:11:20.981Z"
   },
   {
    "duration": 60,
    "start_time": "2022-06-28T15:11:21.017Z"
   },
   {
    "duration": 15,
    "start_time": "2022-06-28T15:11:21.083Z"
   },
   {
    "duration": 8,
    "start_time": "2022-06-28T15:11:21.100Z"
   },
   {
    "duration": 17,
    "start_time": "2022-06-28T15:11:21.110Z"
   },
   {
    "duration": 9,
    "start_time": "2022-06-28T15:11:21.129Z"
   },
   {
    "duration": 10,
    "start_time": "2022-06-28T15:11:21.143Z"
   },
   {
    "duration": 31,
    "start_time": "2022-06-28T15:11:21.155Z"
   },
   {
    "duration": 41,
    "start_time": "2022-06-28T15:11:21.188Z"
   },
   {
    "duration": 31,
    "start_time": "2022-06-28T15:11:21.231Z"
   },
   {
    "duration": 50,
    "start_time": "2022-06-28T15:11:21.264Z"
   },
   {
    "duration": 37,
    "start_time": "2022-06-28T15:11:21.316Z"
   },
   {
    "duration": 45,
    "start_time": "2022-06-28T15:11:21.356Z"
   },
   {
    "duration": 14,
    "start_time": "2022-06-28T15:11:21.403Z"
   },
   {
    "duration": 18426,
    "start_time": "2022-06-28T15:11:21.419Z"
   },
   {
    "duration": 25,
    "start_time": "2022-06-28T15:11:39.847Z"
   },
   {
    "duration": 11,
    "start_time": "2022-06-28T15:11:39.874Z"
   },
   {
    "duration": 195,
    "start_time": "2022-06-28T15:11:39.887Z"
   },
   {
    "duration": 10,
    "start_time": "2022-06-28T15:11:40.084Z"
   },
   {
    "duration": 586,
    "start_time": "2022-06-28T15:11:40.096Z"
   },
   {
    "duration": 794,
    "start_time": "2022-06-28T15:11:40.684Z"
   },
   {
    "duration": 30,
    "start_time": "2022-06-28T15:11:41.479Z"
   },
   {
    "duration": 27,
    "start_time": "2022-06-28T15:11:41.511Z"
   },
   {
    "duration": 28,
    "start_time": "2022-06-28T15:11:41.541Z"
   },
   {
    "duration": 32,
    "start_time": "2022-06-28T15:11:41.570Z"
   },
   {
    "duration": 20,
    "start_time": "2022-06-28T15:11:41.605Z"
   },
   {
    "duration": 24,
    "start_time": "2022-06-28T15:11:41.628Z"
   },
   {
    "duration": 3,
    "start_time": "2022-06-28T15:12:13.524Z"
   },
   {
    "duration": 3,
    "start_time": "2022-06-28T15:20:17.993Z"
   },
   {
    "duration": 78,
    "start_time": "2022-06-28T15:21:32.133Z"
   },
   {
    "duration": 73,
    "start_time": "2022-06-28T15:21:39.771Z"
   },
   {
    "duration": 120,
    "start_time": "2022-06-28T15:21:44.491Z"
   },
   {
    "duration": 82,
    "start_time": "2022-06-28T15:22:02.013Z"
   },
   {
    "duration": 76,
    "start_time": "2022-06-28T15:22:11.812Z"
   },
   {
    "duration": 115,
    "start_time": "2022-06-28T15:22:35.648Z"
   },
   {
    "duration": 82,
    "start_time": "2022-06-28T15:22:42.321Z"
   },
   {
    "duration": 100,
    "start_time": "2022-06-28T15:22:47.436Z"
   },
   {
    "duration": 67,
    "start_time": "2022-06-28T15:22:53.416Z"
   },
   {
    "duration": 56,
    "start_time": "2022-06-28T15:22:58.381Z"
   },
   {
    "duration": 51,
    "start_time": "2022-06-28T15:23:05.605Z"
   },
   {
    "duration": 76,
    "start_time": "2022-06-28T15:23:13.839Z"
   },
   {
    "duration": 85,
    "start_time": "2022-06-28T15:23:57.437Z"
   },
   {
    "duration": 120,
    "start_time": "2022-06-28T15:24:19.049Z"
   },
   {
    "duration": 96,
    "start_time": "2022-06-28T15:24:23.179Z"
   },
   {
    "duration": 74,
    "start_time": "2022-06-28T15:24:28.514Z"
   },
   {
    "duration": 67,
    "start_time": "2022-06-28T15:24:34.438Z"
   },
   {
    "duration": 97,
    "start_time": "2022-06-28T15:24:41.105Z"
   },
   {
    "duration": 66,
    "start_time": "2022-06-28T15:24:46.074Z"
   },
   {
    "duration": 101,
    "start_time": "2022-06-28T15:26:18.823Z"
   },
   {
    "duration": 1189,
    "start_time": "2022-06-28T15:26:29.495Z"
   },
   {
    "duration": 579,
    "start_time": "2022-06-28T15:26:30.686Z"
   },
   {
    "duration": 16,
    "start_time": "2022-06-28T15:26:31.276Z"
   },
   {
    "duration": 16,
    "start_time": "2022-06-28T15:26:31.293Z"
   },
   {
    "duration": 55,
    "start_time": "2022-06-28T15:26:31.311Z"
   },
   {
    "duration": 21,
    "start_time": "2022-06-28T15:26:31.375Z"
   },
   {
    "duration": 13,
    "start_time": "2022-06-28T15:26:31.398Z"
   },
   {
    "duration": 80,
    "start_time": "2022-06-28T15:26:31.413Z"
   },
   {
    "duration": 76,
    "start_time": "2022-06-28T15:26:31.495Z"
   },
   {
    "duration": 89,
    "start_time": "2022-06-28T15:26:31.576Z"
   },
   {
    "duration": 15,
    "start_time": "2022-06-28T15:26:31.667Z"
   },
   {
    "duration": 15,
    "start_time": "2022-06-28T15:26:31.684Z"
   },
   {
    "duration": 290,
    "start_time": "2022-06-28T15:26:31.701Z"
   },
   {
    "duration": 3,
    "start_time": "2022-06-28T15:26:31.992Z"
   },
   {
    "duration": 272,
    "start_time": "2022-06-28T15:26:31.997Z"
   },
   {
    "duration": 191,
    "start_time": "2022-06-28T15:26:32.273Z"
   },
   {
    "duration": 11,
    "start_time": "2022-06-28T15:26:32.466Z"
   },
   {
    "duration": 12,
    "start_time": "2022-06-28T15:26:32.479Z"
   },
   {
    "duration": 9,
    "start_time": "2022-06-28T15:26:32.493Z"
   },
   {
    "duration": 7,
    "start_time": "2022-06-28T15:26:32.504Z"
   },
   {
    "duration": 17,
    "start_time": "2022-06-28T15:26:32.561Z"
   },
   {
    "duration": 19,
    "start_time": "2022-06-28T15:26:32.579Z"
   },
   {
    "duration": 60,
    "start_time": "2022-06-28T15:26:32.600Z"
   },
   {
    "duration": 15,
    "start_time": "2022-06-28T15:26:32.663Z"
   },
   {
    "duration": 7,
    "start_time": "2022-06-28T15:26:32.679Z"
   },
   {
    "duration": 6,
    "start_time": "2022-06-28T15:26:32.688Z"
   },
   {
    "duration": 9,
    "start_time": "2022-06-28T15:26:32.696Z"
   },
   {
    "duration": 10,
    "start_time": "2022-06-28T15:26:32.759Z"
   },
   {
    "duration": 17,
    "start_time": "2022-06-28T15:26:32.773Z"
   },
   {
    "duration": 13,
    "start_time": "2022-06-28T15:26:32.792Z"
   },
   {
    "duration": 8,
    "start_time": "2022-06-28T15:26:32.806Z"
   },
   {
    "duration": 50,
    "start_time": "2022-06-28T15:26:32.815Z"
   },
   {
    "duration": 16,
    "start_time": "2022-06-28T15:26:32.867Z"
   },
   {
    "duration": 16,
    "start_time": "2022-06-28T15:26:32.885Z"
   },
   {
    "duration": 70,
    "start_time": "2022-06-28T15:26:32.902Z"
   },
   {
    "duration": 1236,
    "start_time": "2022-06-28T15:26:45.461Z"
   },
   {
    "duration": 419,
    "start_time": "2022-06-28T15:26:46.699Z"
   },
   {
    "duration": 17,
    "start_time": "2022-06-28T15:26:47.120Z"
   },
   {
    "duration": 11,
    "start_time": "2022-06-28T15:26:47.139Z"
   },
   {
    "duration": 36,
    "start_time": "2022-06-28T15:26:47.152Z"
   },
   {
    "duration": 55,
    "start_time": "2022-06-28T15:26:47.190Z"
   },
   {
    "duration": 39,
    "start_time": "2022-06-28T15:26:47.247Z"
   },
   {
    "duration": 45,
    "start_time": "2022-06-28T15:26:47.288Z"
   },
   {
    "duration": 43,
    "start_time": "2022-06-28T15:26:47.335Z"
   },
   {
    "duration": 35,
    "start_time": "2022-06-28T15:26:47.384Z"
   },
   {
    "duration": 12,
    "start_time": "2022-06-28T15:26:47.422Z"
   },
   {
    "duration": 20,
    "start_time": "2022-06-28T15:26:47.437Z"
   },
   {
    "duration": 182,
    "start_time": "2022-06-28T15:26:47.459Z"
   },
   {
    "duration": 4,
    "start_time": "2022-06-28T15:26:47.644Z"
   },
   {
    "duration": 109,
    "start_time": "2022-06-28T15:26:47.658Z"
   },
   {
    "duration": 69,
    "start_time": "2022-06-28T15:26:47.775Z"
   },
   {
    "duration": 3,
    "start_time": "2022-06-28T15:26:47.846Z"
   },
   {
    "duration": 24,
    "start_time": "2022-06-28T15:26:47.858Z"
   },
   {
    "duration": 11,
    "start_time": "2022-06-28T15:26:47.885Z"
   },
   {
    "duration": 9,
    "start_time": "2022-06-28T15:26:47.898Z"
   },
   {
    "duration": 7,
    "start_time": "2022-06-28T15:26:47.909Z"
   },
   {
    "duration": 12,
    "start_time": "2022-06-28T15:26:47.918Z"
   },
   {
    "duration": 16,
    "start_time": "2022-06-28T15:26:47.932Z"
   },
   {
    "duration": 17,
    "start_time": "2022-06-28T15:26:47.958Z"
   },
   {
    "duration": 6,
    "start_time": "2022-06-28T15:26:47.977Z"
   },
   {
    "duration": 11,
    "start_time": "2022-06-28T15:26:47.984Z"
   },
   {
    "duration": 15,
    "start_time": "2022-06-28T15:26:47.996Z"
   },
   {
    "duration": 4,
    "start_time": "2022-06-28T15:26:48.013Z"
   },
   {
    "duration": 13,
    "start_time": "2022-06-28T15:26:48.019Z"
   },
   {
    "duration": 6,
    "start_time": "2022-06-28T15:26:48.033Z"
   },
   {
    "duration": 29,
    "start_time": "2022-06-28T15:26:48.041Z"
   },
   {
    "duration": 12,
    "start_time": "2022-06-28T15:26:48.072Z"
   },
   {
    "duration": 10,
    "start_time": "2022-06-28T15:26:48.086Z"
   },
   {
    "duration": 13,
    "start_time": "2022-06-28T15:26:48.098Z"
   },
   {
    "duration": 13,
    "start_time": "2022-06-28T15:26:48.113Z"
   },
   {
    "duration": 17796,
    "start_time": "2022-06-28T15:26:48.128Z"
   },
   {
    "duration": 11,
    "start_time": "2022-06-28T15:27:05.926Z"
   },
   {
    "duration": 35,
    "start_time": "2022-06-28T15:27:05.939Z"
   },
   {
    "duration": 177,
    "start_time": "2022-06-28T15:27:05.976Z"
   },
   {
    "duration": 14,
    "start_time": "2022-06-28T15:27:06.158Z"
   },
   {
    "duration": 585,
    "start_time": "2022-06-28T15:27:06.179Z"
   },
   {
    "duration": 632,
    "start_time": "2022-06-28T15:27:06.772Z"
   },
   {
    "duration": 29,
    "start_time": "2022-06-28T15:27:07.407Z"
   },
   {
    "duration": 44,
    "start_time": "2022-06-28T15:27:07.439Z"
   },
   {
    "duration": 30,
    "start_time": "2022-06-28T15:27:07.486Z"
   },
   {
    "duration": 48,
    "start_time": "2022-06-28T15:27:07.518Z"
   },
   {
    "duration": 35,
    "start_time": "2022-06-28T15:27:07.568Z"
   },
   {
    "duration": 24,
    "start_time": "2022-06-28T15:27:07.605Z"
   },
   {
    "duration": 49,
    "start_time": "2022-06-28T15:27:07.631Z"
   },
   {
    "duration": 6,
    "start_time": "2022-06-28T15:29:31.274Z"
   },
   {
    "duration": 8,
    "start_time": "2022-06-28T15:36:21.395Z"
   },
   {
    "duration": 8,
    "start_time": "2022-06-28T15:36:32.896Z"
   },
   {
    "duration": 5,
    "start_time": "2022-06-28T15:37:14.718Z"
   },
   {
    "duration": 4,
    "start_time": "2022-06-28T15:56:56.708Z"
   },
   {
    "duration": 5,
    "start_time": "2022-06-28T15:57:11.050Z"
   },
   {
    "duration": 104,
    "start_time": "2022-06-28T15:57:32.115Z"
   },
   {
    "duration": 4,
    "start_time": "2022-06-28T15:57:42.117Z"
   },
   {
    "duration": 10,
    "start_time": "2022-06-28T15:57:49.849Z"
   },
   {
    "duration": 4,
    "start_time": "2022-06-28T15:58:59.305Z"
   },
   {
    "duration": 9,
    "start_time": "2022-06-28T15:59:08.021Z"
   },
   {
    "duration": 5,
    "start_time": "2022-06-28T15:59:16.188Z"
   },
   {
    "duration": 6,
    "start_time": "2022-06-28T15:59:27.390Z"
   },
   {
    "duration": 6,
    "start_time": "2022-06-28T16:00:06.172Z"
   },
   {
    "duration": 4,
    "start_time": "2022-06-28T16:00:18.107Z"
   },
   {
    "duration": 50,
    "start_time": "2022-06-28T16:01:36.072Z"
   },
   {
    "duration": 5,
    "start_time": "2022-06-28T16:02:37.805Z"
   },
   {
    "duration": 5,
    "start_time": "2022-06-28T16:03:41.574Z"
   },
   {
    "duration": 5,
    "start_time": "2022-06-28T16:08:13.568Z"
   },
   {
    "duration": 4,
    "start_time": "2022-06-28T16:08:27.848Z"
   },
   {
    "duration": 6,
    "start_time": "2022-06-28T16:08:39.076Z"
   },
   {
    "duration": 4,
    "start_time": "2022-06-28T16:08:48.343Z"
   },
   {
    "duration": 4,
    "start_time": "2022-06-28T16:08:55.507Z"
   },
   {
    "duration": 4,
    "start_time": "2022-06-28T16:09:01.879Z"
   },
   {
    "duration": 4,
    "start_time": "2022-06-28T16:09:12.812Z"
   },
   {
    "duration": 4,
    "start_time": "2022-06-28T16:09:35.231Z"
   },
   {
    "duration": 90,
    "start_time": "2022-06-28T16:19:19.721Z"
   },
   {
    "duration": 13,
    "start_time": "2022-06-28T16:26:44.890Z"
   },
   {
    "duration": 9,
    "start_time": "2022-06-28T16:26:52.686Z"
   },
   {
    "duration": 14,
    "start_time": "2022-06-28T16:27:37.412Z"
   },
   {
    "duration": 12,
    "start_time": "2022-06-28T16:27:51.570Z"
   },
   {
    "duration": 28,
    "start_time": "2022-06-28T16:28:30.444Z"
   },
   {
    "duration": 21,
    "start_time": "2022-06-28T16:28:42.920Z"
   },
   {
    "duration": 13,
    "start_time": "2022-06-28T16:28:50.472Z"
   },
   {
    "duration": 14,
    "start_time": "2022-06-28T16:29:05.615Z"
   },
   {
    "duration": 13,
    "start_time": "2022-06-28T16:29:43.278Z"
   },
   {
    "duration": 5,
    "start_time": "2022-06-28T16:29:47.296Z"
   },
   {
    "duration": 428,
    "start_time": "2022-06-28T16:29:47.303Z"
   },
   {
    "duration": 8,
    "start_time": "2022-06-28T16:29:47.733Z"
   },
   {
    "duration": 15,
    "start_time": "2022-06-28T16:29:47.743Z"
   },
   {
    "duration": 11,
    "start_time": "2022-06-28T16:29:47.760Z"
   },
   {
    "duration": 10,
    "start_time": "2022-06-28T16:29:47.772Z"
   },
   {
    "duration": 14,
    "start_time": "2022-06-28T16:29:47.783Z"
   },
   {
    "duration": 33,
    "start_time": "2022-06-28T16:29:47.799Z"
   },
   {
    "duration": 44,
    "start_time": "2022-06-28T16:29:47.834Z"
   },
   {
    "duration": 18,
    "start_time": "2022-06-28T16:29:47.880Z"
   },
   {
    "duration": 10,
    "start_time": "2022-06-28T16:29:47.903Z"
   },
   {
    "duration": 17,
    "start_time": "2022-06-28T16:29:47.915Z"
   },
   {
    "duration": 150,
    "start_time": "2022-06-28T16:29:47.934Z"
   },
   {
    "duration": 3,
    "start_time": "2022-06-28T16:29:48.085Z"
   },
   {
    "duration": 93,
    "start_time": "2022-06-28T16:29:48.089Z"
   },
   {
    "duration": 68,
    "start_time": "2022-06-28T16:29:48.184Z"
   },
   {
    "duration": 9,
    "start_time": "2022-06-28T16:29:48.254Z"
   },
   {
    "duration": 17,
    "start_time": "2022-06-28T16:29:48.265Z"
   },
   {
    "duration": 8,
    "start_time": "2022-06-28T16:29:48.284Z"
   },
   {
    "duration": 7,
    "start_time": "2022-06-28T16:29:48.293Z"
   },
   {
    "duration": 6,
    "start_time": "2022-06-28T16:29:48.302Z"
   },
   {
    "duration": 11,
    "start_time": "2022-06-28T16:29:48.310Z"
   },
   {
    "duration": 15,
    "start_time": "2022-06-28T16:29:48.322Z"
   },
   {
    "duration": 26,
    "start_time": "2022-06-28T16:29:48.338Z"
   },
   {
    "duration": 7,
    "start_time": "2022-06-28T16:29:48.366Z"
   },
   {
    "duration": 9,
    "start_time": "2022-06-28T16:29:48.374Z"
   },
   {
    "duration": 7,
    "start_time": "2022-06-28T16:29:48.385Z"
   },
   {
    "duration": 8,
    "start_time": "2022-06-28T16:29:48.393Z"
   },
   {
    "duration": 5,
    "start_time": "2022-06-28T16:29:48.405Z"
   },
   {
    "duration": 5,
    "start_time": "2022-06-28T16:29:48.412Z"
   },
   {
    "duration": 7,
    "start_time": "2022-06-28T16:29:48.419Z"
   },
   {
    "duration": 34,
    "start_time": "2022-06-28T16:29:48.428Z"
   },
   {
    "duration": 9,
    "start_time": "2022-06-28T16:29:48.464Z"
   },
   {
    "duration": 13,
    "start_time": "2022-06-28T16:29:48.474Z"
   },
   {
    "duration": 13,
    "start_time": "2022-06-28T16:29:48.489Z"
   },
   {
    "duration": 19421,
    "start_time": "2022-06-28T16:29:48.503Z"
   },
   {
    "duration": 10,
    "start_time": "2022-06-28T16:30:07.926Z"
   },
   {
    "duration": 6,
    "start_time": "2022-06-28T16:30:07.938Z"
   },
   {
    "duration": 162,
    "start_time": "2022-06-28T16:30:07.945Z"
   },
   {
    "duration": 7,
    "start_time": "2022-06-28T16:30:08.109Z"
   },
   {
    "duration": 9,
    "start_time": "2022-06-28T16:30:08.118Z"
   },
   {
    "duration": 6,
    "start_time": "2022-06-28T16:30:08.128Z"
   },
   {
    "duration": 35,
    "start_time": "2022-06-28T16:30:08.136Z"
   },
   {
    "duration": 8,
    "start_time": "2022-06-28T16:30:08.173Z"
   },
   {
    "duration": 12,
    "start_time": "2022-06-28T16:30:08.183Z"
   },
   {
    "duration": 0,
    "start_time": "2022-06-28T16:30:08.197Z"
   },
   {
    "duration": 0,
    "start_time": "2022-06-28T16:30:08.198Z"
   },
   {
    "duration": 0,
    "start_time": "2022-06-28T16:30:08.199Z"
   },
   {
    "duration": 0,
    "start_time": "2022-06-28T16:30:08.200Z"
   },
   {
    "duration": 0,
    "start_time": "2022-06-28T16:30:08.201Z"
   },
   {
    "duration": 0,
    "start_time": "2022-06-28T16:30:08.202Z"
   },
   {
    "duration": 0,
    "start_time": "2022-06-28T16:30:08.203Z"
   },
   {
    "duration": 0,
    "start_time": "2022-06-28T16:30:08.204Z"
   },
   {
    "duration": 0,
    "start_time": "2022-06-28T16:30:08.206Z"
   },
   {
    "duration": 0,
    "start_time": "2022-06-28T16:30:08.207Z"
   },
   {
    "duration": 0,
    "start_time": "2022-06-28T16:30:08.208Z"
   },
   {
    "duration": 3,
    "start_time": "2022-06-28T16:31:41.697Z"
   },
   {
    "duration": 5,
    "start_time": "2022-06-28T16:32:02.216Z"
   },
   {
    "duration": 9,
    "start_time": "2022-06-28T16:32:12.371Z"
   },
   {
    "duration": 11,
    "start_time": "2022-06-28T16:32:18.264Z"
   },
   {
    "duration": 7,
    "start_time": "2022-06-28T16:34:47.444Z"
   },
   {
    "duration": 4,
    "start_time": "2022-06-28T16:34:50.735Z"
   },
   {
    "duration": 5,
    "start_time": "2022-06-28T16:34:57.338Z"
   },
   {
    "duration": 4,
    "start_time": "2022-06-28T16:35:25.585Z"
   },
   {
    "duration": 146,
    "start_time": "2022-06-28T16:36:07.662Z"
   },
   {
    "duration": 159,
    "start_time": "2022-06-28T16:36:10.334Z"
   },
   {
    "duration": 16,
    "start_time": "2022-06-28T16:45:58.429Z"
   },
   {
    "duration": 138,
    "start_time": "2022-06-28T16:47:23.578Z"
   },
   {
    "duration": 134,
    "start_time": "2022-06-28T16:47:26.014Z"
   },
   {
    "duration": 18,
    "start_time": "2022-06-28T16:52:26.485Z"
   },
   {
    "duration": 159,
    "start_time": "2022-06-28T16:52:42.057Z"
   },
   {
    "duration": 214,
    "start_time": "2022-06-28T16:52:57.208Z"
   },
   {
    "duration": 29,
    "start_time": "2022-06-28T17:19:28.677Z"
   },
   {
    "duration": 407,
    "start_time": "2022-06-28T17:19:37.471Z"
   },
   {
    "duration": 161,
    "start_time": "2022-06-28T17:21:00.529Z"
   },
   {
    "duration": 169,
    "start_time": "2022-06-28T17:21:06.624Z"
   },
   {
    "duration": 291,
    "start_time": "2022-06-28T17:21:11.260Z"
   },
   {
    "duration": 296,
    "start_time": "2022-06-28T17:21:28.066Z"
   },
   {
    "duration": 295,
    "start_time": "2022-06-28T17:23:48.718Z"
   },
   {
    "duration": 507,
    "start_time": "2022-06-28T17:25:42.922Z"
   },
   {
    "duration": 350,
    "start_time": "2022-06-28T17:26:13.513Z"
   },
   {
    "duration": 411,
    "start_time": "2022-06-28T17:26:26.217Z"
   },
   {
    "duration": 99,
    "start_time": "2022-06-28T17:31:21.151Z"
   },
   {
    "duration": 112,
    "start_time": "2022-06-28T17:31:37.989Z"
   },
   {
    "duration": 110,
    "start_time": "2022-06-28T17:32:57.586Z"
   },
   {
    "duration": 960,
    "start_time": "2022-06-28T17:34:00.125Z"
   },
   {
    "duration": 108,
    "start_time": "2022-06-28T17:34:17.130Z"
   },
   {
    "duration": 115,
    "start_time": "2022-06-28T17:34:41.626Z"
   },
   {
    "duration": 115,
    "start_time": "2022-06-28T17:34:49.604Z"
   },
   {
    "duration": 126,
    "start_time": "2022-06-28T17:35:13.136Z"
   },
   {
    "duration": 110,
    "start_time": "2022-06-28T17:36:08.287Z"
   },
   {
    "duration": 114,
    "start_time": "2022-06-28T17:36:17.629Z"
   },
   {
    "duration": 139,
    "start_time": "2022-06-28T17:36:30.874Z"
   },
   {
    "duration": 176,
    "start_time": "2022-06-28T17:36:41.223Z"
   },
   {
    "duration": 176,
    "start_time": "2022-06-28T17:37:02.450Z"
   },
   {
    "duration": 176,
    "start_time": "2022-06-28T17:37:13.379Z"
   },
   {
    "duration": 1103,
    "start_time": "2022-06-28T17:37:18.270Z"
   },
   {
    "duration": 1102,
    "start_time": "2022-06-28T17:37:25.751Z"
   },
   {
    "duration": 875,
    "start_time": "2022-06-28T17:38:34.239Z"
   },
   {
    "duration": 749,
    "start_time": "2022-06-28T17:38:51.453Z"
   },
   {
    "duration": 670,
    "start_time": "2022-06-28T17:39:10.077Z"
   },
   {
    "duration": 262,
    "start_time": "2022-06-28T17:39:24.251Z"
   },
   {
    "duration": 498,
    "start_time": "2022-06-28T17:39:43.752Z"
   },
   {
    "duration": 697,
    "start_time": "2022-06-28T17:40:31.401Z"
   },
   {
    "duration": 1132,
    "start_time": "2022-06-28T17:51:32.299Z"
   },
   {
    "duration": 362,
    "start_time": "2022-06-28T17:51:33.433Z"
   },
   {
    "duration": 12,
    "start_time": "2022-06-28T17:51:33.798Z"
   },
   {
    "duration": 8,
    "start_time": "2022-06-28T17:51:33.812Z"
   },
   {
    "duration": 11,
    "start_time": "2022-06-28T17:51:33.821Z"
   },
   {
    "duration": 8,
    "start_time": "2022-06-28T17:51:33.834Z"
   },
   {
    "duration": 10,
    "start_time": "2022-06-28T17:51:33.843Z"
   },
   {
    "duration": 25,
    "start_time": "2022-06-28T17:51:33.855Z"
   },
   {
    "duration": 20,
    "start_time": "2022-06-28T17:51:33.882Z"
   },
   {
    "duration": 18,
    "start_time": "2022-06-28T17:51:33.905Z"
   },
   {
    "duration": 9,
    "start_time": "2022-06-28T17:51:33.924Z"
   },
   {
    "duration": 10,
    "start_time": "2022-06-28T17:51:33.958Z"
   },
   {
    "duration": 131,
    "start_time": "2022-06-28T17:51:33.970Z"
   },
   {
    "duration": 3,
    "start_time": "2022-06-28T17:51:34.103Z"
   },
   {
    "duration": 86,
    "start_time": "2022-06-28T17:51:34.108Z"
   },
   {
    "duration": 64,
    "start_time": "2022-06-28T17:51:34.195Z"
   },
   {
    "duration": 4,
    "start_time": "2022-06-28T17:51:34.260Z"
   },
   {
    "duration": 10,
    "start_time": "2022-06-28T17:51:34.265Z"
   },
   {
    "duration": 15,
    "start_time": "2022-06-28T17:51:34.277Z"
   },
   {
    "duration": 9,
    "start_time": "2022-06-28T17:51:34.294Z"
   },
   {
    "duration": 8,
    "start_time": "2022-06-28T17:51:34.304Z"
   },
   {
    "duration": 10,
    "start_time": "2022-06-28T17:51:34.314Z"
   },
   {
    "duration": 12,
    "start_time": "2022-06-28T17:51:34.326Z"
   },
   {
    "duration": 20,
    "start_time": "2022-06-28T17:51:34.340Z"
   },
   {
    "duration": 4,
    "start_time": "2022-06-28T17:51:34.362Z"
   },
   {
    "duration": 6,
    "start_time": "2022-06-28T17:51:34.368Z"
   },
   {
    "duration": 7,
    "start_time": "2022-06-28T17:51:34.376Z"
   },
   {
    "duration": 4,
    "start_time": "2022-06-28T17:51:34.387Z"
   },
   {
    "duration": 10,
    "start_time": "2022-06-28T17:51:34.392Z"
   },
   {
    "duration": 11,
    "start_time": "2022-06-28T17:51:34.403Z"
   },
   {
    "duration": 6,
    "start_time": "2022-06-28T17:51:34.415Z"
   },
   {
    "duration": 12,
    "start_time": "2022-06-28T17:51:34.423Z"
   },
   {
    "duration": 28,
    "start_time": "2022-06-28T17:51:34.436Z"
   },
   {
    "duration": 24,
    "start_time": "2022-06-28T17:51:34.466Z"
   },
   {
    "duration": 14,
    "start_time": "2022-06-28T17:51:34.491Z"
   },
   {
    "duration": 17556,
    "start_time": "2022-06-28T17:51:34.507Z"
   },
   {
    "duration": 10,
    "start_time": "2022-06-28T17:51:52.065Z"
   },
   {
    "duration": 7,
    "start_time": "2022-06-28T17:51:52.077Z"
   },
   {
    "duration": 163,
    "start_time": "2022-06-28T17:51:52.085Z"
   },
   {
    "duration": 16,
    "start_time": "2022-06-28T17:51:52.250Z"
   },
   {
    "duration": 6,
    "start_time": "2022-06-28T17:51:52.268Z"
   },
   {
    "duration": 4,
    "start_time": "2022-06-28T17:51:52.276Z"
   },
   {
    "duration": 15,
    "start_time": "2022-06-28T17:51:52.282Z"
   },
   {
    "duration": 4,
    "start_time": "2022-06-28T17:51:52.299Z"
   },
   {
    "duration": 10,
    "start_time": "2022-06-28T17:51:52.305Z"
   },
   {
    "duration": 173,
    "start_time": "2022-06-28T17:51:52.317Z"
   },
   {
    "duration": 152,
    "start_time": "2022-06-28T17:51:52.491Z"
   },
   {
    "duration": 22,
    "start_time": "2022-06-28T17:51:52.644Z"
   },
   {
    "duration": 163,
    "start_time": "2022-06-28T17:51:52.667Z"
   },
   {
    "duration": 231,
    "start_time": "2022-06-28T17:51:52.832Z"
   },
   {
    "duration": 30,
    "start_time": "2022-06-28T17:51:53.065Z"
   },
   {
    "duration": 339,
    "start_time": "2022-06-28T17:51:53.097Z"
   },
   {
    "duration": 507,
    "start_time": "2022-06-28T17:51:53.437Z"
   },
   {
    "duration": 492,
    "start_time": "2022-06-28T17:51:53.945Z"
   },
   {
    "duration": 29,
    "start_time": "2022-06-28T17:51:54.438Z"
   },
   {
    "duration": 20,
    "start_time": "2022-06-28T17:51:54.469Z"
   },
   {
    "duration": 7,
    "start_time": "2022-06-28T17:51:54.490Z"
   },
   {
    "duration": 28,
    "start_time": "2022-06-28T17:51:54.498Z"
   },
   {
    "duration": 29,
    "start_time": "2022-06-28T17:51:54.527Z"
   },
   {
    "duration": 24,
    "start_time": "2022-06-28T17:51:54.557Z"
   },
   {
    "duration": 15,
    "start_time": "2022-06-28T17:51:54.583Z"
   },
   {
    "duration": 38,
    "start_time": "2022-06-28T17:51:54.599Z"
   },
   {
    "duration": 11,
    "start_time": "2022-06-28T17:51:54.639Z"
   },
   {
    "duration": 1424,
    "start_time": "2022-06-28T19:48:40.165Z"
   },
   {
    "duration": 4,
    "start_time": "2022-06-28T19:48:45.129Z"
   },
   {
    "duration": 917,
    "start_time": "2022-06-28T19:48:45.136Z"
   },
   {
    "duration": 14,
    "start_time": "2022-06-28T19:48:46.056Z"
   },
   {
    "duration": 14,
    "start_time": "2022-06-28T19:48:46.072Z"
   },
   {
    "duration": 9,
    "start_time": "2022-06-28T19:48:46.088Z"
   },
   {
    "duration": 11,
    "start_time": "2022-06-28T19:48:46.098Z"
   },
   {
    "duration": 12,
    "start_time": "2022-06-28T19:48:46.111Z"
   },
   {
    "duration": 28,
    "start_time": "2022-06-28T19:48:46.125Z"
   },
   {
    "duration": 21,
    "start_time": "2022-06-28T19:48:46.155Z"
   },
   {
    "duration": 20,
    "start_time": "2022-06-28T19:48:46.177Z"
   },
   {
    "duration": 33,
    "start_time": "2022-06-28T19:48:46.199Z"
   },
   {
    "duration": 13,
    "start_time": "2022-06-28T19:48:46.234Z"
   },
   {
    "duration": 146,
    "start_time": "2022-06-28T19:48:46.249Z"
   },
   {
    "duration": 3,
    "start_time": "2022-06-28T19:48:46.396Z"
   },
   {
    "duration": 98,
    "start_time": "2022-06-28T19:48:46.401Z"
   },
   {
    "duration": 80,
    "start_time": "2022-06-28T19:48:46.501Z"
   },
   {
    "duration": 3,
    "start_time": "2022-06-28T19:48:46.582Z"
   },
   {
    "duration": 11,
    "start_time": "2022-06-28T19:48:46.586Z"
   },
   {
    "duration": 13,
    "start_time": "2022-06-28T19:48:46.599Z"
   },
   {
    "duration": 21,
    "start_time": "2022-06-28T19:48:46.614Z"
   },
   {
    "duration": 9,
    "start_time": "2022-06-28T19:48:46.637Z"
   },
   {
    "duration": 11,
    "start_time": "2022-06-28T19:48:46.647Z"
   },
   {
    "duration": 15,
    "start_time": "2022-06-28T19:48:46.660Z"
   },
   {
    "duration": 12,
    "start_time": "2022-06-28T19:48:46.677Z"
   },
   {
    "duration": 10,
    "start_time": "2022-06-28T19:48:46.691Z"
   },
   {
    "duration": 35,
    "start_time": "2022-06-28T19:48:46.702Z"
   },
   {
    "duration": 12,
    "start_time": "2022-06-28T19:48:46.739Z"
   },
   {
    "duration": 7,
    "start_time": "2022-06-28T19:48:46.753Z"
   },
   {
    "duration": 11,
    "start_time": "2022-06-28T19:48:46.762Z"
   },
   {
    "duration": 17,
    "start_time": "2022-06-28T19:48:46.774Z"
   },
   {
    "duration": 16,
    "start_time": "2022-06-28T19:48:46.793Z"
   },
   {
    "duration": 14,
    "start_time": "2022-06-28T19:48:46.811Z"
   },
   {
    "duration": 13,
    "start_time": "2022-06-28T19:48:46.827Z"
   },
   {
    "duration": 15,
    "start_time": "2022-06-28T19:48:46.842Z"
   },
   {
    "duration": 13,
    "start_time": "2022-06-28T19:48:46.859Z"
   },
   {
    "duration": 18377,
    "start_time": "2022-06-28T19:48:46.875Z"
   },
   {
    "duration": 11,
    "start_time": "2022-06-28T19:49:05.256Z"
   },
   {
    "duration": 14,
    "start_time": "2022-06-28T19:49:05.269Z"
   },
   {
    "duration": 187,
    "start_time": "2022-06-28T19:49:05.285Z"
   },
   {
    "duration": 9,
    "start_time": "2022-06-28T19:49:05.475Z"
   },
   {
    "duration": 14,
    "start_time": "2022-06-28T19:49:05.485Z"
   },
   {
    "duration": 12,
    "start_time": "2022-06-28T19:49:05.501Z"
   },
   {
    "duration": 29,
    "start_time": "2022-06-28T19:49:05.515Z"
   },
   {
    "duration": 6,
    "start_time": "2022-06-28T19:49:05.547Z"
   },
   {
    "duration": 20,
    "start_time": "2022-06-28T19:49:05.554Z"
   },
   {
    "duration": 118,
    "start_time": "2022-06-28T19:49:05.576Z"
   },
   {
    "duration": 0,
    "start_time": "2022-06-28T19:49:05.695Z"
   },
   {
    "duration": 0,
    "start_time": "2022-06-28T19:49:05.697Z"
   },
   {
    "duration": 0,
    "start_time": "2022-06-28T19:49:05.698Z"
   },
   {
    "duration": 0,
    "start_time": "2022-06-28T19:49:05.699Z"
   },
   {
    "duration": 0,
    "start_time": "2022-06-28T19:49:05.700Z"
   },
   {
    "duration": 0,
    "start_time": "2022-06-28T19:49:05.701Z"
   },
   {
    "duration": 0,
    "start_time": "2022-06-28T19:49:05.702Z"
   },
   {
    "duration": 0,
    "start_time": "2022-06-28T19:49:05.703Z"
   },
   {
    "duration": 0,
    "start_time": "2022-06-28T19:49:05.704Z"
   },
   {
    "duration": 0,
    "start_time": "2022-06-28T19:49:05.705Z"
   },
   {
    "duration": 0,
    "start_time": "2022-06-28T19:49:05.706Z"
   },
   {
    "duration": 0,
    "start_time": "2022-06-28T19:49:05.727Z"
   },
   {
    "duration": 0,
    "start_time": "2022-06-28T19:49:05.728Z"
   },
   {
    "duration": 0,
    "start_time": "2022-06-28T19:49:05.729Z"
   },
   {
    "duration": 0,
    "start_time": "2022-06-28T19:49:05.730Z"
   },
   {
    "duration": 0,
    "start_time": "2022-06-28T19:49:05.730Z"
   },
   {
    "duration": 0,
    "start_time": "2022-06-28T19:49:05.732Z"
   },
   {
    "duration": 3,
    "start_time": "2022-06-28T19:49:40.326Z"
   },
   {
    "duration": 1145,
    "start_time": "2022-06-28T19:52:09.206Z"
   },
   {
    "duration": 400,
    "start_time": "2022-06-28T19:52:10.353Z"
   },
   {
    "duration": 12,
    "start_time": "2022-06-28T19:52:10.755Z"
   },
   {
    "duration": 9,
    "start_time": "2022-06-28T19:52:10.768Z"
   },
   {
    "duration": 15,
    "start_time": "2022-06-28T19:52:10.778Z"
   },
   {
    "duration": 11,
    "start_time": "2022-06-28T19:52:10.795Z"
   },
   {
    "duration": 12,
    "start_time": "2022-06-28T19:52:10.807Z"
   },
   {
    "duration": 38,
    "start_time": "2022-06-28T19:52:10.820Z"
   },
   {
    "duration": 21,
    "start_time": "2022-06-28T19:52:10.860Z"
   },
   {
    "duration": 19,
    "start_time": "2022-06-28T19:52:10.884Z"
   },
   {
    "duration": 21,
    "start_time": "2022-06-28T19:52:10.905Z"
   },
   {
    "duration": 9,
    "start_time": "2022-06-28T19:52:10.928Z"
   },
   {
    "duration": 134,
    "start_time": "2022-06-28T19:52:10.939Z"
   },
   {
    "duration": 3,
    "start_time": "2022-06-28T19:52:11.075Z"
   },
   {
    "duration": 87,
    "start_time": "2022-06-28T19:52:11.080Z"
   },
   {
    "duration": 74,
    "start_time": "2022-06-28T19:52:11.168Z"
   },
   {
    "duration": 3,
    "start_time": "2022-06-28T19:52:11.244Z"
   },
   {
    "duration": 13,
    "start_time": "2022-06-28T19:52:11.248Z"
   },
   {
    "duration": 21,
    "start_time": "2022-06-28T19:52:11.263Z"
   },
   {
    "duration": 10,
    "start_time": "2022-06-28T19:52:11.286Z"
   },
   {
    "duration": 6,
    "start_time": "2022-06-28T19:52:11.297Z"
   },
   {
    "duration": 11,
    "start_time": "2022-06-28T19:52:11.305Z"
   },
   {
    "duration": 14,
    "start_time": "2022-06-28T19:52:11.326Z"
   },
   {
    "duration": 10,
    "start_time": "2022-06-28T19:52:11.342Z"
   },
   {
    "duration": 5,
    "start_time": "2022-06-28T19:52:11.353Z"
   },
   {
    "duration": 14,
    "start_time": "2022-06-28T19:52:11.359Z"
   },
   {
    "duration": 7,
    "start_time": "2022-06-28T19:52:11.374Z"
   },
   {
    "duration": 4,
    "start_time": "2022-06-28T19:52:11.384Z"
   },
   {
    "duration": 7,
    "start_time": "2022-06-28T19:52:11.389Z"
   },
   {
    "duration": 10,
    "start_time": "2022-06-28T19:52:11.397Z"
   },
   {
    "duration": 22,
    "start_time": "2022-06-28T19:52:11.408Z"
   },
   {
    "duration": 15,
    "start_time": "2022-06-28T19:52:11.432Z"
   },
   {
    "duration": 10,
    "start_time": "2022-06-28T19:52:11.448Z"
   },
   {
    "duration": 9,
    "start_time": "2022-06-28T19:52:11.460Z"
   },
   {
    "duration": 11,
    "start_time": "2022-06-28T19:52:11.471Z"
   },
   {
    "duration": 16582,
    "start_time": "2022-06-28T19:52:11.484Z"
   },
   {
    "duration": 11,
    "start_time": "2022-06-28T19:52:28.068Z"
   },
   {
    "duration": 13,
    "start_time": "2022-06-28T19:52:28.081Z"
   },
   {
    "duration": 171,
    "start_time": "2022-06-28T19:52:28.096Z"
   },
   {
    "duration": 9,
    "start_time": "2022-06-28T19:52:28.269Z"
   },
   {
    "duration": 9,
    "start_time": "2022-06-28T19:52:28.280Z"
   },
   {
    "duration": 11,
    "start_time": "2022-06-28T19:52:28.291Z"
   },
   {
    "duration": 30,
    "start_time": "2022-06-28T19:52:28.304Z"
   },
   {
    "duration": 5,
    "start_time": "2022-06-28T19:52:28.336Z"
   },
   {
    "duration": 9,
    "start_time": "2022-06-28T19:52:28.342Z"
   },
   {
    "duration": 158,
    "start_time": "2022-06-28T19:52:28.352Z"
   },
   {
    "duration": 154,
    "start_time": "2022-06-28T19:52:28.512Z"
   },
   {
    "duration": 15,
    "start_time": "2022-06-28T19:52:28.668Z"
   },
   {
    "duration": 156,
    "start_time": "2022-06-28T19:52:28.685Z"
   },
   {
    "duration": 223,
    "start_time": "2022-06-28T19:52:28.843Z"
   },
   {
    "duration": 31,
    "start_time": "2022-06-28T19:52:29.068Z"
   },
   {
    "duration": 326,
    "start_time": "2022-06-28T19:52:29.100Z"
   },
   {
    "duration": 102,
    "start_time": "2022-06-28T19:52:29.427Z"
   },
   {
    "duration": 0,
    "start_time": "2022-06-28T19:52:29.530Z"
   },
   {
    "duration": 1,
    "start_time": "2022-06-28T19:52:29.531Z"
   },
   {
    "duration": 0,
    "start_time": "2022-06-28T19:52:29.533Z"
   },
   {
    "duration": 0,
    "start_time": "2022-06-28T19:52:29.534Z"
   },
   {
    "duration": 0,
    "start_time": "2022-06-28T19:52:29.535Z"
   },
   {
    "duration": 0,
    "start_time": "2022-06-28T19:52:29.536Z"
   },
   {
    "duration": 0,
    "start_time": "2022-06-28T19:52:29.537Z"
   },
   {
    "duration": 0,
    "start_time": "2022-06-28T19:52:29.538Z"
   },
   {
    "duration": 0,
    "start_time": "2022-06-28T19:52:29.539Z"
   },
   {
    "duration": 0,
    "start_time": "2022-06-28T19:52:29.540Z"
   },
   {
    "duration": 0,
    "start_time": "2022-06-28T19:52:29.541Z"
   },
   {
    "duration": 876,
    "start_time": "2022-06-28T19:52:47.133Z"
   },
   {
    "duration": 1043,
    "start_time": "2022-06-28T19:53:06.270Z"
   },
   {
    "duration": 885,
    "start_time": "2022-06-28T19:53:14.801Z"
   },
   {
    "duration": 855,
    "start_time": "2022-06-28T19:54:11.290Z"
   },
   {
    "duration": 720,
    "start_time": "2022-06-28T19:54:35.700Z"
   },
   {
    "duration": 379,
    "start_time": "2022-06-28T19:54:45.511Z"
   },
   {
    "duration": 400,
    "start_time": "2022-06-28T19:55:09.470Z"
   },
   {
    "duration": 558,
    "start_time": "2022-06-28T19:55:22.633Z"
   },
   {
    "duration": 26,
    "start_time": "2022-06-28T19:55:36.331Z"
   },
   {
    "duration": 22,
    "start_time": "2022-06-28T19:55:36.788Z"
   },
   {
    "duration": 12,
    "start_time": "2022-06-28T19:55:37.382Z"
   },
   {
    "duration": 563,
    "start_time": "2022-06-28T19:55:39.923Z"
   },
   {
    "duration": 529,
    "start_time": "2022-06-28T19:55:40.488Z"
   },
   {
    "duration": 443,
    "start_time": "2022-06-28T19:55:49.250Z"
   },
   {
    "duration": 927,
    "start_time": "2022-06-28T19:55:59.522Z"
   },
   {
    "duration": 721,
    "start_time": "2022-06-28T19:56:21.377Z"
   },
   {
    "duration": 938,
    "start_time": "2022-06-28T19:56:33.182Z"
   },
   {
    "duration": 141,
    "start_time": "2022-06-28T19:57:15.277Z"
   },
   {
    "duration": 714,
    "start_time": "2022-06-28T19:57:32.634Z"
   },
   {
    "duration": 19896,
    "start_time": "2022-06-28T19:58:28.098Z"
   },
   {
    "duration": 201,
    "start_time": "2022-06-28T19:59:29.985Z"
   },
   {
    "duration": 263,
    "start_time": "2022-06-28T19:59:41.535Z"
   },
   {
    "duration": 261,
    "start_time": "2022-06-28T20:00:07.579Z"
   },
   {
    "duration": 284,
    "start_time": "2022-06-28T20:00:19.225Z"
   },
   {
    "duration": 307,
    "start_time": "2022-06-28T20:00:44.102Z"
   },
   {
    "duration": 226,
    "start_time": "2022-06-28T20:00:53.457Z"
   },
   {
    "duration": 257,
    "start_time": "2022-06-28T20:00:57.506Z"
   },
   {
    "duration": 299,
    "start_time": "2022-06-28T20:01:04.502Z"
   },
   {
    "duration": 254,
    "start_time": "2022-06-28T20:01:09.385Z"
   },
   {
    "duration": 350,
    "start_time": "2022-06-28T20:01:16.057Z"
   },
   {
    "duration": 288,
    "start_time": "2022-06-28T20:01:30.817Z"
   },
   {
    "duration": 260,
    "start_time": "2022-06-28T20:02:27.340Z"
   },
   {
    "duration": 273,
    "start_time": "2022-06-28T20:02:36.267Z"
   },
   {
    "duration": 219,
    "start_time": "2022-06-28T20:02:46.739Z"
   },
   {
    "duration": 227,
    "start_time": "2022-06-28T20:03:22.234Z"
   },
   {
    "duration": 289,
    "start_time": "2022-06-28T20:03:37.264Z"
   },
   {
    "duration": 226,
    "start_time": "2022-06-28T20:03:53.500Z"
   },
   {
    "duration": 260,
    "start_time": "2022-06-28T20:04:06.968Z"
   },
   {
    "duration": 243,
    "start_time": "2022-06-28T20:04:25.759Z"
   },
   {
    "duration": 214,
    "start_time": "2022-06-28T20:05:49.199Z"
   },
   {
    "duration": 12,
    "start_time": "2022-06-28T20:07:03.461Z"
   },
   {
    "duration": 10,
    "start_time": "2022-06-28T20:07:16.064Z"
   },
   {
    "duration": 828,
    "start_time": "2022-06-28T20:07:47.101Z"
   },
   {
    "duration": 261,
    "start_time": "2022-06-28T20:08:32.126Z"
   },
   {
    "duration": 240,
    "start_time": "2022-06-28T20:08:49.129Z"
   },
   {
    "duration": 236,
    "start_time": "2022-06-28T20:08:59.099Z"
   },
   {
    "duration": 217,
    "start_time": "2022-06-28T20:09:43.954Z"
   },
   {
    "duration": 127,
    "start_time": "2022-06-28T20:10:18.060Z"
   },
   {
    "duration": 256,
    "start_time": "2022-06-28T20:10:36.624Z"
   },
   {
    "duration": 219,
    "start_time": "2022-06-28T20:11:03.579Z"
   },
   {
    "duration": 261,
    "start_time": "2022-06-28T20:11:26.779Z"
   },
   {
    "duration": 242,
    "start_time": "2022-06-28T20:12:11.392Z"
   },
   {
    "duration": 225,
    "start_time": "2022-06-28T20:12:19.740Z"
   },
   {
    "duration": 268,
    "start_time": "2022-06-28T20:13:34.289Z"
   },
   {
    "duration": 232,
    "start_time": "2022-06-28T20:16:26.028Z"
   },
   {
    "duration": 6,
    "start_time": "2022-06-28T20:26:49.460Z"
   },
   {
    "duration": 4,
    "start_time": "2022-06-28T20:30:01.029Z"
   },
   {
    "duration": 7,
    "start_time": "2022-06-28T20:32:48.293Z"
   },
   {
    "duration": 115,
    "start_time": "2022-06-28T20:33:11.861Z"
   },
   {
    "duration": 131,
    "start_time": "2022-06-28T20:37:24.832Z"
   },
   {
    "duration": 7,
    "start_time": "2022-06-28T20:37:36.738Z"
   },
   {
    "duration": 124,
    "start_time": "2022-06-28T20:37:47.485Z"
   },
   {
    "duration": 124,
    "start_time": "2022-06-28T20:37:59.427Z"
   },
   {
    "duration": 220,
    "start_time": "2022-06-28T20:38:11.945Z"
   },
   {
    "duration": 202,
    "start_time": "2022-06-28T20:38:18.224Z"
   },
   {
    "duration": 154,
    "start_time": "2022-06-28T20:38:24.948Z"
   },
   {
    "duration": 171,
    "start_time": "2022-06-28T20:38:31.501Z"
   },
   {
    "duration": 150,
    "start_time": "2022-06-28T20:38:35.367Z"
   },
   {
    "duration": 9,
    "start_time": "2022-06-28T20:40:52.202Z"
   },
   {
    "duration": 121,
    "start_time": "2022-06-28T20:41:08.738Z"
   },
   {
    "duration": 59,
    "start_time": "2022-06-28T20:41:16.516Z"
   },
   {
    "duration": 8,
    "start_time": "2022-06-28T20:41:20.363Z"
   },
   {
    "duration": 12,
    "start_time": "2022-06-28T20:42:00.614Z"
   },
   {
    "duration": 10,
    "start_time": "2022-06-28T20:42:09.731Z"
   },
   {
    "duration": 9,
    "start_time": "2022-06-28T20:42:19.636Z"
   },
   {
    "duration": 8,
    "start_time": "2022-06-28T20:42:46.700Z"
   },
   {
    "duration": 129,
    "start_time": "2022-06-28T20:43:42.263Z"
   },
   {
    "duration": 148,
    "start_time": "2022-06-28T20:44:09.405Z"
   },
   {
    "duration": 143,
    "start_time": "2022-06-28T20:44:39.039Z"
   },
   {
    "duration": 152,
    "start_time": "2022-06-28T20:45:21.502Z"
   },
   {
    "duration": 137,
    "start_time": "2022-06-28T20:46:05.079Z"
   },
   {
    "duration": 185,
    "start_time": "2022-06-28T20:46:33.220Z"
   },
   {
    "duration": 151,
    "start_time": "2022-06-28T20:48:28.895Z"
   },
   {
    "duration": 243,
    "start_time": "2022-06-28T20:50:25.711Z"
   },
   {
    "duration": 13,
    "start_time": "2022-06-28T21:04:14.980Z"
   },
   {
    "duration": 10,
    "start_time": "2022-06-28T21:05:20.241Z"
   },
   {
    "duration": 5,
    "start_time": "2022-06-28T21:06:46.190Z"
   },
   {
    "duration": 10,
    "start_time": "2022-06-28T21:07:33.428Z"
   },
   {
    "duration": 1057,
    "start_time": "2022-06-28T21:07:46.272Z"
   },
   {
    "duration": 386,
    "start_time": "2022-06-28T21:07:47.331Z"
   },
   {
    "duration": 14,
    "start_time": "2022-06-28T21:07:47.718Z"
   },
   {
    "duration": 9,
    "start_time": "2022-06-28T21:07:47.734Z"
   },
   {
    "duration": 13,
    "start_time": "2022-06-28T21:07:47.744Z"
   },
   {
    "duration": 9,
    "start_time": "2022-06-28T21:07:47.759Z"
   },
   {
    "duration": 18,
    "start_time": "2022-06-28T21:07:47.770Z"
   },
   {
    "duration": 38,
    "start_time": "2022-06-28T21:07:47.790Z"
   },
   {
    "duration": 23,
    "start_time": "2022-06-28T21:07:47.830Z"
   },
   {
    "duration": 19,
    "start_time": "2022-06-28T21:07:47.857Z"
   },
   {
    "duration": 13,
    "start_time": "2022-06-28T21:07:47.878Z"
   },
   {
    "duration": 34,
    "start_time": "2022-06-28T21:07:47.893Z"
   },
   {
    "duration": 141,
    "start_time": "2022-06-28T21:07:47.928Z"
   },
   {
    "duration": 3,
    "start_time": "2022-06-28T21:07:48.071Z"
   },
   {
    "duration": 88,
    "start_time": "2022-06-28T21:07:48.075Z"
   },
   {
    "duration": 72,
    "start_time": "2022-06-28T21:07:48.165Z"
   },
   {
    "duration": 3,
    "start_time": "2022-06-28T21:07:48.239Z"
   },
   {
    "duration": 11,
    "start_time": "2022-06-28T21:07:48.243Z"
   },
   {
    "duration": 9,
    "start_time": "2022-06-28T21:07:48.256Z"
   },
   {
    "duration": 13,
    "start_time": "2022-06-28T21:07:48.267Z"
   },
   {
    "duration": 16,
    "start_time": "2022-06-28T21:07:48.281Z"
   },
   {
    "duration": 13,
    "start_time": "2022-06-28T21:07:48.302Z"
   },
   {
    "duration": 16,
    "start_time": "2022-06-28T21:07:48.317Z"
   },
   {
    "duration": 10,
    "start_time": "2022-06-28T21:07:48.334Z"
   },
   {
    "duration": 19,
    "start_time": "2022-06-28T21:07:48.346Z"
   },
   {
    "duration": 22,
    "start_time": "2022-06-28T21:07:48.367Z"
   },
   {
    "duration": 12,
    "start_time": "2022-06-28T21:07:48.390Z"
   },
   {
    "duration": 4,
    "start_time": "2022-06-28T21:07:48.406Z"
   },
   {
    "duration": 9,
    "start_time": "2022-06-28T21:07:48.412Z"
   },
   {
    "duration": 5,
    "start_time": "2022-06-28T21:07:48.423Z"
   },
   {
    "duration": 9,
    "start_time": "2022-06-28T21:07:48.429Z"
   },
   {
    "duration": 18,
    "start_time": "2022-06-28T21:07:48.439Z"
   },
   {
    "duration": 13,
    "start_time": "2022-06-28T21:07:48.459Z"
   },
   {
    "duration": 11,
    "start_time": "2022-06-28T21:07:48.474Z"
   },
   {
    "duration": 8,
    "start_time": "2022-06-28T21:07:48.487Z"
   },
   {
    "duration": 13,
    "start_time": "2022-06-28T21:07:48.496Z"
   },
   {
    "duration": 16734,
    "start_time": "2022-06-28T21:07:48.510Z"
   },
   {
    "duration": 10,
    "start_time": "2022-06-28T21:08:05.246Z"
   },
   {
    "duration": 17,
    "start_time": "2022-06-28T21:08:05.257Z"
   },
   {
    "duration": 179,
    "start_time": "2022-06-28T21:08:05.275Z"
   },
   {
    "duration": 10,
    "start_time": "2022-06-28T21:08:05.456Z"
   },
   {
    "duration": 6,
    "start_time": "2022-06-28T21:08:05.468Z"
   },
   {
    "duration": 4,
    "start_time": "2022-06-28T21:08:05.476Z"
   },
   {
    "duration": 17,
    "start_time": "2022-06-28T21:08:05.482Z"
   },
   {
    "duration": 6,
    "start_time": "2022-06-28T21:08:05.500Z"
   },
   {
    "duration": 36,
    "start_time": "2022-06-28T21:08:05.507Z"
   },
   {
    "duration": 152,
    "start_time": "2022-06-28T21:08:05.545Z"
   },
   {
    "duration": 136,
    "start_time": "2022-06-28T21:08:05.699Z"
   },
   {
    "duration": 14,
    "start_time": "2022-06-28T21:08:05.837Z"
   },
   {
    "duration": 150,
    "start_time": "2022-06-28T21:08:05.853Z"
   },
   {
    "duration": 233,
    "start_time": "2022-06-28T21:08:06.004Z"
   },
   {
    "duration": 32,
    "start_time": "2022-06-28T21:08:06.239Z"
   },
   {
    "duration": 251,
    "start_time": "2022-06-28T21:08:06.273Z"
   },
   {
    "duration": 4,
    "start_time": "2022-06-28T21:08:06.526Z"
   },
   {
    "duration": 166,
    "start_time": "2022-06-28T21:08:06.532Z"
   },
   {
    "duration": 11,
    "start_time": "2022-06-28T21:08:06.700Z"
   },
   {
    "duration": 161,
    "start_time": "2022-06-28T21:08:06.725Z"
   },
   {
    "duration": 1138,
    "start_time": "2022-06-28T21:08:06.888Z"
   },
   {
    "duration": 1184,
    "start_time": "2022-06-28T21:08:08.027Z"
   },
   {
    "duration": 34,
    "start_time": "2022-06-28T21:08:09.213Z"
   },
   {
    "duration": 27,
    "start_time": "2022-06-28T21:08:09.248Z"
   },
   {
    "duration": 7,
    "start_time": "2022-06-28T21:08:09.277Z"
   },
   {
    "duration": 127,
    "start_time": "2022-06-28T21:08:09.286Z"
   },
   {
    "duration": 0,
    "start_time": "2022-06-28T21:08:09.415Z"
   },
   {
    "duration": 0,
    "start_time": "2022-06-28T21:08:09.416Z"
   },
   {
    "duration": 0,
    "start_time": "2022-06-28T21:08:09.417Z"
   },
   {
    "duration": 0,
    "start_time": "2022-06-28T21:08:09.418Z"
   },
   {
    "duration": 0,
    "start_time": "2022-06-28T21:08:09.426Z"
   },
   {
    "duration": 618,
    "start_time": "2022-06-28T21:09:19.509Z"
   },
   {
    "duration": 644,
    "start_time": "2022-06-28T21:09:21.533Z"
   },
   {
    "duration": 734,
    "start_time": "2022-06-28T21:09:24.492Z"
   },
   {
    "duration": 1201,
    "start_time": "2022-06-28T21:09:37.491Z"
   },
   {
    "duration": 424,
    "start_time": "2022-06-28T21:09:38.694Z"
   },
   {
    "duration": 14,
    "start_time": "2022-06-28T21:09:39.120Z"
   },
   {
    "duration": 9,
    "start_time": "2022-06-28T21:09:39.136Z"
   },
   {
    "duration": 13,
    "start_time": "2022-06-28T21:09:39.147Z"
   },
   {
    "duration": 21,
    "start_time": "2022-06-28T21:09:39.162Z"
   },
   {
    "duration": 14,
    "start_time": "2022-06-28T21:09:39.185Z"
   },
   {
    "duration": 43,
    "start_time": "2022-06-28T21:09:39.201Z"
   },
   {
    "duration": 23,
    "start_time": "2022-06-28T21:09:39.245Z"
   },
   {
    "duration": 31,
    "start_time": "2022-06-28T21:09:39.271Z"
   },
   {
    "duration": 28,
    "start_time": "2022-06-28T21:09:39.305Z"
   },
   {
    "duration": 26,
    "start_time": "2022-06-28T21:09:39.335Z"
   },
   {
    "duration": 144,
    "start_time": "2022-06-28T21:09:39.363Z"
   },
   {
    "duration": 3,
    "start_time": "2022-06-28T21:09:39.509Z"
   },
   {
    "duration": 96,
    "start_time": "2022-06-28T21:09:39.513Z"
   },
   {
    "duration": 89,
    "start_time": "2022-06-28T21:09:39.610Z"
   },
   {
    "duration": 3,
    "start_time": "2022-06-28T21:09:39.701Z"
   },
   {
    "duration": 21,
    "start_time": "2022-06-28T21:09:39.706Z"
   },
   {
    "duration": 10,
    "start_time": "2022-06-28T21:09:39.729Z"
   },
   {
    "duration": 6,
    "start_time": "2022-06-28T21:09:39.741Z"
   },
   {
    "duration": 5,
    "start_time": "2022-06-28T21:09:39.749Z"
   },
   {
    "duration": 12,
    "start_time": "2022-06-28T21:09:39.755Z"
   },
   {
    "duration": 16,
    "start_time": "2022-06-28T21:09:39.769Z"
   },
   {
    "duration": 39,
    "start_time": "2022-06-28T21:09:39.787Z"
   },
   {
    "duration": 5,
    "start_time": "2022-06-28T21:09:39.828Z"
   },
   {
    "duration": 7,
    "start_time": "2022-06-28T21:09:39.835Z"
   },
   {
    "duration": 8,
    "start_time": "2022-06-28T21:09:39.843Z"
   },
   {
    "duration": 5,
    "start_time": "2022-06-28T21:09:39.854Z"
   },
   {
    "duration": 12,
    "start_time": "2022-06-28T21:09:39.860Z"
   },
   {
    "duration": 6,
    "start_time": "2022-06-28T21:09:39.873Z"
   },
   {
    "duration": 6,
    "start_time": "2022-06-28T21:09:39.881Z"
   },
   {
    "duration": 11,
    "start_time": "2022-06-28T21:09:39.888Z"
   },
   {
    "duration": 30,
    "start_time": "2022-06-28T21:09:39.901Z"
   },
   {
    "duration": 12,
    "start_time": "2022-06-28T21:09:39.932Z"
   },
   {
    "duration": 9,
    "start_time": "2022-06-28T21:09:39.945Z"
   },
   {
    "duration": 14,
    "start_time": "2022-06-28T21:09:39.956Z"
   },
   {
    "duration": 16386,
    "start_time": "2022-06-28T21:09:39.971Z"
   },
   {
    "duration": 11,
    "start_time": "2022-06-28T21:09:56.359Z"
   },
   {
    "duration": 7,
    "start_time": "2022-06-28T21:09:56.371Z"
   },
   {
    "duration": 192,
    "start_time": "2022-06-28T21:09:56.380Z"
   },
   {
    "duration": 9,
    "start_time": "2022-06-28T21:09:56.573Z"
   },
   {
    "duration": 11,
    "start_time": "2022-06-28T21:09:56.583Z"
   },
   {
    "duration": 7,
    "start_time": "2022-06-28T21:09:56.596Z"
   },
   {
    "duration": 26,
    "start_time": "2022-06-28T21:09:56.605Z"
   },
   {
    "duration": 5,
    "start_time": "2022-06-28T21:09:56.632Z"
   },
   {
    "duration": 10,
    "start_time": "2022-06-28T21:09:56.639Z"
   },
   {
    "duration": 165,
    "start_time": "2022-06-28T21:09:56.650Z"
   },
   {
    "duration": 172,
    "start_time": "2022-06-28T21:09:56.817Z"
   },
   {
    "duration": 16,
    "start_time": "2022-06-28T21:09:56.991Z"
   },
   {
    "duration": 167,
    "start_time": "2022-06-28T21:09:57.009Z"
   },
   {
    "duration": 234,
    "start_time": "2022-06-28T21:09:57.178Z"
   },
   {
    "duration": 35,
    "start_time": "2022-06-28T21:09:57.414Z"
   },
   {
    "duration": 243,
    "start_time": "2022-06-28T21:09:57.451Z"
   },
   {
    "duration": 5,
    "start_time": "2022-06-28T21:09:57.696Z"
   },
   {
    "duration": 172,
    "start_time": "2022-06-28T21:09:57.703Z"
   },
   {
    "duration": 179,
    "start_time": "2022-06-28T21:09:57.876Z"
   },
   {
    "duration": 548,
    "start_time": "2022-06-28T21:09:58.057Z"
   },
   {
    "duration": 526,
    "start_time": "2022-06-28T21:09:58.608Z"
   },
   {
    "duration": 23,
    "start_time": "2022-06-28T21:09:59.135Z"
   },
   {
    "duration": 21,
    "start_time": "2022-06-28T21:09:59.160Z"
   },
   {
    "duration": 35,
    "start_time": "2022-06-28T21:09:59.182Z"
   },
   {
    "duration": 20,
    "start_time": "2022-06-28T21:09:59.218Z"
   },
   {
    "duration": 20,
    "start_time": "2022-06-28T21:09:59.240Z"
   },
   {
    "duration": 12,
    "start_time": "2022-06-28T21:09:59.261Z"
   },
   {
    "duration": 8,
    "start_time": "2022-06-28T21:09:59.275Z"
   },
   {
    "duration": 20,
    "start_time": "2022-06-28T21:09:59.284Z"
   },
   {
    "duration": 15,
    "start_time": "2022-06-28T21:09:59.305Z"
   },
   {
    "duration": 46,
    "start_time": "2022-06-28T21:14:21.100Z"
   },
   {
    "duration": 103,
    "start_time": "2022-06-28T21:14:28.930Z"
   },
   {
    "duration": 10,
    "start_time": "2022-06-28T21:14:47.971Z"
   },
   {
    "duration": 12,
    "start_time": "2022-06-28T21:15:59.316Z"
   },
   {
    "duration": 10,
    "start_time": "2022-06-28T21:16:12.164Z"
   },
   {
    "duration": 11,
    "start_time": "2022-06-28T21:16:45.804Z"
   },
   {
    "duration": 83,
    "start_time": "2022-06-28T21:16:53.734Z"
   },
   {
    "duration": 5,
    "start_time": "2022-06-28T21:17:17.116Z"
   },
   {
    "duration": 10,
    "start_time": "2022-06-28T21:17:27.485Z"
   },
   {
    "duration": 14,
    "start_time": "2022-06-28T21:17:33.525Z"
   },
   {
    "duration": 4,
    "start_time": "2022-06-28T21:18:07.034Z"
   },
   {
    "duration": 4,
    "start_time": "2022-06-28T21:18:27.585Z"
   },
   {
    "duration": 4,
    "start_time": "2022-06-28T21:18:42.863Z"
   },
   {
    "duration": 20,
    "start_time": "2022-06-28T21:23:26.725Z"
   },
   {
    "duration": 136,
    "start_time": "2022-06-28T21:23:53.329Z"
   },
   {
    "duration": 264,
    "start_time": "2022-06-28T21:24:38.817Z"
   },
   {
    "duration": 142,
    "start_time": "2022-06-28T21:24:52.569Z"
   },
   {
    "duration": 156,
    "start_time": "2022-06-28T21:25:06.065Z"
   },
   {
    "duration": 151,
    "start_time": "2022-06-28T21:25:10.498Z"
   },
   {
    "duration": 1169,
    "start_time": "2022-06-28T21:26:12.939Z"
   },
   {
    "duration": 438,
    "start_time": "2022-06-28T21:26:14.110Z"
   },
   {
    "duration": 18,
    "start_time": "2022-06-28T21:26:14.550Z"
   },
   {
    "duration": 14,
    "start_time": "2022-06-28T21:26:14.570Z"
   },
   {
    "duration": 29,
    "start_time": "2022-06-28T21:26:14.587Z"
   },
   {
    "duration": 23,
    "start_time": "2022-06-28T21:26:14.618Z"
   },
   {
    "duration": 19,
    "start_time": "2022-06-28T21:26:14.643Z"
   },
   {
    "duration": 43,
    "start_time": "2022-06-28T21:26:14.664Z"
   },
   {
    "duration": 39,
    "start_time": "2022-06-28T21:26:14.710Z"
   },
   {
    "duration": 25,
    "start_time": "2022-06-28T21:26:14.753Z"
   },
   {
    "duration": 13,
    "start_time": "2022-06-28T21:26:14.780Z"
   },
   {
    "duration": 11,
    "start_time": "2022-06-28T21:26:14.795Z"
   },
   {
    "duration": 127,
    "start_time": "2022-06-28T21:26:14.826Z"
   },
   {
    "duration": 4,
    "start_time": "2022-06-28T21:26:14.954Z"
   },
   {
    "duration": 100,
    "start_time": "2022-06-28T21:26:14.959Z"
   },
   {
    "duration": 78,
    "start_time": "2022-06-28T21:26:15.061Z"
   },
   {
    "duration": 3,
    "start_time": "2022-06-28T21:26:15.141Z"
   },
   {
    "duration": 16,
    "start_time": "2022-06-28T21:26:15.146Z"
   },
   {
    "duration": 22,
    "start_time": "2022-06-28T21:26:15.164Z"
   },
   {
    "duration": 9,
    "start_time": "2022-06-28T21:26:15.189Z"
   },
   {
    "duration": 7,
    "start_time": "2022-06-28T21:26:15.200Z"
   },
   {
    "duration": 17,
    "start_time": "2022-06-28T21:26:15.209Z"
   },
   {
    "duration": 14,
    "start_time": "2022-06-28T21:26:15.228Z"
   },
   {
    "duration": 10,
    "start_time": "2022-06-28T21:26:15.244Z"
   },
   {
    "duration": 7,
    "start_time": "2022-06-28T21:26:15.256Z"
   },
   {
    "duration": 8,
    "start_time": "2022-06-28T21:26:15.264Z"
   },
   {
    "duration": 10,
    "start_time": "2022-06-28T21:26:15.273Z"
   },
   {
    "duration": 5,
    "start_time": "2022-06-28T21:26:15.287Z"
   },
   {
    "duration": 32,
    "start_time": "2022-06-28T21:26:15.294Z"
   },
   {
    "duration": 8,
    "start_time": "2022-06-28T21:26:15.328Z"
   },
   {
    "duration": 7,
    "start_time": "2022-06-28T21:26:15.337Z"
   },
   {
    "duration": 10,
    "start_time": "2022-06-28T21:26:15.346Z"
   },
   {
    "duration": 9,
    "start_time": "2022-06-28T21:26:15.358Z"
   },
   {
    "duration": 15,
    "start_time": "2022-06-28T21:26:15.368Z"
   },
   {
    "duration": 11,
    "start_time": "2022-06-28T21:26:15.384Z"
   },
   {
    "duration": 39,
    "start_time": "2022-06-28T21:26:15.397Z"
   },
   {
    "duration": 17098,
    "start_time": "2022-06-28T21:26:15.438Z"
   },
   {
    "duration": 9,
    "start_time": "2022-06-28T21:26:32.538Z"
   },
   {
    "duration": 9,
    "start_time": "2022-06-28T21:26:32.549Z"
   },
   {
    "duration": 183,
    "start_time": "2022-06-28T21:26:32.559Z"
   },
   {
    "duration": 9,
    "start_time": "2022-06-28T21:26:32.744Z"
   },
   {
    "duration": 9,
    "start_time": "2022-06-28T21:26:32.754Z"
   },
   {
    "duration": 6,
    "start_time": "2022-06-28T21:26:32.764Z"
   },
   {
    "duration": 23,
    "start_time": "2022-06-28T21:26:32.771Z"
   },
   {
    "duration": 31,
    "start_time": "2022-06-28T21:26:32.796Z"
   },
   {
    "duration": 10,
    "start_time": "2022-06-28T21:26:32.829Z"
   },
   {
    "duration": 154,
    "start_time": "2022-06-28T21:26:32.840Z"
   },
   {
    "duration": 160,
    "start_time": "2022-06-28T21:26:32.995Z"
   },
   {
    "duration": 17,
    "start_time": "2022-06-28T21:26:33.157Z"
   },
   {
    "duration": 172,
    "start_time": "2022-06-28T21:26:33.175Z"
   },
   {
    "duration": 229,
    "start_time": "2022-06-28T21:26:33.349Z"
   },
   {
    "duration": 29,
    "start_time": "2022-06-28T21:26:33.580Z"
   },
   {
    "duration": 261,
    "start_time": "2022-06-28T21:26:33.611Z"
   },
   {
    "duration": 4,
    "start_time": "2022-06-28T21:26:33.873Z"
   },
   {
    "duration": 167,
    "start_time": "2022-06-28T21:26:33.879Z"
   },
   {
    "duration": 99,
    "start_time": "2022-06-28T21:26:34.047Z"
   },
   {
    "duration": 10,
    "start_time": "2022-06-28T21:26:34.148Z"
   },
   {
    "duration": 11,
    "start_time": "2022-06-28T21:26:34.160Z"
   },
   {
    "duration": 181,
    "start_time": "2022-06-28T21:26:34.173Z"
   },
   {
    "duration": 688,
    "start_time": "2022-06-28T21:26:34.356Z"
   },
   {
    "duration": 545,
    "start_time": "2022-06-28T21:26:35.046Z"
   },
   {
    "duration": 22,
    "start_time": "2022-06-28T21:26:35.593Z"
   },
   {
    "duration": 20,
    "start_time": "2022-06-28T21:26:35.626Z"
   },
   {
    "duration": 6,
    "start_time": "2022-06-28T21:26:35.648Z"
   },
   {
    "duration": 21,
    "start_time": "2022-06-28T21:26:35.656Z"
   },
   {
    "duration": 12,
    "start_time": "2022-06-28T21:26:35.679Z"
   },
   {
    "duration": 9,
    "start_time": "2022-06-28T21:26:35.693Z"
   },
   {
    "duration": 27,
    "start_time": "2022-06-28T21:26:35.704Z"
   },
   {
    "duration": 17,
    "start_time": "2022-06-28T21:26:35.733Z"
   },
   {
    "duration": 6,
    "start_time": "2022-06-28T21:26:35.751Z"
   },
   {
    "duration": 3599,
    "start_time": "2022-06-28T21:30:21.941Z"
   },
   {
    "duration": 165,
    "start_time": "2022-06-28T21:30:48.706Z"
   },
   {
    "duration": 12,
    "start_time": "2022-06-28T21:31:20.036Z"
   },
   {
    "duration": 3776,
    "start_time": "2022-06-28T21:31:20.601Z"
   },
   {
    "duration": 1327,
    "start_time": "2022-06-28T21:32:55.218Z"
   },
   {
    "duration": 593,
    "start_time": "2022-06-28T21:32:56.548Z"
   },
   {
    "duration": 15,
    "start_time": "2022-06-28T21:32:57.143Z"
   },
   {
    "duration": 11,
    "start_time": "2022-06-28T21:32:57.160Z"
   },
   {
    "duration": 11,
    "start_time": "2022-06-28T21:32:57.174Z"
   },
   {
    "duration": 17,
    "start_time": "2022-06-28T21:32:57.187Z"
   },
   {
    "duration": 34,
    "start_time": "2022-06-28T21:32:57.206Z"
   },
   {
    "duration": 31,
    "start_time": "2022-06-28T21:32:57.241Z"
   },
   {
    "duration": 25,
    "start_time": "2022-06-28T21:32:57.274Z"
   },
   {
    "duration": 42,
    "start_time": "2022-06-28T21:32:57.302Z"
   },
   {
    "duration": 15,
    "start_time": "2022-06-28T21:32:57.346Z"
   },
   {
    "duration": 15,
    "start_time": "2022-06-28T21:32:57.363Z"
   },
   {
    "duration": 157,
    "start_time": "2022-06-28T21:32:57.380Z"
   },
   {
    "duration": 3,
    "start_time": "2022-06-28T21:32:57.538Z"
   },
   {
    "duration": 95,
    "start_time": "2022-06-28T21:32:57.544Z"
   },
   {
    "duration": 86,
    "start_time": "2022-06-28T21:32:57.642Z"
   },
   {
    "duration": 4,
    "start_time": "2022-06-28T21:32:57.730Z"
   },
   {
    "duration": 14,
    "start_time": "2022-06-28T21:32:57.736Z"
   },
   {
    "duration": 12,
    "start_time": "2022-06-28T21:32:57.752Z"
   },
   {
    "duration": 7,
    "start_time": "2022-06-28T21:32:57.766Z"
   },
   {
    "duration": 7,
    "start_time": "2022-06-28T21:32:57.775Z"
   },
   {
    "duration": 13,
    "start_time": "2022-06-28T21:32:57.784Z"
   },
   {
    "duration": 39,
    "start_time": "2022-06-28T21:32:57.799Z"
   },
   {
    "duration": 12,
    "start_time": "2022-06-28T21:32:57.840Z"
   },
   {
    "duration": 7,
    "start_time": "2022-06-28T21:32:57.854Z"
   },
   {
    "duration": 7,
    "start_time": "2022-06-28T21:32:57.865Z"
   },
   {
    "duration": 7,
    "start_time": "2022-06-28T21:32:57.874Z"
   },
   {
    "duration": 5,
    "start_time": "2022-06-28T21:32:57.885Z"
   },
   {
    "duration": 38,
    "start_time": "2022-06-28T21:32:57.892Z"
   },
   {
    "duration": 12,
    "start_time": "2022-06-28T21:32:57.932Z"
   },
   {
    "duration": 11,
    "start_time": "2022-06-28T21:32:57.946Z"
   },
   {
    "duration": 17,
    "start_time": "2022-06-28T21:32:57.959Z"
   },
   {
    "duration": 13,
    "start_time": "2022-06-28T21:32:57.979Z"
   },
   {
    "duration": 35,
    "start_time": "2022-06-28T21:32:57.994Z"
   },
   {
    "duration": 7,
    "start_time": "2022-06-28T21:32:58.031Z"
   },
   {
    "duration": 22,
    "start_time": "2022-06-28T21:32:58.040Z"
   },
   {
    "duration": 17798,
    "start_time": "2022-06-28T21:32:58.064Z"
   },
   {
    "duration": 12,
    "start_time": "2022-06-28T21:33:15.864Z"
   },
   {
    "duration": 7,
    "start_time": "2022-06-28T21:33:15.878Z"
   },
   {
    "duration": 201,
    "start_time": "2022-06-28T21:33:15.887Z"
   },
   {
    "duration": 9,
    "start_time": "2022-06-28T21:33:16.089Z"
   },
   {
    "duration": 8,
    "start_time": "2022-06-28T21:33:16.100Z"
   },
   {
    "duration": 4,
    "start_time": "2022-06-28T21:33:16.127Z"
   },
   {
    "duration": 19,
    "start_time": "2022-06-28T21:33:16.133Z"
   },
   {
    "duration": 6,
    "start_time": "2022-06-28T21:33:16.154Z"
   },
   {
    "duration": 7,
    "start_time": "2022-06-28T21:33:16.162Z"
   },
   {
    "duration": 243,
    "start_time": "2022-06-28T21:33:16.170Z"
   },
   {
    "duration": 184,
    "start_time": "2022-06-28T21:33:16.415Z"
   },
   {
    "duration": 25,
    "start_time": "2022-06-28T21:33:16.601Z"
   },
   {
    "duration": 171,
    "start_time": "2022-06-28T21:33:16.628Z"
   },
   {
    "duration": 261,
    "start_time": "2022-06-28T21:33:16.801Z"
   },
   {
    "duration": 33,
    "start_time": "2022-06-28T21:33:17.064Z"
   },
   {
    "duration": 301,
    "start_time": "2022-06-28T21:33:17.099Z"
   },
   {
    "duration": 4,
    "start_time": "2022-06-28T21:33:17.402Z"
   },
   {
    "duration": 167,
    "start_time": "2022-06-28T21:33:17.408Z"
   },
   {
    "duration": 21,
    "start_time": "2022-06-28T21:33:17.577Z"
   },
   {
    "duration": 8,
    "start_time": "2022-06-28T21:33:17.600Z"
   },
   {
    "duration": 27,
    "start_time": "2022-06-28T21:33:17.610Z"
   },
   {
    "duration": 165,
    "start_time": "2022-06-28T21:33:17.640Z"
   },
   {
    "duration": 108,
    "start_time": "2022-06-28T21:33:17.808Z"
   },
   {
    "duration": 0,
    "start_time": "2022-06-28T21:33:17.926Z"
   },
   {
    "duration": 0,
    "start_time": "2022-06-28T21:33:17.928Z"
   },
   {
    "duration": 0,
    "start_time": "2022-06-28T21:33:17.929Z"
   },
   {
    "duration": 0,
    "start_time": "2022-06-28T21:33:17.930Z"
   },
   {
    "duration": 0,
    "start_time": "2022-06-28T21:33:17.931Z"
   },
   {
    "duration": 0,
    "start_time": "2022-06-28T21:33:17.932Z"
   },
   {
    "duration": 0,
    "start_time": "2022-06-28T21:33:17.933Z"
   },
   {
    "duration": 0,
    "start_time": "2022-06-28T21:33:17.934Z"
   },
   {
    "duration": 0,
    "start_time": "2022-06-28T21:33:17.936Z"
   },
   {
    "duration": 0,
    "start_time": "2022-06-28T21:33:17.937Z"
   },
   {
    "duration": 1198,
    "start_time": "2022-06-28T21:34:29.162Z"
   },
   {
    "duration": 430,
    "start_time": "2022-06-28T21:34:30.362Z"
   },
   {
    "duration": 15,
    "start_time": "2022-06-28T21:34:30.794Z"
   },
   {
    "duration": 25,
    "start_time": "2022-06-28T21:34:30.811Z"
   },
   {
    "duration": 46,
    "start_time": "2022-06-28T21:34:30.838Z"
   },
   {
    "duration": 24,
    "start_time": "2022-06-28T21:34:30.886Z"
   },
   {
    "duration": 33,
    "start_time": "2022-06-28T21:34:30.913Z"
   },
   {
    "duration": 51,
    "start_time": "2022-06-28T21:34:30.948Z"
   },
   {
    "duration": 25,
    "start_time": "2022-06-28T21:34:31.001Z"
   },
   {
    "duration": 20,
    "start_time": "2022-06-28T21:34:31.029Z"
   },
   {
    "duration": 32,
    "start_time": "2022-06-28T21:34:31.051Z"
   },
   {
    "duration": 49,
    "start_time": "2022-06-28T21:34:31.084Z"
   },
   {
    "duration": 167,
    "start_time": "2022-06-28T21:34:31.135Z"
   },
   {
    "duration": 5,
    "start_time": "2022-06-28T21:34:31.305Z"
   },
   {
    "duration": 127,
    "start_time": "2022-06-28T21:34:31.313Z"
   },
   {
    "duration": 94,
    "start_time": "2022-06-28T21:34:31.443Z"
   },
   {
    "duration": 3,
    "start_time": "2022-06-28T21:34:31.539Z"
   },
   {
    "duration": 22,
    "start_time": "2022-06-28T21:34:31.544Z"
   },
   {
    "duration": 33,
    "start_time": "2022-06-28T21:34:31.568Z"
   },
   {
    "duration": 24,
    "start_time": "2022-06-28T21:34:31.603Z"
   },
   {
    "duration": 39,
    "start_time": "2022-06-28T21:34:31.629Z"
   },
   {
    "duration": 50,
    "start_time": "2022-06-28T21:34:31.670Z"
   },
   {
    "duration": 41,
    "start_time": "2022-06-28T21:34:31.721Z"
   },
   {
    "duration": 15,
    "start_time": "2022-06-28T21:34:31.764Z"
   },
   {
    "duration": 13,
    "start_time": "2022-06-28T21:34:31.781Z"
   },
   {
    "duration": 10,
    "start_time": "2022-06-28T21:34:31.796Z"
   },
   {
    "duration": 20,
    "start_time": "2022-06-28T21:34:31.808Z"
   },
   {
    "duration": 32,
    "start_time": "2022-06-28T21:34:31.832Z"
   },
   {
    "duration": 45,
    "start_time": "2022-06-28T21:34:31.867Z"
   },
   {
    "duration": 7,
    "start_time": "2022-06-28T21:34:31.915Z"
   },
   {
    "duration": 28,
    "start_time": "2022-06-28T21:34:31.924Z"
   },
   {
    "duration": 24,
    "start_time": "2022-06-28T21:34:31.955Z"
   },
   {
    "duration": 21,
    "start_time": "2022-06-28T21:34:31.981Z"
   },
   {
    "duration": 20,
    "start_time": "2022-06-28T21:34:32.004Z"
   },
   {
    "duration": 21,
    "start_time": "2022-06-28T21:34:32.026Z"
   },
   {
    "duration": 18,
    "start_time": "2022-06-28T21:34:32.050Z"
   },
   {
    "duration": 17878,
    "start_time": "2022-06-28T21:34:32.070Z"
   },
   {
    "duration": 13,
    "start_time": "2022-06-28T21:34:49.950Z"
   },
   {
    "duration": 9,
    "start_time": "2022-06-28T21:34:49.965Z"
   },
   {
    "duration": 179,
    "start_time": "2022-06-28T21:34:49.976Z"
   },
   {
    "duration": 9,
    "start_time": "2022-06-28T21:34:50.157Z"
   },
   {
    "duration": 9,
    "start_time": "2022-06-28T21:34:50.168Z"
   },
   {
    "duration": 9,
    "start_time": "2022-06-28T21:34:50.179Z"
   },
   {
    "duration": 20,
    "start_time": "2022-06-28T21:34:50.190Z"
   },
   {
    "duration": 18,
    "start_time": "2022-06-28T21:34:50.212Z"
   },
   {
    "duration": 8,
    "start_time": "2022-06-28T21:34:50.232Z"
   },
   {
    "duration": 186,
    "start_time": "2022-06-28T21:34:50.242Z"
   },
   {
    "duration": 156,
    "start_time": "2022-06-28T21:34:50.429Z"
   },
   {
    "duration": 17,
    "start_time": "2022-06-28T21:34:50.586Z"
   },
   {
    "duration": 157,
    "start_time": "2022-06-28T21:34:50.605Z"
   },
   {
    "duration": 230,
    "start_time": "2022-06-28T21:34:50.763Z"
   },
   {
    "duration": 38,
    "start_time": "2022-06-28T21:34:50.995Z"
   },
   {
    "duration": 245,
    "start_time": "2022-06-28T21:34:51.035Z"
   },
   {
    "duration": 6,
    "start_time": "2022-06-28T21:34:51.281Z"
   },
   {
    "duration": 245,
    "start_time": "2022-06-28T21:34:51.289Z"
   },
   {
    "duration": 25,
    "start_time": "2022-06-28T21:34:51.536Z"
   },
   {
    "duration": 8,
    "start_time": "2022-06-28T21:34:51.563Z"
   },
   {
    "duration": 24,
    "start_time": "2022-06-28T21:34:51.573Z"
   },
   {
    "duration": 189,
    "start_time": "2022-06-28T21:34:51.599Z"
   },
   {
    "duration": 107,
    "start_time": "2022-06-28T21:34:51.790Z"
   },
   {
    "duration": 0,
    "start_time": "2022-06-28T21:34:51.900Z"
   },
   {
    "duration": 0,
    "start_time": "2022-06-28T21:34:51.901Z"
   },
   {
    "duration": 0,
    "start_time": "2022-06-28T21:34:51.903Z"
   },
   {
    "duration": 0,
    "start_time": "2022-06-28T21:34:51.904Z"
   },
   {
    "duration": 0,
    "start_time": "2022-06-28T21:34:51.905Z"
   },
   {
    "duration": 1,
    "start_time": "2022-06-28T21:34:51.907Z"
   },
   {
    "duration": 0,
    "start_time": "2022-06-28T21:34:51.926Z"
   },
   {
    "duration": 0,
    "start_time": "2022-06-28T21:34:51.928Z"
   },
   {
    "duration": 0,
    "start_time": "2022-06-28T21:34:51.929Z"
   },
   {
    "duration": 0,
    "start_time": "2022-06-28T21:34:51.930Z"
   },
   {
    "duration": 305,
    "start_time": "2022-06-28T21:35:55.266Z"
   },
   {
    "duration": 8,
    "start_time": "2022-06-28T21:36:30.973Z"
   },
   {
    "duration": 569,
    "start_time": "2022-06-28T21:36:32.217Z"
   },
   {
    "duration": 597,
    "start_time": "2022-06-28T21:36:36.142Z"
   },
   {
    "duration": 28,
    "start_time": "2022-06-28T21:36:42.050Z"
   },
   {
    "duration": 28,
    "start_time": "2022-06-28T21:36:42.081Z"
   },
   {
    "duration": 7,
    "start_time": "2022-06-28T21:36:42.112Z"
   },
   {
    "duration": 123,
    "start_time": "2022-06-28T21:36:42.126Z"
   },
   {
    "duration": 20,
    "start_time": "2022-06-28T21:36:42.252Z"
   },
   {
    "duration": 14,
    "start_time": "2022-06-28T21:36:42.275Z"
   },
   {
    "duration": 7,
    "start_time": "2022-06-28T21:36:42.291Z"
   },
   {
    "duration": 30,
    "start_time": "2022-06-28T21:36:42.300Z"
   },
   {
    "duration": 11,
    "start_time": "2022-06-28T21:36:42.332Z"
   },
   {
    "duration": 839,
    "start_time": "2022-06-28T21:38:47.562Z"
   },
   {
    "duration": 876,
    "start_time": "2022-06-28T21:39:00.753Z"
   },
   {
    "duration": 17,
    "start_time": "2022-06-28T21:39:24.424Z"
   },
   {
    "duration": 1345,
    "start_time": "2022-06-28T21:39:53.527Z"
   },
   {
    "duration": 17,
    "start_time": "2022-06-28T21:40:01.991Z"
   },
   {
    "duration": 26,
    "start_time": "2022-06-28T21:41:06.512Z"
   },
   {
    "duration": 32,
    "start_time": "2022-06-28T21:42:00.082Z"
   },
   {
    "duration": 1221,
    "start_time": "2022-06-28T21:42:11.723Z"
   },
   {
    "duration": 412,
    "start_time": "2022-06-28T21:42:12.946Z"
   },
   {
    "duration": 13,
    "start_time": "2022-06-28T21:42:13.360Z"
   },
   {
    "duration": 16,
    "start_time": "2022-06-28T21:42:13.375Z"
   },
   {
    "duration": 17,
    "start_time": "2022-06-28T21:42:13.393Z"
   },
   {
    "duration": 19,
    "start_time": "2022-06-28T21:42:13.412Z"
   },
   {
    "duration": 15,
    "start_time": "2022-06-28T21:42:13.433Z"
   },
   {
    "duration": 47,
    "start_time": "2022-06-28T21:42:13.451Z"
   },
   {
    "duration": 38,
    "start_time": "2022-06-28T21:42:13.500Z"
   },
   {
    "duration": 24,
    "start_time": "2022-06-28T21:42:13.541Z"
   },
   {
    "duration": 11,
    "start_time": "2022-06-28T21:42:13.566Z"
   },
   {
    "duration": 20,
    "start_time": "2022-06-28T21:42:13.578Z"
   },
   {
    "duration": 157,
    "start_time": "2022-06-28T21:42:13.601Z"
   },
   {
    "duration": 3,
    "start_time": "2022-06-28T21:42:13.760Z"
   },
   {
    "duration": 120,
    "start_time": "2022-06-28T21:42:13.766Z"
   },
   {
    "duration": 107,
    "start_time": "2022-06-28T21:42:13.891Z"
   },
   {
    "duration": 5,
    "start_time": "2022-06-28T21:42:14.001Z"
   },
   {
    "duration": 23,
    "start_time": "2022-06-28T21:42:14.007Z"
   },
   {
    "duration": 16,
    "start_time": "2022-06-28T21:42:14.032Z"
   },
   {
    "duration": 10,
    "start_time": "2022-06-28T21:42:14.050Z"
   },
   {
    "duration": 15,
    "start_time": "2022-06-28T21:42:14.062Z"
   },
   {
    "duration": 18,
    "start_time": "2022-06-28T21:42:14.080Z"
   },
   {
    "duration": 36,
    "start_time": "2022-06-28T21:42:14.100Z"
   },
   {
    "duration": 14,
    "start_time": "2022-06-28T21:42:14.139Z"
   },
   {
    "duration": 5,
    "start_time": "2022-06-28T21:42:14.155Z"
   },
   {
    "duration": 9,
    "start_time": "2022-06-28T21:42:14.162Z"
   },
   {
    "duration": 13,
    "start_time": "2022-06-28T21:42:14.173Z"
   },
   {
    "duration": 33,
    "start_time": "2022-06-28T21:42:14.193Z"
   },
   {
    "duration": 17,
    "start_time": "2022-06-28T21:42:14.229Z"
   },
   {
    "duration": 8,
    "start_time": "2022-06-28T21:42:14.249Z"
   },
   {
    "duration": 23,
    "start_time": "2022-06-28T21:42:14.259Z"
   },
   {
    "duration": 36,
    "start_time": "2022-06-28T21:42:14.284Z"
   },
   {
    "duration": 32,
    "start_time": "2022-06-28T21:42:14.323Z"
   },
   {
    "duration": 21,
    "start_time": "2022-06-28T21:42:14.357Z"
   },
   {
    "duration": 37,
    "start_time": "2022-06-28T21:42:14.381Z"
   },
   {
    "duration": 19,
    "start_time": "2022-06-28T21:42:14.421Z"
   },
   {
    "duration": 17936,
    "start_time": "2022-06-28T21:42:14.443Z"
   },
   {
    "duration": 17,
    "start_time": "2022-06-28T21:42:32.382Z"
   },
   {
    "duration": 26,
    "start_time": "2022-06-28T21:42:32.402Z"
   },
   {
    "duration": 187,
    "start_time": "2022-06-28T21:42:32.430Z"
   },
   {
    "duration": 10,
    "start_time": "2022-06-28T21:42:32.618Z"
   },
   {
    "duration": 19,
    "start_time": "2022-06-28T21:42:32.630Z"
   },
   {
    "duration": 11,
    "start_time": "2022-06-28T21:42:32.651Z"
   },
   {
    "duration": 20,
    "start_time": "2022-06-28T21:42:32.664Z"
   },
   {
    "duration": 7,
    "start_time": "2022-06-28T21:42:32.687Z"
   },
   {
    "duration": 23,
    "start_time": "2022-06-28T21:42:32.696Z"
   },
   {
    "duration": 163,
    "start_time": "2022-06-28T21:42:32.721Z"
   },
   {
    "duration": 170,
    "start_time": "2022-06-28T21:42:32.886Z"
   },
   {
    "duration": 21,
    "start_time": "2022-06-28T21:42:33.058Z"
   },
   {
    "duration": 174,
    "start_time": "2022-06-28T21:42:33.081Z"
   },
   {
    "duration": 243,
    "start_time": "2022-06-28T21:42:33.258Z"
   },
   {
    "duration": 43,
    "start_time": "2022-06-28T21:42:33.502Z"
   },
   {
    "duration": 261,
    "start_time": "2022-06-28T21:42:33.547Z"
   },
   {
    "duration": 4,
    "start_time": "2022-06-28T21:42:33.810Z"
   },
   {
    "duration": 192,
    "start_time": "2022-06-28T21:42:33.827Z"
   },
   {
    "duration": 22,
    "start_time": "2022-06-28T21:42:34.026Z"
   },
   {
    "duration": 7,
    "start_time": "2022-06-28T21:42:34.051Z"
   },
   {
    "duration": 13,
    "start_time": "2022-06-28T21:42:34.060Z"
   },
   {
    "duration": 164,
    "start_time": "2022-06-28T21:42:34.074Z"
   },
   {
    "duration": 13,
    "start_time": "2022-06-28T21:42:34.240Z"
   },
   {
    "duration": 1191,
    "start_time": "2022-06-28T21:42:34.255Z"
   },
   {
    "duration": 0,
    "start_time": "2022-06-28T21:42:35.448Z"
   },
   {
    "duration": 0,
    "start_time": "2022-06-28T21:42:35.450Z"
   },
   {
    "duration": 0,
    "start_time": "2022-06-28T21:42:35.451Z"
   },
   {
    "duration": 0,
    "start_time": "2022-06-28T21:42:35.453Z"
   },
   {
    "duration": 0,
    "start_time": "2022-06-28T21:42:35.454Z"
   },
   {
    "duration": 0,
    "start_time": "2022-06-28T21:42:35.455Z"
   },
   {
    "duration": 0,
    "start_time": "2022-06-28T21:42:35.457Z"
   },
   {
    "duration": 1,
    "start_time": "2022-06-28T21:42:35.458Z"
   },
   {
    "duration": 0,
    "start_time": "2022-06-28T21:42:35.460Z"
   },
   {
    "duration": 0,
    "start_time": "2022-06-28T21:42:35.463Z"
   },
   {
    "duration": 0,
    "start_time": "2022-06-28T21:42:35.465Z"
   },
   {
    "duration": 0,
    "start_time": "2022-06-28T21:42:35.466Z"
   },
   {
    "duration": 45,
    "start_time": "2022-06-28T21:43:50.525Z"
   },
   {
    "duration": 1066,
    "start_time": "2022-06-28T21:43:54.229Z"
   },
   {
    "duration": 286,
    "start_time": "2022-06-28T21:44:10.459Z"
   },
   {
    "duration": 235,
    "start_time": "2022-06-28T21:44:23.504Z"
   },
   {
    "duration": 12,
    "start_time": "2022-06-28T21:44:40.588Z"
   },
   {
    "duration": 707,
    "start_time": "2022-06-28T21:44:41.804Z"
   },
   {
    "duration": 690,
    "start_time": "2022-06-28T21:44:42.743Z"
   },
   {
    "duration": 905,
    "start_time": "2022-06-28T21:45:19.819Z"
   },
   {
    "duration": 664,
    "start_time": "2022-06-28T21:45:20.727Z"
   },
   {
    "duration": 870,
    "start_time": "2022-06-28T21:45:27.908Z"
   },
   {
    "duration": 1017,
    "start_time": "2022-06-28T21:46:17.968Z"
   },
   {
    "duration": 4,
    "start_time": "2022-06-28T21:46:31.366Z"
   },
   {
    "duration": 888,
    "start_time": "2022-06-28T21:46:32.137Z"
   },
   {
    "duration": 87,
    "start_time": "2022-06-28T21:49:00.769Z"
   },
   {
    "duration": 6,
    "start_time": "2022-06-28T21:49:01.240Z"
   },
   {
    "duration": 223,
    "start_time": "2022-06-28T21:49:32.098Z"
   },
   {
    "duration": 223,
    "start_time": "2022-06-28T21:51:15.800Z"
   },
   {
    "duration": 241,
    "start_time": "2022-06-28T21:52:02.578Z"
   },
   {
    "duration": 238,
    "start_time": "2022-06-28T21:52:15.553Z"
   },
   {
    "duration": 1009,
    "start_time": "2022-06-28T21:56:46.479Z"
   },
   {
    "duration": 10,
    "start_time": "2022-06-28T21:57:21.571Z"
   },
   {
    "duration": 237,
    "start_time": "2022-06-28T21:57:22.107Z"
   },
   {
    "duration": 534,
    "start_time": "2022-06-28T21:57:49.114Z"
   },
   {
    "duration": 375,
    "start_time": "2022-06-28T21:58:14.396Z"
   },
   {
    "duration": 255,
    "start_time": "2022-06-28T21:58:28.524Z"
   },
   {
    "duration": 222,
    "start_time": "2022-06-28T21:58:50.136Z"
   },
   {
    "duration": 55,
    "start_time": "2022-06-28T21:58:54.371Z"
   },
   {
    "duration": 380,
    "start_time": "2022-06-28T21:59:24.440Z"
   },
   {
    "duration": 1242,
    "start_time": "2022-06-28T22:05:22.690Z"
   },
   {
    "duration": 486,
    "start_time": "2022-06-28T22:05:23.934Z"
   },
   {
    "duration": 16,
    "start_time": "2022-06-28T22:05:24.422Z"
   },
   {
    "duration": 20,
    "start_time": "2022-06-28T22:05:24.441Z"
   },
   {
    "duration": 16,
    "start_time": "2022-06-28T22:05:24.462Z"
   },
   {
    "duration": 20,
    "start_time": "2022-06-28T22:05:24.480Z"
   },
   {
    "duration": 32,
    "start_time": "2022-06-28T22:05:24.502Z"
   },
   {
    "duration": 48,
    "start_time": "2022-06-28T22:05:24.536Z"
   },
   {
    "duration": 27,
    "start_time": "2022-06-28T22:05:24.587Z"
   },
   {
    "duration": 31,
    "start_time": "2022-06-28T22:05:24.625Z"
   },
   {
    "duration": 15,
    "start_time": "2022-06-28T22:05:24.658Z"
   },
   {
    "duration": 41,
    "start_time": "2022-06-28T22:05:24.675Z"
   },
   {
    "duration": 207,
    "start_time": "2022-06-28T22:05:24.719Z"
   },
   {
    "duration": 5,
    "start_time": "2022-06-28T22:05:24.928Z"
   },
   {
    "duration": 91,
    "start_time": "2022-06-28T22:05:24.935Z"
   },
   {
    "duration": 79,
    "start_time": "2022-06-28T22:05:25.028Z"
   },
   {
    "duration": 3,
    "start_time": "2022-06-28T22:05:25.109Z"
   },
   {
    "duration": 21,
    "start_time": "2022-06-28T22:05:25.113Z"
   },
   {
    "duration": 12,
    "start_time": "2022-06-28T22:05:25.135Z"
   },
   {
    "duration": 9,
    "start_time": "2022-06-28T22:05:25.149Z"
   },
   {
    "duration": 8,
    "start_time": "2022-06-28T22:05:25.160Z"
   },
   {
    "duration": 19,
    "start_time": "2022-06-28T22:05:25.170Z"
   },
   {
    "duration": 17,
    "start_time": "2022-06-28T22:05:25.191Z"
   },
   {
    "duration": 11,
    "start_time": "2022-06-28T22:05:25.225Z"
   },
   {
    "duration": 12,
    "start_time": "2022-06-28T22:05:25.239Z"
   },
   {
    "duration": 11,
    "start_time": "2022-06-28T22:05:25.253Z"
   },
   {
    "duration": 11,
    "start_time": "2022-06-28T22:05:25.267Z"
   },
   {
    "duration": 6,
    "start_time": "2022-06-28T22:05:25.285Z"
   },
   {
    "duration": 21,
    "start_time": "2022-06-28T22:05:25.294Z"
   },
   {
    "duration": 10,
    "start_time": "2022-06-28T22:05:25.317Z"
   },
   {
    "duration": 10,
    "start_time": "2022-06-28T22:05:25.329Z"
   },
   {
    "duration": 18,
    "start_time": "2022-06-28T22:05:25.341Z"
   },
   {
    "duration": 18,
    "start_time": "2022-06-28T22:05:25.361Z"
   },
   {
    "duration": 17,
    "start_time": "2022-06-28T22:05:25.381Z"
   },
   {
    "duration": 28,
    "start_time": "2022-06-28T22:05:25.400Z"
   },
   {
    "duration": 13,
    "start_time": "2022-06-28T22:05:25.430Z"
   },
   {
    "duration": 17930,
    "start_time": "2022-06-28T22:05:25.445Z"
   },
   {
    "duration": 13,
    "start_time": "2022-06-28T22:05:43.377Z"
   },
   {
    "duration": 7,
    "start_time": "2022-06-28T22:05:43.392Z"
   },
   {
    "duration": 203,
    "start_time": "2022-06-28T22:05:43.400Z"
   },
   {
    "duration": 9,
    "start_time": "2022-06-28T22:05:43.605Z"
   },
   {
    "duration": 9,
    "start_time": "2022-06-28T22:05:43.626Z"
   },
   {
    "duration": 23,
    "start_time": "2022-06-28T22:05:43.637Z"
   },
   {
    "duration": 22,
    "start_time": "2022-06-28T22:05:43.662Z"
   },
   {
    "duration": 7,
    "start_time": "2022-06-28T22:05:43.685Z"
   },
   {
    "duration": 16,
    "start_time": "2022-06-28T22:05:43.693Z"
   },
   {
    "duration": 179,
    "start_time": "2022-06-28T22:05:43.710Z"
   },
   {
    "duration": 159,
    "start_time": "2022-06-28T22:05:43.891Z"
   },
   {
    "duration": 26,
    "start_time": "2022-06-28T22:05:44.053Z"
   },
   {
    "duration": 169,
    "start_time": "2022-06-28T22:05:44.082Z"
   },
   {
    "duration": 351,
    "start_time": "2022-06-28T22:05:44.253Z"
   },
   {
    "duration": 49,
    "start_time": "2022-06-28T22:05:44.606Z"
   },
   {
    "duration": 266,
    "start_time": "2022-06-28T22:05:44.661Z"
   },
   {
    "duration": 6,
    "start_time": "2022-06-28T22:05:44.929Z"
   },
   {
    "duration": 221,
    "start_time": "2022-06-28T22:05:44.937Z"
   },
   {
    "duration": 124,
    "start_time": "2022-06-28T22:05:45.161Z"
   },
   {
    "duration": 4,
    "start_time": "2022-06-28T22:05:45.287Z"
   },
   {
    "duration": 11,
    "start_time": "2022-06-28T22:05:45.293Z"
   },
   {
    "duration": 157,
    "start_time": "2022-06-28T22:05:45.325Z"
   },
   {
    "duration": 10,
    "start_time": "2022-06-28T22:05:45.483Z"
   },
   {
    "duration": 232,
    "start_time": "2022-06-28T22:05:45.494Z"
   },
   {
    "duration": 272,
    "start_time": "2022-06-28T22:05:45.728Z"
   },
   {
    "duration": 565,
    "start_time": "2022-06-28T22:05:46.003Z"
   },
   {
    "duration": 619,
    "start_time": "2022-06-28T22:05:46.570Z"
   },
   {
    "duration": 43,
    "start_time": "2022-06-28T22:05:47.191Z"
   },
   {
    "duration": 25,
    "start_time": "2022-06-28T22:05:47.236Z"
   },
   {
    "duration": 7,
    "start_time": "2022-06-28T22:05:47.263Z"
   },
   {
    "duration": 200,
    "start_time": "2022-06-28T22:05:47.273Z"
   },
   {
    "duration": 30,
    "start_time": "2022-06-28T22:05:47.476Z"
   },
   {
    "duration": 15,
    "start_time": "2022-06-28T22:05:47.509Z"
   },
   {
    "duration": 11,
    "start_time": "2022-06-28T22:05:47.527Z"
   },
   {
    "duration": 13,
    "start_time": "2022-06-28T22:05:47.540Z"
   },
   {
    "duration": 5,
    "start_time": "2022-06-28T22:05:47.556Z"
   },
   {
    "duration": 16,
    "start_time": "2022-06-28T22:10:38.472Z"
   },
   {
    "duration": 15,
    "start_time": "2022-06-28T22:10:46.840Z"
   },
   {
    "duration": 18,
    "start_time": "2022-06-28T22:13:02.513Z"
   },
   {
    "duration": 13,
    "start_time": "2022-06-28T22:13:35.776Z"
   },
   {
    "duration": 10,
    "start_time": "2022-06-28T22:14:42.121Z"
   },
   {
    "duration": 10,
    "start_time": "2022-06-28T22:15:09.913Z"
   },
   {
    "duration": 238,
    "start_time": "2022-06-28T22:17:44.914Z"
   },
   {
    "duration": 244,
    "start_time": "2022-06-28T22:18:02.391Z"
   },
   {
    "duration": 229,
    "start_time": "2022-06-28T22:18:55.453Z"
   },
   {
    "duration": 1150,
    "start_time": "2022-06-28T22:20:21.284Z"
   },
   {
    "duration": 413,
    "start_time": "2022-06-28T22:20:22.436Z"
   },
   {
    "duration": 13,
    "start_time": "2022-06-28T22:20:22.851Z"
   },
   {
    "duration": 9,
    "start_time": "2022-06-28T22:20:22.866Z"
   },
   {
    "duration": 10,
    "start_time": "2022-06-28T22:20:22.877Z"
   },
   {
    "duration": 11,
    "start_time": "2022-06-28T22:20:22.889Z"
   },
   {
    "duration": 13,
    "start_time": "2022-06-28T22:20:22.901Z"
   },
   {
    "duration": 26,
    "start_time": "2022-06-28T22:20:22.927Z"
   },
   {
    "duration": 27,
    "start_time": "2022-06-28T22:20:22.955Z"
   },
   {
    "duration": 62,
    "start_time": "2022-06-28T22:20:22.986Z"
   },
   {
    "duration": 14,
    "start_time": "2022-06-28T22:20:23.051Z"
   },
   {
    "duration": 17,
    "start_time": "2022-06-28T22:20:23.066Z"
   },
   {
    "duration": 150,
    "start_time": "2022-06-28T22:20:23.085Z"
   },
   {
    "duration": 4,
    "start_time": "2022-06-28T22:20:23.237Z"
   },
   {
    "duration": 94,
    "start_time": "2022-06-28T22:20:23.243Z"
   },
   {
    "duration": 73,
    "start_time": "2022-06-28T22:20:23.339Z"
   },
   {
    "duration": 3,
    "start_time": "2022-06-28T22:20:23.414Z"
   },
   {
    "duration": 16,
    "start_time": "2022-06-28T22:20:23.419Z"
   },
   {
    "duration": 15,
    "start_time": "2022-06-28T22:20:23.437Z"
   },
   {
    "duration": 6,
    "start_time": "2022-06-28T22:20:23.454Z"
   },
   {
    "duration": 6,
    "start_time": "2022-06-28T22:20:23.462Z"
   },
   {
    "duration": 11,
    "start_time": "2022-06-28T22:20:23.470Z"
   },
   {
    "duration": 16,
    "start_time": "2022-06-28T22:20:23.484Z"
   },
   {
    "duration": 30,
    "start_time": "2022-06-28T22:20:23.502Z"
   },
   {
    "duration": 7,
    "start_time": "2022-06-28T22:20:23.535Z"
   },
   {
    "duration": 11,
    "start_time": "2022-06-28T22:20:23.544Z"
   },
   {
    "duration": 15,
    "start_time": "2022-06-28T22:20:23.557Z"
   },
   {
    "duration": 6,
    "start_time": "2022-06-28T22:20:23.577Z"
   },
   {
    "duration": 14,
    "start_time": "2022-06-28T22:20:23.585Z"
   },
   {
    "duration": 7,
    "start_time": "2022-06-28T22:20:23.600Z"
   },
   {
    "duration": 5,
    "start_time": "2022-06-28T22:20:23.625Z"
   },
   {
    "duration": 20,
    "start_time": "2022-06-28T22:20:23.633Z"
   },
   {
    "duration": 8,
    "start_time": "2022-06-28T22:20:23.656Z"
   },
   {
    "duration": 13,
    "start_time": "2022-06-28T22:20:23.666Z"
   },
   {
    "duration": 26,
    "start_time": "2022-06-28T22:20:23.681Z"
   },
   {
    "duration": 27,
    "start_time": "2022-06-28T22:20:23.710Z"
   },
   {
    "duration": 18062,
    "start_time": "2022-06-28T22:20:23.739Z"
   },
   {
    "duration": 30,
    "start_time": "2022-06-28T22:20:41.804Z"
   },
   {
    "duration": 11,
    "start_time": "2022-06-28T22:20:41.836Z"
   },
   {
    "duration": 213,
    "start_time": "2022-06-28T22:20:41.850Z"
   },
   {
    "duration": 11,
    "start_time": "2022-06-28T22:20:42.064Z"
   },
   {
    "duration": 6,
    "start_time": "2022-06-28T22:20:42.077Z"
   },
   {
    "duration": 8,
    "start_time": "2022-06-28T22:20:42.085Z"
   },
   {
    "duration": 45,
    "start_time": "2022-06-28T22:20:42.095Z"
   },
   {
    "duration": 5,
    "start_time": "2022-06-28T22:20:42.142Z"
   },
   {
    "duration": 9,
    "start_time": "2022-06-28T22:20:42.150Z"
   },
   {
    "duration": 199,
    "start_time": "2022-06-28T22:20:42.161Z"
   },
   {
    "duration": 158,
    "start_time": "2022-06-28T22:20:42.361Z"
   },
   {
    "duration": 17,
    "start_time": "2022-06-28T22:20:42.525Z"
   },
   {
    "duration": 170,
    "start_time": "2022-06-28T22:20:42.544Z"
   },
   {
    "duration": 273,
    "start_time": "2022-06-28T22:20:42.717Z"
   },
   {
    "duration": 49,
    "start_time": "2022-06-28T22:20:42.993Z"
   },
   {
    "duration": 267,
    "start_time": "2022-06-28T22:20:43.044Z"
   },
   {
    "duration": 5,
    "start_time": "2022-06-28T22:20:43.312Z"
   },
   {
    "duration": 190,
    "start_time": "2022-06-28T22:20:43.319Z"
   },
   {
    "duration": 124,
    "start_time": "2022-06-28T22:20:43.511Z"
   },
   {
    "duration": 17,
    "start_time": "2022-06-28T22:20:43.636Z"
   },
   {
    "duration": 9,
    "start_time": "2022-06-28T22:20:43.655Z"
   },
   {
    "duration": 147,
    "start_time": "2022-06-28T22:20:43.666Z"
   },
   {
    "duration": 18,
    "start_time": "2022-06-28T22:20:43.815Z"
   },
   {
    "duration": 13,
    "start_time": "2022-06-28T22:20:43.835Z"
   },
   {
    "duration": 233,
    "start_time": "2022-06-28T22:20:43.850Z"
   },
   {
    "duration": 244,
    "start_time": "2022-06-28T22:20:44.085Z"
   },
   {
    "duration": 682,
    "start_time": "2022-06-28T22:20:44.331Z"
   },
   {
    "duration": 581,
    "start_time": "2022-06-28T22:20:45.015Z"
   },
   {
    "duration": 34,
    "start_time": "2022-06-28T22:20:45.598Z"
   },
   {
    "duration": 25,
    "start_time": "2022-06-28T22:20:45.635Z"
   },
   {
    "duration": 7,
    "start_time": "2022-06-28T22:20:45.661Z"
   },
   {
    "duration": 183,
    "start_time": "2022-06-28T22:20:45.670Z"
   },
   {
    "duration": 21,
    "start_time": "2022-06-28T22:20:45.855Z"
   },
   {
    "duration": 14,
    "start_time": "2022-06-28T22:20:45.878Z"
   },
   {
    "duration": 11,
    "start_time": "2022-06-28T22:20:45.894Z"
   },
   {
    "duration": 23,
    "start_time": "2022-06-28T22:20:45.907Z"
   },
   {
    "duration": 7,
    "start_time": "2022-06-28T22:20:45.932Z"
   },
   {
    "duration": 1191,
    "start_time": "2022-06-29T09:19:35.916Z"
   },
   {
    "duration": 1278,
    "start_time": "2022-06-29T09:19:37.109Z"
   },
   {
    "duration": 12,
    "start_time": "2022-06-29T09:19:38.388Z"
   },
   {
    "duration": 7,
    "start_time": "2022-06-29T09:19:38.402Z"
   },
   {
    "duration": 8,
    "start_time": "2022-06-29T09:19:38.411Z"
   },
   {
    "duration": 9,
    "start_time": "2022-06-29T09:19:38.420Z"
   },
   {
    "duration": 11,
    "start_time": "2022-06-29T09:19:38.431Z"
   },
   {
    "duration": 23,
    "start_time": "2022-06-29T09:19:38.443Z"
   },
   {
    "duration": 19,
    "start_time": "2022-06-29T09:19:38.468Z"
   },
   {
    "duration": 37,
    "start_time": "2022-06-29T09:19:38.490Z"
   },
   {
    "duration": 11,
    "start_time": "2022-06-29T09:19:38.529Z"
   },
   {
    "duration": 12,
    "start_time": "2022-06-29T09:19:38.541Z"
   },
   {
    "duration": 142,
    "start_time": "2022-06-29T09:19:38.555Z"
   },
   {
    "duration": 3,
    "start_time": "2022-06-29T09:19:38.699Z"
   },
   {
    "duration": 106,
    "start_time": "2022-06-29T09:19:38.704Z"
   },
   {
    "duration": 81,
    "start_time": "2022-06-29T09:19:38.812Z"
   },
   {
    "duration": 2,
    "start_time": "2022-06-29T09:19:38.895Z"
   },
   {
    "duration": 10,
    "start_time": "2022-06-29T09:19:38.899Z"
   },
   {
    "duration": 18,
    "start_time": "2022-06-29T09:19:38.911Z"
   },
   {
    "duration": 10,
    "start_time": "2022-06-29T09:19:38.931Z"
   },
   {
    "duration": 9,
    "start_time": "2022-06-29T09:19:38.942Z"
   },
   {
    "duration": 17,
    "start_time": "2022-06-29T09:19:38.952Z"
   },
   {
    "duration": 24,
    "start_time": "2022-06-29T09:19:38.970Z"
   },
   {
    "duration": 11,
    "start_time": "2022-06-29T09:19:38.996Z"
   },
   {
    "duration": 12,
    "start_time": "2022-06-29T09:19:39.008Z"
   },
   {
    "duration": 16,
    "start_time": "2022-06-29T09:19:39.021Z"
   },
   {
    "duration": 9,
    "start_time": "2022-06-29T09:19:39.038Z"
   },
   {
    "duration": 10,
    "start_time": "2022-06-29T09:19:39.051Z"
   },
   {
    "duration": 7,
    "start_time": "2022-06-29T09:19:39.062Z"
   },
   {
    "duration": 11,
    "start_time": "2022-06-29T09:19:39.071Z"
   },
   {
    "duration": 13,
    "start_time": "2022-06-29T09:19:39.083Z"
   },
   {
    "duration": 10,
    "start_time": "2022-06-29T09:19:39.099Z"
   },
   {
    "duration": 12,
    "start_time": "2022-06-29T09:19:39.111Z"
   },
   {
    "duration": 11,
    "start_time": "2022-06-29T09:19:39.124Z"
   },
   {
    "duration": 20,
    "start_time": "2022-06-29T09:19:39.136Z"
   },
   {
    "duration": 12,
    "start_time": "2022-06-29T09:19:39.157Z"
   },
   {
    "duration": 17310,
    "start_time": "2022-06-29T09:19:39.171Z"
   },
   {
    "duration": 12,
    "start_time": "2022-06-29T09:19:56.483Z"
   },
   {
    "duration": 199,
    "start_time": "2022-06-29T09:19:56.497Z"
   },
   {
    "duration": 12,
    "start_time": "2022-06-29T09:19:56.698Z"
   },
   {
    "duration": 18,
    "start_time": "2022-06-29T09:19:56.712Z"
   },
   {
    "duration": 22,
    "start_time": "2022-06-29T09:19:56.732Z"
   },
   {
    "duration": 39,
    "start_time": "2022-06-29T09:19:56.756Z"
   },
   {
    "duration": 30,
    "start_time": "2022-06-29T09:19:56.797Z"
   },
   {
    "duration": 14,
    "start_time": "2022-06-29T09:19:56.829Z"
   },
   {
    "duration": 214,
    "start_time": "2022-06-29T09:19:56.845Z"
   },
   {
    "duration": 180,
    "start_time": "2022-06-29T09:19:57.061Z"
   },
   {
    "duration": 19,
    "start_time": "2022-06-29T09:19:57.243Z"
   },
   {
    "duration": 193,
    "start_time": "2022-06-29T09:19:57.264Z"
   },
   {
    "duration": 259,
    "start_time": "2022-06-29T09:19:57.459Z"
   },
   {
    "duration": 32,
    "start_time": "2022-06-29T09:19:57.720Z"
   },
   {
    "duration": 257,
    "start_time": "2022-06-29T09:19:57.754Z"
   },
   {
    "duration": 4,
    "start_time": "2022-06-29T09:19:58.013Z"
   },
   {
    "duration": 166,
    "start_time": "2022-06-29T09:19:58.026Z"
   },
   {
    "duration": 143,
    "start_time": "2022-06-29T09:19:58.194Z"
   },
   {
    "duration": 5,
    "start_time": "2022-06-29T09:19:58.339Z"
   },
   {
    "duration": 49,
    "start_time": "2022-06-29T09:19:58.346Z"
   },
   {
    "duration": 189,
    "start_time": "2022-06-29T09:19:58.397Z"
   },
   {
    "duration": 10,
    "start_time": "2022-06-29T09:19:58.588Z"
   },
   {
    "duration": 15,
    "start_time": "2022-06-29T09:19:58.599Z"
   },
   {
    "duration": 292,
    "start_time": "2022-06-29T09:19:58.615Z"
   },
   {
    "duration": 310,
    "start_time": "2022-06-29T09:19:58.908Z"
   },
   {
    "duration": 603,
    "start_time": "2022-06-29T09:19:59.220Z"
   },
   {
    "duration": 545,
    "start_time": "2022-06-29T09:19:59.826Z"
   },
   {
    "duration": 24,
    "start_time": "2022-06-29T09:20:00.373Z"
   },
   {
    "duration": 52,
    "start_time": "2022-06-29T09:20:00.398Z"
   },
   {
    "duration": 19,
    "start_time": "2022-06-29T09:20:00.452Z"
   },
   {
    "duration": 127,
    "start_time": "2022-06-29T09:20:00.473Z"
   },
   {
    "duration": 81,
    "start_time": "2022-06-29T09:20:00.602Z"
   },
   {
    "duration": 57,
    "start_time": "2022-06-29T09:20:00.685Z"
   },
   {
    "duration": 62,
    "start_time": "2022-06-29T09:20:00.744Z"
   },
   {
    "duration": 60,
    "start_time": "2022-06-29T09:20:00.808Z"
   },
   {
    "duration": 58,
    "start_time": "2022-06-29T09:20:00.870Z"
   },
   {
    "duration": 4,
    "start_time": "2022-06-29T09:20:19.487Z"
   },
   {
    "duration": 5,
    "start_time": "2022-06-29T09:20:24.490Z"
   },
   {
    "duration": 4,
    "start_time": "2022-06-29T09:20:33.670Z"
   },
   {
    "duration": 4,
    "start_time": "2022-06-29T09:26:39.932Z"
   },
   {
    "duration": 5,
    "start_time": "2022-06-29T09:26:58.692Z"
   },
   {
    "duration": 14,
    "start_time": "2022-06-29T09:27:14.534Z"
   },
   {
    "duration": 12,
    "start_time": "2022-06-29T09:27:38.031Z"
   },
   {
    "duration": 134,
    "start_time": "2022-06-29T09:30:46.034Z"
   },
   {
    "duration": 12,
    "start_time": "2022-06-29T09:31:01.901Z"
   },
   {
    "duration": 66,
    "start_time": "2022-06-29T09:38:26.372Z"
   },
   {
    "duration": 31,
    "start_time": "2022-06-29T09:38:33.820Z"
   },
   {
    "duration": 30,
    "start_time": "2022-06-29T09:38:46.319Z"
   },
   {
    "duration": 39,
    "start_time": "2022-06-29T09:39:01.695Z"
   },
   {
    "duration": 25,
    "start_time": "2022-06-29T09:39:18.246Z"
   },
   {
    "duration": 24,
    "start_time": "2022-06-29T09:39:20.447Z"
   },
   {
    "duration": 23,
    "start_time": "2022-06-29T09:39:43.424Z"
   },
   {
    "duration": 4,
    "start_time": "2022-06-29T09:42:14.708Z"
   },
   {
    "duration": 6,
    "start_time": "2022-06-29T09:42:22.437Z"
   },
   {
    "duration": 22,
    "start_time": "2022-06-29T09:46:29.103Z"
   },
   {
    "duration": 54,
    "start_time": "2022-06-29T09:49:18.284Z"
   },
   {
    "duration": 2,
    "start_time": "2022-06-29T09:49:22.148Z"
   },
   {
    "duration": 3,
    "start_time": "2022-06-29T09:49:30.317Z"
   },
   {
    "duration": 5,
    "start_time": "2022-06-29T09:49:31.348Z"
   },
   {
    "duration": 106,
    "start_time": "2022-06-29T09:49:34.700Z"
   },
   {
    "duration": 5,
    "start_time": "2022-06-29T09:49:52.222Z"
   },
   {
    "duration": 15,
    "start_time": "2022-06-29T09:49:56.174Z"
   },
   {
    "duration": 4,
    "start_time": "2022-06-29T09:51:13.768Z"
   },
   {
    "duration": 1135,
    "start_time": "2022-06-29T09:51:19.677Z"
   },
   {
    "duration": 423,
    "start_time": "2022-06-29T09:51:20.814Z"
   },
   {
    "duration": 12,
    "start_time": "2022-06-29T09:51:21.239Z"
   },
   {
    "duration": 8,
    "start_time": "2022-06-29T09:51:21.253Z"
   },
   {
    "duration": 9,
    "start_time": "2022-06-29T09:51:21.262Z"
   },
   {
    "duration": 11,
    "start_time": "2022-06-29T09:51:21.272Z"
   },
   {
    "duration": 10,
    "start_time": "2022-06-29T09:51:21.284Z"
   },
   {
    "duration": 49,
    "start_time": "2022-06-29T09:51:21.296Z"
   },
   {
    "duration": 20,
    "start_time": "2022-06-29T09:51:21.347Z"
   },
   {
    "duration": 17,
    "start_time": "2022-06-29T09:51:21.370Z"
   },
   {
    "duration": 11,
    "start_time": "2022-06-29T09:51:21.388Z"
   },
   {
    "duration": 34,
    "start_time": "2022-06-29T09:51:21.401Z"
   },
   {
    "duration": 136,
    "start_time": "2022-06-29T09:51:21.436Z"
   },
   {
    "duration": 3,
    "start_time": "2022-06-29T09:51:21.574Z"
   },
   {
    "duration": 89,
    "start_time": "2022-06-29T09:51:21.578Z"
   },
   {
    "duration": 74,
    "start_time": "2022-06-29T09:51:21.668Z"
   },
   {
    "duration": 3,
    "start_time": "2022-06-29T09:51:21.743Z"
   },
   {
    "duration": 9,
    "start_time": "2022-06-29T09:51:21.748Z"
   },
   {
    "duration": 10,
    "start_time": "2022-06-29T09:51:21.759Z"
   },
   {
    "duration": 8,
    "start_time": "2022-06-29T09:51:21.770Z"
   },
   {
    "duration": 10,
    "start_time": "2022-06-29T09:51:21.779Z"
   },
   {
    "duration": 11,
    "start_time": "2022-06-29T09:51:21.790Z"
   },
   {
    "duration": 34,
    "start_time": "2022-06-29T09:51:21.802Z"
   },
   {
    "duration": 10,
    "start_time": "2022-06-29T09:51:21.837Z"
   },
   {
    "duration": 5,
    "start_time": "2022-06-29T09:51:21.849Z"
   },
   {
    "duration": 6,
    "start_time": "2022-06-29T09:51:21.856Z"
   },
   {
    "duration": 6,
    "start_time": "2022-06-29T09:51:21.864Z"
   },
   {
    "duration": 5,
    "start_time": "2022-06-29T09:51:21.875Z"
   },
   {
    "duration": 7,
    "start_time": "2022-06-29T09:51:21.881Z"
   },
   {
    "duration": 7,
    "start_time": "2022-06-29T09:51:21.889Z"
   },
   {
    "duration": 28,
    "start_time": "2022-06-29T09:51:21.897Z"
   },
   {
    "duration": 9,
    "start_time": "2022-06-29T09:51:21.927Z"
   },
   {
    "duration": 6,
    "start_time": "2022-06-29T09:51:21.937Z"
   },
   {
    "duration": 10,
    "start_time": "2022-06-29T09:51:21.945Z"
   },
   {
    "duration": 11,
    "start_time": "2022-06-29T09:51:21.957Z"
   },
   {
    "duration": 12,
    "start_time": "2022-06-29T09:51:21.970Z"
   },
   {
    "duration": 12,
    "start_time": "2022-06-29T09:51:21.984Z"
   },
   {
    "duration": 17683,
    "start_time": "2022-06-29T09:51:21.998Z"
   },
   {
    "duration": 4,
    "start_time": "2022-06-29T09:51:39.683Z"
   },
   {
    "duration": 22,
    "start_time": "2022-06-29T09:51:39.688Z"
   },
   {
    "duration": 20,
    "start_time": "2022-06-29T09:51:39.711Z"
   },
   {
    "duration": 18,
    "start_time": "2022-06-29T09:51:39.733Z"
   },
   {
    "duration": 179,
    "start_time": "2022-06-29T09:51:39.753Z"
   },
   {
    "duration": 8,
    "start_time": "2022-06-29T09:51:39.934Z"
   },
   {
    "duration": 15,
    "start_time": "2022-06-29T09:51:39.943Z"
   },
   {
    "duration": 4,
    "start_time": "2022-06-29T09:51:39.960Z"
   },
   {
    "duration": 15,
    "start_time": "2022-06-29T09:51:39.965Z"
   },
   {
    "duration": 4,
    "start_time": "2022-06-29T09:51:39.982Z"
   },
   {
    "duration": 6,
    "start_time": "2022-06-29T09:51:39.987Z"
   },
   {
    "duration": 177,
    "start_time": "2022-06-29T09:51:39.995Z"
   },
   {
    "duration": 160,
    "start_time": "2022-06-29T09:51:40.174Z"
   },
   {
    "duration": 22,
    "start_time": "2022-06-29T09:51:40.336Z"
   },
   {
    "duration": 232,
    "start_time": "2022-06-29T09:51:40.360Z"
   },
   {
    "duration": 146,
    "start_time": "2022-06-29T09:51:40.594Z"
   },
   {
    "duration": 33,
    "start_time": "2022-06-29T09:51:40.742Z"
   },
   {
    "duration": 259,
    "start_time": "2022-06-29T09:51:40.778Z"
   },
   {
    "duration": 5,
    "start_time": "2022-06-29T09:51:41.040Z"
   },
   {
    "duration": 168,
    "start_time": "2022-06-29T09:51:41.047Z"
   },
   {
    "duration": 131,
    "start_time": "2022-06-29T09:51:41.216Z"
   },
   {
    "duration": 56,
    "start_time": "2022-06-29T09:51:41.349Z"
   },
   {
    "duration": 29,
    "start_time": "2022-06-29T09:51:41.407Z"
   },
   {
    "duration": 179,
    "start_time": "2022-06-29T09:51:41.437Z"
   },
   {
    "duration": 13,
    "start_time": "2022-06-29T09:51:41.618Z"
   },
   {
    "duration": 30,
    "start_time": "2022-06-29T09:51:41.633Z"
   },
   {
    "duration": 242,
    "start_time": "2022-06-29T09:51:41.665Z"
   },
   {
    "duration": 248,
    "start_time": "2022-06-29T09:51:41.909Z"
   },
   {
    "duration": 561,
    "start_time": "2022-06-29T09:51:42.158Z"
   },
   {
    "duration": 618,
    "start_time": "2022-06-29T09:51:42.721Z"
   },
   {
    "duration": 24,
    "start_time": "2022-06-29T09:51:43.340Z"
   },
   {
    "duration": 23,
    "start_time": "2022-06-29T09:51:43.366Z"
   },
   {
    "duration": 6,
    "start_time": "2022-06-29T09:51:43.391Z"
   },
   {
    "duration": 38,
    "start_time": "2022-06-29T09:51:43.399Z"
   },
   {
    "duration": 44,
    "start_time": "2022-06-29T09:51:43.439Z"
   },
   {
    "duration": 22,
    "start_time": "2022-06-29T09:51:43.485Z"
   },
   {
    "duration": 74,
    "start_time": "2022-06-29T09:51:43.509Z"
   },
   {
    "duration": 27,
    "start_time": "2022-06-29T09:51:43.585Z"
   },
   {
    "duration": 15,
    "start_time": "2022-06-29T09:51:43.614Z"
   },
   {
    "duration": 21,
    "start_time": "2022-06-29T09:51:43.631Z"
   },
   {
    "duration": 37,
    "start_time": "2022-06-29T09:51:43.654Z"
   },
   {
    "duration": 26,
    "start_time": "2022-06-29T09:51:43.692Z"
   },
   {
    "duration": 20,
    "start_time": "2022-06-29T09:51:43.720Z"
   },
   {
    "duration": 14,
    "start_time": "2022-06-29T09:51:43.746Z"
   },
   {
    "duration": 120,
    "start_time": "2022-06-29T09:51:43.762Z"
   },
   {
    "duration": 0,
    "start_time": "2022-06-29T09:51:43.884Z"
   },
   {
    "duration": 0,
    "start_time": "2022-06-29T09:51:43.885Z"
   },
   {
    "duration": 1,
    "start_time": "2022-06-29T09:51:43.886Z"
   },
   {
    "duration": 0,
    "start_time": "2022-06-29T09:51:43.888Z"
   },
   {
    "duration": 0,
    "start_time": "2022-06-29T09:51:43.889Z"
   },
   {
    "duration": 0,
    "start_time": "2022-06-29T09:51:43.890Z"
   },
   {
    "duration": 1711,
    "start_time": "2022-06-29T09:52:11.768Z"
   },
   {
    "duration": 20,
    "start_time": "2022-06-29T09:52:17.448Z"
   },
   {
    "duration": 4,
    "start_time": "2022-06-29T09:52:31.008Z"
   },
   {
    "duration": 5,
    "start_time": "2022-06-29T09:52:31.864Z"
   },
   {
    "duration": 1913,
    "start_time": "2022-06-29T09:52:43.584Z"
   },
   {
    "duration": 13,
    "start_time": "2022-06-29T09:53:11.202Z"
   },
   {
    "duration": 1232,
    "start_time": "2022-06-29T09:54:08.580Z"
   },
   {
    "duration": 445,
    "start_time": "2022-06-29T09:54:09.814Z"
   },
   {
    "duration": 15,
    "start_time": "2022-06-29T09:54:10.261Z"
   },
   {
    "duration": 15,
    "start_time": "2022-06-29T09:54:10.278Z"
   },
   {
    "duration": 11,
    "start_time": "2022-06-29T09:54:10.296Z"
   },
   {
    "duration": 24,
    "start_time": "2022-06-29T09:54:10.309Z"
   },
   {
    "duration": 24,
    "start_time": "2022-06-29T09:54:10.335Z"
   },
   {
    "duration": 44,
    "start_time": "2022-06-29T09:54:10.362Z"
   },
   {
    "duration": 20,
    "start_time": "2022-06-29T09:54:10.408Z"
   },
   {
    "duration": 22,
    "start_time": "2022-06-29T09:54:10.430Z"
   },
   {
    "duration": 16,
    "start_time": "2022-06-29T09:54:10.454Z"
   },
   {
    "duration": 26,
    "start_time": "2022-06-29T09:54:10.472Z"
   },
   {
    "duration": 136,
    "start_time": "2022-06-29T09:54:10.499Z"
   },
   {
    "duration": 3,
    "start_time": "2022-06-29T09:54:10.638Z"
   },
   {
    "duration": 95,
    "start_time": "2022-06-29T09:54:10.642Z"
   },
   {
    "duration": 73,
    "start_time": "2022-06-29T09:54:10.739Z"
   },
   {
    "duration": 11,
    "start_time": "2022-06-29T09:54:10.814Z"
   },
   {
    "duration": 9,
    "start_time": "2022-06-29T09:54:10.827Z"
   },
   {
    "duration": 14,
    "start_time": "2022-06-29T09:54:10.837Z"
   },
   {
    "duration": 10,
    "start_time": "2022-06-29T09:54:10.852Z"
   },
   {
    "duration": 10,
    "start_time": "2022-06-29T09:54:10.863Z"
   },
   {
    "duration": 13,
    "start_time": "2022-06-29T09:54:10.875Z"
   },
   {
    "duration": 16,
    "start_time": "2022-06-29T09:54:10.890Z"
   },
   {
    "duration": 27,
    "start_time": "2022-06-29T09:54:10.907Z"
   },
   {
    "duration": 5,
    "start_time": "2022-06-29T09:54:10.936Z"
   },
   {
    "duration": 10,
    "start_time": "2022-06-29T09:54:10.943Z"
   },
   {
    "duration": 11,
    "start_time": "2022-06-29T09:54:10.955Z"
   },
   {
    "duration": 9,
    "start_time": "2022-06-29T09:54:10.969Z"
   },
   {
    "duration": 12,
    "start_time": "2022-06-29T09:54:10.981Z"
   },
   {
    "duration": 26,
    "start_time": "2022-06-29T09:54:10.995Z"
   },
   {
    "duration": 12,
    "start_time": "2022-06-29T09:54:11.023Z"
   },
   {
    "duration": 16,
    "start_time": "2022-06-29T09:54:11.037Z"
   },
   {
    "duration": 21,
    "start_time": "2022-06-29T09:54:11.055Z"
   },
   {
    "duration": 15,
    "start_time": "2022-06-29T09:54:11.078Z"
   },
   {
    "duration": 14,
    "start_time": "2022-06-29T09:54:11.095Z"
   },
   {
    "duration": 25,
    "start_time": "2022-06-29T09:54:11.111Z"
   },
   {
    "duration": 12,
    "start_time": "2022-06-29T09:54:11.138Z"
   },
   {
    "duration": 13,
    "start_time": "2022-06-29T09:54:11.152Z"
   },
   {
    "duration": 19018,
    "start_time": "2022-06-29T09:54:11.167Z"
   },
   {
    "duration": 5,
    "start_time": "2022-06-29T09:54:30.186Z"
   },
   {
    "duration": 33,
    "start_time": "2022-06-29T09:54:30.197Z"
   },
   {
    "duration": 12,
    "start_time": "2022-06-29T09:54:30.232Z"
   },
   {
    "duration": 11,
    "start_time": "2022-06-29T09:54:30.245Z"
   },
   {
    "duration": 181,
    "start_time": "2022-06-29T09:54:30.258Z"
   },
   {
    "duration": 9,
    "start_time": "2022-06-29T09:54:30.441Z"
   },
   {
    "duration": 29,
    "start_time": "2022-06-29T09:54:30.451Z"
   },
   {
    "duration": 15,
    "start_time": "2022-06-29T09:54:30.482Z"
   },
   {
    "duration": 27,
    "start_time": "2022-06-29T09:54:30.498Z"
   },
   {
    "duration": 12,
    "start_time": "2022-06-29T09:54:30.527Z"
   },
   {
    "duration": 18,
    "start_time": "2022-06-29T09:54:30.540Z"
   },
   {
    "duration": 177,
    "start_time": "2022-06-29T09:54:30.560Z"
   },
   {
    "duration": 169,
    "start_time": "2022-06-29T09:54:30.739Z"
   },
   {
    "duration": 24,
    "start_time": "2022-06-29T09:54:30.909Z"
   },
   {
    "duration": 165,
    "start_time": "2022-06-29T09:54:30.935Z"
   },
   {
    "duration": 218,
    "start_time": "2022-06-29T09:54:31.102Z"
   },
   {
    "duration": 29,
    "start_time": "2022-06-29T09:54:31.324Z"
   },
   {
    "duration": 248,
    "start_time": "2022-06-29T09:54:31.354Z"
   },
   {
    "duration": 4,
    "start_time": "2022-06-29T09:54:31.603Z"
   },
   {
    "duration": 173,
    "start_time": "2022-06-29T09:54:31.609Z"
   },
   {
    "duration": 123,
    "start_time": "2022-06-29T09:54:31.784Z"
   },
   {
    "duration": 17,
    "start_time": "2022-06-29T09:54:31.910Z"
   },
   {
    "duration": 10,
    "start_time": "2022-06-29T09:54:31.929Z"
   },
   {
    "duration": 156,
    "start_time": "2022-06-29T09:54:31.940Z"
   },
   {
    "duration": 9,
    "start_time": "2022-06-29T09:54:32.098Z"
   },
   {
    "duration": 20,
    "start_time": "2022-06-29T09:54:32.109Z"
   },
   {
    "duration": 242,
    "start_time": "2022-06-29T09:54:32.131Z"
   },
   {
    "duration": 265,
    "start_time": "2022-06-29T09:54:32.375Z"
   },
   {
    "duration": 663,
    "start_time": "2022-06-29T09:54:32.642Z"
   },
   {
    "duration": 792,
    "start_time": "2022-06-29T09:54:33.307Z"
   },
   {
    "duration": 36,
    "start_time": "2022-06-29T09:54:34.101Z"
   },
   {
    "duration": 22,
    "start_time": "2022-06-29T09:54:34.139Z"
   },
   {
    "duration": 6,
    "start_time": "2022-06-29T09:54:34.163Z"
   },
   {
    "duration": 122,
    "start_time": "2022-06-29T09:54:34.171Z"
   },
   {
    "duration": 0,
    "start_time": "2022-06-29T09:54:34.295Z"
   },
   {
    "duration": 0,
    "start_time": "2022-06-29T09:54:34.297Z"
   },
   {
    "duration": 0,
    "start_time": "2022-06-29T09:54:34.298Z"
   },
   {
    "duration": 0,
    "start_time": "2022-06-29T09:54:34.299Z"
   },
   {
    "duration": 0,
    "start_time": "2022-06-29T09:54:34.300Z"
   },
   {
    "duration": 0,
    "start_time": "2022-06-29T09:54:34.301Z"
   },
   {
    "duration": 0,
    "start_time": "2022-06-29T09:54:34.302Z"
   },
   {
    "duration": 0,
    "start_time": "2022-06-29T09:54:34.303Z"
   },
   {
    "duration": 0,
    "start_time": "2022-06-29T09:54:34.304Z"
   },
   {
    "duration": 0,
    "start_time": "2022-06-29T09:54:34.305Z"
   },
   {
    "duration": 0,
    "start_time": "2022-06-29T09:54:34.306Z"
   },
   {
    "duration": 0,
    "start_time": "2022-06-29T09:54:34.307Z"
   },
   {
    "duration": 0,
    "start_time": "2022-06-29T09:54:34.308Z"
   },
   {
    "duration": 0,
    "start_time": "2022-06-29T09:54:34.309Z"
   },
   {
    "duration": 0,
    "start_time": "2022-06-29T09:54:34.326Z"
   },
   {
    "duration": 0,
    "start_time": "2022-06-29T09:54:34.327Z"
   },
   {
    "duration": 0,
    "start_time": "2022-06-29T09:54:34.328Z"
   },
   {
    "duration": 0,
    "start_time": "2022-06-29T09:54:34.330Z"
   },
   {
    "duration": 12,
    "start_time": "2022-06-29T09:54:38.344Z"
   },
   {
    "duration": 3,
    "start_time": "2022-06-29T09:55:07.408Z"
   },
   {
    "duration": 3,
    "start_time": "2022-06-29T09:55:08.537Z"
   },
   {
    "duration": 5,
    "start_time": "2022-06-29T09:55:10.169Z"
   },
   {
    "duration": 1710,
    "start_time": "2022-06-29T09:55:12.425Z"
   },
   {
    "duration": 269,
    "start_time": "2022-06-29T09:55:16.489Z"
   },
   {
    "duration": 171,
    "start_time": "2022-06-29T09:55:33.603Z"
   },
   {
    "duration": 183,
    "start_time": "2022-06-29T09:55:37.860Z"
   },
   {
    "duration": 20,
    "start_time": "2022-06-29T09:56:20.909Z"
   },
   {
    "duration": 14,
    "start_time": "2022-06-29T09:56:22.260Z"
   },
   {
    "duration": 1550,
    "start_time": "2022-06-29T09:56:31.679Z"
   },
   {
    "duration": 857,
    "start_time": "2022-06-29T09:56:33.231Z"
   },
   {
    "duration": 48,
    "start_time": "2022-06-29T09:56:34.090Z"
   },
   {
    "duration": 11,
    "start_time": "2022-06-29T09:56:34.141Z"
   },
   {
    "duration": 14,
    "start_time": "2022-06-29T09:56:34.154Z"
   },
   {
    "duration": 12,
    "start_time": "2022-06-29T09:56:34.225Z"
   },
   {
    "duration": 15,
    "start_time": "2022-06-29T09:56:34.238Z"
   },
   {
    "duration": 76,
    "start_time": "2022-06-29T09:56:34.255Z"
   },
   {
    "duration": 32,
    "start_time": "2022-06-29T09:56:34.334Z"
   },
   {
    "duration": 27,
    "start_time": "2022-06-29T09:56:34.426Z"
   },
   {
    "duration": 14,
    "start_time": "2022-06-29T09:56:34.456Z"
   },
   {
    "duration": 16,
    "start_time": "2022-06-29T09:56:34.472Z"
   },
   {
    "duration": 142,
    "start_time": "2022-06-29T09:56:34.526Z"
   },
   {
    "duration": 3,
    "start_time": "2022-06-29T09:56:34.670Z"
   },
   {
    "duration": 88,
    "start_time": "2022-06-29T09:56:34.675Z"
   },
   {
    "duration": 76,
    "start_time": "2022-06-29T09:56:34.766Z"
   },
   {
    "duration": 3,
    "start_time": "2022-06-29T09:56:34.844Z"
   },
   {
    "duration": 17,
    "start_time": "2022-06-29T09:56:34.849Z"
   },
   {
    "duration": 11,
    "start_time": "2022-06-29T09:56:34.868Z"
   },
   {
    "duration": 9,
    "start_time": "2022-06-29T09:56:34.881Z"
   },
   {
    "duration": 9,
    "start_time": "2022-06-29T09:56:34.892Z"
   },
   {
    "duration": 31,
    "start_time": "2022-06-29T09:56:34.903Z"
   },
   {
    "duration": 22,
    "start_time": "2022-06-29T09:56:34.936Z"
   },
   {
    "duration": 14,
    "start_time": "2022-06-29T09:56:34.960Z"
   },
   {
    "duration": 5,
    "start_time": "2022-06-29T09:56:34.977Z"
   },
   {
    "duration": 10,
    "start_time": "2022-06-29T09:56:34.984Z"
   },
   {
    "duration": 31,
    "start_time": "2022-06-29T09:56:34.996Z"
   },
   {
    "duration": 5,
    "start_time": "2022-06-29T09:56:35.032Z"
   },
   {
    "duration": 10,
    "start_time": "2022-06-29T09:56:35.039Z"
   },
   {
    "duration": 8,
    "start_time": "2022-06-29T09:56:35.051Z"
   },
   {
    "duration": 5,
    "start_time": "2022-06-29T09:56:35.061Z"
   },
   {
    "duration": 14,
    "start_time": "2022-06-29T09:56:35.068Z"
   },
   {
    "duration": 6,
    "start_time": "2022-06-29T09:56:35.084Z"
   },
   {
    "duration": 8,
    "start_time": "2022-06-29T09:56:35.092Z"
   },
   {
    "duration": 31,
    "start_time": "2022-06-29T09:56:35.102Z"
   },
   {
    "duration": 14,
    "start_time": "2022-06-29T09:56:35.135Z"
   },
   {
    "duration": 15,
    "start_time": "2022-06-29T09:56:35.151Z"
   },
   {
    "duration": 18153,
    "start_time": "2022-06-29T09:56:35.168Z"
   },
   {
    "duration": 5,
    "start_time": "2022-06-29T09:56:53.325Z"
   },
   {
    "duration": 14,
    "start_time": "2022-06-29T09:56:53.331Z"
   },
   {
    "duration": 11,
    "start_time": "2022-06-29T09:56:53.347Z"
   },
   {
    "duration": 10,
    "start_time": "2022-06-29T09:56:53.359Z"
   },
   {
    "duration": 206,
    "start_time": "2022-06-29T09:56:53.371Z"
   },
   {
    "duration": 8,
    "start_time": "2022-06-29T09:56:53.579Z"
   },
   {
    "duration": 7,
    "start_time": "2022-06-29T09:56:53.589Z"
   },
   {
    "duration": 6,
    "start_time": "2022-06-29T09:56:53.598Z"
   },
   {
    "duration": 31,
    "start_time": "2022-06-29T09:56:53.605Z"
   },
   {
    "duration": 5,
    "start_time": "2022-06-29T09:56:53.638Z"
   },
   {
    "duration": 7,
    "start_time": "2022-06-29T09:56:53.645Z"
   },
   {
    "duration": 176,
    "start_time": "2022-06-29T09:56:53.654Z"
   },
   {
    "duration": 174,
    "start_time": "2022-06-29T09:56:53.831Z"
   },
   {
    "duration": 25,
    "start_time": "2022-06-29T09:56:54.007Z"
   },
   {
    "duration": 230,
    "start_time": "2022-06-29T09:56:54.034Z"
   },
   {
    "duration": 162,
    "start_time": "2022-06-29T09:56:54.266Z"
   },
   {
    "duration": 37,
    "start_time": "2022-06-29T09:56:54.430Z"
   },
   {
    "duration": 248,
    "start_time": "2022-06-29T09:56:54.469Z"
   },
   {
    "duration": 4,
    "start_time": "2022-06-29T09:56:54.725Z"
   },
   {
    "duration": 186,
    "start_time": "2022-06-29T09:56:54.732Z"
   },
   {
    "duration": 118,
    "start_time": "2022-06-29T09:56:54.920Z"
   },
   {
    "duration": 5,
    "start_time": "2022-06-29T09:56:55.040Z"
   },
   {
    "duration": 17,
    "start_time": "2022-06-29T09:56:55.046Z"
   },
   {
    "duration": 151,
    "start_time": "2022-06-29T09:56:55.065Z"
   },
   {
    "duration": 8,
    "start_time": "2022-06-29T09:56:55.226Z"
   },
   {
    "duration": 15,
    "start_time": "2022-06-29T09:56:55.236Z"
   },
   {
    "duration": 240,
    "start_time": "2022-06-29T09:56:55.253Z"
   },
   {
    "duration": 246,
    "start_time": "2022-06-29T09:56:55.495Z"
   },
   {
    "duration": 675,
    "start_time": "2022-06-29T09:56:55.744Z"
   },
   {
    "duration": 786,
    "start_time": "2022-06-29T09:56:56.421Z"
   },
   {
    "duration": 35,
    "start_time": "2022-06-29T09:56:57.208Z"
   },
   {
    "duration": 22,
    "start_time": "2022-06-29T09:56:57.245Z"
   },
   {
    "duration": 6,
    "start_time": "2022-06-29T09:56:57.269Z"
   },
   {
    "duration": 156,
    "start_time": "2022-06-29T09:56:57.277Z"
   },
   {
    "duration": 0,
    "start_time": "2022-06-29T09:56:57.436Z"
   },
   {
    "duration": 0,
    "start_time": "2022-06-29T09:56:57.437Z"
   },
   {
    "duration": 0,
    "start_time": "2022-06-29T09:56:57.439Z"
   },
   {
    "duration": 0,
    "start_time": "2022-06-29T09:56:57.439Z"
   },
   {
    "duration": 0,
    "start_time": "2022-06-29T09:56:57.441Z"
   },
   {
    "duration": 0,
    "start_time": "2022-06-29T09:56:57.442Z"
   },
   {
    "duration": 0,
    "start_time": "2022-06-29T09:56:57.444Z"
   },
   {
    "duration": 0,
    "start_time": "2022-06-29T09:56:57.445Z"
   },
   {
    "duration": 0,
    "start_time": "2022-06-29T09:56:57.447Z"
   },
   {
    "duration": 0,
    "start_time": "2022-06-29T09:56:57.448Z"
   },
   {
    "duration": 0,
    "start_time": "2022-06-29T09:56:57.450Z"
   },
   {
    "duration": 0,
    "start_time": "2022-06-29T09:56:57.451Z"
   },
   {
    "duration": 0,
    "start_time": "2022-06-29T09:56:57.453Z"
   },
   {
    "duration": 0,
    "start_time": "2022-06-29T09:56:57.456Z"
   },
   {
    "duration": 0,
    "start_time": "2022-06-29T09:56:57.457Z"
   },
   {
    "duration": 13,
    "start_time": "2022-06-29T09:59:13.264Z"
   },
   {
    "duration": 11,
    "start_time": "2022-06-29T09:59:30.615Z"
   },
   {
    "duration": 8,
    "start_time": "2022-06-29T09:59:31.935Z"
   },
   {
    "duration": 4,
    "start_time": "2022-06-29T09:59:32.583Z"
   },
   {
    "duration": 15,
    "start_time": "2022-06-29T09:59:33.591Z"
   },
   {
    "duration": 6,
    "start_time": "2022-06-29T09:59:33.838Z"
   },
   {
    "duration": 6,
    "start_time": "2022-06-29T09:59:34.327Z"
   },
   {
    "duration": 168,
    "start_time": "2022-06-29T09:59:34.607Z"
   },
   {
    "duration": 157,
    "start_time": "2022-06-29T09:59:34.864Z"
   },
   {
    "duration": 17,
    "start_time": "2022-06-29T09:59:35.942Z"
   },
   {
    "duration": 150,
    "start_time": "2022-06-29T09:59:36.247Z"
   },
   {
    "duration": 191,
    "start_time": "2022-06-29T09:59:36.543Z"
   },
   {
    "duration": 43,
    "start_time": "2022-06-29T09:59:37.398Z"
   },
   {
    "duration": 248,
    "start_time": "2022-06-29T09:59:37.912Z"
   },
   {
    "duration": 4,
    "start_time": "2022-06-29T09:59:39.103Z"
   },
   {
    "duration": 157,
    "start_time": "2022-06-29T09:59:39.391Z"
   },
   {
    "duration": 112,
    "start_time": "2022-06-29T09:59:40.430Z"
   },
   {
    "duration": 5,
    "start_time": "2022-06-29T09:59:40.831Z"
   },
   {
    "duration": 7,
    "start_time": "2022-06-29T09:59:41.327Z"
   },
   {
    "duration": 147,
    "start_time": "2022-06-29T09:59:41.823Z"
   },
   {
    "duration": 10,
    "start_time": "2022-06-29T09:59:42.686Z"
   },
   {
    "duration": 11,
    "start_time": "2022-06-29T09:59:43.519Z"
   },
   {
    "duration": 232,
    "start_time": "2022-06-29T09:59:44.047Z"
   },
   {
    "duration": 244,
    "start_time": "2022-06-29T09:59:44.846Z"
   },
   {
    "duration": 812,
    "start_time": "2022-06-29T09:59:46.666Z"
   },
   {
    "duration": 650,
    "start_time": "2022-06-29T09:59:47.878Z"
   },
   {
    "duration": 26,
    "start_time": "2022-06-29T09:59:50.951Z"
   },
   {
    "duration": 24,
    "start_time": "2022-06-29T09:59:51.808Z"
   },
   {
    "duration": 6,
    "start_time": "2022-06-29T09:59:52.424Z"
   },
   {
    "duration": 15,
    "start_time": "2022-06-29T09:59:53.304Z"
   },
   {
    "duration": 1230,
    "start_time": "2022-06-29T10:00:38.288Z"
   },
   {
    "duration": 433,
    "start_time": "2022-06-29T10:00:39.520Z"
   },
   {
    "duration": 14,
    "start_time": "2022-06-29T10:00:39.956Z"
   },
   {
    "duration": 9,
    "start_time": "2022-06-29T10:00:39.972Z"
   },
   {
    "duration": 9,
    "start_time": "2022-06-29T10:00:39.983Z"
   },
   {
    "duration": 10,
    "start_time": "2022-06-29T10:00:39.994Z"
   },
   {
    "duration": 14,
    "start_time": "2022-06-29T10:00:40.006Z"
   },
   {
    "duration": 34,
    "start_time": "2022-06-29T10:00:40.021Z"
   },
   {
    "duration": 30,
    "start_time": "2022-06-29T10:00:40.057Z"
   },
   {
    "duration": 19,
    "start_time": "2022-06-29T10:00:40.089Z"
   },
   {
    "duration": 12,
    "start_time": "2022-06-29T10:00:40.125Z"
   },
   {
    "duration": 13,
    "start_time": "2022-06-29T10:00:40.139Z"
   },
   {
    "duration": 135,
    "start_time": "2022-06-29T10:00:40.153Z"
   },
   {
    "duration": 3,
    "start_time": "2022-06-29T10:00:40.291Z"
   },
   {
    "duration": 88,
    "start_time": "2022-06-29T10:00:40.295Z"
   },
   {
    "duration": 75,
    "start_time": "2022-06-29T10:00:40.385Z"
   },
   {
    "duration": 3,
    "start_time": "2022-06-29T10:00:40.462Z"
   },
   {
    "duration": 13,
    "start_time": "2022-06-29T10:00:40.466Z"
   },
   {
    "duration": 8,
    "start_time": "2022-06-29T10:00:40.481Z"
   },
   {
    "duration": 5,
    "start_time": "2022-06-29T10:00:40.491Z"
   },
   {
    "duration": 5,
    "start_time": "2022-06-29T10:00:40.498Z"
   },
   {
    "duration": 11,
    "start_time": "2022-06-29T10:00:40.525Z"
   },
   {
    "duration": 24,
    "start_time": "2022-06-29T10:00:40.538Z"
   },
   {
    "duration": 11,
    "start_time": "2022-06-29T10:00:40.564Z"
   },
   {
    "duration": 5,
    "start_time": "2022-06-29T10:00:40.577Z"
   },
   {
    "duration": 7,
    "start_time": "2022-06-29T10:00:40.584Z"
   },
   {
    "duration": 6,
    "start_time": "2022-06-29T10:00:40.593Z"
   },
   {
    "duration": 27,
    "start_time": "2022-06-29T10:00:40.601Z"
   },
   {
    "duration": 7,
    "start_time": "2022-06-29T10:00:40.630Z"
   },
   {
    "duration": 3,
    "start_time": "2022-06-29T10:00:40.639Z"
   },
   {
    "duration": 6,
    "start_time": "2022-06-29T10:00:40.644Z"
   },
   {
    "duration": 12,
    "start_time": "2022-06-29T10:00:40.651Z"
   },
   {
    "duration": 7,
    "start_time": "2022-06-29T10:00:40.664Z"
   },
   {
    "duration": 10,
    "start_time": "2022-06-29T10:00:40.673Z"
   },
   {
    "duration": 12,
    "start_time": "2022-06-29T10:00:40.684Z"
   },
   {
    "duration": 35,
    "start_time": "2022-06-29T10:00:40.697Z"
   },
   {
    "duration": 16,
    "start_time": "2022-06-29T10:00:40.734Z"
   },
   {
    "duration": 18049,
    "start_time": "2022-06-29T10:00:40.752Z"
   },
   {
    "duration": 5,
    "start_time": "2022-06-29T10:00:58.803Z"
   },
   {
    "duration": 26,
    "start_time": "2022-06-29T10:00:58.809Z"
   },
   {
    "duration": 21,
    "start_time": "2022-06-29T10:00:58.840Z"
   },
   {
    "duration": 12,
    "start_time": "2022-06-29T10:00:58.863Z"
   },
   {
    "duration": 182,
    "start_time": "2022-06-29T10:00:58.877Z"
   },
   {
    "duration": 8,
    "start_time": "2022-06-29T10:00:59.061Z"
   },
   {
    "duration": 11,
    "start_time": "2022-06-29T10:00:59.070Z"
   },
   {
    "duration": 7,
    "start_time": "2022-06-29T10:00:59.083Z"
   },
   {
    "duration": 14,
    "start_time": "2022-06-29T10:00:59.092Z"
   },
   {
    "duration": 6,
    "start_time": "2022-06-29T10:00:59.126Z"
   },
   {
    "duration": 6,
    "start_time": "2022-06-29T10:00:59.134Z"
   },
   {
    "duration": 183,
    "start_time": "2022-06-29T10:00:59.142Z"
   },
   {
    "duration": 166,
    "start_time": "2022-06-29T10:00:59.327Z"
   },
   {
    "duration": 17,
    "start_time": "2022-06-29T10:00:59.495Z"
   },
   {
    "duration": 150,
    "start_time": "2022-06-29T10:00:59.526Z"
   },
   {
    "duration": 221,
    "start_time": "2022-06-29T10:00:59.677Z"
   },
   {
    "duration": 37,
    "start_time": "2022-06-29T10:00:59.899Z"
   },
   {
    "duration": 248,
    "start_time": "2022-06-29T10:00:59.937Z"
   },
   {
    "duration": 5,
    "start_time": "2022-06-29T10:01:00.187Z"
   },
   {
    "duration": 178,
    "start_time": "2022-06-29T10:01:00.193Z"
   },
   {
    "duration": 108,
    "start_time": "2022-06-29T10:01:00.373Z"
   },
   {
    "duration": 13,
    "start_time": "2022-06-29T10:01:00.484Z"
   },
   {
    "duration": 17,
    "start_time": "2022-06-29T10:01:00.498Z"
   },
   {
    "duration": 155,
    "start_time": "2022-06-29T10:01:00.525Z"
   },
   {
    "duration": 10,
    "start_time": "2022-06-29T10:01:00.681Z"
   },
   {
    "duration": 14,
    "start_time": "2022-06-29T10:01:00.693Z"
   },
   {
    "duration": 259,
    "start_time": "2022-06-29T10:01:00.708Z"
   },
   {
    "duration": 254,
    "start_time": "2022-06-29T10:01:00.969Z"
   },
   {
    "duration": 549,
    "start_time": "2022-06-29T10:01:01.224Z"
   },
   {
    "duration": 553,
    "start_time": "2022-06-29T10:01:01.775Z"
   },
   {
    "duration": 21,
    "start_time": "2022-06-29T10:01:02.330Z"
   },
   {
    "duration": 20,
    "start_time": "2022-06-29T10:01:02.352Z"
   },
   {
    "duration": 17,
    "start_time": "2022-06-29T10:01:02.374Z"
   },
   {
    "duration": 117,
    "start_time": "2022-06-29T10:01:02.392Z"
   },
   {
    "duration": 23,
    "start_time": "2022-06-29T10:01:02.510Z"
   },
   {
    "duration": 24,
    "start_time": "2022-06-29T10:01:02.535Z"
   },
   {
    "duration": 71,
    "start_time": "2022-06-29T10:01:02.561Z"
   },
   {
    "duration": 27,
    "start_time": "2022-06-29T10:01:02.634Z"
   },
   {
    "duration": 16,
    "start_time": "2022-06-29T10:01:02.663Z"
   },
   {
    "duration": 33,
    "start_time": "2022-06-29T10:01:02.681Z"
   },
   {
    "duration": 49,
    "start_time": "2022-06-29T10:01:02.715Z"
   },
   {
    "duration": 49,
    "start_time": "2022-06-29T10:01:02.766Z"
   },
   {
    "duration": 34,
    "start_time": "2022-06-29T10:01:02.817Z"
   },
   {
    "duration": 30,
    "start_time": "2022-06-29T10:01:02.852Z"
   },
   {
    "duration": 1707,
    "start_time": "2022-06-29T10:01:02.884Z"
   },
   {
    "duration": 110,
    "start_time": "2022-06-29T10:01:04.593Z"
   },
   {
    "duration": 0,
    "start_time": "2022-06-29T10:01:04.705Z"
   },
   {
    "duration": 0,
    "start_time": "2022-06-29T10:01:04.706Z"
   },
   {
    "duration": 0,
    "start_time": "2022-06-29T10:01:04.707Z"
   },
   {
    "duration": 14,
    "start_time": "2022-06-29T10:01:47.264Z"
   },
   {
    "duration": 13,
    "start_time": "2022-06-29T10:02:02.649Z"
   },
   {
    "duration": 23,
    "start_time": "2022-06-29T10:02:10.023Z"
   },
   {
    "duration": 4,
    "start_time": "2022-06-29T10:02:19.961Z"
   },
   {
    "duration": 17,
    "start_time": "2022-06-29T10:02:32.178Z"
   },
   {
    "duration": 18,
    "start_time": "2022-06-29T10:02:45.129Z"
   },
   {
    "duration": 19,
    "start_time": "2022-06-29T10:02:49.498Z"
   },
   {
    "duration": 6,
    "start_time": "2022-06-29T10:03:33.071Z"
   },
   {
    "duration": 16,
    "start_time": "2022-06-29T10:03:38.571Z"
   },
   {
    "duration": 4,
    "start_time": "2022-06-29T10:03:41.003Z"
   },
   {
    "duration": 180,
    "start_time": "2022-06-29T10:03:47.708Z"
   },
   {
    "duration": 203,
    "start_time": "2022-06-29T10:03:49.991Z"
   },
   {
    "duration": 191,
    "start_time": "2022-06-29T10:04:03.195Z"
   },
   {
    "duration": 55,
    "start_time": "2022-06-29T10:04:08.171Z"
   },
   {
    "duration": 1259,
    "start_time": "2022-06-29T10:04:31.675Z"
   },
   {
    "duration": 461,
    "start_time": "2022-06-29T10:04:32.936Z"
   },
   {
    "duration": 13,
    "start_time": "2022-06-29T10:04:33.399Z"
   },
   {
    "duration": 8,
    "start_time": "2022-06-29T10:04:33.415Z"
   },
   {
    "duration": 10,
    "start_time": "2022-06-29T10:04:33.425Z"
   },
   {
    "duration": 10,
    "start_time": "2022-06-29T10:04:33.437Z"
   },
   {
    "duration": 13,
    "start_time": "2022-06-29T10:04:33.449Z"
   },
   {
    "duration": 25,
    "start_time": "2022-06-29T10:04:33.464Z"
   },
   {
    "duration": 48,
    "start_time": "2022-06-29T10:04:33.492Z"
   },
   {
    "duration": 18,
    "start_time": "2022-06-29T10:04:33.542Z"
   },
   {
    "duration": 11,
    "start_time": "2022-06-29T10:04:33.561Z"
   },
   {
    "duration": 18,
    "start_time": "2022-06-29T10:04:33.574Z"
   },
   {
    "duration": 161,
    "start_time": "2022-06-29T10:04:33.594Z"
   },
   {
    "duration": 4,
    "start_time": "2022-06-29T10:04:33.758Z"
   },
   {
    "duration": 100,
    "start_time": "2022-06-29T10:04:33.764Z"
   },
   {
    "duration": 79,
    "start_time": "2022-06-29T10:04:33.866Z"
   },
   {
    "duration": 5,
    "start_time": "2022-06-29T10:04:33.948Z"
   },
   {
    "duration": 19,
    "start_time": "2022-06-29T10:04:33.955Z"
   },
   {
    "duration": 13,
    "start_time": "2022-06-29T10:04:33.976Z"
   },
   {
    "duration": 8,
    "start_time": "2022-06-29T10:04:33.991Z"
   },
   {
    "duration": 4,
    "start_time": "2022-06-29T10:04:34.001Z"
   },
   {
    "duration": 16,
    "start_time": "2022-06-29T10:04:34.025Z"
   },
   {
    "duration": 18,
    "start_time": "2022-06-29T10:04:34.043Z"
   },
   {
    "duration": 11,
    "start_time": "2022-06-29T10:04:34.063Z"
   },
   {
    "duration": 6,
    "start_time": "2022-06-29T10:04:34.075Z"
   },
   {
    "duration": 9,
    "start_time": "2022-06-29T10:04:34.083Z"
   },
   {
    "duration": 32,
    "start_time": "2022-06-29T10:04:34.093Z"
   },
   {
    "duration": 5,
    "start_time": "2022-06-29T10:04:34.130Z"
   },
   {
    "duration": 8,
    "start_time": "2022-06-29T10:04:34.137Z"
   },
   {
    "duration": 6,
    "start_time": "2022-06-29T10:04:34.147Z"
   },
   {
    "duration": 7,
    "start_time": "2022-06-29T10:04:34.154Z"
   },
   {
    "duration": 13,
    "start_time": "2022-06-29T10:04:34.163Z"
   },
   {
    "duration": 3,
    "start_time": "2022-06-29T10:04:34.178Z"
   },
   {
    "duration": 9,
    "start_time": "2022-06-29T10:04:34.183Z"
   },
   {
    "duration": 11,
    "start_time": "2022-06-29T10:04:34.193Z"
   },
   {
    "duration": 12,
    "start_time": "2022-06-29T10:04:34.227Z"
   },
   {
    "duration": 13,
    "start_time": "2022-06-29T10:04:34.241Z"
   },
   {
    "duration": 18498,
    "start_time": "2022-06-29T10:04:34.256Z"
   },
   {
    "duration": 7,
    "start_time": "2022-06-29T10:04:52.756Z"
   },
   {
    "duration": 26,
    "start_time": "2022-06-29T10:04:52.765Z"
   },
   {
    "duration": 21,
    "start_time": "2022-06-29T10:04:52.793Z"
   },
   {
    "duration": 21,
    "start_time": "2022-06-29T10:04:52.816Z"
   },
   {
    "duration": 191,
    "start_time": "2022-06-29T10:04:52.839Z"
   },
   {
    "duration": 10,
    "start_time": "2022-06-29T10:04:53.032Z"
   },
   {
    "duration": 15,
    "start_time": "2022-06-29T10:04:53.044Z"
   },
   {
    "duration": 7,
    "start_time": "2022-06-29T10:04:53.061Z"
   },
   {
    "duration": 20,
    "start_time": "2022-06-29T10:04:53.069Z"
   },
   {
    "duration": 6,
    "start_time": "2022-06-29T10:04:53.091Z"
   },
   {
    "duration": 31,
    "start_time": "2022-06-29T10:04:53.099Z"
   },
   {
    "duration": 164,
    "start_time": "2022-06-29T10:04:53.133Z"
   },
   {
    "duration": 154,
    "start_time": "2022-06-29T10:04:53.299Z"
   },
   {
    "duration": 18,
    "start_time": "2022-06-29T10:04:53.455Z"
   },
   {
    "duration": 254,
    "start_time": "2022-06-29T10:04:53.475Z"
   },
   {
    "duration": 160,
    "start_time": "2022-06-29T10:04:53.731Z"
   },
   {
    "duration": 38,
    "start_time": "2022-06-29T10:04:53.893Z"
   },
   {
    "duration": 292,
    "start_time": "2022-06-29T10:04:53.933Z"
   },
   {
    "duration": 5,
    "start_time": "2022-06-29T10:04:54.227Z"
   },
   {
    "duration": 201,
    "start_time": "2022-06-29T10:04:54.233Z"
   },
   {
    "duration": 166,
    "start_time": "2022-06-29T10:04:54.436Z"
   },
   {
    "duration": 13,
    "start_time": "2022-06-29T10:04:54.605Z"
   },
   {
    "duration": 10,
    "start_time": "2022-06-29T10:04:54.619Z"
   },
   {
    "duration": 166,
    "start_time": "2022-06-29T10:04:54.631Z"
   },
   {
    "duration": 10,
    "start_time": "2022-06-29T10:04:54.800Z"
   },
   {
    "duration": 14,
    "start_time": "2022-06-29T10:04:54.826Z"
   },
   {
    "duration": 277,
    "start_time": "2022-06-29T10:04:54.843Z"
   },
   {
    "duration": 248,
    "start_time": "2022-06-29T10:04:55.122Z"
   },
   {
    "duration": 561,
    "start_time": "2022-06-29T10:04:55.372Z"
   },
   {
    "duration": 650,
    "start_time": "2022-06-29T10:04:55.935Z"
   },
   {
    "duration": 39,
    "start_time": "2022-06-29T10:04:56.587Z"
   },
   {
    "duration": 26,
    "start_time": "2022-06-29T10:04:56.628Z"
   },
   {
    "duration": 8,
    "start_time": "2022-06-29T10:04:56.656Z"
   },
   {
    "duration": 18,
    "start_time": "2022-06-29T10:04:56.668Z"
   },
   {
    "duration": 20,
    "start_time": "2022-06-29T10:04:56.687Z"
   },
   {
    "duration": 48,
    "start_time": "2022-06-29T10:04:56.709Z"
   },
   {
    "duration": 74,
    "start_time": "2022-06-29T10:04:56.758Z"
   },
   {
    "duration": 27,
    "start_time": "2022-06-29T10:04:56.834Z"
   },
   {
    "duration": 6,
    "start_time": "2022-06-29T10:04:56.863Z"
   },
   {
    "duration": 19,
    "start_time": "2022-06-29T10:04:56.871Z"
   },
   {
    "duration": 13,
    "start_time": "2022-06-29T10:04:56.892Z"
   },
   {
    "duration": 20,
    "start_time": "2022-06-29T10:04:56.907Z"
   },
   {
    "duration": 6,
    "start_time": "2022-06-29T10:04:56.929Z"
   },
   {
    "duration": 7,
    "start_time": "2022-06-29T10:04:56.943Z"
   },
   {
    "duration": 13,
    "start_time": "2022-06-29T10:04:56.952Z"
   },
   {
    "duration": 5,
    "start_time": "2022-06-29T10:04:56.967Z"
   },
   {
    "duration": 2500,
    "start_time": "2022-06-29T10:04:56.974Z"
   },
   {
    "duration": 171,
    "start_time": "2022-06-29T10:04:59.476Z"
   },
   {
    "duration": 178,
    "start_time": "2022-06-29T10:04:59.649Z"
   },
   {
    "duration": 192,
    "start_time": "2022-06-29T10:04:59.829Z"
   },
   {
    "duration": 62,
    "start_time": "2022-06-29T10:05:00.026Z"
   },
   {
    "duration": 145326,
    "start_time": "2022-06-29T10:09:32.943Z"
   },
   {
    "duration": 4,
    "start_time": "2022-06-29T10:12:13.438Z"
   },
   {
    "duration": 169,
    "start_time": "2022-06-29T10:12:19.526Z"
   },
   {
    "duration": 179,
    "start_time": "2022-06-29T10:12:39.279Z"
   },
   {
    "duration": 208,
    "start_time": "2022-06-29T10:12:46.556Z"
   },
   {
    "duration": 5,
    "start_time": "2022-06-29T10:14:13.689Z"
   },
   {
    "duration": 10,
    "start_time": "2022-06-29T10:14:29.073Z"
   },
   {
    "duration": 17,
    "start_time": "2022-06-29T10:17:12.561Z"
   },
   {
    "duration": 13,
    "start_time": "2022-06-29T10:17:37.160Z"
   },
   {
    "duration": 1235,
    "start_time": "2022-06-29T10:18:01.552Z"
   },
   {
    "duration": 459,
    "start_time": "2022-06-29T10:18:02.789Z"
   },
   {
    "duration": 13,
    "start_time": "2022-06-29T10:18:03.250Z"
   },
   {
    "duration": 21,
    "start_time": "2022-06-29T10:18:03.265Z"
   },
   {
    "duration": 18,
    "start_time": "2022-06-29T10:18:03.288Z"
   },
   {
    "duration": 12,
    "start_time": "2022-06-29T10:18:03.308Z"
   },
   {
    "duration": 17,
    "start_time": "2022-06-29T10:18:03.322Z"
   },
   {
    "duration": 26,
    "start_time": "2022-06-29T10:18:03.340Z"
   },
   {
    "duration": 21,
    "start_time": "2022-06-29T10:18:03.367Z"
   },
   {
    "duration": 38,
    "start_time": "2022-06-29T10:18:03.391Z"
   },
   {
    "duration": 11,
    "start_time": "2022-06-29T10:18:03.431Z"
   },
   {
    "duration": 16,
    "start_time": "2022-06-29T10:18:03.444Z"
   },
   {
    "duration": 149,
    "start_time": "2022-06-29T10:18:03.462Z"
   },
   {
    "duration": 3,
    "start_time": "2022-06-29T10:18:03.613Z"
   },
   {
    "duration": 81,
    "start_time": "2022-06-29T10:18:03.625Z"
   },
   {
    "duration": 81,
    "start_time": "2022-06-29T10:18:03.708Z"
   },
   {
    "duration": 4,
    "start_time": "2022-06-29T10:18:03.790Z"
   },
   {
    "duration": 16,
    "start_time": "2022-06-29T10:18:03.795Z"
   },
   {
    "duration": 20,
    "start_time": "2022-06-29T10:18:03.813Z"
   },
   {
    "duration": 6,
    "start_time": "2022-06-29T10:18:03.835Z"
   },
   {
    "duration": 12,
    "start_time": "2022-06-29T10:18:03.842Z"
   },
   {
    "duration": 20,
    "start_time": "2022-06-29T10:18:03.856Z"
   },
   {
    "duration": 25,
    "start_time": "2022-06-29T10:18:03.878Z"
   },
   {
    "duration": 28,
    "start_time": "2022-06-29T10:18:03.905Z"
   },
   {
    "duration": 8,
    "start_time": "2022-06-29T10:18:03.936Z"
   },
   {
    "duration": 17,
    "start_time": "2022-06-29T10:18:03.947Z"
   },
   {
    "duration": 21,
    "start_time": "2022-06-29T10:18:03.967Z"
   },
   {
    "duration": 7,
    "start_time": "2022-06-29T10:18:03.992Z"
   },
   {
    "duration": 11,
    "start_time": "2022-06-29T10:18:04.000Z"
   },
   {
    "duration": 3,
    "start_time": "2022-06-29T10:18:04.013Z"
   },
   {
    "duration": 5,
    "start_time": "2022-06-29T10:18:04.017Z"
   },
   {
    "duration": 12,
    "start_time": "2022-06-29T10:18:04.026Z"
   },
   {
    "duration": 11,
    "start_time": "2022-06-29T10:18:04.040Z"
   },
   {
    "duration": 18,
    "start_time": "2022-06-29T10:18:04.053Z"
   },
   {
    "duration": 15,
    "start_time": "2022-06-29T10:18:04.073Z"
   },
   {
    "duration": 43,
    "start_time": "2022-06-29T10:18:04.090Z"
   },
   {
    "duration": 14,
    "start_time": "2022-06-29T10:18:04.135Z"
   },
   {
    "duration": 17590,
    "start_time": "2022-06-29T10:18:04.150Z"
   },
   {
    "duration": 5,
    "start_time": "2022-06-29T10:18:21.741Z"
   },
   {
    "duration": 14,
    "start_time": "2022-06-29T10:18:21.747Z"
   },
   {
    "duration": 12,
    "start_time": "2022-06-29T10:18:21.763Z"
   },
   {
    "duration": 15,
    "start_time": "2022-06-29T10:18:21.777Z"
   },
   {
    "duration": 200,
    "start_time": "2022-06-29T10:18:21.794Z"
   },
   {
    "duration": 8,
    "start_time": "2022-06-29T10:18:21.995Z"
   },
   {
    "duration": 4,
    "start_time": "2022-06-29T10:18:22.005Z"
   },
   {
    "duration": 17,
    "start_time": "2022-06-29T10:18:22.011Z"
   },
   {
    "duration": 14,
    "start_time": "2022-06-29T10:18:22.030Z"
   },
   {
    "duration": 5,
    "start_time": "2022-06-29T10:18:22.045Z"
   },
   {
    "duration": 6,
    "start_time": "2022-06-29T10:18:22.051Z"
   },
   {
    "duration": 150,
    "start_time": "2022-06-29T10:18:22.059Z"
   },
   {
    "duration": 152,
    "start_time": "2022-06-29T10:18:22.211Z"
   },
   {
    "duration": 16,
    "start_time": "2022-06-29T10:18:22.365Z"
   },
   {
    "duration": 238,
    "start_time": "2022-06-29T10:18:22.383Z"
   },
   {
    "duration": 172,
    "start_time": "2022-06-29T10:18:22.626Z"
   },
   {
    "duration": 39,
    "start_time": "2022-06-29T10:18:22.801Z"
   },
   {
    "duration": 257,
    "start_time": "2022-06-29T10:18:22.842Z"
   },
   {
    "duration": 4,
    "start_time": "2022-06-29T10:18:23.101Z"
   },
   {
    "duration": 168,
    "start_time": "2022-06-29T10:18:23.108Z"
   },
   {
    "duration": 126,
    "start_time": "2022-06-29T10:18:23.278Z"
   },
   {
    "duration": 21,
    "start_time": "2022-06-29T10:18:23.406Z"
   },
   {
    "duration": 12,
    "start_time": "2022-06-29T10:18:23.429Z"
   },
   {
    "duration": 158,
    "start_time": "2022-06-29T10:18:23.443Z"
   },
   {
    "duration": 9,
    "start_time": "2022-06-29T10:18:23.603Z"
   },
   {
    "duration": 11,
    "start_time": "2022-06-29T10:18:23.626Z"
   },
   {
    "duration": 249,
    "start_time": "2022-06-29T10:18:23.638Z"
   },
   {
    "duration": 288,
    "start_time": "2022-06-29T10:18:23.889Z"
   },
   {
    "duration": 603,
    "start_time": "2022-06-29T10:18:24.179Z"
   },
   {
    "duration": 659,
    "start_time": "2022-06-29T10:18:24.784Z"
   },
   {
    "duration": 21,
    "start_time": "2022-06-29T10:18:25.445Z"
   },
   {
    "duration": 24,
    "start_time": "2022-06-29T10:18:25.467Z"
   },
   {
    "duration": 5,
    "start_time": "2022-06-29T10:18:25.493Z"
   },
   {
    "duration": 36,
    "start_time": "2022-06-29T10:18:25.500Z"
   },
   {
    "duration": 11,
    "start_time": "2022-06-29T10:18:25.538Z"
   },
   {
    "duration": 10,
    "start_time": "2022-06-29T10:18:25.551Z"
   },
   {
    "duration": 73,
    "start_time": "2022-06-29T10:18:25.563Z"
   },
   {
    "duration": 26,
    "start_time": "2022-06-29T10:18:25.638Z"
   },
   {
    "duration": 6,
    "start_time": "2022-06-29T10:18:25.666Z"
   },
   {
    "duration": 10,
    "start_time": "2022-06-29T10:18:25.674Z"
   },
   {
    "duration": 4,
    "start_time": "2022-06-29T10:18:25.686Z"
   },
   {
    "duration": 47,
    "start_time": "2022-06-29T11:38:16.020Z"
   },
   {
    "duration": 1345,
    "start_time": "2022-06-29T11:38:22.489Z"
   },
   {
    "duration": 1343,
    "start_time": "2022-06-29T11:38:23.836Z"
   },
   {
    "duration": 12,
    "start_time": "2022-06-29T11:38:25.181Z"
   },
   {
    "duration": 9,
    "start_time": "2022-06-29T11:38:25.196Z"
   },
   {
    "duration": 12,
    "start_time": "2022-06-29T11:38:25.207Z"
   },
   {
    "duration": 8,
    "start_time": "2022-06-29T11:38:25.221Z"
   },
   {
    "duration": 15,
    "start_time": "2022-06-29T11:38:25.230Z"
   },
   {
    "duration": 30,
    "start_time": "2022-06-29T11:38:25.247Z"
   },
   {
    "duration": 19,
    "start_time": "2022-06-29T11:38:25.279Z"
   },
   {
    "duration": 17,
    "start_time": "2022-06-29T11:38:25.299Z"
   },
   {
    "duration": 36,
    "start_time": "2022-06-29T11:38:25.317Z"
   },
   {
    "duration": 11,
    "start_time": "2022-06-29T11:38:25.355Z"
   },
   {
    "duration": 127,
    "start_time": "2022-06-29T11:38:25.369Z"
   },
   {
    "duration": 2,
    "start_time": "2022-06-29T11:38:25.498Z"
   },
   {
    "duration": 92,
    "start_time": "2022-06-29T11:38:25.502Z"
   },
   {
    "duration": 4,
    "start_time": "2022-06-29T11:38:25.596Z"
   },
   {
    "duration": 70,
    "start_time": "2022-06-29T11:38:25.602Z"
   },
   {
    "duration": 3,
    "start_time": "2022-06-29T11:38:25.674Z"
   },
   {
    "duration": 9,
    "start_time": "2022-06-29T11:38:25.678Z"
   },
   {
    "duration": 8,
    "start_time": "2022-06-29T11:38:25.688Z"
   },
   {
    "duration": 7,
    "start_time": "2022-06-29T11:38:25.697Z"
   },
   {
    "duration": 5,
    "start_time": "2022-06-29T11:38:25.706Z"
   },
   {
    "duration": 9,
    "start_time": "2022-06-29T11:38:25.712Z"
   },
   {
    "duration": 34,
    "start_time": "2022-06-29T11:38:25.723Z"
   },
   {
    "duration": 18,
    "start_time": "2022-06-29T11:38:25.758Z"
   },
   {
    "duration": 4,
    "start_time": "2022-06-29T11:38:25.778Z"
   },
   {
    "duration": 7,
    "start_time": "2022-06-29T11:38:25.783Z"
   },
   {
    "duration": 9,
    "start_time": "2022-06-29T11:38:25.792Z"
   },
   {
    "duration": 4,
    "start_time": "2022-06-29T11:38:25.803Z"
   },
   {
    "duration": 7,
    "start_time": "2022-06-29T11:38:25.809Z"
   },
   {
    "duration": 5,
    "start_time": "2022-06-29T11:38:25.817Z"
   },
   {
    "duration": 4,
    "start_time": "2022-06-29T11:38:25.824Z"
   },
   {
    "duration": 24,
    "start_time": "2022-06-29T11:38:25.830Z"
   },
   {
    "duration": 8,
    "start_time": "2022-06-29T11:38:25.855Z"
   },
   {
    "duration": 11,
    "start_time": "2022-06-29T11:38:25.864Z"
   },
   {
    "duration": 11,
    "start_time": "2022-06-29T11:38:25.877Z"
   },
   {
    "duration": 10,
    "start_time": "2022-06-29T11:38:25.890Z"
   },
   {
    "duration": 13,
    "start_time": "2022-06-29T11:38:25.902Z"
   },
   {
    "duration": 15736,
    "start_time": "2022-06-29T11:38:25.917Z"
   },
   {
    "duration": 4,
    "start_time": "2022-06-29T11:38:41.658Z"
   },
   {
    "duration": 16,
    "start_time": "2022-06-29T11:38:41.663Z"
   },
   {
    "duration": 11,
    "start_time": "2022-06-29T11:38:41.680Z"
   },
   {
    "duration": 10,
    "start_time": "2022-06-29T11:38:41.693Z"
   },
   {
    "duration": 209,
    "start_time": "2022-06-29T11:38:41.705Z"
   },
   {
    "duration": 8,
    "start_time": "2022-06-29T11:38:41.916Z"
   },
   {
    "duration": 6,
    "start_time": "2022-06-29T11:38:41.925Z"
   },
   {
    "duration": 20,
    "start_time": "2022-06-29T11:38:41.933Z"
   },
   {
    "duration": 16,
    "start_time": "2022-06-29T11:38:41.955Z"
   },
   {
    "duration": 5,
    "start_time": "2022-06-29T11:38:41.972Z"
   },
   {
    "duration": 7,
    "start_time": "2022-06-29T11:38:41.978Z"
   },
   {
    "duration": 157,
    "start_time": "2022-06-29T11:38:41.986Z"
   },
   {
    "duration": 154,
    "start_time": "2022-06-29T11:38:42.144Z"
   },
   {
    "duration": 17,
    "start_time": "2022-06-29T11:38:42.300Z"
   },
   {
    "duration": 165,
    "start_time": "2022-06-29T11:38:42.319Z"
   },
   {
    "duration": 209,
    "start_time": "2022-06-29T11:38:42.486Z"
   },
   {
    "duration": 23,
    "start_time": "2022-06-29T11:38:42.697Z"
   },
   {
    "duration": 246,
    "start_time": "2022-06-29T11:38:42.721Z"
   },
   {
    "duration": 3,
    "start_time": "2022-06-29T11:38:42.969Z"
   },
   {
    "duration": 165,
    "start_time": "2022-06-29T11:38:42.974Z"
   },
   {
    "duration": 122,
    "start_time": "2022-06-29T11:38:43.141Z"
   },
   {
    "duration": 10,
    "start_time": "2022-06-29T11:38:43.264Z"
   },
   {
    "duration": 8,
    "start_time": "2022-06-29T11:38:43.276Z"
   },
   {
    "duration": 148,
    "start_time": "2022-06-29T11:38:43.285Z"
   },
   {
    "duration": 8,
    "start_time": "2022-06-29T11:38:43.437Z"
   },
   {
    "duration": 8,
    "start_time": "2022-06-29T11:38:43.453Z"
   },
   {
    "duration": 224,
    "start_time": "2022-06-29T11:38:43.463Z"
   },
   {
    "duration": 239,
    "start_time": "2022-06-29T11:38:43.689Z"
   },
   {
    "duration": 559,
    "start_time": "2022-06-29T11:38:43.930Z"
   },
   {
    "duration": 520,
    "start_time": "2022-06-29T11:38:44.491Z"
   },
   {
    "duration": 20,
    "start_time": "2022-06-29T11:38:45.013Z"
   },
   {
    "duration": 31,
    "start_time": "2022-06-29T11:38:45.035Z"
   },
   {
    "duration": 6,
    "start_time": "2022-06-29T11:38:45.068Z"
   },
   {
    "duration": 100,
    "start_time": "2022-06-29T11:38:45.075Z"
   },
   {
    "duration": 12,
    "start_time": "2022-06-29T11:38:45.176Z"
   },
   {
    "duration": 13,
    "start_time": "2022-06-29T11:38:45.190Z"
   },
   {
    "duration": 65,
    "start_time": "2022-06-29T11:38:45.205Z"
   },
   {
    "duration": 25,
    "start_time": "2022-06-29T11:38:45.271Z"
   },
   {
    "duration": 5,
    "start_time": "2022-06-29T11:38:45.298Z"
   },
   {
    "duration": 13,
    "start_time": "2022-06-29T11:38:45.304Z"
   },
   {
    "duration": 6,
    "start_time": "2022-06-29T11:38:45.318Z"
   },
   {
    "duration": 3,
    "start_time": "2022-06-29T11:43:34.194Z"
   },
   {
    "duration": 5,
    "start_time": "2022-06-29T11:43:40.273Z"
   },
   {
    "duration": 4,
    "start_time": "2022-06-29T11:43:43.812Z"
   },
   {
    "duration": 1093,
    "start_time": "2022-06-29T11:44:14.040Z"
   },
   {
    "duration": 394,
    "start_time": "2022-06-29T11:44:15.135Z"
   },
   {
    "duration": 12,
    "start_time": "2022-06-29T11:44:15.530Z"
   },
   {
    "duration": 8,
    "start_time": "2022-06-29T11:44:15.543Z"
   },
   {
    "duration": 12,
    "start_time": "2022-06-29T11:44:15.553Z"
   },
   {
    "duration": 15,
    "start_time": "2022-06-29T11:44:15.567Z"
   },
   {
    "duration": 22,
    "start_time": "2022-06-29T11:44:15.583Z"
   },
   {
    "duration": 28,
    "start_time": "2022-06-29T11:44:15.607Z"
   },
   {
    "duration": 23,
    "start_time": "2022-06-29T11:44:15.637Z"
   },
   {
    "duration": 18,
    "start_time": "2022-06-29T11:44:15.661Z"
   },
   {
    "duration": 9,
    "start_time": "2022-06-29T11:44:15.680Z"
   },
   {
    "duration": 11,
    "start_time": "2022-06-29T11:44:15.690Z"
   },
   {
    "duration": 137,
    "start_time": "2022-06-29T11:44:15.702Z"
   },
   {
    "duration": 5,
    "start_time": "2022-06-29T11:44:18.637Z"
   },
   {
    "duration": 437,
    "start_time": "2022-06-29T11:50:10.817Z"
   },
   {
    "duration": 94,
    "start_time": "2022-06-29T11:50:35.437Z"
   },
   {
    "duration": 112,
    "start_time": "2022-06-29T11:50:54.759Z"
   },
   {
    "duration": 4,
    "start_time": "2022-06-29T11:50:55.999Z"
   },
   {
    "duration": 54,
    "start_time": "2022-06-29T11:50:58.183Z"
   },
   {
    "duration": 3,
    "start_time": "2022-06-29T11:51:00.601Z"
   },
   {
    "duration": 8,
    "start_time": "2022-06-29T11:51:01.245Z"
   },
   {
    "duration": 9,
    "start_time": "2022-06-29T11:51:04.001Z"
   },
   {
    "duration": 8,
    "start_time": "2022-06-29T11:51:12.991Z"
   },
   {
    "duration": 1042,
    "start_time": "2022-06-29T11:52:59.012Z"
   },
   {
    "duration": 413,
    "start_time": "2022-06-29T11:53:00.056Z"
   },
   {
    "duration": 13,
    "start_time": "2022-06-29T11:53:00.471Z"
   },
   {
    "duration": 10,
    "start_time": "2022-06-29T11:53:00.486Z"
   },
   {
    "duration": 30,
    "start_time": "2022-06-29T11:53:00.497Z"
   },
   {
    "duration": 23,
    "start_time": "2022-06-29T11:53:00.529Z"
   },
   {
    "duration": 14,
    "start_time": "2022-06-29T11:53:00.554Z"
   },
   {
    "duration": 36,
    "start_time": "2022-06-29T11:53:00.570Z"
   },
   {
    "duration": 26,
    "start_time": "2022-06-29T11:53:00.608Z"
   },
   {
    "duration": 23,
    "start_time": "2022-06-29T11:53:00.636Z"
   },
   {
    "duration": 11,
    "start_time": "2022-06-29T11:53:00.661Z"
   },
   {
    "duration": 23,
    "start_time": "2022-06-29T11:53:00.674Z"
   },
   {
    "duration": 148,
    "start_time": "2022-06-29T11:53:00.698Z"
   },
   {
    "duration": 6,
    "start_time": "2022-06-29T11:53:00.847Z"
   },
   {
    "duration": 58,
    "start_time": "2022-06-29T11:53:00.855Z"
   },
   {
    "duration": 3,
    "start_time": "2022-06-29T11:53:00.914Z"
   },
   {
    "duration": 20,
    "start_time": "2022-06-29T11:53:00.919Z"
   },
   {
    "duration": 25,
    "start_time": "2022-06-29T11:53:00.940Z"
   },
   {
    "duration": 15,
    "start_time": "2022-06-29T11:53:00.967Z"
   },
   {
    "duration": 14,
    "start_time": "2022-06-29T11:53:00.984Z"
   },
   {
    "duration": 12,
    "start_time": "2022-06-29T11:53:00.999Z"
   },
   {
    "duration": 25,
    "start_time": "2022-06-29T11:53:01.013Z"
   },
   {
    "duration": 22,
    "start_time": "2022-06-29T11:53:01.040Z"
   },
   {
    "duration": 14,
    "start_time": "2022-06-29T11:53:01.064Z"
   },
   {
    "duration": 13,
    "start_time": "2022-06-29T11:53:01.079Z"
   },
   {
    "duration": 5,
    "start_time": "2022-06-29T11:53:53.068Z"
   },
   {
    "duration": 5,
    "start_time": "2022-06-29T11:53:53.578Z"
   },
   {
    "duration": 3,
    "start_time": "2022-06-29T11:54:30.583Z"
   },
   {
    "duration": 87,
    "start_time": "2022-06-29T11:56:44.633Z"
   },
   {
    "duration": 101,
    "start_time": "2022-06-29T12:04:49.707Z"
   },
   {
    "duration": 5,
    "start_time": "2022-06-29T12:04:54.391Z"
   },
   {
    "duration": 3,
    "start_time": "2022-06-29T12:04:55.066Z"
   },
   {
    "duration": 9,
    "start_time": "2022-06-29T12:05:01.971Z"
   },
   {
    "duration": 8,
    "start_time": "2022-06-29T12:05:03.724Z"
   },
   {
    "duration": 14,
    "start_time": "2022-06-29T12:05:07.818Z"
   },
   {
    "duration": 5,
    "start_time": "2022-06-29T12:05:29.396Z"
   },
   {
    "duration": 16,
    "start_time": "2022-06-29T12:07:49.610Z"
   },
   {
    "duration": 7,
    "start_time": "2022-06-29T12:07:59.476Z"
   },
   {
    "duration": 8,
    "start_time": "2022-06-29T12:08:13.278Z"
   },
   {
    "duration": 11,
    "start_time": "2022-06-29T12:09:50.113Z"
   },
   {
    "duration": 14,
    "start_time": "2022-06-29T12:09:57.785Z"
   },
   {
    "duration": 9,
    "start_time": "2022-06-29T12:10:03.494Z"
   },
   {
    "duration": 24,
    "start_time": "2022-06-29T12:10:08.996Z"
   },
   {
    "duration": 16,
    "start_time": "2022-06-29T12:10:34.297Z"
   },
   {
    "duration": 12,
    "start_time": "2022-06-29T12:11:18.805Z"
   },
   {
    "duration": 8,
    "start_time": "2022-06-29T12:11:27.277Z"
   },
   {
    "duration": 19,
    "start_time": "2022-06-29T12:11:30.944Z"
   },
   {
    "duration": 5,
    "start_time": "2022-06-29T12:11:53.266Z"
   },
   {
    "duration": 9,
    "start_time": "2022-06-29T12:11:58.341Z"
   },
   {
    "duration": 20,
    "start_time": "2022-06-29T12:12:00.749Z"
   },
   {
    "duration": 105,
    "start_time": "2022-06-29T12:13:28.405Z"
   },
   {
    "duration": 1258,
    "start_time": "2022-06-29T12:14:41.636Z"
   },
   {
    "duration": 453,
    "start_time": "2022-06-29T12:14:42.896Z"
   },
   {
    "duration": 18,
    "start_time": "2022-06-29T12:14:43.351Z"
   },
   {
    "duration": 15,
    "start_time": "2022-06-29T12:14:43.371Z"
   },
   {
    "duration": 9,
    "start_time": "2022-06-29T12:14:43.388Z"
   },
   {
    "duration": 9,
    "start_time": "2022-06-29T12:14:43.399Z"
   },
   {
    "duration": 19,
    "start_time": "2022-06-29T12:14:43.410Z"
   },
   {
    "duration": 60,
    "start_time": "2022-06-29T12:14:43.431Z"
   },
   {
    "duration": 20,
    "start_time": "2022-06-29T12:14:43.493Z"
   },
   {
    "duration": 18,
    "start_time": "2022-06-29T12:14:43.514Z"
   },
   {
    "duration": 22,
    "start_time": "2022-06-29T12:14:43.534Z"
   },
   {
    "duration": 13,
    "start_time": "2022-06-29T12:14:43.565Z"
   },
   {
    "duration": 124,
    "start_time": "2022-06-29T12:14:43.579Z"
   },
   {
    "duration": 5,
    "start_time": "2022-06-29T12:14:43.706Z"
   },
   {
    "duration": 74,
    "start_time": "2022-06-29T12:14:43.713Z"
   },
   {
    "duration": 2,
    "start_time": "2022-06-29T12:14:43.789Z"
   },
   {
    "duration": 14,
    "start_time": "2022-06-29T12:14:43.793Z"
   },
   {
    "duration": 8,
    "start_time": "2022-06-29T12:14:43.808Z"
   },
   {
    "duration": 11,
    "start_time": "2022-06-29T12:14:43.818Z"
   },
   {
    "duration": 21,
    "start_time": "2022-06-29T12:14:43.831Z"
   },
   {
    "duration": 3,
    "start_time": "2022-06-29T12:14:43.855Z"
   },
   {
    "duration": 29,
    "start_time": "2022-06-29T12:14:43.860Z"
   },
   {
    "duration": 11,
    "start_time": "2022-06-29T12:14:43.890Z"
   },
   {
    "duration": 8,
    "start_time": "2022-06-29T12:14:43.902Z"
   },
   {
    "duration": 7,
    "start_time": "2022-06-29T12:14:43.912Z"
   },
   {
    "duration": 4,
    "start_time": "2022-06-29T12:14:43.921Z"
   },
   {
    "duration": 12,
    "start_time": "2022-06-29T12:14:43.927Z"
   },
   {
    "duration": 21,
    "start_time": "2022-06-29T12:14:43.940Z"
   },
   {
    "duration": 10,
    "start_time": "2022-06-29T12:14:43.963Z"
   },
   {
    "duration": 16,
    "start_time": "2022-06-29T12:14:43.975Z"
   },
   {
    "duration": 116,
    "start_time": "2022-06-29T12:15:20.750Z"
   },
   {
    "duration": 20,
    "start_time": "2022-06-29T12:15:41.021Z"
   },
   {
    "duration": 13,
    "start_time": "2022-06-29T12:16:04.213Z"
   },
   {
    "duration": 9,
    "start_time": "2022-06-29T12:17:53.865Z"
   },
   {
    "duration": 15,
    "start_time": "2022-06-29T12:17:54.688Z"
   },
   {
    "duration": 23,
    "start_time": "2022-06-29T12:17:55.440Z"
   },
   {
    "duration": 22,
    "start_time": "2022-06-29T12:19:01.074Z"
   },
   {
    "duration": 374,
    "start_time": "2022-06-29T12:19:33.051Z"
   },
   {
    "duration": 475,
    "start_time": "2022-06-29T12:20:24.735Z"
   },
   {
    "duration": 663,
    "start_time": "2022-06-29T12:21:13.723Z"
   },
   {
    "duration": 1191,
    "start_time": "2022-06-29T12:28:40.302Z"
   },
   {
    "duration": 448,
    "start_time": "2022-06-29T12:28:44.272Z"
   },
   {
    "duration": 14,
    "start_time": "2022-06-29T12:28:47.135Z"
   },
   {
    "duration": 14,
    "start_time": "2022-06-29T12:28:47.748Z"
   },
   {
    "duration": 9,
    "start_time": "2022-06-29T12:28:49.577Z"
   },
   {
    "duration": 8,
    "start_time": "2022-06-29T12:28:49.884Z"
   },
   {
    "duration": 10,
    "start_time": "2022-06-29T12:28:50.083Z"
   },
   {
    "duration": 26,
    "start_time": "2022-06-29T12:28:50.478Z"
   },
   {
    "duration": 27,
    "start_time": "2022-06-29T12:28:51.937Z"
   },
   {
    "duration": 21,
    "start_time": "2022-06-29T12:28:52.427Z"
   },
   {
    "duration": 16,
    "start_time": "2022-06-29T12:28:53.144Z"
   },
   {
    "duration": 14,
    "start_time": "2022-06-29T12:28:53.793Z"
   },
   {
    "duration": 134,
    "start_time": "2022-06-29T12:29:10.017Z"
   },
   {
    "duration": 7,
    "start_time": "2022-06-29T12:29:18.076Z"
   },
   {
    "duration": 87,
    "start_time": "2022-06-29T12:29:30.110Z"
   },
   {
    "duration": 3,
    "start_time": "2022-06-29T12:29:35.694Z"
   },
   {
    "duration": 12,
    "start_time": "2022-06-29T12:29:36.432Z"
   },
   {
    "duration": 9,
    "start_time": "2022-06-29T12:29:53.992Z"
   },
   {
    "duration": 11,
    "start_time": "2022-06-29T12:29:55.960Z"
   },
   {
    "duration": 8,
    "start_time": "2022-06-29T12:30:07.571Z"
   },
   {
    "duration": 3,
    "start_time": "2022-06-29T12:30:10.590Z"
   },
   {
    "duration": 16,
    "start_time": "2022-06-29T12:30:16.688Z"
   },
   {
    "duration": 33,
    "start_time": "2022-06-29T12:30:20.644Z"
   },
   {
    "duration": 7,
    "start_time": "2022-06-29T12:30:26.662Z"
   },
   {
    "duration": 6,
    "start_time": "2022-06-29T12:30:42.071Z"
   },
   {
    "duration": 4,
    "start_time": "2022-06-29T12:30:42.915Z"
   },
   {
    "duration": 24,
    "start_time": "2022-06-29T12:30:48.770Z"
   },
   {
    "duration": 6,
    "start_time": "2022-06-29T12:30:52.176Z"
   },
   {
    "duration": 11,
    "start_time": "2022-06-29T12:30:53.316Z"
   },
   {
    "duration": 11,
    "start_time": "2022-06-29T12:31:04.396Z"
   },
   {
    "duration": 6,
    "start_time": "2022-06-29T12:31:37.282Z"
   },
   {
    "duration": 13,
    "start_time": "2022-06-29T12:32:26.666Z"
   },
   {
    "duration": 13,
    "start_time": "2022-06-29T12:32:28.909Z"
   },
   {
    "duration": 14,
    "start_time": "2022-06-29T12:32:50.996Z"
   },
   {
    "duration": 14,
    "start_time": "2022-06-29T12:33:21.013Z"
   },
   {
    "duration": 11,
    "start_time": "2022-06-29T12:33:41.577Z"
   },
   {
    "duration": 76,
    "start_time": "2022-06-29T12:34:16.065Z"
   },
   {
    "duration": 8,
    "start_time": "2022-06-29T12:34:22.798Z"
   },
   {
    "duration": 1371,
    "start_time": "2022-06-29T12:34:30.837Z"
   },
   {
    "duration": 532,
    "start_time": "2022-06-29T12:34:32.210Z"
   },
   {
    "duration": 22,
    "start_time": "2022-06-29T12:34:32.744Z"
   },
   {
    "duration": 10,
    "start_time": "2022-06-29T12:34:32.768Z"
   },
   {
    "duration": 12,
    "start_time": "2022-06-29T12:34:32.780Z"
   },
   {
    "duration": 10,
    "start_time": "2022-06-29T12:34:32.794Z"
   },
   {
    "duration": 11,
    "start_time": "2022-06-29T12:34:32.806Z"
   },
   {
    "duration": 29,
    "start_time": "2022-06-29T12:34:32.818Z"
   },
   {
    "duration": 33,
    "start_time": "2022-06-29T12:34:32.849Z"
   },
   {
    "duration": 20,
    "start_time": "2022-06-29T12:34:32.884Z"
   },
   {
    "duration": 12,
    "start_time": "2022-06-29T12:34:32.905Z"
   },
   {
    "duration": 57,
    "start_time": "2022-06-29T12:34:32.918Z"
   },
   {
    "duration": 217,
    "start_time": "2022-06-29T12:34:32.977Z"
   },
   {
    "duration": 7,
    "start_time": "2022-06-29T12:34:33.197Z"
   },
   {
    "duration": 176,
    "start_time": "2022-06-29T12:34:33.206Z"
   },
   {
    "duration": 4,
    "start_time": "2022-06-29T12:34:33.384Z"
   },
   {
    "duration": 16,
    "start_time": "2022-06-29T12:34:33.390Z"
   },
   {
    "duration": 11,
    "start_time": "2022-06-29T12:34:33.408Z"
   },
   {
    "duration": 46,
    "start_time": "2022-06-29T12:34:33.420Z"
   },
   {
    "duration": 6,
    "start_time": "2022-06-29T12:34:33.468Z"
   },
   {
    "duration": 13,
    "start_time": "2022-06-29T12:34:33.475Z"
   },
   {
    "duration": 20,
    "start_time": "2022-06-29T12:34:33.490Z"
   },
   {
    "duration": 11,
    "start_time": "2022-06-29T12:34:33.512Z"
   },
   {
    "duration": 7,
    "start_time": "2022-06-29T12:34:33.525Z"
   },
   {
    "duration": 11,
    "start_time": "2022-06-29T12:34:33.534Z"
   },
   {
    "duration": 17,
    "start_time": "2022-06-29T12:34:33.547Z"
   },
   {
    "duration": 23,
    "start_time": "2022-06-29T12:34:33.567Z"
   },
   {
    "duration": 6,
    "start_time": "2022-06-29T12:34:33.593Z"
   },
   {
    "duration": 12,
    "start_time": "2022-06-29T12:34:33.601Z"
   },
   {
    "duration": 7,
    "start_time": "2022-06-29T12:34:33.615Z"
   },
   {
    "duration": 6,
    "start_time": "2022-06-29T12:34:33.624Z"
   },
   {
    "duration": 36,
    "start_time": "2022-06-29T12:34:33.633Z"
   },
   {
    "duration": 14,
    "start_time": "2022-06-29T12:34:48.924Z"
   },
   {
    "duration": 12,
    "start_time": "2022-06-29T12:35:02.332Z"
   },
   {
    "duration": 13,
    "start_time": "2022-06-29T12:35:15.035Z"
   },
   {
    "duration": 18965,
    "start_time": "2022-06-29T12:35:22.215Z"
   },
   {
    "duration": 4,
    "start_time": "2022-06-29T12:35:57.305Z"
   },
   {
    "duration": 18,
    "start_time": "2022-06-29T12:36:00.795Z"
   },
   {
    "duration": 12,
    "start_time": "2022-06-29T12:43:13.917Z"
   },
   {
    "duration": 1212,
    "start_time": "2022-06-29T12:43:34.534Z"
   },
   {
    "duration": 474,
    "start_time": "2022-06-29T12:43:35.748Z"
   },
   {
    "duration": 13,
    "start_time": "2022-06-29T12:43:36.223Z"
   },
   {
    "duration": 7,
    "start_time": "2022-06-29T12:43:36.238Z"
   },
   {
    "duration": 18,
    "start_time": "2022-06-29T12:43:36.247Z"
   },
   {
    "duration": 11,
    "start_time": "2022-06-29T12:43:36.267Z"
   },
   {
    "duration": 14,
    "start_time": "2022-06-29T12:43:36.280Z"
   },
   {
    "duration": 30,
    "start_time": "2022-06-29T12:43:36.295Z"
   },
   {
    "duration": 29,
    "start_time": "2022-06-29T12:43:36.326Z"
   },
   {
    "duration": 28,
    "start_time": "2022-06-29T12:43:36.358Z"
   },
   {
    "duration": 10,
    "start_time": "2022-06-29T12:43:36.388Z"
   },
   {
    "duration": 12,
    "start_time": "2022-06-29T12:43:36.399Z"
   },
   {
    "duration": 144,
    "start_time": "2022-06-29T12:43:36.412Z"
   },
   {
    "duration": 5,
    "start_time": "2022-06-29T12:43:36.565Z"
   },
   {
    "duration": 67,
    "start_time": "2022-06-29T12:43:36.571Z"
   },
   {
    "duration": 3,
    "start_time": "2022-06-29T12:43:36.640Z"
   },
   {
    "duration": 27,
    "start_time": "2022-06-29T12:43:36.645Z"
   },
   {
    "duration": 12,
    "start_time": "2022-06-29T12:43:36.674Z"
   },
   {
    "duration": 9,
    "start_time": "2022-06-29T12:43:36.688Z"
   },
   {
    "duration": 7,
    "start_time": "2022-06-29T12:43:36.699Z"
   },
   {
    "duration": 7,
    "start_time": "2022-06-29T12:43:36.707Z"
   },
   {
    "duration": 17,
    "start_time": "2022-06-29T12:43:36.715Z"
   },
   {
    "duration": 26,
    "start_time": "2022-06-29T12:43:36.734Z"
   },
   {
    "duration": 5,
    "start_time": "2022-06-29T12:43:36.768Z"
   },
   {
    "duration": 11,
    "start_time": "2022-06-29T12:43:36.774Z"
   },
   {
    "duration": 5,
    "start_time": "2022-06-29T12:43:36.787Z"
   },
   {
    "duration": 18,
    "start_time": "2022-06-29T12:43:36.794Z"
   },
   {
    "duration": 5,
    "start_time": "2022-06-29T12:43:36.815Z"
   },
   {
    "duration": 11,
    "start_time": "2022-06-29T12:43:36.822Z"
   },
   {
    "duration": 12,
    "start_time": "2022-06-29T12:43:36.858Z"
   },
   {
    "duration": 11,
    "start_time": "2022-06-29T12:43:36.872Z"
   },
   {
    "duration": 19,
    "start_time": "2022-06-29T12:43:36.885Z"
   },
   {
    "duration": 13,
    "start_time": "2022-06-29T12:43:36.906Z"
   },
   {
    "duration": 10,
    "start_time": "2022-06-29T12:43:36.920Z"
   },
   {
    "duration": 36,
    "start_time": "2022-06-29T12:43:36.932Z"
   },
   {
    "duration": 18456,
    "start_time": "2022-06-29T12:43:36.970Z"
   },
   {
    "duration": 5,
    "start_time": "2022-06-29T12:43:55.428Z"
   },
   {
    "duration": 35,
    "start_time": "2022-06-29T12:43:55.434Z"
   },
   {
    "duration": 13,
    "start_time": "2022-06-29T12:45:29.083Z"
   },
   {
    "duration": 19,
    "start_time": "2022-06-29T12:46:06.472Z"
   },
   {
    "duration": 238,
    "start_time": "2022-06-29T12:46:07.021Z"
   },
   {
    "duration": 54,
    "start_time": "2022-06-29T18:03:29.270Z"
   },
   {
    "duration": 1218,
    "start_time": "2022-06-29T18:03:35.729Z"
   },
   {
    "duration": 654,
    "start_time": "2022-06-29T18:03:36.950Z"
   },
   {
    "duration": 11,
    "start_time": "2022-06-29T18:03:37.606Z"
   },
   {
    "duration": 8,
    "start_time": "2022-06-29T18:03:37.618Z"
   },
   {
    "duration": 14,
    "start_time": "2022-06-29T18:03:37.628Z"
   },
   {
    "duration": 8,
    "start_time": "2022-06-29T18:03:37.644Z"
   },
   {
    "duration": 11,
    "start_time": "2022-06-29T18:03:37.653Z"
   },
   {
    "duration": 24,
    "start_time": "2022-06-29T18:03:37.665Z"
   },
   {
    "duration": 24,
    "start_time": "2022-06-29T18:03:37.691Z"
   },
   {
    "duration": 16,
    "start_time": "2022-06-29T18:03:37.717Z"
   },
   {
    "duration": 24,
    "start_time": "2022-06-29T18:03:37.734Z"
   },
   {
    "duration": 18,
    "start_time": "2022-06-29T18:03:37.760Z"
   },
   {
    "duration": 127,
    "start_time": "2022-06-29T18:03:37.780Z"
   },
   {
    "duration": 6,
    "start_time": "2022-06-29T18:03:37.909Z"
   },
   {
    "duration": 67,
    "start_time": "2022-06-29T18:03:37.916Z"
   },
   {
    "duration": 3,
    "start_time": "2022-06-29T18:03:37.985Z"
   },
   {
    "duration": 11,
    "start_time": "2022-06-29T18:03:37.989Z"
   },
   {
    "duration": 8,
    "start_time": "2022-06-29T18:03:38.001Z"
   },
   {
    "duration": 15,
    "start_time": "2022-06-29T18:03:38.011Z"
   },
   {
    "duration": 13,
    "start_time": "2022-06-29T18:03:38.027Z"
   },
   {
    "duration": 8,
    "start_time": "2022-06-29T18:03:38.042Z"
   },
   {
    "duration": 16,
    "start_time": "2022-06-29T18:03:38.052Z"
   },
   {
    "duration": 10,
    "start_time": "2022-06-29T18:03:38.069Z"
   },
   {
    "duration": 5,
    "start_time": "2022-06-29T18:03:38.081Z"
   },
   {
    "duration": 6,
    "start_time": "2022-06-29T18:03:38.087Z"
   },
   {
    "duration": 3,
    "start_time": "2022-06-29T18:03:38.095Z"
   },
   {
    "duration": 15,
    "start_time": "2022-06-29T18:03:38.099Z"
   },
   {
    "duration": 5,
    "start_time": "2022-06-29T18:03:38.115Z"
   },
   {
    "duration": 33,
    "start_time": "2022-06-29T18:03:38.122Z"
   },
   {
    "duration": 7,
    "start_time": "2022-06-29T18:03:38.157Z"
   },
   {
    "duration": 8,
    "start_time": "2022-06-29T18:03:38.165Z"
   },
   {
    "duration": 14,
    "start_time": "2022-06-29T18:03:38.174Z"
   },
   {
    "duration": 17,
    "start_time": "2022-06-29T18:03:38.190Z"
   },
   {
    "duration": 8,
    "start_time": "2022-06-29T18:03:38.209Z"
   },
   {
    "duration": 11,
    "start_time": "2022-06-29T18:03:38.219Z"
   },
   {
    "duration": 15367,
    "start_time": "2022-06-29T18:03:38.250Z"
   },
   {
    "duration": 4,
    "start_time": "2022-06-29T18:03:53.618Z"
   },
   {
    "duration": 14,
    "start_time": "2022-06-29T18:03:53.624Z"
   },
   {
    "duration": 21,
    "start_time": "2022-06-29T18:03:53.639Z"
   },
   {
    "duration": 14,
    "start_time": "2022-06-29T18:03:53.662Z"
   },
   {
    "duration": 174,
    "start_time": "2022-06-29T18:03:53.679Z"
   },
   {
    "duration": 7,
    "start_time": "2022-06-29T18:04:08.517Z"
   },
   {
    "duration": 5,
    "start_time": "2022-06-29T18:04:09.638Z"
   },
   {
    "duration": 5,
    "start_time": "2022-06-29T18:04:14.529Z"
   },
   {
    "duration": 12,
    "start_time": "2022-06-29T18:05:03.861Z"
   },
   {
    "duration": 5,
    "start_time": "2022-06-29T18:05:06.165Z"
   },
   {
    "duration": 4,
    "start_time": "2022-06-29T18:05:08.479Z"
   },
   {
    "duration": 119,
    "start_time": "2022-06-29T18:05:16.314Z"
   },
   {
    "duration": 122,
    "start_time": "2022-06-29T18:05:19.212Z"
   },
   {
    "duration": 16,
    "start_time": "2022-06-29T18:06:48.226Z"
   },
   {
    "duration": 143,
    "start_time": "2022-06-29T18:06:49.749Z"
   },
   {
    "duration": 230,
    "start_time": "2022-06-29T18:06:54.398Z"
   },
   {
    "duration": 26,
    "start_time": "2022-06-29T18:07:22.270Z"
   },
   {
    "duration": 211,
    "start_time": "2022-06-29T18:07:24.957Z"
   },
   {
    "duration": 213,
    "start_time": "2022-06-29T18:07:48.172Z"
   },
   {
    "duration": 215,
    "start_time": "2022-06-29T18:08:06.509Z"
   },
   {
    "duration": 218,
    "start_time": "2022-06-29T18:08:11.728Z"
   },
   {
    "duration": 225,
    "start_time": "2022-06-29T18:08:15.651Z"
   },
   {
    "duration": 221,
    "start_time": "2022-06-29T18:08:23.164Z"
   },
   {
    "duration": 256,
    "start_time": "2022-06-29T18:08:26.298Z"
   },
   {
    "duration": 234,
    "start_time": "2022-06-29T18:08:32.048Z"
   },
   {
    "duration": 219,
    "start_time": "2022-06-29T18:08:38.911Z"
   },
   {
    "duration": 222,
    "start_time": "2022-06-29T18:08:52.849Z"
   },
   {
    "duration": 369,
    "start_time": "2022-06-29T18:09:10.546Z"
   },
   {
    "duration": 203,
    "start_time": "2022-06-29T18:11:41.386Z"
   },
   {
    "duration": 230,
    "start_time": "2022-06-29T18:12:09.901Z"
   },
   {
    "duration": 196,
    "start_time": "2022-06-29T18:12:33.057Z"
   },
   {
    "duration": 196,
    "start_time": "2022-06-29T18:12:44.924Z"
   },
   {
    "duration": 195,
    "start_time": "2022-06-29T18:17:25.022Z"
   },
   {
    "duration": 195,
    "start_time": "2022-06-29T18:17:35.979Z"
   },
   {
    "duration": 201,
    "start_time": "2022-06-29T18:17:45.306Z"
   },
   {
    "duration": 238,
    "start_time": "2022-06-29T18:17:58.941Z"
   },
   {
    "duration": 4,
    "start_time": "2022-06-29T18:22:51.784Z"
   },
   {
    "duration": 128,
    "start_time": "2022-06-29T18:22:53.252Z"
   },
   {
    "duration": 92,
    "start_time": "2022-06-29T18:24:44.560Z"
   },
   {
    "duration": 4,
    "start_time": "2022-06-29T18:24:46.242Z"
   },
   {
    "duration": 6,
    "start_time": "2022-06-29T18:24:49.314Z"
   },
   {
    "duration": 117,
    "start_time": "2022-06-29T18:24:54.686Z"
   },
   {
    "duration": 8,
    "start_time": "2022-06-29T18:25:20.046Z"
   },
   {
    "duration": 8,
    "start_time": "2022-06-29T18:25:45.749Z"
   },
   {
    "duration": 206,
    "start_time": "2022-06-29T18:25:47.657Z"
   },
   {
    "duration": 295,
    "start_time": "2022-06-29T18:26:08.338Z"
   },
   {
    "duration": 548,
    "start_time": "2022-06-29T18:26:16.328Z"
   },
   {
    "duration": 513,
    "start_time": "2022-06-29T18:26:29.870Z"
   },
   {
    "duration": 444,
    "start_time": "2022-06-29T18:26:39.542Z"
   },
   {
    "duration": 486,
    "start_time": "2022-06-29T18:32:34.312Z"
   },
   {
    "duration": 563,
    "start_time": "2022-06-29T18:32:39.014Z"
   },
   {
    "duration": 442,
    "start_time": "2022-06-29T18:32:53.135Z"
   },
   {
    "duration": 417,
    "start_time": "2022-06-29T18:32:59.497Z"
   },
   {
    "duration": 185,
    "start_time": "2022-06-29T18:33:20.571Z"
   },
   {
    "duration": 208,
    "start_time": "2022-06-29T18:33:22.810Z"
   },
   {
    "duration": 52,
    "start_time": "2022-06-29T18:39:17.328Z"
   },
   {
    "duration": 22,
    "start_time": "2022-06-29T18:39:19.075Z"
   },
   {
    "duration": 23,
    "start_time": "2022-06-29T18:40:13.951Z"
   },
   {
    "duration": 22,
    "start_time": "2022-06-29T18:40:15.805Z"
   },
   {
    "duration": 5,
    "start_time": "2022-06-29T18:45:49.233Z"
   },
   {
    "duration": 1011,
    "start_time": "2022-06-29T18:53:46.499Z"
   },
   {
    "duration": 333,
    "start_time": "2022-06-29T18:53:47.511Z"
   },
   {
    "duration": 10,
    "start_time": "2022-06-29T18:53:47.845Z"
   },
   {
    "duration": 6,
    "start_time": "2022-06-29T18:53:47.857Z"
   },
   {
    "duration": 6,
    "start_time": "2022-06-29T18:53:47.865Z"
   },
   {
    "duration": 7,
    "start_time": "2022-06-29T18:53:47.873Z"
   },
   {
    "duration": 11,
    "start_time": "2022-06-29T18:53:47.881Z"
   },
   {
    "duration": 22,
    "start_time": "2022-06-29T18:53:47.893Z"
   },
   {
    "duration": 38,
    "start_time": "2022-06-29T18:53:47.916Z"
   },
   {
    "duration": 14,
    "start_time": "2022-06-29T18:53:47.955Z"
   },
   {
    "duration": 8,
    "start_time": "2022-06-29T18:53:47.970Z"
   },
   {
    "duration": 11,
    "start_time": "2022-06-29T18:53:47.980Z"
   },
   {
    "duration": 199,
    "start_time": "2022-06-29T18:53:47.992Z"
   },
   {
    "duration": 57,
    "start_time": "2022-06-29T18:53:48.194Z"
   },
   {
    "duration": 104,
    "start_time": "2022-06-29T18:53:48.252Z"
   },
   {
    "duration": 2,
    "start_time": "2022-06-29T18:53:48.358Z"
   },
   {
    "duration": 9,
    "start_time": "2022-06-29T18:53:48.362Z"
   },
   {
    "duration": 6,
    "start_time": "2022-06-29T18:53:48.373Z"
   },
   {
    "duration": 7,
    "start_time": "2022-06-29T18:53:48.381Z"
   },
   {
    "duration": 6,
    "start_time": "2022-06-29T18:53:48.390Z"
   },
   {
    "duration": 55,
    "start_time": "2022-06-29T18:53:48.398Z"
   },
   {
    "duration": 14,
    "start_time": "2022-06-29T18:53:48.454Z"
   },
   {
    "duration": 8,
    "start_time": "2022-06-29T18:53:48.469Z"
   },
   {
    "duration": 3,
    "start_time": "2022-06-29T18:53:48.479Z"
   },
   {
    "duration": 4,
    "start_time": "2022-06-29T18:53:48.483Z"
   },
   {
    "duration": 5,
    "start_time": "2022-06-29T18:53:48.489Z"
   },
   {
    "duration": 62,
    "start_time": "2022-06-29T18:53:48.495Z"
   },
   {
    "duration": 3,
    "start_time": "2022-06-29T18:53:48.559Z"
   },
   {
    "duration": 6,
    "start_time": "2022-06-29T18:53:48.564Z"
   },
   {
    "duration": 6,
    "start_time": "2022-06-29T18:53:48.572Z"
   },
   {
    "duration": 5,
    "start_time": "2022-06-29T18:53:48.579Z"
   },
   {
    "duration": 9,
    "start_time": "2022-06-29T18:53:48.585Z"
   },
   {
    "duration": 64,
    "start_time": "2022-06-29T18:53:48.595Z"
   },
   {
    "duration": 12,
    "start_time": "2022-06-29T18:53:48.661Z"
   },
   {
    "duration": 16,
    "start_time": "2022-06-29T18:53:48.675Z"
   },
   {
    "duration": 15406,
    "start_time": "2022-06-29T18:53:48.692Z"
   },
   {
    "duration": 4,
    "start_time": "2022-06-29T18:54:04.099Z"
   },
   {
    "duration": 12,
    "start_time": "2022-06-29T18:54:04.104Z"
   },
   {
    "duration": 10,
    "start_time": "2022-06-29T18:54:04.117Z"
   },
   {
    "duration": 30,
    "start_time": "2022-06-29T18:54:04.128Z"
   },
   {
    "duration": 152,
    "start_time": "2022-06-29T18:54:04.161Z"
   },
   {
    "duration": 7,
    "start_time": "2022-06-29T18:54:04.314Z"
   },
   {
    "duration": 6,
    "start_time": "2022-06-29T18:54:04.323Z"
   },
   {
    "duration": 5,
    "start_time": "2022-06-29T18:54:04.330Z"
   },
   {
    "duration": 23,
    "start_time": "2022-06-29T18:54:04.336Z"
   },
   {
    "duration": 4,
    "start_time": "2022-06-29T18:54:04.361Z"
   },
   {
    "duration": 8,
    "start_time": "2022-06-29T18:54:04.366Z"
   },
   {
    "duration": 167,
    "start_time": "2022-06-29T18:54:04.377Z"
   },
   {
    "duration": 123,
    "start_time": "2022-06-29T18:54:04.547Z"
   },
   {
    "duration": 13,
    "start_time": "2022-06-29T18:54:04.672Z"
   },
   {
    "duration": 131,
    "start_time": "2022-06-29T18:54:04.687Z"
   },
   {
    "duration": 180,
    "start_time": "2022-06-29T18:54:04.820Z"
   },
   {
    "duration": 27,
    "start_time": "2022-06-29T18:54:05.002Z"
   },
   {
    "duration": 203,
    "start_time": "2022-06-29T18:54:05.031Z"
   },
   {
    "duration": 4,
    "start_time": "2022-06-29T18:54:05.235Z"
   },
   {
    "duration": 139,
    "start_time": "2022-06-29T18:54:05.241Z"
   },
   {
    "duration": 99,
    "start_time": "2022-06-29T18:54:05.381Z"
   },
   {
    "duration": 13,
    "start_time": "2022-06-29T18:54:05.482Z"
   },
   {
    "duration": 13,
    "start_time": "2022-06-29T18:54:05.496Z"
   },
   {
    "duration": 121,
    "start_time": "2022-06-29T18:54:05.511Z"
   },
   {
    "duration": 8,
    "start_time": "2022-06-29T18:54:05.634Z"
   },
   {
    "duration": 7,
    "start_time": "2022-06-29T18:54:05.650Z"
   },
   {
    "duration": 194,
    "start_time": "2022-06-29T18:54:05.658Z"
   },
   {
    "duration": 199,
    "start_time": "2022-06-29T18:54:05.854Z"
   },
   {
    "duration": 451,
    "start_time": "2022-06-29T18:54:06.054Z"
   },
   {
    "duration": 441,
    "start_time": "2022-06-29T18:54:06.507Z"
   },
   {
    "duration": 138,
    "start_time": "2022-06-29T18:54:06.950Z"
   },
   {
    "duration": 22,
    "start_time": "2022-06-29T18:54:07.089Z"
   },
   {
    "duration": 5,
    "start_time": "2022-06-29T18:54:07.112Z"
   },
   {
    "duration": 9,
    "start_time": "2022-06-29T18:54:07.118Z"
   },
   {
    "duration": 23,
    "start_time": "2022-06-29T18:54:07.128Z"
   },
   {
    "duration": 2,
    "start_time": "2022-06-29T19:02:13.052Z"
   },
   {
    "duration": 6,
    "start_time": "2022-06-29T19:13:28.780Z"
   },
   {
    "duration": 8,
    "start_time": "2022-06-29T19:14:53.604Z"
   },
   {
    "duration": 57,
    "start_time": "2022-06-29T19:15:24.337Z"
   },
   {
    "duration": 1055,
    "start_time": "2022-06-29T20:16:57.864Z"
   },
   {
    "duration": 370,
    "start_time": "2022-06-29T20:16:58.920Z"
   },
   {
    "duration": 13,
    "start_time": "2022-06-29T20:16:59.291Z"
   },
   {
    "duration": 10,
    "start_time": "2022-06-29T20:16:59.306Z"
   },
   {
    "duration": 8,
    "start_time": "2022-06-29T20:16:59.318Z"
   },
   {
    "duration": 8,
    "start_time": "2022-06-29T20:16:59.327Z"
   },
   {
    "duration": 26,
    "start_time": "2022-06-29T20:16:59.336Z"
   },
   {
    "duration": 22,
    "start_time": "2022-06-29T20:16:59.364Z"
   },
   {
    "duration": 16,
    "start_time": "2022-06-29T20:16:59.388Z"
   },
   {
    "duration": 16,
    "start_time": "2022-06-29T20:16:59.406Z"
   },
   {
    "duration": 8,
    "start_time": "2022-06-29T20:16:59.424Z"
   },
   {
    "duration": 25,
    "start_time": "2022-06-29T20:16:59.434Z"
   },
   {
    "duration": 122,
    "start_time": "2022-06-29T20:16:59.462Z"
   },
   {
    "duration": 4,
    "start_time": "2022-06-29T20:16:59.587Z"
   },
   {
    "duration": 66,
    "start_time": "2022-06-29T20:16:59.593Z"
   },
   {
    "duration": 8,
    "start_time": "2022-06-29T20:16:59.661Z"
   },
   {
    "duration": 10,
    "start_time": "2022-06-29T20:16:59.671Z"
   },
   {
    "duration": 7,
    "start_time": "2022-06-29T20:16:59.683Z"
   },
   {
    "duration": 8,
    "start_time": "2022-06-29T20:16:59.692Z"
   },
   {
    "duration": 4,
    "start_time": "2022-06-29T20:16:59.702Z"
   },
   {
    "duration": 4,
    "start_time": "2022-06-29T20:16:59.708Z"
   },
   {
    "duration": 14,
    "start_time": "2022-06-29T20:16:59.713Z"
   },
   {
    "duration": 31,
    "start_time": "2022-06-29T20:16:59.728Z"
   },
   {
    "duration": 6,
    "start_time": "2022-06-29T20:16:59.760Z"
   },
   {
    "duration": 6,
    "start_time": "2022-06-29T20:16:59.767Z"
   },
   {
    "duration": 5,
    "start_time": "2022-06-29T20:16:59.774Z"
   },
   {
    "duration": 28,
    "start_time": "2022-06-29T20:16:59.780Z"
   },
   {
    "duration": 9,
    "start_time": "2022-06-29T20:16:59.809Z"
   },
   {
    "duration": 8,
    "start_time": "2022-06-29T20:16:59.819Z"
   },
   {
    "duration": 8,
    "start_time": "2022-06-29T20:16:59.829Z"
   },
   {
    "duration": 17,
    "start_time": "2022-06-29T20:16:59.838Z"
   },
   {
    "duration": 10,
    "start_time": "2022-06-29T20:16:59.857Z"
   },
   {
    "duration": 14,
    "start_time": "2022-06-29T20:16:59.869Z"
   },
   {
    "duration": 10,
    "start_time": "2022-06-29T20:16:59.885Z"
   },
   {
    "duration": 7,
    "start_time": "2022-06-29T20:16:59.896Z"
   },
   {
    "duration": 8,
    "start_time": "2022-06-29T20:16:59.904Z"
   },
   {
    "duration": 0,
    "start_time": "2022-06-29T20:19:23.999Z"
   },
   {
    "duration": 280,
    "start_time": "2022-06-29T20:23:44.397Z"
   },
   {
    "duration": 318,
    "start_time": "2022-06-29T20:23:55.263Z"
   },
   {
    "duration": 179,
    "start_time": "2022-06-29T20:24:25.662Z"
   },
   {
    "duration": 125,
    "start_time": "2022-06-29T20:26:49.480Z"
   },
   {
    "duration": 11,
    "start_time": "2022-06-29T20:27:37.721Z"
   },
   {
    "duration": 121,
    "start_time": "2022-06-29T20:27:46.677Z"
   },
   {
    "duration": 22,
    "start_time": "2022-06-29T20:28:02.722Z"
   },
   {
    "duration": 26,
    "start_time": "2022-06-29T20:28:10.219Z"
   },
   {
    "duration": 114,
    "start_time": "2022-06-29T20:28:22.429Z"
   },
   {
    "duration": 117,
    "start_time": "2022-06-29T20:28:31.471Z"
   },
   {
    "duration": 233,
    "start_time": "2022-06-29T20:31:37.908Z"
   },
   {
    "duration": 280,
    "start_time": "2022-06-29T20:32:19.145Z"
   },
   {
    "duration": 285,
    "start_time": "2022-06-29T20:32:39.923Z"
   },
   {
    "duration": 206,
    "start_time": "2022-06-29T20:32:59.713Z"
   },
   {
    "duration": 225,
    "start_time": "2022-06-29T20:33:13.821Z"
   },
   {
    "duration": 242,
    "start_time": "2022-06-29T20:33:54.784Z"
   },
   {
    "duration": 238,
    "start_time": "2022-06-29T20:34:24.693Z"
   },
   {
    "duration": 222,
    "start_time": "2022-06-29T20:35:16.093Z"
   },
   {
    "duration": 205,
    "start_time": "2022-06-29T20:35:42.173Z"
   },
   {
    "duration": 181,
    "start_time": "2022-06-29T20:35:48.499Z"
   },
   {
    "duration": 251,
    "start_time": "2022-06-29T20:36:01.737Z"
   },
   {
    "duration": 1095,
    "start_time": "2022-06-29T21:01:05.106Z"
   },
   {
    "duration": 405,
    "start_time": "2022-06-29T21:01:06.204Z"
   },
   {
    "duration": 11,
    "start_time": "2022-06-29T21:01:06.610Z"
   },
   {
    "duration": 7,
    "start_time": "2022-06-29T21:01:06.622Z"
   },
   {
    "duration": 7,
    "start_time": "2022-06-29T21:01:06.630Z"
   },
   {
    "duration": 8,
    "start_time": "2022-06-29T21:01:06.638Z"
   },
   {
    "duration": 24,
    "start_time": "2022-06-29T21:01:06.647Z"
   },
   {
    "duration": 46,
    "start_time": "2022-06-29T21:01:06.672Z"
   },
   {
    "duration": 18,
    "start_time": "2022-06-29T21:01:06.719Z"
   },
   {
    "duration": 16,
    "start_time": "2022-06-29T21:01:06.739Z"
   },
   {
    "duration": 50,
    "start_time": "2022-06-29T21:01:06.756Z"
   },
   {
    "duration": 13,
    "start_time": "2022-06-29T21:01:06.808Z"
   },
   {
    "duration": 116,
    "start_time": "2022-06-29T21:01:06.824Z"
   },
   {
    "duration": 4,
    "start_time": "2022-06-29T21:01:06.942Z"
   },
   {
    "duration": 64,
    "start_time": "2022-06-29T21:01:06.947Z"
   },
   {
    "duration": 3,
    "start_time": "2022-06-29T21:01:07.012Z"
   },
   {
    "duration": 9,
    "start_time": "2022-06-29T21:01:07.016Z"
   },
   {
    "duration": 27,
    "start_time": "2022-06-29T21:01:07.026Z"
   },
   {
    "duration": 48,
    "start_time": "2022-06-29T21:01:07.054Z"
   },
   {
    "duration": 5,
    "start_time": "2022-06-29T21:01:07.103Z"
   },
   {
    "duration": 5,
    "start_time": "2022-06-29T21:01:07.109Z"
   },
   {
    "duration": 14,
    "start_time": "2022-06-29T21:01:07.115Z"
   },
   {
    "duration": 9,
    "start_time": "2022-06-29T21:01:07.131Z"
   },
   {
    "duration": 4,
    "start_time": "2022-06-29T21:01:07.141Z"
   },
   {
    "duration": 11,
    "start_time": "2022-06-29T21:01:07.147Z"
   },
   {
    "duration": 44,
    "start_time": "2022-06-29T21:01:07.160Z"
   },
   {
    "duration": 13,
    "start_time": "2022-06-29T21:01:07.206Z"
   },
   {
    "duration": 5,
    "start_time": "2022-06-29T21:01:07.220Z"
   },
   {
    "duration": 9,
    "start_time": "2022-06-29T21:01:07.226Z"
   },
   {
    "duration": 5,
    "start_time": "2022-06-29T21:01:07.237Z"
   },
   {
    "duration": 5,
    "start_time": "2022-06-29T21:01:07.243Z"
   },
   {
    "duration": 57,
    "start_time": "2022-06-29T21:01:07.249Z"
   },
   {
    "duration": 16,
    "start_time": "2022-06-29T21:01:07.308Z"
   },
   {
    "duration": 9,
    "start_time": "2022-06-29T21:01:07.325Z"
   },
   {
    "duration": 11,
    "start_time": "2022-06-29T21:01:07.335Z"
   },
   {
    "duration": 58,
    "start_time": "2022-06-29T21:01:07.347Z"
   },
   {
    "duration": 269,
    "start_time": "2022-06-29T21:01:07.407Z"
   },
   {
    "duration": 7,
    "start_time": "2022-06-29T21:01:09.609Z"
   },
   {
    "duration": 6,
    "start_time": "2022-06-29T21:01:16.312Z"
   },
   {
    "duration": 8,
    "start_time": "2022-06-29T21:01:52.401Z"
   },
   {
    "duration": 7,
    "start_time": "2022-06-29T21:01:57.921Z"
   },
   {
    "duration": 8,
    "start_time": "2022-06-29T21:02:38.663Z"
   },
   {
    "duration": 6,
    "start_time": "2022-06-29T21:02:43.370Z"
   },
   {
    "duration": 7,
    "start_time": "2022-06-29T21:02:56.068Z"
   },
   {
    "duration": 1125,
    "start_time": "2022-06-29T21:17:33.979Z"
   },
   {
    "duration": 370,
    "start_time": "2022-06-29T21:17:35.106Z"
   },
   {
    "duration": 10,
    "start_time": "2022-06-29T21:17:35.478Z"
   },
   {
    "duration": 11,
    "start_time": "2022-06-29T21:17:35.490Z"
   },
   {
    "duration": 12,
    "start_time": "2022-06-29T21:17:35.503Z"
   },
   {
    "duration": 10,
    "start_time": "2022-06-29T21:17:35.517Z"
   },
   {
    "duration": 11,
    "start_time": "2022-06-29T21:17:35.529Z"
   },
   {
    "duration": 30,
    "start_time": "2022-06-29T21:17:35.542Z"
   },
   {
    "duration": 19,
    "start_time": "2022-06-29T21:17:35.573Z"
   },
   {
    "duration": 13,
    "start_time": "2022-06-29T21:17:35.593Z"
   },
   {
    "duration": 11,
    "start_time": "2022-06-29T21:17:35.607Z"
   },
   {
    "duration": 10,
    "start_time": "2022-06-29T21:17:35.619Z"
   },
   {
    "duration": 118,
    "start_time": "2022-06-29T21:17:35.630Z"
   },
   {
    "duration": 7,
    "start_time": "2022-06-29T21:17:35.753Z"
   },
   {
    "duration": 79,
    "start_time": "2022-06-29T21:17:35.762Z"
   },
   {
    "duration": 4,
    "start_time": "2022-06-29T21:17:35.844Z"
   },
   {
    "duration": 36,
    "start_time": "2022-06-29T21:17:35.849Z"
   },
   {
    "duration": 9,
    "start_time": "2022-06-29T21:17:35.886Z"
   },
   {
    "duration": 9,
    "start_time": "2022-06-29T21:17:35.896Z"
   },
   {
    "duration": 4,
    "start_time": "2022-06-29T21:17:35.906Z"
   },
   {
    "duration": 6,
    "start_time": "2022-06-29T21:17:35.912Z"
   },
   {
    "duration": 13,
    "start_time": "2022-06-29T21:17:35.920Z"
   },
   {
    "duration": 9,
    "start_time": "2022-06-29T21:17:35.934Z"
   },
   {
    "duration": 27,
    "start_time": "2022-06-29T21:17:35.944Z"
   },
   {
    "duration": 13,
    "start_time": "2022-06-29T21:17:35.972Z"
   },
   {
    "duration": 4,
    "start_time": "2022-06-29T21:17:35.986Z"
   },
   {
    "duration": 13,
    "start_time": "2022-06-29T21:17:35.991Z"
   },
   {
    "duration": 9,
    "start_time": "2022-06-29T21:17:36.005Z"
   },
   {
    "duration": 8,
    "start_time": "2022-06-29T21:17:36.015Z"
   },
   {
    "duration": 6,
    "start_time": "2022-06-29T21:17:36.024Z"
   },
   {
    "duration": 6,
    "start_time": "2022-06-29T21:17:36.031Z"
   },
   {
    "duration": 14,
    "start_time": "2022-06-29T21:17:36.039Z"
   },
   {
    "duration": 33,
    "start_time": "2022-06-29T21:17:36.056Z"
   },
   {
    "duration": 8,
    "start_time": "2022-06-29T21:17:36.090Z"
   },
   {
    "duration": 6,
    "start_time": "2022-06-29T21:17:36.100Z"
   },
   {
    "duration": 8,
    "start_time": "2022-06-29T21:17:36.107Z"
   },
   {
    "duration": 207,
    "start_time": "2022-06-29T21:17:36.116Z"
   },
   {
    "duration": 11,
    "start_time": "2022-06-29T21:17:36.324Z"
   },
   {
    "duration": 16278,
    "start_time": "2022-06-29T21:17:36.337Z"
   },
   {
    "duration": 3,
    "start_time": "2022-06-29T21:17:52.617Z"
   },
   {
    "duration": 14,
    "start_time": "2022-06-29T21:17:52.623Z"
   },
   {
    "duration": 30,
    "start_time": "2022-06-29T21:17:52.639Z"
   },
   {
    "duration": 11,
    "start_time": "2022-06-29T21:17:52.677Z"
   },
   {
    "duration": 144,
    "start_time": "2022-06-29T21:17:52.690Z"
   },
   {
    "duration": 20,
    "start_time": "2022-06-29T21:17:52.836Z"
   },
   {
    "duration": 6,
    "start_time": "2022-06-29T21:17:52.863Z"
   },
   {
    "duration": 14,
    "start_time": "2022-06-29T21:17:52.870Z"
   },
   {
    "duration": 74,
    "start_time": "2022-06-29T21:17:52.885Z"
   },
   {
    "duration": 7,
    "start_time": "2022-06-29T21:17:52.962Z"
   },
   {
    "duration": 13,
    "start_time": "2022-06-29T21:17:52.973Z"
   },
   {
    "duration": 120,
    "start_time": "2022-06-29T21:17:52.988Z"
   },
   {
    "duration": 123,
    "start_time": "2022-06-29T21:17:53.109Z"
   },
   {
    "duration": 29,
    "start_time": "2022-06-29T21:17:53.233Z"
   },
   {
    "duration": 133,
    "start_time": "2022-06-29T21:17:53.270Z"
   },
   {
    "duration": 143,
    "start_time": "2022-06-29T21:17:53.404Z"
   },
   {
    "duration": 29,
    "start_time": "2022-06-29T21:17:53.550Z"
   },
   {
    "duration": 206,
    "start_time": "2022-06-29T21:17:53.585Z"
   },
   {
    "duration": 4,
    "start_time": "2022-06-29T21:17:53.793Z"
   },
   {
    "duration": 185,
    "start_time": "2022-06-29T21:17:53.799Z"
   },
   {
    "duration": 143,
    "start_time": "2022-06-29T21:17:53.986Z"
   },
   {
    "duration": 8,
    "start_time": "2022-06-29T21:17:54.132Z"
   },
   {
    "duration": 9,
    "start_time": "2022-06-29T21:17:54.142Z"
   },
   {
    "duration": 203,
    "start_time": "2022-06-29T21:17:54.159Z"
   },
   {
    "duration": 18,
    "start_time": "2022-06-29T21:17:54.372Z"
   },
   {
    "duration": 18,
    "start_time": "2022-06-29T21:17:54.392Z"
   },
   {
    "duration": 290,
    "start_time": "2022-06-29T21:17:54.412Z"
   },
   {
    "duration": 282,
    "start_time": "2022-06-29T21:17:54.704Z"
   },
   {
    "duration": 607,
    "start_time": "2022-06-29T21:17:54.988Z"
   },
   {
    "duration": 673,
    "start_time": "2022-06-29T21:17:55.597Z"
   },
   {
    "duration": 64,
    "start_time": "2022-06-29T21:17:56.274Z"
   },
   {
    "duration": 34,
    "start_time": "2022-06-29T21:17:56.340Z"
   },
   {
    "duration": 7,
    "start_time": "2022-06-29T21:17:56.378Z"
   },
   {
    "duration": 11,
    "start_time": "2022-06-29T21:17:56.386Z"
   },
   {
    "duration": 11,
    "start_time": "2022-06-29T21:17:56.398Z"
   },
   {
    "duration": 94,
    "start_time": "2022-06-29T21:32:41.784Z"
   },
   {
    "duration": 4,
    "start_time": "2022-06-29T21:33:43.516Z"
   },
   {
    "duration": 9,
    "start_time": "2022-06-29T21:33:49.672Z"
   },
   {
    "duration": 8,
    "start_time": "2022-06-29T21:34:20.902Z"
   },
   {
    "duration": 3,
    "start_time": "2022-06-29T21:34:37.310Z"
   },
   {
    "duration": 9,
    "start_time": "2022-06-29T21:34:41.075Z"
   },
   {
    "duration": 3,
    "start_time": "2022-06-29T21:35:38.805Z"
   },
   {
    "duration": 14,
    "start_time": "2022-06-29T21:35:45.776Z"
   },
   {
    "duration": 10,
    "start_time": "2022-06-29T21:35:55.082Z"
   },
   {
    "duration": 10,
    "start_time": "2022-06-29T21:36:31.896Z"
   },
   {
    "duration": 10,
    "start_time": "2022-06-29T21:36:46.506Z"
   },
   {
    "duration": 9,
    "start_time": "2022-06-29T21:37:07.685Z"
   },
   {
    "duration": 3,
    "start_time": "2022-06-29T21:38:00.974Z"
   },
   {
    "duration": 8,
    "start_time": "2022-06-29T21:38:23.587Z"
   },
   {
    "duration": 4,
    "start_time": "2022-06-29T21:38:40.170Z"
   },
   {
    "duration": 51,
    "start_time": "2022-06-29T21:39:13.693Z"
   },
   {
    "duration": 8,
    "start_time": "2022-06-29T21:39:16.788Z"
   },
   {
    "duration": 3,
    "start_time": "2022-06-29T21:39:21.629Z"
   },
   {
    "duration": 8,
    "start_time": "2022-06-29T21:39:34.630Z"
   },
   {
    "duration": 4,
    "start_time": "2022-06-29T21:39:42.911Z"
   },
   {
    "duration": 9,
    "start_time": "2022-06-29T21:40:36.173Z"
   },
   {
    "duration": 9,
    "start_time": "2022-06-29T21:40:44.414Z"
   },
   {
    "duration": 8,
    "start_time": "2022-06-29T21:40:58.541Z"
   },
   {
    "duration": 3,
    "start_time": "2022-06-29T21:41:04.975Z"
   },
   {
    "duration": 970,
    "start_time": "2022-06-29T21:41:45.842Z"
   },
   {
    "duration": 8,
    "start_time": "2022-06-29T21:43:20.411Z"
   },
   {
    "duration": 3,
    "start_time": "2022-06-29T21:43:38.221Z"
   },
   {
    "duration": 1237,
    "start_time": "2022-06-30T10:43:57.175Z"
   },
   {
    "duration": 1375,
    "start_time": "2022-06-30T10:43:58.415Z"
   },
   {
    "duration": 13,
    "start_time": "2022-06-30T10:43:59.792Z"
   },
   {
    "duration": 21,
    "start_time": "2022-06-30T10:43:59.807Z"
   },
   {
    "duration": 21,
    "start_time": "2022-06-30T10:43:59.830Z"
   },
   {
    "duration": 10,
    "start_time": "2022-06-30T10:43:59.852Z"
   },
   {
    "duration": 10,
    "start_time": "2022-06-30T10:43:59.864Z"
   },
   {
    "duration": 25,
    "start_time": "2022-06-30T10:43:59.876Z"
   },
   {
    "duration": 36,
    "start_time": "2022-06-30T10:43:59.902Z"
   },
   {
    "duration": 25,
    "start_time": "2022-06-30T10:43:59.940Z"
   },
   {
    "duration": 9,
    "start_time": "2022-06-30T10:43:59.966Z"
   },
   {
    "duration": 12,
    "start_time": "2022-06-30T10:43:59.977Z"
   },
   {
    "duration": 148,
    "start_time": "2022-06-30T10:43:59.990Z"
   },
   {
    "duration": 5,
    "start_time": "2022-06-30T10:44:00.141Z"
   },
   {
    "duration": 61,
    "start_time": "2022-06-30T10:44:00.148Z"
   },
   {
    "duration": 3,
    "start_time": "2022-06-30T10:44:00.210Z"
   },
   {
    "duration": 14,
    "start_time": "2022-06-30T10:44:00.225Z"
   },
   {
    "duration": 13,
    "start_time": "2022-06-30T10:44:00.240Z"
   },
   {
    "duration": 14,
    "start_time": "2022-06-30T10:44:00.255Z"
   },
   {
    "duration": 38,
    "start_time": "2022-06-30T10:44:00.271Z"
   },
   {
    "duration": 7,
    "start_time": "2022-06-30T10:44:00.311Z"
   },
   {
    "duration": 22,
    "start_time": "2022-06-30T10:44:00.320Z"
   },
   {
    "duration": 12,
    "start_time": "2022-06-30T10:44:00.344Z"
   },
   {
    "duration": 11,
    "start_time": "2022-06-30T10:44:00.358Z"
   },
   {
    "duration": 22,
    "start_time": "2022-06-30T10:44:00.371Z"
   },
   {
    "duration": 6,
    "start_time": "2022-06-30T10:44:00.395Z"
   },
   {
    "duration": 19,
    "start_time": "2022-06-30T10:44:00.403Z"
   },
   {
    "duration": 9,
    "start_time": "2022-06-30T10:44:00.424Z"
   },
   {
    "duration": 12,
    "start_time": "2022-06-30T10:44:00.435Z"
   },
   {
    "duration": 7,
    "start_time": "2022-06-30T10:44:00.448Z"
   },
   {
    "duration": 12,
    "start_time": "2022-06-30T10:44:00.456Z"
   },
   {
    "duration": 16,
    "start_time": "2022-06-30T10:44:00.470Z"
   },
   {
    "duration": 22,
    "start_time": "2022-06-30T10:44:00.488Z"
   },
   {
    "duration": 25,
    "start_time": "2022-06-30T10:44:00.512Z"
   },
   {
    "duration": 10,
    "start_time": "2022-06-30T10:44:00.538Z"
   },
   {
    "duration": 16,
    "start_time": "2022-06-30T10:44:00.550Z"
   },
   {
    "duration": 246,
    "start_time": "2022-06-30T10:44:00.568Z"
   },
   {
    "duration": 13,
    "start_time": "2022-06-30T10:44:00.816Z"
   },
   {
    "duration": 17282,
    "start_time": "2022-06-30T10:44:00.831Z"
   },
   {
    "duration": 11,
    "start_time": "2022-06-30T10:44:18.115Z"
   },
   {
    "duration": 11,
    "start_time": "2022-06-30T10:44:18.129Z"
   },
   {
    "duration": 16,
    "start_time": "2022-06-30T10:44:18.142Z"
   },
   {
    "duration": 14,
    "start_time": "2022-06-30T10:44:18.159Z"
   },
   {
    "duration": 178,
    "start_time": "2022-06-30T10:44:18.174Z"
   },
   {
    "duration": 7,
    "start_time": "2022-06-30T10:44:18.354Z"
   },
   {
    "duration": 7,
    "start_time": "2022-06-30T10:44:18.362Z"
   },
   {
    "duration": 7,
    "start_time": "2022-06-30T10:44:18.370Z"
   },
   {
    "duration": 96,
    "start_time": "2022-06-30T10:44:18.378Z"
   },
   {
    "duration": 5,
    "start_time": "2022-06-30T10:44:18.476Z"
   },
   {
    "duration": 7,
    "start_time": "2022-06-30T10:44:18.482Z"
   },
   {
    "duration": 216,
    "start_time": "2022-06-30T10:44:18.490Z"
   },
   {
    "duration": 184,
    "start_time": "2022-06-30T10:44:18.708Z"
   },
   {
    "duration": 21,
    "start_time": "2022-06-30T10:44:18.894Z"
   },
   {
    "duration": 166,
    "start_time": "2022-06-30T10:44:18.917Z"
   },
   {
    "duration": 190,
    "start_time": "2022-06-30T10:44:19.085Z"
   },
   {
    "duration": 28,
    "start_time": "2022-06-30T10:44:19.277Z"
   },
   {
    "duration": 228,
    "start_time": "2022-06-30T10:44:19.307Z"
   },
   {
    "duration": 4,
    "start_time": "2022-06-30T10:44:23.314Z"
   },
   {
    "duration": 3,
    "start_time": "2022-06-30T10:44:29.901Z"
   },
   {
    "duration": 3,
    "start_time": "2022-06-30T10:44:49.631Z"
   },
   {
    "duration": 3,
    "start_time": "2022-06-30T10:45:35.336Z"
   },
   {
    "duration": 17,
    "start_time": "2022-06-30T10:49:46.573Z"
   },
   {
    "duration": 6,
    "start_time": "2022-06-30T10:51:38.203Z"
   },
   {
    "duration": 6,
    "start_time": "2022-06-30T10:51:46.344Z"
   },
   {
    "duration": 6,
    "start_time": "2022-06-30T10:51:57.119Z"
   },
   {
    "duration": 32,
    "start_time": "2022-06-30T10:52:07.480Z"
   },
   {
    "duration": 29,
    "start_time": "2022-06-30T10:52:19.049Z"
   },
   {
    "duration": 4,
    "start_time": "2022-06-30T10:54:53.972Z"
   },
   {
    "duration": 127,
    "start_time": "2022-06-30T10:55:05.022Z"
   },
   {
    "duration": 5,
    "start_time": "2022-06-30T10:56:43.232Z"
   },
   {
    "duration": 28,
    "start_time": "2022-06-30T10:56:43.848Z"
   },
   {
    "duration": 5,
    "start_time": "2022-06-30T10:57:21.265Z"
   },
   {
    "duration": 29,
    "start_time": "2022-06-30T10:57:21.789Z"
   },
   {
    "duration": 4,
    "start_time": "2022-06-30T11:00:41.303Z"
   },
   {
    "duration": 28,
    "start_time": "2022-06-30T11:00:41.851Z"
   },
   {
    "duration": 4,
    "start_time": "2022-06-30T11:01:16.410Z"
   },
   {
    "duration": 125,
    "start_time": "2022-06-30T11:01:16.875Z"
   },
   {
    "duration": 5,
    "start_time": "2022-06-30T11:01:58.843Z"
   },
   {
    "duration": 104,
    "start_time": "2022-06-30T11:01:59.283Z"
   },
   {
    "duration": 5,
    "start_time": "2022-06-30T11:02:40.946Z"
   },
   {
    "duration": 17,
    "start_time": "2022-06-30T11:02:56.001Z"
   },
   {
    "duration": 5,
    "start_time": "2022-06-30T11:02:56.456Z"
   },
   {
    "duration": 35,
    "start_time": "2022-06-30T11:02:57.805Z"
   },
   {
    "duration": 4,
    "start_time": "2022-06-30T11:03:49.121Z"
   },
   {
    "duration": 4,
    "start_time": "2022-06-30T11:03:49.633Z"
   },
   {
    "duration": 19,
    "start_time": "2022-06-30T11:03:50.052Z"
   },
   {
    "duration": 13,
    "start_time": "2022-06-30T11:04:05.173Z"
   },
   {
    "duration": 1141,
    "start_time": "2022-06-30T11:04:33.872Z"
   },
   {
    "duration": 431,
    "start_time": "2022-06-30T11:04:35.015Z"
   },
   {
    "duration": 19,
    "start_time": "2022-06-30T11:04:35.448Z"
   },
   {
    "duration": 11,
    "start_time": "2022-06-30T11:04:35.470Z"
   },
   {
    "duration": 13,
    "start_time": "2022-06-30T11:04:35.483Z"
   },
   {
    "duration": 9,
    "start_time": "2022-06-30T11:04:35.498Z"
   },
   {
    "duration": 22,
    "start_time": "2022-06-30T11:04:35.510Z"
   },
   {
    "duration": 25,
    "start_time": "2022-06-30T11:04:35.533Z"
   },
   {
    "duration": 20,
    "start_time": "2022-06-30T11:04:35.560Z"
   },
   {
    "duration": 17,
    "start_time": "2022-06-30T11:04:35.582Z"
   },
   {
    "duration": 12,
    "start_time": "2022-06-30T11:04:35.626Z"
   },
   {
    "duration": 18,
    "start_time": "2022-06-30T11:04:35.640Z"
   },
   {
    "duration": 141,
    "start_time": "2022-06-30T11:04:35.660Z"
   },
   {
    "duration": 6,
    "start_time": "2022-06-30T11:04:35.804Z"
   },
   {
    "duration": 57,
    "start_time": "2022-06-30T11:04:35.812Z"
   },
   {
    "duration": 3,
    "start_time": "2022-06-30T11:04:35.871Z"
   },
   {
    "duration": 14,
    "start_time": "2022-06-30T11:04:35.876Z"
   },
   {
    "duration": 9,
    "start_time": "2022-06-30T11:04:35.891Z"
   },
   {
    "duration": 26,
    "start_time": "2022-06-30T11:04:35.902Z"
   },
   {
    "duration": 7,
    "start_time": "2022-06-30T11:04:35.931Z"
   },
   {
    "duration": 4,
    "start_time": "2022-06-30T11:04:35.939Z"
   },
   {
    "duration": 15,
    "start_time": "2022-06-30T11:04:35.945Z"
   },
   {
    "duration": 11,
    "start_time": "2022-06-30T11:04:35.962Z"
   },
   {
    "duration": 5,
    "start_time": "2022-06-30T11:04:35.975Z"
   },
   {
    "duration": 8,
    "start_time": "2022-06-30T11:04:35.981Z"
   },
   {
    "duration": 37,
    "start_time": "2022-06-30T11:04:35.991Z"
   },
   {
    "duration": 18,
    "start_time": "2022-06-30T11:04:36.029Z"
   },
   {
    "duration": 5,
    "start_time": "2022-06-30T11:04:36.049Z"
   },
   {
    "duration": 8,
    "start_time": "2022-06-30T11:04:36.056Z"
   },
   {
    "duration": 7,
    "start_time": "2022-06-30T11:04:36.066Z"
   },
   {
    "duration": 8,
    "start_time": "2022-06-30T11:04:36.075Z"
   },
   {
    "duration": 41,
    "start_time": "2022-06-30T11:04:36.085Z"
   },
   {
    "duration": 16,
    "start_time": "2022-06-30T11:04:36.128Z"
   },
   {
    "duration": 14,
    "start_time": "2022-06-30T11:04:36.146Z"
   },
   {
    "duration": 10,
    "start_time": "2022-06-30T11:04:36.161Z"
   },
   {
    "duration": 12,
    "start_time": "2022-06-30T11:04:36.173Z"
   },
   {
    "duration": 273,
    "start_time": "2022-06-30T11:04:36.186Z"
   },
   {
    "duration": 15,
    "start_time": "2022-06-30T11:04:36.461Z"
   },
   {
    "duration": 18118,
    "start_time": "2022-06-30T11:04:36.479Z"
   },
   {
    "duration": 5,
    "start_time": "2022-06-30T11:04:54.599Z"
   },
   {
    "duration": 30,
    "start_time": "2022-06-30T11:04:54.609Z"
   },
   {
    "duration": 17,
    "start_time": "2022-06-30T11:04:54.641Z"
   },
   {
    "duration": 20,
    "start_time": "2022-06-30T11:04:54.660Z"
   },
   {
    "duration": 204,
    "start_time": "2022-06-30T11:04:54.682Z"
   },
   {
    "duration": 8,
    "start_time": "2022-06-30T11:04:54.888Z"
   },
   {
    "duration": 7,
    "start_time": "2022-06-30T11:04:54.899Z"
   },
   {
    "duration": 20,
    "start_time": "2022-06-30T11:04:54.908Z"
   },
   {
    "duration": 101,
    "start_time": "2022-06-30T11:04:54.930Z"
   },
   {
    "duration": 5,
    "start_time": "2022-06-30T11:04:55.033Z"
   },
   {
    "duration": 11,
    "start_time": "2022-06-30T11:04:55.040Z"
   },
   {
    "duration": 162,
    "start_time": "2022-06-30T11:04:55.053Z"
   },
   {
    "duration": 155,
    "start_time": "2022-06-30T11:04:55.217Z"
   },
   {
    "duration": 18,
    "start_time": "2022-06-30T11:04:55.374Z"
   },
   {
    "duration": 202,
    "start_time": "2022-06-30T11:04:55.393Z"
   },
   {
    "duration": 171,
    "start_time": "2022-06-30T11:04:55.597Z"
   },
   {
    "duration": 37,
    "start_time": "2022-06-30T11:04:55.770Z"
   },
   {
    "duration": 258,
    "start_time": "2022-06-30T11:04:55.809Z"
   },
   {
    "duration": 14,
    "start_time": "2022-06-30T11:04:56.069Z"
   },
   {
    "duration": 51,
    "start_time": "2022-06-30T11:04:56.086Z"
   },
   {
    "duration": 4,
    "start_time": "2022-06-30T11:06:28.199Z"
   },
   {
    "duration": 6,
    "start_time": "2022-06-30T11:06:43.871Z"
   },
   {
    "duration": 64,
    "start_time": "2022-06-30T11:10:57.346Z"
   },
   {
    "duration": 1255,
    "start_time": "2022-06-30T11:11:03.198Z"
   },
   {
    "duration": 433,
    "start_time": "2022-06-30T11:11:04.455Z"
   },
   {
    "duration": 13,
    "start_time": "2022-06-30T11:11:04.889Z"
   },
   {
    "duration": 10,
    "start_time": "2022-06-30T11:11:04.904Z"
   },
   {
    "duration": 13,
    "start_time": "2022-06-30T11:11:04.917Z"
   },
   {
    "duration": 17,
    "start_time": "2022-06-30T11:11:04.932Z"
   },
   {
    "duration": 14,
    "start_time": "2022-06-30T11:11:04.951Z"
   },
   {
    "duration": 32,
    "start_time": "2022-06-30T11:11:04.967Z"
   },
   {
    "duration": 42,
    "start_time": "2022-06-30T11:11:05.001Z"
   },
   {
    "duration": 27,
    "start_time": "2022-06-30T11:11:05.044Z"
   },
   {
    "duration": 10,
    "start_time": "2022-06-30T11:11:05.072Z"
   },
   {
    "duration": 12,
    "start_time": "2022-06-30T11:11:05.084Z"
   },
   {
    "duration": 149,
    "start_time": "2022-06-30T11:11:05.098Z"
   },
   {
    "duration": 6,
    "start_time": "2022-06-30T11:11:05.250Z"
   },
   {
    "duration": 67,
    "start_time": "2022-06-30T11:11:05.258Z"
   },
   {
    "duration": 3,
    "start_time": "2022-06-30T11:11:05.327Z"
   },
   {
    "duration": 11,
    "start_time": "2022-06-30T11:11:05.332Z"
   },
   {
    "duration": 10,
    "start_time": "2022-06-30T11:11:05.345Z"
   },
   {
    "duration": 10,
    "start_time": "2022-06-30T11:11:05.357Z"
   },
   {
    "duration": 5,
    "start_time": "2022-06-30T11:11:05.369Z"
   },
   {
    "duration": 6,
    "start_time": "2022-06-30T11:11:05.375Z"
   },
   {
    "duration": 42,
    "start_time": "2022-06-30T11:11:05.383Z"
   },
   {
    "duration": 11,
    "start_time": "2022-06-30T11:11:05.428Z"
   },
   {
    "duration": 10,
    "start_time": "2022-06-30T11:11:05.441Z"
   },
   {
    "duration": 9,
    "start_time": "2022-06-30T11:11:05.453Z"
   },
   {
    "duration": 4,
    "start_time": "2022-06-30T11:11:05.463Z"
   },
   {
    "duration": 18,
    "start_time": "2022-06-30T11:11:05.468Z"
   },
   {
    "duration": 8,
    "start_time": "2022-06-30T11:11:05.487Z"
   },
   {
    "duration": 31,
    "start_time": "2022-06-30T11:11:05.496Z"
   },
   {
    "duration": 11,
    "start_time": "2022-06-30T11:11:05.528Z"
   },
   {
    "duration": 6,
    "start_time": "2022-06-30T11:11:05.540Z"
   },
   {
    "duration": 13,
    "start_time": "2022-06-30T11:11:05.547Z"
   },
   {
    "duration": 15,
    "start_time": "2022-06-30T11:11:05.562Z"
   },
   {
    "duration": 9,
    "start_time": "2022-06-30T11:11:05.579Z"
   },
   {
    "duration": 41,
    "start_time": "2022-06-30T11:11:05.590Z"
   },
   {
    "duration": 10,
    "start_time": "2022-06-30T11:11:05.632Z"
   },
   {
    "duration": 248,
    "start_time": "2022-06-30T11:11:05.644Z"
   },
   {
    "duration": 12,
    "start_time": "2022-06-30T11:11:05.894Z"
   },
   {
    "duration": 17831,
    "start_time": "2022-06-30T11:11:05.908Z"
   },
   {
    "duration": 5,
    "start_time": "2022-06-30T11:11:23.741Z"
   },
   {
    "duration": 15,
    "start_time": "2022-06-30T11:11:23.751Z"
   },
   {
    "duration": 20,
    "start_time": "2022-06-30T11:11:23.769Z"
   },
   {
    "duration": 55,
    "start_time": "2022-06-30T11:11:23.792Z"
   },
   {
    "duration": 240,
    "start_time": "2022-06-30T11:11:23.849Z"
   },
   {
    "duration": 11,
    "start_time": "2022-06-30T11:11:24.091Z"
   },
   {
    "duration": 7,
    "start_time": "2022-06-30T11:11:24.104Z"
   },
   {
    "duration": 11,
    "start_time": "2022-06-30T11:11:24.114Z"
   },
   {
    "duration": 80,
    "start_time": "2022-06-30T11:11:24.128Z"
   },
   {
    "duration": 17,
    "start_time": "2022-06-30T11:11:24.209Z"
   },
   {
    "duration": 10,
    "start_time": "2022-06-30T11:11:24.227Z"
   },
   {
    "duration": 209,
    "start_time": "2022-06-30T11:11:24.239Z"
   },
   {
    "duration": 175,
    "start_time": "2022-06-30T11:11:24.450Z"
   },
   {
    "duration": 15,
    "start_time": "2022-06-30T11:11:24.627Z"
   },
   {
    "duration": 170,
    "start_time": "2022-06-30T11:11:24.643Z"
   },
   {
    "duration": 160,
    "start_time": "2022-06-30T11:11:24.815Z"
   },
   {
    "duration": 50,
    "start_time": "2022-06-30T11:11:24.977Z"
   },
   {
    "duration": 234,
    "start_time": "2022-06-30T11:11:25.028Z"
   },
   {
    "duration": 13,
    "start_time": "2022-06-30T11:11:25.264Z"
   },
   {
    "duration": 30,
    "start_time": "2022-06-30T11:11:25.278Z"
   },
   {
    "duration": 16,
    "start_time": "2022-06-30T11:11:25.310Z"
   },
   {
    "duration": 5,
    "start_time": "2022-06-30T11:11:47.226Z"
   },
   {
    "duration": 12,
    "start_time": "2022-06-30T11:11:59.552Z"
   },
   {
    "duration": 7,
    "start_time": "2022-06-30T11:12:18.399Z"
   },
   {
    "duration": 4,
    "start_time": "2022-06-30T11:12:35.069Z"
   },
   {
    "duration": 111,
    "start_time": "2022-06-30T11:12:35.550Z"
   },
   {
    "duration": 140,
    "start_time": "2022-06-30T11:12:56.791Z"
   },
   {
    "duration": 12,
    "start_time": "2022-06-30T11:13:13.529Z"
   },
   {
    "duration": 4,
    "start_time": "2022-06-30T11:15:16.177Z"
   },
   {
    "duration": 38,
    "start_time": "2022-06-30T11:15:29.605Z"
   },
   {
    "duration": 3,
    "start_time": "2022-06-30T11:16:00.539Z"
   },
   {
    "duration": 4,
    "start_time": "2022-06-30T11:16:33.198Z"
   },
   {
    "duration": 17,
    "start_time": "2022-06-30T11:19:25.787Z"
   },
   {
    "duration": 23,
    "start_time": "2022-06-30T11:19:34.726Z"
   },
   {
    "duration": 3,
    "start_time": "2022-06-30T11:26:28.203Z"
   },
   {
    "duration": 6,
    "start_time": "2022-06-30T11:26:28.696Z"
   },
   {
    "duration": 6,
    "start_time": "2022-06-30T11:26:29.095Z"
   },
   {
    "duration": 3,
    "start_time": "2022-06-30T11:26:29.631Z"
   },
   {
    "duration": 143,
    "start_time": "2022-06-30T11:26:30.096Z"
   },
   {
    "duration": 13,
    "start_time": "2022-06-30T11:26:30.557Z"
   },
   {
    "duration": 9,
    "start_time": "2022-06-30T11:29:29.234Z"
   },
   {
    "duration": 131,
    "start_time": "2022-06-30T11:36:32.965Z"
   },
   {
    "duration": 179,
    "start_time": "2022-06-30T11:36:53.911Z"
   },
   {
    "duration": 260,
    "start_time": "2022-06-30T11:37:15.665Z"
   },
   {
    "duration": 6,
    "start_time": "2022-06-30T11:37:48.929Z"
   },
   {
    "duration": 290,
    "start_time": "2022-06-30T11:38:48.726Z"
   },
   {
    "duration": 244,
    "start_time": "2022-06-30T11:39:05.455Z"
   },
   {
    "duration": 13,
    "start_time": "2022-06-30T11:40:40.226Z"
   },
   {
    "duration": 291,
    "start_time": "2022-06-30T11:41:01.038Z"
   },
   {
    "duration": 207,
    "start_time": "2022-06-30T11:41:20.759Z"
   },
   {
    "duration": 207,
    "start_time": "2022-06-30T11:41:40.646Z"
   },
   {
    "duration": 10,
    "start_time": "2022-06-30T11:42:02.650Z"
   },
   {
    "duration": 1164,
    "start_time": "2022-06-30T11:42:20.528Z"
   },
   {
    "duration": 418,
    "start_time": "2022-06-30T11:42:21.694Z"
   },
   {
    "duration": 12,
    "start_time": "2022-06-30T11:42:22.113Z"
   },
   {
    "duration": 9,
    "start_time": "2022-06-30T11:42:22.126Z"
   },
   {
    "duration": 32,
    "start_time": "2022-06-30T11:42:22.139Z"
   },
   {
    "duration": 17,
    "start_time": "2022-06-30T11:42:22.173Z"
   },
   {
    "duration": 23,
    "start_time": "2022-06-30T11:42:22.192Z"
   },
   {
    "duration": 50,
    "start_time": "2022-06-30T11:42:22.218Z"
   },
   {
    "duration": 30,
    "start_time": "2022-06-30T11:42:22.270Z"
   },
   {
    "duration": 32,
    "start_time": "2022-06-30T11:42:22.302Z"
   },
   {
    "duration": 13,
    "start_time": "2022-06-30T11:42:22.336Z"
   },
   {
    "duration": 17,
    "start_time": "2022-06-30T11:42:22.351Z"
   },
   {
    "duration": 165,
    "start_time": "2022-06-30T11:42:22.370Z"
   },
   {
    "duration": 5,
    "start_time": "2022-06-30T11:42:22.539Z"
   },
   {
    "duration": 66,
    "start_time": "2022-06-30T11:42:22.546Z"
   },
   {
    "duration": 12,
    "start_time": "2022-06-30T11:42:22.614Z"
   },
   {
    "duration": 12,
    "start_time": "2022-06-30T11:42:22.628Z"
   },
   {
    "duration": 12,
    "start_time": "2022-06-30T11:42:22.642Z"
   },
   {
    "duration": 11,
    "start_time": "2022-06-30T11:42:22.656Z"
   },
   {
    "duration": 5,
    "start_time": "2022-06-30T11:42:22.669Z"
   },
   {
    "duration": 5,
    "start_time": "2022-06-30T11:42:22.676Z"
   },
   {
    "duration": 55,
    "start_time": "2022-06-30T11:42:22.683Z"
   },
   {
    "duration": 14,
    "start_time": "2022-06-30T11:42:22.740Z"
   },
   {
    "duration": 9,
    "start_time": "2022-06-30T11:42:22.757Z"
   },
   {
    "duration": 16,
    "start_time": "2022-06-30T11:42:22.767Z"
   },
   {
    "duration": 5,
    "start_time": "2022-06-30T11:42:22.784Z"
   },
   {
    "duration": 18,
    "start_time": "2022-06-30T11:42:22.791Z"
   },
   {
    "duration": 17,
    "start_time": "2022-06-30T11:42:22.811Z"
   },
   {
    "duration": 10,
    "start_time": "2022-06-30T11:42:22.830Z"
   },
   {
    "duration": 9,
    "start_time": "2022-06-30T11:42:22.841Z"
   },
   {
    "duration": 6,
    "start_time": "2022-06-30T11:42:22.851Z"
   },
   {
    "duration": 15,
    "start_time": "2022-06-30T11:42:22.859Z"
   },
   {
    "duration": 16,
    "start_time": "2022-06-30T11:42:22.875Z"
   },
   {
    "duration": 35,
    "start_time": "2022-06-30T11:42:22.893Z"
   },
   {
    "duration": 13,
    "start_time": "2022-06-30T11:42:22.930Z"
   },
   {
    "duration": 10,
    "start_time": "2022-06-30T11:42:22.944Z"
   },
   {
    "duration": 251,
    "start_time": "2022-06-30T11:42:22.956Z"
   },
   {
    "duration": 17,
    "start_time": "2022-06-30T11:42:23.209Z"
   },
   {
    "duration": 18718,
    "start_time": "2022-06-30T11:42:23.227Z"
   },
   {
    "duration": 4,
    "start_time": "2022-06-30T11:42:41.947Z"
   },
   {
    "duration": 21,
    "start_time": "2022-06-30T11:42:41.961Z"
   },
   {
    "duration": 11,
    "start_time": "2022-06-30T11:42:41.984Z"
   },
   {
    "duration": 40,
    "start_time": "2022-06-30T11:42:41.997Z"
   },
   {
    "duration": 186,
    "start_time": "2022-06-30T11:42:42.039Z"
   },
   {
    "duration": 8,
    "start_time": "2022-06-30T11:42:42.227Z"
   },
   {
    "duration": 7,
    "start_time": "2022-06-30T11:42:42.236Z"
   },
   {
    "duration": 10,
    "start_time": "2022-06-30T11:42:42.244Z"
   },
   {
    "duration": 90,
    "start_time": "2022-06-30T11:42:42.255Z"
   },
   {
    "duration": 5,
    "start_time": "2022-06-30T11:42:42.346Z"
   },
   {
    "duration": 14,
    "start_time": "2022-06-30T11:42:42.353Z"
   },
   {
    "duration": 393,
    "start_time": "2022-06-30T11:42:42.369Z"
   },
   {
    "duration": 376,
    "start_time": "2022-06-30T11:42:42.765Z"
   },
   {
    "duration": 20,
    "start_time": "2022-06-30T11:42:43.143Z"
   },
   {
    "duration": 366,
    "start_time": "2022-06-30T11:42:43.165Z"
   },
   {
    "duration": 317,
    "start_time": "2022-06-30T11:42:43.533Z"
   },
   {
    "duration": 87,
    "start_time": "2022-06-30T11:42:43.851Z"
   },
   {
    "duration": 544,
    "start_time": "2022-06-30T11:42:43.941Z"
   },
   {
    "duration": 4,
    "start_time": "2022-06-30T11:42:44.487Z"
   },
   {
    "duration": 170,
    "start_time": "2022-06-30T11:42:44.492Z"
   },
   {
    "duration": 130,
    "start_time": "2022-06-30T11:42:44.664Z"
   },
   {
    "duration": 4,
    "start_time": "2022-06-30T11:42:44.796Z"
   },
   {
    "duration": 28,
    "start_time": "2022-06-30T11:42:44.801Z"
   },
   {
    "duration": 149,
    "start_time": "2022-06-30T11:42:44.830Z"
   },
   {
    "duration": 9,
    "start_time": "2022-06-30T11:42:44.981Z"
   },
   {
    "duration": 9,
    "start_time": "2022-06-30T11:42:44.992Z"
   },
   {
    "duration": 256,
    "start_time": "2022-06-30T11:42:45.002Z"
   },
   {
    "duration": 268,
    "start_time": "2022-06-30T11:42:45.260Z"
   },
   {
    "duration": 4,
    "start_time": "2022-06-30T11:42:45.531Z"
   },
   {
    "duration": 9,
    "start_time": "2022-06-30T11:42:45.537Z"
   },
   {
    "duration": 23,
    "start_time": "2022-06-30T11:42:45.548Z"
   },
   {
    "duration": 7,
    "start_time": "2022-06-30T11:42:45.573Z"
   },
   {
    "duration": 131,
    "start_time": "2022-06-30T11:42:45.582Z"
   },
   {
    "duration": 0,
    "start_time": "2022-06-30T11:42:45.715Z"
   },
   {
    "duration": 0,
    "start_time": "2022-06-30T11:42:45.717Z"
   },
   {
    "duration": 0,
    "start_time": "2022-06-30T11:42:45.718Z"
   },
   {
    "duration": 0,
    "start_time": "2022-06-30T11:42:45.725Z"
   },
   {
    "duration": 1195,
    "start_time": "2022-06-30T11:44:31.305Z"
   },
   {
    "duration": 446,
    "start_time": "2022-06-30T11:44:32.502Z"
   },
   {
    "duration": 13,
    "start_time": "2022-06-30T11:44:32.951Z"
   },
   {
    "duration": 14,
    "start_time": "2022-06-30T11:44:32.966Z"
   },
   {
    "duration": 10,
    "start_time": "2022-06-30T11:44:32.983Z"
   },
   {
    "duration": 19,
    "start_time": "2022-06-30T11:44:32.995Z"
   },
   {
    "duration": 19,
    "start_time": "2022-06-30T11:44:33.016Z"
   },
   {
    "duration": 33,
    "start_time": "2022-06-30T11:44:33.037Z"
   },
   {
    "duration": 21,
    "start_time": "2022-06-30T11:44:33.072Z"
   },
   {
    "duration": 40,
    "start_time": "2022-06-30T11:44:33.095Z"
   },
   {
    "duration": 20,
    "start_time": "2022-06-30T11:44:33.136Z"
   },
   {
    "duration": 14,
    "start_time": "2022-06-30T11:44:33.158Z"
   },
   {
    "duration": 132,
    "start_time": "2022-06-30T11:44:33.174Z"
   },
   {
    "duration": 4,
    "start_time": "2022-06-30T11:44:33.309Z"
   },
   {
    "duration": 75,
    "start_time": "2022-06-30T11:44:33.315Z"
   },
   {
    "duration": 3,
    "start_time": "2022-06-30T11:44:33.392Z"
   },
   {
    "duration": 12,
    "start_time": "2022-06-30T11:44:33.396Z"
   },
   {
    "duration": 17,
    "start_time": "2022-06-30T11:44:33.409Z"
   },
   {
    "duration": 10,
    "start_time": "2022-06-30T11:44:33.428Z"
   },
   {
    "duration": 6,
    "start_time": "2022-06-30T11:44:33.439Z"
   },
   {
    "duration": 5,
    "start_time": "2022-06-30T11:44:33.447Z"
   },
   {
    "duration": 17,
    "start_time": "2022-06-30T11:44:33.453Z"
   },
   {
    "duration": 11,
    "start_time": "2022-06-30T11:44:33.471Z"
   },
   {
    "duration": 42,
    "start_time": "2022-06-30T11:44:33.484Z"
   },
   {
    "duration": 6,
    "start_time": "2022-06-30T11:44:33.528Z"
   },
   {
    "duration": 5,
    "start_time": "2022-06-30T11:44:33.535Z"
   },
   {
    "duration": 17,
    "start_time": "2022-06-30T11:44:33.541Z"
   },
   {
    "duration": 8,
    "start_time": "2022-06-30T11:44:33.560Z"
   },
   {
    "duration": 11,
    "start_time": "2022-06-30T11:44:33.570Z"
   },
   {
    "duration": 47,
    "start_time": "2022-06-30T11:44:33.584Z"
   },
   {
    "duration": 10,
    "start_time": "2022-06-30T11:44:33.634Z"
   },
   {
    "duration": 19,
    "start_time": "2022-06-30T11:44:33.647Z"
   },
   {
    "duration": 15,
    "start_time": "2022-06-30T11:44:33.668Z"
   },
   {
    "duration": 9,
    "start_time": "2022-06-30T11:44:33.685Z"
   },
   {
    "duration": 33,
    "start_time": "2022-06-30T11:44:33.696Z"
   },
   {
    "duration": 16,
    "start_time": "2022-06-30T11:44:33.730Z"
   },
   {
    "duration": 269,
    "start_time": "2022-06-30T11:44:33.748Z"
   },
   {
    "duration": 21,
    "start_time": "2022-06-30T11:44:34.019Z"
   },
   {
    "duration": 19415,
    "start_time": "2022-06-30T11:44:34.042Z"
   },
   {
    "duration": 6,
    "start_time": "2022-06-30T11:44:53.459Z"
   },
   {
    "duration": 20,
    "start_time": "2022-06-30T11:44:53.474Z"
   },
   {
    "duration": 36,
    "start_time": "2022-06-30T11:44:53.496Z"
   },
   {
    "duration": 19,
    "start_time": "2022-06-30T11:44:53.534Z"
   },
   {
    "duration": 217,
    "start_time": "2022-06-30T11:44:53.555Z"
   },
   {
    "duration": 12,
    "start_time": "2022-06-30T11:44:53.774Z"
   },
   {
    "duration": 8,
    "start_time": "2022-06-30T11:44:53.788Z"
   },
   {
    "duration": 7,
    "start_time": "2022-06-30T11:44:53.799Z"
   },
   {
    "duration": 81,
    "start_time": "2022-06-30T11:44:53.827Z"
   },
   {
    "duration": 18,
    "start_time": "2022-06-30T11:44:53.910Z"
   },
   {
    "duration": 7,
    "start_time": "2022-06-30T11:44:53.930Z"
   },
   {
    "duration": 171,
    "start_time": "2022-06-30T11:44:53.940Z"
   },
   {
    "duration": 155,
    "start_time": "2022-06-30T11:44:54.112Z"
   },
   {
    "duration": 17,
    "start_time": "2022-06-30T11:44:54.269Z"
   },
   {
    "duration": 187,
    "start_time": "2022-06-30T11:44:54.288Z"
   },
   {
    "duration": 154,
    "start_time": "2022-06-30T11:44:54.476Z"
   },
   {
    "duration": 29,
    "start_time": "2022-06-30T11:44:54.632Z"
   },
   {
    "duration": 246,
    "start_time": "2022-06-30T11:44:54.662Z"
   },
   {
    "duration": 5,
    "start_time": "2022-06-30T11:44:54.909Z"
   },
   {
    "duration": 176,
    "start_time": "2022-06-30T11:44:54.926Z"
   },
   {
    "duration": 3,
    "start_time": "2022-06-30T11:44:55.104Z"
   },
   {
    "duration": 138,
    "start_time": "2022-06-30T11:44:55.108Z"
   },
   {
    "duration": 10,
    "start_time": "2022-06-30T11:44:55.248Z"
   },
   {
    "duration": 11,
    "start_time": "2022-06-30T11:44:55.259Z"
   },
   {
    "duration": 190,
    "start_time": "2022-06-30T11:44:55.272Z"
   },
   {
    "duration": 9,
    "start_time": "2022-06-30T11:44:55.465Z"
   },
   {
    "duration": 10,
    "start_time": "2022-06-30T11:44:55.477Z"
   },
   {
    "duration": 243,
    "start_time": "2022-06-30T11:44:55.489Z"
   },
   {
    "duration": 248,
    "start_time": "2022-06-30T11:44:55.734Z"
   },
   {
    "duration": 5,
    "start_time": "2022-06-30T11:44:55.984Z"
   },
   {
    "duration": 11,
    "start_time": "2022-06-30T11:44:55.991Z"
   },
   {
    "duration": 6,
    "start_time": "2022-06-30T11:44:56.004Z"
   },
   {
    "duration": 157,
    "start_time": "2022-06-30T11:44:56.011Z"
   },
   {
    "duration": 12,
    "start_time": "2022-06-30T11:44:56.170Z"
   },
   {
    "duration": 10,
    "start_time": "2022-06-30T11:44:56.184Z"
   },
   {
    "duration": 229,
    "start_time": "2022-06-30T11:44:56.196Z"
   },
   {
    "duration": 346,
    "start_time": "2022-06-30T11:44:56.429Z"
   },
   {
    "duration": 288,
    "start_time": "2022-06-30T11:51:25.981Z"
   },
   {
    "duration": 143,
    "start_time": "2022-06-30T11:52:20.177Z"
   },
   {
    "duration": 82,
    "start_time": "2022-06-30T11:53:33.167Z"
   },
   {
    "duration": 154,
    "start_time": "2022-06-30T11:53:41.359Z"
   },
   {
    "duration": 280,
    "start_time": "2022-06-30T11:53:58.069Z"
   },
   {
    "duration": 283,
    "start_time": "2022-06-30T11:54:19.707Z"
   },
   {
    "duration": 287,
    "start_time": "2022-06-30T11:54:33.268Z"
   },
   {
    "duration": 301,
    "start_time": "2022-06-30T11:54:53.232Z"
   },
   {
    "duration": 399,
    "start_time": "2022-06-30T11:55:01.369Z"
   },
   {
    "duration": 298,
    "start_time": "2022-06-30T11:55:06.087Z"
   },
   {
    "duration": 336,
    "start_time": "2022-06-30T11:55:38.359Z"
   },
   {
    "duration": 290,
    "start_time": "2022-06-30T11:55:47.470Z"
   },
   {
    "duration": 347,
    "start_time": "2022-06-30T11:55:52.608Z"
   },
   {
    "duration": 276,
    "start_time": "2022-06-30T11:56:17.827Z"
   },
   {
    "duration": 433,
    "start_time": "2022-06-30T11:56:27.532Z"
   },
   {
    "duration": 354,
    "start_time": "2022-06-30T11:57:54.270Z"
   },
   {
    "duration": 324,
    "start_time": "2022-06-30T11:58:05.728Z"
   },
   {
    "duration": 22,
    "start_time": "2022-06-30T11:58:18.872Z"
   },
   {
    "duration": 339,
    "start_time": "2022-06-30T11:58:22.522Z"
   },
   {
    "duration": 329,
    "start_time": "2022-06-30T11:58:32.911Z"
   },
   {
    "duration": 321,
    "start_time": "2022-06-30T11:58:46.872Z"
   },
   {
    "duration": 443,
    "start_time": "2022-06-30T11:58:58.157Z"
   },
   {
    "duration": 410,
    "start_time": "2022-06-30T11:59:14.659Z"
   },
   {
    "duration": 372,
    "start_time": "2022-06-30T11:59:19.683Z"
   },
   {
    "duration": 344,
    "start_time": "2022-06-30T11:59:23.957Z"
   },
   {
    "duration": 311,
    "start_time": "2022-06-30T11:59:29.516Z"
   },
   {
    "duration": 317,
    "start_time": "2022-06-30T12:01:19.185Z"
   },
   {
    "duration": 418,
    "start_time": "2022-06-30T12:01:31.183Z"
   },
   {
    "duration": 3,
    "start_time": "2022-06-30T12:04:55.463Z"
   },
   {
    "duration": 19,
    "start_time": "2022-06-30T12:04:56.310Z"
   },
   {
    "duration": 11,
    "start_time": "2022-06-30T12:06:22.107Z"
   },
   {
    "duration": 1238,
    "start_time": "2022-06-30T12:06:31.496Z"
   },
   {
    "duration": 454,
    "start_time": "2022-06-30T12:06:32.736Z"
   },
   {
    "duration": 13,
    "start_time": "2022-06-30T12:06:33.192Z"
   },
   {
    "duration": 24,
    "start_time": "2022-06-30T12:06:33.207Z"
   },
   {
    "duration": 15,
    "start_time": "2022-06-30T12:06:33.233Z"
   },
   {
    "duration": 10,
    "start_time": "2022-06-30T12:06:33.250Z"
   },
   {
    "duration": 15,
    "start_time": "2022-06-30T12:06:33.262Z"
   },
   {
    "duration": 34,
    "start_time": "2022-06-30T12:06:33.279Z"
   },
   {
    "duration": 22,
    "start_time": "2022-06-30T12:06:33.326Z"
   },
   {
    "duration": 19,
    "start_time": "2022-06-30T12:06:33.349Z"
   },
   {
    "duration": 10,
    "start_time": "2022-06-30T12:06:33.370Z"
   },
   {
    "duration": 43,
    "start_time": "2022-06-30T12:06:33.382Z"
   },
   {
    "duration": 143,
    "start_time": "2022-06-30T12:06:33.427Z"
   },
   {
    "duration": 6,
    "start_time": "2022-06-30T12:06:33.573Z"
   },
   {
    "duration": 74,
    "start_time": "2022-06-30T12:06:33.581Z"
   },
   {
    "duration": 3,
    "start_time": "2022-06-30T12:06:33.657Z"
   },
   {
    "duration": 20,
    "start_time": "2022-06-30T12:06:33.663Z"
   },
   {
    "duration": 15,
    "start_time": "2022-06-30T12:06:33.686Z"
   },
   {
    "duration": 28,
    "start_time": "2022-06-30T12:06:33.704Z"
   },
   {
    "duration": 8,
    "start_time": "2022-06-30T12:06:33.735Z"
   },
   {
    "duration": 19,
    "start_time": "2022-06-30T12:06:33.746Z"
   },
   {
    "duration": 33,
    "start_time": "2022-06-30T12:06:33.768Z"
   },
   {
    "duration": 11,
    "start_time": "2022-06-30T12:06:33.803Z"
   },
   {
    "duration": 12,
    "start_time": "2022-06-30T12:06:33.816Z"
   },
   {
    "duration": 19,
    "start_time": "2022-06-30T12:06:33.829Z"
   },
   {
    "duration": 22,
    "start_time": "2022-06-30T12:06:33.850Z"
   },
   {
    "duration": 28,
    "start_time": "2022-06-30T12:06:33.874Z"
   },
   {
    "duration": 16,
    "start_time": "2022-06-30T12:06:33.904Z"
   },
   {
    "duration": 36,
    "start_time": "2022-06-30T12:06:33.922Z"
   },
   {
    "duration": 10,
    "start_time": "2022-06-30T12:06:33.960Z"
   },
   {
    "duration": 15,
    "start_time": "2022-06-30T12:06:33.973Z"
   },
   {
    "duration": 15,
    "start_time": "2022-06-30T12:06:33.990Z"
   },
   {
    "duration": 18,
    "start_time": "2022-06-30T12:06:34.008Z"
   },
   {
    "duration": 13,
    "start_time": "2022-06-30T12:06:34.028Z"
   },
   {
    "duration": 11,
    "start_time": "2022-06-30T12:06:34.043Z"
   },
   {
    "duration": 13,
    "start_time": "2022-06-30T12:06:34.056Z"
   },
   {
    "duration": 287,
    "start_time": "2022-06-30T12:06:34.072Z"
   },
   {
    "duration": 13,
    "start_time": "2022-06-30T12:06:34.361Z"
   },
   {
    "duration": 19123,
    "start_time": "2022-06-30T12:06:34.376Z"
   },
   {
    "duration": 6,
    "start_time": "2022-06-30T12:06:53.501Z"
   },
   {
    "duration": 31,
    "start_time": "2022-06-30T12:06:53.511Z"
   },
   {
    "duration": 16,
    "start_time": "2022-06-30T12:06:53.544Z"
   },
   {
    "duration": 24,
    "start_time": "2022-06-30T12:06:53.562Z"
   },
   {
    "duration": 220,
    "start_time": "2022-06-30T12:06:53.588Z"
   },
   {
    "duration": 16,
    "start_time": "2022-06-30T12:06:53.811Z"
   },
   {
    "duration": 21,
    "start_time": "2022-06-30T12:06:53.830Z"
   },
   {
    "duration": 8,
    "start_time": "2022-06-30T12:06:53.853Z"
   },
   {
    "duration": 96,
    "start_time": "2022-06-30T12:06:53.862Z"
   },
   {
    "duration": 7,
    "start_time": "2022-06-30T12:06:53.960Z"
   },
   {
    "duration": 6,
    "start_time": "2022-06-30T12:06:53.969Z"
   },
   {
    "duration": 184,
    "start_time": "2022-06-30T12:06:53.977Z"
   },
   {
    "duration": 180,
    "start_time": "2022-06-30T12:06:54.162Z"
   },
   {
    "duration": 28,
    "start_time": "2022-06-30T12:06:54.345Z"
   },
   {
    "duration": 208,
    "start_time": "2022-06-30T12:06:54.376Z"
   },
   {
    "duration": 181,
    "start_time": "2022-06-30T12:06:54.586Z"
   },
   {
    "duration": 55,
    "start_time": "2022-06-30T12:06:54.770Z"
   },
   {
    "duration": 254,
    "start_time": "2022-06-30T12:06:54.827Z"
   },
   {
    "duration": 5,
    "start_time": "2022-06-30T12:06:55.083Z"
   },
   {
    "duration": 178,
    "start_time": "2022-06-30T12:06:55.090Z"
   },
   {
    "duration": 3,
    "start_time": "2022-06-30T12:06:55.270Z"
   },
   {
    "duration": 124,
    "start_time": "2022-06-30T12:06:55.275Z"
   },
   {
    "duration": 5,
    "start_time": "2022-06-30T12:06:55.401Z"
   },
   {
    "duration": 20,
    "start_time": "2022-06-30T12:06:55.407Z"
   },
   {
    "duration": 172,
    "start_time": "2022-06-30T12:06:55.429Z"
   },
   {
    "duration": 10,
    "start_time": "2022-06-30T12:06:55.602Z"
   },
   {
    "duration": 16,
    "start_time": "2022-06-30T12:06:55.613Z"
   },
   {
    "duration": 248,
    "start_time": "2022-06-30T12:06:55.631Z"
   },
   {
    "duration": 263,
    "start_time": "2022-06-30T12:06:55.881Z"
   },
   {
    "duration": 5,
    "start_time": "2022-06-30T12:06:56.146Z"
   },
   {
    "duration": 15,
    "start_time": "2022-06-30T12:06:56.153Z"
   },
   {
    "duration": 6,
    "start_time": "2022-06-30T12:06:56.170Z"
   },
   {
    "duration": 149,
    "start_time": "2022-06-30T12:06:56.178Z"
   },
   {
    "duration": 4,
    "start_time": "2022-06-30T12:06:56.329Z"
   },
   {
    "duration": 99,
    "start_time": "2022-06-30T12:07:48.958Z"
   },
   {
    "duration": 1237,
    "start_time": "2022-06-30T12:08:00.641Z"
   },
   {
    "duration": 452,
    "start_time": "2022-06-30T12:08:01.881Z"
   },
   {
    "duration": 12,
    "start_time": "2022-06-30T12:08:02.335Z"
   },
   {
    "duration": 14,
    "start_time": "2022-06-30T12:08:02.349Z"
   },
   {
    "duration": 22,
    "start_time": "2022-06-30T12:08:02.365Z"
   },
   {
    "duration": 21,
    "start_time": "2022-06-30T12:08:02.389Z"
   },
   {
    "duration": 13,
    "start_time": "2022-06-30T12:08:02.412Z"
   },
   {
    "duration": 31,
    "start_time": "2022-06-30T12:08:02.427Z"
   },
   {
    "duration": 22,
    "start_time": "2022-06-30T12:08:02.459Z"
   },
   {
    "duration": 48,
    "start_time": "2022-06-30T12:08:02.482Z"
   },
   {
    "duration": 11,
    "start_time": "2022-06-30T12:08:02.532Z"
   },
   {
    "duration": 15,
    "start_time": "2022-06-30T12:08:02.545Z"
   },
   {
    "duration": 152,
    "start_time": "2022-06-30T12:08:02.562Z"
   },
   {
    "duration": 6,
    "start_time": "2022-06-30T12:08:02.725Z"
   },
   {
    "duration": 80,
    "start_time": "2022-06-30T12:08:02.732Z"
   },
   {
    "duration": 3,
    "start_time": "2022-06-30T12:08:02.814Z"
   },
   {
    "duration": 9,
    "start_time": "2022-06-30T12:08:02.826Z"
   },
   {
    "duration": 35,
    "start_time": "2022-06-30T12:08:02.837Z"
   },
   {
    "duration": 9,
    "start_time": "2022-06-30T12:08:02.875Z"
   },
   {
    "duration": 9,
    "start_time": "2022-06-30T12:08:02.886Z"
   },
   {
    "duration": 13,
    "start_time": "2022-06-30T12:08:02.896Z"
   },
   {
    "duration": 22,
    "start_time": "2022-06-30T12:08:02.911Z"
   },
   {
    "duration": 11,
    "start_time": "2022-06-30T12:08:02.935Z"
   },
   {
    "duration": 9,
    "start_time": "2022-06-30T12:08:02.948Z"
   },
   {
    "duration": 18,
    "start_time": "2022-06-30T12:08:02.959Z"
   },
   {
    "duration": 8,
    "start_time": "2022-06-30T12:08:02.979Z"
   },
   {
    "duration": 17,
    "start_time": "2022-06-30T12:08:02.989Z"
   },
   {
    "duration": 7,
    "start_time": "2022-06-30T12:08:03.008Z"
   },
   {
    "duration": 9,
    "start_time": "2022-06-30T12:08:03.026Z"
   },
   {
    "duration": 13,
    "start_time": "2022-06-30T12:08:03.038Z"
   },
   {
    "duration": 12,
    "start_time": "2022-06-30T12:08:03.054Z"
   },
   {
    "duration": 23,
    "start_time": "2022-06-30T12:08:03.069Z"
   },
   {
    "duration": 15,
    "start_time": "2022-06-30T12:08:03.125Z"
   },
   {
    "duration": 16,
    "start_time": "2022-06-30T12:08:03.141Z"
   },
   {
    "duration": 9,
    "start_time": "2022-06-30T12:08:03.159Z"
   },
   {
    "duration": 11,
    "start_time": "2022-06-30T12:08:03.170Z"
   },
   {
    "duration": 298,
    "start_time": "2022-06-30T12:08:03.183Z"
   },
   {
    "duration": 14,
    "start_time": "2022-06-30T12:08:03.482Z"
   },
   {
    "duration": 19273,
    "start_time": "2022-06-30T12:08:03.498Z"
   },
   {
    "duration": 4,
    "start_time": "2022-06-30T12:08:22.773Z"
   },
   {
    "duration": 20,
    "start_time": "2022-06-30T12:08:22.782Z"
   },
   {
    "duration": 29,
    "start_time": "2022-06-30T12:08:22.804Z"
   },
   {
    "duration": 13,
    "start_time": "2022-06-30T12:08:22.835Z"
   },
   {
    "duration": 217,
    "start_time": "2022-06-30T12:08:22.851Z"
   },
   {
    "duration": 8,
    "start_time": "2022-06-30T12:08:23.070Z"
   },
   {
    "duration": 9,
    "start_time": "2022-06-30T12:08:23.080Z"
   },
   {
    "duration": 9,
    "start_time": "2022-06-30T12:08:23.090Z"
   },
   {
    "duration": 84,
    "start_time": "2022-06-30T12:08:23.126Z"
   },
   {
    "duration": 15,
    "start_time": "2022-06-30T12:08:23.212Z"
   },
   {
    "duration": 23,
    "start_time": "2022-06-30T12:08:23.229Z"
   },
   {
    "duration": 165,
    "start_time": "2022-06-30T12:08:23.254Z"
   },
   {
    "duration": 161,
    "start_time": "2022-06-30T12:08:23.421Z"
   },
   {
    "duration": 17,
    "start_time": "2022-06-30T12:08:23.584Z"
   },
   {
    "duration": 192,
    "start_time": "2022-06-30T12:08:23.603Z"
   },
   {
    "duration": 170,
    "start_time": "2022-06-30T12:08:23.797Z"
   },
   {
    "duration": 32,
    "start_time": "2022-06-30T12:08:23.969Z"
   },
   {
    "duration": 263,
    "start_time": "2022-06-30T12:08:24.003Z"
   },
   {
    "duration": 5,
    "start_time": "2022-06-30T12:08:24.268Z"
   },
   {
    "duration": 189,
    "start_time": "2022-06-30T12:08:24.274Z"
   },
   {
    "duration": 4,
    "start_time": "2022-06-30T12:08:24.465Z"
   },
   {
    "duration": 121,
    "start_time": "2022-06-30T12:08:24.471Z"
   },
   {
    "duration": 25,
    "start_time": "2022-06-30T12:08:24.594Z"
   },
   {
    "duration": 25,
    "start_time": "2022-06-30T12:08:24.622Z"
   },
   {
    "duration": 214,
    "start_time": "2022-06-30T12:08:24.649Z"
   },
   {
    "duration": 10,
    "start_time": "2022-06-30T12:08:24.865Z"
   },
   {
    "duration": 32,
    "start_time": "2022-06-30T12:08:24.878Z"
   },
   {
    "duration": 247,
    "start_time": "2022-06-30T12:08:24.913Z"
   },
   {
    "duration": 263,
    "start_time": "2022-06-30T12:08:25.162Z"
   },
   {
    "duration": 6,
    "start_time": "2022-06-30T12:08:25.427Z"
   },
   {
    "duration": 22,
    "start_time": "2022-06-30T12:08:25.434Z"
   },
   {
    "duration": 8,
    "start_time": "2022-06-30T12:08:25.458Z"
   },
   {
    "duration": 144,
    "start_time": "2022-06-30T12:08:25.468Z"
   },
   {
    "duration": 13,
    "start_time": "2022-06-30T12:08:25.614Z"
   },
   {
    "duration": 15,
    "start_time": "2022-06-30T12:08:28.871Z"
   },
   {
    "duration": 138,
    "start_time": "2022-06-30T12:09:37.389Z"
   },
   {
    "duration": 1340,
    "start_time": "2022-06-30T12:09:51.089Z"
   },
   {
    "duration": 523,
    "start_time": "2022-06-30T12:09:52.431Z"
   },
   {
    "duration": 15,
    "start_time": "2022-06-30T12:09:52.956Z"
   },
   {
    "duration": 21,
    "start_time": "2022-06-30T12:09:52.974Z"
   },
   {
    "duration": 35,
    "start_time": "2022-06-30T12:09:52.997Z"
   },
   {
    "duration": 44,
    "start_time": "2022-06-30T12:09:53.034Z"
   },
   {
    "duration": 37,
    "start_time": "2022-06-30T12:09:53.080Z"
   },
   {
    "duration": 60,
    "start_time": "2022-06-30T12:09:53.119Z"
   },
   {
    "duration": 41,
    "start_time": "2022-06-30T12:09:53.181Z"
   },
   {
    "duration": 44,
    "start_time": "2022-06-30T12:09:53.223Z"
   },
   {
    "duration": 35,
    "start_time": "2022-06-30T12:09:53.269Z"
   },
   {
    "duration": 19,
    "start_time": "2022-06-30T12:09:53.306Z"
   },
   {
    "duration": 164,
    "start_time": "2022-06-30T12:09:53.328Z"
   },
   {
    "duration": 5,
    "start_time": "2022-06-30T12:09:53.496Z"
   },
   {
    "duration": 84,
    "start_time": "2022-06-30T12:09:53.503Z"
   },
   {
    "duration": 3,
    "start_time": "2022-06-30T12:09:53.589Z"
   },
   {
    "duration": 26,
    "start_time": "2022-06-30T12:09:53.594Z"
   },
   {
    "duration": 24,
    "start_time": "2022-06-30T12:09:53.623Z"
   },
   {
    "duration": 12,
    "start_time": "2022-06-30T12:09:53.648Z"
   },
   {
    "duration": 18,
    "start_time": "2022-06-30T12:09:53.661Z"
   },
   {
    "duration": 21,
    "start_time": "2022-06-30T12:09:53.681Z"
   },
   {
    "duration": 29,
    "start_time": "2022-06-30T12:09:53.704Z"
   },
   {
    "duration": 19,
    "start_time": "2022-06-30T12:09:53.739Z"
   },
   {
    "duration": 19,
    "start_time": "2022-06-30T12:09:53.762Z"
   },
   {
    "duration": 18,
    "start_time": "2022-06-30T12:09:53.784Z"
   },
   {
    "duration": 10,
    "start_time": "2022-06-30T12:09:53.804Z"
   },
   {
    "duration": 29,
    "start_time": "2022-06-30T12:09:53.817Z"
   },
   {
    "duration": 15,
    "start_time": "2022-06-30T12:09:53.849Z"
   },
   {
    "duration": 20,
    "start_time": "2022-06-30T12:09:53.866Z"
   },
   {
    "duration": 15,
    "start_time": "2022-06-30T12:09:53.888Z"
   },
   {
    "duration": 18,
    "start_time": "2022-06-30T12:09:53.905Z"
   },
   {
    "duration": 25,
    "start_time": "2022-06-30T12:09:53.925Z"
   },
   {
    "duration": 36,
    "start_time": "2022-06-30T12:09:53.952Z"
   },
   {
    "duration": 22,
    "start_time": "2022-06-30T12:09:53.990Z"
   },
   {
    "duration": 31,
    "start_time": "2022-06-30T12:09:54.014Z"
   },
   {
    "duration": 20,
    "start_time": "2022-06-30T12:09:54.047Z"
   },
   {
    "duration": 277,
    "start_time": "2022-06-30T12:09:54.070Z"
   },
   {
    "duration": 15,
    "start_time": "2022-06-30T12:09:54.351Z"
   },
   {
    "duration": 18823,
    "start_time": "2022-06-30T12:09:54.370Z"
   },
   {
    "duration": 4,
    "start_time": "2022-06-30T12:10:13.195Z"
   },
   {
    "duration": 29,
    "start_time": "2022-06-30T12:10:13.204Z"
   },
   {
    "duration": 14,
    "start_time": "2022-06-30T12:10:13.234Z"
   },
   {
    "duration": 16,
    "start_time": "2022-06-30T12:10:13.250Z"
   },
   {
    "duration": 230,
    "start_time": "2022-06-30T12:10:13.268Z"
   },
   {
    "duration": 8,
    "start_time": "2022-06-30T12:10:13.500Z"
   },
   {
    "duration": 16,
    "start_time": "2022-06-30T12:10:13.510Z"
   },
   {
    "duration": 11,
    "start_time": "2022-06-30T12:10:13.528Z"
   },
   {
    "duration": 85,
    "start_time": "2022-06-30T12:10:13.556Z"
   },
   {
    "duration": 5,
    "start_time": "2022-06-30T12:10:13.643Z"
   },
   {
    "duration": 13,
    "start_time": "2022-06-30T12:10:13.650Z"
   },
   {
    "duration": 160,
    "start_time": "2022-06-30T12:10:13.665Z"
   },
   {
    "duration": 177,
    "start_time": "2022-06-30T12:10:13.827Z"
   },
   {
    "duration": 31,
    "start_time": "2022-06-30T12:10:14.005Z"
   },
   {
    "duration": 184,
    "start_time": "2022-06-30T12:10:14.038Z"
   },
   {
    "duration": 183,
    "start_time": "2022-06-30T12:10:14.224Z"
   },
   {
    "duration": 40,
    "start_time": "2022-06-30T12:10:14.408Z"
   },
   {
    "duration": 272,
    "start_time": "2022-06-30T12:10:14.450Z"
   },
   {
    "duration": 5,
    "start_time": "2022-06-30T12:10:14.726Z"
   },
   {
    "duration": 197,
    "start_time": "2022-06-30T12:10:14.733Z"
   },
   {
    "duration": 3,
    "start_time": "2022-06-30T12:10:14.932Z"
   },
   {
    "duration": 118,
    "start_time": "2022-06-30T12:10:14.937Z"
   },
   {
    "duration": 4,
    "start_time": "2022-06-30T12:10:15.058Z"
   },
   {
    "duration": 30,
    "start_time": "2022-06-30T12:10:15.064Z"
   },
   {
    "duration": 160,
    "start_time": "2022-06-30T12:10:15.096Z"
   },
   {
    "duration": 10,
    "start_time": "2022-06-30T12:10:15.258Z"
   },
   {
    "duration": 19,
    "start_time": "2022-06-30T12:10:15.270Z"
   },
   {
    "duration": 268,
    "start_time": "2022-06-30T12:10:15.291Z"
   },
   {
    "duration": 278,
    "start_time": "2022-06-30T12:10:15.561Z"
   },
   {
    "duration": 6,
    "start_time": "2022-06-30T12:10:15.841Z"
   },
   {
    "duration": 14,
    "start_time": "2022-06-30T12:10:15.849Z"
   },
   {
    "duration": 7,
    "start_time": "2022-06-30T12:10:15.865Z"
   },
   {
    "duration": 157,
    "start_time": "2022-06-30T12:10:15.874Z"
   },
   {
    "duration": 11,
    "start_time": "2022-06-30T12:10:16.033Z"
   },
   {
    "duration": 11,
    "start_time": "2022-06-30T12:10:20.292Z"
   },
   {
    "duration": 4,
    "start_time": "2022-06-30T12:13:06.377Z"
   },
   {
    "duration": 5,
    "start_time": "2022-06-30T12:13:23.026Z"
   },
   {
    "duration": 47,
    "start_time": "2022-06-30T12:16:24.965Z"
   },
   {
    "duration": 5,
    "start_time": "2022-06-30T12:16:28.338Z"
   },
   {
    "duration": 96,
    "start_time": "2022-06-30T12:16:29.508Z"
   },
   {
    "duration": 15,
    "start_time": "2022-06-30T12:16:40.805Z"
   },
   {
    "duration": 6,
    "start_time": "2022-06-30T12:16:41.470Z"
   },
   {
    "duration": 10,
    "start_time": "2022-06-30T12:16:42.004Z"
   },
   {
    "duration": 1224,
    "start_time": "2022-06-30T12:16:55.242Z"
   },
   {
    "duration": 470,
    "start_time": "2022-06-30T12:16:56.468Z"
   },
   {
    "duration": 12,
    "start_time": "2022-06-30T12:16:56.940Z"
   },
   {
    "duration": 9,
    "start_time": "2022-06-30T12:16:56.954Z"
   },
   {
    "duration": 7,
    "start_time": "2022-06-30T12:16:56.966Z"
   },
   {
    "duration": 9,
    "start_time": "2022-06-30T12:16:56.975Z"
   },
   {
    "duration": 11,
    "start_time": "2022-06-30T12:16:56.985Z"
   },
   {
    "duration": 48,
    "start_time": "2022-06-30T12:16:56.997Z"
   },
   {
    "duration": 19,
    "start_time": "2022-06-30T12:16:57.046Z"
   },
   {
    "duration": 17,
    "start_time": "2022-06-30T12:16:57.066Z"
   },
   {
    "duration": 11,
    "start_time": "2022-06-30T12:16:57.084Z"
   },
   {
    "duration": 45,
    "start_time": "2022-06-30T12:16:57.096Z"
   },
   {
    "duration": 127,
    "start_time": "2022-06-30T12:16:57.143Z"
   },
   {
    "duration": 6,
    "start_time": "2022-06-30T12:16:57.273Z"
   },
   {
    "duration": 76,
    "start_time": "2022-06-30T12:16:57.281Z"
   },
   {
    "duration": 3,
    "start_time": "2022-06-30T12:16:57.359Z"
   },
   {
    "duration": 16,
    "start_time": "2022-06-30T12:16:57.364Z"
   },
   {
    "duration": 11,
    "start_time": "2022-06-30T12:16:57.382Z"
   },
   {
    "duration": 12,
    "start_time": "2022-06-30T12:16:57.395Z"
   },
   {
    "duration": 19,
    "start_time": "2022-06-30T12:16:57.409Z"
   },
   {
    "duration": 8,
    "start_time": "2022-06-30T12:16:57.430Z"
   },
   {
    "duration": 20,
    "start_time": "2022-06-30T12:16:57.440Z"
   },
   {
    "duration": 11,
    "start_time": "2022-06-30T12:16:57.462Z"
   },
   {
    "duration": 7,
    "start_time": "2022-06-30T12:16:57.476Z"
   },
   {
    "duration": 7,
    "start_time": "2022-06-30T12:16:57.485Z"
   },
   {
    "duration": 4,
    "start_time": "2022-06-30T12:16:57.494Z"
   },
   {
    "duration": 22,
    "start_time": "2022-06-30T12:16:57.527Z"
   },
   {
    "duration": 6,
    "start_time": "2022-06-30T12:16:57.552Z"
   },
   {
    "duration": 13,
    "start_time": "2022-06-30T12:16:57.560Z"
   },
   {
    "duration": 10,
    "start_time": "2022-06-30T12:16:57.576Z"
   },
   {
    "duration": 5,
    "start_time": "2022-06-30T12:16:57.588Z"
   },
   {
    "duration": 11,
    "start_time": "2022-06-30T12:16:57.625Z"
   },
   {
    "duration": 22,
    "start_time": "2022-06-30T12:16:57.638Z"
   },
   {
    "duration": 14,
    "start_time": "2022-06-30T12:16:57.662Z"
   },
   {
    "duration": 8,
    "start_time": "2022-06-30T12:16:57.677Z"
   },
   {
    "duration": 10,
    "start_time": "2022-06-30T12:16:57.686Z"
   },
   {
    "duration": 256,
    "start_time": "2022-06-30T12:16:57.726Z"
   },
   {
    "duration": 13,
    "start_time": "2022-06-30T12:16:57.984Z"
   },
   {
    "duration": 17654,
    "start_time": "2022-06-30T12:16:57.999Z"
   },
   {
    "duration": 4,
    "start_time": "2022-06-30T12:17:15.655Z"
   },
   {
    "duration": 12,
    "start_time": "2022-06-30T12:17:15.663Z"
   },
   {
    "duration": 10,
    "start_time": "2022-06-30T12:17:15.677Z"
   },
   {
    "duration": 40,
    "start_time": "2022-06-30T12:17:15.689Z"
   },
   {
    "duration": 177,
    "start_time": "2022-06-30T12:17:15.730Z"
   },
   {
    "duration": 16,
    "start_time": "2022-06-30T12:17:15.909Z"
   },
   {
    "duration": 7,
    "start_time": "2022-06-30T12:17:15.927Z"
   },
   {
    "duration": 5,
    "start_time": "2022-06-30T12:17:15.935Z"
   },
   {
    "duration": 91,
    "start_time": "2022-06-30T12:17:15.942Z"
   },
   {
    "duration": 5,
    "start_time": "2022-06-30T12:17:16.034Z"
   },
   {
    "duration": 8,
    "start_time": "2022-06-30T12:17:16.041Z"
   },
   {
    "duration": 148,
    "start_time": "2022-06-30T12:17:16.052Z"
   },
   {
    "duration": 145,
    "start_time": "2022-06-30T12:17:16.202Z"
   },
   {
    "duration": 15,
    "start_time": "2022-06-30T12:17:16.349Z"
   },
   {
    "duration": 162,
    "start_time": "2022-06-30T12:17:16.365Z"
   },
   {
    "duration": 184,
    "start_time": "2022-06-30T12:17:16.528Z"
   },
   {
    "duration": 35,
    "start_time": "2022-06-30T12:17:16.714Z"
   },
   {
    "duration": 291,
    "start_time": "2022-06-30T12:17:16.752Z"
   },
   {
    "duration": 5,
    "start_time": "2022-06-30T12:17:17.045Z"
   },
   {
    "duration": 177,
    "start_time": "2022-06-30T12:17:17.051Z"
   },
   {
    "duration": 3,
    "start_time": "2022-06-30T12:17:17.229Z"
   },
   {
    "duration": 109,
    "start_time": "2022-06-30T12:17:17.234Z"
   },
   {
    "duration": 4,
    "start_time": "2022-06-30T12:17:17.344Z"
   },
   {
    "duration": 10,
    "start_time": "2022-06-30T12:17:17.350Z"
   },
   {
    "duration": 155,
    "start_time": "2022-06-30T12:17:17.362Z"
   },
   {
    "duration": 8,
    "start_time": "2022-06-30T12:17:17.525Z"
   },
   {
    "duration": 11,
    "start_time": "2022-06-30T12:17:17.535Z"
   },
   {
    "duration": 232,
    "start_time": "2022-06-30T12:17:17.548Z"
   },
   {
    "duration": 255,
    "start_time": "2022-06-30T12:17:17.782Z"
   },
   {
    "duration": 5,
    "start_time": "2022-06-30T12:17:18.039Z"
   },
   {
    "duration": 21,
    "start_time": "2022-06-30T12:17:18.046Z"
   },
   {
    "duration": 13,
    "start_time": "2022-06-30T12:17:18.069Z"
   },
   {
    "duration": 132,
    "start_time": "2022-06-30T12:17:18.084Z"
   },
   {
    "duration": 15,
    "start_time": "2022-06-30T12:17:18.218Z"
   },
   {
    "duration": 5,
    "start_time": "2022-06-30T12:17:18.235Z"
   },
   {
    "duration": 9,
    "start_time": "2022-06-30T12:17:18.242Z"
   },
   {
    "duration": 11,
    "start_time": "2022-06-30T12:18:07.688Z"
   },
   {
    "duration": 5,
    "start_time": "2022-06-30T12:18:08.211Z"
   },
   {
    "duration": 9,
    "start_time": "2022-06-30T12:18:08.752Z"
   },
   {
    "duration": 22,
    "start_time": "2022-06-30T12:18:24.023Z"
   },
   {
    "duration": 4,
    "start_time": "2022-06-30T12:18:24.578Z"
   },
   {
    "duration": 9,
    "start_time": "2022-06-30T12:18:25.216Z"
   },
   {
    "duration": 32,
    "start_time": "2022-06-30T12:18:39.369Z"
   },
   {
    "duration": 5,
    "start_time": "2022-06-30T12:18:39.630Z"
   },
   {
    "duration": 8,
    "start_time": "2022-06-30T12:18:40.846Z"
   },
   {
    "duration": 10,
    "start_time": "2022-06-30T12:19:17.686Z"
   },
   {
    "duration": 4,
    "start_time": "2022-06-30T12:19:18.194Z"
   },
   {
    "duration": 10,
    "start_time": "2022-06-30T12:20:06.197Z"
   },
   {
    "duration": 6,
    "start_time": "2022-06-30T12:20:06.765Z"
   },
   {
    "duration": 4,
    "start_time": "2022-06-30T12:20:58.967Z"
   },
   {
    "duration": 8,
    "start_time": "2022-06-30T12:20:59.765Z"
   },
   {
    "duration": 10,
    "start_time": "2022-06-30T12:21:06.783Z"
   },
   {
    "duration": 312,
    "start_time": "2022-06-30T12:21:09.813Z"
   },
   {
    "duration": 77,
    "start_time": "2022-06-30T12:22:08.723Z"
   },
   {
    "duration": 12,
    "start_time": "2022-06-30T12:22:13.959Z"
   },
   {
    "duration": 412,
    "start_time": "2022-06-30T12:22:14.667Z"
   },
   {
    "duration": 3,
    "start_time": "2022-06-30T12:22:21.890Z"
   },
   {
    "duration": 8,
    "start_time": "2022-06-30T12:22:22.477Z"
   },
   {
    "duration": 7,
    "start_time": "2022-06-30T12:22:45.925Z"
   },
   {
    "duration": 390,
    "start_time": "2022-06-30T12:22:47.198Z"
   },
   {
    "duration": 1092,
    "start_time": "2022-06-30T12:43:54.086Z"
   },
   {
    "duration": 409,
    "start_time": "2022-06-30T12:43:55.180Z"
   },
   {
    "duration": 13,
    "start_time": "2022-06-30T12:43:55.592Z"
   },
   {
    "duration": 9,
    "start_time": "2022-06-30T12:43:55.606Z"
   },
   {
    "duration": 8,
    "start_time": "2022-06-30T12:43:55.617Z"
   },
   {
    "duration": 12,
    "start_time": "2022-06-30T12:43:55.627Z"
   },
   {
    "duration": 12,
    "start_time": "2022-06-30T12:43:55.641Z"
   },
   {
    "duration": 26,
    "start_time": "2022-06-30T12:43:55.654Z"
   },
   {
    "duration": 48,
    "start_time": "2022-06-30T12:43:55.682Z"
   },
   {
    "duration": 17,
    "start_time": "2022-06-30T12:43:55.731Z"
   },
   {
    "duration": 9,
    "start_time": "2022-06-30T12:43:55.750Z"
   },
   {
    "duration": 12,
    "start_time": "2022-06-30T12:43:55.761Z"
   },
   {
    "duration": 147,
    "start_time": "2022-06-30T12:43:55.774Z"
   },
   {
    "duration": 6,
    "start_time": "2022-06-30T12:43:55.926Z"
   },
   {
    "duration": 55,
    "start_time": "2022-06-30T12:43:55.933Z"
   },
   {
    "duration": 3,
    "start_time": "2022-06-30T12:43:55.989Z"
   },
   {
    "duration": 32,
    "start_time": "2022-06-30T12:43:55.994Z"
   },
   {
    "duration": 8,
    "start_time": "2022-06-30T12:43:56.028Z"
   },
   {
    "duration": 10,
    "start_time": "2022-06-30T12:43:56.037Z"
   },
   {
    "duration": 6,
    "start_time": "2022-06-30T12:43:56.049Z"
   },
   {
    "duration": 10,
    "start_time": "2022-06-30T12:43:56.057Z"
   },
   {
    "duration": 26,
    "start_time": "2022-06-30T12:43:56.069Z"
   },
   {
    "duration": 11,
    "start_time": "2022-06-30T12:43:56.097Z"
   },
   {
    "duration": 4,
    "start_time": "2022-06-30T12:43:56.125Z"
   },
   {
    "duration": 11,
    "start_time": "2022-06-30T12:43:56.131Z"
   },
   {
    "duration": 4,
    "start_time": "2022-06-30T12:43:56.144Z"
   },
   {
    "duration": 15,
    "start_time": "2022-06-30T12:43:56.150Z"
   },
   {
    "duration": 7,
    "start_time": "2022-06-30T12:43:56.167Z"
   },
   {
    "duration": 10,
    "start_time": "2022-06-30T12:43:56.175Z"
   },
   {
    "duration": 8,
    "start_time": "2022-06-30T12:43:56.187Z"
   },
   {
    "duration": 29,
    "start_time": "2022-06-30T12:43:56.197Z"
   },
   {
    "duration": 30,
    "start_time": "2022-06-30T12:43:56.227Z"
   },
   {
    "duration": 17,
    "start_time": "2022-06-30T12:43:56.259Z"
   },
   {
    "duration": 10,
    "start_time": "2022-06-30T12:43:56.278Z"
   },
   {
    "duration": 14,
    "start_time": "2022-06-30T12:43:56.290Z"
   },
   {
    "duration": 11,
    "start_time": "2022-06-30T12:43:56.305Z"
   },
   {
    "duration": 245,
    "start_time": "2022-06-30T12:43:56.317Z"
   },
   {
    "duration": 14,
    "start_time": "2022-06-30T12:43:56.564Z"
   },
   {
    "duration": 18406,
    "start_time": "2022-06-30T12:43:56.580Z"
   },
   {
    "duration": 4,
    "start_time": "2022-06-30T12:44:14.987Z"
   },
   {
    "duration": 32,
    "start_time": "2022-06-30T12:44:14.995Z"
   },
   {
    "duration": 13,
    "start_time": "2022-06-30T12:44:15.028Z"
   },
   {
    "duration": 14,
    "start_time": "2022-06-30T12:44:15.043Z"
   },
   {
    "duration": 204,
    "start_time": "2022-06-30T12:44:15.059Z"
   },
   {
    "duration": 9,
    "start_time": "2022-06-30T12:44:15.265Z"
   },
   {
    "duration": 9,
    "start_time": "2022-06-30T12:44:15.275Z"
   },
   {
    "duration": 6,
    "start_time": "2022-06-30T12:44:15.286Z"
   },
   {
    "duration": 92,
    "start_time": "2022-06-30T12:44:15.293Z"
   },
   {
    "duration": 4,
    "start_time": "2022-06-30T12:44:15.387Z"
   },
   {
    "duration": 8,
    "start_time": "2022-06-30T12:44:15.394Z"
   },
   {
    "duration": 157,
    "start_time": "2022-06-30T12:44:15.405Z"
   },
   {
    "duration": 144,
    "start_time": "2022-06-30T12:44:15.563Z"
   },
   {
    "duration": 32,
    "start_time": "2022-06-30T12:44:15.709Z"
   },
   {
    "duration": 150,
    "start_time": "2022-06-30T12:44:15.744Z"
   },
   {
    "duration": 157,
    "start_time": "2022-06-30T12:44:15.897Z"
   },
   {
    "duration": 28,
    "start_time": "2022-06-30T12:44:16.056Z"
   },
   {
    "duration": 232,
    "start_time": "2022-06-30T12:44:16.086Z"
   },
   {
    "duration": 7,
    "start_time": "2022-06-30T12:44:16.320Z"
   },
   {
    "duration": 159,
    "start_time": "2022-06-30T12:44:16.329Z"
   },
   {
    "duration": 4,
    "start_time": "2022-06-30T12:44:16.490Z"
   },
   {
    "duration": 137,
    "start_time": "2022-06-30T12:44:16.502Z"
   },
   {
    "duration": 5,
    "start_time": "2022-06-30T12:44:16.641Z"
   },
   {
    "duration": 17,
    "start_time": "2022-06-30T12:44:16.649Z"
   },
   {
    "duration": 185,
    "start_time": "2022-06-30T12:44:16.669Z"
   },
   {
    "duration": 10,
    "start_time": "2022-06-30T12:44:16.856Z"
   },
   {
    "duration": 32,
    "start_time": "2022-06-30T12:44:16.868Z"
   },
   {
    "duration": 246,
    "start_time": "2022-06-30T12:44:16.902Z"
   },
   {
    "duration": 249,
    "start_time": "2022-06-30T12:44:17.150Z"
   },
   {
    "duration": 7,
    "start_time": "2022-06-30T12:44:17.401Z"
   },
   {
    "duration": 38,
    "start_time": "2022-06-30T12:44:17.409Z"
   },
   {
    "duration": 31,
    "start_time": "2022-06-30T12:44:17.449Z"
   },
   {
    "duration": 156,
    "start_time": "2022-06-30T12:44:17.481Z"
   },
   {
    "duration": 13,
    "start_time": "2022-06-30T12:44:17.638Z"
   },
   {
    "duration": 19,
    "start_time": "2022-06-30T12:44:17.652Z"
   },
   {
    "duration": 13,
    "start_time": "2022-06-30T12:44:17.672Z"
   },
   {
    "duration": 18,
    "start_time": "2022-06-30T12:44:17.687Z"
   },
   {
    "duration": 340,
    "start_time": "2022-06-30T12:44:17.707Z"
   },
   {
    "duration": 632,
    "start_time": "2022-06-30T12:44:18.049Z"
   },
   {
    "duration": 561,
    "start_time": "2022-06-30T12:44:18.683Z"
   },
   {
    "duration": 61,
    "start_time": "2022-06-30T12:44:19.245Z"
   },
   {
    "duration": 42,
    "start_time": "2022-06-30T12:44:19.308Z"
   },
   {
    "duration": 6,
    "start_time": "2022-06-30T12:44:19.351Z"
   },
   {
    "duration": 28,
    "start_time": "2022-06-30T12:44:19.358Z"
   },
   {
    "duration": 12,
    "start_time": "2022-06-30T12:44:19.388Z"
   },
   {
    "duration": 1518,
    "start_time": "2022-06-30T16:31:14.853Z"
   },
   {
    "duration": 743,
    "start_time": "2022-06-30T16:31:16.373Z"
   },
   {
    "duration": 13,
    "start_time": "2022-06-30T16:31:17.118Z"
   },
   {
    "duration": 8,
    "start_time": "2022-06-30T16:31:17.133Z"
   },
   {
    "duration": 12,
    "start_time": "2022-06-30T16:31:17.143Z"
   },
   {
    "duration": 15,
    "start_time": "2022-06-30T16:31:17.157Z"
   },
   {
    "duration": 13,
    "start_time": "2022-06-30T16:31:17.173Z"
   },
   {
    "duration": 42,
    "start_time": "2022-06-30T16:31:17.188Z"
   },
   {
    "duration": 25,
    "start_time": "2022-06-30T16:31:17.231Z"
   },
   {
    "duration": 19,
    "start_time": "2022-06-30T16:31:17.259Z"
   },
   {
    "duration": 9,
    "start_time": "2022-06-30T16:31:17.280Z"
   },
   {
    "duration": 37,
    "start_time": "2022-06-30T16:31:17.291Z"
   },
   {
    "duration": 124,
    "start_time": "2022-06-30T16:31:17.330Z"
   },
   {
    "duration": 5,
    "start_time": "2022-06-30T16:31:17.456Z"
   },
   {
    "duration": 72,
    "start_time": "2022-06-30T16:31:17.463Z"
   },
   {
    "duration": 3,
    "start_time": "2022-06-30T16:31:17.537Z"
   },
   {
    "duration": 10,
    "start_time": "2022-06-30T16:31:17.541Z"
   },
   {
    "duration": 9,
    "start_time": "2022-06-30T16:31:17.553Z"
   },
   {
    "duration": 10,
    "start_time": "2022-06-30T16:31:17.563Z"
   },
   {
    "duration": 6,
    "start_time": "2022-06-30T16:31:17.574Z"
   },
   {
    "duration": 6,
    "start_time": "2022-06-30T16:31:17.581Z"
   },
   {
    "duration": 38,
    "start_time": "2022-06-30T16:31:17.589Z"
   },
   {
    "duration": 10,
    "start_time": "2022-06-30T16:31:17.629Z"
   },
   {
    "duration": 9,
    "start_time": "2022-06-30T16:31:17.640Z"
   },
   {
    "duration": 7,
    "start_time": "2022-06-30T16:31:17.650Z"
   },
   {
    "duration": 4,
    "start_time": "2022-06-30T16:31:17.659Z"
   },
   {
    "duration": 15,
    "start_time": "2022-06-30T16:31:17.665Z"
   },
   {
    "duration": 4,
    "start_time": "2022-06-30T16:31:17.685Z"
   },
   {
    "duration": 37,
    "start_time": "2022-06-30T16:31:17.690Z"
   },
   {
    "duration": 8,
    "start_time": "2022-06-30T16:31:17.729Z"
   },
   {
    "duration": 6,
    "start_time": "2022-06-30T16:31:17.738Z"
   },
   {
    "duration": 12,
    "start_time": "2022-06-30T16:31:17.746Z"
   },
   {
    "duration": 13,
    "start_time": "2022-06-30T16:31:17.759Z"
   },
   {
    "duration": 9,
    "start_time": "2022-06-30T16:31:17.774Z"
   },
   {
    "duration": 10,
    "start_time": "2022-06-30T16:31:17.784Z"
   },
   {
    "duration": 34,
    "start_time": "2022-06-30T16:31:17.795Z"
   },
   {
    "duration": 239,
    "start_time": "2022-06-30T16:31:17.831Z"
   },
   {
    "duration": 11,
    "start_time": "2022-06-30T16:31:18.072Z"
   },
   {
    "duration": 17981,
    "start_time": "2022-06-30T16:31:18.085Z"
   },
   {
    "duration": 4,
    "start_time": "2022-06-30T16:31:36.068Z"
   },
   {
    "duration": 17,
    "start_time": "2022-06-30T16:31:36.127Z"
   },
   {
    "duration": 11,
    "start_time": "2022-06-30T16:31:36.145Z"
   },
   {
    "duration": 15,
    "start_time": "2022-06-30T16:31:36.158Z"
   },
   {
    "duration": 472,
    "start_time": "2022-06-30T16:31:36.175Z"
   },
   {
    "duration": 8,
    "start_time": "2022-06-30T16:31:36.649Z"
   },
   {
    "duration": 10,
    "start_time": "2022-06-30T16:31:36.659Z"
   },
   {
    "duration": 4,
    "start_time": "2022-06-30T16:31:36.671Z"
   },
   {
    "duration": 180,
    "start_time": "2022-06-30T16:31:36.677Z"
   },
   {
    "duration": 5,
    "start_time": "2022-06-30T16:31:36.859Z"
   },
   {
    "duration": 61,
    "start_time": "2022-06-30T16:31:36.866Z"
   },
   {
    "duration": 244,
    "start_time": "2022-06-30T16:31:36.929Z"
   },
   {
    "duration": 165,
    "start_time": "2022-06-30T16:31:37.228Z"
   },
   {
    "duration": 17,
    "start_time": "2022-06-30T16:31:37.394Z"
   },
   {
    "duration": 161,
    "start_time": "2022-06-30T16:31:37.412Z"
   },
   {
    "duration": 163,
    "start_time": "2022-06-30T16:31:37.575Z"
   },
   {
    "duration": 37,
    "start_time": "2022-06-30T16:31:37.740Z"
   },
   {
    "duration": 260,
    "start_time": "2022-06-30T16:31:37.780Z"
   },
   {
    "duration": 5,
    "start_time": "2022-06-30T16:31:38.042Z"
   },
   {
    "duration": 162,
    "start_time": "2022-06-30T16:31:38.049Z"
   },
   {
    "duration": 4,
    "start_time": "2022-06-30T16:31:38.213Z"
   },
   {
    "duration": 134,
    "start_time": "2022-06-30T16:31:38.218Z"
   },
   {
    "duration": 4,
    "start_time": "2022-06-30T16:31:38.354Z"
   },
   {
    "duration": 9,
    "start_time": "2022-06-30T16:31:38.359Z"
   },
   {
    "duration": 162,
    "start_time": "2022-06-30T16:31:38.369Z"
   },
   {
    "duration": 10,
    "start_time": "2022-06-30T16:31:38.533Z"
   },
   {
    "duration": 12,
    "start_time": "2022-06-30T16:31:38.545Z"
   },
   {
    "duration": 235,
    "start_time": "2022-06-30T16:31:38.559Z"
   },
   {
    "duration": 225,
    "start_time": "2022-06-30T16:31:38.796Z"
   },
   {
    "duration": 5,
    "start_time": "2022-06-30T16:31:39.027Z"
   },
   {
    "duration": 21,
    "start_time": "2022-06-30T16:31:39.033Z"
   },
   {
    "duration": 5,
    "start_time": "2022-06-30T16:31:39.055Z"
   },
   {
    "duration": 132,
    "start_time": "2022-06-30T16:31:39.061Z"
   },
   {
    "duration": 10,
    "start_time": "2022-06-30T16:31:39.195Z"
   },
   {
    "duration": 6,
    "start_time": "2022-06-30T16:31:39.206Z"
   },
   {
    "duration": 15,
    "start_time": "2022-06-30T16:31:39.214Z"
   },
   {
    "duration": 13,
    "start_time": "2022-06-30T16:31:39.231Z"
   },
   {
    "duration": 333,
    "start_time": "2022-06-30T16:31:39.245Z"
   },
   {
    "duration": 646,
    "start_time": "2022-06-30T16:31:39.580Z"
   },
   {
    "duration": 505,
    "start_time": "2022-06-30T16:31:40.228Z"
   },
   {
    "duration": 61,
    "start_time": "2022-06-30T16:31:40.735Z"
   },
   {
    "duration": 43,
    "start_time": "2022-06-30T16:31:40.798Z"
   },
   {
    "duration": 5,
    "start_time": "2022-06-30T16:31:40.846Z"
   },
   {
    "duration": 13,
    "start_time": "2022-06-30T16:31:40.853Z"
   },
   {
    "duration": 5,
    "start_time": "2022-06-30T16:31:40.868Z"
   },
   {
    "duration": 1174,
    "start_time": "2022-06-30T16:31:59.693Z"
   },
   {
    "duration": 403,
    "start_time": "2022-06-30T16:32:00.870Z"
   },
   {
    "duration": 15,
    "start_time": "2022-06-30T16:32:01.275Z"
   },
   {
    "duration": 35,
    "start_time": "2022-06-30T16:32:01.292Z"
   },
   {
    "duration": 25,
    "start_time": "2022-06-30T16:32:01.329Z"
   },
   {
    "duration": 21,
    "start_time": "2022-06-30T16:32:01.356Z"
   },
   {
    "duration": 30,
    "start_time": "2022-06-30T16:32:01.379Z"
   },
   {
    "duration": 31,
    "start_time": "2022-06-30T16:32:01.411Z"
   },
   {
    "duration": 24,
    "start_time": "2022-06-30T16:32:01.444Z"
   },
   {
    "duration": 20,
    "start_time": "2022-06-30T16:32:01.470Z"
   },
   {
    "duration": 25,
    "start_time": "2022-06-30T16:32:01.492Z"
   },
   {
    "duration": 28,
    "start_time": "2022-06-30T16:32:01.519Z"
   },
   {
    "duration": 149,
    "start_time": "2022-06-30T16:32:01.548Z"
   },
   {
    "duration": 6,
    "start_time": "2022-06-30T16:32:01.700Z"
   },
   {
    "duration": 72,
    "start_time": "2022-06-30T16:32:01.708Z"
   },
   {
    "duration": 4,
    "start_time": "2022-06-30T16:32:01.782Z"
   },
   {
    "duration": 45,
    "start_time": "2022-06-30T16:32:01.788Z"
   },
   {
    "duration": 19,
    "start_time": "2022-06-30T16:32:01.835Z"
   },
   {
    "duration": 22,
    "start_time": "2022-06-30T16:32:01.856Z"
   },
   {
    "duration": 31,
    "start_time": "2022-06-30T16:32:01.880Z"
   },
   {
    "duration": 7,
    "start_time": "2022-06-30T16:32:01.913Z"
   },
   {
    "duration": 24,
    "start_time": "2022-06-30T16:32:01.922Z"
   },
   {
    "duration": 12,
    "start_time": "2022-06-30T16:32:01.948Z"
   },
   {
    "duration": 8,
    "start_time": "2022-06-30T16:32:01.962Z"
   },
   {
    "duration": 10,
    "start_time": "2022-06-30T16:32:01.971Z"
   },
   {
    "duration": 9,
    "start_time": "2022-06-30T16:32:01.983Z"
   },
   {
    "duration": 29,
    "start_time": "2022-06-30T16:32:01.994Z"
   },
   {
    "duration": 6,
    "start_time": "2022-06-30T16:32:02.025Z"
   },
   {
    "duration": 9,
    "start_time": "2022-06-30T16:32:02.033Z"
   },
   {
    "duration": 36,
    "start_time": "2022-06-30T16:32:02.044Z"
   },
   {
    "duration": 7,
    "start_time": "2022-06-30T16:32:02.083Z"
   },
   {
    "duration": 13,
    "start_time": "2022-06-30T16:32:02.092Z"
   },
   {
    "duration": 23,
    "start_time": "2022-06-30T16:32:02.107Z"
   },
   {
    "duration": 10,
    "start_time": "2022-06-30T16:32:02.132Z"
   },
   {
    "duration": 16,
    "start_time": "2022-06-30T16:32:02.143Z"
   },
   {
    "duration": 14,
    "start_time": "2022-06-30T16:32:02.160Z"
   },
   {
    "duration": 239,
    "start_time": "2022-06-30T16:32:02.176Z"
   },
   {
    "duration": 18,
    "start_time": "2022-06-30T16:32:02.416Z"
   },
   {
    "duration": 18739,
    "start_time": "2022-06-30T16:32:02.435Z"
   },
   {
    "duration": 5,
    "start_time": "2022-06-30T16:32:21.176Z"
   },
   {
    "duration": 21,
    "start_time": "2022-06-30T16:32:21.186Z"
   },
   {
    "duration": 25,
    "start_time": "2022-06-30T16:32:21.210Z"
   },
   {
    "duration": 19,
    "start_time": "2022-06-30T16:32:21.237Z"
   },
   {
    "duration": 192,
    "start_time": "2022-06-30T16:32:21.257Z"
   },
   {
    "duration": 8,
    "start_time": "2022-06-30T16:32:21.451Z"
   },
   {
    "duration": 8,
    "start_time": "2022-06-30T16:32:21.461Z"
   },
   {
    "duration": 6,
    "start_time": "2022-06-30T16:32:21.471Z"
   },
   {
    "duration": 101,
    "start_time": "2022-06-30T16:32:21.479Z"
   },
   {
    "duration": 5,
    "start_time": "2022-06-30T16:32:21.581Z"
   },
   {
    "duration": 11,
    "start_time": "2022-06-30T16:32:21.588Z"
   },
   {
    "duration": 159,
    "start_time": "2022-06-30T16:32:21.601Z"
   },
   {
    "duration": 150,
    "start_time": "2022-06-30T16:32:21.762Z"
   },
   {
    "duration": 23,
    "start_time": "2022-06-30T16:32:21.914Z"
   },
   {
    "duration": 147,
    "start_time": "2022-06-30T16:32:21.939Z"
   },
   {
    "duration": 146,
    "start_time": "2022-06-30T16:32:22.087Z"
   },
   {
    "duration": 30,
    "start_time": "2022-06-30T16:32:22.234Z"
   },
   {
    "duration": 221,
    "start_time": "2022-06-30T16:32:22.266Z"
   },
   {
    "duration": 4,
    "start_time": "2022-06-30T16:32:22.489Z"
   },
   {
    "duration": 160,
    "start_time": "2022-06-30T16:32:22.495Z"
   },
   {
    "duration": 3,
    "start_time": "2022-06-30T16:32:22.657Z"
   },
   {
    "duration": 104,
    "start_time": "2022-06-30T16:32:22.661Z"
   },
   {
    "duration": 4,
    "start_time": "2022-06-30T16:32:22.766Z"
   },
   {
    "duration": 11,
    "start_time": "2022-06-30T16:32:22.771Z"
   },
   {
    "duration": 149,
    "start_time": "2022-06-30T16:32:22.784Z"
   },
   {
    "duration": 9,
    "start_time": "2022-06-30T16:32:22.934Z"
   },
   {
    "duration": 14,
    "start_time": "2022-06-30T16:32:22.944Z"
   },
   {
    "duration": 284,
    "start_time": "2022-06-30T16:32:22.960Z"
   },
   {
    "duration": 497,
    "start_time": "2022-06-30T16:32:23.246Z"
   },
   {
    "duration": 8,
    "start_time": "2022-06-30T16:32:23.745Z"
   },
   {
    "duration": 23,
    "start_time": "2022-06-30T16:32:23.754Z"
   },
   {
    "duration": 5,
    "start_time": "2022-06-30T16:32:23.826Z"
   },
   {
    "duration": 327,
    "start_time": "2022-06-30T16:32:23.832Z"
   },
   {
    "duration": 11,
    "start_time": "2022-06-30T16:32:24.161Z"
   },
   {
    "duration": 3,
    "start_time": "2022-06-30T16:32:24.228Z"
   },
   {
    "duration": 10,
    "start_time": "2022-06-30T16:32:24.232Z"
   },
   {
    "duration": 15,
    "start_time": "2022-06-30T16:32:24.244Z"
   },
   {
    "duration": 621,
    "start_time": "2022-06-30T16:32:24.260Z"
   },
   {
    "duration": 1063,
    "start_time": "2022-06-30T16:32:24.883Z"
   },
   {
    "duration": 1005,
    "start_time": "2022-06-30T16:32:25.947Z"
   },
   {
    "duration": 74,
    "start_time": "2022-06-30T16:32:26.954Z"
   },
   {
    "duration": 25,
    "start_time": "2022-06-30T16:32:27.030Z"
   },
   {
    "duration": 6,
    "start_time": "2022-06-30T16:32:27.057Z"
   },
   {
    "duration": 23,
    "start_time": "2022-06-30T16:32:27.064Z"
   },
   {
    "duration": 6,
    "start_time": "2022-06-30T16:32:27.089Z"
   },
   {
    "duration": 6,
    "start_time": "2022-06-30T18:50:15.886Z"
   },
   {
    "duration": 15,
    "start_time": "2022-06-30T18:52:46.926Z"
   },
   {
    "duration": 8,
    "start_time": "2022-06-30T18:54:23.708Z"
   },
   {
    "duration": 7,
    "start_time": "2022-06-30T18:54:28.316Z"
   },
   {
    "duration": 636,
    "start_time": "2022-06-30T18:56:42.801Z"
   },
   {
    "duration": 716,
    "start_time": "2022-06-30T18:57:25.771Z"
   },
   {
    "duration": 579,
    "start_time": "2022-06-30T18:57:49.773Z"
   },
   {
    "duration": 594,
    "start_time": "2022-06-30T18:58:03.607Z"
   },
   {
    "duration": 614,
    "start_time": "2022-06-30T18:58:15.864Z"
   },
   {
    "duration": 702,
    "start_time": "2022-06-30T18:58:31.451Z"
   },
   {
    "duration": 52,
    "start_time": "2022-06-30T18:59:21.540Z"
   },
   {
    "duration": 928,
    "start_time": "2022-06-30T18:59:26.960Z"
   },
   {
    "duration": 729,
    "start_time": "2022-06-30T18:59:44.679Z"
   },
   {
    "duration": 972,
    "start_time": "2022-06-30T19:00:03.443Z"
   },
   {
    "duration": 788,
    "start_time": "2022-06-30T19:00:15.565Z"
   },
   {
    "duration": 966,
    "start_time": "2022-06-30T19:00:25.320Z"
   },
   {
    "duration": 428,
    "start_time": "2022-06-30T19:00:38.672Z"
   },
   {
    "duration": 374,
    "start_time": "2022-06-30T19:00:48.389Z"
   },
   {
    "duration": 364,
    "start_time": "2022-06-30T19:00:58.492Z"
   },
   {
    "duration": 349,
    "start_time": "2022-06-30T19:01:58.791Z"
   },
   {
    "duration": 369,
    "start_time": "2022-06-30T19:02:13.879Z"
   },
   {
    "duration": 333,
    "start_time": "2022-06-30T19:02:19.949Z"
   },
   {
    "duration": 339,
    "start_time": "2022-06-30T19:02:28.204Z"
   },
   {
    "duration": 609,
    "start_time": "2022-06-30T19:02:39.252Z"
   },
   {
    "duration": 341,
    "start_time": "2022-06-30T19:02:54.750Z"
   },
   {
    "duration": 58,
    "start_time": "2022-06-30T19:03:38.150Z"
   },
   {
    "duration": 323,
    "start_time": "2022-06-30T19:03:42.007Z"
   },
   {
    "duration": 5,
    "start_time": "2022-06-30T19:05:00.598Z"
   },
   {
    "duration": 10,
    "start_time": "2022-06-30T19:05:19.345Z"
   },
   {
    "duration": 9,
    "start_time": "2022-06-30T19:05:31.941Z"
   },
   {
    "duration": 12,
    "start_time": "2022-06-30T19:05:32.489Z"
   },
   {
    "duration": 331,
    "start_time": "2022-06-30T19:05:37.919Z"
   },
   {
    "duration": 335,
    "start_time": "2022-06-30T19:05:48.338Z"
   },
   {
    "duration": 353,
    "start_time": "2022-06-30T19:05:58.523Z"
   },
   {
    "duration": 10,
    "start_time": "2022-06-30T19:06:56.785Z"
   },
   {
    "duration": 433,
    "start_time": "2022-06-30T19:07:37.711Z"
   },
   {
    "duration": 426,
    "start_time": "2022-06-30T19:08:28.859Z"
   },
   {
    "duration": 758,
    "start_time": "2022-06-30T19:08:44.703Z"
   },
   {
    "duration": 481,
    "start_time": "2022-06-30T19:08:56.716Z"
   },
   {
    "duration": 1249,
    "start_time": "2022-06-30T19:09:24.151Z"
   },
   {
    "duration": 955,
    "start_time": "2022-06-30T19:09:38.997Z"
   },
   {
    "duration": 480,
    "start_time": "2022-06-30T19:10:26.183Z"
   },
   {
    "duration": 418,
    "start_time": "2022-06-30T19:10:41.173Z"
   },
   {
    "duration": 12,
    "start_time": "2022-06-30T19:11:34.029Z"
   },
   {
    "duration": 466,
    "start_time": "2022-06-30T19:11:34.578Z"
   },
   {
    "duration": 14,
    "start_time": "2022-06-30T19:12:03.794Z"
   },
   {
    "duration": 10,
    "start_time": "2022-06-30T19:12:35.077Z"
   },
   {
    "duration": 423,
    "start_time": "2022-06-30T19:12:35.570Z"
   },
   {
    "duration": 434,
    "start_time": "2022-06-30T19:12:49.857Z"
   },
   {
    "duration": 881,
    "start_time": "2022-06-30T19:13:02.840Z"
   },
   {
    "duration": 329,
    "start_time": "2022-06-30T19:13:48.811Z"
   },
   {
    "duration": 8,
    "start_time": "2022-06-30T19:22:03.379Z"
   },
   {
    "duration": 323,
    "start_time": "2022-06-30T19:22:28.575Z"
   },
   {
    "duration": 378,
    "start_time": "2022-06-30T19:22:54.739Z"
   },
   {
    "duration": 345,
    "start_time": "2022-06-30T19:23:23.339Z"
   },
   {
    "duration": 377,
    "start_time": "2022-06-30T19:23:45.005Z"
   },
   {
    "duration": 344,
    "start_time": "2022-06-30T19:23:54.563Z"
   },
   {
    "duration": 840,
    "start_time": "2022-06-30T19:24:17.475Z"
   },
   {
    "duration": 347,
    "start_time": "2022-06-30T19:24:44.757Z"
   },
   {
    "duration": 9,
    "start_time": "2022-06-30T19:26:24.969Z"
   },
   {
    "duration": 319,
    "start_time": "2022-06-30T19:26:36.510Z"
   },
   {
    "duration": 11,
    "start_time": "2022-06-30T19:26:55.749Z"
   },
   {
    "duration": 339,
    "start_time": "2022-06-30T19:27:34.253Z"
   },
   {
    "duration": 11,
    "start_time": "2022-06-30T19:27:48.873Z"
   },
   {
    "duration": 345,
    "start_time": "2022-06-30T19:28:10.674Z"
   },
   {
    "duration": 8,
    "start_time": "2022-06-30T19:30:19.982Z"
   },
   {
    "duration": 11,
    "start_time": "2022-06-30T19:30:20.678Z"
   },
   {
    "duration": 316,
    "start_time": "2022-06-30T19:30:21.764Z"
   },
   {
    "duration": 333,
    "start_time": "2022-06-30T19:30:47.660Z"
   },
   {
    "duration": 12,
    "start_time": "2022-06-30T19:30:57.274Z"
   },
   {
    "duration": 7,
    "start_time": "2022-06-30T19:31:28.392Z"
   },
   {
    "duration": 11,
    "start_time": "2022-06-30T19:31:28.876Z"
   },
   {
    "duration": 20,
    "start_time": "2022-06-30T19:31:36.223Z"
   },
   {
    "duration": 8,
    "start_time": "2022-06-30T19:32:39.895Z"
   },
   {
    "duration": 13,
    "start_time": "2022-06-30T19:32:46.027Z"
   },
   {
    "duration": 8,
    "start_time": "2022-06-30T19:33:19.759Z"
   },
   {
    "duration": 12,
    "start_time": "2022-06-30T19:33:22.738Z"
   },
   {
    "duration": 15,
    "start_time": "2022-06-30T19:34:26.318Z"
   },
   {
    "duration": 10,
    "start_time": "2022-06-30T19:34:26.895Z"
   },
   {
    "duration": 8,
    "start_time": "2022-06-30T19:34:38.840Z"
   },
   {
    "duration": 11,
    "start_time": "2022-06-30T19:34:39.278Z"
   },
   {
    "duration": 852,
    "start_time": "2022-06-30T19:34:54.539Z"
   },
   {
    "duration": 406,
    "start_time": "2022-06-30T19:35:03.752Z"
   },
   {
    "duration": 327,
    "start_time": "2022-06-30T19:36:45.625Z"
   },
   {
    "duration": 339,
    "start_time": "2022-06-30T19:36:57.118Z"
   },
   {
    "duration": 341,
    "start_time": "2022-06-30T19:37:24.401Z"
   },
   {
    "duration": 13,
    "start_time": "2022-06-30T19:37:40.159Z"
   },
   {
    "duration": 321,
    "start_time": "2022-06-30T19:37:55.641Z"
   },
   {
    "duration": 346,
    "start_time": "2022-06-30T19:38:03.639Z"
   },
   {
    "duration": 8,
    "start_time": "2022-06-30T19:41:37.366Z"
   },
   {
    "duration": 13,
    "start_time": "2022-06-30T19:41:38.051Z"
   },
   {
    "duration": 367,
    "start_time": "2022-06-30T19:41:38.810Z"
   },
   {
    "duration": 8,
    "start_time": "2022-06-30T21:16:58.169Z"
   },
   {
    "duration": 393,
    "start_time": "2022-06-30T21:17:36.077Z"
   },
   {
    "duration": 8,
    "start_time": "2022-06-30T21:17:39.435Z"
   },
   {
    "duration": 8,
    "start_time": "2022-06-30T21:17:59.261Z"
   },
   {
    "duration": 1164,
    "start_time": "2022-06-30T21:18:24.761Z"
   },
   {
    "duration": 472,
    "start_time": "2022-06-30T21:18:25.928Z"
   },
   {
    "duration": 16,
    "start_time": "2022-06-30T21:18:26.403Z"
   },
   {
    "duration": 18,
    "start_time": "2022-06-30T21:18:26.421Z"
   },
   {
    "duration": 20,
    "start_time": "2022-06-30T21:18:26.442Z"
   },
   {
    "duration": 23,
    "start_time": "2022-06-30T21:18:26.465Z"
   },
   {
    "duration": 20,
    "start_time": "2022-06-30T21:18:26.491Z"
   },
   {
    "duration": 45,
    "start_time": "2022-06-30T21:18:26.513Z"
   },
   {
    "duration": 33,
    "start_time": "2022-06-30T21:18:26.560Z"
   },
   {
    "duration": 18,
    "start_time": "2022-06-30T21:18:26.595Z"
   },
   {
    "duration": 10,
    "start_time": "2022-06-30T21:18:26.627Z"
   },
   {
    "duration": 13,
    "start_time": "2022-06-30T21:18:26.640Z"
   },
   {
    "duration": 154,
    "start_time": "2022-06-30T21:18:26.654Z"
   },
   {
    "duration": 6,
    "start_time": "2022-06-30T21:18:26.811Z"
   },
   {
    "duration": 69,
    "start_time": "2022-06-30T21:18:26.818Z"
   },
   {
    "duration": 2,
    "start_time": "2022-06-30T21:18:26.889Z"
   },
   {
    "duration": 11,
    "start_time": "2022-06-30T21:18:26.893Z"
   },
   {
    "duration": 22,
    "start_time": "2022-06-30T21:18:26.906Z"
   },
   {
    "duration": 7,
    "start_time": "2022-06-30T21:18:26.929Z"
   },
   {
    "duration": 6,
    "start_time": "2022-06-30T21:18:26.938Z"
   },
   {
    "duration": 6,
    "start_time": "2022-06-30T21:18:26.946Z"
   },
   {
    "duration": 19,
    "start_time": "2022-06-30T21:18:26.953Z"
   },
   {
    "duration": 11,
    "start_time": "2022-06-30T21:18:26.974Z"
   },
   {
    "duration": 10,
    "start_time": "2022-06-30T21:18:26.986Z"
   },
   {
    "duration": 9,
    "start_time": "2022-06-30T21:18:26.997Z"
   },
   {
    "duration": 22,
    "start_time": "2022-06-30T21:18:27.007Z"
   },
   {
    "duration": 54,
    "start_time": "2022-06-30T21:18:27.031Z"
   },
   {
    "duration": 13,
    "start_time": "2022-06-30T21:18:27.088Z"
   },
   {
    "duration": 28,
    "start_time": "2022-06-30T21:18:27.104Z"
   },
   {
    "duration": 10,
    "start_time": "2022-06-30T21:18:27.134Z"
   },
   {
    "duration": 8,
    "start_time": "2022-06-30T21:18:27.146Z"
   },
   {
    "duration": 15,
    "start_time": "2022-06-30T21:18:27.156Z"
   },
   {
    "duration": 21,
    "start_time": "2022-06-30T21:18:27.173Z"
   },
   {
    "duration": 34,
    "start_time": "2022-06-30T21:18:27.196Z"
   },
   {
    "duration": 10,
    "start_time": "2022-06-30T21:18:27.232Z"
   },
   {
    "duration": 18,
    "start_time": "2022-06-30T21:18:27.244Z"
   },
   {
    "duration": 250,
    "start_time": "2022-06-30T21:18:27.263Z"
   },
   {
    "duration": 18,
    "start_time": "2022-06-30T21:18:27.515Z"
   },
   {
    "duration": 16839,
    "start_time": "2022-06-30T21:18:27.534Z"
   },
   {
    "duration": 4,
    "start_time": "2022-06-30T21:18:44.374Z"
   },
   {
    "duration": 15,
    "start_time": "2022-06-30T21:18:44.382Z"
   },
   {
    "duration": 35,
    "start_time": "2022-06-30T21:18:44.398Z"
   },
   {
    "duration": 15,
    "start_time": "2022-06-30T21:18:44.434Z"
   },
   {
    "duration": 180,
    "start_time": "2022-06-30T21:18:44.450Z"
   },
   {
    "duration": 7,
    "start_time": "2022-06-30T21:18:44.632Z"
   },
   {
    "duration": 10,
    "start_time": "2022-06-30T21:18:44.641Z"
   },
   {
    "duration": 11,
    "start_time": "2022-06-30T21:18:44.653Z"
   },
   {
    "duration": 88,
    "start_time": "2022-06-30T21:18:44.666Z"
   },
   {
    "duration": 5,
    "start_time": "2022-06-30T21:18:44.757Z"
   },
   {
    "duration": 7,
    "start_time": "2022-06-30T21:18:44.763Z"
   },
   {
    "duration": 173,
    "start_time": "2022-06-30T21:18:44.772Z"
   },
   {
    "duration": 157,
    "start_time": "2022-06-30T21:18:44.947Z"
   },
   {
    "duration": 27,
    "start_time": "2022-06-30T21:18:45.106Z"
   },
   {
    "duration": 218,
    "start_time": "2022-06-30T21:18:45.135Z"
   },
   {
    "duration": 146,
    "start_time": "2022-06-30T21:18:45.356Z"
   },
   {
    "duration": 42,
    "start_time": "2022-06-30T21:18:45.504Z"
   },
   {
    "duration": 229,
    "start_time": "2022-06-30T21:18:45.548Z"
   },
   {
    "duration": 7,
    "start_time": "2022-06-30T21:18:45.779Z"
   },
   {
    "duration": 166,
    "start_time": "2022-06-30T21:18:45.787Z"
   },
   {
    "duration": 4,
    "start_time": "2022-06-30T21:18:45.955Z"
   },
   {
    "duration": 119,
    "start_time": "2022-06-30T21:18:45.961Z"
   },
   {
    "duration": 12,
    "start_time": "2022-06-30T21:18:46.082Z"
   },
   {
    "duration": 10,
    "start_time": "2022-06-30T21:18:46.095Z"
   },
   {
    "duration": 152,
    "start_time": "2022-06-30T21:18:46.106Z"
   },
   {
    "duration": 11,
    "start_time": "2022-06-30T21:18:46.260Z"
   },
   {
    "duration": 15,
    "start_time": "2022-06-30T21:18:46.273Z"
   },
   {
    "duration": 269,
    "start_time": "2022-06-30T21:18:46.291Z"
   },
   {
    "duration": 245,
    "start_time": "2022-06-30T21:18:46.562Z"
   },
   {
    "duration": 7,
    "start_time": "2022-06-30T21:18:46.809Z"
   },
   {
    "duration": 15,
    "start_time": "2022-06-30T21:18:46.817Z"
   },
   {
    "duration": 5,
    "start_time": "2022-06-30T21:18:46.834Z"
   },
   {
    "duration": 143,
    "start_time": "2022-06-30T21:18:46.840Z"
   },
   {
    "duration": 11,
    "start_time": "2022-06-30T21:18:46.984Z"
   },
   {
    "duration": 6,
    "start_time": "2022-06-30T21:18:46.996Z"
   },
   {
    "duration": 10,
    "start_time": "2022-06-30T21:18:47.004Z"
   },
   {
    "duration": 7,
    "start_time": "2022-06-30T21:18:47.027Z"
   },
   {
    "duration": 7,
    "start_time": "2022-06-30T21:18:47.037Z"
   },
   {
    "duration": 8,
    "start_time": "2022-06-30T21:19:25.864Z"
   },
   {
    "duration": 8,
    "start_time": "2022-06-30T21:19:46.179Z"
   },
   {
    "duration": 336,
    "start_time": "2022-06-30T21:20:15.564Z"
   },
   {
    "duration": 424,
    "start_time": "2022-06-30T21:20:30.420Z"
   },
   {
    "duration": 325,
    "start_time": "2022-06-30T21:20:36.396Z"
   },
   {
    "duration": 8,
    "start_time": "2022-06-30T21:21:00.239Z"
   },
   {
    "duration": 374,
    "start_time": "2022-06-30T21:21:37.245Z"
   },
   {
    "duration": 320,
    "start_time": "2022-06-30T21:21:55.835Z"
   },
   {
    "duration": 8,
    "start_time": "2022-06-30T21:23:56.619Z"
   },
   {
    "duration": 9,
    "start_time": "2022-06-30T21:39:04.229Z"
   },
   {
    "duration": 8,
    "start_time": "2022-06-30T21:39:38.579Z"
   },
   {
    "duration": 58,
    "start_time": "2022-06-30T21:45:31.383Z"
   },
   {
    "duration": 103,
    "start_time": "2022-06-30T21:53:34.687Z"
   },
   {
    "duration": 57,
    "start_time": "2022-06-30T21:53:48.809Z"
   },
   {
    "duration": 11,
    "start_time": "2022-06-30T21:55:22.138Z"
   },
   {
    "duration": 12426,
    "start_time": "2022-06-30T21:56:28.094Z"
   },
   {
    "duration": 107,
    "start_time": "2022-06-30T22:00:26.146Z"
   },
   {
    "duration": 16,
    "start_time": "2022-06-30T22:00:31.294Z"
   },
   {
    "duration": 189,
    "start_time": "2022-06-30T22:00:49.262Z"
   },
   {
    "duration": 10,
    "start_time": "2022-06-30T22:01:28.950Z"
   },
   {
    "duration": 164,
    "start_time": "2022-06-30T22:01:29.445Z"
   },
   {
    "duration": 149,
    "start_time": "2022-06-30T22:01:45.867Z"
   },
   {
    "duration": 188,
    "start_time": "2022-06-30T22:02:08.564Z"
   },
   {
    "duration": 175,
    "start_time": "2022-06-30T22:02:34.426Z"
   },
   {
    "duration": 7,
    "start_time": "2022-06-30T22:02:50.708Z"
   },
   {
    "duration": 15,
    "start_time": "2022-06-30T22:06:58.723Z"
   },
   {
    "duration": 9,
    "start_time": "2022-06-30T22:06:59.266Z"
   },
   {
    "duration": 203,
    "start_time": "2022-06-30T22:07:02.372Z"
   },
   {
    "duration": 269,
    "start_time": "2022-06-30T22:08:15.007Z"
   },
   {
    "duration": 225,
    "start_time": "2022-06-30T22:08:22.093Z"
   },
   {
    "duration": 18,
    "start_time": "2022-06-30T22:15:20.377Z"
   },
   {
    "duration": 1114,
    "start_time": "2022-06-30T22:15:47.203Z"
   },
   {
    "duration": 381,
    "start_time": "2022-06-30T22:15:48.319Z"
   },
   {
    "duration": 12,
    "start_time": "2022-06-30T22:15:48.702Z"
   },
   {
    "duration": 8,
    "start_time": "2022-06-30T22:15:48.716Z"
   },
   {
    "duration": 12,
    "start_time": "2022-06-30T22:15:48.726Z"
   },
   {
    "duration": 8,
    "start_time": "2022-06-30T22:15:48.739Z"
   },
   {
    "duration": 13,
    "start_time": "2022-06-30T22:15:48.749Z"
   },
   {
    "duration": 32,
    "start_time": "2022-06-30T22:15:48.763Z"
   },
   {
    "duration": 32,
    "start_time": "2022-06-30T22:15:48.797Z"
   },
   {
    "duration": 20,
    "start_time": "2022-06-30T22:15:48.831Z"
   },
   {
    "duration": 9,
    "start_time": "2022-06-30T22:15:48.853Z"
   },
   {
    "duration": 10,
    "start_time": "2022-06-30T22:15:48.864Z"
   },
   {
    "duration": 162,
    "start_time": "2022-06-30T22:15:48.876Z"
   },
   {
    "duration": 6,
    "start_time": "2022-06-30T22:15:49.040Z"
   },
   {
    "duration": 59,
    "start_time": "2022-06-30T22:15:49.047Z"
   },
   {
    "duration": 3,
    "start_time": "2022-06-30T22:15:49.108Z"
   },
   {
    "duration": 19,
    "start_time": "2022-06-30T22:15:49.112Z"
   },
   {
    "duration": 9,
    "start_time": "2022-06-30T22:15:49.132Z"
   },
   {
    "duration": 10,
    "start_time": "2022-06-30T22:15:49.143Z"
   },
   {
    "duration": 5,
    "start_time": "2022-06-30T22:15:49.154Z"
   },
   {
    "duration": 5,
    "start_time": "2022-06-30T22:15:49.160Z"
   },
   {
    "duration": 16,
    "start_time": "2022-06-30T22:15:49.166Z"
   },
   {
    "duration": 11,
    "start_time": "2022-06-30T22:15:49.183Z"
   },
   {
    "duration": 4,
    "start_time": "2022-06-30T22:15:49.195Z"
   },
   {
    "duration": 8,
    "start_time": "2022-06-30T22:15:49.233Z"
   },
   {
    "duration": 4,
    "start_time": "2022-06-30T22:15:49.243Z"
   },
   {
    "duration": 13,
    "start_time": "2022-06-30T22:15:49.249Z"
   },
   {
    "duration": 4,
    "start_time": "2022-06-30T22:15:49.267Z"
   },
   {
    "duration": 8,
    "start_time": "2022-06-30T22:15:49.272Z"
   },
   {
    "duration": 8,
    "start_time": "2022-06-30T22:15:49.281Z"
   },
   {
    "duration": 7,
    "start_time": "2022-06-30T22:15:49.290Z"
   },
   {
    "duration": 39,
    "start_time": "2022-06-30T22:15:49.298Z"
   },
   {
    "duration": 16,
    "start_time": "2022-06-30T22:15:49.340Z"
   },
   {
    "duration": 9,
    "start_time": "2022-06-30T22:15:49.358Z"
   },
   {
    "duration": 10,
    "start_time": "2022-06-30T22:15:49.368Z"
   },
   {
    "duration": 12,
    "start_time": "2022-06-30T22:15:49.380Z"
   },
   {
    "duration": 239,
    "start_time": "2022-06-30T22:15:49.393Z"
   },
   {
    "duration": 14,
    "start_time": "2022-06-30T22:15:49.638Z"
   },
   {
    "duration": 19322,
    "start_time": "2022-06-30T22:15:49.653Z"
   },
   {
    "duration": 4,
    "start_time": "2022-06-30T22:16:08.977Z"
   },
   {
    "duration": 14,
    "start_time": "2022-06-30T22:16:08.983Z"
   },
   {
    "duration": 11,
    "start_time": "2022-06-30T22:16:08.999Z"
   },
   {
    "duration": 39,
    "start_time": "2022-06-30T22:16:09.012Z"
   },
   {
    "duration": 171,
    "start_time": "2022-06-30T22:16:09.052Z"
   },
   {
    "duration": 13,
    "start_time": "2022-06-30T22:16:09.227Z"
   },
   {
    "duration": 9,
    "start_time": "2022-06-30T22:16:09.242Z"
   },
   {
    "duration": 9,
    "start_time": "2022-06-30T22:16:09.252Z"
   },
   {
    "duration": 97,
    "start_time": "2022-06-30T22:16:09.263Z"
   },
   {
    "duration": 5,
    "start_time": "2022-06-30T22:16:09.362Z"
   },
   {
    "duration": 22,
    "start_time": "2022-06-30T22:16:09.368Z"
   },
   {
    "duration": 156,
    "start_time": "2022-06-30T22:16:09.392Z"
   },
   {
    "duration": 148,
    "start_time": "2022-06-30T22:16:09.550Z"
   },
   {
    "duration": 28,
    "start_time": "2022-06-30T22:16:09.699Z"
   },
   {
    "duration": 162,
    "start_time": "2022-06-30T22:16:09.729Z"
   },
   {
    "duration": 154,
    "start_time": "2022-06-30T22:16:09.893Z"
   },
   {
    "duration": 32,
    "start_time": "2022-06-30T22:16:10.049Z"
   },
   {
    "duration": 239,
    "start_time": "2022-06-30T22:16:10.083Z"
   },
   {
    "duration": 5,
    "start_time": "2022-06-30T22:16:10.324Z"
   },
   {
    "duration": 175,
    "start_time": "2022-06-30T22:16:10.330Z"
   },
   {
    "duration": 58,
    "start_time": "2022-06-30T22:16:10.506Z"
   },
   {
    "duration": 11,
    "start_time": "2022-06-30T22:16:10.566Z"
   },
   {
    "duration": 14,
    "start_time": "2022-06-30T22:16:10.579Z"
   },
   {
    "duration": 7,
    "start_time": "2022-06-30T22:16:10.595Z"
   },
   {
    "duration": 243,
    "start_time": "2022-06-30T22:16:10.604Z"
   },
   {
    "duration": 3,
    "start_time": "2022-06-30T22:16:10.849Z"
   },
   {
    "duration": 114,
    "start_time": "2022-06-30T22:16:10.854Z"
   },
   {
    "duration": 8,
    "start_time": "2022-06-30T22:16:10.970Z"
   },
   {
    "duration": 15,
    "start_time": "2022-06-30T22:16:10.979Z"
   },
   {
    "duration": 145,
    "start_time": "2022-06-30T22:16:10.996Z"
   },
   {
    "duration": 11,
    "start_time": "2022-06-30T22:16:11.151Z"
   },
   {
    "duration": 11,
    "start_time": "2022-06-30T22:16:11.164Z"
   },
   {
    "duration": 232,
    "start_time": "2022-06-30T22:16:11.177Z"
   },
   {
    "duration": 255,
    "start_time": "2022-06-30T22:16:11.410Z"
   },
   {
    "duration": 8,
    "start_time": "2022-06-30T22:16:11.666Z"
   },
   {
    "duration": 11,
    "start_time": "2022-06-30T22:16:11.675Z"
   },
   {
    "duration": 8,
    "start_time": "2022-06-30T22:16:11.688Z"
   },
   {
    "duration": 224,
    "start_time": "2022-06-30T22:16:11.697Z"
   },
   {
    "duration": 17,
    "start_time": "2022-06-30T22:16:11.927Z"
   },
   {
    "duration": 9,
    "start_time": "2022-06-30T22:16:18.228Z"
   },
   {
    "duration": 9,
    "start_time": "2022-06-30T22:16:18.980Z"
   },
   {
    "duration": 8,
    "start_time": "2022-06-30T22:16:27.158Z"
   },
   {
    "duration": 319,
    "start_time": "2022-06-30T22:16:28.217Z"
   },
   {
    "duration": 112,
    "start_time": "2022-06-30T22:23:01.152Z"
   },
   {
    "duration": 10,
    "start_time": "2022-06-30T22:23:37.348Z"
   },
   {
    "duration": 115,
    "start_time": "2022-06-30T22:24:00.669Z"
   },
   {
    "duration": 70,
    "start_time": "2022-06-30T22:24:38.520Z"
   },
   {
    "duration": 57,
    "start_time": "2022-06-30T22:24:48.939Z"
   },
   {
    "duration": 75,
    "start_time": "2022-06-30T22:26:32.791Z"
   },
   {
    "duration": 69,
    "start_time": "2022-06-30T22:27:30.687Z"
   },
   {
    "duration": 85,
    "start_time": "2022-06-30T22:27:57.102Z"
   },
   {
    "duration": 87,
    "start_time": "2022-06-30T22:28:04.423Z"
   },
   {
    "duration": 197,
    "start_time": "2022-06-30T22:28:31.744Z"
   },
   {
    "duration": 159,
    "start_time": "2022-06-30T22:29:33.840Z"
   },
   {
    "duration": 534,
    "start_time": "2022-06-30T22:33:55.139Z"
   },
   {
    "duration": 666,
    "start_time": "2022-06-30T22:33:55.676Z"
   },
   {
    "duration": 76,
    "start_time": "2022-06-30T22:33:56.344Z"
   },
   {
    "duration": 39,
    "start_time": "2022-06-30T22:33:56.423Z"
   },
   {
    "duration": 7,
    "start_time": "2022-06-30T22:33:56.464Z"
   },
   {
    "duration": 12,
    "start_time": "2022-06-30T22:33:56.473Z"
   },
   {
    "duration": 4,
    "start_time": "2022-06-30T22:33:56.487Z"
   },
   {
    "duration": 60,
    "start_time": "2022-06-30T22:36:09.100Z"
   },
   {
    "duration": 239,
    "start_time": "2022-07-01T00:04:54.520Z"
   },
   {
    "duration": 1212,
    "start_time": "2022-07-01T00:05:13.733Z"
   },
   {
    "duration": 414,
    "start_time": "2022-07-01T00:05:14.947Z"
   },
   {
    "duration": 13,
    "start_time": "2022-07-01T00:05:15.362Z"
   },
   {
    "duration": 16,
    "start_time": "2022-07-01T00:05:15.377Z"
   },
   {
    "duration": 21,
    "start_time": "2022-07-01T00:05:15.394Z"
   },
   {
    "duration": 11,
    "start_time": "2022-07-01T00:05:15.416Z"
   },
   {
    "duration": 16,
    "start_time": "2022-07-01T00:05:15.429Z"
   },
   {
    "duration": 28,
    "start_time": "2022-07-01T00:05:15.447Z"
   },
   {
    "duration": 23,
    "start_time": "2022-07-01T00:05:15.478Z"
   },
   {
    "duration": 19,
    "start_time": "2022-07-01T00:05:15.527Z"
   },
   {
    "duration": 11,
    "start_time": "2022-07-01T00:05:15.548Z"
   },
   {
    "duration": 15,
    "start_time": "2022-07-01T00:05:15.561Z"
   },
   {
    "duration": 143,
    "start_time": "2022-07-01T00:05:15.577Z"
   },
   {
    "duration": 7,
    "start_time": "2022-07-01T00:05:15.722Z"
   },
   {
    "duration": 62,
    "start_time": "2022-07-01T00:05:15.731Z"
   },
   {
    "duration": 3,
    "start_time": "2022-07-01T00:05:15.795Z"
   },
   {
    "duration": 29,
    "start_time": "2022-07-01T00:05:15.799Z"
   },
   {
    "duration": 7,
    "start_time": "2022-07-01T00:05:15.830Z"
   },
   {
    "duration": 9,
    "start_time": "2022-07-01T00:05:15.839Z"
   },
   {
    "duration": 6,
    "start_time": "2022-07-01T00:05:15.849Z"
   },
   {
    "duration": 5,
    "start_time": "2022-07-01T00:05:15.857Z"
   },
   {
    "duration": 17,
    "start_time": "2022-07-01T00:05:15.863Z"
   },
   {
    "duration": 13,
    "start_time": "2022-07-01T00:05:15.882Z"
   },
   {
    "duration": 35,
    "start_time": "2022-07-01T00:05:15.897Z"
   },
   {
    "duration": 7,
    "start_time": "2022-07-01T00:05:15.933Z"
   },
   {
    "duration": 3,
    "start_time": "2022-07-01T00:05:15.941Z"
   },
   {
    "duration": 17,
    "start_time": "2022-07-01T00:05:15.946Z"
   },
   {
    "duration": 6,
    "start_time": "2022-07-01T00:05:15.967Z"
   },
   {
    "duration": 8,
    "start_time": "2022-07-01T00:05:15.974Z"
   },
   {
    "duration": 8,
    "start_time": "2022-07-01T00:05:15.983Z"
   },
   {
    "duration": 40,
    "start_time": "2022-07-01T00:05:15.992Z"
   },
   {
    "duration": 12,
    "start_time": "2022-07-01T00:05:16.034Z"
   },
   {
    "duration": 15,
    "start_time": "2022-07-01T00:05:16.048Z"
   },
   {
    "duration": 14,
    "start_time": "2022-07-01T00:05:16.065Z"
   },
   {
    "duration": 53,
    "start_time": "2022-07-01T00:05:16.081Z"
   },
   {
    "duration": 14,
    "start_time": "2022-07-01T00:05:16.136Z"
   },
   {
    "duration": 521,
    "start_time": "2022-07-01T00:05:16.151Z"
   },
   {
    "duration": 66,
    "start_time": "2022-07-01T00:05:16.673Z"
   },
   {
    "duration": 16908,
    "start_time": "2022-07-01T00:05:16.741Z"
   },
   {
    "duration": 4,
    "start_time": "2022-07-01T00:05:33.651Z"
   },
   {
    "duration": 24,
    "start_time": "2022-07-01T00:05:33.657Z"
   },
   {
    "duration": 28,
    "start_time": "2022-07-01T00:05:33.683Z"
   },
   {
    "duration": 26,
    "start_time": "2022-07-01T00:05:33.712Z"
   },
   {
    "duration": 188,
    "start_time": "2022-07-01T00:05:33.740Z"
   },
   {
    "duration": 7,
    "start_time": "2022-07-01T00:05:33.930Z"
   },
   {
    "duration": 8,
    "start_time": "2022-07-01T00:05:33.939Z"
   },
   {
    "duration": 7,
    "start_time": "2022-07-01T00:05:33.948Z"
   },
   {
    "duration": 100,
    "start_time": "2022-07-01T00:05:33.956Z"
   },
   {
    "duration": 5,
    "start_time": "2022-07-01T00:05:34.057Z"
   },
   {
    "duration": 9,
    "start_time": "2022-07-01T00:05:34.063Z"
   },
   {
    "duration": 140,
    "start_time": "2022-07-01T00:05:34.073Z"
   },
   {
    "duration": 146,
    "start_time": "2022-07-01T00:05:34.215Z"
   },
   {
    "duration": 16,
    "start_time": "2022-07-01T00:05:34.363Z"
   },
   {
    "duration": 160,
    "start_time": "2022-07-01T00:05:34.381Z"
   },
   {
    "duration": 147,
    "start_time": "2022-07-01T00:05:34.543Z"
   },
   {
    "duration": 41,
    "start_time": "2022-07-01T00:05:34.692Z"
   },
   {
    "duration": 244,
    "start_time": "2022-07-01T00:05:34.735Z"
   },
   {
    "duration": 4,
    "start_time": "2022-07-01T00:05:34.980Z"
   },
   {
    "duration": 164,
    "start_time": "2022-07-01T00:05:34.986Z"
   },
   {
    "duration": 42,
    "start_time": "2022-07-01T00:05:35.152Z"
   },
   {
    "duration": 9,
    "start_time": "2022-07-01T00:05:35.196Z"
   },
   {
    "duration": 37,
    "start_time": "2022-07-01T00:05:35.207Z"
   },
   {
    "duration": 20,
    "start_time": "2022-07-01T00:05:35.247Z"
   },
   {
    "duration": 216,
    "start_time": "2022-07-01T00:05:35.269Z"
   },
   {
    "duration": 3,
    "start_time": "2022-07-01T00:05:35.487Z"
   },
   {
    "duration": 102,
    "start_time": "2022-07-01T00:05:35.491Z"
   },
   {
    "duration": 4,
    "start_time": "2022-07-01T00:05:35.594Z"
   },
   {
    "duration": 27,
    "start_time": "2022-07-01T00:05:35.600Z"
   },
   {
    "duration": 146,
    "start_time": "2022-07-01T00:05:35.628Z"
   },
   {
    "duration": 8,
    "start_time": "2022-07-01T00:05:35.776Z"
   },
   {
    "duration": 13,
    "start_time": "2022-07-01T00:05:35.786Z"
   },
   {
    "duration": 230,
    "start_time": "2022-07-01T00:05:35.800Z"
   },
   {
    "duration": 266,
    "start_time": "2022-07-01T00:05:36.032Z"
   },
   {
    "duration": 6,
    "start_time": "2022-07-01T00:05:36.300Z"
   },
   {
    "duration": 8,
    "start_time": "2022-07-01T00:05:36.308Z"
   },
   {
    "duration": 4,
    "start_time": "2022-07-01T00:05:36.327Z"
   },
   {
    "duration": 207,
    "start_time": "2022-07-01T00:05:36.332Z"
   },
   {
    "duration": 12,
    "start_time": "2022-07-01T00:05:36.541Z"
   },
   {
    "duration": 6,
    "start_time": "2022-07-01T00:05:36.554Z"
   },
   {
    "duration": 11,
    "start_time": "2022-07-01T00:05:36.562Z"
   },
   {
    "duration": 10,
    "start_time": "2022-07-01T00:05:36.574Z"
   },
   {
    "duration": 324,
    "start_time": "2022-07-01T00:05:36.589Z"
   },
   {
    "duration": 141,
    "start_time": "2022-07-01T00:05:36.914Z"
   },
   {
    "duration": 512,
    "start_time": "2022-07-01T00:05:37.056Z"
   },
   {
    "duration": 485,
    "start_time": "2022-07-01T00:05:37.570Z"
   },
   {
    "duration": 58,
    "start_time": "2022-07-01T00:05:38.056Z"
   },
   {
    "duration": 33,
    "start_time": "2022-07-01T00:05:38.116Z"
   },
   {
    "duration": 4,
    "start_time": "2022-07-01T00:05:38.151Z"
   },
   {
    "duration": 11,
    "start_time": "2022-07-01T00:05:38.157Z"
   },
   {
    "duration": 7,
    "start_time": "2022-07-01T00:05:38.170Z"
   },
   {
    "duration": 47,
    "start_time": "2022-07-01T17:27:58.413Z"
   },
   {
    "duration": 1180,
    "start_time": "2022-07-01T17:28:04.410Z"
   },
   {
    "duration": 674,
    "start_time": "2022-07-01T17:28:05.592Z"
   },
   {
    "duration": 12,
    "start_time": "2022-07-01T17:28:06.267Z"
   },
   {
    "duration": 10,
    "start_time": "2022-07-01T17:28:06.280Z"
   },
   {
    "duration": 11,
    "start_time": "2022-07-01T17:28:06.292Z"
   },
   {
    "duration": 13,
    "start_time": "2022-07-01T17:28:06.304Z"
   },
   {
    "duration": 11,
    "start_time": "2022-07-01T17:28:06.319Z"
   },
   {
    "duration": 30,
    "start_time": "2022-07-01T17:28:06.331Z"
   },
   {
    "duration": 18,
    "start_time": "2022-07-01T17:28:06.363Z"
   },
   {
    "duration": 16,
    "start_time": "2022-07-01T17:28:06.383Z"
   },
   {
    "duration": 9,
    "start_time": "2022-07-01T17:28:06.401Z"
   },
   {
    "duration": 13,
    "start_time": "2022-07-01T17:28:06.412Z"
   },
   {
    "duration": 155,
    "start_time": "2022-07-01T17:28:06.426Z"
   },
   {
    "duration": 5,
    "start_time": "2022-07-01T17:28:06.584Z"
   },
   {
    "duration": 63,
    "start_time": "2022-07-01T17:28:06.590Z"
   },
   {
    "duration": 3,
    "start_time": "2022-07-01T17:28:06.655Z"
   },
   {
    "duration": 13,
    "start_time": "2022-07-01T17:28:06.659Z"
   },
   {
    "duration": 9,
    "start_time": "2022-07-01T17:28:06.673Z"
   },
   {
    "duration": 13,
    "start_time": "2022-07-01T17:28:06.683Z"
   },
   {
    "duration": 8,
    "start_time": "2022-07-01T17:28:06.698Z"
   },
   {
    "duration": 5,
    "start_time": "2022-07-01T17:28:06.707Z"
   },
   {
    "duration": 15,
    "start_time": "2022-07-01T17:28:06.714Z"
   },
   {
    "duration": 28,
    "start_time": "2022-07-01T17:28:06.731Z"
   },
   {
    "duration": 9,
    "start_time": "2022-07-01T17:28:06.761Z"
   },
   {
    "duration": 9,
    "start_time": "2022-07-01T17:28:06.771Z"
   },
   {
    "duration": 4,
    "start_time": "2022-07-01T17:28:06.781Z"
   },
   {
    "duration": 22,
    "start_time": "2022-07-01T17:28:06.787Z"
   },
   {
    "duration": 4,
    "start_time": "2022-07-01T17:28:06.811Z"
   },
   {
    "duration": 7,
    "start_time": "2022-07-01T17:28:06.817Z"
   },
   {
    "duration": 7,
    "start_time": "2022-07-01T17:28:06.826Z"
   },
   {
    "duration": 22,
    "start_time": "2022-07-01T17:28:06.834Z"
   },
   {
    "duration": 14,
    "start_time": "2022-07-01T17:28:06.857Z"
   },
   {
    "duration": 13,
    "start_time": "2022-07-01T17:28:06.873Z"
   },
   {
    "duration": 10,
    "start_time": "2022-07-01T17:28:06.887Z"
   },
   {
    "duration": 8,
    "start_time": "2022-07-01T17:28:06.898Z"
   },
   {
    "duration": 11,
    "start_time": "2022-07-01T17:28:06.907Z"
   },
   {
    "duration": 252,
    "start_time": "2022-07-01T17:28:06.920Z"
   },
   {
    "duration": 11,
    "start_time": "2022-07-01T17:28:07.174Z"
   },
   {
    "duration": 16513,
    "start_time": "2022-07-01T17:28:07.187Z"
   },
   {
    "duration": 4,
    "start_time": "2022-07-01T17:28:23.702Z"
   },
   {
    "duration": 12,
    "start_time": "2022-07-01T17:28:23.710Z"
   },
   {
    "duration": 10,
    "start_time": "2022-07-01T17:28:23.724Z"
   },
   {
    "duration": 13,
    "start_time": "2022-07-01T17:28:23.751Z"
   },
   {
    "duration": 170,
    "start_time": "2022-07-01T17:28:23.765Z"
   },
   {
    "duration": 16,
    "start_time": "2022-07-01T17:28:23.937Z"
   },
   {
    "duration": 6,
    "start_time": "2022-07-01T17:28:23.954Z"
   },
   {
    "duration": 7,
    "start_time": "2022-07-01T17:28:23.961Z"
   },
   {
    "duration": 84,
    "start_time": "2022-07-01T17:28:23.970Z"
   },
   {
    "duration": 6,
    "start_time": "2022-07-01T17:28:24.055Z"
   },
   {
    "duration": 7,
    "start_time": "2022-07-01T17:28:24.063Z"
   },
   {
    "duration": 149,
    "start_time": "2022-07-01T17:28:24.071Z"
   },
   {
    "duration": 142,
    "start_time": "2022-07-01T17:28:24.222Z"
   },
   {
    "duration": 16,
    "start_time": "2022-07-01T17:28:24.366Z"
   },
   {
    "duration": 149,
    "start_time": "2022-07-01T17:28:24.383Z"
   },
   {
    "duration": 147,
    "start_time": "2022-07-01T17:28:24.533Z"
   },
   {
    "duration": 28,
    "start_time": "2022-07-01T17:28:24.682Z"
   },
   {
    "duration": 224,
    "start_time": "2022-07-01T17:28:24.712Z"
   },
   {
    "duration": 4,
    "start_time": "2022-07-01T17:28:24.938Z"
   },
   {
    "duration": 171,
    "start_time": "2022-07-01T17:28:24.943Z"
   },
   {
    "duration": 73,
    "start_time": "2022-07-01T17:28:25.115Z"
   },
   {
    "duration": 14,
    "start_time": "2022-07-01T17:28:25.190Z"
   },
   {
    "duration": 21,
    "start_time": "2022-07-01T17:28:25.206Z"
   },
   {
    "duration": 8,
    "start_time": "2022-07-01T17:28:25.229Z"
   },
   {
    "duration": 261,
    "start_time": "2022-07-01T17:28:25.239Z"
   },
   {
    "duration": 4,
    "start_time": "2022-07-01T17:28:25.501Z"
   },
   {
    "duration": 107,
    "start_time": "2022-07-01T17:28:25.506Z"
   },
   {
    "duration": 8,
    "start_time": "2022-07-01T17:28:25.614Z"
   },
   {
    "duration": 12,
    "start_time": "2022-07-01T17:28:25.623Z"
   },
   {
    "duration": 150,
    "start_time": "2022-07-01T17:28:25.637Z"
   },
   {
    "duration": 9,
    "start_time": "2022-07-01T17:28:25.788Z"
   },
   {
    "duration": 10,
    "start_time": "2022-07-01T17:28:25.798Z"
   },
   {
    "duration": 231,
    "start_time": "2022-07-01T17:28:25.809Z"
   },
   {
    "duration": 238,
    "start_time": "2022-07-01T17:28:26.051Z"
   },
   {
    "duration": 6,
    "start_time": "2022-07-01T17:28:26.291Z"
   },
   {
    "duration": 8,
    "start_time": "2022-07-01T17:28:26.299Z"
   },
   {
    "duration": 5,
    "start_time": "2022-07-01T17:28:26.308Z"
   },
   {
    "duration": 230,
    "start_time": "2022-07-01T17:28:26.315Z"
   },
   {
    "duration": 14,
    "start_time": "2022-07-01T17:28:26.547Z"
   },
   {
    "duration": 7,
    "start_time": "2022-07-01T17:28:26.563Z"
   },
   {
    "duration": 11,
    "start_time": "2022-07-01T17:28:26.572Z"
   },
   {
    "duration": 8,
    "start_time": "2022-07-01T17:28:26.584Z"
   },
   {
    "duration": 356,
    "start_time": "2022-07-01T17:28:26.594Z"
   },
   {
    "duration": 156,
    "start_time": "2022-07-01T17:28:26.951Z"
   },
   {
    "duration": 536,
    "start_time": "2022-07-01T17:28:27.109Z"
   },
   {
    "duration": 559,
    "start_time": "2022-07-01T17:28:27.646Z"
   },
   {
    "duration": 73,
    "start_time": "2022-07-01T17:28:28.207Z"
   },
   {
    "duration": 24,
    "start_time": "2022-07-01T17:28:28.282Z"
   },
   {
    "duration": 5,
    "start_time": "2022-07-01T17:28:28.308Z"
   },
   {
    "duration": 9,
    "start_time": "2022-07-01T17:28:28.315Z"
   },
   {
    "duration": 28,
    "start_time": "2022-07-01T17:28:28.325Z"
   },
   {
    "duration": 5,
    "start_time": "2022-07-01T17:28:28.355Z"
   },
   {
    "duration": 8,
    "start_time": "2022-07-01T17:28:28.361Z"
   },
   {
    "duration": 14,
    "start_time": "2022-07-01T17:28:28.370Z"
   },
   {
    "duration": 106,
    "start_time": "2022-07-01T17:28:28.385Z"
   },
   {
    "duration": 0,
    "start_time": "2022-07-01T17:28:28.493Z"
   },
   {
    "duration": 0,
    "start_time": "2022-07-01T17:28:28.494Z"
   },
   {
    "duration": 0,
    "start_time": "2022-07-01T17:28:28.495Z"
   },
   {
    "duration": 0,
    "start_time": "2022-07-01T17:28:28.496Z"
   },
   {
    "duration": 0,
    "start_time": "2022-07-01T17:28:28.497Z"
   },
   {
    "duration": 1422,
    "start_time": "2022-07-01T17:28:52.387Z"
   },
   {
    "duration": 178,
    "start_time": "2022-07-01T17:28:56.522Z"
   },
   {
    "duration": 174,
    "start_time": "2022-07-01T17:29:14.716Z"
   },
   {
    "duration": 164,
    "start_time": "2022-07-01T17:29:19.028Z"
   },
   {
    "duration": 35,
    "start_time": "2022-07-01T17:29:21.532Z"
   },
   {
    "duration": 6,
    "start_time": "2022-07-01T17:31:50.879Z"
   },
   {
    "duration": 1172,
    "start_time": "2022-07-01T17:32:34.856Z"
   },
   {
    "duration": 363,
    "start_time": "2022-07-01T17:32:36.030Z"
   },
   {
    "duration": 13,
    "start_time": "2022-07-01T17:32:36.394Z"
   },
   {
    "duration": 11,
    "start_time": "2022-07-01T17:32:36.409Z"
   },
   {
    "duration": 9,
    "start_time": "2022-07-01T17:32:36.421Z"
   },
   {
    "duration": 10,
    "start_time": "2022-07-01T17:32:36.431Z"
   },
   {
    "duration": 11,
    "start_time": "2022-07-01T17:32:36.443Z"
   },
   {
    "duration": 25,
    "start_time": "2022-07-01T17:32:36.455Z"
   },
   {
    "duration": 17,
    "start_time": "2022-07-01T17:32:36.482Z"
   },
   {
    "duration": 18,
    "start_time": "2022-07-01T17:32:36.502Z"
   },
   {
    "duration": 11,
    "start_time": "2022-07-01T17:32:36.521Z"
   },
   {
    "duration": 11,
    "start_time": "2022-07-01T17:32:36.552Z"
   },
   {
    "duration": 130,
    "start_time": "2022-07-01T17:32:36.565Z"
   },
   {
    "duration": 6,
    "start_time": "2022-07-01T17:32:36.697Z"
   },
   {
    "duration": 72,
    "start_time": "2022-07-01T17:32:36.704Z"
   },
   {
    "duration": 3,
    "start_time": "2022-07-01T17:32:36.778Z"
   },
   {
    "duration": 11,
    "start_time": "2022-07-01T17:32:36.782Z"
   },
   {
    "duration": 12,
    "start_time": "2022-07-01T17:32:36.794Z"
   },
   {
    "duration": 9,
    "start_time": "2022-07-01T17:32:36.808Z"
   },
   {
    "duration": 7,
    "start_time": "2022-07-01T17:32:36.818Z"
   },
   {
    "duration": 5,
    "start_time": "2022-07-01T17:32:36.826Z"
   },
   {
    "duration": 34,
    "start_time": "2022-07-01T17:32:36.832Z"
   },
   {
    "duration": 9,
    "start_time": "2022-07-01T17:32:36.868Z"
   },
   {
    "duration": 8,
    "start_time": "2022-07-01T17:32:36.879Z"
   },
   {
    "duration": 8,
    "start_time": "2022-07-01T17:32:36.888Z"
   },
   {
    "duration": 6,
    "start_time": "2022-07-01T17:32:36.897Z"
   },
   {
    "duration": 14,
    "start_time": "2022-07-01T17:32:36.904Z"
   },
   {
    "duration": 19,
    "start_time": "2022-07-01T17:32:36.922Z"
   },
   {
    "duration": 10,
    "start_time": "2022-07-01T17:32:36.942Z"
   },
   {
    "duration": 10,
    "start_time": "2022-07-01T17:32:36.953Z"
   },
   {
    "duration": 6,
    "start_time": "2022-07-01T17:32:36.964Z"
   },
   {
    "duration": 11,
    "start_time": "2022-07-01T17:32:36.971Z"
   },
   {
    "duration": 19,
    "start_time": "2022-07-01T17:32:36.984Z"
   },
   {
    "duration": 9,
    "start_time": "2022-07-01T17:32:37.005Z"
   },
   {
    "duration": 8,
    "start_time": "2022-07-01T17:32:37.016Z"
   },
   {
    "duration": 27,
    "start_time": "2022-07-01T17:32:37.026Z"
   },
   {
    "duration": 235,
    "start_time": "2022-07-01T17:32:37.055Z"
   },
   {
    "duration": 12,
    "start_time": "2022-07-01T17:32:37.293Z"
   },
   {
    "duration": 16654,
    "start_time": "2022-07-01T17:32:37.306Z"
   },
   {
    "duration": 4,
    "start_time": "2022-07-01T17:32:53.962Z"
   },
   {
    "duration": 20,
    "start_time": "2022-07-01T17:32:53.967Z"
   },
   {
    "duration": 12,
    "start_time": "2022-07-01T17:32:53.989Z"
   },
   {
    "duration": 16,
    "start_time": "2022-07-01T17:32:54.003Z"
   },
   {
    "duration": 184,
    "start_time": "2022-07-01T17:32:54.021Z"
   },
   {
    "duration": 8,
    "start_time": "2022-07-01T17:32:54.206Z"
   },
   {
    "duration": 19,
    "start_time": "2022-07-01T17:32:54.216Z"
   },
   {
    "duration": 6,
    "start_time": "2022-07-01T17:32:54.237Z"
   },
   {
    "duration": 74,
    "start_time": "2022-07-01T17:32:54.244Z"
   },
   {
    "duration": 5,
    "start_time": "2022-07-01T17:32:54.319Z"
   },
   {
    "duration": 8,
    "start_time": "2022-07-01T17:32:54.326Z"
   },
   {
    "duration": 140,
    "start_time": "2022-07-01T17:32:54.335Z"
   },
   {
    "duration": 158,
    "start_time": "2022-07-01T17:32:54.477Z"
   },
   {
    "duration": 25,
    "start_time": "2022-07-01T17:32:54.637Z"
   },
   {
    "duration": 165,
    "start_time": "2022-07-01T17:32:54.664Z"
   },
   {
    "duration": 150,
    "start_time": "2022-07-01T17:32:54.831Z"
   },
   {
    "duration": 29,
    "start_time": "2022-07-01T17:32:54.983Z"
   },
   {
    "duration": 249,
    "start_time": "2022-07-01T17:32:55.015Z"
   },
   {
    "duration": 4,
    "start_time": "2022-07-01T17:32:55.267Z"
   },
   {
    "duration": 174,
    "start_time": "2022-07-01T17:32:55.273Z"
   },
   {
    "duration": 44,
    "start_time": "2022-07-01T17:32:55.452Z"
   },
   {
    "duration": 10,
    "start_time": "2022-07-01T17:32:55.497Z"
   },
   {
    "duration": 20,
    "start_time": "2022-07-01T17:32:55.508Z"
   },
   {
    "duration": 7,
    "start_time": "2022-07-01T17:32:55.530Z"
   },
   {
    "duration": 219,
    "start_time": "2022-07-01T17:32:55.538Z"
   },
   {
    "duration": 3,
    "start_time": "2022-07-01T17:32:55.760Z"
   },
   {
    "duration": 111,
    "start_time": "2022-07-01T17:32:55.764Z"
   },
   {
    "duration": 4,
    "start_time": "2022-07-01T17:32:55.877Z"
   },
   {
    "duration": 18,
    "start_time": "2022-07-01T17:32:55.882Z"
   },
   {
    "duration": 143,
    "start_time": "2022-07-01T17:32:55.901Z"
   },
   {
    "duration": 9,
    "start_time": "2022-07-01T17:32:56.052Z"
   },
   {
    "duration": 12,
    "start_time": "2022-07-01T17:32:56.063Z"
   },
   {
    "duration": 241,
    "start_time": "2022-07-01T17:32:56.077Z"
   },
   {
    "duration": 235,
    "start_time": "2022-07-01T17:32:56.320Z"
   },
   {
    "duration": 5,
    "start_time": "2022-07-01T17:32:56.557Z"
   },
   {
    "duration": 8,
    "start_time": "2022-07-01T17:32:56.564Z"
   },
   {
    "duration": 8,
    "start_time": "2022-07-01T17:32:56.573Z"
   },
   {
    "duration": 224,
    "start_time": "2022-07-01T17:32:56.583Z"
   },
   {
    "duration": 12,
    "start_time": "2022-07-01T17:32:56.809Z"
   },
   {
    "duration": 2,
    "start_time": "2022-07-01T17:32:56.823Z"
   },
   {
    "duration": 11,
    "start_time": "2022-07-01T17:32:56.826Z"
   },
   {
    "duration": 19,
    "start_time": "2022-07-01T17:32:56.838Z"
   },
   {
    "duration": 324,
    "start_time": "2022-07-01T17:32:56.861Z"
   },
   {
    "duration": 155,
    "start_time": "2022-07-01T17:32:57.187Z"
   },
   {
    "duration": 538,
    "start_time": "2022-07-01T17:32:57.344Z"
   },
   {
    "duration": 526,
    "start_time": "2022-07-01T17:32:57.884Z"
   },
   {
    "duration": 77,
    "start_time": "2022-07-01T17:32:58.412Z"
   },
   {
    "duration": 27,
    "start_time": "2022-07-01T17:32:58.490Z"
   },
   {
    "duration": 4,
    "start_time": "2022-07-01T17:32:58.519Z"
   },
   {
    "duration": 27,
    "start_time": "2022-07-01T17:32:58.525Z"
   },
   {
    "duration": 5,
    "start_time": "2022-07-01T17:32:58.553Z"
   },
   {
    "duration": 8,
    "start_time": "2022-07-01T17:32:58.559Z"
   },
   {
    "duration": 13,
    "start_time": "2022-07-01T17:32:58.568Z"
   },
   {
    "duration": 6,
    "start_time": "2022-07-01T17:32:58.583Z"
   },
   {
    "duration": 5,
    "start_time": "2022-07-01T17:32:58.591Z"
   },
   {
    "duration": 1541,
    "start_time": "2022-07-01T17:32:58.597Z"
   },
   {
    "duration": 208,
    "start_time": "2022-07-01T17:33:00.140Z"
   },
   {
    "duration": 192,
    "start_time": "2022-07-01T17:33:00.351Z"
   },
   {
    "duration": 183,
    "start_time": "2022-07-01T17:33:00.545Z"
   },
   {
    "duration": 36,
    "start_time": "2022-07-01T17:33:00.730Z"
   }
  ],
  "kernelspec": {
   "display_name": "Python 3 (ipykernel)",
   "language": "python",
   "name": "python3"
  },
  "language_info": {
   "codemirror_mode": {
    "name": "ipython",
    "version": 3
   },
   "file_extension": ".py",
   "mimetype": "text/x-python",
   "name": "python",
   "nbconvert_exporter": "python",
   "pygments_lexer": "ipython3",
   "version": "3.9.12"
  },
  "toc": {
   "base_numbering": 1,
   "nav_menu": {},
   "number_sections": true,
   "sideBar": true,
   "skip_h1_title": true,
   "title_cell": "Table of Contents",
   "title_sidebar": "Contents",
   "toc_cell": false,
   "toc_position": {
    "height": "calc(100% - 180px)",
    "left": "10px",
    "top": "150px",
    "width": "246.594px"
   },
   "toc_section_display": true,
   "toc_window_display": true
  }
 },
 "nbformat": 4,
 "nbformat_minor": 2
}
